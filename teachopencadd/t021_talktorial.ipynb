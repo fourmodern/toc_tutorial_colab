{
  "cells": [
    {
      "cell_type": "markdown",
      "metadata": {
        "id": "view-in-github",
        "colab_type": "text"
      },
      "source": [
        "<a href=\"https://colab.research.google.com/github/fourmodern/toc_tutorial_colab/blob/main/teachopencadd/t021_talktorial.ipynb\" target=\"_parent\"><img src=\"https://colab.research.google.com/assets/colab-badge.svg\" alt=\"Open In Colab\"/></a>"
      ]
    },
    {
      "cell_type": "markdown",
      "metadata": {
        "id": "qP-iPb8HVben"
      },
      "source": [
        "# T021 · One-Hot Encoding\n",
        "\n",
        "Developed in the CADD seminar 2020, Volkamer Lab, Charité/FU Berlin\n",
        "\n",
        "**Note:** This talktorial is a part of TeachOpenCADD, a platform that aims to teach domain-specific skills and to provide pipeline templates as starting points for research projects.\n",
        "\n",
        "Authors:\n",
        "\n",
        "- Sakshi Misra, CADD seminar 2020, Charité/FU Berlin\n",
        "- Talia B. Kimber, 2020, [Volkamer lab](https://volkamerlab.org), Charité\n",
        "- Yonghui Chen, 2020, [Volkamer lab](https://volkamerlab.org), Charité\n",
        "- Andrea Volkamer, 2020, [Volkamer lab](https://volkamerlab.org), Charité"
      ]
    },
    {
      "cell_type": "markdown",
      "metadata": {
        "id": "VM8nl8S3Vbeo"
      },
      "source": [
        "## Aim of this talktorial\n",
        "\n",
        "The aim of the talktorial is to perform one-hot encoding of SMILES structures on a subset of the ChEMBL data set to gain a deeper understanding on the one-hot encoding concept and why it is useful as a pre-processing step in various machine learning algorithms."
      ]
    },
    {
      "cell_type": "markdown",
      "metadata": {
        "id": "bonEoDNQVbeo"
      },
      "source": [
        "### Contents in *Theory*\n",
        "\n",
        "- Molecular data and representation\n",
        "    - ChEMBL database\n",
        "    - SMILES structures and rules\n",
        "- What is categorical data?\n",
        "     - What is the problem with categorical data?\n",
        "     - How to convert categorical data to numerical data?\n",
        "- The One-Hot Encoding (OHE) concept\n",
        "     - Why using one-hot encoding?\n",
        "     - Example of one-hot encoding\n",
        "     - Advantages and disadvantages of one-hot encoding\n",
        "- Similar: Integer or label encoding\n",
        "- What is *padding*?\n",
        "- Further readings"
      ]
    },
    {
      "cell_type": "markdown",
      "metadata": {
        "id": "JlKa7XOoVbeo"
      },
      "source": [
        "### Contents in *Practical*\n",
        "\n",
        "- Import necessary packages\n",
        "- Read the input data\n",
        "- Process the data\n",
        "     - Double digit replacement\n",
        "     - Compute longest (& shortest) SMILES\n",
        "- Python one-hot encoding implementation\n",
        "     - One-hot encode (padding=True)\n",
        "     - Visualization\n",
        "          - Shortest SMILES\n",
        "          - Longest SMILES\n",
        "- Supplementary material\n",
        "   - Scikit learn implementation\n",
        "   - Keras implementation"
      ]
    },
    {
      "cell_type": "markdown",
      "metadata": {
        "id": "MrqdPVd9Vbep"
      },
      "source": [
        "## References\n",
        "\n",
        "- Theoretical background:\n",
        "     - ChEMBL database: \"The ChEMBL bioactivity database: an update.\" ([<i>Nucleic acids research<i> (2014), <b>42.D1</b>, D1083-D1090](https://doi.org/10.1093/nar/gkt1031))\n",
        "     - Allen Chieng Hoon Choong, Nung Kion Lee, \"*Evaluation of Convolutionary Neural Networks Modeling of DNA Sequences using Ordinal versus one-hot Encoding Method*\", [bioRxiv, October 25, 2017](https://doi.org/10.1101/186965).\n",
        "     - Patricio Cerda, Gael Varoquaux, \"*Encoding high-cardinality string categorical variables*\", [arXiv:1907, 18 May 2020](https://arxiv.org/pdf/1907.01860v5.pdf).\n",
        "     - Blogpost: Jason Brownlee, *How to One Hot Encode Sequence Data in Python*, [Machine Learning Mastery, accessed November 9th, 2020](https://machinelearningmastery.com/how-to-one-hot-encode-sequence-data-in-python/).\n",
        "     - Blogpost: Krishna Kumar Mahto, *One-Hot-Encoding, Multicollinearity and the Dummy Variable Trap*, towardsdatascience, Available from [one-hot-encoding-multicollinearity](https://towardsdatascience.com/one-hot-encoding-multicollinearity-and-the-dummy-variable-trap-b5840be3c41a/), accessed July 8th, 2019.\n",
        "     - Blogpost: Chris, *What is padding in a neural network?*, archieved from MachineCurve, [Padding](https://github.com/christianversloot/machine-learning-articles/blob/main/what-is-padding-in-a-neural-network.md)\n",
        "     \n",
        "\n",
        "- Packages and functions:\n",
        "     - [**RDKit**](https://www.rdkit.org/docs/GettingStartedInPython.html): Greg Landrum,  *RDKit Documentation*, [PDF](https://buildmedia.readthedocs.org/media/pdf/rdkit/latest/rdkit.pdf), Release on 2019.09.1.\n",
        "     - [**Scikit-learn**](https://scikit-learn.org/stable/):\n",
        "        - [Scikit-learn: Machine Learning in Python](https://jmlr.csail.mit.edu/papers/v12/pedregosa11a.html), Pedregosa *et al.*, JMLR 12, pp. 2825-2830, 2011.\n",
        "        - Jiangang Hao, et al. \"A Review of Scikit-learn Package in Python Programming Language.\" [*Journal of Education and Behavioral Statistics* **Volume: 44 issue: 3** (2019), page(s): 348-361](https://doi.org/10.3102/1076998619832248)\n",
        "     - [**Keras**](https://keras.io/): Book chapter: \"An Introduction to Deep Learning and Keras\" in [*Learn Keras for Deep Neural Networks* (2019), **page(s):1-16**](https://doi.org/10.1007/978-1-4842-4240-7).\n",
        "     - [**Matplotlib**](https://matplotlib.org/)\n",
        "     - `smiles encoder` function: Blogpost by iwatobipen, *encode and decode SMILES strings* , [Wordpress, accessed November 9th, 2020](https://iwatobipen.wordpress.com/2017/01/22/encode-and-decode-smiles-strings/)"
      ]
    },
    {
      "cell_type": "markdown",
      "metadata": {
        "id": "TDlUfS8BVbep"
      },
      "source": [
        "## Theory"
      ]
    },
    {
      "cell_type": "markdown",
      "metadata": {
        "id": "AdjSwWbfVbep"
      },
      "source": [
        "### Molecular data and representation"
      ]
    },
    {
      "cell_type": "markdown",
      "metadata": {
        "id": "TO1JsT8uVbep"
      },
      "source": [
        "#### ChEMBL database\n",
        "\n",
        "- [ChEMBL](https://www.ebi.ac.uk/chembl/) is an open large-scale bioactivity database, containing molecules with drug-like properties.\n",
        "- The recent release (version 25) contains information extracted from  more than $72,000$ documents. In total, there are now more than $1.8$ million compounds and $15$ million bioactivity data points available.\n",
        "- It is maintained by [European Bioinformatics Institute](https://en.wikipedia.org/wiki/European_Bioinformatics_Institute). Please refer to __Talktorial T001__ for more details."
      ]
    },
    {
      "cell_type": "markdown",
      "metadata": {
        "id": "EJbD0-PwVbeq"
      },
      "source": [
        "#### SMILES structures and rules\n",
        "\n",
        "- [SMILES](https://en.wikipedia.org/wiki/Simplified_molecular-input_line-entry_system) (Simplified Molecular Input Line Entry System) notation is a chemical notation that allows a user to represent a chemical structure of a molecule in a linear way that can be read by the computer (see \"Modern Aspects of the Smiles Rearrangement\" (2017), [*Chemistry A European Journal*, **Volume23, Issue38**, 8992-9008](https://doi.org/10.1002/chem.201700353) for further information).\n",
        "- It contains a sequence of letters, numbers and characters that specify a molecule's atoms, their connectivity, bond order and chirality."
      ]
    },
    {
      "cell_type": "markdown",
      "metadata": {
        "id": "id4slebvVbeq"
      },
      "source": [
        "**Some SMILES specification rules**\n",
        "\n",
        "- **Atoms** - are represented by their atomic symbols. Also metal atoms are represented with symbols in square bracket, e.g. Gold `[Au]`.\n",
        "- **Bonds** - single, double and triple bonds are represented by symbols `-`, `=` and `#`, respectively. Single bonds are the default and therefore do not need to be specified.\n",
        "- **Aromaticity** - While atomic symbols are generally used in upper case, such as `C`, `O`, `S` and `N`; to specify aromatic atoms lower case symbols are used instead, such as `c`, `o`, `s` and `n`. Sometimes implicit bonds in rings (alternating `=` and `-`) are also used to describe aromatic atoms such as `C1=CC=CC=C1`.\n",
        "- **Rings** - SMILES allows a user to identify ring structures by using numbers to identify the opening and closing ring atom. For example, in `C1CCCCC1`, the first carbon has a number \"1\" which connects by a single bond with the last carbon which also has a number \"1\". The resulting structure is cyclohexane.\n",
        "- **Branches** - are specified by enclosing them in parentheses, and can be nested or arranged. For example, 2-Propanol is represented by `CC(O)C`."
      ]
    },
    {
      "cell_type": "markdown",
      "metadata": {
        "id": "lGEftm8iVbeq"
      },
      "source": [
        "### What is categorical data?\n",
        "\n",
        "Categorical data are variables that contain labels rather than numeric values.\n",
        "Some examples include:\n",
        "\n",
        "- A \"pet” variable with the values: \"dog” and \"cat\".\n",
        "- A \"color” variable with the values: \"red\", \"green” and \"blue\".\n",
        "- A \"place” variable with the values: \"first”, \"second” and \"third\"."
      ]
    },
    {
      "cell_type": "markdown",
      "metadata": {
        "id": "x9Xuh6r2Vbeq"
      },
      "source": [
        "#### What is the problem with categorical data?\n",
        "\n",
        "Machine learning consists of mathematical operations translated to a computer via low-level programming languages. Computers are brilliant when dealing with numbers. So we must somehow convert our input data to numbers.\n",
        "There are many machine learning algorithms which cannot operate on categorical data directly. Thus, categorical data must be converted to a numerical form, that all input and output variables are numeric (see [**Blogpost**](https://www.analyticsvidhya.com/blog/2020/03/one-hot-encoding-vs-label-encoding-using-scikit-learn/): Alakh Sethi, *One-Hot Encoding vs. Label Encoding using Scikit-Learn* , Analytics Vidya, accessed March 6th, 2020 for further information).\n",
        "\n",
        "![Computer data](https://github.com/volkamerlab/teachopencadd/blob/master/teachopencadd/talktorials/T021_one_hot_encoding/images/computer_data.jpeg?raw=1)\n",
        "\n",
        "*Figure 1*: Displays the categorical encoding required for computers to understand the input. The figure comes from this [blogpost](https://www.analyticsvidhya.com/blog/2020/03/one-hot-encoding-vs-label-encoding-using-scikit-learn/)."
      ]
    },
    {
      "cell_type": "markdown",
      "metadata": {
        "id": "HqwTbumPVbeq"
      },
      "source": [
        "#### How to convert categorical data to numerical data?\n",
        "\n",
        "There are many ways to convert categorical values into numerical values. Each approach has its own positive and negative impact on the feature set. Hereby, two main methods will be the focus: *One-hot* encoding and *Label* encoding.\n",
        "Both of these encoders are part of the [scikit-learn](https://scikit-learn.org/stable/modules/generated/sklearn.preprocessing.LabelEncoder.html) library (one of the most widely used Python libraries) and are used to convert text or categorical data into numerical data which the model expects and and can work with."
      ]
    },
    {
      "cell_type": "markdown",
      "metadata": {
        "id": "w4ihOgcCVbeq"
      },
      "source": [
        "### The *One-Hot Encoding* (OHE) concept\n",
        "\n",
        "The one-hot encoding is a vector representation where all the elements of the vector are set to `0` except one, which has `1` as its value. For example, `[0 0 0 1 0 0]` is a one-hot vector.\n",
        "Simply put, one-hot encoding, also known as binary encoding, is a binary representation of categorical variables as binary vectors.\n",
        "\n",
        "The figure shown below helps us gain an overall idea of the one-hot encoding concept.\n",
        "\n",
        "![One Hot encoding](https://github.com/volkamerlab/teachopencadd/blob/master/teachopencadd/talktorials/T021_one_hot_encoding/images/OneHotEncoding.png?raw=1)\n",
        "\n",
        "*Figure 2* : Displays the one-hot encoding of the toluene molecule. Figure taken from the article [<i>BMC Bioinformatics.</i> (2018), <b>19</b>,526](https://doi.org/10.1186/s12859-018-2523-5), more information can be found there.\n",
        "\n",
        "\n",
        "Let us take a deeper look into the concept with the help of a simple example that will describe the basic concept of one-hot encoding, why it is useful and how one can approach it."
      ]
    },
    {
      "cell_type": "markdown",
      "metadata": {
        "id": "zPKmhLaBVbeq"
      },
      "source": [
        "#### Why using one-hot encoding?\n",
        "\n",
        "One-hot encoding allows the representation of categorical data to be more expressive.\n",
        "It is difficult for many machine learning algorithms to work with categorical data directly that's why the label values which are categorical must be converted into numbers first as a preprocessing step. This is required for both input and output variables that are categorical.\n",
        "\n",
        "We could also use an *integer encoding* directly. This may work for problems where there is a natural ordinal relationship between the categories, and in turn the integer values, such as labels for temperature \"cold\", \"warm\", and \"hot\".\n",
        "There may be problems when there is no ordinal relationship and allowing the representation to lean on any such relationship by using integer encoding might be not useful to solve the problem. An example might be the labels \"dog\" and \"cat\"."
      ]
    },
    {
      "cell_type": "markdown",
      "metadata": {
        "id": "Vs47yc1aVber"
      },
      "source": [
        "#### Example of one-hot encoding\n",
        "\n",
        "Let us take a look at a very simple example to understand this concept. Assume we have the \"color\" variable which has three labels `red` , `blue` and `green`.\n",
        "All these labels must be converted into numeric form in order to work with our machine learning algorithm. This can be done by creating three new columns having all three labels and use `1` for the color of the respective label and `0` for the other colors as shown in Figure 4.\n",
        "\n",
        "![One Hot Encoding](https://github.com/volkamerlab/teachopencadd/blob/master/teachopencadd/talktorials/T021_one_hot_encoding/images/OneHotEncoding_eg.png?raw=1)\n",
        "\n",
        "*Figure 3* : The visual demonstration of one-hot encoding done on the variable \"color\". Figure taken from the article: \"*Building a One Hot Encoding Layer with TensorFlow*\", George Novack, [towardsdatascience](https://towardsdatascience.com/building-a-one-hot-encoding-layer-with-tensorflow-f907d686bf39), more details can be found there."
      ]
    },
    {
      "cell_type": "markdown",
      "metadata": {
        "id": "Mm9XGnMKVber"
      },
      "source": [
        "####  Advantages and disadvantages of one-hot encoding\n",
        "\n",
        "**Advantages**\n",
        "-  If the cardinality (the number of categories) of the categorical features is low (relative to the amount of data), one-hot encoding will work best.\n",
        "-  One-hot encoding has the advantage that the result is binary rather than ordinal and that everything sits in an orthogonal vector space.\n",
        "\n",
        "**Disadvantages**\n",
        "-  Increase in dimensionality, after adding several columns based on categorical variables which may result in an increase in the computational cost.\n",
        "- There is a high chance of multi-collinearity due to dummy variables (unique category added as a feature) which can affect the performance of the model.\n",
        "-  One-hot encoding can result in increasing the [sparsity](https://en.wikipedia.org/wiki/Sparse_matrix) of a data set (a sparse matrix is a matrix in which most of the elements are zero)."
      ]
    },
    {
      "cell_type": "markdown",
      "metadata": {
        "id": "_XQGqBszVber"
      },
      "source": [
        "### Similar: Integer or label encoding\n",
        "\n",
        "[Label Encoding](https://scikit-learn.org/stable/modules/generated/sklearn.preprocessing.LabelEncoder.html), or integer encoding, is a popular encoding technique for handling categorical variables and is easily reversible. In this technique, each label is assigned a unique integer based on alphabetical ordering, so that machines can work with it properly.\n",
        "Machine learning algorithms can then decide in a better way on how labels must be operated on.\n",
        "It is an important preprocessing step for structured data sets in supervised learning."
      ]
    },
    {
      "cell_type": "markdown",
      "metadata": {
        "id": "N2tPs2DlVber"
      },
      "source": [
        "**Example of integer encoding**\n",
        "\n",
        "Let us use a similar example as above: We have a color variable and we can assign `red` as `0`, `green` as `1`, and `blue` as `2` as shown in Figure 5.\n",
        "\n",
        "![OneHotEncoding Example](https://github.com/volkamerlab/teachopencadd/blob/master/teachopencadd/talktorials/T021_one_hot_encoding/images/label_encoding_example.png?raw=1)\n",
        "\n",
        "*Figure 5* : The visual demonstration of label encoding done on the variable \"color\". Figure taken from the article: \"*Know about Categorical Encoding, even New Ones!*\", Ahmed Othmen, [towardsdatascience](https://towardsdatascience.com/know-about-categorical-encoding-even-new-ones-c266227b9cbd), more details can be found there.\n"
      ]
    },
    {
      "cell_type": "markdown",
      "metadata": {
        "id": "D5unoLOyVber"
      },
      "source": [
        "**Difference between label and one-hot encoding**\n",
        "\n",
        "There is not much difference between these two encoding techniques, it mainly depends on the type of data and model used. For example, if we have categorical features which are not ordinal (dog or cat) then we can use one-hot encoding. Label encoding works best with ordinal data like `good=0, better=1, best=2`.\n",
        "Also when there are many categorical variables then it might be good to choose label encoding just to avoid high memory consumption and sparsity."
      ]
    },
    {
      "cell_type": "markdown",
      "metadata": {
        "id": "FI5LLNmjVber"
      },
      "source": [
        "### What is *padding*?\n",
        "\n",
        "Padding is used to add zeros to the resulted one-hot encoded matrix. There are different types of padding, we chose to performed zero padding in here. For more details, please refer to this [Article](https://github.com/christianversloot/machine-learning-articles/blob/main/what-is-padding-in-a-neural-network.md).\n",
        "\n",
        "**Why is it performed?**\n",
        "\n",
        "Padding is performed to make the dimensions of the matrix equal - or to preserve the height and the width - and to not have to worry too much about tensor dimensions when used as an input for the deep learning models.\n",
        "\n",
        "\n",
        "**How is it performed?**\n",
        "\n",
        "Padding can be performed by using the [numpy.pad](https://numpy.org/doc/stable/reference/generated/numpy.pad.html) function which takes several parameters like the `array` which needs to be padded, `pad_width` which is number of values added to the edges of each axis and `mode` which by default is \"constant\".\n",
        "\n",
        "In this talktorial, *padding* is performed\n",
        "\n",
        "- *implicitly*: when applying one-hot encoding using a python implementation on the preprocessed data, where we have given the maximum length of the string as the parameter so that all the resulting one-hot encoded matrices are of the same dimension\n",
        "- *explicitly*: More info on this can be found in the **supplementary section**, where we apply one-hot encoding using *keras* and *scikit-learn* implementations."
      ]
    },
    {
      "cell_type": "markdown",
      "metadata": {
        "id": "sUnK447jVber"
      },
      "source": [
        "### Further readings\n",
        "\n",
        "This section lists some resources for further reading:\n",
        "\n",
        "- [What is one-hot encoding and when is it used in data science?](https://www.quora.com/What-is-one-hot-encoding-and-when-is-it-used-in-data-science)\n",
        "- [Categorical encoding using Label-Encoding and One-Hot-Encoder](https://towardsdatascience.com/categorical-encoding-using-label-encoding-and-one-hot-encoder-911ef77fb5bd#:~:text=One%2DHot%20Encoding%20in%20Python&text=OneHotEncoder%20from%20SciKit%20library%20only,apply%20OneHotEncoder%20on%20column%20Bridge_Types_Cat.)\n",
        "- Hirohara, M., Saito, Y., Koda, Y. et al. Convolutional neural network based on SMILES representation of compounds for detecting chemical motif. [_BMC Bioinformatics_ **19**, 526 (2018)](https://doi.org/10.1186/s12859-018-2523-5)\n",
        "- [How one can use matplotlib.pyplot.imshow() in Python](https://www.geeksforgeeks.org/matplotlib-pyplot-imshow-in-python/)"
      ]
    },
    {
      "cell_type": "markdown",
      "metadata": {
        "id": "fDa_hTRTVber"
      },
      "source": [
        "## Practical"
      ]
    },
    {
      "cell_type": "markdown",
      "metadata": {
        "id": "mPV9PfcVVber"
      },
      "source": [
        "### Import necessary packages"
      ]
    },
    {
      "cell_type": "code",
      "source": [
        "pip install rdkit"
      ],
      "metadata": {
        "id": "OP92tETaVd_v",
        "outputId": "1ba046f4-d79b-4930-82d0-6e62d5a7607d",
        "colab": {
          "base_uri": "https://localhost:8080/"
        }
      },
      "execution_count": 1,
      "outputs": [
        {
          "output_type": "stream",
          "name": "stdout",
          "text": [
            "Collecting rdkit\n",
            "  Downloading rdkit-2024.3.5-cp310-cp310-manylinux_2_28_x86_64.whl.metadata (3.9 kB)\n",
            "Requirement already satisfied: numpy in /usr/local/lib/python3.10/dist-packages (from rdkit) (1.26.4)\n",
            "Requirement already satisfied: Pillow in /usr/local/lib/python3.10/dist-packages (from rdkit) (10.4.0)\n",
            "Downloading rdkit-2024.3.5-cp310-cp310-manylinux_2_28_x86_64.whl (33.1 MB)\n",
            "\u001b[2K   \u001b[90m━━━━━━━━━━━━━━━━━━━━━━━━━━━━━━━━━━━━━━━━\u001b[0m \u001b[32m33.1/33.1 MB\u001b[0m \u001b[31m11.7 MB/s\u001b[0m eta \u001b[36m0:00:00\u001b[0m\n",
            "\u001b[?25hInstalling collected packages: rdkit\n",
            "Successfully installed rdkit-2024.3.5\n"
          ]
        }
      ]
    },
    {
      "cell_type": "code",
      "execution_count": 2,
      "metadata": {
        "tags": [],
        "id": "M55P2HL4Vber"
      },
      "outputs": [],
      "source": [
        "from pathlib import Path\n",
        "from warnings import filterwarnings\n",
        "\n",
        "import pandas as pd\n",
        "import numpy as np\n",
        "from rdkit import Chem\n",
        "from rdkit.Chem import Draw, PandasTools\n",
        "from sklearn.preprocessing import LabelEncoder\n",
        "from sklearn.preprocessing import OneHotEncoder\n",
        "from tensorflow import keras\n",
        "from tensorflow.keras.utils import to_categorical\n",
        "from tensorflow.keras.preprocessing.text import Tokenizer\n",
        "import matplotlib.pyplot as plt\n",
        "\n",
        "# Silence some expected warnings\n",
        "filterwarnings(\"ignore\")"
      ]
    },
    {
      "cell_type": "code",
      "execution_count": 3,
      "metadata": {
        "tags": [],
        "id": "mbgiplqJVbes",
        "outputId": "ea9244a6-b190-4b0a-b6ad-91264d88a41b",
        "colab": {
          "base_uri": "https://localhost:8080/"
        }
      },
      "outputs": [
        {
          "output_type": "stream",
          "name": "stdout",
          "text": [
            "--2024-09-23 00:46:13--  https://github.com/volkamerlab/teachopencadd/raw/refs/heads/master/teachopencadd/talktorials/T021_one_hot_encoding/data/CHEMBL25_activities_EGFR.csv\n",
            "Resolving github.com (github.com)... 140.82.114.3\n",
            "Connecting to github.com (github.com)|140.82.114.3|:443... connected.\n",
            "HTTP request sent, awaiting response... 302 Found\n",
            "Location: https://raw.githubusercontent.com/volkamerlab/teachopencadd/refs/heads/master/teachopencadd/talktorials/T021_one_hot_encoding/data/CHEMBL25_activities_EGFR.csv [following]\n",
            "--2024-09-23 00:46:14--  https://raw.githubusercontent.com/volkamerlab/teachopencadd/refs/heads/master/teachopencadd/talktorials/T021_one_hot_encoding/data/CHEMBL25_activities_EGFR.csv\n",
            "Resolving raw.githubusercontent.com (raw.githubusercontent.com)... 185.199.110.133, 185.199.108.133, 185.199.109.133, ...\n",
            "Connecting to raw.githubusercontent.com (raw.githubusercontent.com)|185.199.110.133|:443... connected.\n",
            "HTTP request sent, awaiting response... 200 OK\n",
            "Length: 357605 (349K) [text/plain]\n",
            "Saving to: ‘/content/data/CHEMBL25_activities_EGFR.csv’\n",
            "\n",
            "CHEMBL25_activities 100%[===================>] 349.22K  --.-KB/s    in 0.03s   \n",
            "\n",
            "2024-09-23 00:46:14 (11.1 MB/s) - ‘/content/data/CHEMBL25_activities_EGFR.csv’ saved [357605/357605]\n",
            "\n"
          ]
        }
      ],
      "source": [
        "# Set path to this notebook\n",
        "HERE = Path(_dh[-1])\n",
        "DATA = HERE / \"data\"\n",
        "!wget https://github.com/volkamerlab/teachopencadd/raw/refs/heads/master/teachopencadd/talktorials/T021_one_hot_encoding/data/CHEMBL25_activities_EGFR.csv -P {DATA}"
      ]
    },
    {
      "cell_type": "markdown",
      "metadata": {
        "id": "VQS06TjdVbes"
      },
      "source": [
        "### Read the input data\n",
        "\n",
        "Using the Pandas library, we first load the subset of the ChEMBL data set and draw the molecules using the `rdkit.draw` function. We then preprocess the data and apply our `one-hot encoding` python implementation.\n",
        "\n",
        "Let's load the data and quickly analyze its column values and check if there are any missing values:"
      ]
    },
    {
      "cell_type": "code",
      "execution_count": 4,
      "metadata": {
        "tags": [],
        "id": "efX4qM35Vbes",
        "outputId": "419e3bfb-57a6-4d2a-a617-ae18dabd2c53",
        "colab": {
          "base_uri": "https://localhost:8080/"
        }
      },
      "outputs": [
        {
          "output_type": "stream",
          "name": "stdout",
          "text": [
            "Shape of dataframe: (3905, 5)\n",
            "\n"
          ]
        }
      ],
      "source": [
        "df = pd.read_csv(DATA / \"CHEMBL25_activities_EGFR.csv\", index_col=0).reset_index(drop=True)\n",
        "print(f\"Shape of dataframe: {df.shape}\\n\")\n",
        "# NBVAL_CHECK_OUTPUT"
      ]
    },
    {
      "cell_type": "markdown",
      "metadata": {
        "id": "eWIt9JUBVbes"
      },
      "source": [
        "Check the dimension and missing value of the data"
      ]
    },
    {
      "cell_type": "code",
      "execution_count": 5,
      "metadata": {
        "tags": [],
        "id": "xRfDNUNjVbes",
        "outputId": "b8370c70-b2c2-4a05-c8c2-005adae6c79c",
        "colab": {
          "base_uri": "https://localhost:8080/"
        }
      },
      "outputs": [
        {
          "output_type": "stream",
          "name": "stdout",
          "text": [
            "<class 'pandas.core.frame.DataFrame'>\n",
            "RangeIndex: 3905 entries, 0 to 3904\n",
            "Data columns (total 5 columns):\n",
            " #   Column            Non-Null Count  Dtype  \n",
            "---  ------            --------------  -----  \n",
            " 0   chembl_id         3905 non-null   object \n",
            " 1   IC50              3905 non-null   float64\n",
            " 2   units             3905 non-null   object \n",
            " 3   canonical_smiles  3905 non-null   object \n",
            " 4   pIC50             3905 non-null   float64\n",
            "dtypes: float64(2), object(3)\n",
            "memory usage: 152.7+ KB\n"
          ]
        }
      ],
      "source": [
        "df.info()"
      ]
    },
    {
      "cell_type": "markdown",
      "metadata": {
        "id": "FbGDSQMxVbet"
      },
      "source": [
        "Look at the first 3 rows"
      ]
    },
    {
      "cell_type": "code",
      "execution_count": 6,
      "metadata": {
        "tags": [],
        "id": "farvxy-kVbet",
        "outputId": "d31a263c-cc99-4fa1-c42a-7ee94d8f003f",
        "colab": {
          "base_uri": "https://localhost:8080/",
          "height": 143
        }
      },
      "outputs": [
        {
          "output_type": "execute_result",
          "data": {
            "text/plain": [
              "       chembl_id   IC50 units  \\\n",
              "0   CHEMBL207869   77.0    nM   \n",
              "1  CHEMBL3940060  330.0    nM   \n",
              "2  CHEMBL3678951    1.0    nM   \n",
              "\n",
              "                                    canonical_smiles     pIC50  \n",
              "0  Clc1c(OCc2cc(F)ccc2)ccc(Nc2c(C#Cc3ncccn3)cncn2)c1  7.113509  \n",
              "1  ClCC(=O)OCCN1C(=O)Oc2c1cc1c(Nc3cc(Cl)c(F)cc3)n...  6.481486  \n",
              "2  FC(F)(F)c1cc(Nc2n(C(C)C)c3nc(Nc4ccc(N5CC[NH+](...  9.000000  "
            ],
            "text/html": [
              "\n",
              "  <div id=\"df-b42250a4-a1da-444a-85cd-3f672621fbda\" class=\"colab-df-container\">\n",
              "    <div>\n",
              "<style scoped>\n",
              "    .dataframe tbody tr th:only-of-type {\n",
              "        vertical-align: middle;\n",
              "    }\n",
              "\n",
              "    .dataframe tbody tr th {\n",
              "        vertical-align: top;\n",
              "    }\n",
              "\n",
              "    .dataframe thead th {\n",
              "        text-align: right;\n",
              "    }\n",
              "</style>\n",
              "<table border=\"1\" class=\"dataframe\">\n",
              "  <thead>\n",
              "    <tr style=\"text-align: right;\">\n",
              "      <th></th>\n",
              "      <th>chembl_id</th>\n",
              "      <th>IC50</th>\n",
              "      <th>units</th>\n",
              "      <th>canonical_smiles</th>\n",
              "      <th>pIC50</th>\n",
              "    </tr>\n",
              "  </thead>\n",
              "  <tbody>\n",
              "    <tr>\n",
              "      <th>0</th>\n",
              "      <td>CHEMBL207869</td>\n",
              "      <td>77.0</td>\n",
              "      <td>nM</td>\n",
              "      <td>Clc1c(OCc2cc(F)ccc2)ccc(Nc2c(C#Cc3ncccn3)cncn2)c1</td>\n",
              "      <td>7.113509</td>\n",
              "    </tr>\n",
              "    <tr>\n",
              "      <th>1</th>\n",
              "      <td>CHEMBL3940060</td>\n",
              "      <td>330.0</td>\n",
              "      <td>nM</td>\n",
              "      <td>ClCC(=O)OCCN1C(=O)Oc2c1cc1c(Nc3cc(Cl)c(F)cc3)n...</td>\n",
              "      <td>6.481486</td>\n",
              "    </tr>\n",
              "    <tr>\n",
              "      <th>2</th>\n",
              "      <td>CHEMBL3678951</td>\n",
              "      <td>1.0</td>\n",
              "      <td>nM</td>\n",
              "      <td>FC(F)(F)c1cc(Nc2n(C(C)C)c3nc(Nc4ccc(N5CC[NH+](...</td>\n",
              "      <td>9.000000</td>\n",
              "    </tr>\n",
              "  </tbody>\n",
              "</table>\n",
              "</div>\n",
              "    <div class=\"colab-df-buttons\">\n",
              "\n",
              "  <div class=\"colab-df-container\">\n",
              "    <button class=\"colab-df-convert\" onclick=\"convertToInteractive('df-b42250a4-a1da-444a-85cd-3f672621fbda')\"\n",
              "            title=\"Convert this dataframe to an interactive table.\"\n",
              "            style=\"display:none;\">\n",
              "\n",
              "  <svg xmlns=\"http://www.w3.org/2000/svg\" height=\"24px\" viewBox=\"0 -960 960 960\">\n",
              "    <path d=\"M120-120v-720h720v720H120Zm60-500h600v-160H180v160Zm220 220h160v-160H400v160Zm0 220h160v-160H400v160ZM180-400h160v-160H180v160Zm440 0h160v-160H620v160ZM180-180h160v-160H180v160Zm440 0h160v-160H620v160Z\"/>\n",
              "  </svg>\n",
              "    </button>\n",
              "\n",
              "  <style>\n",
              "    .colab-df-container {\n",
              "      display:flex;\n",
              "      gap: 12px;\n",
              "    }\n",
              "\n",
              "    .colab-df-convert {\n",
              "      background-color: #E8F0FE;\n",
              "      border: none;\n",
              "      border-radius: 50%;\n",
              "      cursor: pointer;\n",
              "      display: none;\n",
              "      fill: #1967D2;\n",
              "      height: 32px;\n",
              "      padding: 0 0 0 0;\n",
              "      width: 32px;\n",
              "    }\n",
              "\n",
              "    .colab-df-convert:hover {\n",
              "      background-color: #E2EBFA;\n",
              "      box-shadow: 0px 1px 2px rgba(60, 64, 67, 0.3), 0px 1px 3px 1px rgba(60, 64, 67, 0.15);\n",
              "      fill: #174EA6;\n",
              "    }\n",
              "\n",
              "    .colab-df-buttons div {\n",
              "      margin-bottom: 4px;\n",
              "    }\n",
              "\n",
              "    [theme=dark] .colab-df-convert {\n",
              "      background-color: #3B4455;\n",
              "      fill: #D2E3FC;\n",
              "    }\n",
              "\n",
              "    [theme=dark] .colab-df-convert:hover {\n",
              "      background-color: #434B5C;\n",
              "      box-shadow: 0px 1px 3px 1px rgba(0, 0, 0, 0.15);\n",
              "      filter: drop-shadow(0px 1px 2px rgba(0, 0, 0, 0.3));\n",
              "      fill: #FFFFFF;\n",
              "    }\n",
              "  </style>\n",
              "\n",
              "    <script>\n",
              "      const buttonEl =\n",
              "        document.querySelector('#df-b42250a4-a1da-444a-85cd-3f672621fbda button.colab-df-convert');\n",
              "      buttonEl.style.display =\n",
              "        google.colab.kernel.accessAllowed ? 'block' : 'none';\n",
              "\n",
              "      async function convertToInteractive(key) {\n",
              "        const element = document.querySelector('#df-b42250a4-a1da-444a-85cd-3f672621fbda');\n",
              "        const dataTable =\n",
              "          await google.colab.kernel.invokeFunction('convertToInteractive',\n",
              "                                                    [key], {});\n",
              "        if (!dataTable) return;\n",
              "\n",
              "        const docLinkHtml = 'Like what you see? Visit the ' +\n",
              "          '<a target=\"_blank\" href=https://colab.research.google.com/notebooks/data_table.ipynb>data table notebook</a>'\n",
              "          + ' to learn more about interactive tables.';\n",
              "        element.innerHTML = '';\n",
              "        dataTable['output_type'] = 'display_data';\n",
              "        await google.colab.output.renderOutput(dataTable, element);\n",
              "        const docLink = document.createElement('div');\n",
              "        docLink.innerHTML = docLinkHtml;\n",
              "        element.appendChild(docLink);\n",
              "      }\n",
              "    </script>\n",
              "  </div>\n",
              "\n",
              "\n",
              "<div id=\"df-107d5987-08f7-4a4f-8ddc-14004ccfcdb4\">\n",
              "  <button class=\"colab-df-quickchart\" onclick=\"quickchart('df-107d5987-08f7-4a4f-8ddc-14004ccfcdb4')\"\n",
              "            title=\"Suggest charts\"\n",
              "            style=\"display:none;\">\n",
              "\n",
              "<svg xmlns=\"http://www.w3.org/2000/svg\" height=\"24px\"viewBox=\"0 0 24 24\"\n",
              "     width=\"24px\">\n",
              "    <g>\n",
              "        <path d=\"M19 3H5c-1.1 0-2 .9-2 2v14c0 1.1.9 2 2 2h14c1.1 0 2-.9 2-2V5c0-1.1-.9-2-2-2zM9 17H7v-7h2v7zm4 0h-2V7h2v10zm4 0h-2v-4h2v4z\"/>\n",
              "    </g>\n",
              "</svg>\n",
              "  </button>\n",
              "\n",
              "<style>\n",
              "  .colab-df-quickchart {\n",
              "      --bg-color: #E8F0FE;\n",
              "      --fill-color: #1967D2;\n",
              "      --hover-bg-color: #E2EBFA;\n",
              "      --hover-fill-color: #174EA6;\n",
              "      --disabled-fill-color: #AAA;\n",
              "      --disabled-bg-color: #DDD;\n",
              "  }\n",
              "\n",
              "  [theme=dark] .colab-df-quickchart {\n",
              "      --bg-color: #3B4455;\n",
              "      --fill-color: #D2E3FC;\n",
              "      --hover-bg-color: #434B5C;\n",
              "      --hover-fill-color: #FFFFFF;\n",
              "      --disabled-bg-color: #3B4455;\n",
              "      --disabled-fill-color: #666;\n",
              "  }\n",
              "\n",
              "  .colab-df-quickchart {\n",
              "    background-color: var(--bg-color);\n",
              "    border: none;\n",
              "    border-radius: 50%;\n",
              "    cursor: pointer;\n",
              "    display: none;\n",
              "    fill: var(--fill-color);\n",
              "    height: 32px;\n",
              "    padding: 0;\n",
              "    width: 32px;\n",
              "  }\n",
              "\n",
              "  .colab-df-quickchart:hover {\n",
              "    background-color: var(--hover-bg-color);\n",
              "    box-shadow: 0 1px 2px rgba(60, 64, 67, 0.3), 0 1px 3px 1px rgba(60, 64, 67, 0.15);\n",
              "    fill: var(--button-hover-fill-color);\n",
              "  }\n",
              "\n",
              "  .colab-df-quickchart-complete:disabled,\n",
              "  .colab-df-quickchart-complete:disabled:hover {\n",
              "    background-color: var(--disabled-bg-color);\n",
              "    fill: var(--disabled-fill-color);\n",
              "    box-shadow: none;\n",
              "  }\n",
              "\n",
              "  .colab-df-spinner {\n",
              "    border: 2px solid var(--fill-color);\n",
              "    border-color: transparent;\n",
              "    border-bottom-color: var(--fill-color);\n",
              "    animation:\n",
              "      spin 1s steps(1) infinite;\n",
              "  }\n",
              "\n",
              "  @keyframes spin {\n",
              "    0% {\n",
              "      border-color: transparent;\n",
              "      border-bottom-color: var(--fill-color);\n",
              "      border-left-color: var(--fill-color);\n",
              "    }\n",
              "    20% {\n",
              "      border-color: transparent;\n",
              "      border-left-color: var(--fill-color);\n",
              "      border-top-color: var(--fill-color);\n",
              "    }\n",
              "    30% {\n",
              "      border-color: transparent;\n",
              "      border-left-color: var(--fill-color);\n",
              "      border-top-color: var(--fill-color);\n",
              "      border-right-color: var(--fill-color);\n",
              "    }\n",
              "    40% {\n",
              "      border-color: transparent;\n",
              "      border-right-color: var(--fill-color);\n",
              "      border-top-color: var(--fill-color);\n",
              "    }\n",
              "    60% {\n",
              "      border-color: transparent;\n",
              "      border-right-color: var(--fill-color);\n",
              "    }\n",
              "    80% {\n",
              "      border-color: transparent;\n",
              "      border-right-color: var(--fill-color);\n",
              "      border-bottom-color: var(--fill-color);\n",
              "    }\n",
              "    90% {\n",
              "      border-color: transparent;\n",
              "      border-bottom-color: var(--fill-color);\n",
              "    }\n",
              "  }\n",
              "</style>\n",
              "\n",
              "  <script>\n",
              "    async function quickchart(key) {\n",
              "      const quickchartButtonEl =\n",
              "        document.querySelector('#' + key + ' button');\n",
              "      quickchartButtonEl.disabled = true;  // To prevent multiple clicks.\n",
              "      quickchartButtonEl.classList.add('colab-df-spinner');\n",
              "      try {\n",
              "        const charts = await google.colab.kernel.invokeFunction(\n",
              "            'suggestCharts', [key], {});\n",
              "      } catch (error) {\n",
              "        console.error('Error during call to suggestCharts:', error);\n",
              "      }\n",
              "      quickchartButtonEl.classList.remove('colab-df-spinner');\n",
              "      quickchartButtonEl.classList.add('colab-df-quickchart-complete');\n",
              "    }\n",
              "    (() => {\n",
              "      let quickchartButtonEl =\n",
              "        document.querySelector('#df-107d5987-08f7-4a4f-8ddc-14004ccfcdb4 button');\n",
              "      quickchartButtonEl.style.display =\n",
              "        google.colab.kernel.accessAllowed ? 'block' : 'none';\n",
              "    })();\n",
              "  </script>\n",
              "</div>\n",
              "\n",
              "    </div>\n",
              "  </div>\n"
            ],
            "application/vnd.google.colaboratory.intrinsic+json": {
              "type": "dataframe",
              "summary": "{\n  \"name\": \"# NBVAL_CHECK_OUTPUT\",\n  \"rows\": 3,\n  \"fields\": [\n    {\n      \"column\": \"chembl_id\",\n      \"properties\": {\n        \"dtype\": \"string\",\n        \"num_unique_values\": 3,\n        \"samples\": [\n          \"CHEMBL207869\",\n          \"CHEMBL3940060\",\n          \"CHEMBL3678951\"\n        ],\n        \"semantic_type\": \"\",\n        \"description\": \"\"\n      }\n    },\n    {\n      \"column\": \"IC50\",\n      \"properties\": {\n        \"dtype\": \"number\",\n        \"std\": 172.25272131377199,\n        \"min\": 1.0,\n        \"max\": 330.0,\n        \"num_unique_values\": 3,\n        \"samples\": [\n          77.0,\n          330.0,\n          1.0\n        ],\n        \"semantic_type\": \"\",\n        \"description\": \"\"\n      }\n    },\n    {\n      \"column\": \"units\",\n      \"properties\": {\n        \"dtype\": \"category\",\n        \"num_unique_values\": 1,\n        \"samples\": [\n          \"nM\"\n        ],\n        \"semantic_type\": \"\",\n        \"description\": \"\"\n      }\n    },\n    {\n      \"column\": \"canonical_smiles\",\n      \"properties\": {\n        \"dtype\": \"string\",\n        \"num_unique_values\": 3,\n        \"samples\": [\n          \"Clc1c(OCc2cc(F)ccc2)ccc(Nc2c(C#Cc3ncccn3)cncn2)c1\"\n        ],\n        \"semantic_type\": \"\",\n        \"description\": \"\"\n      }\n    },\n    {\n      \"column\": \"pIC50\",\n      \"properties\": {\n        \"dtype\": \"number\",\n        \"std\": 1.310293535321624,\n        \"min\": 6.4814858,\n        \"max\": 9.0,\n        \"num_unique_values\": 3,\n        \"samples\": [\n          7.1135092\n        ],\n        \"semantic_type\": \"\",\n        \"description\": \"\"\n      }\n    }\n  ]\n}"
            }
          },
          "metadata": {},
          "execution_count": 6
        }
      ],
      "source": [
        "df.head(3)\n",
        "# NBVAL_CHECK_OUTPUT"
      ]
    },
    {
      "cell_type": "markdown",
      "metadata": {
        "id": "cjsMJz5CVbet"
      },
      "source": [
        "Select the columns which are necessary for our study"
      ]
    },
    {
      "cell_type": "code",
      "execution_count": 7,
      "metadata": {
        "tags": [],
        "id": "Aauii9p8Vbet"
      },
      "outputs": [],
      "source": [
        "df = df[[\"chembl_id\", \"canonical_smiles\"]]"
      ]
    },
    {
      "cell_type": "markdown",
      "metadata": {
        "id": "YXdD6F5qVbet"
      },
      "source": [
        "We can visualize the molecules with their ChEMBL ID using pandas tools and the `draw` method as shown below."
      ]
    },
    {
      "cell_type": "code",
      "execution_count": 8,
      "metadata": {
        "tags": [
          "nbsphinx-thumbnail"
        ],
        "id": "Gmm0lc8fVbet",
        "outputId": "3102cae3-f4c8-4efe-9662-ee64a1e3bb06",
        "colab": {
          "base_uri": "https://localhost:8080/",
          "height": 417
        }
      },
      "outputs": [
        {
          "output_type": "execute_result",
          "data": {
            "image/png": "[encoded data removed]",
            "text/plain": [
              "<IPython.core.display.Image object>"
            ]
          },
          "metadata": {},
          "execution_count": 8
        }
      ],
      "source": [
        "# Using PandasTools and the respective Draw method\n",
        "PandasTools.AddMoleculeColumnToFrame(df, smilesCol=\"canonical_smiles\", molCol=\"Mol2D\")\n",
        "Draw.MolsToGridImage(list(df.Mol2D[0:10]), legends=list(df.chembl_id[0:20]), molsPerRow=5)"
      ]
    },
    {
      "cell_type": "markdown",
      "metadata": {
        "id": "atwCe9FgVbet"
      },
      "source": [
        "### Process the data\n",
        "\n",
        "SMILES preprocessing: Since in SMILES representation, atoms can be described by one or two characters (depending on the periodic element they represent) while the machine will read the input position-wise, we convert the SMILES in a chemical-aware representation.\n",
        "\n",
        "- First, we search for all unique characters present in the current data set, which allows us to remove the characters which are not present in the current data.\n",
        "\n",
        "- Second, we search for all double-character elements in our SMILES data set by comparing the atoms present in our strings with all the possible elements present in the periodic table and replacing all the two alphabetic elements by *artificially* selected characters, for example changing `Cl` to `L`.\n",
        "\n",
        "For padding:\n",
        "\n",
        "- SMILES strings have unequal dimension since their string length differ. For machine learning application, having equal dimension throughout the data set is required. In order to achieve this, we can first search for the SMILES string with the maximum length (e.g. [len()](https://www.geeksforgeeks.org/python-string-length-len/) method) and pass it as an argument in our function for all the strings."
      ]
    },
    {
      "cell_type": "markdown",
      "metadata": {
        "id": "EoNNbz21Vbet"
      },
      "source": [
        "#### Double digit replacement"
      ]
    },
    {
      "cell_type": "code",
      "execution_count": 9,
      "metadata": {
        "tags": [],
        "id": "b68Ss-cKVbet"
      },
      "outputs": [],
      "source": [
        "def assess_two_letter_elements(df):\n",
        "    \"\"\"\n",
        "    Find the two letter elements in dataframe.\n",
        "\n",
        "    Parameters\n",
        "    ----------\n",
        "    df : pandas.DataFrame\n",
        "        Dataframe which requires preprocessing.\n",
        "\n",
        "    Returns\n",
        "    -------\n",
        "    two_letter_elements : list\n",
        "        List with found two letter elements\n",
        "    \"\"\"\n",
        "\n",
        "    # Search for unique characters in SMILES strings\n",
        "    unique_chars = set(df.canonical_smiles.apply(list).sum())\n",
        "    # Get upper and lower case letters only\n",
        "    upper_chars = []\n",
        "    lower_chars = []\n",
        "    for entry in unique_chars:\n",
        "        if entry.isalpha():\n",
        "            if entry.isupper():\n",
        "                upper_chars.append(entry)\n",
        "            elif entry.islower():\n",
        "                lower_chars.append(entry)\n",
        "    print(f\"Upper letter characters {sorted(upper_chars)}\")\n",
        "    print(f\"Lower letter characters {sorted(lower_chars)}\")\n",
        "\n",
        "    # List of all possible periodic elements\n",
        "    periodic_elements = [\n",
        "        \"Ac\",\n",
        "        \"Al\",\n",
        "        \"Am\",\n",
        "        \"Sb\",\n",
        "        \"Ar\",\n",
        "        \"As\",\n",
        "        \"At\",\n",
        "        \"Ba\",\n",
        "        \"Bk\",\n",
        "        \"Be\",\n",
        "        \"Bi\",\n",
        "        \"Bh\",\n",
        "        \"B\",\n",
        "        \"Br\",\n",
        "        \"Cd\",\n",
        "        \"Ca\",\n",
        "        \"Cf\",\n",
        "        \"C\",\n",
        "        \"Ce\",\n",
        "        \"Cs\",\n",
        "        \"Cl\",\n",
        "        \"Cr\",\n",
        "        \"Co\",\n",
        "        \"Cn\",\n",
        "        \"Cu\",\n",
        "        \"Cm\",\n",
        "        \"Ds\",\n",
        "        \"Db\",\n",
        "        \"Dy\",\n",
        "        \"Es\",\n",
        "        \"Er\",\n",
        "        \"Eu\",\n",
        "        \"Fm\",\n",
        "        \"Fl\",\n",
        "        \"F\",\n",
        "        \"Fr\",\n",
        "        \"Gd\",\n",
        "        \"Ga\",\n",
        "        \"Ge\",\n",
        "        \"Au\",\n",
        "        \"Hf\",\n",
        "        \"Hs\",\n",
        "        \"He\",\n",
        "        \"Ho\",\n",
        "        \"H\",\n",
        "        \"In\",\n",
        "        \"I\",\n",
        "        \"Ir\",\n",
        "        \"Fe\",\n",
        "        \"Kr\",\n",
        "        \"La\",\n",
        "        \"Lr\",\n",
        "        \"Pb\",\n",
        "        \"Li\",\n",
        "        \"Lv\",\n",
        "        \"Lu\",\n",
        "        \"Mg\",\n",
        "        \"Mn\",\n",
        "        \"Mt\",\n",
        "        \"Md\",\n",
        "        \"Hg\",\n",
        "        \"Mo\",\n",
        "        \"Mc\",\n",
        "        \"Nd\",\n",
        "        \"Ne\",\n",
        "        \"Np\",\n",
        "        \"Ni\",\n",
        "        \"Nh\",\n",
        "        \"Nb\",\n",
        "        \"N\",\n",
        "        \"No\",\n",
        "        \"Og\",\n",
        "        \"Os\",\n",
        "        \"O\",\n",
        "        \"Pd\",\n",
        "        \"P\",\n",
        "        \"Pt\",\n",
        "        \"Pu\",\n",
        "        \"Po\",\n",
        "        \"K\",\n",
        "        \"Pr\",\n",
        "        \"Pm\",\n",
        "        \"Pa\",\n",
        "        \"Ra\",\n",
        "        \"Rn\",\n",
        "        \"Re\",\n",
        "        \"Rh\",\n",
        "        \"Rg\",\n",
        "        \"Rb\",\n",
        "        \"Ru\",\n",
        "        \"Rf\",\n",
        "        \"Sm\",\n",
        "        \"Sc\",\n",
        "        \"Sg\",\n",
        "        \"Se\",\n",
        "        \"Si\",\n",
        "        \"Ag\",\n",
        "        \"Na\",\n",
        "        \"Sr\",\n",
        "        \"S\",\n",
        "        \"Ta\",\n",
        "        \"Tc\",\n",
        "        \"Te\",\n",
        "        \"Ts\",\n",
        "        \"Tb\",\n",
        "        \"Tl\",\n",
        "        \"Th\",\n",
        "        \"Tm\",\n",
        "        \"Sn\",\n",
        "        \"Ti\",\n",
        "        \"W\",\n",
        "        \"U\",\n",
        "        \"V\",\n",
        "        \"Xe\",\n",
        "        \"Yb\",\n",
        "        \"Y\",\n",
        "        \"Zn\",\n",
        "        \"Zr\",\n",
        "    ]\n",
        "\n",
        "    # The two_char_elements list contains all two letter elements\n",
        "    # which can be generated by all possible combination of upper x lower characters\n",
        "    # and are valid periodic elements.\n",
        "    two_char_elements = []\n",
        "    for upper in upper_chars:\n",
        "        for lower in lower_chars:\n",
        "            ch = upper + lower\n",
        "            if ch in periodic_elements:\n",
        "                two_char_elements.append(ch)\n",
        "\n",
        "    # This list is then reduced to the subset of two-letter elements\n",
        "    # that actually appear in the SMILES strings, specific to our data set.\n",
        "    two_char_elements_smiles = set()\n",
        "    for char in two_char_elements:\n",
        "        if df.canonical_smiles.str.contains(char).any():\n",
        "            two_char_elements_smiles.add(char)\n",
        "\n",
        "    return two_char_elements_smiles"
      ]
    },
    {
      "cell_type": "code",
      "execution_count": 10,
      "metadata": {
        "tags": [],
        "id": "E33fcluKVbex",
        "outputId": "55ce4ce2-aaed-4c54-b43c-79cb7ce545b9",
        "colab": {
          "base_uri": "https://localhost:8080/"
        }
      },
      "outputs": [
        {
          "output_type": "stream",
          "name": "stdout",
          "text": [
            "Upper letter characters ['B', 'C', 'F', 'H', 'I', 'N', 'O', 'P', 'S']\n",
            "Lower letter characters ['c', 'e', 'l', 'n', 'o', 'r', 's']\n",
            "\n",
            "Two letter elements found in the data set: ['Br', 'Cl', 'Cn', 'Sc', 'Se']\n"
          ]
        }
      ],
      "source": [
        "elements_found = assess_two_letter_elements(df)\n",
        "print(f\"\\nTwo letter elements found in the data set: {sorted(elements_found)}\")\n",
        "# NBVAL_CHECK_OUTPUT"
      ]
    },
    {
      "cell_type": "markdown",
      "metadata": {
        "id": "nSO7v2IaVbex"
      },
      "source": [
        "Based on this finding, we defined our own dictionary for replacement. Note that their are several shortcomings with this *simple* implementation that we (partially) manually address here:\n",
        "\n",
        "- We exclude `Sc` and `Cn` from the replacement, since it is more likely that sulfur `S` and an aromatic carbon `c` are contained in a molecule than scandium `Sc`, same for carbon `C` and an aromatic nitrogen `n` over Copernicium `Cn`. Thus, only the elements chlorine `Cl`, bromine `Br` and selenium `Se` are replaced.\n",
        "- In isomeric SMILES `@` and `@@` are used to describe enantiomers, thus we also need to replace the latter by a one letter code.\n",
        "- If you are working wit a different data set, you may want to adapt the below mapping dictionary."
      ]
    },
    {
      "cell_type": "markdown",
      "metadata": {
        "id": "bhSjEDwOVbex"
      },
      "source": [
        "This resulted in the following dictionary to replace the two letter elements found in this data set"
      ]
    },
    {
      "cell_type": "code",
      "execution_count": 11,
      "metadata": {
        "tags": [],
        "id": "6bGGj_FMVbex"
      },
      "outputs": [],
      "source": [
        "replace_dict = {\"Cl\": \"L\", \"Br\": \"R\", \"Se\": \"X\", \"@@\": \"Z\"}"
      ]
    },
    {
      "cell_type": "markdown",
      "metadata": {
        "id": "7da1qmEEVbey"
      },
      "source": [
        "Based on this dictionary, we define a function to create the preprocessed data."
      ]
    },
    {
      "cell_type": "code",
      "execution_count": 12,
      "metadata": {
        "tags": [],
        "id": "VsVT0bzeVbey"
      },
      "outputs": [],
      "source": [
        "def preprocessing_data(df, replacement):\n",
        "    \"\"\"\n",
        "    Preprocess the SMILES structures in a data set.\n",
        "\n",
        "    Parameters\n",
        "    ----------\n",
        "    df : pandas.DataFrame\n",
        "      Dataframe which requires preprocessing.\n",
        "    replacement : dict\n",
        "      Dictionary with mapping for replacement.\n",
        "\n",
        "    Returns\n",
        "    -------\n",
        "    df : pandas.DataFrame\n",
        "        Dataframe with new processed canonical SMILES column.\n",
        "    unique_char : list\n",
        "        List with unique characters present in SMILES.\n",
        "    \"\"\"\n",
        "    # Print warning if the data set has a 'Sc' element\n",
        "    if df.canonical_smiles.str.contains(\"Sc\").any():\n",
        "        print(\n",
        "            'Warning: \"Sc\" element is found in the data set, since the element is rarely found '\n",
        "            \"in the drugs so we are not converting  \"\n",
        "            'it to single letter element, instead considering \"S\" '\n",
        "            'and \"c\" as separate elements. '\n",
        "        )\n",
        "\n",
        "    # Create a new column having processed canonical SMILES\n",
        "    df[\"processed_canonical_smiles\"] = df[\"canonical_smiles\"].copy()\n",
        "\n",
        "    # Replace the two letter elements found with one character\n",
        "    for pattern, repl in replacement.items():\n",
        "        df[\"processed_canonical_smiles\"] = df[\"processed_canonical_smiles\"].str.replace(\n",
        "            pattern, repl\n",
        "        )\n",
        "\n",
        "    unique_char = set(df.processed_canonical_smiles.apply(list).sum())\n",
        "    return df, unique_char"
      ]
    },
    {
      "cell_type": "code",
      "execution_count": 13,
      "metadata": {
        "tags": [],
        "id": "OUHG7kIVVbey",
        "outputId": "015137b6-3096-43b4-f1ee-a205ff1310be",
        "colab": {
          "base_uri": "https://localhost:8080/",
          "height": 162
        }
      },
      "outputs": [
        {
          "output_type": "stream",
          "name": "stdout",
          "text": [
            "Warning: \"Sc\" element is found in the data set, since the element is rarely found in the drugs so we are not converting  it to single letter element, instead considering \"S\" and \"c\" as separate elements. \n"
          ]
        },
        {
          "output_type": "execute_result",
          "data": {
            "text/plain": [
              "       chembl_id                                   canonical_smiles  \\\n",
              "0   CHEMBL207869  Clc1c(OCc2cc(F)ccc2)ccc(Nc2c(C#Cc3ncccn3)cncn2)c1   \n",
              "1  CHEMBL3940060  ClCC(=O)OCCN1C(=O)Oc2c1cc1c(Nc3cc(Cl)c(F)cc3)n...   \n",
              "2  CHEMBL3678951  FC(F)(F)c1cc(Nc2n(C(C)C)c3nc(Nc4ccc(N5CC[NH+](...   \n",
              "\n",
              "                                              Mol2D  \\\n",
              "0  <rdkit.Chem.rdchem.Mol object at 0x7a5619f8f7d0>   \n",
              "1  <rdkit.Chem.rdchem.Mol object at 0x7a5619f8f840>   \n",
              "2  <rdkit.Chem.rdchem.Mol object at 0x7a5619f8f8b0>   \n",
              "\n",
              "                          processed_canonical_smiles  \n",
              "0   Lc1c(OCc2cc(F)ccc2)ccc(Nc2c(C#Cc3ncccn3)cncn2)c1  \n",
              "1  LCC(=O)OCCN1C(=O)Oc2c1cc1c(Nc3cc(L)c(F)cc3)ncn...  \n",
              "2  FC(F)(F)c1cc(Nc2n(C(C)C)c3nc(Nc4ccc(N5CC[NH+](...  "
            ],
            "text/html": [
              "\n",
              "  <div id=\"df-8f05a423-688b-4300-a54b-182d78ba694d\" class=\"colab-df-container\">\n",
              "    <div>\n",
              "<style scoped>\n",
              "    .dataframe tbody tr th:only-of-type {\n",
              "        vertical-align: middle;\n",
              "    }\n",
              "\n",
              "    .dataframe tbody tr th {\n",
              "        vertical-align: top;\n",
              "    }\n",
              "\n",
              "    .dataframe thead th {\n",
              "        text-align: right;\n",
              "    }\n",
              "</style>\n",
              "<table border=\"1\" class=\"dataframe\">\n",
              "  <thead>\n",
              "    <tr style=\"text-align: right;\">\n",
              "      <th></th>\n",
              "      <th>chembl_id</th>\n",
              "      <th>canonical_smiles</th>\n",
              "      <th>Mol2D</th>\n",
              "      <th>processed_canonical_smiles</th>\n",
              "    </tr>\n",
              "  </thead>\n",
              "  <tbody>\n",
              "    <tr>\n",
              "      <th>0</th>\n",
              "      <td>CHEMBL207869</td>\n",
              "      <td>Clc1c(OCc2cc(F)ccc2)ccc(Nc2c(C#Cc3ncccn3)cncn2)c1</td>\n",
              "      <td>&lt;rdkit.Chem.rdchem.Mol object at 0x7a5619f8f7d0&gt;</td>\n",
              "      <td>Lc1c(OCc2cc(F)ccc2)ccc(Nc2c(C#Cc3ncccn3)cncn2)c1</td>\n",
              "    </tr>\n",
              "    <tr>\n",
              "      <th>1</th>\n",
              "      <td>CHEMBL3940060</td>\n",
              "      <td>ClCC(=O)OCCN1C(=O)Oc2c1cc1c(Nc3cc(Cl)c(F)cc3)n...</td>\n",
              "      <td>&lt;rdkit.Chem.rdchem.Mol object at 0x7a5619f8f840&gt;</td>\n",
              "      <td>LCC(=O)OCCN1C(=O)Oc2c1cc1c(Nc3cc(L)c(F)cc3)ncn...</td>\n",
              "    </tr>\n",
              "    <tr>\n",
              "      <th>2</th>\n",
              "      <td>CHEMBL3678951</td>\n",
              "      <td>FC(F)(F)c1cc(Nc2n(C(C)C)c3nc(Nc4ccc(N5CC[NH+](...</td>\n",
              "      <td>&lt;rdkit.Chem.rdchem.Mol object at 0x7a5619f8f8b0&gt;</td>\n",
              "      <td>FC(F)(F)c1cc(Nc2n(C(C)C)c3nc(Nc4ccc(N5CC[NH+](...</td>\n",
              "    </tr>\n",
              "  </tbody>\n",
              "</table>\n",
              "</div>\n",
              "    <div class=\"colab-df-buttons\">\n",
              "\n",
              "  <div class=\"colab-df-container\">\n",
              "    <button class=\"colab-df-convert\" onclick=\"convertToInteractive('df-8f05a423-688b-4300-a54b-182d78ba694d')\"\n",
              "            title=\"Convert this dataframe to an interactive table.\"\n",
              "            style=\"display:none;\">\n",
              "\n",
              "  <svg xmlns=\"http://www.w3.org/2000/svg\" height=\"24px\" viewBox=\"0 -960 960 960\">\n",
              "    <path d=\"M120-120v-720h720v720H120Zm60-500h600v-160H180v160Zm220 220h160v-160H400v160Zm0 220h160v-160H400v160ZM180-400h160v-160H180v160Zm440 0h160v-160H620v160ZM180-180h160v-160H180v160Zm440 0h160v-160H620v160Z\"/>\n",
              "  </svg>\n",
              "    </button>\n",
              "\n",
              "  <style>\n",
              "    .colab-df-container {\n",
              "      display:flex;\n",
              "      gap: 12px;\n",
              "    }\n",
              "\n",
              "    .colab-df-convert {\n",
              "      background-color: #E8F0FE;\n",
              "      border: none;\n",
              "      border-radius: 50%;\n",
              "      cursor: pointer;\n",
              "      display: none;\n",
              "      fill: #1967D2;\n",
              "      height: 32px;\n",
              "      padding: 0 0 0 0;\n",
              "      width: 32px;\n",
              "    }\n",
              "\n",
              "    .colab-df-convert:hover {\n",
              "      background-color: #E2EBFA;\n",
              "      box-shadow: 0px 1px 2px rgba(60, 64, 67, 0.3), 0px 1px 3px 1px rgba(60, 64, 67, 0.15);\n",
              "      fill: #174EA6;\n",
              "    }\n",
              "\n",
              "    .colab-df-buttons div {\n",
              "      margin-bottom: 4px;\n",
              "    }\n",
              "\n",
              "    [theme=dark] .colab-df-convert {\n",
              "      background-color: #3B4455;\n",
              "      fill: #D2E3FC;\n",
              "    }\n",
              "\n",
              "    [theme=dark] .colab-df-convert:hover {\n",
              "      background-color: #434B5C;\n",
              "      box-shadow: 0px 1px 3px 1px rgba(0, 0, 0, 0.15);\n",
              "      filter: drop-shadow(0px 1px 2px rgba(0, 0, 0, 0.3));\n",
              "      fill: #FFFFFF;\n",
              "    }\n",
              "  </style>\n",
              "\n",
              "    <script>\n",
              "      const buttonEl =\n",
              "        document.querySelector('#df-8f05a423-688b-4300-a54b-182d78ba694d button.colab-df-convert');\n",
              "      buttonEl.style.display =\n",
              "        google.colab.kernel.accessAllowed ? 'block' : 'none';\n",
              "\n",
              "      async function convertToInteractive(key) {\n",
              "        const element = document.querySelector('#df-8f05a423-688b-4300-a54b-182d78ba694d');\n",
              "        const dataTable =\n",
              "          await google.colab.kernel.invokeFunction('convertToInteractive',\n",
              "                                                    [key], {});\n",
              "        if (!dataTable) return;\n",
              "\n",
              "        const docLinkHtml = 'Like what you see? Visit the ' +\n",
              "          '<a target=\"_blank\" href=https://colab.research.google.com/notebooks/data_table.ipynb>data table notebook</a>'\n",
              "          + ' to learn more about interactive tables.';\n",
              "        element.innerHTML = '';\n",
              "        dataTable['output_type'] = 'display_data';\n",
              "        await google.colab.output.renderOutput(dataTable, element);\n",
              "        const docLink = document.createElement('div');\n",
              "        docLink.innerHTML = docLinkHtml;\n",
              "        element.appendChild(docLink);\n",
              "      }\n",
              "    </script>\n",
              "  </div>\n",
              "\n",
              "\n",
              "<div id=\"df-284964f6-2dd5-45f1-a507-51cd9c84b74b\">\n",
              "  <button class=\"colab-df-quickchart\" onclick=\"quickchart('df-284964f6-2dd5-45f1-a507-51cd9c84b74b')\"\n",
              "            title=\"Suggest charts\"\n",
              "            style=\"display:none;\">\n",
              "\n",
              "<svg xmlns=\"http://www.w3.org/2000/svg\" height=\"24px\"viewBox=\"0 0 24 24\"\n",
              "     width=\"24px\">\n",
              "    <g>\n",
              "        <path d=\"M19 3H5c-1.1 0-2 .9-2 2v14c0 1.1.9 2 2 2h14c1.1 0 2-.9 2-2V5c0-1.1-.9-2-2-2zM9 17H7v-7h2v7zm4 0h-2V7h2v10zm4 0h-2v-4h2v4z\"/>\n",
              "    </g>\n",
              "</svg>\n",
              "  </button>\n",
              "\n",
              "<style>\n",
              "  .colab-df-quickchart {\n",
              "      --bg-color: #E8F0FE;\n",
              "      --fill-color: #1967D2;\n",
              "      --hover-bg-color: #E2EBFA;\n",
              "      --hover-fill-color: #174EA6;\n",
              "      --disabled-fill-color: #AAA;\n",
              "      --disabled-bg-color: #DDD;\n",
              "  }\n",
              "\n",
              "  [theme=dark] .colab-df-quickchart {\n",
              "      --bg-color: #3B4455;\n",
              "      --fill-color: #D2E3FC;\n",
              "      --hover-bg-color: #434B5C;\n",
              "      --hover-fill-color: #FFFFFF;\n",
              "      --disabled-bg-color: #3B4455;\n",
              "      --disabled-fill-color: #666;\n",
              "  }\n",
              "\n",
              "  .colab-df-quickchart {\n",
              "    background-color: var(--bg-color);\n",
              "    border: none;\n",
              "    border-radius: 50%;\n",
              "    cursor: pointer;\n",
              "    display: none;\n",
              "    fill: var(--fill-color);\n",
              "    height: 32px;\n",
              "    padding: 0;\n",
              "    width: 32px;\n",
              "  }\n",
              "\n",
              "  .colab-df-quickchart:hover {\n",
              "    background-color: var(--hover-bg-color);\n",
              "    box-shadow: 0 1px 2px rgba(60, 64, 67, 0.3), 0 1px 3px 1px rgba(60, 64, 67, 0.15);\n",
              "    fill: var(--button-hover-fill-color);\n",
              "  }\n",
              "\n",
              "  .colab-df-quickchart-complete:disabled,\n",
              "  .colab-df-quickchart-complete:disabled:hover {\n",
              "    background-color: var(--disabled-bg-color);\n",
              "    fill: var(--disabled-fill-color);\n",
              "    box-shadow: none;\n",
              "  }\n",
              "\n",
              "  .colab-df-spinner {\n",
              "    border: 2px solid var(--fill-color);\n",
              "    border-color: transparent;\n",
              "    border-bottom-color: var(--fill-color);\n",
              "    animation:\n",
              "      spin 1s steps(1) infinite;\n",
              "  }\n",
              "\n",
              "  @keyframes spin {\n",
              "    0% {\n",
              "      border-color: transparent;\n",
              "      border-bottom-color: var(--fill-color);\n",
              "      border-left-color: var(--fill-color);\n",
              "    }\n",
              "    20% {\n",
              "      border-color: transparent;\n",
              "      border-left-color: var(--fill-color);\n",
              "      border-top-color: var(--fill-color);\n",
              "    }\n",
              "    30% {\n",
              "      border-color: transparent;\n",
              "      border-left-color: var(--fill-color);\n",
              "      border-top-color: var(--fill-color);\n",
              "      border-right-color: var(--fill-color);\n",
              "    }\n",
              "    40% {\n",
              "      border-color: transparent;\n",
              "      border-right-color: var(--fill-color);\n",
              "      border-top-color: var(--fill-color);\n",
              "    }\n",
              "    60% {\n",
              "      border-color: transparent;\n",
              "      border-right-color: var(--fill-color);\n",
              "    }\n",
              "    80% {\n",
              "      border-color: transparent;\n",
              "      border-right-color: var(--fill-color);\n",
              "      border-bottom-color: var(--fill-color);\n",
              "    }\n",
              "    90% {\n",
              "      border-color: transparent;\n",
              "      border-bottom-color: var(--fill-color);\n",
              "    }\n",
              "  }\n",
              "</style>\n",
              "\n",
              "  <script>\n",
              "    async function quickchart(key) {\n",
              "      const quickchartButtonEl =\n",
              "        document.querySelector('#' + key + ' button');\n",
              "      quickchartButtonEl.disabled = true;  // To prevent multiple clicks.\n",
              "      quickchartButtonEl.classList.add('colab-df-spinner');\n",
              "      try {\n",
              "        const charts = await google.colab.kernel.invokeFunction(\n",
              "            'suggestCharts', [key], {});\n",
              "      } catch (error) {\n",
              "        console.error('Error during call to suggestCharts:', error);\n",
              "      }\n",
              "      quickchartButtonEl.classList.remove('colab-df-spinner');\n",
              "      quickchartButtonEl.classList.add('colab-df-quickchart-complete');\n",
              "    }\n",
              "    (() => {\n",
              "      let quickchartButtonEl =\n",
              "        document.querySelector('#df-284964f6-2dd5-45f1-a507-51cd9c84b74b button');\n",
              "      quickchartButtonEl.style.display =\n",
              "        google.colab.kernel.accessAllowed ? 'block' : 'none';\n",
              "    })();\n",
              "  </script>\n",
              "</div>\n",
              "\n",
              "    </div>\n",
              "  </div>\n"
            ],
            "application/vnd.google.colaboratory.intrinsic+json": {
              "type": "dataframe",
              "variable_name": "df",
              "summary": "{\n  \"name\": \"df\",\n  \"rows\": 3905,\n  \"fields\": [\n    {\n      \"column\": \"chembl_id\",\n      \"properties\": {\n        \"dtype\": \"string\",\n        \"num_unique_values\": 3905,\n        \"samples\": [\n          \"CHEMBL3357645\",\n          \"CHEMBL358092\",\n          \"CHEMBL598610\"\n        ],\n        \"semantic_type\": \"\",\n        \"description\": \"\"\n      }\n    },\n    {\n      \"column\": \"canonical_smiles\",\n      \"properties\": {\n        \"dtype\": \"string\",\n        \"num_unique_values\": 3883,\n        \"samples\": [\n          \"Clc1c(OC)cccc1N1C(=O)N([C@@H]2CN(C(=O)CC)CC2)c2nc(Nc3cc(C)c(N4CC[NH+](C)CC4)cc3)ncc2C1\",\n          \"Clc1c(O)cc(-c2nn(CCC3C[NH2+]CCC3)c3ncnc(N)c23)cc1\",\n          \"O(CCC[NH+]1CCCCC1)c1ccc(Nc2nc(Nc3cnc4c(c3)cccc4)ccn2)cc1\"\n        ],\n        \"semantic_type\": \"\",\n        \"description\": \"\"\n      }\n    },\n    {\n      \"column\": \"Mol2D\",\n      \"properties\": {\n        \"dtype\": \"string\",\n        \"num_unique_values\": 3905,\n        \"samples\": [\n          \"<rdkit.Chem.rdchem.Mol object at 0x7a5619e67ed0>\",\n          \"<rdkit.Chem.rdchem.Mol object at 0x7a5619e80e40>\",\n          \"<rdkit.Chem.rdchem.Mol object at 0x7a5619e69bd0>\"\n        ],\n        \"semantic_type\": \"\",\n        \"description\": \"\"\n      }\n    },\n    {\n      \"column\": \"processed_canonical_smiles\",\n      \"properties\": {\n        \"dtype\": \"string\",\n        \"num_unique_values\": 3883,\n        \"samples\": [\n          \"Lc1c(OC)cccc1N1C(=O)N([CZH]2CN(C(=O)CC)CC2)c2nc(Nc3cc(C)c(N4CC[NH+](C)CC4)cc3)ncc2C1\",\n          \"Lc1c(O)cc(-c2nn(CCC3C[NH2+]CCC3)c3ncnc(N)c23)cc1\",\n          \"O(CCC[NH+]1CCCCC1)c1ccc(Nc2nc(Nc3cnc4c(c3)cccc4)ccn2)cc1\"\n        ],\n        \"semantic_type\": \"\",\n        \"description\": \"\"\n      }\n    }\n  ]\n}"
            }
          },
          "metadata": {},
          "execution_count": 13
        }
      ],
      "source": [
        "# Calling function\n",
        "df, unique_char = preprocessing_data(df, replace_dict)\n",
        "df.head(3)"
      ]
    },
    {
      "cell_type": "code",
      "execution_count": 14,
      "metadata": {
        "tags": [],
        "id": "60aQiZFJVbey",
        "outputId": "1895bbff-d067-4151-df33-8c4f5b2013b1",
        "colab": {
          "base_uri": "https://localhost:8080/"
        }
      },
      "outputs": [
        {
          "output_type": "stream",
          "name": "stdout",
          "text": [
            "All unique characters found in the preprocessed data set:\n",
            "['#', '(', ')', '+', '-', '/', '0', '1', '2', '3', '4', '5', '6', '7', '=', '@', 'B', 'C', 'F', 'H', 'I', 'L', 'N', 'O', 'P', 'R', 'S', 'X', 'Z', '[', '\\\\', ']', 'c', 'n', 'o', 's']\n"
          ]
        }
      ],
      "source": [
        "# Print unique characters\n",
        "print(f\"All unique characters found in the preprocessed data set:\\n{sorted(unique_char)}\")\n",
        "# NBVAL_CHECK_OUTPUT"
      ]
    },
    {
      "cell_type": "markdown",
      "metadata": {
        "id": "cCtGWSNrVbey"
      },
      "source": [
        "#### Compute longest (& shortest) SMILES\n",
        "\n",
        "Here, we compute the length and the indices in the data frame of the longest and shortest SMILES, which we will use later in the sections for visualization purpose."
      ]
    },
    {
      "cell_type": "code",
      "execution_count": 15,
      "metadata": {
        "tags": [],
        "id": "EpQrg8k1Vbey",
        "outputId": "5b1b8a9d-ed79-4a56-b09a-9eca18a8baa1",
        "colab": {
          "base_uri": "https://localhost:8080/"
        }
      },
      "outputs": [
        {
          "output_type": "stream",
          "name": "stdout",
          "text": [
            "Longest SMILES: O=C(N[C@@H]1C(=O)N[C@H](CCC[NH3+])C(=O)N[C@@H]([C@H](CC)C)C(=O)N[C@H](Cc2ccccc2)C(=O)N[C@@H](Cc2[nH]cnc2)C(=O)N[C@H](CC(=O)[O-])C(=O)N[C@@H](CC(=O)N)C(=O)NCCCC1)[C@@H](NC(=O)[C@H](NC(=O)[C@@H](NC(=O)[C@H]1N=C([C@@H]([NH3+])[C@H](CC)C)SC1)CC(C)C)CCC(=O)[O-])[C@H](CC)C\n",
            "Contains 267 characters, index in dataframe: 2704.\n"
          ]
        }
      ],
      "source": [
        "# Index of the longest SMILES string\n",
        "longest_smiles = max(df[\"canonical_smiles\"], key=len)\n",
        "longest_smiles_index = df.canonical_smiles[df.canonical_smiles == longest_smiles].index.tolist()\n",
        "print(f\"Longest SMILES: {longest_smiles}\")\n",
        "print(f\"Contains {len(longest_smiles)} characters, index in dataframe: {longest_smiles_index[0]}.\")\n",
        "smiles_maxlen = len(longest_smiles)\n",
        "# NBVAL_CHECK_OUTPUT"
      ]
    },
    {
      "cell_type": "code",
      "execution_count": 16,
      "metadata": {
        "tags": [],
        "id": "SD1QZjnzVbey",
        "outputId": "a3ef7c59-85c6-47f8-fbab-c67749e6ab12",
        "colab": {
          "base_uri": "https://localhost:8080/"
        }
      },
      "outputs": [
        {
          "output_type": "stream",
          "name": "stdout",
          "text": [
            "Shortest SMILES: Oc1c(O)cccc1\n",
            "Contains 12 characters, index in dataframe: 3428.\n"
          ]
        }
      ],
      "source": [
        "# Index of the shortest SMILES string\n",
        "shortest_smiles = min(df[\"canonical_smiles\"], key=len)\n",
        "shortest_smiles_index = df.canonical_smiles[df.canonical_smiles == shortest_smiles].index.tolist()\n",
        "print(f\"Shortest SMILES: {shortest_smiles}\")\n",
        "print(\n",
        "    f\"Contains {len(shortest_smiles)} characters, index in dataframe: {shortest_smiles_index[0]}.\"\n",
        ")\n",
        "# NBVAL_CHECK_OUTPUT"
      ]
    },
    {
      "cell_type": "markdown",
      "metadata": {
        "id": "t2S1TBUFVbey"
      },
      "source": [
        "### Python one-hot encoding implementation"
      ]
    },
    {
      "cell_type": "markdown",
      "metadata": {
        "id": "LN3BkVz3Vbey"
      },
      "source": [
        "#### One-hot encode (padding=True)\n",
        "\n",
        "We define a function `smiles_encoder` that takes SMILES, the maximum length of the SMILES string (`max_len`) for padding and the list of unique characters (`unique_char`) present in the `processed_canonical_smiles` column; and returns the one-hot encoded matrix of fixed shape."
      ]
    },
    {
      "cell_type": "code",
      "execution_count": 17,
      "metadata": {
        "tags": [],
        "id": "896EXdlKVbez"
      },
      "outputs": [],
      "source": [
        "# Function defined to create one-hot encoded matrix\n",
        "def smiles_encoder(smiles, max_len, unique_char):\n",
        "    \"\"\"\n",
        "    Function defined using all unique characters in our\n",
        "    processed canonical SMILES structures created\n",
        "    with the preprocessing_data function.\n",
        "\n",
        "    Parameters\n",
        "    ----------\n",
        "    smiles : str\n",
        "         SMILES of a molecule in string format.\n",
        "    unique_char : list\n",
        "         List of unique characters in the string data set.\n",
        "    max_len : int\n",
        "         Maximum length of the SMILES string.\n",
        "\n",
        "    Returns\n",
        "    -------\n",
        "    smiles_matrix : numpy.ndarray\n",
        "         One-hot encoded matrix of fixed shape\n",
        "         (unique char in smiles, max SMILES length).\n",
        "    \"\"\"\n",
        "    # create dictionary of the unique char data set\n",
        "    smi2index = {char: index for index, char in enumerate(unique_char)}\n",
        "    # one-hot encoding\n",
        "    # zero padding to max_len\n",
        "    smiles_matrix = np.zeros((len(unique_char), max_len))\n",
        "    for index, char in enumerate(smiles):\n",
        "        smiles_matrix[smi2index[char], index] = 1\n",
        "    return smiles_matrix"
      ]
    },
    {
      "cell_type": "code",
      "execution_count": 18,
      "metadata": {
        "tags": [],
        "id": "2XVf6F4dVbez",
        "outputId": "dbf5780c-6121-480c-afd5-ccb5536ee1a2",
        "colab": {
          "base_uri": "https://localhost:8080/",
          "height": 143
        }
      },
      "outputs": [
        {
          "output_type": "execute_result",
          "data": {
            "text/plain": [
              "       chembl_id                                   canonical_smiles  \\\n",
              "0   CHEMBL207869  Clc1c(OCc2cc(F)ccc2)ccc(Nc2c(C#Cc3ncccn3)cncn2)c1   \n",
              "1  CHEMBL3940060  ClCC(=O)OCCN1C(=O)Oc2c1cc1c(Nc3cc(Cl)c(F)cc3)n...   \n",
              "2  CHEMBL3678951  FC(F)(F)c1cc(Nc2n(C(C)C)c3nc(Nc4ccc(N5CC[NH+](...   \n",
              "\n",
              "                                              Mol2D  \\\n",
              "0  <rdkit.Chem.rdchem.Mol object at 0x7a5619f8f7d0>   \n",
              "1  <rdkit.Chem.rdchem.Mol object at 0x7a5619f8f840>   \n",
              "2  <rdkit.Chem.rdchem.Mol object at 0x7a5619f8f8b0>   \n",
              "\n",
              "                          processed_canonical_smiles  \\\n",
              "0   Lc1c(OCc2cc(F)ccc2)ccc(Nc2c(C#Cc3ncccn3)cncn2)c1   \n",
              "1  LCC(=O)OCCN1C(=O)Oc2c1cc1c(Nc3cc(L)c(F)cc3)ncn...   \n",
              "2  FC(F)(F)c1cc(Nc2n(C(C)C)c3nc(Nc4ccc(N5CC[NH+](...   \n",
              "\n",
              "                              unique_char_ohe_matrix  \n",
              "0  [[0.0, 0.0, 0.0, 0.0, 0.0, 0.0, 0.0, 0.0, 0.0,...  \n",
              "1  [[0.0, 0.0, 0.0, 0.0, 0.0, 0.0, 0.0, 0.0, 0.0,...  \n",
              "2  [[0.0, 0.0, 0.0, 0.0, 0.0, 0.0, 0.0, 0.0, 0.0,...  "
            ],
            "text/html": [
              "\n",
              "  <div id=\"df-23fdf2a2-e540-4324-bba8-94e46fa9dc6b\" class=\"colab-df-container\">\n",
              "    <div>\n",
              "<style scoped>\n",
              "    .dataframe tbody tr th:only-of-type {\n",
              "        vertical-align: middle;\n",
              "    }\n",
              "\n",
              "    .dataframe tbody tr th {\n",
              "        vertical-align: top;\n",
              "    }\n",
              "\n",
              "    .dataframe thead th {\n",
              "        text-align: right;\n",
              "    }\n",
              "</style>\n",
              "<table border=\"1\" class=\"dataframe\">\n",
              "  <thead>\n",
              "    <tr style=\"text-align: right;\">\n",
              "      <th></th>\n",
              "      <th>chembl_id</th>\n",
              "      <th>canonical_smiles</th>\n",
              "      <th>Mol2D</th>\n",
              "      <th>processed_canonical_smiles</th>\n",
              "      <th>unique_char_ohe_matrix</th>\n",
              "    </tr>\n",
              "  </thead>\n",
              "  <tbody>\n",
              "    <tr>\n",
              "      <th>0</th>\n",
              "      <td>CHEMBL207869</td>\n",
              "      <td>Clc1c(OCc2cc(F)ccc2)ccc(Nc2c(C#Cc3ncccn3)cncn2)c1</td>\n",
              "      <td>&lt;rdkit.Chem.rdchem.Mol object at 0x7a5619f8f7d0&gt;</td>\n",
              "      <td>Lc1c(OCc2cc(F)ccc2)ccc(Nc2c(C#Cc3ncccn3)cncn2)c1</td>\n",
              "      <td>[[0.0, 0.0, 0.0, 0.0, 0.0, 0.0, 0.0, 0.0, 0.0,...</td>\n",
              "    </tr>\n",
              "    <tr>\n",
              "      <th>1</th>\n",
              "      <td>CHEMBL3940060</td>\n",
              "      <td>ClCC(=O)OCCN1C(=O)Oc2c1cc1c(Nc3cc(Cl)c(F)cc3)n...</td>\n",
              "      <td>&lt;rdkit.Chem.rdchem.Mol object at 0x7a5619f8f840&gt;</td>\n",
              "      <td>LCC(=O)OCCN1C(=O)Oc2c1cc1c(Nc3cc(L)c(F)cc3)ncn...</td>\n",
              "      <td>[[0.0, 0.0, 0.0, 0.0, 0.0, 0.0, 0.0, 0.0, 0.0,...</td>\n",
              "    </tr>\n",
              "    <tr>\n",
              "      <th>2</th>\n",
              "      <td>CHEMBL3678951</td>\n",
              "      <td>FC(F)(F)c1cc(Nc2n(C(C)C)c3nc(Nc4ccc(N5CC[NH+](...</td>\n",
              "      <td>&lt;rdkit.Chem.rdchem.Mol object at 0x7a5619f8f8b0&gt;</td>\n",
              "      <td>FC(F)(F)c1cc(Nc2n(C(C)C)c3nc(Nc4ccc(N5CC[NH+](...</td>\n",
              "      <td>[[0.0, 0.0, 0.0, 0.0, 0.0, 0.0, 0.0, 0.0, 0.0,...</td>\n",
              "    </tr>\n",
              "  </tbody>\n",
              "</table>\n",
              "</div>\n",
              "    <div class=\"colab-df-buttons\">\n",
              "\n",
              "  <div class=\"colab-df-container\">\n",
              "    <button class=\"colab-df-convert\" onclick=\"convertToInteractive('df-23fdf2a2-e540-4324-bba8-94e46fa9dc6b')\"\n",
              "            title=\"Convert this dataframe to an interactive table.\"\n",
              "            style=\"display:none;\">\n",
              "\n",
              "  <svg xmlns=\"http://www.w3.org/2000/svg\" height=\"24px\" viewBox=\"0 -960 960 960\">\n",
              "    <path d=\"M120-120v-720h720v720H120Zm60-500h600v-160H180v160Zm220 220h160v-160H400v160Zm0 220h160v-160H400v160ZM180-400h160v-160H180v160Zm440 0h160v-160H620v160ZM180-180h160v-160H180v160Zm440 0h160v-160H620v160Z\"/>\n",
              "  </svg>\n",
              "    </button>\n",
              "\n",
              "  <style>\n",
              "    .colab-df-container {\n",
              "      display:flex;\n",
              "      gap: 12px;\n",
              "    }\n",
              "\n",
              "    .colab-df-convert {\n",
              "      background-color: #E8F0FE;\n",
              "      border: none;\n",
              "      border-radius: 50%;\n",
              "      cursor: pointer;\n",
              "      display: none;\n",
              "      fill: #1967D2;\n",
              "      height: 32px;\n",
              "      padding: 0 0 0 0;\n",
              "      width: 32px;\n",
              "    }\n",
              "\n",
              "    .colab-df-convert:hover {\n",
              "      background-color: #E2EBFA;\n",
              "      box-shadow: 0px 1px 2px rgba(60, 64, 67, 0.3), 0px 1px 3px 1px rgba(60, 64, 67, 0.15);\n",
              "      fill: #174EA6;\n",
              "    }\n",
              "\n",
              "    .colab-df-buttons div {\n",
              "      margin-bottom: 4px;\n",
              "    }\n",
              "\n",
              "    [theme=dark] .colab-df-convert {\n",
              "      background-color: #3B4455;\n",
              "      fill: #D2E3FC;\n",
              "    }\n",
              "\n",
              "    [theme=dark] .colab-df-convert:hover {\n",
              "      background-color: #434B5C;\n",
              "      box-shadow: 0px 1px 3px 1px rgba(0, 0, 0, 0.15);\n",
              "      filter: drop-shadow(0px 1px 2px rgba(0, 0, 0, 0.3));\n",
              "      fill: #FFFFFF;\n",
              "    }\n",
              "  </style>\n",
              "\n",
              "    <script>\n",
              "      const buttonEl =\n",
              "        document.querySelector('#df-23fdf2a2-e540-4324-bba8-94e46fa9dc6b button.colab-df-convert');\n",
              "      buttonEl.style.display =\n",
              "        google.colab.kernel.accessAllowed ? 'block' : 'none';\n",
              "\n",
              "      async function convertToInteractive(key) {\n",
              "        const element = document.querySelector('#df-23fdf2a2-e540-4324-bba8-94e46fa9dc6b');\n",
              "        const dataTable =\n",
              "          await google.colab.kernel.invokeFunction('convertToInteractive',\n",
              "                                                    [key], {});\n",
              "        if (!dataTable) return;\n",
              "\n",
              "        const docLinkHtml = 'Like what you see? Visit the ' +\n",
              "          '<a target=\"_blank\" href=https://colab.research.google.com/notebooks/data_table.ipynb>data table notebook</a>'\n",
              "          + ' to learn more about interactive tables.';\n",
              "        element.innerHTML = '';\n",
              "        dataTable['output_type'] = 'display_data';\n",
              "        await google.colab.output.renderOutput(dataTable, element);\n",
              "        const docLink = document.createElement('div');\n",
              "        docLink.innerHTML = docLinkHtml;\n",
              "        element.appendChild(docLink);\n",
              "      }\n",
              "    </script>\n",
              "  </div>\n",
              "\n",
              "\n",
              "<div id=\"df-add32d21-9994-41a1-b600-ddb61c92496b\">\n",
              "  <button class=\"colab-df-quickchart\" onclick=\"quickchart('df-add32d21-9994-41a1-b600-ddb61c92496b')\"\n",
              "            title=\"Suggest charts\"\n",
              "            style=\"display:none;\">\n",
              "\n",
              "<svg xmlns=\"http://www.w3.org/2000/svg\" height=\"24px\"viewBox=\"0 0 24 24\"\n",
              "     width=\"24px\">\n",
              "    <g>\n",
              "        <path d=\"M19 3H5c-1.1 0-2 .9-2 2v14c0 1.1.9 2 2 2h14c1.1 0 2-.9 2-2V5c0-1.1-.9-2-2-2zM9 17H7v-7h2v7zm4 0h-2V7h2v10zm4 0h-2v-4h2v4z\"/>\n",
              "    </g>\n",
              "</svg>\n",
              "  </button>\n",
              "\n",
              "<style>\n",
              "  .colab-df-quickchart {\n",
              "      --bg-color: #E8F0FE;\n",
              "      --fill-color: #1967D2;\n",
              "      --hover-bg-color: #E2EBFA;\n",
              "      --hover-fill-color: #174EA6;\n",
              "      --disabled-fill-color: #AAA;\n",
              "      --disabled-bg-color: #DDD;\n",
              "  }\n",
              "\n",
              "  [theme=dark] .colab-df-quickchart {\n",
              "      --bg-color: #3B4455;\n",
              "      --fill-color: #D2E3FC;\n",
              "      --hover-bg-color: #434B5C;\n",
              "      --hover-fill-color: #FFFFFF;\n",
              "      --disabled-bg-color: #3B4455;\n",
              "      --disabled-fill-color: #666;\n",
              "  }\n",
              "\n",
              "  .colab-df-quickchart {\n",
              "    background-color: var(--bg-color);\n",
              "    border: none;\n",
              "    border-radius: 50%;\n",
              "    cursor: pointer;\n",
              "    display: none;\n",
              "    fill: var(--fill-color);\n",
              "    height: 32px;\n",
              "    padding: 0;\n",
              "    width: 32px;\n",
              "  }\n",
              "\n",
              "  .colab-df-quickchart:hover {\n",
              "    background-color: var(--hover-bg-color);\n",
              "    box-shadow: 0 1px 2px rgba(60, 64, 67, 0.3), 0 1px 3px 1px rgba(60, 64, 67, 0.15);\n",
              "    fill: var(--button-hover-fill-color);\n",
              "  }\n",
              "\n",
              "  .colab-df-quickchart-complete:disabled,\n",
              "  .colab-df-quickchart-complete:disabled:hover {\n",
              "    background-color: var(--disabled-bg-color);\n",
              "    fill: var(--disabled-fill-color);\n",
              "    box-shadow: none;\n",
              "  }\n",
              "\n",
              "  .colab-df-spinner {\n",
              "    border: 2px solid var(--fill-color);\n",
              "    border-color: transparent;\n",
              "    border-bottom-color: var(--fill-color);\n",
              "    animation:\n",
              "      spin 1s steps(1) infinite;\n",
              "  }\n",
              "\n",
              "  @keyframes spin {\n",
              "    0% {\n",
              "      border-color: transparent;\n",
              "      border-bottom-color: var(--fill-color);\n",
              "      border-left-color: var(--fill-color);\n",
              "    }\n",
              "    20% {\n",
              "      border-color: transparent;\n",
              "      border-left-color: var(--fill-color);\n",
              "      border-top-color: var(--fill-color);\n",
              "    }\n",
              "    30% {\n",
              "      border-color: transparent;\n",
              "      border-left-color: var(--fill-color);\n",
              "      border-top-color: var(--fill-color);\n",
              "      border-right-color: var(--fill-color);\n",
              "    }\n",
              "    40% {\n",
              "      border-color: transparent;\n",
              "      border-right-color: var(--fill-color);\n",
              "      border-top-color: var(--fill-color);\n",
              "    }\n",
              "    60% {\n",
              "      border-color: transparent;\n",
              "      border-right-color: var(--fill-color);\n",
              "    }\n",
              "    80% {\n",
              "      border-color: transparent;\n",
              "      border-right-color: var(--fill-color);\n",
              "      border-bottom-color: var(--fill-color);\n",
              "    }\n",
              "    90% {\n",
              "      border-color: transparent;\n",
              "      border-bottom-color: var(--fill-color);\n",
              "    }\n",
              "  }\n",
              "</style>\n",
              "\n",
              "  <script>\n",
              "    async function quickchart(key) {\n",
              "      const quickchartButtonEl =\n",
              "        document.querySelector('#' + key + ' button');\n",
              "      quickchartButtonEl.disabled = true;  // To prevent multiple clicks.\n",
              "      quickchartButtonEl.classList.add('colab-df-spinner');\n",
              "      try {\n",
              "        const charts = await google.colab.kernel.invokeFunction(\n",
              "            'suggestCharts', [key], {});\n",
              "      } catch (error) {\n",
              "        console.error('Error during call to suggestCharts:', error);\n",
              "      }\n",
              "      quickchartButtonEl.classList.remove('colab-df-spinner');\n",
              "      quickchartButtonEl.classList.add('colab-df-quickchart-complete');\n",
              "    }\n",
              "    (() => {\n",
              "      let quickchartButtonEl =\n",
              "        document.querySelector('#df-add32d21-9994-41a1-b600-ddb61c92496b button');\n",
              "      quickchartButtonEl.style.display =\n",
              "        google.colab.kernel.accessAllowed ? 'block' : 'none';\n",
              "    })();\n",
              "  </script>\n",
              "</div>\n",
              "\n",
              "    </div>\n",
              "  </div>\n"
            ],
            "application/vnd.google.colaboratory.intrinsic+json": {
              "type": "dataframe",
              "variable_name": "df",
              "summary": "{\n  \"name\": \"df\",\n  \"rows\": 3905,\n  \"fields\": [\n    {\n      \"column\": \"chembl_id\",\n      \"properties\": {\n        \"dtype\": \"string\",\n        \"num_unique_values\": 3905,\n        \"samples\": [\n          \"CHEMBL3357645\",\n          \"CHEMBL358092\",\n          \"CHEMBL598610\"\n        ],\n        \"semantic_type\": \"\",\n        \"description\": \"\"\n      }\n    },\n    {\n      \"column\": \"canonical_smiles\",\n      \"properties\": {\n        \"dtype\": \"string\",\n        \"num_unique_values\": 3883,\n        \"samples\": [\n          \"Clc1c(OC)cccc1N1C(=O)N([C@@H]2CN(C(=O)CC)CC2)c2nc(Nc3cc(C)c(N4CC[NH+](C)CC4)cc3)ncc2C1\",\n          \"Clc1c(O)cc(-c2nn(CCC3C[NH2+]CCC3)c3ncnc(N)c23)cc1\",\n          \"O(CCC[NH+]1CCCCC1)c1ccc(Nc2nc(Nc3cnc4c(c3)cccc4)ccn2)cc1\"\n        ],\n        \"semantic_type\": \"\",\n        \"description\": \"\"\n      }\n    },\n    {\n      \"column\": \"Mol2D\",\n      \"properties\": {\n        \"dtype\": \"string\",\n        \"num_unique_values\": 3905,\n        \"samples\": [\n          \"<rdkit.Chem.rdchem.Mol object at 0x7a5619e67ed0>\",\n          \"<rdkit.Chem.rdchem.Mol object at 0x7a5619e80e40>\",\n          \"<rdkit.Chem.rdchem.Mol object at 0x7a5619e69bd0>\"\n        ],\n        \"semantic_type\": \"\",\n        \"description\": \"\"\n      }\n    },\n    {\n      \"column\": \"processed_canonical_smiles\",\n      \"properties\": {\n        \"dtype\": \"string\",\n        \"num_unique_values\": 3883,\n        \"samples\": [\n          \"Lc1c(OC)cccc1N1C(=O)N([CZH]2CN(C(=O)CC)CC2)c2nc(Nc3cc(C)c(N4CC[NH+](C)CC4)cc3)ncc2C1\",\n          \"Lc1c(O)cc(-c2nn(CCC3C[NH2+]CCC3)c3ncnc(N)c23)cc1\",\n          \"O(CCC[NH+]1CCCCC1)c1ccc(Nc2nc(Nc3cnc4c(c3)cccc4)ccn2)cc1\"\n        ],\n        \"semantic_type\": \"\",\n        \"description\": \"\"\n      }\n    },\n    {\n      \"column\": \"unique_char_ohe_matrix\",\n      \"properties\": {\n        \"dtype\": \"object\",\n        \"semantic_type\": \"\",\n        \"description\": \"\"\n      }\n    }\n  ]\n}"
            }
          },
          "metadata": {},
          "execution_count": 18
        }
      ],
      "source": [
        "# Apply the function to the processed canonical SMILES strings\n",
        "df[\"unique_char_ohe_matrix\"] = df[\"processed_canonical_smiles\"].apply(\n",
        "    smiles_encoder, max_len=smiles_maxlen, unique_char=unique_char\n",
        ")\n",
        "df.head(3)"
      ]
    },
    {
      "cell_type": "markdown",
      "metadata": {
        "id": "alKxY_1EVbez"
      },
      "source": [
        "#### Visualization"
      ]
    },
    {
      "cell_type": "markdown",
      "metadata": {
        "id": "bTuOy7qHVbez"
      },
      "source": [
        "Matplotlib is a plotting library for the python programming language and Pyplot is a state-based interface to a matplotlib module which provides a MATLAB-like interface.\n",
        "The [imshow](https://matplotlib.org/3.2.1/api/_as_gen/matplotlib.pyplot.imshow.html) function in the pyplot module of the matplotlib library is used to display data as an image i.e. on a 2D space.\n",
        "\n",
        "We now visualize our one-hot encoded matrix using `imshow` by defining the `one_hot_matrix_plot` function as shown below."
      ]
    },
    {
      "cell_type": "code",
      "execution_count": 19,
      "metadata": {
        "tags": [],
        "id": "XI7pTW_vVbez"
      },
      "outputs": [],
      "source": [
        "def one_hot_matrix_plot(ohe_matrix, smiles_char, smiles):\n",
        "    \"\"\"\n",
        "    Visualize one-hot encoded matrix\n",
        "    using matplotlib imshow() function.\n",
        "\n",
        "    Parameters\n",
        "    ----------\n",
        "    ohe_matrix : numpy.ndarray\n",
        "       One-hot encoded (ohe) matrix of shape\n",
        "       (`smiles_char`, `len(smiles)`).\n",
        "    smiles_char : list\n",
        "        List of all possible SMILES characters.\n",
        "    smiles : string\n",
        "        Original SMILES string of respective molecule.\n",
        "\n",
        "    Returns\n",
        "    ------\n",
        "    None\n",
        "\n",
        "    \"\"\"\n",
        "    im = plt.imshow(ohe_matrix, cmap=\"hot\", interpolation=\"None\")\n",
        "    plt.xlabel(\"Length of SMILES string\")\n",
        "    plt.ylabel(f\"Char in SMILES ({len(smiles_char)})\")\n",
        "    plt.title(\"Visualization of one-hot encoded matrix\")\n",
        "    plt.show()\n",
        "    print(\"Shape of one-hot matrix : \", ohe_matrix.shape)\n",
        "    print(\"Associated canonical SMILES: \", smiles)\n",
        "    return None"
      ]
    },
    {
      "cell_type": "code",
      "execution_count": 20,
      "metadata": {
        "tags": [],
        "id": "KiRgv3piVbez",
        "outputId": "3c2127e2-a106-4350-d394-f8457fb30cca",
        "colab": {
          "base_uri": "https://localhost:8080/",
          "height": 206
        }
      },
      "outputs": [
        {
          "output_type": "display_data",
          "data": {
            "text/plain": [
              "<Figure size 640x480 with 1 Axes>"
            ],
            "image/png": "[encoded data removed]"
          },
          "metadata": {}
        },
        {
          "output_type": "stream",
          "name": "stdout",
          "text": [
            "Shape of one-hot matrix :  (36, 267)\n",
            "Associated canonical SMILES:  O=C(N[C@@H]1C(=O)N[C@H](CCC[NH3+])C(=O)N[C@@H]([C@H](CC)C)C(=O)N[C@H](Cc2ccccc2)C(=O)N[C@@H](Cc2[nH]cnc2)C(=O)N[C@H](CC(=O)[O-])C(=O)N[C@@H](CC(=O)N)C(=O)NCCCC1)[C@@H](NC(=O)[C@H](NC(=O)[C@@H](NC(=O)[C@H]1N=C([C@@H]([NH3+])[C@H](CC)C)SC1)CC(C)C)CCC(=O)[O-])[C@H](CC)C\n"
          ]
        }
      ],
      "source": [
        "# Pass the index of the longest SMILES string to visualize the matrix\n",
        "one_hot_matrix_plot(\n",
        "    df.iloc[longest_smiles_index[0]][\"unique_char_ohe_matrix\"], unique_char, longest_smiles\n",
        ")"
      ]
    },
    {
      "cell_type": "code",
      "execution_count": 21,
      "metadata": {
        "tags": [],
        "id": "O9_2wES2Vbez",
        "outputId": "4e61e9a5-157b-4246-f98e-bebcaed14880",
        "colab": {
          "base_uri": "https://localhost:8080/",
          "height": 167
        }
      },
      "outputs": [
        {
          "output_type": "execute_result",
          "data": {
            "text/plain": [
              "<rdkit.Chem.rdchem.Mol at 0x7a5619ed9700>"
            ],
            "image/png": "[encoded data removed]"
          },
          "metadata": {},
          "execution_count": 21
        }
      ],
      "source": [
        "# Draw the molecules with the longest SMILES\n",
        "longest_smiles_mol = Chem.MolFromSmiles(longest_smiles)\n",
        "longest_smiles_mol"
      ]
    },
    {
      "cell_type": "code",
      "execution_count": 22,
      "metadata": {
        "tags": [],
        "id": "E1X38fv-Vbe0",
        "outputId": "553c27bf-05c5-4c79-d4a6-47b61dd6b34f",
        "colab": {
          "base_uri": "https://localhost:8080/",
          "height": 206
        }
      },
      "outputs": [
        {
          "output_type": "display_data",
          "data": {
            "text/plain": [
              "<Figure size 640x480 with 1 Axes>"
            ],
            "image/png": "[encoded data removed]"
          },
          "metadata": {}
        },
        {
          "output_type": "stream",
          "name": "stdout",
          "text": [
            "Shape of one-hot matrix :  (36, 267)\n",
            "Associated canonical SMILES:  Oc1c(O)cccc1\n"
          ]
        }
      ],
      "source": [
        "# Pass the index of the shortest SMILES string to visualize the matrix\n",
        "one_hot_matrix_plot(\n",
        "    df.iloc[shortest_smiles_index[0]][\"unique_char_ohe_matrix\"], unique_char, shortest_smiles\n",
        ")"
      ]
    },
    {
      "cell_type": "markdown",
      "metadata": {
        "id": "CSlKcyPYVbe0"
      },
      "source": [
        "From above, the matrix visualization was performed using matplotlib `imshow` function, we can also visualize the entire matrix using the `numpy.matrix` function, e.g. the one-hot encoded matrix of the longest SMILES string as shown below."
      ]
    },
    {
      "cell_type": "code",
      "execution_count": 23,
      "metadata": {
        "tags": [],
        "id": "LIS8w-BIVbe0",
        "outputId": "ef0e8bbe-285d-4c00-c35b-e742dc9604b4",
        "colab": {
          "base_uri": "https://localhost:8080/",
          "height": 167
        }
      },
      "outputs": [
        {
          "output_type": "execute_result",
          "data": {
            "text/plain": [
              "<rdkit.Chem.rdchem.Mol at 0x7a5619eeec00>"
            ],
            "image/png": "[encoded data removed]"
          },
          "metadata": {},
          "execution_count": 23
        }
      ],
      "source": [
        "# Draw the molecules with the shortest SMILES\n",
        "shortest_smiles_mol = Chem.MolFromSmiles(shortest_smiles)\n",
        "shortest_smiles_mol"
      ]
    },
    {
      "cell_type": "code",
      "execution_count": 24,
      "metadata": {
        "tags": [],
        "id": "DroQHx2-Vbe0",
        "outputId": "96ae4cc8-4792-480b-be57-5f48823ae75d",
        "colab": {
          "base_uri": "https://localhost:8080/"
        }
      },
      "outputs": [
        {
          "output_type": "stream",
          "name": "stdout",
          "text": [
            "First 3 rows of the ohe matrix, representing the characters ['+', 'O', '/']\n",
            "\n",
            "[[0. 0. 0. 0. 0. 0. 0. 0. 0. 0. 0. 0. 0. 0. 0. 0. 0. 0. 0. 0. 0. 0. 0. 0.\n",
            "  0. 0. 0. 0. 0. 0. 1. 0. 0. 0. 0. 0. 0. 0. 0. 0. 0. 0. 0. 0. 0. 0. 0. 0.\n",
            "  0. 0. 0. 0. 0. 0. 0. 0. 0. 0. 0. 0. 0. 0. 0. 0. 0. 0. 0. 0. 0. 0. 0. 0.\n",
            "  0. 0. 0. 0. 0. 0. 0. 0. 0. 0. 0. 0. 0. 0. 0. 0. 0. 0. 0. 0. 0. 0. 0. 0.\n",
            "  0. 0. 0. 0. 0. 0. 0. 0. 0. 0. 0. 0. 0. 0. 0. 0. 0. 0. 0. 0. 0. 0. 0. 0.\n",
            "  0. 0. 0. 0. 0. 0. 0. 0. 0. 0. 0. 0. 0. 0. 0. 0. 0. 0. 0. 0. 0. 0. 0. 0.\n",
            "  0. 0. 0. 0. 0. 0. 0. 0. 0. 0. 0. 0. 0. 0. 0. 0. 0. 0. 0. 0. 0. 0. 0. 0.\n",
            "  0. 0. 0. 0. 0. 0. 0. 0. 0. 0. 0. 0. 0. 0. 0. 0. 0. 0. 0. 0. 0. 0. 0. 0.\n",
            "  0. 0. 0. 0. 0. 0. 0. 0. 0. 0. 0. 0. 0. 0. 0. 0. 0. 0. 0. 0. 0. 1. 0. 0.\n",
            "  0. 0. 0. 0. 0. 0. 0. 0. 0. 0. 0. 0. 0. 0. 0. 0. 0. 0. 0. 0. 0. 0. 0. 0.\n",
            "  0. 0. 0. 0. 0. 0. 0. 0. 0. 0. 0. 0. 0. 0. 0. 0. 0. 0. 0. 0. 0. 0. 0. 0.\n",
            "  0. 0. 0.]\n",
            " [1. 0. 0. 0. 0. 0. 0. 0. 0. 0. 0. 0. 0. 0. 1. 0. 0. 0. 0. 0. 0. 0. 0. 0.\n",
            "  0. 0. 0. 0. 0. 0. 0. 0. 0. 0. 0. 0. 1. 0. 0. 0. 0. 0. 0. 0. 0. 0. 0. 0.\n",
            "  0. 0. 0. 0. 0. 0. 0. 0. 0. 0. 0. 1. 0. 0. 0. 0. 0. 0. 0. 0. 0. 0. 0. 0.\n",
            "  0. 0. 0. 0. 0. 0. 0. 0. 0. 1. 0. 0. 0. 0. 0. 0. 0. 0. 0. 0. 0. 0. 0. 0.\n",
            "  0. 0. 0. 0. 0. 0. 0. 0. 0. 1. 0. 0. 0. 0. 0. 0. 0. 0. 0. 0. 0. 0. 1. 0.\n",
            "  0. 1. 0. 0. 0. 0. 0. 0. 1. 0. 0. 0. 0. 0. 0. 0. 0. 0. 0. 0. 0. 1. 0. 0.\n",
            "  0. 0. 0. 0. 1. 0. 0. 0. 0. 0. 0. 0. 0. 0. 0. 0. 0. 0. 0. 0. 0. 0. 0. 1.\n",
            "  0. 0. 0. 0. 0. 0. 0. 0. 0. 0. 0. 1. 0. 0. 0. 0. 0. 0. 0. 0. 0. 0. 0. 1.\n",
            "  0. 0. 0. 0. 0. 0. 0. 0. 0. 0. 0. 0. 0. 0. 0. 0. 0. 0. 0. 0. 0. 0. 0. 0.\n",
            "  0. 0. 0. 0. 0. 0. 0. 0. 0. 0. 0. 0. 0. 0. 0. 0. 0. 0. 0. 0. 0. 0. 0. 0.\n",
            "  0. 0. 0. 1. 0. 0. 1. 0. 0. 0. 0. 0. 0. 0. 0. 0. 0. 0. 0. 0. 0. 0. 0. 0.\n",
            "  0. 0. 0.]\n",
            " [0. 0. 0. 0. 0. 0. 0. 0. 0. 0. 0. 0. 0. 0. 0. 0. 0. 0. 0. 0. 0. 0. 0. 0.\n",
            "  0. 0. 0. 0. 0. 0. 0. 0. 0. 0. 0. 0. 0. 0. 0. 0. 0. 0. 0. 0. 0. 0. 0. 0.\n",
            "  0. 0. 0. 0. 0. 0. 0. 0. 0. 0. 0. 0. 0. 0. 0. 0. 0. 0. 0. 0. 0. 0. 0. 0.\n",
            "  0. 0. 0. 0. 0. 0. 0. 0. 0. 0. 0. 0. 0. 0. 0. 0. 0. 0. 0. 0. 0. 0. 0. 0.\n",
            "  0. 0. 0. 0. 0. 0. 0. 0. 0. 0. 0. 0. 0. 0. 0. 0. 0. 0. 0. 0. 0. 0. 0. 0.\n",
            "  0. 0. 0. 0. 0. 0. 0. 0. 0. 0. 0. 0. 0. 0. 0. 0. 0. 0. 0. 0. 0. 0. 0. 0.\n",
            "  0. 0. 0. 0. 0. 0. 0. 0. 0. 0. 0. 0. 0. 0. 0. 0. 0. 0. 0. 0. 0. 0. 0. 0.\n",
            "  0. 0. 0. 0. 0. 0. 0. 0. 0. 0. 0. 0. 0. 0. 0. 0. 0. 0. 0. 0. 0. 0. 0. 0.\n",
            "  0. 0. 0. 0. 0. 0. 0. 0. 0. 0. 0. 0. 0. 0. 0. 0. 0. 0. 0. 0. 0. 0. 0. 0.\n",
            "  0. 0. 0. 0. 0. 0. 0. 0. 0. 0. 0. 0. 0. 0. 0. 0. 0. 0. 0. 0. 0. 0. 0. 0.\n",
            "  0. 0. 0. 0. 0. 0. 0. 0. 0. 0. 0. 0. 0. 0. 0. 0. 0. 0. 0. 0. 0. 0. 0. 0.\n",
            "  0. 0. 0.]]\n"
          ]
        }
      ],
      "source": [
        "# Print the some rows of the matrix for the molecule with the longest smiles\n",
        "np.set_printoptions(threshold=np.inf)\n",
        "subset = 3\n",
        "unique_char = list(unique_char)\n",
        "print(\n",
        "    f\"First {subset} rows of the ohe matrix, representing the characters {unique_char[0:subset]}\\n\"\n",
        ")\n",
        "print(np.matrix(df.iloc[longest_smiles_index[0]][\"unique_char_ohe_matrix\"])[0:subset, :])"
      ]
    },
    {
      "cell_type": "markdown",
      "metadata": {
        "id": "uGkoNEe_Vbe0"
      },
      "source": [
        "## Discussion\n",
        "\n",
        "In the fields of computer aided drug discovery and development, machine learning techniques have been used for the development of novel drug candidates. The methods for designing drug targets and novel drug discovery now oftenly combine machine learning and deep learning algorithms to enhance the efficiency, efficacy, and quality of developed outputs.\n",
        "\n",
        "But to work with any machine learning or deep learning algorithms, the input data should be in machine readable format. In computed-aided drug design, we mainly deal with the categorical or textual data where we work with drug molecules which are represented in SMILES string format, therefore we have to convert these categorical data to a numerical format.\n",
        "\n",
        "**One-hot encoding** is one of the popular and efficient encoding technique which converts the data to a numerical format. It can be used an important preprocessing steps before applying any machine learning or deep learning algorithms.\n",
        "\n",
        "In this talktorial, we have applied one hot encoding after preprocessing the data to overcome some of the shortcomings such as:\n",
        "\n",
        "- Make equal dimension of the one-hot encoded matrices because SMILES strings could have unequal dimension since their string length might differ and for most machine learning application having equal dimension throughout the data set is required.\n",
        "\n",
        "- Replacing two character element such as `Cl` to a single character because while one-hot encoding, it would split `Cl` into two characters, namely `C` and `l`, and that could lead to discrepancies.  \n",
        "\n",
        "- Looking for unique characters in the data set to produce less sparse one-hot encoded matrices.\n",
        "\n",
        "\n",
        "One-hot encoding has several applications in various fields such as:\n",
        "\n",
        "- __Machine learning (neural networks)__: In machine learning , one-hot encoding is a frequently used method to deal with categorical data because many machine learning models need their input variables to be numeric.\n",
        "\n",
        "- __Natural language processing (NLP)__: For NLP, most of the times data consists of corpus of words which is categorical in nature. Consider we have vocabulary of size $N$. In the one-hot encoding technique, we map the words to the vectors of length $n$, where the $n$th digit is an indicator of the presence of the particular word. The $n$th bit of each vector indicates the presence of the $n$th word in the vocabulary. For example if we are converting words to the one-hot encoding format, then we will see vectors such as $[0000\\dots 100], [0000\\dots 010], [0000\\dots 001]$, and so on. Using this technique normal sentences can be represented as vectors and numerical operations can be then performed on this vector form."
      ]
    },
    {
      "cell_type": "markdown",
      "metadata": {
        "id": "cT5aK_g1Vbe0"
      },
      "source": [
        "## Quiz"
      ]
    },
    {
      "cell_type": "markdown",
      "metadata": {
        "id": "Epf5EfiDVbe0"
      },
      "source": [
        "- Why is it required to have equal dimensions of the one-hot encoded matrix?\n",
        "- Is there any other way to pre-process the data?\n",
        "- How and which machine learning models can be applied on the above data set?"
      ]
    },
    {
      "cell_type": "markdown",
      "metadata": {
        "id": "grB-RGxOVbe0"
      },
      "source": [
        "## Supplementary material\n",
        "\n",
        "If you are interested in other implementations of one-hot encoding, please keep reading this section. This includes:\n",
        "\n",
        "* Exploring **scikit-learn** and **keras** implementations of one-hot encoding.\n",
        "* Performing **padding** before and after one-hot encoding."
      ]
    },
    {
      "cell_type": "markdown",
      "metadata": {
        "id": "RXTRJzzJVbe0"
      },
      "source": [
        "### Scikit-learn implementation of one-hot encoding"
      ]
    },
    {
      "cell_type": "markdown",
      "metadata": {
        "id": "yhw-yl-YVbe0"
      },
      "source": [
        "Before implementing one-hot encoding using scikit-learn, we have defined the functions named\n",
        "\n",
        "* `later_padding`, which adds horizontal and vertical padding to the given matrix,\n",
        "* and `initial_padding` which adds zeros to the character list after they are label encoded.\n",
        "\n",
        "Both using the `numpy.pad` function as discussed in the theory section.\n",
        "\n",
        "These functions are later used as a boolean parameter (`islaterpadding` and `isinitialpadding`) in the scikit-learn and keras implementations to choose if later padding or initial padding is required."
      ]
    },
    {
      "cell_type": "code",
      "execution_count": null,
      "metadata": {
        "tags": [],
        "id": "dMU3dNV2Vbe0"
      },
      "outputs": [],
      "source": [
        "# Function to add padding after one-hot encoding\n",
        "def later_padding(ohe_matrix, smiles_maxlen, unique_char):\n",
        "    \"\"\"\n",
        "    Add horizontal and vertical padding\n",
        "    to the given matrix using numpy.pad() function.\n",
        "\n",
        "    Parameters\n",
        "    ----------\n",
        "    ohe_matrix : ndarray\n",
        "        Character array.\n",
        "    smiles_max_len : int\n",
        "        Maximum length of the SMILES string.\n",
        "    unique_char : list\n",
        "        List of unique characters in the string data set.\n",
        "\n",
        "    Returns\n",
        "    -------\n",
        "    padded_matrix : numpy.ndarray\n",
        "           Padded one-hot encoded matrix of\n",
        "           shape (unique char in smiles, max smile_length).\n",
        "    \"\"\"\n",
        "\n",
        "    padded_matrix = np.pad(\n",
        "        ohe_matrix,\n",
        "        ((0, smiles_maxlen - len(ohe_matrix)), (0, len(unique_char) - len(ohe_matrix[0]))),\n",
        "        \"constant\",\n",
        "    )\n",
        "    return padded_matrix"
      ]
    },
    {
      "cell_type": "code",
      "execution_count": null,
      "metadata": {
        "tags": [],
        "id": "i5Tr6YcTVbe1"
      },
      "outputs": [],
      "source": [
        "# Function to add padding before one-hot encoding\n",
        "# after label (integer) encoding\n",
        "def initial_padding(smiles, max_len):\n",
        "    \"\"\"\n",
        "    Add zeroes to the list of characters\n",
        "    after integer encoding them\n",
        "\n",
        "    Parameters\n",
        "    ----------\n",
        "    smiles : str\n",
        "       SMILES string.\n",
        "    max_len : int\n",
        "       Maximum length of the SMILES string\n",
        "\n",
        "    Returns\n",
        "    -------\n",
        "    canonical_char_padded : numpy.ndarray\n",
        "      Canonical character array padded to max_len.\n",
        "    \"\"\"\n",
        "    canonical_char = list(smiles)\n",
        "    # Perform padding on the list of characters\n",
        "    canonical_char_padded = np.pad(canonical_char, (0, max_len - len(canonical_char)), \"constant\")\n",
        "    return canonical_char_padded"
      ]
    },
    {
      "cell_type": "markdown",
      "metadata": {
        "id": "Lbrzfx7dVbe1"
      },
      "source": [
        "**One-hot encoding using scikit-learn**\n",
        "\n",
        "Now, we proceed with our second implementation of one-hot encoding from scikit-learn. We can use the [OneHotEncoder](https://scikit-learn.org/stable/modules/generated/sklearn.preprocessing.OneHotEncoder.html) from the `sklearn` library.\n",
        "\n",
        "* The function takes only numerical categorical values, hence any value of type string should be [label_encoded](https://scikit-learn.org/stable/modules/generated/sklearn.preprocessing.LabelEncoder.html) first before one-hot encoding.\n",
        "* Thus, in the functions below first label (integer) encoded SMILES are produced, then the integer encoded SMILES are transformed to one-hot encoded matrices.\n",
        "* By default, the OneHotEncoder class returns a more efficient sparse encoding, which we disabled by setting the `sparse=False` argument."
      ]
    },
    {
      "cell_type": "code",
      "execution_count": null,
      "metadata": {
        "tags": [],
        "id": "T3zim7LMVbe1"
      },
      "outputs": [],
      "source": [
        "# Use Scikit-learn implementation of one-hot encoding\n",
        "def sklearn_one_hot_encoded_matrix(\n",
        "    smiles, islaterpadding, isinitialpadding, smiles_maxlen, unique_char\n",
        "):\n",
        "    \"\"\"\n",
        "    Label and one-hot encodes the SMILES\n",
        "    using sklearn LabelEncoder and OneHotEncoder implementation.\n",
        "\n",
        "    Parameters\n",
        "    ----------\n",
        "    smiles : str\n",
        "        SMILES string of a compound.\n",
        "    islaterpadding : bool\n",
        "        Paramater is `True` if `later_padding` is required,\n",
        "        `False` otherwise.\n",
        "    isinitialpadding : bool\n",
        "        Paramater is `True` if `initial_padding` is required,\n",
        "        `False` otherwise.\n",
        "    smile_maxlen : int\n",
        "       Maximum length of the SMILES string\n",
        "    unique_char : list\n",
        "        List of unique characters in the string data set.\n",
        "\n",
        "    Returns\n",
        "    -------\n",
        "    onehot_encoded : numpy.ndarray\n",
        "        One-hot encoded matrix of shape\n",
        "        (chars in individual SMILES, length of individual SMILES).\n",
        "    \"\"\"\n",
        "    # Integer encoding\n",
        "    canonical_char = list(smiles)\n",
        "    label_encoder = LabelEncoder()\n",
        "    # Fit_transform function is used to first fit the data and then transform it\n",
        "    integer_encoded = label_encoder.fit_transform(canonical_char)\n",
        "\n",
        "    # If initial padding, add zeros to vector (columns in matrix)\n",
        "    if isinitialpadding:\n",
        "        integer_encoded = initial_padding(integer_encoded, smiles_maxlen)\n",
        "\n",
        "    # One-hot encoding\n",
        "    onehot_encoder = OneHotEncoder(sparse=False)\n",
        "    # Reshape the integer encoded data\n",
        "    integer_encoded = integer_encoded.reshape(len(integer_encoded), 1)\n",
        "    onehot_encoded = onehot_encoder.fit_transform(integer_encoded)\n",
        "\n",
        "    # If later padding, add zeros to ohe matrix\n",
        "    if islaterpadding:\n",
        "        onehot_encoded = later_padding(onehot_encoded, smiles_maxlen, unique_char)\n",
        "\n",
        "    onehot_encoded = onehot_encoded.transpose()\n",
        "\n",
        "    # If initial padding, add zeros to rows\n",
        "    if isinitialpadding:\n",
        "        row_padding = np.zeros(shape=(len(unique_char) - len(onehot_encoded), smiles_maxlen))\n",
        "        onehot_encoded = np.append(onehot_encoded, row_padding, axis=0)\n",
        "    return onehot_encoded"
      ]
    },
    {
      "cell_type": "markdown",
      "metadata": {
        "id": "jpPj-ukuVbe1"
      },
      "source": [
        "#### Without padding (unequal dimension)\n",
        "\n",
        "We can use the `sklearn_one_hot_encoded_matrix` function defined above to create the one-hot encoded matrix without padding.\n",
        "This will create matrices with unequal dimensions, because it will first label encode all the characters present in the SMILES strings (individually) and then one-hot encode them."
      ]
    },
    {
      "cell_type": "code",
      "execution_count": null,
      "metadata": {
        "tags": [],
        "id": "VvB0I_k3Vbe1",
        "outputId": "0b67057e-1a72-4de1-ffdb-82d3c20fd847"
      },
      "outputs": [
        {
          "data": {
            "text/html": [
              "<div>\n",
              "<style scoped>\n",
              "    .dataframe tbody tr th:only-of-type {\n",
              "        vertical-align: middle;\n",
              "    }\n",
              "\n",
              "    .dataframe tbody tr th {\n",
              "        vertical-align: top;\n",
              "    }\n",
              "\n",
              "    .dataframe thead th {\n",
              "        text-align: right;\n",
              "    }\n",
              "</style>\n",
              "<table border=\"1\" class=\"dataframe\">\n",
              "  <thead>\n",
              "    <tr style=\"text-align: right;\">\n",
              "      <th></th>\n",
              "      <th>chembl_id</th>\n",
              "      <th>canonical_smiles</th>\n",
              "      <th>Mol2D</th>\n",
              "      <th>processed_canonical_smiles</th>\n",
              "      <th>unique_char_ohe_matrix</th>\n",
              "      <th>sklearn_ohe_matrix_no_padding</th>\n",
              "    </tr>\n",
              "  </thead>\n",
              "  <tbody>\n",
              "    <tr>\n",
              "      <th>0</th>\n",
              "      <td>CHEMBL207869</td>\n",
              "      <td>Clc1c(OCc2cc(F)ccc2)ccc(Nc2c(C#Cc3ncccn3)cncn2)c1</td>\n",
              "      <td>&lt;rdkit.Chem.rdchem.Mol object at 0x7f824651b200&gt;</td>\n",
              "      <td>Lc1c(OCc2cc(F)ccc2)ccc(Nc2c(C#Cc3ncccn3)cncn2)c1</td>\n",
              "      <td>[[0.0, 0.0, 0.0, 0.0, 0.0, 0.0, 0.0, 0.0, 0.0,...</td>\n",
              "      <td>[[0.0, 0.0, 0.0, 0.0, 0.0, 0.0, 0.0, 0.0, 0.0,...</td>\n",
              "    </tr>\n",
              "    <tr>\n",
              "      <th>1</th>\n",
              "      <td>CHEMBL3940060</td>\n",
              "      <td>ClCC(=O)OCCN1C(=O)Oc2c1cc1c(Nc3cc(Cl)c(F)cc3)n...</td>\n",
              "      <td>&lt;rdkit.Chem.rdchem.Mol object at 0x7f824651b580&gt;</td>\n",
              "      <td>LCC(=O)OCCN1C(=O)Oc2c1cc1c(Nc3cc(L)c(F)cc3)ncn...</td>\n",
              "      <td>[[0.0, 0.0, 0.0, 0.0, 0.0, 0.0, 0.0, 0.0, 0.0,...</td>\n",
              "      <td>[[0.0, 0.0, 0.0, 1.0, 0.0, 0.0, 0.0, 0.0, 0.0,...</td>\n",
              "    </tr>\n",
              "  </tbody>\n",
              "</table>\n",
              "</div>"
            ],
            "text/plain": [
              "       chembl_id                                   canonical_smiles  \\\n",
              "0   CHEMBL207869  Clc1c(OCc2cc(F)ccc2)ccc(Nc2c(C#Cc3ncccn3)cncn2)c1   \n",
              "1  CHEMBL3940060  ClCC(=O)OCCN1C(=O)Oc2c1cc1c(Nc3cc(Cl)c(F)cc3)n...   \n",
              "\n",
              "                                              Mol2D  \\\n",
              "0  <rdkit.Chem.rdchem.Mol object at 0x7f824651b200>   \n",
              "1  <rdkit.Chem.rdchem.Mol object at 0x7f824651b580>   \n",
              "\n",
              "                          processed_canonical_smiles  \\\n",
              "0   Lc1c(OCc2cc(F)ccc2)ccc(Nc2c(C#Cc3ncccn3)cncn2)c1   \n",
              "1  LCC(=O)OCCN1C(=O)Oc2c1cc1c(Nc3cc(L)c(F)cc3)ncn...   \n",
              "\n",
              "                              unique_char_ohe_matrix  \\\n",
              "0  [[0.0, 0.0, 0.0, 0.0, 0.0, 0.0, 0.0, 0.0, 0.0,...   \n",
              "1  [[0.0, 0.0, 0.0, 0.0, 0.0, 0.0, 0.0, 0.0, 0.0,...   \n",
              "\n",
              "                       sklearn_ohe_matrix_no_padding  \n",
              "0  [[0.0, 0.0, 0.0, 0.0, 0.0, 0.0, 0.0, 0.0, 0.0,...  \n",
              "1  [[0.0, 0.0, 0.0, 1.0, 0.0, 0.0, 0.0, 0.0, 0.0,...  "
            ]
          },
          "execution_count": 27,
          "metadata": {},
          "output_type": "execute_result"
        }
      ],
      "source": [
        "# Apply the function over the processed canonical SMILES strings\n",
        "df[\"sklearn_ohe_matrix_no_padding\"] = df[\"processed_canonical_smiles\"].apply(\n",
        "    sklearn_one_hot_encoded_matrix,\n",
        "    islaterpadding=False,\n",
        "    isinitialpadding=False,\n",
        "    smiles_maxlen=smiles_maxlen,\n",
        "    unique_char=unique_char,\n",
        ")\n",
        "df.head(2)"
      ]
    },
    {
      "cell_type": "markdown",
      "metadata": {
        "id": "G8R1JKAMVbe1"
      },
      "source": [
        "**Visualization of one-hot encoded matrix (unequal dimension)**"
      ]
    },
    {
      "cell_type": "code",
      "execution_count": null,
      "metadata": {
        "tags": [],
        "id": "EgHgA8U1Vbe1",
        "outputId": "437d1d22-f597-4b1e-deb4-eebab1deb1c4"
      },
      "outputs": [
        {
          "data": {
            "image/png": "[encoded data removed]",
            "text/plain": [
              "<Figure size 640x480 with 1 Axes>"
            ]
          },
          "metadata": {},
          "output_type": "display_data"
        },
        {
          "name": "stdout",
          "output_type": "stream",
          "text": [
            "Shape of one-hot matrix :  (15, 43)\n",
            "Associated canonical SMILES:  N([C@H](C)c1ccccc1)c1ncnc2oc(-c3ccccc3)cc12\n"
          ]
        }
      ],
      "source": [
        "# Choose index of the compound for which the OHE matrix is visualised\n",
        "index = 100\n",
        "one_hot_matrix_plot(\n",
        "    df.iloc[index][\"sklearn_ohe_matrix_no_padding\"],\n",
        "    df.iloc[index][\"sklearn_ohe_matrix_no_padding\"],\n",
        "    df.iloc[index][\"processed_canonical_smiles\"],\n",
        ")"
      ]
    },
    {
      "cell_type": "markdown",
      "metadata": {
        "id": "zbRoUH8eVbe1"
      },
      "source": [
        "#### With padding (equal dimension)\n",
        "Padding can either be done before or after one-hot encoding is performed on the SMILES strings, meaning after we label encode the SMILES characters.\n",
        "We discuss both scenarios in the next sections."
      ]
    },
    {
      "cell_type": "markdown",
      "metadata": {
        "id": "s0TmRLInVbe1"
      },
      "source": [
        "##### Padding after one-hot encoding is performed\n",
        "\n",
        "We simply pass **True** to the `islaterpadding` boolean parameter to the `sklearn_one_hot_encoded_matrix` function as shown below to pad the matrix after one-hot encoding is performed,"
      ]
    },
    {
      "cell_type": "code",
      "execution_count": null,
      "metadata": {
        "tags": [],
        "id": "1_SX_hn3Vbe1",
        "outputId": "8b899727-a4bb-4589-bdcc-8392b2a01b94"
      },
      "outputs": [
        {
          "data": {
            "text/html": [
              "<div>\n",
              "<style scoped>\n",
              "    .dataframe tbody tr th:only-of-type {\n",
              "        vertical-align: middle;\n",
              "    }\n",
              "\n",
              "    .dataframe tbody tr th {\n",
              "        vertical-align: top;\n",
              "    }\n",
              "\n",
              "    .dataframe thead th {\n",
              "        text-align: right;\n",
              "    }\n",
              "</style>\n",
              "<table border=\"1\" class=\"dataframe\">\n",
              "  <thead>\n",
              "    <tr style=\"text-align: right;\">\n",
              "      <th></th>\n",
              "      <th>chembl_id</th>\n",
              "      <th>canonical_smiles</th>\n",
              "      <th>Mol2D</th>\n",
              "      <th>processed_canonical_smiles</th>\n",
              "      <th>unique_char_ohe_matrix</th>\n",
              "      <th>sklearn_ohe_matrix_no_padding</th>\n",
              "      <th>sklearn_ohe_matrix_later_padding</th>\n",
              "    </tr>\n",
              "  </thead>\n",
              "  <tbody>\n",
              "    <tr>\n",
              "      <th>0</th>\n",
              "      <td>CHEMBL207869</td>\n",
              "      <td>Clc1c(OCc2cc(F)ccc2)ccc(Nc2c(C#Cc3ncccn3)cncn2)c1</td>\n",
              "      <td>&lt;rdkit.Chem.rdchem.Mol object at 0x7f824651b200&gt;</td>\n",
              "      <td>Lc1c(OCc2cc(F)ccc2)ccc(Nc2c(C#Cc3ncccn3)cncn2)c1</td>\n",
              "      <td>[[0.0, 0.0, 0.0, 0.0, 0.0, 0.0, 0.0, 0.0, 0.0,...</td>\n",
              "      <td>[[0.0, 0.0, 0.0, 0.0, 0.0, 0.0, 0.0, 0.0, 0.0,...</td>\n",
              "      <td>[[0.0, 0.0, 0.0, 0.0, 0.0, 0.0, 0.0, 0.0, 0.0,...</td>\n",
              "    </tr>\n",
              "    <tr>\n",
              "      <th>1</th>\n",
              "      <td>CHEMBL3940060</td>\n",
              "      <td>ClCC(=O)OCCN1C(=O)Oc2c1cc1c(Nc3cc(Cl)c(F)cc3)n...</td>\n",
              "      <td>&lt;rdkit.Chem.rdchem.Mol object at 0x7f824651b580&gt;</td>\n",
              "      <td>LCC(=O)OCCN1C(=O)Oc2c1cc1c(Nc3cc(L)c(F)cc3)ncn...</td>\n",
              "      <td>[[0.0, 0.0, 0.0, 0.0, 0.0, 0.0, 0.0, 0.0, 0.0,...</td>\n",
              "      <td>[[0.0, 0.0, 0.0, 1.0, 0.0, 0.0, 0.0, 0.0, 0.0,...</td>\n",
              "      <td>[[0.0, 0.0, 0.0, 1.0, 0.0, 0.0, 0.0, 0.0, 0.0,...</td>\n",
              "    </tr>\n",
              "  </tbody>\n",
              "</table>\n",
              "</div>"
            ],
            "text/plain": [
              "       chembl_id                                   canonical_smiles  \\\n",
              "0   CHEMBL207869  Clc1c(OCc2cc(F)ccc2)ccc(Nc2c(C#Cc3ncccn3)cncn2)c1   \n",
              "1  CHEMBL3940060  ClCC(=O)OCCN1C(=O)Oc2c1cc1c(Nc3cc(Cl)c(F)cc3)n...   \n",
              "\n",
              "                                              Mol2D  \\\n",
              "0  <rdkit.Chem.rdchem.Mol object at 0x7f824651b200>   \n",
              "1  <rdkit.Chem.rdchem.Mol object at 0x7f824651b580>   \n",
              "\n",
              "                          processed_canonical_smiles  \\\n",
              "0   Lc1c(OCc2cc(F)ccc2)ccc(Nc2c(C#Cc3ncccn3)cncn2)c1   \n",
              "1  LCC(=O)OCCN1C(=O)Oc2c1cc1c(Nc3cc(L)c(F)cc3)ncn...   \n",
              "\n",
              "                              unique_char_ohe_matrix  \\\n",
              "0  [[0.0, 0.0, 0.0, 0.0, 0.0, 0.0, 0.0, 0.0, 0.0,...   \n",
              "1  [[0.0, 0.0, 0.0, 0.0, 0.0, 0.0, 0.0, 0.0, 0.0,...   \n",
              "\n",
              "                       sklearn_ohe_matrix_no_padding  \\\n",
              "0  [[0.0, 0.0, 0.0, 0.0, 0.0, 0.0, 0.0, 0.0, 0.0,...   \n",
              "1  [[0.0, 0.0, 0.0, 1.0, 0.0, 0.0, 0.0, 0.0, 0.0,...   \n",
              "\n",
              "                    sklearn_ohe_matrix_later_padding  \n",
              "0  [[0.0, 0.0, 0.0, 0.0, 0.0, 0.0, 0.0, 0.0, 0.0,...  \n",
              "1  [[0.0, 0.0, 0.0, 1.0, 0.0, 0.0, 0.0, 0.0, 0.0,...  "
            ]
          },
          "execution_count": 29,
          "metadata": {},
          "output_type": "execute_result"
        }
      ],
      "source": [
        "# Apply the function over the processed canonical SMILES strings\n",
        "df[\"sklearn_ohe_matrix_later_padding\"] = df[\"processed_canonical_smiles\"].apply(\n",
        "    sklearn_one_hot_encoded_matrix,\n",
        "    islaterpadding=True,\n",
        "    isinitialpadding=False,\n",
        "    smiles_maxlen=smiles_maxlen,\n",
        "    unique_char=unique_char,\n",
        ")\n",
        "df.head(2)"
      ]
    },
    {
      "cell_type": "markdown",
      "metadata": {
        "id": "gLrIzee9Vbe2"
      },
      "source": [
        "**Visualization of one-hot encoded matrix (equal dimension)**"
      ]
    },
    {
      "cell_type": "code",
      "execution_count": null,
      "metadata": {
        "tags": [],
        "id": "VNFig2nTVbe2",
        "outputId": "acfea9d1-c977-4518-a7fb-55d17be20fe5"
      },
      "outputs": [
        {
          "data": {
            "image/png": "[encoded data removed]",
            "text/plain": [
              "<Figure size 640x480 with 1 Axes>"
            ]
          },
          "metadata": {},
          "output_type": "display_data"
        },
        {
          "name": "stdout",
          "output_type": "stream",
          "text": [
            "Shape of one-hot matrix :  (36, 267)\n",
            "Associated canonical SMILES:  O(C)c1c(C(=Cc2c3c(N)nc(N)nc3oc2)CCCC)cccc1\n"
          ]
        }
      ],
      "source": [
        "# Choose index of the compound for which the OHE matrix is visualised\n",
        "index = 2705\n",
        "one_hot_matrix_plot(\n",
        "    df.iloc[index][\"sklearn_ohe_matrix_later_padding\"],\n",
        "    unique_char,\n",
        "    df.iloc[index][\"processed_canonical_smiles\"],\n",
        ")"
      ]
    },
    {
      "cell_type": "markdown",
      "metadata": {
        "id": "BQMc5m-JVbe2"
      },
      "source": [
        "##### Padding before one-hot encoding is performed\n",
        "\n",
        "In this case, padding is performed before OHE - but after integer encoding - the list of SMILES characters by passing **True** to the `initial_padding` boolean parameter to the `sklearn_one_hot_encoded_matrix` function."
      ]
    },
    {
      "cell_type": "code",
      "execution_count": null,
      "metadata": {
        "tags": [],
        "id": "xH5Faq8EVbe2",
        "outputId": "2b437e29-4886-46af-e89b-db9c2436b260"
      },
      "outputs": [
        {
          "data": {
            "text/html": [
              "<div>\n",
              "<style scoped>\n",
              "    .dataframe tbody tr th:only-of-type {\n",
              "        vertical-align: middle;\n",
              "    }\n",
              "\n",
              "    .dataframe tbody tr th {\n",
              "        vertical-align: top;\n",
              "    }\n",
              "\n",
              "    .dataframe thead th {\n",
              "        text-align: right;\n",
              "    }\n",
              "</style>\n",
              "<table border=\"1\" class=\"dataframe\">\n",
              "  <thead>\n",
              "    <tr style=\"text-align: right;\">\n",
              "      <th></th>\n",
              "      <th>chembl_id</th>\n",
              "      <th>canonical_smiles</th>\n",
              "      <th>Mol2D</th>\n",
              "      <th>processed_canonical_smiles</th>\n",
              "      <th>unique_char_ohe_matrix</th>\n",
              "      <th>sklearn_ohe_matrix_no_padding</th>\n",
              "      <th>sklearn_ohe_matrix_later_padding</th>\n",
              "      <th>sklearn_ohe_matrix_initial_padding</th>\n",
              "    </tr>\n",
              "  </thead>\n",
              "  <tbody>\n",
              "    <tr>\n",
              "      <th>0</th>\n",
              "      <td>CHEMBL207869</td>\n",
              "      <td>Clc1c(OCc2cc(F)ccc2)ccc(Nc2c(C#Cc3ncccn3)cncn2)c1</td>\n",
              "      <td>&lt;rdkit.Chem.rdchem.Mol object at 0x7f824651b200&gt;</td>\n",
              "      <td>Lc1c(OCc2cc(F)ccc2)ccc(Nc2c(C#Cc3ncccn3)cncn2)c1</td>\n",
              "      <td>[[0.0, 0.0, 0.0, 0.0, 0.0, 0.0, 0.0, 0.0, 0.0,...</td>\n",
              "      <td>[[0.0, 0.0, 0.0, 0.0, 0.0, 0.0, 0.0, 0.0, 0.0,...</td>\n",
              "      <td>[[0.0, 0.0, 0.0, 0.0, 0.0, 0.0, 0.0, 0.0, 0.0,...</td>\n",
              "      <td>[[0.0, 0.0, 0.0, 0.0, 0.0, 0.0, 0.0, 0.0, 0.0,...</td>\n",
              "    </tr>\n",
              "    <tr>\n",
              "      <th>1</th>\n",
              "      <td>CHEMBL3940060</td>\n",
              "      <td>ClCC(=O)OCCN1C(=O)Oc2c1cc1c(Nc3cc(Cl)c(F)cc3)n...</td>\n",
              "      <td>&lt;rdkit.Chem.rdchem.Mol object at 0x7f824651b580&gt;</td>\n",
              "      <td>LCC(=O)OCCN1C(=O)Oc2c1cc1c(Nc3cc(L)c(F)cc3)ncn...</td>\n",
              "      <td>[[0.0, 0.0, 0.0, 0.0, 0.0, 0.0, 0.0, 0.0, 0.0,...</td>\n",
              "      <td>[[0.0, 0.0, 0.0, 1.0, 0.0, 0.0, 0.0, 0.0, 0.0,...</td>\n",
              "      <td>[[0.0, 0.0, 0.0, 1.0, 0.0, 0.0, 0.0, 0.0, 0.0,...</td>\n",
              "      <td>[[0.0, 0.0, 0.0, 1.0, 0.0, 0.0, 0.0, 0.0, 0.0,...</td>\n",
              "    </tr>\n",
              "  </tbody>\n",
              "</table>\n",
              "</div>"
            ],
            "text/plain": [
              "       chembl_id                                   canonical_smiles  \\\n",
              "0   CHEMBL207869  Clc1c(OCc2cc(F)ccc2)ccc(Nc2c(C#Cc3ncccn3)cncn2)c1   \n",
              "1  CHEMBL3940060  ClCC(=O)OCCN1C(=O)Oc2c1cc1c(Nc3cc(Cl)c(F)cc3)n...   \n",
              "\n",
              "                                              Mol2D  \\\n",
              "0  <rdkit.Chem.rdchem.Mol object at 0x7f824651b200>   \n",
              "1  <rdkit.Chem.rdchem.Mol object at 0x7f824651b580>   \n",
              "\n",
              "                          processed_canonical_smiles  \\\n",
              "0   Lc1c(OCc2cc(F)ccc2)ccc(Nc2c(C#Cc3ncccn3)cncn2)c1   \n",
              "1  LCC(=O)OCCN1C(=O)Oc2c1cc1c(Nc3cc(L)c(F)cc3)ncn...   \n",
              "\n",
              "                              unique_char_ohe_matrix  \\\n",
              "0  [[0.0, 0.0, 0.0, 0.0, 0.0, 0.0, 0.0, 0.0, 0.0,...   \n",
              "1  [[0.0, 0.0, 0.0, 0.0, 0.0, 0.0, 0.0, 0.0, 0.0,...   \n",
              "\n",
              "                       sklearn_ohe_matrix_no_padding  \\\n",
              "0  [[0.0, 0.0, 0.0, 0.0, 0.0, 0.0, 0.0, 0.0, 0.0,...   \n",
              "1  [[0.0, 0.0, 0.0, 1.0, 0.0, 0.0, 0.0, 0.0, 0.0,...   \n",
              "\n",
              "                    sklearn_ohe_matrix_later_padding  \\\n",
              "0  [[0.0, 0.0, 0.0, 0.0, 0.0, 0.0, 0.0, 0.0, 0.0,...   \n",
              "1  [[0.0, 0.0, 0.0, 1.0, 0.0, 0.0, 0.0, 0.0, 0.0,...   \n",
              "\n",
              "                  sklearn_ohe_matrix_initial_padding  \n",
              "0  [[0.0, 0.0, 0.0, 0.0, 0.0, 0.0, 0.0, 0.0, 0.0,...  \n",
              "1  [[0.0, 0.0, 0.0, 1.0, 0.0, 0.0, 0.0, 0.0, 0.0,...  "
            ]
          },
          "execution_count": 31,
          "metadata": {},
          "output_type": "execute_result"
        }
      ],
      "source": [
        "# Apply the function over the processed canonical SMILES strings\n",
        "df[\"sklearn_ohe_matrix_initial_padding\"] = df[\"processed_canonical_smiles\"].apply(\n",
        "    sklearn_one_hot_encoded_matrix,\n",
        "    islaterpadding=False,\n",
        "    isinitialpadding=True,\n",
        "    smiles_maxlen=smiles_maxlen,\n",
        "    unique_char=unique_char,\n",
        ")\n",
        "\n",
        "df.head(2)"
      ]
    },
    {
      "cell_type": "markdown",
      "metadata": {
        "id": "U0HCEC9SVbe2"
      },
      "source": [
        "**Visualization of one-hot encoded matrix (equal dimension)**"
      ]
    },
    {
      "cell_type": "code",
      "execution_count": null,
      "metadata": {
        "tags": [],
        "id": "LDIDKhLCVbe2",
        "outputId": "f85a0b0c-f651-4b1d-8ebc-b0d8adac2579"
      },
      "outputs": [
        {
          "data": {
            "image/png": "[encoded data removed]",
            "text/plain": [
              "<Figure size 640x480 with 1 Axes>"
            ]
          },
          "metadata": {},
          "output_type": "display_data"
        },
        {
          "name": "stdout",
          "output_type": "stream",
          "text": [
            "Shape of one-hot matrix :  (36, 267)\n",
            "Associated canonical SMILES:  O(C)c1c(C(=Cc2c3c(N)nc(N)nc3oc2)CCCC)cccc1\n"
          ]
        }
      ],
      "source": [
        "# Choose index of the compound for which the OHE matrix is visualised\n",
        "index = 2705\n",
        "one_hot_matrix_plot(\n",
        "    df.iloc[index][\"sklearn_ohe_matrix_later_padding\"],\n",
        "    unique_char,\n",
        "    df.iloc[index][\"processed_canonical_smiles\"],\n",
        ")"
      ]
    },
    {
      "cell_type": "markdown",
      "metadata": {
        "id": "Vspk2Uu0Vbe2"
      },
      "source": [
        "### Keras implementation of one-hot encoding"
      ]
    },
    {
      "cell_type": "markdown",
      "metadata": {
        "id": "XFAVp-JMVbe2"
      },
      "source": [
        "Keras is also a very powerful and intensively used library, especially employed in deep learning tasks.\n",
        "There may be a case where we have sequences or strings that are already integer encoded, then we can use the function called [to_categorical()](https://keras.io/api/utils/), provided by the keras library, to one-hot encode integer data directly, otherwise we can use [Tokenizer](https://keras.io/api/preprocessing/text/) to first integer encode the string data and then use the `to_categorical` function to one-hot encode the data."
      ]
    },
    {
      "cell_type": "code",
      "execution_count": null,
      "metadata": {
        "tags": [],
        "id": "awtNOP5MVbe2"
      },
      "outputs": [],
      "source": [
        "# Use keras implementation of one-hot encoding\n",
        "def keras_one_hot_encoded_matrix(smiles, islaterpadding, smiles_maxlen, unique_char):\n",
        "    \"\"\"\n",
        "    One-hot encodes the SMILES using keras\n",
        "    implementation.\n",
        "\n",
        "    Parameters\n",
        "    ----------\n",
        "    canonical_char : array\n",
        "        Canonical character array.\n",
        "    islaterpadding : bool\n",
        "        The paramater is `True` if later_padding is required,\n",
        "        `False` otherwise.\n",
        "    smiles_maxlen : int\n",
        "        Maximum length of the SMILES string.\n",
        "    unique_char : list\n",
        "        List of unique characters in the string data set.\n",
        "\n",
        "    Returns\n",
        "    -------\n",
        "    encoded : numpy.ndarray\n",
        "        One-hot encoded matrix of shape\n",
        "        (chars in SMILES, length of SMILES).\n",
        "    \"\"\"\n",
        "\n",
        "    # Integer encoding using Tokenizer\n",
        "    input_smiles = smiles\n",
        "    tokenizer = Tokenizer(char_level=True)\n",
        "    tokenizer.fit_on_texts([input_smiles])\n",
        "    integer_encoded = tokenizer.texts_to_sequences([input_smiles])[0]\n",
        "\n",
        "    # One-hot encoding using to_categorical function\n",
        "    encoded = to_categorical(integer_encoded)\n",
        "    if islaterpadding:\n",
        "        encoded = later_padding(encoded, smiles_maxlen, unique_char)\n",
        "    encoded = encoded.transpose()\n",
        "    return encoded"
      ]
    },
    {
      "cell_type": "markdown",
      "metadata": {
        "id": "a30QLzg4Vbe2"
      },
      "source": [
        "Next, we implement two scenarios:\n",
        "\n",
        "- OHE without padding, which will result in unequal dimensions of the produced one-hot encoded matrix and\n",
        "- OHE with later padding by passing `True` to the boolean parameter `islaterpadding` in the `keras_one_hot_encoded_matrix` function."
      ]
    },
    {
      "cell_type": "markdown",
      "metadata": {
        "id": "OhTbu6_EVbe3"
      },
      "source": [
        "#### Without padding (unequal dimension)"
      ]
    },
    {
      "cell_type": "code",
      "execution_count": null,
      "metadata": {
        "tags": [],
        "id": "rVMVaQVSVbe3",
        "outputId": "492be3ef-e185-4d46-b530-8d1b9ab9a5c7"
      },
      "outputs": [
        {
          "data": {
            "text/html": [
              "<div>\n",
              "<style scoped>\n",
              "    .dataframe tbody tr th:only-of-type {\n",
              "        vertical-align: middle;\n",
              "    }\n",
              "\n",
              "    .dataframe tbody tr th {\n",
              "        vertical-align: top;\n",
              "    }\n",
              "\n",
              "    .dataframe thead th {\n",
              "        text-align: right;\n",
              "    }\n",
              "</style>\n",
              "<table border=\"1\" class=\"dataframe\">\n",
              "  <thead>\n",
              "    <tr style=\"text-align: right;\">\n",
              "      <th></th>\n",
              "      <th>chembl_id</th>\n",
              "      <th>canonical_smiles</th>\n",
              "      <th>Mol2D</th>\n",
              "      <th>processed_canonical_smiles</th>\n",
              "      <th>unique_char_ohe_matrix</th>\n",
              "      <th>sklearn_ohe_matrix_no_padding</th>\n",
              "      <th>sklearn_ohe_matrix_later_padding</th>\n",
              "      <th>sklearn_ohe_matrix_initial_padding</th>\n",
              "      <th>keras_ohe_matrix_without_padding</th>\n",
              "    </tr>\n",
              "  </thead>\n",
              "  <tbody>\n",
              "    <tr>\n",
              "      <th>0</th>\n",
              "      <td>CHEMBL207869</td>\n",
              "      <td>Clc1c(OCc2cc(F)ccc2)ccc(Nc2c(C#Cc3ncccn3)cncn2)c1</td>\n",
              "      <td>&lt;rdkit.Chem.rdchem.Mol object at 0x7f824651b200&gt;</td>\n",
              "      <td>Lc1c(OCc2cc(F)ccc2)ccc(Nc2c(C#Cc3ncccn3)cncn2)c1</td>\n",
              "      <td>[[0.0, 0.0, 0.0, 0.0, 0.0, 0.0, 0.0, 0.0, 0.0,...</td>\n",
              "      <td>[[0.0, 0.0, 0.0, 0.0, 0.0, 0.0, 0.0, 0.0, 0.0,...</td>\n",
              "      <td>[[0.0, 0.0, 0.0, 0.0, 0.0, 0.0, 0.0, 0.0, 0.0,...</td>\n",
              "      <td>[[0.0, 0.0, 0.0, 0.0, 0.0, 0.0, 0.0, 0.0, 0.0,...</td>\n",
              "      <td>[[0.0, 0.0, 0.0, 0.0, 0.0, 0.0, 0.0, 0.0, 0.0,...</td>\n",
              "    </tr>\n",
              "    <tr>\n",
              "      <th>1</th>\n",
              "      <td>CHEMBL3940060</td>\n",
              "      <td>ClCC(=O)OCCN1C(=O)Oc2c1cc1c(Nc3cc(Cl)c(F)cc3)n...</td>\n",
              "      <td>&lt;rdkit.Chem.rdchem.Mol object at 0x7f824651b580&gt;</td>\n",
              "      <td>LCC(=O)OCCN1C(=O)Oc2c1cc1c(Nc3cc(L)c(F)cc3)ncn...</td>\n",
              "      <td>[[0.0, 0.0, 0.0, 0.0, 0.0, 0.0, 0.0, 0.0, 0.0,...</td>\n",
              "      <td>[[0.0, 0.0, 0.0, 1.0, 0.0, 0.0, 0.0, 0.0, 0.0,...</td>\n",
              "      <td>[[0.0, 0.0, 0.0, 1.0, 0.0, 0.0, 0.0, 0.0, 0.0,...</td>\n",
              "      <td>[[0.0, 0.0, 0.0, 1.0, 0.0, 0.0, 0.0, 0.0, 0.0,...</td>\n",
              "      <td>[[0.0, 0.0, 0.0, 0.0, 0.0, 0.0, 0.0, 0.0, 0.0,...</td>\n",
              "    </tr>\n",
              "  </tbody>\n",
              "</table>\n",
              "</div>"
            ],
            "text/plain": [
              "       chembl_id                                   canonical_smiles  \\\n",
              "0   CHEMBL207869  Clc1c(OCc2cc(F)ccc2)ccc(Nc2c(C#Cc3ncccn3)cncn2)c1   \n",
              "1  CHEMBL3940060  ClCC(=O)OCCN1C(=O)Oc2c1cc1c(Nc3cc(Cl)c(F)cc3)n...   \n",
              "\n",
              "                                              Mol2D  \\\n",
              "0  <rdkit.Chem.rdchem.Mol object at 0x7f824651b200>   \n",
              "1  <rdkit.Chem.rdchem.Mol object at 0x7f824651b580>   \n",
              "\n",
              "                          processed_canonical_smiles  \\\n",
              "0   Lc1c(OCc2cc(F)ccc2)ccc(Nc2c(C#Cc3ncccn3)cncn2)c1   \n",
              "1  LCC(=O)OCCN1C(=O)Oc2c1cc1c(Nc3cc(L)c(F)cc3)ncn...   \n",
              "\n",
              "                              unique_char_ohe_matrix  \\\n",
              "0  [[0.0, 0.0, 0.0, 0.0, 0.0, 0.0, 0.0, 0.0, 0.0,...   \n",
              "1  [[0.0, 0.0, 0.0, 0.0, 0.0, 0.0, 0.0, 0.0, 0.0,...   \n",
              "\n",
              "                       sklearn_ohe_matrix_no_padding  \\\n",
              "0  [[0.0, 0.0, 0.0, 0.0, 0.0, 0.0, 0.0, 0.0, 0.0,...   \n",
              "1  [[0.0, 0.0, 0.0, 1.0, 0.0, 0.0, 0.0, 0.0, 0.0,...   \n",
              "\n",
              "                    sklearn_ohe_matrix_later_padding  \\\n",
              "0  [[0.0, 0.0, 0.0, 0.0, 0.0, 0.0, 0.0, 0.0, 0.0,...   \n",
              "1  [[0.0, 0.0, 0.0, 1.0, 0.0, 0.0, 0.0, 0.0, 0.0,...   \n",
              "\n",
              "                  sklearn_ohe_matrix_initial_padding  \\\n",
              "0  [[0.0, 0.0, 0.0, 0.0, 0.0, 0.0, 0.0, 0.0, 0.0,...   \n",
              "1  [[0.0, 0.0, 0.0, 1.0, 0.0, 0.0, 0.0, 0.0, 0.0,...   \n",
              "\n",
              "                    keras_ohe_matrix_without_padding  \n",
              "0  [[0.0, 0.0, 0.0, 0.0, 0.0, 0.0, 0.0, 0.0, 0.0,...  \n",
              "1  [[0.0, 0.0, 0.0, 0.0, 0.0, 0.0, 0.0, 0.0, 0.0,...  "
            ]
          },
          "execution_count": 34,
          "metadata": {},
          "output_type": "execute_result"
        }
      ],
      "source": [
        "# Apply the function over the processed canonical SMILES strings\n",
        "df[\"keras_ohe_matrix_without_padding\"] = df[\"processed_canonical_smiles\"].apply(\n",
        "    keras_one_hot_encoded_matrix,\n",
        "    smiles_maxlen=smiles_maxlen,\n",
        "    unique_char=unique_char,\n",
        "    islaterpadding=False,\n",
        ")\n",
        "df.head(2)"
      ]
    },
    {
      "cell_type": "markdown",
      "metadata": {
        "id": "749-gGYKVbe3"
      },
      "source": [
        "**Visualization of one-hot encoded matrix (unequal dimension)**"
      ]
    },
    {
      "cell_type": "code",
      "execution_count": null,
      "metadata": {
        "tags": [],
        "id": "AUvSIgPRVbe3",
        "outputId": "9f1a6fa1-4fe1-48dd-c7d6-bcd54ea2827d"
      },
      "outputs": [
        {
          "data": {
            "image/png": "[encoded data removed]",
            "text/plain": [
              "<Figure size 640x480 with 1 Axes>"
            ]
          },
          "metadata": {},
          "output_type": "display_data"
        },
        {
          "name": "stdout",
          "output_type": "stream",
          "text": [
            "Shape of one-hot matrix :  (14, 43)\n",
            "Associated canonical SMILES:  N([C@H](C)c1ccccc1)c1ncnc2oc(-c3ccccc3)cc12\n"
          ]
        }
      ],
      "source": [
        "# Choose index of the compound for which the OHE matrix is visualised\n",
        "index = 100\n",
        "one_hot_matrix_plot(\n",
        "    df.iloc[index][\"keras_ohe_matrix_without_padding\"],\n",
        "    df.iloc[index][\"keras_ohe_matrix_without_padding\"],\n",
        "    df.iloc[index][\"processed_canonical_smiles\"],\n",
        ")"
      ]
    },
    {
      "cell_type": "markdown",
      "metadata": {
        "id": "ymbj7frbVbe3"
      },
      "source": [
        "#### With padding (equal dimension)"
      ]
    },
    {
      "cell_type": "code",
      "execution_count": null,
      "metadata": {
        "tags": [],
        "id": "nh9UtCQrVbe3",
        "outputId": "9236c01c-b6c1-4216-e9f5-77e478879b91"
      },
      "outputs": [
        {
          "data": {
            "text/html": [
              "<div>\n",
              "<style scoped>\n",
              "    .dataframe tbody tr th:only-of-type {\n",
              "        vertical-align: middle;\n",
              "    }\n",
              "\n",
              "    .dataframe tbody tr th {\n",
              "        vertical-align: top;\n",
              "    }\n",
              "\n",
              "    .dataframe thead th {\n",
              "        text-align: right;\n",
              "    }\n",
              "</style>\n",
              "<table border=\"1\" class=\"dataframe\">\n",
              "  <thead>\n",
              "    <tr style=\"text-align: right;\">\n",
              "      <th></th>\n",
              "      <th>chembl_id</th>\n",
              "      <th>canonical_smiles</th>\n",
              "      <th>Mol2D</th>\n",
              "      <th>processed_canonical_smiles</th>\n",
              "      <th>unique_char_ohe_matrix</th>\n",
              "      <th>sklearn_ohe_matrix_no_padding</th>\n",
              "      <th>sklearn_ohe_matrix_later_padding</th>\n",
              "      <th>sklearn_ohe_matrix_initial_padding</th>\n",
              "      <th>keras_ohe_matrix_without_padding</th>\n",
              "      <th>keras_ohe_matrix_padding</th>\n",
              "    </tr>\n",
              "  </thead>\n",
              "  <tbody>\n",
              "    <tr>\n",
              "      <th>0</th>\n",
              "      <td>CHEMBL207869</td>\n",
              "      <td>Clc1c(OCc2cc(F)ccc2)ccc(Nc2c(C#Cc3ncccn3)cncn2)c1</td>\n",
              "      <td>&lt;rdkit.Chem.rdchem.Mol object at 0x7f824651b200&gt;</td>\n",
              "      <td>Lc1c(OCc2cc(F)ccc2)ccc(Nc2c(C#Cc3ncccn3)cncn2)c1</td>\n",
              "      <td>[[0.0, 0.0, 0.0, 0.0, 0.0, 0.0, 0.0, 0.0, 0.0,...</td>\n",
              "      <td>[[0.0, 0.0, 0.0, 0.0, 0.0, 0.0, 0.0, 0.0, 0.0,...</td>\n",
              "      <td>[[0.0, 0.0, 0.0, 0.0, 0.0, 0.0, 0.0, 0.0, 0.0,...</td>\n",
              "      <td>[[0.0, 0.0, 0.0, 0.0, 0.0, 0.0, 0.0, 0.0, 0.0,...</td>\n",
              "      <td>[[0.0, 0.0, 0.0, 0.0, 0.0, 0.0, 0.0, 0.0, 0.0,...</td>\n",
              "      <td>[[0.0, 0.0, 0.0, 0.0, 0.0, 0.0, 0.0, 0.0, 0.0,...</td>\n",
              "    </tr>\n",
              "    <tr>\n",
              "      <th>1</th>\n",
              "      <td>CHEMBL3940060</td>\n",
              "      <td>ClCC(=O)OCCN1C(=O)Oc2c1cc1c(Nc3cc(Cl)c(F)cc3)n...</td>\n",
              "      <td>&lt;rdkit.Chem.rdchem.Mol object at 0x7f824651b580&gt;</td>\n",
              "      <td>LCC(=O)OCCN1C(=O)Oc2c1cc1c(Nc3cc(L)c(F)cc3)ncn...</td>\n",
              "      <td>[[0.0, 0.0, 0.0, 0.0, 0.0, 0.0, 0.0, 0.0, 0.0,...</td>\n",
              "      <td>[[0.0, 0.0, 0.0, 1.0, 0.0, 0.0, 0.0, 0.0, 0.0,...</td>\n",
              "      <td>[[0.0, 0.0, 0.0, 1.0, 0.0, 0.0, 0.0, 0.0, 0.0,...</td>\n",
              "      <td>[[0.0, 0.0, 0.0, 1.0, 0.0, 0.0, 0.0, 0.0, 0.0,...</td>\n",
              "      <td>[[0.0, 0.0, 0.0, 0.0, 0.0, 0.0, 0.0, 0.0, 0.0,...</td>\n",
              "      <td>[[0.0, 0.0, 0.0, 0.0, 0.0, 0.0, 0.0, 0.0, 0.0,...</td>\n",
              "    </tr>\n",
              "  </tbody>\n",
              "</table>\n",
              "</div>"
            ],
            "text/plain": [
              "       chembl_id                                   canonical_smiles  \\\n",
              "0   CHEMBL207869  Clc1c(OCc2cc(F)ccc2)ccc(Nc2c(C#Cc3ncccn3)cncn2)c1   \n",
              "1  CHEMBL3940060  ClCC(=O)OCCN1C(=O)Oc2c1cc1c(Nc3cc(Cl)c(F)cc3)n...   \n",
              "\n",
              "                                              Mol2D  \\\n",
              "0  <rdkit.Chem.rdchem.Mol object at 0x7f824651b200>   \n",
              "1  <rdkit.Chem.rdchem.Mol object at 0x7f824651b580>   \n",
              "\n",
              "                          processed_canonical_smiles  \\\n",
              "0   Lc1c(OCc2cc(F)ccc2)ccc(Nc2c(C#Cc3ncccn3)cncn2)c1   \n",
              "1  LCC(=O)OCCN1C(=O)Oc2c1cc1c(Nc3cc(L)c(F)cc3)ncn...   \n",
              "\n",
              "                              unique_char_ohe_matrix  \\\n",
              "0  [[0.0, 0.0, 0.0, 0.0, 0.0, 0.0, 0.0, 0.0, 0.0,...   \n",
              "1  [[0.0, 0.0, 0.0, 0.0, 0.0, 0.0, 0.0, 0.0, 0.0,...   \n",
              "\n",
              "                       sklearn_ohe_matrix_no_padding  \\\n",
              "0  [[0.0, 0.0, 0.0, 0.0, 0.0, 0.0, 0.0, 0.0, 0.0,...   \n",
              "1  [[0.0, 0.0, 0.0, 1.0, 0.0, 0.0, 0.0, 0.0, 0.0,...   \n",
              "\n",
              "                    sklearn_ohe_matrix_later_padding  \\\n",
              "0  [[0.0, 0.0, 0.0, 0.0, 0.0, 0.0, 0.0, 0.0, 0.0,...   \n",
              "1  [[0.0, 0.0, 0.0, 1.0, 0.0, 0.0, 0.0, 0.0, 0.0,...   \n",
              "\n",
              "                  sklearn_ohe_matrix_initial_padding  \\\n",
              "0  [[0.0, 0.0, 0.0, 0.0, 0.0, 0.0, 0.0, 0.0, 0.0,...   \n",
              "1  [[0.0, 0.0, 0.0, 1.0, 0.0, 0.0, 0.0, 0.0, 0.0,...   \n",
              "\n",
              "                    keras_ohe_matrix_without_padding  \\\n",
              "0  [[0.0, 0.0, 0.0, 0.0, 0.0, 0.0, 0.0, 0.0, 0.0,...   \n",
              "1  [[0.0, 0.0, 0.0, 0.0, 0.0, 0.0, 0.0, 0.0, 0.0,...   \n",
              "\n",
              "                            keras_ohe_matrix_padding  \n",
              "0  [[0.0, 0.0, 0.0, 0.0, 0.0, 0.0, 0.0, 0.0, 0.0,...  \n",
              "1  [[0.0, 0.0, 0.0, 0.0, 0.0, 0.0, 0.0, 0.0, 0.0,...  "
            ]
          },
          "execution_count": 36,
          "metadata": {},
          "output_type": "execute_result"
        }
      ],
      "source": [
        "# Apply the function over the Processed_canonical_smiles strings\n",
        "df[\"keras_ohe_matrix_padding\"] = df[\"processed_canonical_smiles\"].apply(\n",
        "    keras_one_hot_encoded_matrix,\n",
        "    smiles_maxlen=smiles_maxlen,\n",
        "    unique_char=unique_char,\n",
        "    islaterpadding=True,\n",
        ")\n",
        "df.head(2)"
      ]
    },
    {
      "cell_type": "markdown",
      "metadata": {
        "id": "wt295FrGVbe3"
      },
      "source": [
        "**Visualization of one-hot encoded matrix (unequal dimension)**"
      ]
    },
    {
      "cell_type": "code",
      "execution_count": null,
      "metadata": {
        "tags": [],
        "id": "YFpoeL9IVbe3",
        "outputId": "1f4a76ba-1625-413d-afaa-ebe13aeeb9f3"
      },
      "outputs": [
        {
          "data": {
            "image/png": "[encoded data removed]",
            "text/plain": [
              "<Figure size 640x480 with 1 Axes>"
            ]
          },
          "metadata": {},
          "output_type": "display_data"
        },
        {
          "name": "stdout",
          "output_type": "stream",
          "text": [
            "Shape of one-hot matrix :  (36, 267)\n",
            "Associated canonical SMILES:  O(C)c1c(C(=Cc2c3c(N)nc(N)nc3oc2)CCCC)cccc1\n"
          ]
        }
      ],
      "source": [
        "# Choose index of the compound for which the OHE matrix is visualised\n",
        "index = 2705\n",
        "one_hot_matrix_plot(\n",
        "    df.iloc[index][\"keras_ohe_matrix_padding\"],\n",
        "    unique_char,\n",
        "    df.iloc[index][\"processed_canonical_smiles\"],\n",
        ")"
      ]
    }
  ],
  "metadata": {
    "kernelspec": {
      "display_name": "Python 3 (ipykernel)",
      "language": "python",
      "name": "python3"
    },
    "language_info": {
      "codemirror_mode": {
        "name": "ipython",
        "version": 3
      },
      "file_extension": ".py",
      "mimetype": "text/x-python",
      "name": "python",
      "nbconvert_exporter": "python",
      "pygments_lexer": "ipython3",
      "version": "3.9.16"
    },
    "toc-autonumbering": true,
    "colab": {
      "provenance": [],
      "include_colab_link": true
    }
  },
  "nbformat": 4,
  "nbformat_minor": 0
}