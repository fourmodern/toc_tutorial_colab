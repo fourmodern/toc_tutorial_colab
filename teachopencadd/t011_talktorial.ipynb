{
  "cells": [
    {
      "cell_type": "markdown",
      "metadata": {
        "id": "view-in-github",
        "colab_type": "text"
      },
      "source": [
        "<a href=\"https://colab.research.google.com/github/fourmodern/toc_tutorial_colab/blob/main/teachopencadd/t011_talktorial.ipynb\" target=\"_parent\"><img src=\"https://colab.research.google.com/assets/colab-badge.svg\" alt=\"Open In Colab\"/></a>"
      ]
    },
    {
      "cell_type": "markdown",
      "metadata": {
        "id": "PlaExl5gFXrP"
      },
      "source": [
        "# T011 · Querying online API webservices\n",
        "\n",
        "**Note:** This talktorial is a part of TeachOpenCADD, a platform that aims to teach domain-specific skills and to provide pipeline templates as starting points for research projects.\n",
        "\n",
        "Authors:\n",
        "\n",
        "- Jaime Rodríguez-Guerra, 2020-2021, [Volkamer lab, Charité](https://volkamerlab.org/)\n",
        "- Dominique Sydow, 2021, [Volkamer lab, Charité](https://volkamerlab.org/)\n",
        "- David Schaller, 2021, [Volkamer lab, Charité](https://volkamerlab.org/)"
      ]
    },
    {
      "cell_type": "markdown",
      "metadata": {
        "id": "sWOMsok7FXrR"
      },
      "source": [
        "## Aim of this talktorial\n",
        "\n",
        "In this notebook, you will learn how to programmatically use online web-services from Python, in the context of drug design. By the end of this talktorial, you will be familiar with REST services and web scraping."
      ]
    },
    {
      "cell_type": "markdown",
      "metadata": {
        "id": "9Q1P5FlWFXrR"
      },
      "source": [
        "### Contents in Theory\n",
        "\n",
        "* Data access from a server-side perspective"
      ]
    },
    {
      "cell_type": "markdown",
      "metadata": {
        "id": "sMVjpwVxFXrR"
      },
      "source": [
        "### Contents in Practical\n",
        "\n",
        "* Downloading static files\n",
        "* Accessing dynamically generated content\n",
        "* Programmatic interfaces\n",
        "* Document parsing\n",
        "* Browser remote control"
      ]
    },
    {
      "cell_type": "markdown",
      "metadata": {
        "id": "1Cmm7cjhFXrS"
      },
      "source": [
        "### References\n",
        "\n",
        "This guide is very practical and omits some technical definitions for the sake of clarity. However, you should also handle some basic terminology to fully understand what is going on behind the scenes.\n",
        "\n",
        "* [Client-server model](https://en.wikipedia.org/wiki/Client%E2%80%93server_model)\n",
        "* [Web API](https://en.wikipedia.org/wiki/Web_API)\n",
        "* [Query strings](https://en.wikipedia.org/wiki/Query_string)\n",
        "* [REST](https://en.wikipedia.org/wiki/Representational_state_transfer)\n",
        "* [JSON](https://en.wikipedia.org/wiki/JSON)\n",
        "* [Swagger / OpenAPI](https://en.wikipedia.org/wiki/Swagger_(software))\n",
        "* [HTTP overview](https://developer.mozilla.org/en-US/docs/Web/HTTP/Overview)"
      ]
    },
    {
      "cell_type": "markdown",
      "metadata": {
        "id": "VMmJp7lFFXrS"
      },
      "source": [
        "## Theory"
      ]
    },
    {
      "cell_type": "markdown",
      "metadata": {
        "id": "U6VpgkplFXrS"
      },
      "source": [
        "The internet is a collection of connected computers that exchange data. In a way, you essentially query machines (servers) with certain parameters to retrieve specific data. That data will be either:\n",
        "\n",
        "- **A**. Served straight away, since the server is simply a repository of files. E.g. you can [download the ChEMBL database dump](ftp://ftp.ebi.ac.uk/pub/databases/chembl/ChEMBLdb/latest/) from their servers.\n",
        "- **B**. Retrieved from a database and formatted in a particular way. The result you see on your browser is either:\n",
        "    - **B1**. Pre-processed on the server, e.g. the HTML page you see when you visit any [article in Wikipedia](https://en.wikipedia.org/wiki/Drug_design).\n",
        "    - **B2**. Dynamically generated on the client (your browser) as you use the website, e.g. Twitter, Facebook, or any modern _web-app_.\n",
        "- **C**. Computed through the execution of one or more programs on the server-side, e.g. estimating the protonation states of a protein-ligand complex using [Protoss](https://proteins.plus/help/tutorial).\n",
        "\n",
        "> In a way, configuration **C** is a special type of **B1**. You are just replacing the type of task that runs on the server: database querying and HTML rendering _vs._ computations that process your query and return data formatted in a domain-specific way.\n",
        "\n",
        "Another way of categorizing online services is by the _format_ of the returned data. Most pages you see on your browser are using HTML, usually focusing on presenting data in a  human-readable way. However, some servers might structure that data in a way that is _machine_-readable. This data can be processed in a reliable way because it's formatted using a consistent set of rules that can be easily encoded in a program. Such programs are usually called _parsers_. HTML can be labeled in such a way that data can be obtained reliably, but it is not designed with that purpose in mind. As a result, we will usually prefer using services that provide machine-readable formats, like JSON, CSV or XML.\n",
        "\n",
        "In practice, both ways of data presentation (should) coexist in harmony. Modern web architecture strives to separate data retrieval tasks from end-user presentation. One popular implementation consists of using a programmatic endpoint that returns machine-readable JSON data, which is then consumed by the user-facing web application. The latter renders HTML, either on the server -option **B1**-, or on the user's browser -option **B2**. Unfortunately, unlike the user-facing application, the programmatic endpoint (API) is not guaranteed to be publicly available, and is sometimes restricted to internal usage on the server side.\n",
        "\n",
        "In the following sections, we will discuss how to make the most out of each type of online service using Python and some libraries!"
      ]
    },
    {
      "cell_type": "markdown",
      "metadata": {
        "id": "m-K4Ls-uFXrT"
      },
      "source": [
        "## Practical"
      ]
    },
    {
      "cell_type": "code",
      "source": [
        "!pip install biopython\n",
        "!pip install bravado\n"
      ],
      "metadata": {
        "id": "oX0VgCFUHQq6",
        "outputId": "bef7746f-4f9a-4488-affb-0f232defab41",
        "colab": {
          "base_uri": "https://localhost:8080/"
        }
      },
      "execution_count": 30,
      "outputs": [
        {
          "output_type": "stream",
          "name": "stdout",
          "text": [
            "Requirement already satisfied: biopython in /usr/local/lib/python3.10/dist-packages (1.77)\n",
            "Requirement already satisfied: numpy in /usr/local/lib/python3.10/dist-packages (from biopython) (1.26.4)\n",
            "Collecting bravado\n",
            "  Downloading bravado-11.0.3-py2.py3-none-any.whl.metadata (5.9 kB)\n",
            "Collecting bravado-core>=5.16.1 (from bravado)\n",
            "  Downloading bravado-core-6.1.1.tar.gz (63 kB)\n",
            "\u001b[2K     \u001b[90m━━━━━━━━━━━━━━━━━━━━━━━━━━━━━━━━━━━━━━━━\u001b[0m \u001b[32m63.9/63.9 kB\u001b[0m \u001b[31m2.2 MB/s\u001b[0m eta \u001b[36m0:00:00\u001b[0m\n",
            "\u001b[?25h  Preparing metadata (setup.py) ... \u001b[?25l\u001b[?25hdone\n",
            "Requirement already satisfied: msgpack in /usr/local/lib/python3.10/dist-packages (from bravado) (1.0.8)\n",
            "Requirement already satisfied: python-dateutil in /usr/local/lib/python3.10/dist-packages (from bravado) (2.8.2)\n",
            "Requirement already satisfied: pyyaml in /usr/local/lib/python3.10/dist-packages (from bravado) (6.0.2)\n",
            "Requirement already satisfied: requests>=2.17 in /usr/local/lib/python3.10/dist-packages (from bravado) (2.32.3)\n",
            "Requirement already satisfied: six in /usr/local/lib/python3.10/dist-packages (from bravado) (1.16.0)\n",
            "Collecting simplejson (from bravado)\n",
            "  Downloading simplejson-3.19.3-cp310-cp310-manylinux_2_5_x86_64.manylinux1_x86_64.manylinux_2_17_x86_64.manylinux2014_x86_64.whl.metadata (3.2 kB)\n",
            "Collecting monotonic (from bravado)\n",
            "  Downloading monotonic-1.6-py2.py3-none-any.whl.metadata (1.5 kB)\n",
            "Requirement already satisfied: typing-extensions in /usr/local/lib/python3.10/dist-packages (from bravado) (4.12.2)\n",
            "Collecting jsonref (from bravado-core>=5.16.1->bravado)\n",
            "  Downloading jsonref-1.1.0-py3-none-any.whl.metadata (2.7 kB)\n",
            "Requirement already satisfied: jsonschema>=2.5.1 in /usr/local/lib/python3.10/dist-packages (from jsonschema[format-nongpl]>=2.5.1->bravado-core>=5.16.1->bravado) (4.23.0)\n",
            "Collecting swagger-spec-validator>=2.0.1 (from bravado-core>=5.16.1->bravado)\n",
            "  Downloading swagger_spec_validator-3.0.4-py2.py3-none-any.whl.metadata (2.5 kB)\n",
            "Requirement already satisfied: pytz in /usr/local/lib/python3.10/dist-packages (from bravado-core>=5.16.1->bravado) (2024.2)\n",
            "Requirement already satisfied: charset-normalizer<4,>=2 in /usr/local/lib/python3.10/dist-packages (from requests>=2.17->bravado) (3.3.2)\n",
            "Requirement already satisfied: idna<4,>=2.5 in /usr/local/lib/python3.10/dist-packages (from requests>=2.17->bravado) (3.10)\n",
            "Requirement already satisfied: urllib3<3,>=1.21.1 in /usr/local/lib/python3.10/dist-packages (from requests>=2.17->bravado) (2.0.7)\n",
            "Requirement already satisfied: certifi>=2017.4.17 in /usr/local/lib/python3.10/dist-packages (from requests>=2.17->bravado) (2024.8.30)\n",
            "Requirement already satisfied: attrs>=22.2.0 in /usr/local/lib/python3.10/dist-packages (from jsonschema>=2.5.1->jsonschema[format-nongpl]>=2.5.1->bravado-core>=5.16.1->bravado) (24.2.0)\n",
            "Requirement already satisfied: jsonschema-specifications>=2023.03.6 in /usr/local/lib/python3.10/dist-packages (from jsonschema>=2.5.1->jsonschema[format-nongpl]>=2.5.1->bravado-core>=5.16.1->bravado) (2023.12.1)\n",
            "Requirement already satisfied: referencing>=0.28.4 in /usr/local/lib/python3.10/dist-packages (from jsonschema>=2.5.1->jsonschema[format-nongpl]>=2.5.1->bravado-core>=5.16.1->bravado) (0.35.1)\n",
            "Requirement already satisfied: rpds-py>=0.7.1 in /usr/local/lib/python3.10/dist-packages (from jsonschema>=2.5.1->jsonschema[format-nongpl]>=2.5.1->bravado-core>=5.16.1->bravado) (0.20.0)\n",
            "Collecting fqdn (from jsonschema[format-nongpl]>=2.5.1->bravado-core>=5.16.1->bravado)\n",
            "  Downloading fqdn-1.5.1-py3-none-any.whl.metadata (1.4 kB)\n",
            "Collecting isoduration (from jsonschema[format-nongpl]>=2.5.1->bravado-core>=5.16.1->bravado)\n",
            "  Downloading isoduration-20.11.0-py3-none-any.whl.metadata (5.7 kB)\n",
            "Collecting jsonpointer>1.13 (from jsonschema[format-nongpl]>=2.5.1->bravado-core>=5.16.1->bravado)\n",
            "  Downloading jsonpointer-3.0.0-py2.py3-none-any.whl.metadata (2.3 kB)\n",
            "Collecting rfc3339-validator (from jsonschema[format-nongpl]>=2.5.1->bravado-core>=5.16.1->bravado)\n",
            "  Downloading rfc3339_validator-0.1.4-py2.py3-none-any.whl.metadata (1.5 kB)\n",
            "Collecting rfc3986-validator>0.1.0 (from jsonschema[format-nongpl]>=2.5.1->bravado-core>=5.16.1->bravado)\n",
            "  Downloading rfc3986_validator-0.1.1-py2.py3-none-any.whl.metadata (1.7 kB)\n",
            "Collecting uri-template (from jsonschema[format-nongpl]>=2.5.1->bravado-core>=5.16.1->bravado)\n",
            "  Downloading uri_template-1.3.0-py3-none-any.whl.metadata (8.8 kB)\n",
            "Requirement already satisfied: webcolors>=24.6.0 in /usr/local/lib/python3.10/dist-packages (from jsonschema[format-nongpl]>=2.5.1->bravado-core>=5.16.1->bravado) (24.8.0)\n",
            "Requirement already satisfied: importlib-resources>=1.3 in /usr/local/lib/python3.10/dist-packages (from swagger-spec-validator>=2.0.1->bravado-core>=5.16.1->bravado) (6.4.5)\n",
            "Collecting arrow>=0.15.0 (from isoduration->jsonschema[format-nongpl]>=2.5.1->bravado-core>=5.16.1->bravado)\n",
            "  Downloading arrow-1.3.0-py3-none-any.whl.metadata (7.5 kB)\n",
            "Collecting types-python-dateutil>=2.8.10 (from arrow>=0.15.0->isoduration->jsonschema[format-nongpl]>=2.5.1->bravado-core>=5.16.1->bravado)\n",
            "  Downloading types_python_dateutil-2.9.0.20240906-py3-none-any.whl.metadata (1.9 kB)\n",
            "Downloading bravado-11.0.3-py2.py3-none-any.whl (38 kB)\n",
            "Downloading monotonic-1.6-py2.py3-none-any.whl (8.2 kB)\n",
            "Downloading simplejson-3.19.3-cp310-cp310-manylinux_2_5_x86_64.manylinux1_x86_64.manylinux_2_17_x86_64.manylinux2014_x86_64.whl (137 kB)\n",
            "\u001b[2K   \u001b[90m━━━━━━━━━━━━━━━━━━━━━━━━━━━━━━━━━━━━━━━━\u001b[0m \u001b[32m137.9/137.9 kB\u001b[0m \u001b[31m7.6 MB/s\u001b[0m eta \u001b[36m0:00:00\u001b[0m\n",
            "\u001b[?25hDownloading swagger_spec_validator-3.0.4-py2.py3-none-any.whl (28 kB)\n",
            "Downloading jsonref-1.1.0-py3-none-any.whl (9.4 kB)\n",
            "Downloading jsonpointer-3.0.0-py2.py3-none-any.whl (7.6 kB)\n",
            "Downloading rfc3986_validator-0.1.1-py2.py3-none-any.whl (4.2 kB)\n",
            "Downloading fqdn-1.5.1-py3-none-any.whl (9.1 kB)\n",
            "Downloading isoduration-20.11.0-py3-none-any.whl (11 kB)\n",
            "Downloading rfc3339_validator-0.1.4-py2.py3-none-any.whl (3.5 kB)\n",
            "Downloading uri_template-1.3.0-py3-none-any.whl (11 kB)\n",
            "Downloading arrow-1.3.0-py3-none-any.whl (66 kB)\n",
            "\u001b[2K   \u001b[90m━━━━━━━━━━━━━━━━━━━━━━━━━━━━━━━━━━━━━━━━\u001b[0m \u001b[32m66.4/66.4 kB\u001b[0m \u001b[31m4.3 MB/s\u001b[0m eta \u001b[36m0:00:00\u001b[0m\n",
            "\u001b[?25hDownloading types_python_dateutil-2.9.0.20240906-py3-none-any.whl (9.7 kB)\n",
            "Building wheels for collected packages: bravado-core\n",
            "  Building wheel for bravado-core (setup.py) ... \u001b[?25l\u001b[?25hdone\n",
            "  Created wheel for bravado-core: filename=bravado_core-6.1.1-py2.py3-none-any.whl size=67675 sha256=df295e20facdfd89d4c4fc93f2c955f9b17c4ab079862c676bdb05acb74a7006\n",
            "  Stored in directory: /root/.cache/pip/wheels/42/35/4a/44ec4c358db21a5d63ed4e40f0f0012a438106f220bce4ccba\n",
            "Successfully built bravado-core\n",
            "Installing collected packages: monotonic, uri-template, types-python-dateutil, simplejson, rfc3986-validator, rfc3339-validator, jsonref, jsonpointer, fqdn, arrow, isoduration, swagger-spec-validator, bravado-core, bravado\n",
            "Successfully installed arrow-1.3.0 bravado-11.0.3 bravado-core-6.1.1 fqdn-1.5.1 isoduration-20.11.0 jsonpointer-3.0.0 jsonref-1.1.0 monotonic-1.6 rfc3339-validator-0.1.4 rfc3986-validator-0.1.1 simplejson-3.19.3 swagger-spec-validator-3.0.4 types-python-dateutil-2.9.0.20240906 uri-template-1.3.0\n"
          ]
        }
      ]
    },
    {
      "cell_type": "code",
      "execution_count": 1,
      "metadata": {
        "tags": [],
        "id": "Kr1obhFMFXrT"
      },
      "outputs": [],
      "source": [
        "from pathlib import Path\n",
        "\n",
        "HERE = Path(_dh[-1])\n",
        "DATA = HERE / \"data\"\n",
        "TMPDATA = DATA / \"_tmp\"  # this dir is gitignored\n",
        "TMPDATA.mkdir(parents=True, exist_ok=True)"
      ]
    },
    {
      "cell_type": "markdown",
      "metadata": {
        "id": "XkmMrP1AFXrU"
      },
      "source": [
        "### Downloading static files\n",
        "\n",
        "In this case, the web server is hosting files that you will download and consume right away. All you need to do is to _query_ the server for the right address or _URL_ (Universal Resource Location). You do this all the time when you browse the internet, and you can also do it with Python!\n",
        "\n",
        "For example, let's get this [kinase-related CSV dataset from GitHub](https://github.com/openkinome/kinodata/blob/master/data/KinHubKinaseList.csv), which contains a list of kinases and their identifiers.\n",
        "\n",
        "> Tip: Whenever you want to download a file hosted in GitHub, use the `Raw` button to obtain the downloadable URL!\n",
        ">\n",
        "> ![image.png](attachment:f87e4f54-5504-49ca-a24a-f903aab4fa1e.png)\n",
        "\n",
        "While Python provides a library to deal with HTTP queries (`urllib`), people often prefer using the 3rd-party `requests` because the usage is way simpler.\n"
      ]
    },
    {
      "cell_type": "code",
      "execution_count": 2,
      "metadata": {
        "tags": [],
        "id": "9DHT7W3DFXrU",
        "outputId": "1b2e4ca2-92bf-4bbd-b317-c3cf8b4bbc27",
        "colab": {
          "base_uri": "https://localhost:8080/"
        }
      },
      "outputs": [
        {
          "output_type": "execute_result",
          "data": {
            "text/plain": [
              "<Response [200]>"
            ]
          },
          "metadata": {},
          "execution_count": 2
        }
      ],
      "source": [
        "import requests\n",
        "\n",
        "url = \"https://raw.githubusercontent.com/openkinome/kinodata/master/data/KinHubKinaseList.csv\"\n",
        "response = requests.get(url)\n",
        "response.raise_for_status()\n",
        "response\n",
        "\n",
        "# NBVAL_CHECK_OUTPUT"
      ]
    },
    {
      "cell_type": "markdown",
      "metadata": {
        "id": "Ke1JdSlPFXrV"
      },
      "source": [
        "When you use `requests.get(...)` you obtain a `Response` object. This is _not_ the file you want to download, but an object that wraps the HTTP query and the _response_ the server gave you. Before we inspect the content, we always call `.raise_for_status()`, which will raise an exception if the server told us that the request could not be fulfilled. How does the server do that? With [HTTP status codes](https://en.wikipedia.org/wiki/List_of_HTTP_status_codes), a 3-digit number. There are several, but the most common ones are:\n",
        "\n",
        "* 200: Everything OK!\n",
        "* 404: File not found.\n",
        "* 500: Server error.\n",
        "\n",
        "`.raise_for_status()` will complain if your response didn't obtain a 200 code. As such, it's a good practice to call it after _every_ query!\n",
        "\n",
        "See this example of a bad URL, it contains an error: there's no **TXT** file there, just a **CSV**."
      ]
    },
    {
      "cell_type": "code",
      "execution_count": 5,
      "metadata": {
        "tags": [],
        "id": "kEicpgf_FXrV",
        "outputId": "3801ae27-cc13-4634-8893-36161cc77d6c",
        "colab": {
          "base_uri": "https://localhost:8080/"
        }
      },
      "outputs": [
        {
          "output_type": "stream",
          "name": "stdout",
          "text": [
            "HTTP Error: 404 Client Error: Not Found for url: https://raw.githubusercontent.com/openkinome/kinodata/master/data/KinHubKinaseList.txt\n"
          ]
        }
      ],
      "source": [
        "# NBVAL_RAISES_EXCEPTION\n",
        "try:\n",
        "  bad_url = \"https://raw.githubusercontent.com/openkinome/kinodata/master/data/KinHubKinaseList.txt\"\n",
        "  bad_response = requests.get(bad_url)\n",
        "  bad_response.raise_for_status()\n",
        "except requests.exceptions.HTTPError as e:\n",
        "    print(f\"HTTP Error: {e}\")\n",
        "except requests.exceptions.RequestException as e:\n",
        "    print(f\"Error: {e}\")\n",
        "else:\n",
        "    print(\"File downloaded successfully\")"
      ]
    },
    {
      "cell_type": "markdown",
      "metadata": {
        "id": "uVQQptxMFXrV"
      },
      "source": [
        "Ok, now let's get to the contents of the CSV file! Depending on what you are looking for, you will need one of these attributes:\n",
        "\n",
        "* `response.content`: The _bytes_ returned by the server.\n",
        "* `response.text`: The contents of the file, as a string, if possible.\n",
        "* `response.json()`: If the server returns JSON data (more on this later), this method will parse it and return the corresponding dictionary.\n",
        "\n",
        "Which one should you use? If you want to display some _text_ in the Notebook output, then go for `.text`. Everything that involves binary files (images, archives, PDFs...) or downloading to disk should use `.content`.\n",
        "\n",
        "\n",
        "Since this a CSV file, we know that's a plain text file, so we can use the usual Python methods on it! Let's print the first 10 lines:"
      ]
    },
    {
      "cell_type": "code",
      "execution_count": 6,
      "metadata": {
        "tags": [],
        "id": "UmBU9FCDFXrV",
        "outputId": "a17dc0cb-afca-4d69-903b-7d7152a19d7f",
        "colab": {
          "base_uri": "https://localhost:8080/"
        }
      },
      "outputs": [
        {
          "output_type": "stream",
          "name": "stdout",
          "text": [
            "﻿xName,Manning Name,HGNC Name,Kinase Name,Group,Family,SubFamily,UniprotID\n",
            "ABL1,ABL,ABL1,Tyrosine-protein kinase ABL1,TK,Abl,,P00519\n",
            "ACK,ACK,TNK2,Activated CDC42 kinase 1,TK,Ack,,Q07912\n",
            "ACTR2,ACTR2,ACVR2A,Activin receptor type-2A,TKL,STKR,STKR2,P27037\n",
            "ACTR2B,ACTR2B,ACVR2B,Activin receptor type-2B,TKL,STKR,STKR2,Q13705\n",
            "ADCK4,ADCK4,ADCK4,Uncharacterized aarF domain-containing protein kinase 4,Atypical,ABC1,ABC1-A,Q96D53\n",
            "Trb1,Trb1,TRIB1,Tribbles homolog 1,CAMK,Trbl,,Q96RU8\n",
            "BRSK2,BRSK2,BRSK2,Serine/threonine-protein kinase BRSK2,CAMK,CAMKL,BRSK,Q8IWQ3\n",
            "Wnk2,Wnk2,WNK2,Serine/threonine-protein kinase WNK2,Other,WNK,,Q9Y3S1\n",
            "AKT1,AKT1,AKT1,RAC-alpha serine/threonine-protein kinase,AGC,Akt,,P31749\n"
          ]
        }
      ],
      "source": [
        "print(*response.text.splitlines()[:10], sep=\"\\n\")"
      ]
    },
    {
      "cell_type": "markdown",
      "metadata": {
        "id": "rE8MP3H5FXrV"
      },
      "source": [
        "Of course, you can save this to disk using the usual Python constructs. Since we are _downloading_, it's recommended to use the raw bytes contents, not the text version! This means you should use `response.content` and open your file in bytes mode (the `b` in `wb`):"
      ]
    },
    {
      "cell_type": "code",
      "execution_count": 7,
      "metadata": {
        "tags": [],
        "id": "pGeZ0fBaFXrW"
      },
      "outputs": [],
      "source": [
        "with open(TMPDATA / \"kinhub.csv\", \"wb\") as f:\n",
        "    f.write(response.content)"
      ]
    },
    {
      "cell_type": "markdown",
      "metadata": {
        "id": "sjcgGkBRFXrW"
      },
      "source": [
        "Open it again to check we wrote something."
      ]
    },
    {
      "cell_type": "code",
      "execution_count": 8,
      "metadata": {
        "tags": [],
        "id": "Zq76NHQZFXrW",
        "outputId": "f09ddc16-8546-4efc-caad-b5a46f4ea0f3",
        "colab": {
          "base_uri": "https://localhost:8080/"
        }
      },
      "outputs": [
        {
          "output_type": "stream",
          "name": "stdout",
          "text": [
            "xName,Manning Name,HGNC Name,Kinase Name,Group,Family,SubFamily,UniprotID\n",
            "ABL1,ABL,ABL1,Tyrosine-protein kinase ABL1,TK,Abl,,P00519\n",
            "ACK,ACK,TNK2,Activated CDC42 kinase 1,TK,Ack,,Q07912\n",
            "ACTR2,ACTR2,ACVR2A,Activin receptor type-2A,TKL,STKR,STKR2,P27037\n",
            "ACTR2B,ACTR2B,ACVR2B,Activin receptor type-2B,TKL,STKR,STKR2,Q13705\n"
          ]
        }
      ],
      "source": [
        "# We need the encoding=\"utf-8-sig\" to ensure correct encoding\n",
        "# under all platforms\n",
        "with open(TMPDATA / \"kinhub.csv\", encoding=\"utf-8-sig\") as f:\n",
        "    # Zip will stop iterating with the shortest iterator\n",
        "    # passing `range(5)` allow us to just get five lines ;)\n",
        "    for _, line in zip(range(5), f):\n",
        "        print(line.rstrip())\n",
        "\n",
        "# NBVAL_CHECK_OUTPUT"
      ]
    },
    {
      "cell_type": "markdown",
      "metadata": {
        "id": "wPRVGkH9FXrW"
      },
      "source": [
        "ℹ **Tip**: If all you want to do is downloading a CSV file to open it with Pandas, then just pass the raw URL to `pandas.read_csv`. It will download the file for you!"
      ]
    },
    {
      "cell_type": "code",
      "execution_count": 9,
      "metadata": {
        "tags": [],
        "id": "cTEwoezWFXrW",
        "outputId": "8aa87488-a955-4128-b631-ec8dd8da9064",
        "colab": {
          "base_uri": "https://localhost:8080/",
          "height": 206
        }
      },
      "outputs": [
        {
          "output_type": "execute_result",
          "data": {
            "text/plain": [
              "    xName Manning Name HGNC Name  \\\n",
              "0    ABL1          ABL      ABL1   \n",
              "1     ACK          ACK      TNK2   \n",
              "2   ACTR2        ACTR2    ACVR2A   \n",
              "3  ACTR2B       ACTR2B    ACVR2B   \n",
              "4   ADCK4        ADCK4     ADCK4   \n",
              "\n",
              "                                         Kinase Name     Group Family  \\\n",
              "0                       Tyrosine-protein kinase ABL1        TK    Abl   \n",
              "1                           Activated CDC42 kinase 1        TK    Ack   \n",
              "2                           Activin receptor type-2A       TKL   STKR   \n",
              "3                           Activin receptor type-2B       TKL   STKR   \n",
              "4  Uncharacterized aarF domain-containing protein...  Atypical   ABC1   \n",
              "\n",
              "  SubFamily UniprotID  \n",
              "0       NaN    P00519  \n",
              "1       NaN    Q07912  \n",
              "2     STKR2    P27037  \n",
              "3     STKR2    Q13705  \n",
              "4    ABC1-A    Q96D53  "
            ],
            "text/html": [
              "\n",
              "  <div id=\"df-54cd9a10-a753-4127-95f1-0c9614b29197\" class=\"colab-df-container\">\n",
              "    <div>\n",
              "<style scoped>\n",
              "    .dataframe tbody tr th:only-of-type {\n",
              "        vertical-align: middle;\n",
              "    }\n",
              "\n",
              "    .dataframe tbody tr th {\n",
              "        vertical-align: top;\n",
              "    }\n",
              "\n",
              "    .dataframe thead th {\n",
              "        text-align: right;\n",
              "    }\n",
              "</style>\n",
              "<table border=\"1\" class=\"dataframe\">\n",
              "  <thead>\n",
              "    <tr style=\"text-align: right;\">\n",
              "      <th></th>\n",
              "      <th>xName</th>\n",
              "      <th>Manning Name</th>\n",
              "      <th>HGNC Name</th>\n",
              "      <th>Kinase Name</th>\n",
              "      <th>Group</th>\n",
              "      <th>Family</th>\n",
              "      <th>SubFamily</th>\n",
              "      <th>UniprotID</th>\n",
              "    </tr>\n",
              "  </thead>\n",
              "  <tbody>\n",
              "    <tr>\n",
              "      <th>0</th>\n",
              "      <td>ABL1</td>\n",
              "      <td>ABL</td>\n",
              "      <td>ABL1</td>\n",
              "      <td>Tyrosine-protein kinase ABL1</td>\n",
              "      <td>TK</td>\n",
              "      <td>Abl</td>\n",
              "      <td>NaN</td>\n",
              "      <td>P00519</td>\n",
              "    </tr>\n",
              "    <tr>\n",
              "      <th>1</th>\n",
              "      <td>ACK</td>\n",
              "      <td>ACK</td>\n",
              "      <td>TNK2</td>\n",
              "      <td>Activated CDC42 kinase 1</td>\n",
              "      <td>TK</td>\n",
              "      <td>Ack</td>\n",
              "      <td>NaN</td>\n",
              "      <td>Q07912</td>\n",
              "    </tr>\n",
              "    <tr>\n",
              "      <th>2</th>\n",
              "      <td>ACTR2</td>\n",
              "      <td>ACTR2</td>\n",
              "      <td>ACVR2A</td>\n",
              "      <td>Activin receptor type-2A</td>\n",
              "      <td>TKL</td>\n",
              "      <td>STKR</td>\n",
              "      <td>STKR2</td>\n",
              "      <td>P27037</td>\n",
              "    </tr>\n",
              "    <tr>\n",
              "      <th>3</th>\n",
              "      <td>ACTR2B</td>\n",
              "      <td>ACTR2B</td>\n",
              "      <td>ACVR2B</td>\n",
              "      <td>Activin receptor type-2B</td>\n",
              "      <td>TKL</td>\n",
              "      <td>STKR</td>\n",
              "      <td>STKR2</td>\n",
              "      <td>Q13705</td>\n",
              "    </tr>\n",
              "    <tr>\n",
              "      <th>4</th>\n",
              "      <td>ADCK4</td>\n",
              "      <td>ADCK4</td>\n",
              "      <td>ADCK4</td>\n",
              "      <td>Uncharacterized aarF domain-containing protein...</td>\n",
              "      <td>Atypical</td>\n",
              "      <td>ABC1</td>\n",
              "      <td>ABC1-A</td>\n",
              "      <td>Q96D53</td>\n",
              "    </tr>\n",
              "  </tbody>\n",
              "</table>\n",
              "</div>\n",
              "    <div class=\"colab-df-buttons\">\n",
              "\n",
              "  <div class=\"colab-df-container\">\n",
              "    <button class=\"colab-df-convert\" onclick=\"convertToInteractive('df-54cd9a10-a753-4127-95f1-0c9614b29197')\"\n",
              "            title=\"Convert this dataframe to an interactive table.\"\n",
              "            style=\"display:none;\">\n",
              "\n",
              "  <svg xmlns=\"http://www.w3.org/2000/svg\" height=\"24px\" viewBox=\"0 -960 960 960\">\n",
              "    <path d=\"M120-120v-720h720v720H120Zm60-500h600v-160H180v160Zm220 220h160v-160H400v160Zm0 220h160v-160H400v160ZM180-400h160v-160H180v160Zm440 0h160v-160H620v160ZM180-180h160v-160H180v160Zm440 0h160v-160H620v160Z\"/>\n",
              "  </svg>\n",
              "    </button>\n",
              "\n",
              "  <style>\n",
              "    .colab-df-container {\n",
              "      display:flex;\n",
              "      gap: 12px;\n",
              "    }\n",
              "\n",
              "    .colab-df-convert {\n",
              "      background-color: #E8F0FE;\n",
              "      border: none;\n",
              "      border-radius: 50%;\n",
              "      cursor: pointer;\n",
              "      display: none;\n",
              "      fill: #1967D2;\n",
              "      height: 32px;\n",
              "      padding: 0 0 0 0;\n",
              "      width: 32px;\n",
              "    }\n",
              "\n",
              "    .colab-df-convert:hover {\n",
              "      background-color: #E2EBFA;\n",
              "      box-shadow: 0px 1px 2px rgba(60, 64, 67, 0.3), 0px 1px 3px 1px rgba(60, 64, 67, 0.15);\n",
              "      fill: #174EA6;\n",
              "    }\n",
              "\n",
              "    .colab-df-buttons div {\n",
              "      margin-bottom: 4px;\n",
              "    }\n",
              "\n",
              "    [theme=dark] .colab-df-convert {\n",
              "      background-color: #3B4455;\n",
              "      fill: #D2E3FC;\n",
              "    }\n",
              "\n",
              "    [theme=dark] .colab-df-convert:hover {\n",
              "      background-color: #434B5C;\n",
              "      box-shadow: 0px 1px 3px 1px rgba(0, 0, 0, 0.15);\n",
              "      filter: drop-shadow(0px 1px 2px rgba(0, 0, 0, 0.3));\n",
              "      fill: #FFFFFF;\n",
              "    }\n",
              "  </style>\n",
              "\n",
              "    <script>\n",
              "      const buttonEl =\n",
              "        document.querySelector('#df-54cd9a10-a753-4127-95f1-0c9614b29197 button.colab-df-convert');\n",
              "      buttonEl.style.display =\n",
              "        google.colab.kernel.accessAllowed ? 'block' : 'none';\n",
              "\n",
              "      async function convertToInteractive(key) {\n",
              "        const element = document.querySelector('#df-54cd9a10-a753-4127-95f1-0c9614b29197');\n",
              "        const dataTable =\n",
              "          await google.colab.kernel.invokeFunction('convertToInteractive',\n",
              "                                                    [key], {});\n",
              "        if (!dataTable) return;\n",
              "\n",
              "        const docLinkHtml = 'Like what you see? Visit the ' +\n",
              "          '<a target=\"_blank\" href=https://colab.research.google.com/notebooks/data_table.ipynb>data table notebook</a>'\n",
              "          + ' to learn more about interactive tables.';\n",
              "        element.innerHTML = '';\n",
              "        dataTable['output_type'] = 'display_data';\n",
              "        await google.colab.output.renderOutput(dataTable, element);\n",
              "        const docLink = document.createElement('div');\n",
              "        docLink.innerHTML = docLinkHtml;\n",
              "        element.appendChild(docLink);\n",
              "      }\n",
              "    </script>\n",
              "  </div>\n",
              "\n",
              "\n",
              "<div id=\"df-544aeb10-776d-43a1-9a43-2e48aac45b5f\">\n",
              "  <button class=\"colab-df-quickchart\" onclick=\"quickchart('df-544aeb10-776d-43a1-9a43-2e48aac45b5f')\"\n",
              "            title=\"Suggest charts\"\n",
              "            style=\"display:none;\">\n",
              "\n",
              "<svg xmlns=\"http://www.w3.org/2000/svg\" height=\"24px\"viewBox=\"0 0 24 24\"\n",
              "     width=\"24px\">\n",
              "    <g>\n",
              "        <path d=\"M19 3H5c-1.1 0-2 .9-2 2v14c0 1.1.9 2 2 2h14c1.1 0 2-.9 2-2V5c0-1.1-.9-2-2-2zM9 17H7v-7h2v7zm4 0h-2V7h2v10zm4 0h-2v-4h2v4z\"/>\n",
              "    </g>\n",
              "</svg>\n",
              "  </button>\n",
              "\n",
              "<style>\n",
              "  .colab-df-quickchart {\n",
              "      --bg-color: #E8F0FE;\n",
              "      --fill-color: #1967D2;\n",
              "      --hover-bg-color: #E2EBFA;\n",
              "      --hover-fill-color: #174EA6;\n",
              "      --disabled-fill-color: #AAA;\n",
              "      --disabled-bg-color: #DDD;\n",
              "  }\n",
              "\n",
              "  [theme=dark] .colab-df-quickchart {\n",
              "      --bg-color: #3B4455;\n",
              "      --fill-color: #D2E3FC;\n",
              "      --hover-bg-color: #434B5C;\n",
              "      --hover-fill-color: #FFFFFF;\n",
              "      --disabled-bg-color: #3B4455;\n",
              "      --disabled-fill-color: #666;\n",
              "  }\n",
              "\n",
              "  .colab-df-quickchart {\n",
              "    background-color: var(--bg-color);\n",
              "    border: none;\n",
              "    border-radius: 50%;\n",
              "    cursor: pointer;\n",
              "    display: none;\n",
              "    fill: var(--fill-color);\n",
              "    height: 32px;\n",
              "    padding: 0;\n",
              "    width: 32px;\n",
              "  }\n",
              "\n",
              "  .colab-df-quickchart:hover {\n",
              "    background-color: var(--hover-bg-color);\n",
              "    box-shadow: 0 1px 2px rgba(60, 64, 67, 0.3), 0 1px 3px 1px rgba(60, 64, 67, 0.15);\n",
              "    fill: var(--button-hover-fill-color);\n",
              "  }\n",
              "\n",
              "  .colab-df-quickchart-complete:disabled,\n",
              "  .colab-df-quickchart-complete:disabled:hover {\n",
              "    background-color: var(--disabled-bg-color);\n",
              "    fill: var(--disabled-fill-color);\n",
              "    box-shadow: none;\n",
              "  }\n",
              "\n",
              "  .colab-df-spinner {\n",
              "    border: 2px solid var(--fill-color);\n",
              "    border-color: transparent;\n",
              "    border-bottom-color: var(--fill-color);\n",
              "    animation:\n",
              "      spin 1s steps(1) infinite;\n",
              "  }\n",
              "\n",
              "  @keyframes spin {\n",
              "    0% {\n",
              "      border-color: transparent;\n",
              "      border-bottom-color: var(--fill-color);\n",
              "      border-left-color: var(--fill-color);\n",
              "    }\n",
              "    20% {\n",
              "      border-color: transparent;\n",
              "      border-left-color: var(--fill-color);\n",
              "      border-top-color: var(--fill-color);\n",
              "    }\n",
              "    30% {\n",
              "      border-color: transparent;\n",
              "      border-left-color: var(--fill-color);\n",
              "      border-top-color: var(--fill-color);\n",
              "      border-right-color: var(--fill-color);\n",
              "    }\n",
              "    40% {\n",
              "      border-color: transparent;\n",
              "      border-right-color: var(--fill-color);\n",
              "      border-top-color: var(--fill-color);\n",
              "    }\n",
              "    60% {\n",
              "      border-color: transparent;\n",
              "      border-right-color: var(--fill-color);\n",
              "    }\n",
              "    80% {\n",
              "      border-color: transparent;\n",
              "      border-right-color: var(--fill-color);\n",
              "      border-bottom-color: var(--fill-color);\n",
              "    }\n",
              "    90% {\n",
              "      border-color: transparent;\n",
              "      border-bottom-color: var(--fill-color);\n",
              "    }\n",
              "  }\n",
              "</style>\n",
              "\n",
              "  <script>\n",
              "    async function quickchart(key) {\n",
              "      const quickchartButtonEl =\n",
              "        document.querySelector('#' + key + ' button');\n",
              "      quickchartButtonEl.disabled = true;  // To prevent multiple clicks.\n",
              "      quickchartButtonEl.classList.add('colab-df-spinner');\n",
              "      try {\n",
              "        const charts = await google.colab.kernel.invokeFunction(\n",
              "            'suggestCharts', [key], {});\n",
              "      } catch (error) {\n",
              "        console.error('Error during call to suggestCharts:', error);\n",
              "      }\n",
              "      quickchartButtonEl.classList.remove('colab-df-spinner');\n",
              "      quickchartButtonEl.classList.add('colab-df-quickchart-complete');\n",
              "    }\n",
              "    (() => {\n",
              "      let quickchartButtonEl =\n",
              "        document.querySelector('#df-544aeb10-776d-43a1-9a43-2e48aac45b5f button');\n",
              "      quickchartButtonEl.style.display =\n",
              "        google.colab.kernel.accessAllowed ? 'block' : 'none';\n",
              "    })();\n",
              "  </script>\n",
              "</div>\n",
              "\n",
              "    </div>\n",
              "  </div>\n"
            ],
            "application/vnd.google.colaboratory.intrinsic+json": {
              "type": "dataframe",
              "summary": "{\n  \"name\": \"# NBVAL_CHECK_OUTPUT\",\n  \"rows\": 5,\n  \"fields\": [\n    {\n      \"column\": \"xName\",\n      \"properties\": {\n        \"dtype\": \"string\",\n        \"num_unique_values\": 5,\n        \"samples\": [\n          \"ACK\",\n          \"ADCK4\",\n          \"ACTR2\"\n        ],\n        \"semantic_type\": \"\",\n        \"description\": \"\"\n      }\n    },\n    {\n      \"column\": \"Manning\\u00a0Name\",\n      \"properties\": {\n        \"dtype\": \"string\",\n        \"num_unique_values\": 5,\n        \"samples\": [\n          \"ACK\",\n          \"ADCK4\",\n          \"ACTR2\"\n        ],\n        \"semantic_type\": \"\",\n        \"description\": \"\"\n      }\n    },\n    {\n      \"column\": \"HGNC\\u00a0Name\",\n      \"properties\": {\n        \"dtype\": \"string\",\n        \"num_unique_values\": 5,\n        \"samples\": [\n          \"TNK2\",\n          \"ADCK4\",\n          \"ACVR2A\"\n        ],\n        \"semantic_type\": \"\",\n        \"description\": \"\"\n      }\n    },\n    {\n      \"column\": \"Kinase Name\",\n      \"properties\": {\n        \"dtype\": \"string\",\n        \"num_unique_values\": 5,\n        \"samples\": [\n          \"Activated CDC42 kinase 1\",\n          \"Uncharacterized aarF domain-containing protein kinase 4\",\n          \"Activin receptor type-2A\"\n        ],\n        \"semantic_type\": \"\",\n        \"description\": \"\"\n      }\n    },\n    {\n      \"column\": \"Group\",\n      \"properties\": {\n        \"dtype\": \"string\",\n        \"num_unique_values\": 3,\n        \"samples\": [\n          \"TK\",\n          \"TKL\",\n          \"Atypical\"\n        ],\n        \"semantic_type\": \"\",\n        \"description\": \"\"\n      }\n    },\n    {\n      \"column\": \"Family\",\n      \"properties\": {\n        \"dtype\": \"string\",\n        \"num_unique_values\": 4,\n        \"samples\": [\n          \"Ack\",\n          \"ABC1\",\n          \"Abl\"\n        ],\n        \"semantic_type\": \"\",\n        \"description\": \"\"\n      }\n    },\n    {\n      \"column\": \"SubFamily\",\n      \"properties\": {\n        \"dtype\": \"category\",\n        \"num_unique_values\": 2,\n        \"samples\": [\n          \"ABC1-A\",\n          \"STKR2\"\n        ],\n        \"semantic_type\": \"\",\n        \"description\": \"\"\n      }\n    },\n    {\n      \"column\": \"UniprotID\",\n      \"properties\": {\n        \"dtype\": \"string\",\n        \"num_unique_values\": 5,\n        \"samples\": [\n          \"Q07912\",\n          \"Q96D53\"\n        ],\n        \"semantic_type\": \"\",\n        \"description\": \"\"\n      }\n    }\n  ]\n}"
            }
          },
          "metadata": {},
          "execution_count": 9
        }
      ],
      "source": [
        "import pandas as pd\n",
        "\n",
        "df = pd.read_csv(\n",
        "    \"https://raw.githubusercontent.com/openkinome/kinodata/master/data/KinHubKinaseList.csv\"\n",
        ")\n",
        "df.head()\n",
        "# NBVAL_CHECK_OUTPUT"
      ]
    },
    {
      "cell_type": "markdown",
      "metadata": {
        "id": "wSSnxM5hFXrX"
      },
      "source": [
        "One note about file downloads. The method above downloads the whole file into memory, which can be a problem for very big files. If you intend to download a very large file, you can push it to disk directly using [streaming requests](https://requests.readthedocs.io/en/master/user/advanced/#streaming-requests) and [raw responses](https://docs.python-requests.org/en/v1.1.0/user/quickstart/?highlight=raw%20response#raw-response-content). As an example, let's pretend this [1MB video](https://archive.org/download/SlowMotionFlame/slomoflame_512kb.mp4) is _too big to fit in memory_:"
      ]
    },
    {
      "cell_type": "code",
      "execution_count": 10,
      "metadata": {
        "tags": [],
        "id": "c-usW6XhFXrX",
        "outputId": "fffb3dc2-0ab4-47d3-ab77-3652ee4aea83",
        "colab": {
          "resources": {
            "http://localhost:8080/data/_tmp/video.mp4": {
              "data": "",
              "ok": false,
              "headers": [
                [
                  "content-length",
                  "0"
                ]
              ],
              "status": 404,
              "status_text": ""
            }
          },
          "base_uri": "https://localhost:8080/",
          "height": 172
        }
      },
      "outputs": [
        {
          "output_type": "display_data",
          "data": {
            "text/plain": [
              "<IPython.core.display.Video object>"
            ],
            "text/html": [
              "<video src=\"data/_tmp/video.mp4\" controls  >\n",
              "      Your browser does not support the <code>video</code> element.\n",
              "    </video>"
            ]
          },
          "metadata": {}
        }
      ],
      "source": [
        "import shutil\n",
        "from IPython.display import Video\n",
        "\n",
        "response = requests.get(\n",
        "    \"https://archive.org/download/SlowMotionFlame/slomoflame_512kb.mp4\", stream=True\n",
        ")\n",
        "response.raise_for_status()\n",
        "\n",
        "with open(TMPDATA / \"video.mp4\", \"wb\") as tmp:\n",
        "    for chunk in response.iter_content(chunk_size=8192):\n",
        "        tmp.write(chunk)\n",
        "\n",
        "    # Let's play the movie in Jupyter!\n",
        "    # Paths passed to widgets need to be relative to notebook or they will 404 :)\n",
        "    display(Video(Path(tmp.name).relative_to(HERE)))"
      ]
    },
    {
      "cell_type": "markdown",
      "metadata": {
        "tags": [],
        "id": "4eWCGyShFXrX"
      },
      "source": [
        "### Accessing dynamically generated content\n",
        "\n",
        "So far, we have been able to retrieve _files_ that were present on a remote server. To do that, we used `requests.get` and a URL that points to the file.\n",
        "\n",
        "Well, it turns out that the same technique will work for many more types of content! What the server does with the URL is not our concern! Whether the server only needs to give you a file on disk or query a database and assemble different parts into the returned content does not matter at all.\n",
        "\n",
        "That concept alone is extremely powerful, as you will see now. Remember: **We just need to make sure we request the correct URL!**\n",
        "\n",
        "Let's work on something fun now! The spike protein in SARS-CoV-2 is one of the most popular proteins lately, can we get some information from [UniProt](https://www.uniprot.org/) using `requests`? Its UniProt ID is `P0DTC2`. [Go check with your browser first](https://www.uniprot.org/uniprot/P0DTC2), you should see something like this:\n",
        "\n",
        "![UniProt entry for SARS-CoV-2](https://github.com/volkamerlab/teachopencadd/blob/master/teachopencadd/talktorials/T011_query_online_api_webservices/images/uniprot-sars-cov-2.jpg?raw=1)\n",
        "\n",
        "One of the things UniProt provides is the amino acid sequence of the listed protein. Scroll down until you see this part:\n",
        "\n",
        "![Sequence for SARS-CoV-2](https://github.com/volkamerlab/teachopencadd/blob/master/teachopencadd/talktorials/T011_query_online_api_webservices/images/uniprot-sars-cov-2-sequence.jpg?raw=1)\n",
        "\n",
        "Do you think we can get _only_ the sequence using Python? Let's see!\n",
        "\n",
        "To query a protein, you simply need to add its UniProt ID to the URL."
      ]
    },
    {
      "cell_type": "code",
      "execution_count": 11,
      "metadata": {
        "tags": [],
        "id": "FeZvakY-FXrX",
        "outputId": "79529e42-6c07-4b03-9738-c1722fbc9065",
        "colab": {
          "base_uri": "https://localhost:8080/"
        }
      },
      "outputs": [
        {
          "output_type": "stream",
          "name": "stdout",
          "text": [
            "<!doctype html><html lang=\"en\"><head><meta charset=\"utf-8\"/><title>UniProt</title><meta name=\"viewport\" content=\"width=device-width,initial-scale=1\"/><meta name=\"theme-color\" content=\"#00639a\"/><link rel=\"preconnect\" href=\"https://rest.uniprot.org/\"/><link rel=\"preconnect\" href=\"https://fonts.googleapis.com\"/><link rel=\"preconnect\" href=\"https://fonts.gstatic.com\" crossorigin/><link href=\"https://fonts.googleapis.com/css?family=Lato:400,700|Source+Sans+Pro:600,700&display=optional\" rel=\"stylesheet\"/><link rel=\"search\" type=\"application/opensearchdescription+xml\" href=\"/opensearch.xml\" title=\"UniProt\"><link rel=\"apple-touch-icon\" sizes=\"180x180\" href=\"/apple-touch-icon.png\"/><link rel=\"shortcut icon\" type=\"image/png\" sizes=\"144x144\" href=\"/mstile-144x144.png\"/><link rel=\"icon\" type=\"image/png\" sizes=\"32x32\" href=\"/favicon-32x32.png\"/><link rel=\"icon\" type=\"image/png\" sizes=\"16x16\" href=\"/favicon-16x16.png\"/><link rel=\"manifest\" href=\"/manifest.json\"/><script async src=\"https://www.googletagmanager.com/gtag/js?id=G-V6TXEC4BDF\"></script><script>window.dataLayer = window.dataLayer || [];\n",
            "      function gtag() {\n",
            "        dataLayer.push(arguments);\n",
            "      }\n",
            "      gtag('js', new Date());\n",
            "\n",
            "      // GA4\n",
            "      gtag('config', 'G-V6TXEC4BDF', {\n",
            "        anonymize_ip: true,\n",
            "        allow_google_signals: false,\n",
            "        allow_ad_personalization_signals: false,\n",
            "        restricted_data_processing: true,\n",
            "        custom_map: {\n",
            "          dimension1: 'result_view',\n",
            "          metric1: 'result_view_set',\n",
            "        },\n",
            "        send_page_view: false,\n",
            "      });\n",
            "      // UA\n",
            "      gtag('config', 'UA-6228219-1', {\n",
            "        anonymize_ip: true,\n",
            "        allow_google_signals: false,\n",
            "        allow_ad_personalization_signals: false,\n",
            "        restricted_data_processing: true,\n",
            "        custom_map: {\n",
            "          dimension1: 'result_view',\n",
            "          metric1: 'result_view_set',\n",
            "        },\n",
            "        send_page_view: false,\n",
            "      });</script><script>(function (h, o, t, j, a, r) {\n",
            "        h.hj =\n",
            "          h.hj ||\n",
            "          function () {\n",
            "            (h.hj.q = h.hj.q || []).push(arguments);\n",
            "          };\n",
            "        h._hjSettings = { hjid: 2638207, hjsv: 6 };\n",
            "        a = o.getElementsByTagName('head')[0];\n",
            "        r = o.createElement('script');\n",
            "        r.async = 1;\n",
            "        r.src = t + h._hjSettings.hjid + j + h._hjSettings.hjsv;\n",
            "        a.appendChild(r);\n",
            "      })(window, document, 'https://static.hotjar.com/c/hotjar-', '.js?sv=');</script><style>#root > .fallback {\n",
            "        height: 90vh;\n",
            "        display: flex;\n",
            "        align-items: center;\n",
            "        justify-content: center;\n",
            "        opacity: 0;\n",
            "        animation: fallback-appear 1s 1 10s both;\n",
            "      }\n",
            "\n",
            "      #root > .fallback > div {\n",
            "        max-width: 60ch;\n",
            "      }\n",
            "\n",
            "      #root > .fallback li {\n",
            "        margin-bottom: 1em;\n",
            "      }\n",
            "\n",
            "      @keyframes fallback-appear {\n",
            "        from {\n",
            "          opacity: 0;\n",
            "        }\n",
            "        to {\n",
            "          opacity: 1;\n",
            "        }\n",
            "      }</style><link rel=\"stylesheet\" href=\"/styles.cc9b63.css\"/></head><body><div id=\"root\"><div class=\"fallback\" data-nosnippet><div><h1>UniProt website fallback message</h1>If you are not seeing anything on this page, it might be for multiple reasons:<ul><li><strong>You might have JavaScript disabled</strong>: make sure to enable JavaScript on your browser, or use a browser that supports JavaScript.</li><li><strong>You might have an outdated browser</strong>: make sure that your browser is up to date as older versions might not work with the website.</li><li><strong>There might have been a network issue</strong>: ensure that your connectivity is stable and try to reload the page to see if it solves the issue. <button onclick=\"location.reload();\">Reload this page</button></li></ul></div></div></div><script nomodule>// workaround for Safari 10.1 supporting module but ignoring nomodule\n",
            "      // From https://gist.github.com/samthor/64b114e4a4f539915a95b91ffd340acc\n",
            "      (function () {\n",
            "        var d = document;\n",
            "        var c = d.createElement('script');\n",
            "        if (!('noModule' in c) && 'onbeforeload' in c) {\n",
            "          var s = false;\n",
            "          d.addEventListener(\n",
            "            'beforeload',\n",
            "            function (e) {\n",
            "              if (e.target === c) {\n",
            "                s = true;\n",
            "              } else if (!e.target.hasAttribute('nomodule') || !s) {\n",
            "                return;\n",
            "              }\n",
            "              e.preventDefault();\n",
            "            },\n",
            "            true\n",
            "          );\n",
            "\n",
            "          c.type = 'module';\n",
            "          c.src = '.';\n",
            "          d.head.appendChild(c);\n",
            "          c.remove();\n",
            "        }\n",
            "      })();</script><script type=\"module\" src=\"/modern.app.9c32ca.js\"></script><script type=\"module\" src=\"/modern.app.9bc0e9.js\"></script><script type=\"module\" src=\"/modern.app.0710ea.js\"></script><script type=\"module\" src=\"/modern.app.dafcd0.js\"></script><script type=\"module\" src=\"/modern.app.a6c923.js\"></script><script nomodule defer=\"defer\" src=\"/legacy.app.2eef28.js\"></script><script nomodule defer=\"defer\" src=\"/legacy.app.9bc0e9.js\"></script><script nomodule defer=\"defer\" src=\"/legacy.app.0710ea.js\"\n"
          ]
        }
      ],
      "source": [
        "r = requests.get(\"https://www.uniprot.org/uniprot/P0DTC2\")\n",
        "r.raise_for_status()\n",
        "print(r.text[:5000])"
      ]
    },
    {
      "cell_type": "markdown",
      "metadata": {
        "id": "Y8nlG3LUFXrX"
      },
      "source": [
        "Wow, what is all that noise? You are seeing the HTML content of the webpage! That's the markup language web developers use to write webpages.\n",
        "\n",
        "There are libraries to process HTML and extract the actual content (like `BeautifulSoup`; more below), but we will not need it here yet. Fortunately, UniProt provides alternative representations of the data.\n",
        "\n",
        "![UniProt formats](https://github.com/volkamerlab/teachopencadd/blob/master/teachopencadd/talktorials/T011_query_online_api_webservices/images/uniprot-sars-cov-2-formats.jpg?raw=1)\n",
        "\n",
        "Some formats are more convenient for programmatic use. If you click on `Text` you will see something different in your browser: just plain text! Also, notice how the URL is now different.\n",
        "\n",
        "* HTML representation (default): https://www.uniprot.org/uniprot/P0DTC2\n",
        "* Text representation: https://www.uniprot.org/uniprot/P0DTC2.txt\n",
        "\n",
        "Just adding the `.txt` extension was enough to change the style. This is a nice feature UniProt provides. It mimics a file system, but it's actually changing the representation of the returned content. Elegant! And more important, easier to use programmatically! Check it:"
      ]
    },
    {
      "cell_type": "code",
      "execution_count": 12,
      "metadata": {
        "tags": [],
        "id": "oF2uI1T-FXrX",
        "outputId": "2843347e-3246-4d21-fffa-aa185fb1749e",
        "colab": {
          "base_uri": "https://localhost:8080/"
        }
      },
      "outputs": [
        {
          "output_type": "stream",
          "name": "stdout",
          "text": [
            "ID   SPIKE_SARS2             Reviewed;        1273 AA.\n",
            "AC   P0DTC2;\n",
            "DT   22-APR-2020, integrated into UniProtKB/Swiss-Prot.\n",
            "DT   22-APR-2020, sequence version 1.\n",
            "DT   24-JUL-2024, entry version 23.\n",
            "DE   RecName: Full=Spike glycoprotein {ECO:0000255|HAMAP-Rule:MF_04099};\n",
            "DE            Short=S glycoprotein {ECO:0000255|HAMAP-Rule:MF_04099};\n",
            "DE   AltName: Full=E2 {ECO:0000255|HAMAP-Rule:MF_04099};\n",
            "DE   AltName: Full=Peplomer protein {ECO:0000255|HAMAP-Rule:MF_04099};\n",
            "DE   Contains:\n",
            "DE     RecName: Full=Spike protein S1 {ECO:0000255|HAMAP-Rule:MF_04099};\n",
            "DE   Contains:\n",
            "DE     RecName: Full=Spike protein S2 {ECO:0000255|HAMAP-Rule:MF_04099};\n",
            "DE   Contains:\n",
            "DE     RecName: Full=Spike protein S2' {ECO:0000255|HAMAP-Rule:MF_04099};\n",
            "DE   Flags: Precursor;\n",
            "GN   Name=S {ECO:0000255|HAMAP-Rule:MF_04099}; ORFNames=2;\n",
            "OS   Severe acute respiratory syndrome coronavirus 2 (2019-nCoV) (SARS-CoV-2).\n",
            "OC   Viruses; Riboviria; Orthornavirae; Pisuviricota; Pisoniviricetes;\n",
            "OC   Nidovirales; Cornidovirineae;\n"
          ]
        }
      ],
      "source": [
        "r = requests.get(\"https://www.uniprot.org/uniprot/P0DTC2.txt\")\n",
        "r.raise_for_status()\n",
        "print(r.text[:1000])"
      ]
    },
    {
      "cell_type": "markdown",
      "metadata": {
        "id": "WHt5sDxCFXrY"
      },
      "source": [
        "This is _exactly_ what we see on our browser! Plain text is nice for these things. However, the sequence is all the way at the end of the file. To retrieve it, you need to get creative and analyze those little tags each line has. See how it begins with `SQ` and finishes with `//`:\n",
        "\n",
        "```\n",
        "SQ   SEQUENCE   1273 AA;  141178 MW;  B17BE6D9F1C4EA34 CRC64;\n",
        "     MFVFLVLLPL VSSQCVNLTT RTQLPPAYTN SFTRGVYYPD KVFRSSVLHS TQDLFLPFFS\n",
        "     NVTWFHAIHV SGTNGTKRFD NPVLPFNDGV YFASTEKSNI IRGWIFGTTL DSKTQSLLIV\n",
        "     NNATNVVIKV CEFQFCNDPF LGVYYHKNNK SWMESEFRVY SSANNCTFEY VSQPFLMDLE\n",
        "     GKQGNFKNLR EFVFKNIDGY FKIYSKHTPI NLVRDLPQGF SALEPLVDLP IGINITRFQT\n",
        "     LLALHRSYLT PGDSSSGWTA GAAAYYVGYL QPRTFLLKYN ENGTITDAVD CALDPLSETK\n",
        "     CTLKSFTVEK GIYQTSNFRV QPTESIVRFP NITNLCPFGE VFNATRFASV YAWNRKRISN\n",
        "     CVADYSVLYN SASFSTFKCY GVSPTKLNDL CFTNVYADSF VIRGDEVRQI APGQTGKIAD\n",
        "     YNYKLPDDFT GCVIAWNSNN LDSKVGGNYN YLYRLFRKSN LKPFERDIST EIYQAGSTPC\n",
        "     NGVEGFNCYF PLQSYGFQPT NGVGYQPYRV VVLSFELLHA PATVCGPKKS TNLVKNKCVN\n",
        "     FNFNGLTGTG VLTESNKKFL PFQQFGRDIA DTTDAVRDPQ TLEILDITPC SFGGVSVITP\n",
        "     GTNTSNQVAV LYQDVNCTEV PVAIHADQLT PTWRVYSTGS NVFQTRAGCL IGAEHVNNSY\n",
        "     ECDIPIGAGI CASYQTQTNS PRRARSVASQ SIIAYTMSLG AENSVAYSNN SIAIPTNFTI\n",
        "     SVTTEILPVS MTKTSVDCTM YICGDSTECS NLLLQYGSFC TQLNRALTGI AVEQDKNTQE\n",
        "     VFAQVKQIYK TPPIKDFGGF NFSQILPDPS KPSKRSFIED LLFNKVTLAD AGFIKQYGDC\n",
        "     LGDIAARDLI CAQKFNGLTV LPPLLTDEMI AQYTSALLAG TITSGWTFGA GAALQIPFAM\n",
        "     QMAYRFNGIG VTQNVLYENQ KLIANQFNSA IGKIQDSLSS TASALGKLQD VVNQNAQALN\n",
        "     TLVKQLSSNF GAISSVLNDI LSRLDKVEAE VQIDRLITGR LQSLQTYVTQ QLIRAAEIRA\n",
        "     SANLAATKMS ECVLGQSKRV DFCGKGYHLM SFPQSAPHGV VFLHVTYVPA QEKNFTTAPA\n",
        "     ICHDGKAHFP REGVFVSNGT HWFVTQRNFY EPQIITTDNT FVSGNCDVVI GIVNNTVYDP\n",
        "     LQPELDSFKE ELDKYFKNHT SPDVDLGDIS GINASVVNIQ KEIDRLNEVA KNLNESLIDL\n",
        "     QELGKYEQYI KWPWYIWLGF IAGLIAIVMV TIMLCCMTSC CSCLKGCCSC GSCCKFDEDD\n",
        "     SEPVLKGVKL HYT\n",
        "//\n",
        "```\n",
        "\n",
        "Hence, you could do something like this:"
      ]
    },
    {
      "cell_type": "code",
      "execution_count": 13,
      "metadata": {
        "tags": [],
        "id": "EmZjbqtRFXrY",
        "outputId": "90919d23-1c20-4cf9-8721-bbbccd998688",
        "colab": {
          "base_uri": "https://localhost:8080/"
        }
      },
      "outputs": [
        {
          "output_type": "stream",
          "name": "stdout",
          "text": [
            "This is your sequence: MFVFLVLLPLVSSQCVNLTTRTQLPPAYTNSFTRGVYYPDKVFRSSVLHSTQDLFLPFFSNVTWFHAIHVSGTNGTKRFDNPVLPFNDGVYFASTEKSNIIRGWIFGTTLDSKTQSLLIVNNATNVVIKVCEFQFCNDPFLGVYYHKNNKSWMESEFRVYSSANNCTFEYVSQPFLMDLEGKQGNFKNLREFVFKNIDGYFKIYSKHTPINLVRDLPQGFSALEPLVDLPIGINITRFQTLLALHRSYLTPGDSSSGWTAGAAAYYVGYLQPRTFLLKYNENGTITDAVDCALDPLSETKCTLKSFTVEKGIYQTSNFRVQPTESIVRFPNITNLCPFGEVFNATRFASVYAWNRKRISNCVADYSVLYNSASFSTFKCYGVSPTKLNDLCFTNVYADSFVIRGDEVRQIAPGQTGKIADYNYKLPDDFTGCVIAWNSNNLDSKVGGNYNYLYRLFRKSNLKPFERDISTEIYQAGSTPCNGVEGFNCYFPLQSYGFQPTNGVGYQPYRVVVLSFELLHAPATVCGPKKSTNLVKNKCVNFNFNGLTGTGVLTESNKKFLPFQQFGRDIADTTDAVRDPQTLEILDITPCSFGGVSVITPGTNTSNQVAVLYQDVNCTEVPVAIHADQLTPTWRVYSTGSNVFQTRAGCLIGAEHVNNSYECDIPIGAGICASYQTQTNSPRRARSVASQSIIAYTMSLGAENSVAYSNNSIAIPTNFTISVTTEILPVSMTKTSVDCTMYICGDSTECSNLLLQYGSFCTQLNRALTGIAVEQDKNTQEVFAQVKQIYKTPPIKDFGGFNFSQILPDPSKPSKRSFIEDLLFNKVTLADAGFIKQYGDCLGDIAARDLICAQKFNGLTVLPPLLTDEMIAQYTSALLAGTITSGWTFGAGAALQIPFAMQMAYRFNGIGVTQNVLYENQKLIANQFNSAIGKIQDSLSSTASALGKLQDVVNQNAQALNTLVKQLSSNFGAISSVLNDILSRLDKVEAEVQIDRLITGRLQSLQTYVTQQLIRAAEIRASANLAATKMSECVLGQSKRVDFCGKGYHLMSFPQSAPHGVVFLHVTYVPAQEKNFTTAPAICHDGKAHFPREGVFVSNGTHWFVTQRNFYEPQIITTDNTFVSGNCDVVIGIVNNTVYDPLQPELDSFKEELDKYFKNHTSPDVDLGDISGINASVVNIQKEIDRLNEVAKNLNESLIDLQELGKYEQYIKWPWYIWLGFIAGLIAIVMVTIMLCCMTSCCSCLKGCCSCGSCCKFDEDDSEPVLKGVKLHYT\n"
          ]
        }
      ],
      "source": [
        "sequence_block = False\n",
        "lines = []\n",
        "for line in r.text.splitlines():\n",
        "    if line.startswith(\"SQ\"):\n",
        "        sequence_block = True\n",
        "    elif line.startswith(\"//\"):\n",
        "        sequence_block = False\n",
        "\n",
        "    if sequence_block:\n",
        "        line = line.strip()  # delete spaces and newlines at the beginning and end of the line\n",
        "        line = line.replace(\" \", \"\")  # delete spaces in the middle of the line\n",
        "        lines.append(line)\n",
        "sequence = \"\".join(lines[1:])  # the first line is the metadata header\n",
        "print(f\"This is your sequence: {sequence}\")\n",
        "\n",
        "# NBVAL_CHECK_OUTPUT"
      ]
    },
    {
      "cell_type": "markdown",
      "metadata": {
        "id": "Xa6rZs4ZFXrY"
      },
      "source": [
        "Ta-da! We got it! It required some processing, but it works... However, you should always wonder if there's an easier way. Given that UniProt had a nice way of providing the text representation, how come they don't offer a URL that _only_ returns the sequence for a given UniProt ID? Well, they do! Just change `.txt` for `.fasta`: https://www.uniprot.org/uniprot/P0DTC2.fasta"
      ]
    },
    {
      "cell_type": "code",
      "execution_count": 14,
      "metadata": {
        "tags": [],
        "id": "UqSiniq3FXrY",
        "outputId": "9a81e85d-b598-4246-9d9c-7f25a333d09d",
        "colab": {
          "base_uri": "https://localhost:8080/"
        }
      },
      "outputs": [
        {
          "output_type": "stream",
          "name": "stdout",
          "text": [
            ">sp|P0DTC2|SPIKE_SARS2 Spike glycoprotein OS=Severe acute respiratory syndrome coronavirus 2 OX=2697049 GN=S PE=1 SV=1\n",
            "MFVFLVLLPLVSSQCVNLTTRTQLPPAYTNSFTRGVYYPDKVFRSSVLHSTQDLFLPFFS\n",
            "NVTWFHAIHVSGTNGTKRFDNPVLPFNDGVYFASTEKSNIIRGWIFGTTLDSKTQSLLIV\n",
            "NNATNVVIKVCEFQFCNDPFLGVYYHKNNKSWMESEFRVYSSANNCTFEYVSQPFLMDLE\n",
            "GKQGNFKNLREFVFKNIDGYFKIYSKHTPINLVRDLPQGFSALEPLVDLPIGINITRFQT\n",
            "LLALHRSYLTPGDSSSGWTAGAAAYYVGYLQPRTFLLKYNENGTITDAVDCALDPLSETK\n",
            "CTLKSFTVEKGIYQTSNFRVQPTESIVRFPNITNLCPFGEVFNATRFASVYAWNRKRISN\n",
            "CVADYSVLYNSASFSTFKCYGVSPTKLNDLCFTNVYADSFVIRGDEVRQIAPGQTGKIAD\n",
            "YNYKLPDDFTGCVIAWNSNNLDSKVGGNYNYLYRLFRKSNLKPFERDISTEIYQAGSTPC\n",
            "NGVEGFNCYFPLQSYGFQPTNGVGYQPYRVVVLSFELLHAPATVCGPKKSTNLVKNKCVN\n",
            "FNFNGLTGTGVLTESNKKFLPFQQFGRDIADTTDAVRDPQTLEILDITPCSFGGVSVITP\n",
            "GTNTSNQVAVLYQDVNCTEVPVAIHADQLTPTWRVYSTGSNVFQTRAGCLIGAEHVNNSY\n",
            "ECDIPIGAGICASYQTQTNSPRRARSVASQSIIAYTMSLGAENSVAYSNNSIAIPTNFTI\n",
            "SVTTEILPVSMTKTSVDCTMYICGDSTECSNLLLQYGSFCTQLNRALTGIAVEQDKNTQE\n",
            "VFAQVKQIYKTPPIKDFGGFNFSQILPDPSKPSKRSFIEDLLFNKVTLADAGFIKQYGDC\n",
            "LGDIAARDLICAQKFNGLTVLPPLLTDEMIAQYTSALLAGTITSGWTFGAGAALQIPFAM\n",
            "QMAYRFNGIGVTQNVLYENQKLIANQFNSAIGKIQDSLSSTASALGKLQDVVNQNAQALN\n",
            "TLVKQLSSNFGAISSVLNDILSRLDKVEAEVQIDRLITGRLQSLQTYVTQQLIRAAEIRA\n",
            "SANLAATKMSECVLGQSKRVDFCGKGYHLMSFPQSAPHGVVFLHVTYVPAQEKNFTTAPA\n",
            "ICHDGKAHFPREGVFVSNGTHWFVTQRNFYEPQIITTDNTFVSGNCDVVIGIVNNTVYDP\n",
            "LQPELDSFKEELDKYFKNHTSPDVDLGDISGINASVVNIQKEIDRLNEVAKNLNESLIDL\n",
            "QELGKYEQYIKWPWYIWLGFIAGLIAIVMVTIMLCCMTSCCSCLKGCCSCGSCCKFDEDD\n",
            "SEPVLKGVKLHYT\n",
            "\n"
          ]
        }
      ],
      "source": [
        "r = requests.get(\"https://www.uniprot.org/uniprot/P0DTC2.fasta\")\n",
        "r.raise_for_status()\n",
        "print(r.text)\n",
        "\n",
        "# NBVAL_CHECK_OUTPUT"
      ]
    },
    {
      "cell_type": "markdown",
      "metadata": {
        "id": "MbRmAYapFXrY"
      },
      "source": [
        "This is returned in FASTA, a common syntax in bioinformatics. You could use established libraries like [BioPython](https://biopython.org/) to parse it too!"
      ]
    },
    {
      "cell_type": "code",
      "execution_count": 18,
      "metadata": {
        "tags": [],
        "id": "2IfGEU2OFXrY",
        "outputId": "3ffcf90a-27c3-40eb-b5c0-134aecb0c1fb",
        "colab": {
          "base_uri": "https://localhost:8080/"
        }
      },
      "outputs": [
        {
          "output_type": "stream",
          "name": "stdout",
          "text": [
            "sp|P0DTC2|SPIKE_SARS2 Spike glycoprotein OS=Severe acute respiratory syndrome coronavirus 2 OX=2697049 GN=S PE=1 SV=1\n",
            "MFVFLVLLPLVSSQCVNLTTRTQLPPAYTNSFTRGVYYPDKVFRSSVLHSTQDLFLPFFSNVTWFHAIHVSGTNGTKRFDNPVLPFNDGVYFASTEKSNIIRGWIFGTTLDSKTQSLLIVNNATNVVIKVCEFQFCNDPFLGVYYHKNNKSWMESEFRVYSSANNCTFEYVSQPFLMDLEGKQGNFKNLREFVFKNIDGYFKIYSKHTPINLVRDLPQGFSALEPLVDLPIGINITRFQTLLALHRSYLTPGDSSSGWTAGAAAYYVGYLQPRTFLLKYNENGTITDAVDCALDPLSETKCTLKSFTVEKGIYQTSNFRVQPTESIVRFPNITNLCPFGEVFNATRFASVYAWNRKRISNCVADYSVLYNSASFSTFKCYGVSPTKLNDLCFTNVYADSFVIRGDEVRQIAPGQTGKIADYNYKLPDDFTGCVIAWNSNNLDSKVGGNYNYLYRLFRKSNLKPFERDISTEIYQAGSTPCNGVEGFNCYFPLQSYGFQPTNGVGYQPYRVVVLSFELLHAPATVCGPKKSTNLVKNKCVNFNFNGLTGTGVLTESNKKFLPFQQFGRDIADTTDAVRDPQTLEILDITPCSFGGVSVITPGTNTSNQVAVLYQDVNCTEVPVAIHADQLTPTWRVYSTGSNVFQTRAGCLIGAEHVNNSYECDIPIGAGICASYQTQTNSPRRARSVASQSIIAYTMSLGAENSVAYSNNSIAIPTNFTISVTTEILPVSMTKTSVDCTMYICGDSTECSNLLLQYGSFCTQLNRALTGIAVEQDKNTQEVFAQVKQIYKTPPIKDFGGFNFSQILPDPSKPSKRSFIEDLLFNKVTLADAGFIKQYGDCLGDIAARDLICAQKFNGLTVLPPLLTDEMIAQYTSALLAGTITSGWTFGAGAALQIPFAMQMAYRFNGIGVTQNVLYENQKLIANQFNSAIGKIQDSLSSTASALGKLQDVVNQNAQALNTLVKQLSSNFGAISSVLNDILSRLDKVEAEVQIDRLITGRLQSLQTYVTQQLIRAAEIRASANLAATKMSECVLGQSKRVDFCGKGYHLMSFPQSAPHGVVFLHVTYVPAQEKNFTTAPAICHDGKAHFPREGVFVSNGTHWFVTQRNFYEPQIITTDNTFVSGNCDVVIGIVNNTVYDPLQPELDSFKEELDKYFKNHTSPDVDLGDISGINASVVNIQKEIDRLNEVAKNLNESLIDLQELGKYEQYIKWPWYIWLGFIAGLIAIVMVTIMLCCMTSCCSCLKGCCSCGSCCKFDEDDSEPVLKGVKLHYT\n"
          ]
        }
      ],
      "source": [
        "from Bio import SeqIO\n",
        "from tempfile import NamedTemporaryFile\n",
        "import os\n",
        "\n",
        "# Write response into a temporary text file\n",
        "with NamedTemporaryFile(suffix=\".fasta\", mode=\"w\", delete=False) as tmp:\n",
        "    tmp.write(r.text)\n",
        "\n",
        "# Create the BioPython object for sequence data:\n",
        "sequence = SeqIO.read(tmp.name, format=\"fasta\")\n",
        "\n",
        "# Delete temporary file now that we have read it\n",
        "os.remove(tmp.name)\n",
        "\n",
        "print(sequence.description)\n",
        "print(sequence.seq)\n",
        "\n",
        "# NBVAL_CHECK_OUTPUT"
      ]
    },
    {
      "cell_type": "markdown",
      "metadata": {
        "id": "1HwFDpw6FXrZ"
      },
      "source": [
        "All these ways to access different representations or sections of the data contained in UniProt constitutes a URL-based API (Application Programmatic Interface). The foundational principle is that the URL contains all the **parameters** needed to ask the server for a specific type of content. Yes, you read that correctly: **parameters**. If you think about it, a URL specifies two parts: the machine you are connecting to and the page in that machine you want to access. When the page part is missing, the server assumes you are asking for `index.html` or equivalent.\n",
        "\n",
        "Let's compare it to a command-line interface:\n",
        "\n",
        "```\n",
        "@ # this is your browser\n",
        "@ uniprot.org/uniprot/P0DTC2.fasta\n",
        "```\n",
        "\n",
        "```bash\n",
        "$ # this is your terminal\n",
        "$ uniprot --id=P0DTC2 --format=FASTA\n",
        "```\n",
        "\n",
        "Each part of the URL can be considered a positional argument! So, if you want the sequence of a different protein, just input its UniProt ID in the URL, done! For example, `P00519` is the ID for the ABL1 kinase."
      ]
    },
    {
      "cell_type": "code",
      "execution_count": 19,
      "metadata": {
        "tags": [],
        "id": "VweoXtELFXrZ",
        "outputId": "59272c5c-b62e-493a-cea7-e43f584f2159",
        "colab": {
          "base_uri": "https://localhost:8080/"
        }
      },
      "outputs": [
        {
          "output_type": "stream",
          "name": "stdout",
          "text": [
            ">sp|P00519|ABL1_HUMAN Tyrosine-protein kinase ABL1 OS=Homo sapiens OX=9606 GN=ABL1 PE=1 SV=4\n",
            "MLEICLKLVGCKSKKGLSSSSSCYLEEALQRPVASDFEPQGLSEAARWNSKENLLAGPSE\n",
            "NDPNLFVALYDFVASGDNTLSITKGEKLRVLGYNHNGEWCEAQTKNGQGWVPSNYITPVN\n",
            "SLEKHSWYHGPVSRNAAEYLLSSGINGSFLVRESESSPGQRSISLRYEGRVYHYRINTAS\n",
            "DGKLYVSSESRFNTLAELVHHHSTVADGLITTLHYPAPKRNKPTVYGVSPNYDKWEMERT\n",
            "DITMKHKLGGGQYGEVYEGVWKKYSLTVAVKTLKEDTMEVEEFLKEAAVMKEIKHPNLVQ\n",
            "LLGVCTREPPFYIITEFMTYGNLLDYLRECNRQEVNAVVLLYMATQISSAMEYLEKKNFI\n",
            "HRDLAARNCLVGENHLVKVADFGLSRLMTGDTYTAHAGAKFPIKWTAPESLAYNKFSIKS\n",
            "DVWAFGVLLWEIATYGMSPYPGIDLSQVYELLEKDYRMERPEGCPEKVYELMRACWQWNP\n",
            "SDRPSFAEIHQAFETMFQESSISDEVEKELGKQGVRGAVSTLLQAPELPTKTRTSRRAAE\n",
            "HRDTTDVPEMPHSKGQGESDPLDHEPAVSPLLPRKERGPPEGGLNEDERLLPKDKKTNLF\n",
            "SALIKKKKKTAPTPPKRSSSFREMDGQPERRGAGEEEGRDISNGALAFTPLDTADPAKSP\n",
            "KPSNGAGVPNGALRESGGSGFRSPHLWKKSSTLTSSRLATGEEEGGGSSSKRFLRSCSAS\n",
            "CVPHGAKDTEWRSVTLPRDLQSTGRQFDSSTFGGHKSEKPALPRKRAGENRSDQVTRGTV\n",
            "TPPPRLVKKNEEAADEVFKDIMESSPGSSPPNLTPKPLRRQVTVAPASGLPHKEEAGKGS\n",
            "ALGTPAAAEPVTPTSKAGSGAPGGTSKGPAEESRVRRHKHSSESPGRDKGKLSRLKPAPP\n",
            "PPPAASAGKAGGKPSQSPSQEAAGEAVLGAKTKATSLVDAVNSDAAKPSQPGEGLKKPVL\n",
            "PATPKPQSAKPSGTPISPAPVPSTLPSASSALAGDQPSSTAFIPLISTRVSLRKTRQPPE\n",
            "RIASGAITKGVVLDSTEALCLAISRNSEQMASHSAVLEAGKNLYTFCVSYVDSIQQMRNK\n",
            "FAFREAINKLENNLRELQICPATAGSGPAATQDFSKLLSSVKEISDIVQR\n",
            "\n"
          ]
        }
      ],
      "source": [
        "r = requests.get(\"https://www.uniprot.org/uniprot/P00519.fasta\")\n",
        "r.raise_for_status()\n",
        "print(r.text)\n",
        "\n",
        "# NBVAL_CHECK_OUTPUT"
      ]
    },
    {
      "cell_type": "markdown",
      "metadata": {
        "id": "1IKNsOsiFXrZ"
      },
      "source": [
        "What if we parameterize the URL with an f-string and provide a function to make it super Pythonic? Even better, what if we provide the `Bio.SeqIO` parsing functionality too?"
      ]
    },
    {
      "cell_type": "code",
      "execution_count": 20,
      "metadata": {
        "tags": [],
        "id": "g2lyt-dfFXrZ"
      },
      "outputs": [],
      "source": [
        "def sequence_for_uniprot_id(uniprot_id):\n",
        "    \"\"\"\n",
        "    Returns the FASTA sequence of a given Uniprot ID using\n",
        "    the UniProt URL-based API\n",
        "\n",
        "    Parameters\n",
        "    ----------\n",
        "    uniprot_id : str\n",
        "\n",
        "    Returns\n",
        "    -------\n",
        "    Bio.SeqIO.SeqRecord\n",
        "    \"\"\"\n",
        "    #                                                  ⬇ this is key part!\n",
        "    r = requests.get(f\"https://www.uniprot.org/uniprot/{uniprot_id}.fasta\")\n",
        "    r.raise_for_status()\n",
        "\n",
        "    with NamedTemporaryFile(suffix=\".fasta\", mode=\"w\", delete=False) as tmp:\n",
        "        tmp.write(r.text)\n",
        "\n",
        "    sequence = SeqIO.read(tmp.name, format=\"fasta\")\n",
        "    os.remove(tmp.name)\n",
        "\n",
        "    return sequence"
      ]
    },
    {
      "cell_type": "markdown",
      "metadata": {
        "id": "qVcnHBdvFXrZ"
      },
      "source": [
        "Now you can use it for any UniProt ID. This is for the [Src kinase](https://www.uniprot.org/uniprot/P12931):"
      ]
    },
    {
      "cell_type": "code",
      "execution_count": 21,
      "metadata": {
        "tags": [],
        "id": "SaX5PU3pFXrZ",
        "outputId": "ed5a9c79-7337-46e1-942d-7d0266dc50e7",
        "colab": {
          "base_uri": "https://localhost:8080/"
        }
      },
      "outputs": [
        {
          "output_type": "stream",
          "name": "stdout",
          "text": [
            "ID: sp|P12931|SRC_HUMAN\n",
            "Name: sp|P12931|SRC_HUMAN\n",
            "Description: sp|P12931|SRC_HUMAN Proto-oncogene tyrosine-protein kinase Src OS=Homo sapiens OX=9606 GN=SRC PE=1 SV=3\n",
            "Number of features: 0\n",
            "Seq('MGSNKSKPKDASQRRRSLEPAENVHGAGGGAFPASQTPSKPASADGHRGPSAAF...ENL', SingleLetterAlphabet())\n"
          ]
        }
      ],
      "source": [
        "sequence = sequence_for_uniprot_id(\"P12931\")\n",
        "print(sequence)\n",
        "\n",
        "# NBVAL_CHECK_OUTPUT"
      ]
    },
    {
      "cell_type": "markdown",
      "metadata": {
        "id": "sCwLnx-rFXra"
      },
      "source": [
        "Congratulations! You have used your first online API in Python and adapted it to a workflow!"
      ]
    },
    {
      "cell_type": "markdown",
      "metadata": {
        "id": "0eiJ8BUyFXra"
      },
      "source": [
        "### Programmatic interfaces\n",
        "\n",
        "What UniProt does with their URLs is _one way_ of providing access to their database, i.e., through specific URL schemes. However, if each web service would have to come up with their own scheme, developers would need to figure out which scheme the website is using, and then implement, adapt or customize their scripts on a case-by-case basis. Fortunately, there are some standardized ways of providing programmatic access to online resources. Some of them include:\n",
        "\n",
        "- HTTP-based RESTful APIs ([wiki](https://en.wikipedia.org/wiki/Representational_state_transfer#Applied_to_Web_services))\n",
        "- GraphQL\n",
        "- SOAP\n",
        "- gRPC\n",
        "\n",
        "In this talktorial, we will focus on the first one, [REST](https://en.wikipedia.org/wiki/Representational_state_transfer)."
      ]
    },
    {
      "cell_type": "markdown",
      "metadata": {
        "id": "8b37j-BmFXrb"
      },
      "source": [
        "#### HTTP-based RESTful APIs\n",
        "\n",
        "This type of programmatic access defines a specific entry point for clients (scripts, libraries, programs) that require programmatic access, something like `api.webservice.com`. This is usually different from the website itself (`webservice.com`). They can be versioned, so the provider can update the scheme without disrupting existing implementations (`api.webservice.com/v1` will still work even when `api.webservice.com/v2` has been deployed).\n",
        "\n",
        "This kind of API is usually accompanied by well-written documentation explaining all the available actions in the platform. For example, look at the [KLIFS API documentation](https://klifs.net/swagger). KLIFS is a database of kinase targets and small compound inhibitors. You can see how every argument and option is documented, along with usage examples.\n",
        "\n",
        "If you wanted to list all the kinase families available in KLIFS, you need to access this URL:\n",
        "\n",
        "```\n",
        "https://klifs.net/api/kinase_groups\n",
        "```\n",
        "\n",
        "<details>\n",
        "    <summary>\n",
        "        Result (click here!)\n",
        "    </summary>\n",
        "\n",
        "```\n",
        "[\n",
        "  \"AGC\",\n",
        "  \"CAMK\",\n",
        "  \"CK1\",\n",
        "  \"CMGC\",\n",
        "  \"Other\",\n",
        "  \"STE\",\n",
        "  \"TK\",\n",
        "  \"TKL\"\n",
        "]\n",
        "```\n",
        "    \n",
        "\n",
        "</details>\n",
        "\n",
        "\n",
        "This response happens to be [JSON](https://en.wikipedia.org/wiki/JSON)-formatted! This is easily parsed into a Python object using the `json` library. The best news is that you don't even need that. Using `requests`, the following operation can be done in three lines thanks to the `.json()` method:"
      ]
    },
    {
      "cell_type": "code",
      "execution_count": 22,
      "metadata": {
        "tags": [],
        "id": "36YzsZS_FXrb",
        "outputId": "b5235844-ed37-4acd-dd26-220d3d97ffbf",
        "colab": {
          "base_uri": "https://localhost:8080/"
        }
      },
      "outputs": [
        {
          "output_type": "execute_result",
          "data": {
            "text/plain": [
              "['AGC', 'CAMK', 'CK1', 'CMGC', 'Other', 'STE', 'TK', 'TKL']"
            ]
          },
          "metadata": {},
          "execution_count": 22
        }
      ],
      "source": [
        "import requests\n",
        "\n",
        "response = requests.get(\"https://klifs.net/api/kinase_groups\")\n",
        "response.raise_for_status()\n",
        "result = response.json()\n",
        "result\n",
        "\n",
        "# NBVAL_CHECK_OUTPUT"
      ]
    },
    {
      "cell_type": "markdown",
      "metadata": {
        "id": "0eLqE5uAFXrb"
      },
      "source": [
        "That's a Python `list`!"
      ]
    },
    {
      "cell_type": "code",
      "execution_count": 23,
      "metadata": {
        "tags": [],
        "id": "GmCjnSTzFXrb",
        "outputId": "a792e362-ef8d-44c2-f4bf-de3fca77453b",
        "colab": {
          "base_uri": "https://localhost:8080/",
          "height": 36
        }
      },
      "outputs": [
        {
          "output_type": "execute_result",
          "data": {
            "text/plain": [
              "'AGC'"
            ],
            "application/vnd.google.colaboratory.intrinsic+json": {
              "type": "string"
            }
          },
          "metadata": {},
          "execution_count": 23
        }
      ],
      "source": [
        "result[0]"
      ]
    },
    {
      "cell_type": "markdown",
      "metadata": {
        "id": "c8fLCplBFXrb"
      },
      "source": [
        "Let's see if we can get all the kinase _families_ contained in a specific group. Reading the documentation, looks like we need this kind of URL:\n",
        "\n",
        "```\n",
        "https://klifs.net/api/kinase_families?kinase_group={{ NAME }}\n",
        "```\n",
        "\n",
        "> What follows after the `?` symbol is the _query_. It's formatted with a key-value syntax like this: `key=value`. Multiple parameters can be expressed with `&`:\n",
        ">\n",
        "> ```\n",
        "> https://api.webservice.com/some/endpoint?parameter1=value1&parameter2=value2\n",
        "> ```\n",
        "\n",
        "Let's see the returned object for the tyrosine kinase (TK) group: `family=TK`"
      ]
    },
    {
      "cell_type": "code",
      "execution_count": 24,
      "metadata": {
        "tags": [],
        "id": "rsjbq-ncFXrb",
        "outputId": "a66bdf88-afef-44f7-ad10-9b64e0a7f3c2",
        "colab": {
          "base_uri": "https://localhost:8080/"
        }
      },
      "outputs": [
        {
          "output_type": "execute_result",
          "data": {
            "text/plain": [
              "['ALK',\n",
              " 'Abl',\n",
              " 'Ack',\n",
              " 'Alk',\n",
              " 'Axl',\n",
              " 'CCK4',\n",
              " 'Csk',\n",
              " 'DDR',\n",
              " 'EGFR',\n",
              " 'Eph',\n",
              " 'FAK',\n",
              " 'FGFR',\n",
              " 'Fer',\n",
              " 'InsR',\n",
              " 'JakA',\n",
              " 'JakB',\n",
              " 'Lmr',\n",
              " 'Met',\n",
              " 'Musk',\n",
              " 'PDGFR',\n",
              " 'Ret',\n",
              " 'Ror',\n",
              " 'Ryk',\n",
              " 'Sev',\n",
              " 'Src',\n",
              " 'Syk',\n",
              " 'TK-Unique',\n",
              " 'Tec',\n",
              " 'Tie',\n",
              " 'Trk',\n",
              " 'VEGFR']"
            ]
          },
          "metadata": {},
          "execution_count": 24
        }
      ],
      "source": [
        "response = requests.get(\"https://klifs.net/api/kinase_families?kinase_group=TK\")\n",
        "response.raise_for_status()\n",
        "result = response.json()\n",
        "result"
      ]
    },
    {
      "cell_type": "markdown",
      "metadata": {
        "id": "Ln1zakifFXrb"
      },
      "source": [
        "Since passing parameters to the URL is a very common task, `requests` provides a more convenient way. This will save you from building the URLs manually or HTML escaping the values. The key idea is to pass the key-value pairs as a dictionary. The previous query can be (and should be, if you ask us) done like this:"
      ]
    },
    {
      "cell_type": "code",
      "execution_count": 25,
      "metadata": {
        "tags": [],
        "id": "tc7uHxQ5FXrc",
        "outputId": "942eb28c-0f57-4d18-c135-99daa55a99df",
        "colab": {
          "base_uri": "https://localhost:8080/"
        }
      },
      "outputs": [
        {
          "output_type": "stream",
          "name": "stdout",
          "text": [
            "Queried https://klifs.net/api/kinase_families?kinase_group=TK\n"
          ]
        },
        {
          "output_type": "execute_result",
          "data": {
            "text/plain": [
              "['ALK',\n",
              " 'Abl',\n",
              " 'Ack',\n",
              " 'Alk',\n",
              " 'Axl',\n",
              " 'CCK4',\n",
              " 'Csk',\n",
              " 'DDR',\n",
              " 'EGFR',\n",
              " 'Eph',\n",
              " 'FAK',\n",
              " 'FGFR',\n",
              " 'Fer',\n",
              " 'InsR',\n",
              " 'JakA',\n",
              " 'JakB',\n",
              " 'Lmr',\n",
              " 'Met',\n",
              " 'Musk',\n",
              " 'PDGFR',\n",
              " 'Ret',\n",
              " 'Ror',\n",
              " 'Ryk',\n",
              " 'Sev',\n",
              " 'Src',\n",
              " 'Syk',\n",
              " 'TK-Unique',\n",
              " 'Tec',\n",
              " 'Tie',\n",
              " 'Trk',\n",
              " 'VEGFR']"
            ]
          },
          "metadata": {},
          "execution_count": 25
        }
      ],
      "source": [
        "response = requests.get(\"https://klifs.net/api/kinase_families\", params={\"kinase_group\": \"TK\"})\n",
        "# You can see how requests formatted the URL for you\n",
        "print(\"Queried\", response.url)\n",
        "response.raise_for_status()\n",
        "result = response.json()\n",
        "result"
      ]
    },
    {
      "cell_type": "markdown",
      "metadata": {
        "id": "ca4bu5ZbFXrc"
      },
      "source": [
        "Sometimes the returned JSON object is not a list, but a dict. Or a combination of dictionaries and lists. Maybe even nested! You can still access them using the Python tools you already know.\n",
        "\n",
        "For example, the `kinase_information` endpoint _requires_ a numeric ID, and will return a lot of information on a single kinase:"
      ]
    },
    {
      "cell_type": "code",
      "execution_count": 26,
      "metadata": {
        "tags": [],
        "id": "Lm3QfSYfFXrc",
        "outputId": "62e78b5f-9eda-42e5-de00-f079135425ba",
        "colab": {
          "base_uri": "https://localhost:8080/"
        }
      },
      "outputs": [
        {
          "output_type": "execute_result",
          "data": {
            "text/plain": [
              "[{'kinase_ID': 22,\n",
              "  'name': 'MASTL',\n",
              "  'HGNC': 'MASTL',\n",
              "  'family': 'MAST',\n",
              "  'group': 'AGC',\n",
              "  'kinase_class': 'MASTL',\n",
              "  'species': 'Human',\n",
              "  'full_name': 'microtubule associated serine/threonine kinase like',\n",
              "  'uniprot': 'Q96GX5',\n",
              "  'iuphar': 0,\n",
              "  'pocket': 'KPISRGAFGKVYLYAVKVVQVQAERDALALSKPFIVHLYYSYLVMEYLIGGDVKSLLHIYLHRHGIIHRDLKPDNMLILTDFGLS'}]"
            ]
          },
          "metadata": {},
          "execution_count": 26
        }
      ],
      "source": [
        "response = requests.get(\"https://klifs.net/api/kinase_information\", params={\"kinase_ID\": 22})\n",
        "response.raise_for_status()\n",
        "result = response.json()\n",
        "result\n",
        "\n",
        "# NBVAL_CHECK_OUTPUT"
      ]
    },
    {
      "cell_type": "markdown",
      "metadata": {
        "id": "5Rb2V5GfFXrc"
      },
      "source": [
        "If you want to know the UniProt ID for this kinase, you will need to access the first (and only) element in the returned list, and ask for the value of the `uniprot` key:"
      ]
    },
    {
      "cell_type": "code",
      "execution_count": 27,
      "metadata": {
        "tags": [],
        "id": "MZ7gKqnfFXrc",
        "outputId": "efa46c1d-4e55-486a-8c2c-59ecd00e7d34",
        "colab": {
          "base_uri": "https://localhost:8080/",
          "height": 36
        }
      },
      "outputs": [
        {
          "output_type": "execute_result",
          "data": {
            "text/plain": [
              "'Q96GX5'"
            ],
            "application/vnd.google.colaboratory.intrinsic+json": {
              "type": "string"
            }
          },
          "metadata": {},
          "execution_count": 27
        }
      ],
      "source": [
        "result[0][\"uniprot\"]"
      ]
    },
    {
      "cell_type": "markdown",
      "metadata": {
        "id": "aje_Lq0sFXrc"
      },
      "source": [
        "Turns out we can use this to get the full sequence of the protein (and not just the pocket sequence) using our UniProt function from before!"
      ]
    },
    {
      "cell_type": "code",
      "execution_count": 28,
      "metadata": {
        "tags": [],
        "id": "Ne-eAGWXFXrc",
        "outputId": "1fd28874-1ad8-4605-b389-054e5e94a6a1",
        "colab": {
          "base_uri": "https://localhost:8080/"
        }
      },
      "outputs": [
        {
          "output_type": "stream",
          "name": "stdout",
          "text": [
            "MDPTAGSKKEPGGGAATEEGVNRIAVPKPPSIEEFSIVKPISRGAFGKVYLGQKGGKLYAVKVVKKADMINKNMTHQVQAERDALALSKSPFIVHLYYSLQSANNVYLVMEYLIGGDVKSLLHIYGYFDEEMAVKYISEVALALDYLHRHGIIHRDLKPDNMLISNEGHIKLTDFGLSKVTLNRDINMMDILTTPSMAKPRQDYSRTPGQVLSLISSLGFNTPIAEKNQDPANILSACLSETSQLSQGLVCPMSVDQKDTTPYSSKLLKSCLETVASNPGMPVKCLTSNLLQSRKRLATSSASSQSHTFISSVESECHSSPKWEKDCQESDEALGPTMMSWNAVEKLCAKSANAIETKGFNKKDLELALSPIHNSSALPTTGRSCVNLAKKCFSGEVSWEAVELDVNNINMDTDTSQLGFHQSNQWAVDSGGISEEHLGKRSLKRNFELVDSSPCKKIIQNKKTCVEYKHNEMTNCYTNQNTGLTVEVQDLKLSVHKSQQNDCANKENIVNSFTDKQQTPEKLPIPMIAKNLMCELDEDCEKNSKRDYLSSSFLCSDDDRASKNISMNSDSSFPGISIMESPLESQPLDSDRSIKESSFEESNIEDPLIVTPDCQEKTSPKGVENPAVQESNQKMLGPPLEVLKTLASKRNAVAFRSFNSHINASNNSEPSRMNMTSLDAMDISCAYSGSYPMAITPTQKRRSCMPHQQTPNQIKSGTPYRTPKSVRRGVAPVDDGRILGTPDYLAPELLLGRAHGPAVDWWALGVCLFEFLTGIPPFNDETPQQVFQNILKRDIPWPEGEEKLSDNAQSAVEILLTIDDTKRAGMKELKRHPLFSDVDWENLQHQTMPFIPQPDDETDTSYFEARNTAQHLTVSGFSL\n"
          ]
        }
      ],
      "source": [
        "mastl = sequence_for_uniprot_id(result[0][\"uniprot\"])\n",
        "print(mastl.seq)\n",
        "\n",
        "# NBVAL_CHECK_OUTPUT"
      ]
    },
    {
      "cell_type": "markdown",
      "metadata": {
        "id": "o0xQ4APiFXrc"
      },
      "source": [
        "We are using two webservices together, awesome!"
      ]
    },
    {
      "cell_type": "markdown",
      "metadata": {
        "id": "KAiUywL7FXrd"
      },
      "source": [
        "#### Generating a client for any API\n",
        "\n",
        "Did you find that convenient? Well, we are not done yet! You might have noticed that all the endpoints in the KLIFS API have a similar pattern. You specify the name of the endpoint (`kinase_groups`, `kinase_families`, `kinase_information`, ...), pass some (optional) parameters if needed, and then get a JSON-formatted response. Is there a way you can avoid having to format the URLs yourself? The answer is... yes!\n",
        "\n",
        "The REST API scheme can be expressed programmatically in a document called [Swagger/OpenAPI definitions](https://swagger.io/docs/specification/about/), which allows to dynamically generate a Python client for any REST API that implements the Swagger/OpenAPI schema. [This is the one for KLIFS](https://klifs.net/swagger/swagger.json).\n",
        "\n",
        "Of course, there are libraries for doing that in Python, like `bravado`."
      ]
    },
    {
      "cell_type": "code",
      "execution_count": 31,
      "metadata": {
        "tags": [],
        "id": "o2nVRz-fFXrd",
        "outputId": "66417971-09a2-4878-e065-49f2c1e59263",
        "colab": {
          "base_uri": "https://localhost:8080/"
        }
      },
      "outputs": [
        {
          "output_type": "execute_result",
          "data": {
            "text/plain": [
              "SwaggerClient(https://klifs.net/api)"
            ]
          },
          "metadata": {},
          "execution_count": 31
        }
      ],
      "source": [
        "from bravado.client import SwaggerClient\n",
        "\n",
        "KLIFS_SWAGGER = \"https://klifs.net/swagger/swagger.json\"\n",
        "client = SwaggerClient.from_url(KLIFS_SWAGGER, config={\"validate_responses\": False})\n",
        "client"
      ]
    },
    {
      "cell_type": "markdown",
      "metadata": {
        "id": "eD-6q-wpFXrd"
      },
      "source": [
        "Then, you can have fun inspecting the `client` object for all the API actions as methods.\n",
        "\n",
        "ℹ __Tip__: Type `client.` and press <kbd>Tab</kbd> to inspect the client in this notebook."
      ]
    },
    {
      "cell_type": "code",
      "execution_count": 32,
      "metadata": {
        "tags": [],
        "id": "TLJhjHN3FXrd"
      },
      "outputs": [],
      "source": [
        "?client.Information.get_kinase_names"
      ]
    },
    {
      "cell_type": "markdown",
      "metadata": {
        "id": "xeuzmTFVFXrd"
      },
      "source": [
        "`bravado` is auto-generating classes and functions that mirror the API we were using before! How cool is that? The same query can now be done without requests."
      ]
    },
    {
      "cell_type": "code",
      "execution_count": 33,
      "metadata": {
        "tags": [],
        "id": "fOfeOJceFXrd",
        "outputId": "cc0f5c6d-9304-47ba-b67e-bb377c570700",
        "colab": {
          "base_uri": "https://localhost:8080/"
        }
      },
      "outputs": [
        {
          "output_type": "execute_result",
          "data": {
            "text/plain": [
              "<bravado.http_future.HttpFuture at 0x7c18913b0d90>"
            ]
          },
          "metadata": {},
          "execution_count": 33
        }
      ],
      "source": [
        "client.Information.get_kinase_information(kinase_ID=[22])"
      ]
    },
    {
      "cell_type": "markdown",
      "metadata": {
        "id": "J2NGHA-LFXrd"
      },
      "source": [
        "Note that `bravado` does _not_ return the response right away. It creates a _promise_ that it will do so when you ask for it. This allows it to be usable in asynchronous programming, but for our purposes, it means that you need to call it with `.result()`."
      ]
    },
    {
      "cell_type": "code",
      "execution_count": 34,
      "metadata": {
        "tags": [],
        "id": "JonaqrDEFXrd",
        "outputId": "ae8510a1-09fd-4d4f-ff5b-77d385fa899a",
        "colab": {
          "base_uri": "https://localhost:8080/"
        }
      },
      "outputs": [
        {
          "output_type": "execute_result",
          "data": {
            "text/plain": [
              "KinaseInformation(HGNC='MASTL', family='MAST', full_name='microtubule associated serine/threonine kinase like', group='AGC', iuphar=0, kinase_ID=22, kinase_class='MASTL', name='MASTL', pocket='KPISRGAFGKVYLYAVKVVQVQAERDALALSKPFIVHLYYSYLVMEYLIGGDVKSLLHIYLHRHGIIHRDLKPDNMLILTDFGLS', species='Human', uniprot='Q96GX5')"
            ]
          },
          "metadata": {},
          "execution_count": 34
        }
      ],
      "source": [
        "results = client.Information.get_kinase_information(kinase_ID=[22]).result()\n",
        "result = results[0]\n",
        "result"
      ]
    },
    {
      "cell_type": "code",
      "execution_count": 35,
      "metadata": {
        "tags": [],
        "id": "CoHE-b0lFXrd",
        "outputId": "fdfecd7d-698d-4c1c-eeef-0341e9915b9d",
        "colab": {
          "base_uri": "https://localhost:8080/",
          "height": 36
        }
      },
      "outputs": [
        {
          "output_type": "execute_result",
          "data": {
            "text/plain": [
              "'Q96GX5'"
            ],
            "application/vnd.google.colaboratory.intrinsic+json": {
              "type": "string"
            }
          },
          "metadata": {},
          "execution_count": 35
        }
      ],
      "source": [
        "result.uniprot\n",
        "\n",
        "# NBVAL_CHECK_OUTPUT"
      ]
    },
    {
      "cell_type": "markdown",
      "metadata": {
        "id": "RLwgUZIFFXre"
      },
      "source": [
        "`bravado` also builds result _objects_ for you, so you don't have to use the `result[\"property\"]` syntax, but the `result.property` one. Some more convenience for the end user ;)"
      ]
    },
    {
      "cell_type": "markdown",
      "metadata": {
        "id": "9v8Op62jFXre"
      },
      "source": [
        "### Document parsing\n",
        "\n",
        "Sometimes the web service will not provide a standardized API that produces machine-readable documents. Instead, you will have to use the regular webpage and parse through the HTML code to obtain the information you need. This is called (web) __scraping__, which usually involves finding the right HTML tags and IDs that contain the valuable data (ignoring things such as the sidebars, top menus, footers, ads, etc).\n",
        "\n",
        "In scraping, you basically do two things:\n",
        "\n",
        "1. Access the webpage with `requests` and obtain the HTML contents.\n",
        "2. Parse the HTML string with `BeautifulSoup` or `requests-html`.\n",
        "\n",
        "\n",
        "Let's parse the proteinogenic amino acids table in this [Wikipedia article](https://en.wikipedia.org/wiki/Proteinogenic_amino_acid):"
      ]
    },
    {
      "cell_type": "code",
      "execution_count": 38,
      "metadata": {
        "tags": [],
        "id": "EsNhH4WSFXre"
      },
      "outputs": [],
      "source": [
        "import requests\n",
        "from bs4 import BeautifulSoup\n",
        "import numpy as np\n",
        "import pandas as pd\n",
        "\n",
        "# Step 1: Fetch the HTML page\n",
        "r = requests.get(\"https://en.wikipedia.org/wiki/Proteinogenic_amino_acid\")\n",
        "r.raise_for_status()\n",
        "\n",
        "# Step 2: Parse the HTML with BeautifulSoup\n",
        "html = BeautifulSoup(r.text, \"html.parser\")\n",
        "\n",
        "# Step 3: Identify all tables in the page\n",
        "tables = html.find_all(\"table\", {\"class\": \"wikitable\"})\n",
        "\n",
        "# Assuming that the table you want is the first wikitable on the page:\n",
        "table = tables[0] if tables else None\n",
        "\n",
        "if table is not None:\n",
        "    table_body = table.find(\"tbody\")\n",
        "\n",
        "    # Step 4: Extract data from the table\n",
        "    data = []\n",
        "    for row in table_body.find_all(\"tr\"):\n",
        "        cells = row.find_all(\"td\")\n",
        "        if cells:\n",
        "            row_data = []\n",
        "            for cell in cells:\n",
        "                cell_content = cell.text.strip()\n",
        "                try:\n",
        "                    cell_content = float(cell_content)  # Try converting to float\n",
        "                except ValueError:\n",
        "                    pass\n",
        "                row_data.append(cell_content)\n",
        "            data.append(row_data)\n",
        "\n",
        "    # Step 5: Convert the data into a DataFrame and replace \"?\" with NaN\n",
        "    df = pd.DataFrame.from_records(data).replace(\"?\", np.nan)\n",
        "\n",
        "    # Display the DataFrame\n",
        "    df\n",
        "else:\n",
        "    print(\"The table could not be found on the page.\")\n"
      ]
    },
    {
      "cell_type": "code",
      "source": [
        "df"
      ],
      "metadata": {
        "id": "IBBICs5OJoyZ",
        "outputId": "58338aaf-a234-401b-c218-52e82956d5a0",
        "colab": {
          "base_uri": "https://localhost:8080/",
          "height": 739
        }
      },
      "execution_count": 39,
      "outputs": [
        {
          "output_type": "execute_result",
          "data": {
            "text/plain": [
              "    0    1          2      3     4      5\n",
              "0   A  Ala   89.09404   6.01  2.35   9.87\n",
              "1   C  Cys  121.15404   5.05  1.92  10.70\n",
              "2   D  Asp  133.10384   2.85  1.99   9.90\n",
              "3   E  Glu  147.13074   3.15  2.10   9.47\n",
              "4   F  Phe  165.19184   5.49  2.20   9.31\n",
              "5   G  Gly   75.06714   6.06  2.35   9.78\n",
              "6   H  His  155.15634   7.60  1.80   9.33\n",
              "7   I  Ile  131.17464   6.05  2.32   9.76\n",
              "8   K  Lys  146.18934   9.60  2.16   9.06\n",
              "9   L  Leu  131.17464   6.01  2.33   9.74\n",
              "10  M  Met  149.20784   5.74  2.13   9.28\n",
              "11  N  Asn  132.11904   5.41  2.14   8.72\n",
              "12  O  Pyl  255.31000    NaN   NaN    NaN\n",
              "13  P  Pro  115.13194   6.30  1.95  10.64\n",
              "14  Q  Gln  146.14594   5.65  2.17   9.13\n",
              "15  R  Arg  174.20274  10.76  1.82   8.99\n",
              "16  S  Ser  105.09344   5.68  2.19   9.21\n",
              "17  T  Thr  119.12034   5.60  2.09   9.10\n",
              "18  U  Sec  168.05300   5.47  1.91  10.00\n",
              "19  V  Val  117.14784   6.00  2.39   9.74\n",
              "20  W  Trp  204.22844   5.89  2.46   9.41\n",
              "21  Y  Tyr  181.19124   5.64  2.20   9.21"
            ],
            "text/html": [
              "\n",
              "  <div id=\"df-01fe4a06-a808-4206-9f5a-63e8ee1cf157\" class=\"colab-df-container\">\n",
              "    <div>\n",
              "<style scoped>\n",
              "    .dataframe tbody tr th:only-of-type {\n",
              "        vertical-align: middle;\n",
              "    }\n",
              "\n",
              "    .dataframe tbody tr th {\n",
              "        vertical-align: top;\n",
              "    }\n",
              "\n",
              "    .dataframe thead th {\n",
              "        text-align: right;\n",
              "    }\n",
              "</style>\n",
              "<table border=\"1\" class=\"dataframe\">\n",
              "  <thead>\n",
              "    <tr style=\"text-align: right;\">\n",
              "      <th></th>\n",
              "      <th>0</th>\n",
              "      <th>1</th>\n",
              "      <th>2</th>\n",
              "      <th>3</th>\n",
              "      <th>4</th>\n",
              "      <th>5</th>\n",
              "    </tr>\n",
              "  </thead>\n",
              "  <tbody>\n",
              "    <tr>\n",
              "      <th>0</th>\n",
              "      <td>A</td>\n",
              "      <td>Ala</td>\n",
              "      <td>89.09404</td>\n",
              "      <td>6.01</td>\n",
              "      <td>2.35</td>\n",
              "      <td>9.87</td>\n",
              "    </tr>\n",
              "    <tr>\n",
              "      <th>1</th>\n",
              "      <td>C</td>\n",
              "      <td>Cys</td>\n",
              "      <td>121.15404</td>\n",
              "      <td>5.05</td>\n",
              "      <td>1.92</td>\n",
              "      <td>10.70</td>\n",
              "    </tr>\n",
              "    <tr>\n",
              "      <th>2</th>\n",
              "      <td>D</td>\n",
              "      <td>Asp</td>\n",
              "      <td>133.10384</td>\n",
              "      <td>2.85</td>\n",
              "      <td>1.99</td>\n",
              "      <td>9.90</td>\n",
              "    </tr>\n",
              "    <tr>\n",
              "      <th>3</th>\n",
              "      <td>E</td>\n",
              "      <td>Glu</td>\n",
              "      <td>147.13074</td>\n",
              "      <td>3.15</td>\n",
              "      <td>2.10</td>\n",
              "      <td>9.47</td>\n",
              "    </tr>\n",
              "    <tr>\n",
              "      <th>4</th>\n",
              "      <td>F</td>\n",
              "      <td>Phe</td>\n",
              "      <td>165.19184</td>\n",
              "      <td>5.49</td>\n",
              "      <td>2.20</td>\n",
              "      <td>9.31</td>\n",
              "    </tr>\n",
              "    <tr>\n",
              "      <th>5</th>\n",
              "      <td>G</td>\n",
              "      <td>Gly</td>\n",
              "      <td>75.06714</td>\n",
              "      <td>6.06</td>\n",
              "      <td>2.35</td>\n",
              "      <td>9.78</td>\n",
              "    </tr>\n",
              "    <tr>\n",
              "      <th>6</th>\n",
              "      <td>H</td>\n",
              "      <td>His</td>\n",
              "      <td>155.15634</td>\n",
              "      <td>7.60</td>\n",
              "      <td>1.80</td>\n",
              "      <td>9.33</td>\n",
              "    </tr>\n",
              "    <tr>\n",
              "      <th>7</th>\n",
              "      <td>I</td>\n",
              "      <td>Ile</td>\n",
              "      <td>131.17464</td>\n",
              "      <td>6.05</td>\n",
              "      <td>2.32</td>\n",
              "      <td>9.76</td>\n",
              "    </tr>\n",
              "    <tr>\n",
              "      <th>8</th>\n",
              "      <td>K</td>\n",
              "      <td>Lys</td>\n",
              "      <td>146.18934</td>\n",
              "      <td>9.60</td>\n",
              "      <td>2.16</td>\n",
              "      <td>9.06</td>\n",
              "    </tr>\n",
              "    <tr>\n",
              "      <th>9</th>\n",
              "      <td>L</td>\n",
              "      <td>Leu</td>\n",
              "      <td>131.17464</td>\n",
              "      <td>6.01</td>\n",
              "      <td>2.33</td>\n",
              "      <td>9.74</td>\n",
              "    </tr>\n",
              "    <tr>\n",
              "      <th>10</th>\n",
              "      <td>M</td>\n",
              "      <td>Met</td>\n",
              "      <td>149.20784</td>\n",
              "      <td>5.74</td>\n",
              "      <td>2.13</td>\n",
              "      <td>9.28</td>\n",
              "    </tr>\n",
              "    <tr>\n",
              "      <th>11</th>\n",
              "      <td>N</td>\n",
              "      <td>Asn</td>\n",
              "      <td>132.11904</td>\n",
              "      <td>5.41</td>\n",
              "      <td>2.14</td>\n",
              "      <td>8.72</td>\n",
              "    </tr>\n",
              "    <tr>\n",
              "      <th>12</th>\n",
              "      <td>O</td>\n",
              "      <td>Pyl</td>\n",
              "      <td>255.31000</td>\n",
              "      <td>NaN</td>\n",
              "      <td>NaN</td>\n",
              "      <td>NaN</td>\n",
              "    </tr>\n",
              "    <tr>\n",
              "      <th>13</th>\n",
              "      <td>P</td>\n",
              "      <td>Pro</td>\n",
              "      <td>115.13194</td>\n",
              "      <td>6.30</td>\n",
              "      <td>1.95</td>\n",
              "      <td>10.64</td>\n",
              "    </tr>\n",
              "    <tr>\n",
              "      <th>14</th>\n",
              "      <td>Q</td>\n",
              "      <td>Gln</td>\n",
              "      <td>146.14594</td>\n",
              "      <td>5.65</td>\n",
              "      <td>2.17</td>\n",
              "      <td>9.13</td>\n",
              "    </tr>\n",
              "    <tr>\n",
              "      <th>15</th>\n",
              "      <td>R</td>\n",
              "      <td>Arg</td>\n",
              "      <td>174.20274</td>\n",
              "      <td>10.76</td>\n",
              "      <td>1.82</td>\n",
              "      <td>8.99</td>\n",
              "    </tr>\n",
              "    <tr>\n",
              "      <th>16</th>\n",
              "      <td>S</td>\n",
              "      <td>Ser</td>\n",
              "      <td>105.09344</td>\n",
              "      <td>5.68</td>\n",
              "      <td>2.19</td>\n",
              "      <td>9.21</td>\n",
              "    </tr>\n",
              "    <tr>\n",
              "      <th>17</th>\n",
              "      <td>T</td>\n",
              "      <td>Thr</td>\n",
              "      <td>119.12034</td>\n",
              "      <td>5.60</td>\n",
              "      <td>2.09</td>\n",
              "      <td>9.10</td>\n",
              "    </tr>\n",
              "    <tr>\n",
              "      <th>18</th>\n",
              "      <td>U</td>\n",
              "      <td>Sec</td>\n",
              "      <td>168.05300</td>\n",
              "      <td>5.47</td>\n",
              "      <td>1.91</td>\n",
              "      <td>10.00</td>\n",
              "    </tr>\n",
              "    <tr>\n",
              "      <th>19</th>\n",
              "      <td>V</td>\n",
              "      <td>Val</td>\n",
              "      <td>117.14784</td>\n",
              "      <td>6.00</td>\n",
              "      <td>2.39</td>\n",
              "      <td>9.74</td>\n",
              "    </tr>\n",
              "    <tr>\n",
              "      <th>20</th>\n",
              "      <td>W</td>\n",
              "      <td>Trp</td>\n",
              "      <td>204.22844</td>\n",
              "      <td>5.89</td>\n",
              "      <td>2.46</td>\n",
              "      <td>9.41</td>\n",
              "    </tr>\n",
              "    <tr>\n",
              "      <th>21</th>\n",
              "      <td>Y</td>\n",
              "      <td>Tyr</td>\n",
              "      <td>181.19124</td>\n",
              "      <td>5.64</td>\n",
              "      <td>2.20</td>\n",
              "      <td>9.21</td>\n",
              "    </tr>\n",
              "  </tbody>\n",
              "</table>\n",
              "</div>\n",
              "    <div class=\"colab-df-buttons\">\n",
              "\n",
              "  <div class=\"colab-df-container\">\n",
              "    <button class=\"colab-df-convert\" onclick=\"convertToInteractive('df-01fe4a06-a808-4206-9f5a-63e8ee1cf157')\"\n",
              "            title=\"Convert this dataframe to an interactive table.\"\n",
              "            style=\"display:none;\">\n",
              "\n",
              "  <svg xmlns=\"http://www.w3.org/2000/svg\" height=\"24px\" viewBox=\"0 -960 960 960\">\n",
              "    <path d=\"M120-120v-720h720v720H120Zm60-500h600v-160H180v160Zm220 220h160v-160H400v160Zm0 220h160v-160H400v160ZM180-400h160v-160H180v160Zm440 0h160v-160H620v160ZM180-180h160v-160H180v160Zm440 0h160v-160H620v160Z\"/>\n",
              "  </svg>\n",
              "    </button>\n",
              "\n",
              "  <style>\n",
              "    .colab-df-container {\n",
              "      display:flex;\n",
              "      gap: 12px;\n",
              "    }\n",
              "\n",
              "    .colab-df-convert {\n",
              "      background-color: #E8F0FE;\n",
              "      border: none;\n",
              "      border-radius: 50%;\n",
              "      cursor: pointer;\n",
              "      display: none;\n",
              "      fill: #1967D2;\n",
              "      height: 32px;\n",
              "      padding: 0 0 0 0;\n",
              "      width: 32px;\n",
              "    }\n",
              "\n",
              "    .colab-df-convert:hover {\n",
              "      background-color: #E2EBFA;\n",
              "      box-shadow: 0px 1px 2px rgba(60, 64, 67, 0.3), 0px 1px 3px 1px rgba(60, 64, 67, 0.15);\n",
              "      fill: #174EA6;\n",
              "    }\n",
              "\n",
              "    .colab-df-buttons div {\n",
              "      margin-bottom: 4px;\n",
              "    }\n",
              "\n",
              "    [theme=dark] .colab-df-convert {\n",
              "      background-color: #3B4455;\n",
              "      fill: #D2E3FC;\n",
              "    }\n",
              "\n",
              "    [theme=dark] .colab-df-convert:hover {\n",
              "      background-color: #434B5C;\n",
              "      box-shadow: 0px 1px 3px 1px rgba(0, 0, 0, 0.15);\n",
              "      filter: drop-shadow(0px 1px 2px rgba(0, 0, 0, 0.3));\n",
              "      fill: #FFFFFF;\n",
              "    }\n",
              "  </style>\n",
              "\n",
              "    <script>\n",
              "      const buttonEl =\n",
              "        document.querySelector('#df-01fe4a06-a808-4206-9f5a-63e8ee1cf157 button.colab-df-convert');\n",
              "      buttonEl.style.display =\n",
              "        google.colab.kernel.accessAllowed ? 'block' : 'none';\n",
              "\n",
              "      async function convertToInteractive(key) {\n",
              "        const element = document.querySelector('#df-01fe4a06-a808-4206-9f5a-63e8ee1cf157');\n",
              "        const dataTable =\n",
              "          await google.colab.kernel.invokeFunction('convertToInteractive',\n",
              "                                                    [key], {});\n",
              "        if (!dataTable) return;\n",
              "\n",
              "        const docLinkHtml = 'Like what you see? Visit the ' +\n",
              "          '<a target=\"_blank\" href=https://colab.research.google.com/notebooks/data_table.ipynb>data table notebook</a>'\n",
              "          + ' to learn more about interactive tables.';\n",
              "        element.innerHTML = '';\n",
              "        dataTable['output_type'] = 'display_data';\n",
              "        await google.colab.output.renderOutput(dataTable, element);\n",
              "        const docLink = document.createElement('div');\n",
              "        docLink.innerHTML = docLinkHtml;\n",
              "        element.appendChild(docLink);\n",
              "      }\n",
              "    </script>\n",
              "  </div>\n",
              "\n",
              "\n",
              "<div id=\"df-a13f27fe-c70c-42c8-86ac-d389d5b68ee3\">\n",
              "  <button class=\"colab-df-quickchart\" onclick=\"quickchart('df-a13f27fe-c70c-42c8-86ac-d389d5b68ee3')\"\n",
              "            title=\"Suggest charts\"\n",
              "            style=\"display:none;\">\n",
              "\n",
              "<svg xmlns=\"http://www.w3.org/2000/svg\" height=\"24px\"viewBox=\"0 0 24 24\"\n",
              "     width=\"24px\">\n",
              "    <g>\n",
              "        <path d=\"M19 3H5c-1.1 0-2 .9-2 2v14c0 1.1.9 2 2 2h14c1.1 0 2-.9 2-2V5c0-1.1-.9-2-2-2zM9 17H7v-7h2v7zm4 0h-2V7h2v10zm4 0h-2v-4h2v4z\"/>\n",
              "    </g>\n",
              "</svg>\n",
              "  </button>\n",
              "\n",
              "<style>\n",
              "  .colab-df-quickchart {\n",
              "      --bg-color: #E8F0FE;\n",
              "      --fill-color: #1967D2;\n",
              "      --hover-bg-color: #E2EBFA;\n",
              "      --hover-fill-color: #174EA6;\n",
              "      --disabled-fill-color: #AAA;\n",
              "      --disabled-bg-color: #DDD;\n",
              "  }\n",
              "\n",
              "  [theme=dark] .colab-df-quickchart {\n",
              "      --bg-color: #3B4455;\n",
              "      --fill-color: #D2E3FC;\n",
              "      --hover-bg-color: #434B5C;\n",
              "      --hover-fill-color: #FFFFFF;\n",
              "      --disabled-bg-color: #3B4455;\n",
              "      --disabled-fill-color: #666;\n",
              "  }\n",
              "\n",
              "  .colab-df-quickchart {\n",
              "    background-color: var(--bg-color);\n",
              "    border: none;\n",
              "    border-radius: 50%;\n",
              "    cursor: pointer;\n",
              "    display: none;\n",
              "    fill: var(--fill-color);\n",
              "    height: 32px;\n",
              "    padding: 0;\n",
              "    width: 32px;\n",
              "  }\n",
              "\n",
              "  .colab-df-quickchart:hover {\n",
              "    background-color: var(--hover-bg-color);\n",
              "    box-shadow: 0 1px 2px rgba(60, 64, 67, 0.3), 0 1px 3px 1px rgba(60, 64, 67, 0.15);\n",
              "    fill: var(--button-hover-fill-color);\n",
              "  }\n",
              "\n",
              "  .colab-df-quickchart-complete:disabled,\n",
              "  .colab-df-quickchart-complete:disabled:hover {\n",
              "    background-color: var(--disabled-bg-color);\n",
              "    fill: var(--disabled-fill-color);\n",
              "    box-shadow: none;\n",
              "  }\n",
              "\n",
              "  .colab-df-spinner {\n",
              "    border: 2px solid var(--fill-color);\n",
              "    border-color: transparent;\n",
              "    border-bottom-color: var(--fill-color);\n",
              "    animation:\n",
              "      spin 1s steps(1) infinite;\n",
              "  }\n",
              "\n",
              "  @keyframes spin {\n",
              "    0% {\n",
              "      border-color: transparent;\n",
              "      border-bottom-color: var(--fill-color);\n",
              "      border-left-color: var(--fill-color);\n",
              "    }\n",
              "    20% {\n",
              "      border-color: transparent;\n",
              "      border-left-color: var(--fill-color);\n",
              "      border-top-color: var(--fill-color);\n",
              "    }\n",
              "    30% {\n",
              "      border-color: transparent;\n",
              "      border-left-color: var(--fill-color);\n",
              "      border-top-color: var(--fill-color);\n",
              "      border-right-color: var(--fill-color);\n",
              "    }\n",
              "    40% {\n",
              "      border-color: transparent;\n",
              "      border-right-color: var(--fill-color);\n",
              "      border-top-color: var(--fill-color);\n",
              "    }\n",
              "    60% {\n",
              "      border-color: transparent;\n",
              "      border-right-color: var(--fill-color);\n",
              "    }\n",
              "    80% {\n",
              "      border-color: transparent;\n",
              "      border-right-color: var(--fill-color);\n",
              "      border-bottom-color: var(--fill-color);\n",
              "    }\n",
              "    90% {\n",
              "      border-color: transparent;\n",
              "      border-bottom-color: var(--fill-color);\n",
              "    }\n",
              "  }\n",
              "</style>\n",
              "\n",
              "  <script>\n",
              "    async function quickchart(key) {\n",
              "      const quickchartButtonEl =\n",
              "        document.querySelector('#' + key + ' button');\n",
              "      quickchartButtonEl.disabled = true;  // To prevent multiple clicks.\n",
              "      quickchartButtonEl.classList.add('colab-df-spinner');\n",
              "      try {\n",
              "        const charts = await google.colab.kernel.invokeFunction(\n",
              "            'suggestCharts', [key], {});\n",
              "      } catch (error) {\n",
              "        console.error('Error during call to suggestCharts:', error);\n",
              "      }\n",
              "      quickchartButtonEl.classList.remove('colab-df-spinner');\n",
              "      quickchartButtonEl.classList.add('colab-df-quickchart-complete');\n",
              "    }\n",
              "    (() => {\n",
              "      let quickchartButtonEl =\n",
              "        document.querySelector('#df-a13f27fe-c70c-42c8-86ac-d389d5b68ee3 button');\n",
              "      quickchartButtonEl.style.display =\n",
              "        google.colab.kernel.accessAllowed ? 'block' : 'none';\n",
              "    })();\n",
              "  </script>\n",
              "</div>\n",
              "\n",
              "  <div id=\"id_4a29ff49-1ecc-4063-9ae7-c58baa4aa20b\">\n",
              "    <style>\n",
              "      .colab-df-generate {\n",
              "        background-color: #E8F0FE;\n",
              "        border: none;\n",
              "        border-radius: 50%;\n",
              "        cursor: pointer;\n",
              "        display: none;\n",
              "        fill: #1967D2;\n",
              "        height: 32px;\n",
              "        padding: 0 0 0 0;\n",
              "        width: 32px;\n",
              "      }\n",
              "\n",
              "      .colab-df-generate:hover {\n",
              "        background-color: #E2EBFA;\n",
              "        box-shadow: 0px 1px 2px rgba(60, 64, 67, 0.3), 0px 1px 3px 1px rgba(60, 64, 67, 0.15);\n",
              "        fill: #174EA6;\n",
              "      }\n",
              "\n",
              "      [theme=dark] .colab-df-generate {\n",
              "        background-color: #3B4455;\n",
              "        fill: #D2E3FC;\n",
              "      }\n",
              "\n",
              "      [theme=dark] .colab-df-generate:hover {\n",
              "        background-color: #434B5C;\n",
              "        box-shadow: 0px 1px 3px 1px rgba(0, 0, 0, 0.15);\n",
              "        filter: drop-shadow(0px 1px 2px rgba(0, 0, 0, 0.3));\n",
              "        fill: #FFFFFF;\n",
              "      }\n",
              "    </style>\n",
              "    <button class=\"colab-df-generate\" onclick=\"generateWithVariable('df')\"\n",
              "            title=\"Generate code using this dataframe.\"\n",
              "            style=\"display:none;\">\n",
              "\n",
              "  <svg xmlns=\"http://www.w3.org/2000/svg\" height=\"24px\"viewBox=\"0 0 24 24\"\n",
              "       width=\"24px\">\n",
              "    <path d=\"M7,19H8.4L18.45,9,17,7.55,7,17.6ZM5,21V16.75L18.45,3.32a2,2,0,0,1,2.83,0l1.4,1.43a1.91,1.91,0,0,1,.58,1.4,1.91,1.91,0,0,1-.58,1.4L9.25,21ZM18.45,9,17,7.55Zm-12,3A5.31,5.31,0,0,0,4.9,8.1,5.31,5.31,0,0,0,1,6.5,5.31,5.31,0,0,0,4.9,4.9,5.31,5.31,0,0,0,6.5,1,5.31,5.31,0,0,0,8.1,4.9,5.31,5.31,0,0,0,12,6.5,5.46,5.46,0,0,0,6.5,12Z\"/>\n",
              "  </svg>\n",
              "    </button>\n",
              "    <script>\n",
              "      (() => {\n",
              "      const buttonEl =\n",
              "        document.querySelector('#id_4a29ff49-1ecc-4063-9ae7-c58baa4aa20b button.colab-df-generate');\n",
              "      buttonEl.style.display =\n",
              "        google.colab.kernel.accessAllowed ? 'block' : 'none';\n",
              "\n",
              "      buttonEl.onclick = () => {\n",
              "        google.colab.notebook.generateWithVariable('df');\n",
              "      }\n",
              "      })();\n",
              "    </script>\n",
              "  </div>\n",
              "\n",
              "    </div>\n",
              "  </div>\n"
            ],
            "application/vnd.google.colaboratory.intrinsic+json": {
              "type": "dataframe",
              "variable_name": "df",
              "summary": "{\n  \"name\": \"df\",\n  \"rows\": 22,\n  \"fields\": [\n    {\n      \"column\": 0,\n      \"properties\": {\n        \"dtype\": \"string\",\n        \"num_unique_values\": 22,\n        \"samples\": [\n          \"A\",\n          \"P\",\n          \"K\"\n        ],\n        \"semantic_type\": \"\",\n        \"description\": \"\"\n      }\n    },\n    {\n      \"column\": 1,\n      \"properties\": {\n        \"dtype\": \"string\",\n        \"num_unique_values\": 22,\n        \"samples\": [\n          \"Ala\",\n          \"Pro\",\n          \"Lys\"\n        ],\n        \"semantic_type\": \"\",\n        \"description\": \"\"\n      }\n    },\n    {\n      \"column\": 2,\n      \"properties\": {\n        \"dtype\": \"number\",\n        \"std\": 39.080832103538114,\n        \"min\": 75.06714,\n        \"max\": 255.31,\n        \"num_unique_values\": 21,\n        \"samples\": [\n          89.09404,\n          168.053,\n          105.09344\n        ],\n        \"semantic_type\": \"\",\n        \"description\": \"\"\n      }\n    },\n    {\n      \"column\": 3,\n      \"properties\": {\n        \"dtype\": \"number\",\n        \"std\": 1.7132526847796743,\n        \"min\": 2.85,\n        \"max\": 10.76,\n        \"num_unique_values\": 20,\n        \"samples\": [\n          6.01,\n          6.0,\n          5.6\n        ],\n        \"semantic_type\": \"\",\n        \"description\": \"\"\n      }\n    },\n    {\n      \"column\": 4,\n      \"properties\": {\n        \"dtype\": \"number\",\n        \"std\": 0.18903136550016547,\n        \"min\": 1.8,\n        \"max\": 2.46,\n        \"num_unique_values\": 19,\n        \"samples\": [\n          2.35,\n          1.8,\n          1.95\n        ],\n        \"semantic_type\": \"\",\n        \"description\": \"\"\n      }\n    },\n    {\n      \"column\": 5,\n      \"properties\": {\n        \"dtype\": \"number\",\n        \"std\": 0.5080794838455511,\n        \"min\": 8.72,\n        \"max\": 10.7,\n        \"num_unique_values\": 19,\n        \"samples\": [\n          9.87,\n          9.78,\n          8.72\n        ],\n        \"semantic_type\": \"\",\n        \"description\": \"\"\n      }\n    }\n  ]\n}"
            }
          },
          "metadata": {},
          "execution_count": 39
        }
      ]
    },
    {
      "cell_type": "markdown",
      "metadata": {
        "id": "66jZrovIFXre"
      },
      "source": [
        "### Browser remote control\n",
        "\n",
        "The trend some years ago was to build servers that dynamically generate HTML documents with some JavaScript here and there (such as Wikipedia). In other words, the HTML is built in the server and sent to the client (your browser).\n",
        "\n",
        "However, latest trends are pointing towards full applications built entirely with JavaScript frameworks. This means that the HTML content is dynamically generated in the client. Traditional parsing will not work and you will only download the placeholder HTML code that hosts the JavaScript framework. To work around this, the HTML must be rendered with a client-side JavaScript engine.\n",
        "\n",
        "We won't cover this in the current notebook, but you can check the following projects if you are interested:\n",
        "\n",
        "- [puppeteer](https://github.com/GoogleChrome/puppeteer)\n",
        "- [selenium](https://www.seleniumhq.org/)"
      ]
    },
    {
      "cell_type": "markdown",
      "metadata": {
        "id": "AXGa0eVNFXre"
      },
      "source": [
        "***\n",
        "\n",
        "## Discussion\n",
        "\n",
        "In this theoretical introduction you have seen how different methods to programmatically access online web services can be used from a Python interpreter. Leveraging these techniques you will be able to build automated pipelines inside Jupyter Notebooks. In the end, querying a database or downloading a file involves the same kind of tooling.\n",
        "\n",
        "Unfortunately, there is too much material to cover about web APIs in a single lesson. For example, how do you _send_ or _upload_ contents from Python? Can you submit forms? If you are interested in knowing more, the `requests` [documentation](https://requests.readthedocs.io/) should be your go-to resource. Some interesting parts include:\n",
        "\n",
        "* [Submitting forms with POST requests](https://docs.python-requests.org/en/v1.1.0/user/quickstart/#more-complicated-post-requests)\n",
        "* [User authentication](https://docs.python-requests.org/en/v1.1.0/user/authentication/#basic-authentication)"
      ]
    },
    {
      "cell_type": "markdown",
      "metadata": {
        "id": "iWWmqQSSFXrf"
      },
      "source": [
        "## Quiz\n",
        "\n",
        "* Use the KLIFS API (with or without `bravado`, up to you) to find all kinases that can bind staurosporine (ligand code `STU`).\n",
        "* How can you find the correct HTML tags and identifiers to scrape a specific part of a website? Can it be automated?\n",
        "* Would you rather use programmatic APIs or manually crafted scrapers?"
      ]
    }
  ],
  "metadata": {
    "kernelspec": {
      "display_name": "Python 3 (ipykernel)",
      "language": "python",
      "name": "python3"
    },
    "language_info": {
      "codemirror_mode": {
        "name": "ipython",
        "version": 3
      },
      "file_extension": ".py",
      "mimetype": "text/x-python",
      "name": "python",
      "nbconvert_exporter": "python",
      "pygments_lexer": "ipython3",
      "version": "3.9.16"
    },
    "toc-autonumbering": true,
    "colab": {
      "provenance": [],
      "include_colab_link": true
    }
  },
  "nbformat": 4,
  "nbformat_minor": 0
}