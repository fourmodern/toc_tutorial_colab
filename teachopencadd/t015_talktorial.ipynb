{
  "cells": [
    {
      "cell_type": "markdown",
      "metadata": {
        "id": "view-in-github",
        "colab_type": "text"
      },
      "source": [
        "<a href=\"https://colab.research.google.com/github/fourmodern/toc_tutorial_colab/blob/main/teachopencadd/t015_talktorial.ipynb\" target=\"_parent\"><img src=\"https://colab.research.google.com/assets/colab-badge.svg\" alt=\"Open In Colab\"/></a>"
      ]
    },
    {
      "cell_type": "markdown",
      "metadata": {
        "id": "Uw8KlCVK5wub"
      },
      "source": [
        "# T015 · Protein ligand docking\n",
        "\n",
        "**Note:** This talktorial is a part of TeachOpenCADD, a platform that aims to teach domain-specific skills and to provide pipeline templates as starting points for research projects.\n",
        "\n",
        "Authors:\n",
        "\n",
        "- Jaime Rodríguez-Guerra, 2019-20, [Volkamer lab, Charité](https://volkamerlab.org/)  \n",
        "- Dominique Sydow, 2019-20, [Volkamer lab, Charité](https://volkamerlab.org/)  \n",
        "- Michele Wichmann, 2019-20, student work at [Volkamer lab, Charité](https://volkamerlab.org/)  \n",
        "- Maria Trofimova, CADD seminar, 2020, Charité/FU Berlin  \n",
        "- David Schaller, 2020-21, [Volkamer lab, Charité](https://volkamerlab.org/)  \n",
        "- Andrea Volkamer, 2021, [Volkamer lab, Charité](https://volkamerlab.org/)  "
      ]
    },
    {
      "cell_type": "markdown",
      "metadata": {
        "id": "7m9Vb6Fx5wud"
      },
      "source": [
        "## Aim of this talktorial\n",
        "\n",
        "In this talktorial, we will use molecular docking to predict the binding mode of a small molecule in a protein binding site. The epidermal growth factor receptor ([EGFR](https://www.uniprot.org/uniprot/P00533)) will serve as a model system to explain important steps of a molecular docking workflow with the docking software [Smina](https://sourceforge.net/projects/smina/), a fork of Autodock Vina."
      ]
    },
    {
      "cell_type": "markdown",
      "metadata": {
        "id": "rP2n6bYE5wud"
      },
      "source": [
        "### Contents in *Theory*\n",
        "\n",
        "- Molecular docking\n",
        "- Sampling algorithms\n",
        "- Scoring functions\n",
        "- Limitations\n",
        "- Visual inspection\n",
        "- Docking software\n",
        "  - Commercial\n",
        "  - Free (for academics)"
      ]
    },
    {
      "cell_type": "markdown",
      "metadata": {
        "id": "smYhvfHO5wud"
      },
      "source": [
        "### Contents in *Practical*\n",
        "\n",
        "- Preparation of protein and ligand\n",
        "- Binding site definition\n",
        "- Docking calculation\n",
        "- Docking results visualization"
      ]
    },
    {
      "cell_type": "markdown",
      "metadata": {
        "id": "YGtOTpK25wue"
      },
      "source": [
        "### References\n",
        "- Molecular docking:\n",
        "    - Pagadala _et al._, [_Biophy Rev_ (2017), __9__, 91-102](https://doi.org/10.1007/s12551-016-0247-1)\n",
        "    - Meng _et al._, [_Curr Comput Aided Drug Des_ (2011), __7__, 2, 146-157](https://doi.org/10.2174/157340911795677602)\n",
        "    - Gromski _et al._, [_Nat Rev Chem_ (2019), __3__, 119-128](https://doi.org/10.1038/s41570-018-0066-y)\n",
        "- Docking and scoring function assessment:\n",
        "    - Warren _et al._, [_J Med Chem_ (2006), __49__, 20, 5912-31](https://doi.org/10.1021/jm050362n)\n",
        "    - Wang _et al._, [_Phys Chem Chem Phys_ (2016), __18__, 18, 12964-75](https://doi.org/10.1039/c6cp01555g)\n",
        "    - Koes _et al._, [_J Chem Inf Model_ (2013), __53__, 8, 1893-1904](https://doi.org/10.1021/ci300604z)\n",
        "    - Kimber _et al._, [_Int J Mol Sci_, (2021), __22__, 9, 1-34](https://doi.org/10.3390/ijms22094435)\n",
        "    - McNutt _et al._, [_J Cheminform_ (2021), __13__, 43, 13-43](https://doi.org/10.1186/s13321-021-00522-2)\n",
        "- Visual inspection of docking results: Fischer et al., [_J Med Chem_ (2021), __64__, 5, 2489–2500](https://doi.org/10.1021/acs.jmedchem.0c02227)\n",
        "- Tools used\n",
        "    - [OpenBabel](http://openbabel.org/wiki/Main_Page)\n",
        "    - [Smina](https://sourceforge.net/projects/smina/)\n",
        "    - [NGLView](http://nglviewer.org/nglview/latest/)"
      ]
    },
    {
      "cell_type": "markdown",
      "metadata": {
        "id": "dOb_mgTQ5wue"
      },
      "source": [
        "## Theory"
      ]
    },
    {
      "cell_type": "markdown",
      "metadata": {
        "id": "ieXINlNY5wue"
      },
      "source": [
        "### Molecular docking\n",
        "\n",
        "In the modern drug discovery pipeline, determining the binding mode of an active molecule to a given protein target is of utmost importance. Such information can suggest novel chemical modifications to optimize interactions between ligand and protein, thus, increasing the binding affinity. Molecular docking software can predict these binding modes by sampling possible conformations of a ligand inside the protein binding pocket (Fig. 1). A scoring function is thereby used to estimate the quality of each binding pose, which is commonly calculated with a variety of terms for different non-covalent molecular interactions; e.g. electrostatics and van der Waals energies ([_Biophy Rev_ (2017), __9__, 91-102](https://doi.org/10.1007/s12551-016-0247-1)).\n",
        "\n",
        "Also, improvements in the fields of cheminformatics and machine learning lead to the development of algorithms able to generate libraries with billions of theoretically synthesizable molecules ([_Nat Rev Chem_ (2019), __3__, 119-128](https://doi.org/10.1038/s41570-018-0066-y)). Molecular docking can probe and (de)prioritize these molecules before they are even synthesized, thus, accelerate the discovery of novel lead candidates.\n",
        "\n",
        "![Protein-ligand complex](https://github.com/volkamerlab/teachopencadd/blob/master/teachopencadd/talktorials/T015_protein_ligand_docking/images/protein_ligand_complex.png?raw=1)  \n",
        "__Fig. 1:__ EGFR in complex with inhibitor ([2ITO](https://www.rcsb.org/structure/2ITO)), _David Schaller_."
      ]
    },
    {
      "cell_type": "markdown",
      "metadata": {
        "id": "Eh53c5oR5wue"
      },
      "source": [
        "A **molecular docking workflow** usually involves the following steps (Fig. 2):\n",
        "\n",
        "- Input file preparation, e.g. protonation and conversion into specific file formats  \n",
        "- Conformational sampling of the ligand inside the binding pocket  \n",
        "- Scoring of the generated docking poses  \n",
        "- Post-processing, e.g. storing a diverse and highly scored set of docking poses for further analysis\n",
        "\n",
        "![Docking workflow](https://github.com/volkamerlab/teachopencadd/blob/master/teachopencadd/talktorials/T015_protein_ligand_docking/images/docking_workflow.png?raw=1)  \n",
        "__Fig. 2:__ Molecular docking workflow, _Michele Wichmann_ and _David Schaller_"
      ]
    },
    {
      "cell_type": "markdown",
      "metadata": {
        "id": "CivSsm6E5wue"
      },
      "source": [
        "### Sampling algorithms\n",
        "\n",
        "Most of the currently available molecular docking tools use one or more of the following algorithms to sample the conformations of ligands inside a protein binding pocket ([_Curr Comput Aided Drug Des_ (2011), __7__, 2, 146-157](https://doi.org/10.2174/157340911795677602)).\n",
        "\n",
        "* **Matching algorithms (MA)** compare the shape similarity of ligand conformations and the protein binding pocket, which usually also includes chemical information, e.g. hydrogen bond acceptors and donors. Programs using MA for sampling conformations belong usually to the fastest docking programs. However, these programs require a prior computation of ligand conformations that are used during shape comparison. If the biologically relevant conformation is not present in this library, the algorithm will fail.\n",
        "* In the **incremental instruction** method, the ligand is first deconstructed into smaller fragments by breaking its rotatable bonds. One of the fragments, for example the biggest one, is placed first into the binding pocket. Subsequently, the complete ligand is incrementally constructed inside the binding pocket by connecting the remaining fragments at the appropriate positions of the core fragment. Incremental construction belongs to the fastest class of algorithms but is limited to medium-sized ligands, since an increasing number of fragments can lead to a combinatorial explosion that can extremely slow down the docking calculation.\n",
        "* **Stochastic methods** sample ligand conformations by rigid-body rotation and translation as well as bond rotation.\n",
        "    * **Monte Carlo methods** generate random placements and evaluate obtained conformations inside the protein binding pocket with an energy-based selection criterion. If the pose passes a certain threshold, the conformation is saved and subsequently randomly modified to generate another conformation. This process is performed until a pre-defined number of conformations is reached.\n",
        "    * **Genetic algorithms** are inspired by the natural selection concepts borrowed from Darwin's _Theory of evolution_. Geometric properties of a ligand pose are thereby stored on so-called _chromosomes_, which define the conformation of the ligand. Genetic operations like mutation and cross-over are used to sample the conformational space of the ligand. A scoring function is then used to estimate the quality of the conformations inside the binding pocket. Populations with genetic alterations with the highest scores are finally used for a new generation, which resembles Darwin's concept of the _survival of the fittest_."
      ]
    },
    {
      "cell_type": "markdown",
      "metadata": {
        "id": "I-4sn-e85wue"
      },
      "source": [
        "### Scoring functions\n",
        "\n",
        "Scoring functions are used to discriminate correct from incorrect docking poses, i.e., to prioritize active over inactive molecules. They need to be as accurate as possible, and at the same time should require little computing time. Thus, they involve many assumptions and simplifications to reduce computational costs ([_Curr Comput Aided Drug Des_ (2011), __7__, 2, 146-157](https://doi.org/10.2174/157340911795677602), [_Int J Mol Sci_, (2021), __22__, 9, 1-34](https://doi.org/10.3390/ijms22094435), [_J Cheminform_ (2021), __13__, 43, 13-43](https://doi.org/10.1186/s13321-021-00522-2)).\n",
        "\n",
        "* **Force field-based** scoring functions estimate the binding energy by calculating the strength of non-bonded interactions (e.g. van der Waals force, electrostatic interactions) of the protein-ligand complex. Extensions of these methods also include estimates for entropy and desolvation penalties upon ligand binding. A disadvantage of these scoring functions is their comparably high computational cost.\n",
        "* **Empirical** scoring functions are based on coefficients that are used to estimate the contributions of different interaction types, e.g., hydrogen bonds, ionic interactions, hydrophobic contacts. These coefficients were obtained from a regression analysis of protein-ligand complexes with known binding affinity.\n",
        "* **Knowledge-based** scoring functions integrate results from a statistical analysis of experimentally resolved protein-ligand complexes, which gathered information about interatomic contact frequencies and distances observed between protein and ligand. Docking poses will be scored higher if they show contact characteristics that were often observed in the statistical analysis.\n",
        "* **ML/DL-based** scoring functions are machine learning (ML)/deep learning (DL) models that were trained on a set of available protein-ligand complexes with known binding affinity. The protein-ligand complexes are thereby encoded in a computer-readable format, e.g. as interaction fingerprints or graph. Such scoring functions can be applied during post-processing to rank hit compounds more accurately or during the pose evaluation step."
      ]
    },
    {
      "cell_type": "markdown",
      "metadata": {
        "id": "eN1--plw5wue"
      },
      "source": [
        "ℹ **Tip**: Check these training videos by Schroedinger for a visual refresher on [drug-target interactions](https://www.youtube.com/watch?v=u49k72rUdyc) and [protein-ligand docking](https://www.schrodinger.com/training/videos/small-molecule-drug-discovery/protein-ligand-docking)."
      ]
    },
    {
      "cell_type": "markdown",
      "metadata": {
        "id": "b5_-Qu095wuf"
      },
      "source": [
        "### Limitations\n",
        "\n",
        "* Docking programs can consider some residue sidechains flexible during docking calculations to account for binding pocket flexibility. However, the dynamic, adaptive nature of the protein-ligand binding is insufficiently explored by protein-ligand docking. This can result in false positives: Even if the ligand finds a suitable pose in the binding pocket, this position is not guaranteed until the protein is allowed to explore near-minima conformations. Hence, short molecular dynamics simulations are nowadays recommended to evaluate the stability of the predicted pinding pose ([_Curr Comput Aided Drug Des_ (2011), __7__, 2, 146-157](https://doi.org/10.2174/157340911795677602)).  \n",
        "* Scoring functions used by docking programs must be cheap to compute. While the accuracy is good enough to distinguish good poses from bad poses, it can have problems sorting the best poses. For example, while most popular docking programs are able to find the experimental pose in their calculations, this pose is rarely the best one of the proposed set. Furthermore, several retrospective studies have shown that docking scores often poorly correlate with binding affinity ([_J Med Chem_ (2006), __49__, 20, 5912-31](https://doi.org/10.1021/jm050362n), [_Phys Chem Chem Phys_ (2016), __18__, 18, 12964-75](https://doi.org/10.1039/c6cp01555g)).  \n",
        "* To reduce the computational cost, docking procedures are only performed in a subset of the protein (normally around a known binding pocket). Choosing the correct binding site can become another challenge, if the binding pocket is not known a priori.  \n",
        "* To maximize the accuracy of the calculation, the ligand and protein structures must be prepared appropriately. Protonation states of amino acids and the ligands can be tricky to get right, especially in the case of (potential) tautomers. This introduces yet another cause to obtain unfavorable results."
      ]
    },
    {
      "cell_type": "markdown",
      "metadata": {
        "id": "fekDDEcB5wuf"
      },
      "source": [
        "### Visual inspection\n",
        "\n",
        "Due to the afore mentioned limitations of sampling algorithms and docking scoring functions, a visual inspection is commonly performed in most docking scenarios. Interestingly, a survey revealed that molecular modeling experts find docking scores to be the least important criterion for selecting docking poses ([_J Med Chem_ (2021), __64__, 5, 2489–2500](https://doi.org/10.1021/acs.jmedchem.0c02227)). Instead, the following criteria are used when selecting docking poses:  \n",
        "\n",
        "* Similarity to binding modes observed in available crystal structures of the protein of interest  \n",
        "* Steric as well as electrostatic and hydrophobic complementary of ligand and protein  \n",
        "  * Unsatisfied hydrogen bond donor and acceptor groups in ligand and protein  \n",
        "  * Solvent exposed hydrophobic ligand moieties  \n",
        "* Interactions with side chains or metal ions critical for protein function, e.g., enzymatic activity\n",
        "* Interaction partners and localization of hydrogen bonds\n",
        "  * Hydrogen bonds formed with the protein backbone in an enclosed hydrophobic protein environment are considered more favorable  \n",
        "  * Hydrogen bonds with charged and solvent exposed protein side chains are considered less favorable  \n",
        "* Displacement of or interactions with water molecules in the binding pocket  \n",
        "* Protein and ligand strain induced by ligand binding  \n",
        "\n",
        "However, also the visual inspection of docking poses has considerable limitations. Of course the success of visual inspection strongly depends on the experience and intuition of the participating scientists. Also, visual inspection can only be performed for a rather small number of molecules considering the available chemical space in virtual screening. Hence, visual inspection is often restricted to the highest scoring molecules of a virtual screening pipeline or only performed for a smaller set of ligands, in which scientists are particularly interested. Finally, also the best expert cannot pick the correct binding pose if it was not sampled by the docking program."
      ]
    },
    {
      "cell_type": "markdown",
      "metadata": {
        "id": "qnfp75hU5wuf"
      },
      "source": [
        "### Docking software\n",
        "\n",
        "In the following, several docking programs are exemplary listed and categorized according to the availability of free licenses. A more comprehensive list can be found at [Wikipedia](https://en.wikipedia.org/wiki/List_of_protein-ligand_docking_software).\n",
        "\n",
        "**Commercial**\n",
        "\n",
        "* [GOLD](https://www.ccdc.cam.ac.uk/solutions/csd-discovery/components/gold/)\n",
        "* [Glide](https://www.schrodinger.com/glide)\n",
        "* [FlexX](https://www.biosolveit.de/FlexX/)\n",
        "\n",
        "**Free (for academics)**\n",
        "\n",
        "* [AutoDock](http://autodock.scripps.edu/)\n",
        "* [AutoDock Vina](http://vina.scripps.edu/)\n",
        "* [DOCK](http://dock.compbio.ucsf.edu/)\n",
        "* [OpenEye](https://www.eyesopen.com/)\n",
        "* [Smina](https://sourceforge.net/projects/smina/)"
      ]
    },
    {
      "cell_type": "markdown",
      "metadata": {
        "id": "v7ZC6OS55wuf"
      },
      "source": [
        "## Practical\n",
        "\n",
        "In this talktorial, we will use the docking software [Smina](https://sourceforge.net/projects/smina/) to re-dock a co-crystallized ligand into the protein binding pocket of EGFR.\n",
        "\n",
        "* Smina ([_J Chem Inf Model_ (2013), __53__, 8, 1893-1904](https://doi.org/10.1021/ci300604z)) belongs to the AutoDock family of docking software that requires preparation of protein and ligand prior to docking.\n",
        "* After docking, results will be analyzed for the deviation from the crystal structure."
      ]
    },
    {
      "cell_type": "code",
      "source": [
        "!wget https://sourceforge.net/projects/smina/files/smina.static/download -O smina\n",
        "!chmod +x smina\n",
        "!pip install SWIG\n",
        "!pip install nglview==3.0.6\n",
        "!pip install https://github.com/volkamerlab/opencadd/archive/master.tar.gz"
      ],
      "metadata": {
        "id": "QgbAV9N4514M",
        "outputId": "1264f156-1fc1-4422-a82a-b41e1e71bc4a",
        "colab": {
          "base_uri": "https://localhost:8080/",
          "height": 1000
        }
      },
      "execution_count": null,
      "outputs": [
        {
          "output_type": "stream",
          "name": "stdout",
          "text": [
            "--2024-09-20 10:39:19--  https://sourceforge.net/projects/smina/files/smina.static/download\n",
            "Resolving sourceforge.net (sourceforge.net)... 172.64.150.145, 104.18.37.111, 2606:4700:4400::ac40:9691, ...\n",
            "Connecting to sourceforge.net (sourceforge.net)|172.64.150.145|:443... connected.\n",
            "HTTP request sent, awaiting response... 302 Found\n",
            "Location: https://downloads.sourceforge.net/project/smina/smina.static?ts=gAAAAABm7VDYqDDAVNwmVg2hYAJlbTWETeG82OKAUfhNViYf2TzUGWKPbhtiCRPRM80H_ynwijGmmoyhZ9E3O1PlcY52j6I61Q%3D%3D&use_mirror=deac-riga&r= [following]\n",
            "--2024-09-20 10:39:20--  https://downloads.sourceforge.net/project/smina/smina.static?ts=gAAAAABm7VDYqDDAVNwmVg2hYAJlbTWETeG82OKAUfhNViYf2TzUGWKPbhtiCRPRM80H_ynwijGmmoyhZ9E3O1PlcY52j6I61Q%3D%3D&use_mirror=deac-riga&r=\n",
            "Resolving downloads.sourceforge.net (downloads.sourceforge.net)... 204.68.111.105\n",
            "Connecting to downloads.sourceforge.net (downloads.sourceforge.net)|204.68.111.105|:443... connected.\n",
            "HTTP request sent, awaiting response... 302 Found\n",
            "Location: https://deac-riga.dl.sourceforge.net/project/smina/smina.static?viasf=1 [following]\n",
            "--2024-09-20 10:39:21--  https://deac-riga.dl.sourceforge.net/project/smina/smina.static?viasf=1\n",
            "Resolving deac-riga.dl.sourceforge.net (deac-riga.dl.sourceforge.net)... 89.111.52.100\n",
            "Connecting to deac-riga.dl.sourceforge.net (deac-riga.dl.sourceforge.net)|89.111.52.100|:443... connected.\n",
            "HTTP request sent, awaiting response... 200 OK\n",
            "Length: 9853920 (9.4M) [application/octet-stream]\n",
            "Saving to: ‘smina’\n",
            "\n",
            "smina               100%[===================>]   9.40M  3.28MB/s    in 2.9s    \n",
            "\n",
            "2024-09-20 10:39:24 (3.28 MB/s) - ‘smina’ saved [9853920/9853920]\n",
            "\n",
            "Collecting SWIG\n",
            "  Using cached swig-4.2.1-py2.py3-none-manylinux_2_5_x86_64.manylinux1_x86_64.whl.metadata (3.6 kB)\n",
            "Using cached swig-4.2.1-py2.py3-none-manylinux_2_5_x86_64.manylinux1_x86_64.whl (1.9 MB)\n",
            "Installing collected packages: SWIG\n",
            "Successfully installed SWIG-4.2.1\n",
            "Collecting nglview==3.0.6\n",
            "  Using cached nglview-3.0.6-py3-none-any.whl\n",
            "Collecting ipywidgets>=7 (from nglview==3.0.6)\n",
            "  Downloading ipywidgets-8.1.5-py3-none-any.whl.metadata (2.3 kB)\n",
            "Collecting jupyterlab-widgets (from nglview==3.0.6)\n",
            "  Using cached jupyterlab_widgets-3.0.13-py3-none-any.whl.metadata (4.1 kB)\n",
            "Requirement already satisfied: numpy in /usr/local/lib/python3.10/site-packages (from nglview==3.0.6) (1.26.4)\n",
            "Collecting comm>=0.1.3 (from ipywidgets>=7->nglview==3.0.6)\n",
            "  Downloading comm-0.2.2-py3-none-any.whl.metadata (3.7 kB)\n",
            "Collecting ipython>=6.1.0 (from ipywidgets>=7->nglview==3.0.6)\n",
            "  Downloading ipython-8.27.0-py3-none-any.whl.metadata (5.0 kB)\n",
            "Collecting traitlets>=4.3.1 (from ipywidgets>=7->nglview==3.0.6)\n",
            "  Downloading traitlets-5.14.3-py3-none-any.whl.metadata (10 kB)\n",
            "Collecting widgetsnbextension~=4.0.12 (from ipywidgets>=7->nglview==3.0.6)\n",
            "  Downloading widgetsnbextension-4.0.13-py3-none-any.whl.metadata (1.6 kB)\n",
            "Collecting decorator (from ipython>=6.1.0->ipywidgets>=7->nglview==3.0.6)\n",
            "  Downloading decorator-5.1.1-py3-none-any.whl.metadata (4.0 kB)\n",
            "Collecting jedi>=0.16 (from ipython>=6.1.0->ipywidgets>=7->nglview==3.0.6)\n",
            "  Using cached jedi-0.19.1-py2.py3-none-any.whl.metadata (22 kB)\n",
            "Collecting matplotlib-inline (from ipython>=6.1.0->ipywidgets>=7->nglview==3.0.6)\n",
            "  Using cached matplotlib_inline-0.1.7-py3-none-any.whl.metadata (3.9 kB)\n",
            "Collecting prompt-toolkit<3.1.0,>=3.0.41 (from ipython>=6.1.0->ipywidgets>=7->nglview==3.0.6)\n",
            "  Using cached prompt_toolkit-3.0.47-py3-none-any.whl.metadata (6.4 kB)\n",
            "Collecting pygments>=2.4.0 (from ipython>=6.1.0->ipywidgets>=7->nglview==3.0.6)\n",
            "  Using cached pygments-2.18.0-py3-none-any.whl.metadata (2.5 kB)\n",
            "Collecting stack-data (from ipython>=6.1.0->ipywidgets>=7->nglview==3.0.6)\n",
            "  Downloading stack_data-0.6.3-py3-none-any.whl.metadata (18 kB)\n",
            "Collecting exceptiongroup (from ipython>=6.1.0->ipywidgets>=7->nglview==3.0.6)\n",
            "  Using cached exceptiongroup-1.2.2-py3-none-any.whl.metadata (6.6 kB)\n",
            "Requirement already satisfied: typing-extensions>=4.6 in /usr/local/lib/python3.10/site-packages (from ipython>=6.1.0->ipywidgets>=7->nglview==3.0.6) (4.12.2)\n",
            "Collecting pexpect>4.3 (from ipython>=6.1.0->ipywidgets>=7->nglview==3.0.6)\n",
            "  Using cached pexpect-4.9.0-py2.py3-none-any.whl.metadata (2.5 kB)\n",
            "Collecting parso<0.9.0,>=0.8.3 (from jedi>=0.16->ipython>=6.1.0->ipywidgets>=7->nglview==3.0.6)\n",
            "  Using cached parso-0.8.4-py2.py3-none-any.whl.metadata (7.7 kB)\n",
            "Collecting ptyprocess>=0.5 (from pexpect>4.3->ipython>=6.1.0->ipywidgets>=7->nglview==3.0.6)\n",
            "  Using cached ptyprocess-0.7.0-py2.py3-none-any.whl.metadata (1.3 kB)\n",
            "Collecting wcwidth (from prompt-toolkit<3.1.0,>=3.0.41->ipython>=6.1.0->ipywidgets>=7->nglview==3.0.6)\n",
            "  Using cached wcwidth-0.2.13-py2.py3-none-any.whl.metadata (14 kB)\n",
            "Collecting executing>=1.2.0 (from stack-data->ipython>=6.1.0->ipywidgets>=7->nglview==3.0.6)\n",
            "  Downloading executing-2.1.0-py2.py3-none-any.whl.metadata (8.9 kB)\n",
            "Collecting asttokens>=2.1.0 (from stack-data->ipython>=6.1.0->ipywidgets>=7->nglview==3.0.6)\n",
            "  Downloading asttokens-2.4.1-py2.py3-none-any.whl.metadata (5.2 kB)\n",
            "Collecting pure-eval (from stack-data->ipython>=6.1.0->ipywidgets>=7->nglview==3.0.6)\n",
            "  Downloading pure_eval-0.2.3-py3-none-any.whl.metadata (6.3 kB)\n",
            "Requirement already satisfied: six>=1.12.0 in /usr/local/lib/python3.10/site-packages (from asttokens>=2.1.0->stack-data->ipython>=6.1.0->ipywidgets>=7->nglview==3.0.6) (1.16.0)\n",
            "Downloading ipywidgets-8.1.5-py3-none-any.whl (139 kB)\n",
            "\u001b[2K   \u001b[90m━━━━━━━━━━━━━━━━━━━━━━━━━━━━━━━━━━━━━━━━\u001b[0m \u001b[32m139.8/139.8 kB\u001b[0m \u001b[31m7.4 MB/s\u001b[0m eta \u001b[36m0:00:00\u001b[0m\n",
            "\u001b[?25hUsing cached jupyterlab_widgets-3.0.13-py3-none-any.whl (214 kB)\n",
            "Downloading comm-0.2.2-py3-none-any.whl (7.2 kB)\n",
            "Downloading ipython-8.27.0-py3-none-any.whl (818 kB)\n",
            "\u001b[2K   \u001b[90m━━━━━━━━━━━━━━━━━━━━━━━━━━━━━━━━━━━━━━━━\u001b[0m \u001b[32m819.0/819.0 kB\u001b[0m \u001b[31m17.4 MB/s\u001b[0m eta \u001b[36m0:00:00\u001b[0m\n",
            "\u001b[?25hDownloading traitlets-5.14.3-py3-none-any.whl (85 kB)\n",
            "\u001b[2K   \u001b[90m━━━━━━━━━━━━━━━━━━━━━━━━━━━━━━━━━━━━━━━━\u001b[0m \u001b[32m85.4/85.4 kB\u001b[0m \u001b[31m5.1 MB/s\u001b[0m eta \u001b[36m0:00:00\u001b[0m\n",
            "\u001b[?25hDownloading widgetsnbextension-4.0.13-py3-none-any.whl (2.3 MB)\n",
            "\u001b[2K   \u001b[90m━━━━━━━━━━━━━━━━━━━━━━━━━━━━━━━━━━━━━━━━\u001b[0m \u001b[32m2.3/2.3 MB\u001b[0m \u001b[31m44.7 MB/s\u001b[0m eta \u001b[36m0:00:00\u001b[0m\n",
            "\u001b[?25hUsing cached jedi-0.19.1-py2.py3-none-any.whl (1.6 MB)\n",
            "Using cached pexpect-4.9.0-py2.py3-none-any.whl (63 kB)\n",
            "Using cached prompt_toolkit-3.0.47-py3-none-any.whl (386 kB)\n",
            "Using cached pygments-2.18.0-py3-none-any.whl (1.2 MB)\n",
            "Downloading decorator-5.1.1-py3-none-any.whl (9.1 kB)\n",
            "Using cached exceptiongroup-1.2.2-py3-none-any.whl (16 kB)\n",
            "Using cached matplotlib_inline-0.1.7-py3-none-any.whl (9.9 kB)\n",
            "Downloading stack_data-0.6.3-py3-none-any.whl (24 kB)\n",
            "Downloading asttokens-2.4.1-py2.py3-none-any.whl (27 kB)\n",
            "Downloading executing-2.1.0-py2.py3-none-any.whl (25 kB)\n",
            "Using cached parso-0.8.4-py2.py3-none-any.whl (103 kB)\n",
            "Using cached ptyprocess-0.7.0-py2.py3-none-any.whl (13 kB)\n",
            "Downloading pure_eval-0.2.3-py3-none-any.whl (11 kB)\n",
            "Using cached wcwidth-0.2.13-py2.py3-none-any.whl (34 kB)\n",
            "Installing collected packages: wcwidth, pure-eval, ptyprocess, widgetsnbextension, traitlets, pygments, prompt-toolkit, pexpect, parso, jupyterlab-widgets, executing, exceptiongroup, decorator, asttokens, stack-data, matplotlib-inline, jedi, comm, ipython, ipywidgets, nglview\n",
            "Successfully installed asttokens-2.4.1 comm-0.2.2 decorator-5.1.1 exceptiongroup-1.2.2 executing-2.1.0 ipython-8.27.0 ipywidgets-8.1.5 jedi-0.19.1 jupyterlab-widgets-3.0.13 matplotlib-inline-0.1.7 nglview-3.0.6 parso-0.8.4 pexpect-4.9.0 prompt-toolkit-3.0.47 ptyprocess-0.7.0 pure-eval-0.2.3 pygments-2.18.0 stack-data-0.6.3 traitlets-5.14.3 wcwidth-0.2.13 widgetsnbextension-4.0.13\n"
          ]
        },
        {
          "output_type": "display_data",
          "data": {
            "application/vnd.colab-display-data+json": {
              "pip_warning": {
                "packages": [
                  "jedi",
                  "matplotlib_inline",
                  "nglview",
                  "parso",
                  "pexpect",
                  "prompt_toolkit",
                  "wcwidth"
                ]
              },
              "id": "f4d179b16aae40d6a955ef69c66f37ad"
            }
          },
          "metadata": {}
        },
        {
          "output_type": "stream",
          "name": "stdout",
          "text": [
            "Collecting https://github.com/volkamerlab/opencadd/archive/master.tar.gz\n",
            "  Using cached https://github.com/volkamerlab/opencadd/archive/master.tar.gz\n",
            "  Preparing metadata (setup.py) ... \u001b[?25l\u001b[?25hdone\n",
            "Building wheels for collected packages: opencadd\n",
            "  Building wheel for opencadd (setup.py) ... \u001b[?25l\u001b[?25hdone\n",
            "  Created wheel for opencadd: filename=opencadd-0+unknown-py3-none-any.whl size=2726224 sha256=6b07402865e805e796bb380d65e6535b07b8657ba164de4e35240d07e57b3c86\n",
            "  Stored in directory: /tmp/pip-ephem-wheel-cache-257ehd12/wheels/d2/7f/8d/bc5d0823479ae7bb902cbdc581d89a75376d3a704fde75b408\n",
            "Successfully built opencadd\n",
            "Installing collected packages: opencadd\n",
            "Successfully installed opencadd-0+unknown\n"
          ]
        },
        {
          "output_type": "display_data",
          "data": {
            "application/vnd.colab-display-data+json": {
              "pip_warning": {
                "packages": [
                  "opencadd"
                ]
              },
              "id": "531cef5a50724f8ea958820bb80af163"
            }
          },
          "metadata": {}
        }
      ]
    },
    {
      "cell_type": "code",
      "source": [
        "try:\n",
        "    import google.colab\n",
        "    !pip install condacolab\n",
        "    import condacolab\n",
        "    condacolab.install()\n",
        "except ModuleNotFoundError:\n",
        "    pass"
      ],
      "metadata": {
        "id": "eBe0J7cE8bfA",
        "outputId": "6e37f761-6817-469b-c169-220f579e16a9",
        "colab": {
          "base_uri": "https://localhost:8080/"
        }
      },
      "execution_count": null,
      "outputs": [
        {
          "output_type": "stream",
          "name": "stdout",
          "text": [
            "Collecting condacolab\n",
            "  Downloading condacolab-0.1.9-py3-none-any.whl.metadata (5.6 kB)\n",
            "Downloading condacolab-0.1.9-py3-none-any.whl (7.2 kB)\n",
            "Installing collected packages: condacolab\n",
            "Successfully installed condacolab-0.1.9\n",
            "⏬ Downloading https://github.com/conda-forge/miniforge/releases/download/23.11.0-0/Mambaforge-23.11.0-0-Linux-x86_64.sh...\n",
            "📦 Installing...\n",
            "📌 Adjusting configuration...\n",
            "🩹 Patching environment...\n",
            "⏲ Done in 0:00:12\n",
            "🔁 Restarting kernel...\n"
          ]
        }
      ]
    },
    {
      "cell_type": "code",
      "source": [
        "try:\n",
        "    import condacolab\n",
        "    from google.colab import files\n",
        "    from IPython.display import clear_output\n",
        "    condacolab.check()\n",
        "    !conda install -q -y -c conda-forge openbabel redo pypdb biotite rdkit MDAnalysis\n",
        "    on_colab = True\n",
        "    clear_output()  # clear the excessive installation outputs\n",
        "    print(\"Dependencies successfully installed!\")\n",
        "except ModuleNotFoundError:\n",
        "    on_colab = False"
      ],
      "metadata": {
        "id": "udxeL0Gr8mkp",
        "outputId": "aa861401-1aa6-4340-9daf-dd5005f2628c",
        "colab": {
          "base_uri": "https://localhost:8080/"
        }
      },
      "execution_count": null,
      "outputs": [
        {
          "output_type": "stream",
          "name": "stdout",
          "text": [
            "Dependencies successfully installed!\n"
          ]
        }
      ]
    },
    {
      "cell_type": "code",
      "execution_count": null,
      "metadata": {
        "tags": [],
        "id": "ltv_o4fv5wuf"
      },
      "outputs": [],
      "source": [
        "# import libraries\n",
        "import warnings\n",
        "from pathlib import Path\n",
        "import subprocess\n",
        "\n",
        "import nglview as nv\n",
        "from openbabel import pybel\n",
        "\n",
        "from opencadd.structure.core import Structure"
      ]
    },
    {
      "cell_type": "code",
      "execution_count": null,
      "metadata": {
        "tags": [],
        "id": "-yZxuYJx5wug"
      },
      "outputs": [],
      "source": [
        "# filter warnings\n",
        "warnings.filterwarnings(\"ignore\")\n",
        "ob_log_handler = pybel.ob.OBMessageHandler()\n",
        "pybel.ob.obErrorLog.SetOutputLevel(0)"
      ]
    },
    {
      "cell_type": "code",
      "execution_count": null,
      "metadata": {
        "tags": [],
        "id": "eIg2w89F5wuh"
      },
      "outputs": [],
      "source": [
        "# define paths\n",
        "HERE = Path(_dh[-1])\n",
        "DATA = HERE / \"data\""
      ]
    },
    {
      "cell_type": "markdown",
      "metadata": {
        "id": "chUf7HL_5wuh"
      },
      "source": [
        "### Preparation of protein and ligand\n",
        "\n",
        "Programs based on the AutoDock software require protein and ligand to be prepared in `PDBQT` format. This file format is very similar to the PDB format but additionally stores information about the atom type and partial charges. Luckily, the [OpenBabel](http://openbabel.org/wiki/Main_Page) package provides this functionality. First, we will retrieve a protein-ligand complex of EGFR ([2ITO](https://www.rcsb.org/structure/2ito)) from the Protein Data Bank, save the protein as PDB file and convert it to PDBQT format using OpenBabel."
      ]
    },
    {
      "cell_type": "code",
      "source": [
        "import requests\n",
        "import MDAnalysis as mda\n",
        "def ensure_correct_extension(pdb_file_path):\n",
        "    \"\"\"\n",
        "    파일이 .pdb 확장자로 저장되었는지 확인하는 함수\n",
        "    :param pdb_file_path: str, PDB 파일 경로\n",
        "    :return: str, 올바른 확장자의 파일 경로\n",
        "    \"\"\"\n",
        "    if not pdb_file_path.endswith(\".pdb\"):\n",
        "        # 확장자가 .pdb가 아니면 수정\n",
        "        new_pdb_file_path = pdb_file_path + \".pdb\"\n",
        "        os.rename(pdb_file_path, new_pdb_file_path)\n",
        "        return new_pdb_file_path\n",
        "    return pdb_file_path\n",
        "\n",
        "def download_pdb(pdb_id, ):\n",
        "    \"\"\"\n",
        "    PDB ID를 이용하여 PDB 파일을 다운로드하는 함수\n",
        "    :param pdb_id: str, PDB ID (예: '1tqn')\n",
        "    :param save_dir: str, 파일을 저장할 디렉터리 경로\n",
        "    :return: str, 다운로드된 PDB 파일 경로\n",
        "    \"\"\"\n",
        "    # PDB 파일 URL 설정 (RCSB PDB 서버 사용)\n",
        "    pdb_url = f\"https://files.rcsb.org/download/{pdb_id}.pdb\"\n",
        "\n",
        "    # PDB 파일 저장 경로\n",
        "    pdb_file_path = f\"{pdb_id}.pdb\"\n",
        "\n",
        "    # PDB 파일 다운로드\n",
        "    response = requests.get(pdb_url)\n",
        "\n",
        "    # 요청이 성공적인 경우 파일로 저장\n",
        "    if response.status_code == 200:\n",
        "        with open(pdb_file_path, 'wb') as file:\n",
        "            file.write(response.content)\n",
        "        print(f\"PDB 파일이 성공적으로 다운로드되었습니다: {pdb_file_path}\")\n",
        "    else:\n",
        "        raise Exception(f\"PDB 파일을 다운로드할 수 없습니다. PDB ID: {pdb_id}\")\n",
        "\n",
        "    return pdb_file_path\n",
        "\n",
        "def get_structure_from_pdb_id(pdb_id):\n",
        "    \"\"\"\n",
        "    PDB ID로부터 구조 객체를 생성하는 함수\n",
        "    :param pdb_id: str, PDB ID (예: '1tqn')\n",
        "    :return: Structure 객체\n",
        "    \"\"\"\n",
        "    # PDB 파일 다운로드\n",
        "    pdb_file_path = download_pdb(pdb_id)\n",
        "    print(pdb_file_path)\n",
        "\n",
        "    # MDAnalysis의 Universe 객체를 사용하여 PDB 파일 로드\n",
        "    universe = mda.Universe(pdb_file_path, format='pdb')\n",
        "\n",
        "    # MDAnalysis Universe 객체를 opencadd Structure 객체로 변환\n",
        "    structure = universe\n",
        "\n",
        "    return structure"
      ],
      "metadata": {
        "id": "YTrBQwWUAJCr"
      },
      "execution_count": null,
      "outputs": []
    },
    {
      "cell_type": "code",
      "execution_count": null,
      "metadata": {
        "tags": [],
        "id": "A191mviy5wuh",
        "outputId": "92540bdb-beef-4860-ce4d-c3862c208874",
        "colab": {
          "base_uri": "https://localhost:8080/"
        }
      },
      "outputs": [
        {
          "output_type": "stream",
          "name": "stdout",
          "text": [
            "PDB 파일이 성공적으로 다운로드되었습니다: 2ito.pdb\n",
            "2ito.pdb\n"
          ]
        },
        {
          "output_type": "execute_result",
          "data": {
            "text/plain": [
              "<Universe with 2484 atoms>"
            ]
          },
          "metadata": {},
          "execution_count": 10
        }
      ],
      "source": [
        "# retrieve structure from the Protein Data Bank\n",
        "pdb_id = \"2ito\"\n",
        "structure = get_structure_from_pdb_id(pdb_id)\n",
        "# element information maybe missing, but important for subsequent PDBQT conversion\n",
        "if not hasattr(structure.atoms, \"elements\"):\n",
        "    structure.add_TopologyAttr(\"elements\", structure.atoms.types)\n",
        "structure\n",
        "# NBVAL_CHECK_OUTPUT"
      ]
    },
    {
      "cell_type": "markdown",
      "metadata": {
        "id": "OQXLL8Tt5wuh"
      },
      "source": [
        "**Prepare protein**"
      ]
    },
    {
      "cell_type": "code",
      "execution_count": null,
      "metadata": {
        "tags": [],
        "id": "ooGxXC_p5wuh"
      },
      "outputs": [],
      "source": [
        "# write the protein file to disk\n",
        "protein = structure.select_atoms(\"protein\")\n",
        "protein.write(\"protein.pdb\")"
      ]
    },
    {
      "cell_type": "code",
      "execution_count": null,
      "metadata": {
        "tags": [],
        "id": "Mr0ChPth5wuh"
      },
      "outputs": [],
      "source": [
        "def pdb_to_pdbqt(pdb_path, pdbqt_path, pH=7.4):\n",
        "    \"\"\"\n",
        "    Convert a PDB file to a PDBQT file needed by docking programs of the AutoDock family.\n",
        "\n",
        "    Parameters\n",
        "    ----------\n",
        "    pdb_path: str or pathlib.Path\n",
        "        Path to input PDB file.\n",
        "    pdbqt_path: str or pathlib.path\n",
        "        Path to output PDBQT file.\n",
        "    pH: float\n",
        "        Protonation at given pH.\n",
        "    \"\"\"\n",
        "    molecule = list(pybel.readfile(\"pdb\", str(pdb_path)))[0]\n",
        "    # add hydrogens at given pH\n",
        "    molecule.OBMol.CorrectForPH(pH)\n",
        "    molecule.addh()\n",
        "    # add partial charges to each atom\n",
        "    for atom in molecule.atoms:\n",
        "        atom.OBAtom.GetPartialCharge()\n",
        "    molecule.write(\"pdbqt\", str(pdbqt_path), overwrite=True)\n",
        "    return"
      ]
    },
    {
      "cell_type": "code",
      "execution_count": null,
      "metadata": {
        "tags": [],
        "id": "JGA47hvF5wuh"
      },
      "outputs": [],
      "source": [
        "# convert protein to PDBQT format\n",
        "pdb_to_pdbqt(\"protein.pdb\", \"protein.pdbqt\")"
      ]
    },
    {
      "cell_type": "markdown",
      "metadata": {
        "id": "pzwMjMcY5wuh"
      },
      "source": [
        "**Prepare ligand**\n",
        "\n",
        "Next, we will take care of the ligand preparation. Since we want to re-dock the co-crystallized ligand into the binding site, we can retrieve the ligand in SMILES format directly from the Protein Data Bank (ligand id: [IRE](https://www.rcsb.org/ligand/IRE)). Again, we will use OpenBabel to generate the PDBQT file (including the generation of a 3D conformation)."
      ]
    },
    {
      "cell_type": "code",
      "execution_count": null,
      "metadata": {
        "tags": [],
        "id": "hn0OW5fc5wuh"
      },
      "outputs": [],
      "source": [
        "# define ligand SMILES for protein-ligand complex of interest\n",
        "smiles = \"COC1=C(C=C2C(=C1)N=CN=C2NC3=CC(=C(C=C3)F)Cl)OCCCN4CCOCC4\""
      ]
    },
    {
      "cell_type": "code",
      "execution_count": null,
      "metadata": {
        "tags": [],
        "id": "Q5kqkFyX5wui"
      },
      "outputs": [],
      "source": [
        "def smiles_to_pdbqt(smiles, pdbqt_path, pH=7.4):\n",
        "    \"\"\"\n",
        "    Convert a SMILES string to a PDBQT file needed by docking programs of the AutoDock family.\n",
        "\n",
        "    Parameters\n",
        "    ----------\n",
        "    smiles: str\n",
        "        SMILES string.\n",
        "    pdbqt_path: str or pathlib.path\n",
        "        Path to output PDBQT file.\n",
        "    pH: float\n",
        "        Protonation at given pH.\n",
        "    \"\"\"\n",
        "    molecule = pybel.readstring(\"smi\", smiles)\n",
        "    # add hydrogens at given pH\n",
        "    molecule.OBMol.CorrectForPH(pH)\n",
        "    molecule.addh()\n",
        "    # generate 3D coordinates\n",
        "    molecule.make3D(forcefield=\"mmff94s\", steps=10000)\n",
        "    # add partial charges to each atom\n",
        "    for atom in molecule.atoms:\n",
        "        atom.OBAtom.GetPartialCharge()\n",
        "    molecule.write(\"pdbqt\", str(pdbqt_path), overwrite=True)\n",
        "    return"
      ]
    },
    {
      "cell_type": "code",
      "execution_count": null,
      "metadata": {
        "tags": [],
        "id": "1fBasd6F5wui"
      },
      "outputs": [],
      "source": [
        "# convert the ligand into PDBQT format\n",
        "smiles_to_pdbqt(smiles,\"ligand.pdbqt\")"
      ]
    },
    {
      "cell_type": "markdown",
      "metadata": {
        "id": "_xGSlsjJ5wui"
      },
      "source": [
        "### Binding site definition\n",
        "\n",
        "In theory, it would be possible to perform a docking calculation considering the whole protein as binding site. However, due to the known limitations of docking algorithms, it is always recommended to restrict the binding site to a certain region of interest to increase performance and accuracy. Here, we can use the coordinates of the co-crystallized ligand to define the binding site with a rectangular box.\n",
        "\n",
        "* We will calculate the geometric center of the molecule, which represents the center of the rectangular box,\n",
        "* as well as the length of the molecule in each dimension, which corresponds to the edge lengths of the rectangular box.\n",
        "* Also, we will add a 5 Å buffer in each dimension to allow the correct placements of ligands that are bigger than the co-crystallized ligands or bind in a different fashion.\n",
        "* If no co-crystallized ligand is available, one can also use binding site detection algorithms to identify regions of interest for docking (see **Talktorial T014** on binding site detection algorithms)."
      ]
    },
    {
      "cell_type": "code",
      "execution_count": null,
      "metadata": {
        "tags": [],
        "id": "D_g9ue9j5wui"
      },
      "outputs": [],
      "source": [
        "ligand_resname = \"IRE\"\n",
        "ligand = structure.select_atoms(f\"resname {ligand_resname}\")\n",
        "pocket_center = (ligand.positions.max(axis=0) + ligand.positions.min(axis=0)) / 2\n",
        "pocket_size = ligand.positions.max(axis=0) - ligand.positions.min(axis=0) + 5"
      ]
    },
    {
      "cell_type": "markdown",
      "metadata": {
        "id": "cSmvyp955wui"
      },
      "source": [
        "### Docking calculation"
      ]
    },
    {
      "cell_type": "markdown",
      "metadata": {
        "id": "VJBBkmhL5wui"
      },
      "source": [
        "Finally, we can proceed to the actual docking calculation. Smina is a command line tool, which currently does not provide a Python API.\n",
        "\n",
        "* However, we can write a function that will take care of generating the proper command and execute the calculation.\n",
        "* Besides providing the ligand, protein and pocket information, we can also alter the behavior of the docking calculation by setting the number of docking poses to be generated and by changing the exhaustiveness, which controls the number of independent docking calculations.\n",
        "\n",
        "**Note:** Depending on the CPU speed and the docking settings this step may take a few minutes."
      ]
    },
    {
      "cell_type": "code",
      "execution_count": null,
      "metadata": {
        "tags": [],
        "id": "gStljWzP5wuj"
      },
      "outputs": [],
      "source": [
        "def run_smina(\n",
        "    ligand_path, protein_path, out_path, pocket_center, pocket_size, num_poses=10, exhaustiveness=8\n",
        "):\n",
        "    \"\"\"\n",
        "    Perform docking with Smina.\n",
        "\n",
        "    Parameters\n",
        "    ----------\n",
        "    ligand_path: str or pathlib.Path\n",
        "        Path to ligand PDBQT file that should be docked.\n",
        "    protein_path: str or pathlib.Path\n",
        "        Path to protein PDBQT file that should be docked to.\n",
        "    out_path: str or pathlib.Path\n",
        "        Path to which docking poses should be saved, SDF or PDB format.\n",
        "    pocket_center: iterable of float or int\n",
        "        Coordinates defining the center of the binding site.\n",
        "    pocket_size: iterable of float or int\n",
        "        Lengths of edges defining the binding site.\n",
        "    num_poses: int\n",
        "        Maximum number of poses to generate.\n",
        "    exhaustiveness: int\n",
        "        Accuracy of docking calculations.\n",
        "\n",
        "    Returns\n",
        "    -------\n",
        "    output_text: str\n",
        "        The output of the Smina calculation.\n",
        "    \"\"\"\n",
        "    output_text = subprocess.check_output(\n",
        "        [\n",
        "            \"./smina\",\n",
        "            \"--ligand\",\n",
        "            str(ligand_path),\n",
        "            \"--receptor\",\n",
        "            str(protein_path),\n",
        "            \"--out\",\n",
        "            str(out_path),\n",
        "            \"--center_x\",\n",
        "            str(pocket_center[0]),\n",
        "            \"--center_y\",\n",
        "            str(pocket_center[1]),\n",
        "            \"--center_z\",\n",
        "            str(pocket_center[2]),\n",
        "            \"--size_x\",\n",
        "            str(pocket_size[0]),\n",
        "            \"--size_y\",\n",
        "            str(pocket_size[1]),\n",
        "            \"--size_z\",\n",
        "            str(pocket_size[2]),\n",
        "            \"--num_modes\",\n",
        "            str(num_poses),\n",
        "            \"--exhaustiveness\",\n",
        "            str(exhaustiveness),\n",
        "        ],\n",
        "        universal_newlines=True,  # needed to capture output text\n",
        "    )\n",
        "    return output_text"
      ]
    },
    {
      "cell_type": "code",
      "execution_count": null,
      "metadata": {
        "tags": [],
        "id": "Q_sJfUh_5wuj",
        "outputId": "e852ad2e-992d-4c21-8fb2-af36028390b3",
        "colab": {
          "base_uri": "https://localhost:8080/"
        }
      },
      "outputs": [
        {
          "output_type": "stream",
          "name": "stdout",
          "text": [
            "   _______  _______ _________ _        _______ \n",
            "  (  ____ \\(       )\\__   __/( (    /|(  ___  )\n",
            "  | (    \\/| () () |   ) (   |  \\  ( || (   ) |\n",
            "  | (_____ | || || |   | |   |   \\ | || (___) |\n",
            "  (_____  )| |(_)| |   | |   | (\\ \\) ||  ___  |\n",
            "        ) || |   | |   | |   | | \\   || (   ) |\n",
            "  /\\____) || )   ( |___) (___| )  \\  || )   ( |\n",
            "  \\_______)|/     \\|\\_______/|/    )_)|/     \\|\n",
            "\n",
            "\n",
            "smina is based off AutoDock Vina. Please cite appropriately.\n",
            "\n",
            "Weights      Terms\n",
            "-0.035579    gauss(o=0,_w=0.5,_c=8)\n",
            "-0.005156    gauss(o=3,_w=2,_c=8)\n",
            "0.840245     repulsion(o=0,_c=8)\n",
            "-0.035069    hydrophobic(g=0.5,_b=1.5,_c=8)\n",
            "-0.587439    non_dir_h_bond(g=-0.7,_b=0,_c=8)\n",
            "1.923        num_tors_div\n",
            "\n",
            "Using random seed: 1368284574\n",
            "\n",
            "0%   10   20   30   40   50   60   70   80   90   100%\n",
            "|----|----|----|----|----|----|----|----|----|----|\n",
            "***************************************************\n",
            "\n",
            "mode |   affinity | dist from best mode\n",
            "     | (kcal/mol) | rmsd l.b.| rmsd u.b.\n",
            "-----+------------+----------+----------\n",
            "1       -8.4       0.000      0.000    \n",
            "2       -8.4       1.223      1.556    \n",
            "3       -8.1       1.791      3.277    \n",
            "4       -7.8       3.788      6.641    \n",
            "5       -7.8       4.246      7.051    \n",
            "6       -7.7       3.820      6.740    \n",
            "7       -7.6       3.083      4.674    \n",
            "8       -7.5       4.199      6.987    \n",
            "9       -7.5       4.130      7.019    \n",
            "10      -7.4       2.436      5.336    \n",
            "Refine time 147.094\n",
            "Loop time 148.792\n",
            "\n"
          ]
        }
      ],
      "source": [
        "output_text = run_smina(\n",
        "    \"ligand.pdbqt\",\n",
        "    \"protein.pdbqt\",\n",
        "    \"docking_poses.sdf\",\n",
        "    pocket_center,\n",
        "    pocket_size,\n",
        ")\n",
        "print(output_text)"
      ]
    },
    {
      "cell_type": "markdown",
      "metadata": {
        "id": "soCYxSCu5wuj"
      },
      "source": [
        "The output is a file containing the docking poses and a text based description of the docking results including an estimated affinity and the root mean square deviation (RMSD) of each pose from the pose with the highest predicted affinity ([Vina output description](https://vina.scripps.edu/manual/)).\n",
        "\n",
        "Let's also check if the output files were generated."
      ]
    },
    {
      "cell_type": "code",
      "execution_count": null,
      "metadata": {
        "tags": [],
        "id": "MNWtFc4f5wuj"
      },
      "outputs": [],
      "source": [
        "#(f\"docking_poses.sdf\").exists()\n",
        "# NBVAL_CHECK_OUTPUT"
      ]
    },
    {
      "cell_type": "markdown",
      "metadata": {
        "id": "NuTnGCLV5wuk"
      },
      "source": [
        "### Docking results visualization\n",
        "\n",
        "Now, let us analyze the docking results. Were we able to reproduce the binding mode observed in the experimentally resolved structure?\n",
        "\n",
        "Several binding poses were generated and saved as a single SDF file. To allow a more clear visualization with [NGLView](http://nglviewer.org/nglview/latest/), we will split the SDF file and save each docking pose in a separate file."
      ]
    },
    {
      "cell_type": "code",
      "execution_count": null,
      "metadata": {
        "tags": [],
        "id": "dWiy6k2j5wuk"
      },
      "outputs": [],
      "source": [
        "def split_sdf_file(sdf_path):\n",
        "    \"\"\"\n",
        "    Split an SDF file into seperate files for each molecule.\n",
        "    Each file is named with consecutive numbers.\n",
        "\n",
        "    Parameters\n",
        "    ----------\n",
        "    sdf_path: str or pathlib.Path\n",
        "        Path to SDF file that should be split.\n",
        "    \"\"\"\n",
        "    sdf_path = Path(sdf_path)\n",
        "    stem = sdf_path.stem\n",
        "    parent = sdf_path.parent\n",
        "    molecules = pybel.readfile(\"sdf\", str(sdf_path))\n",
        "    for i, molecule in enumerate(molecules, 1):\n",
        "        molecule.write(\"sdf\", str(parent / f\"{stem}_{i}.sdf\"), overwrite=True)\n",
        "    return"
      ]
    },
    {
      "cell_type": "code",
      "execution_count": null,
      "metadata": {
        "tags": [],
        "id": "hhawonXU5wuk"
      },
      "outputs": [],
      "source": [
        "split_sdf_file(\"docking_poses.sdf\")"
      ]
    },
    {
      "cell_type": "markdown",
      "metadata": {
        "id": "g0sishIt5wuk"
      },
      "source": [
        "In the next cell, we can visualize each docking pose separately and compare it to the binding mode observed in the X-ray structure. You can also provide the SDF file with all ligands to visualize them all together. The co-crystallized ligand is depicted with ball and sticks, the docking pose as licorice."
      ]
    },
    {
      "cell_type": "code",
      "execution_count": null,
      "metadata": {
        "tags": [],
        "id": "XT3umL-U5wuk",
        "outputId": "e0af02af-945f-4188-e454-44be46b559bb",
        "colab": {
          "base_uri": "https://localhost:8080/",
          "height": 17,
          "referenced_widgets": [
            "6a5d8b7c770943158b6e2ba5d60a7c4c",
            "42ccc95c7a034b91bc163ed926871441",
            "012106bc05084502890b2abf5eed7b2e",
            "31ab5a1d75934d7da4a9ff9c8c0151fd",
            "8d2080b6cbb44100b7d110de8ed353e4",
            "07d1a2d6f208424f91d019ffc7f2050a",
            "7ca6cfbb2a8a409c8b830e93c5feedb3"
          ]
        }
      },
      "outputs": [
        {
          "output_type": "display_data",
          "data": {
            "text/plain": [
              "NGLWidget()"
            ],
            "application/vnd.jupyter.widget-view+json": {
              "version_major": 2,
              "version_minor": 0,
              "model_id": "6a5d8b7c770943158b6e2ba5d60a7c4c"
            }
          },
          "metadata": {}
        }
      ],
      "source": [
        "docking_pose_id = 1\n",
        "view = nv.show_structure_file(\n",
        "    str(f\"docking_poses_{docking_pose_id}.sdf\"),\n",
        "    representations=[{\"params\": {}, \"type\": \"licorice\"}],\n",
        ")\n",
        "view.add_pdbid(pdb_id)\n",
        "view"
      ]
    },
    {
      "cell_type": "code",
      "execution_count": null,
      "metadata": {
        "tags": [],
        "id": "tEICrBvt5wuk"
      },
      "outputs": [],
      "source": [
        "view.render_image(trim=True, factor=2);"
      ]
    },
    {
      "cell_type": "code",
      "execution_count": null,
      "metadata": {
        "tags": [
          "nbsphinx-thumbnail"
        ],
        "id": "srz8bel35wuk",
        "outputId": "929534a7-4a6e-453d-9873-774c921888ec"
      },
      "outputs": [
        {
          "data": {
            "image/png": "[encoded data removed]",
            "text/plain": [
              "<IPython.core.display.Image object>"
            ]
          },
          "execution_count": 19,
          "metadata": {},
          "output_type": "execute_result"
        }
      ],
      "source": [
        "view._display_image()"
      ]
    },
    {
      "cell_type": "markdown",
      "metadata": {
        "id": "XyHwtT-F5wuk"
      },
      "source": [
        "With the provided visualization you can now check if the docking program was able to recapitulate the binding pose observed in the X-ray structure. Also, you can check if the docking pose with the best score (`docking_pose_id = 1`) is closer to the X-ray structue then the docking pose with worst score (`docking_pose_id = 10`)."
      ]
    },
    {
      "cell_type": "markdown",
      "metadata": {
        "id": "oH2-OHCt5wul"
      },
      "source": [
        "## Discussion\n",
        "\n",
        "Using a combination of three free software tools ([OpenBabel](http://openbabel.org/wiki/Main_Page), [Smina](https://sourceforge.net/projects/smina/), [NGLView](http://nglviewer.org/nglview/latest/)), we were able to perform docking calculations and visualize the results.  \n",
        "However, we aimed for a comparably easy task: The reproduction of an experimentally observed binding mode. In this case, the binding pocket has the ideal protein conformations to harbor the ligand. Docking of other ligands can be more complicated, since they may prefer binding to a different protein conformation. Considering certain side chains as flexible may improve docking results in this situation, but will fail if the protein backbone is changing its conformation upon ligand binding.  \n",
        "Furthermore, the presented pipeline does not model any missing atoms or residues, which would hamper the docking calculation, if the binding pocket is affected. Here, molecular modeling tools like [PDBFixer](https://github.com/openmm/pdbfixer) could be used to add missing atoms."
      ]
    },
    {
      "cell_type": "markdown",
      "metadata": {
        "id": "-AAdyH2Y5wul"
      },
      "source": [
        "## Quiz\n",
        "\n",
        "- Try to increase the accuracy of the docking calculation via the exhaustiveness parameter. Do you see any improvement? What is the effect on the computational time needed?\n",
        "- Search the Protein Data Bank for another protein-ligand complex and try to reproduce it (re-docking).\n",
        "- Smina provides many more command line options ([documentation on sourceforge](https://sourceforge.net/projects/smina/files/)). Are you able to implement a function that will score the binding pose observed in the X-ray structure? Is the score better or worse than your best scored docking pose?"
      ]
    }
  ],
  "metadata": {
    "kernelspec": {
      "display_name": "Python 3 (ipykernel)",
      "language": "python",
      "name": "python3"
    },
    "language_info": {
      "codemirror_mode": {
        "name": "ipython",
        "version": 3
      },
      "file_extension": ".py",
      "mimetype": "text/x-python",
      "name": "python",
      "nbconvert_exporter": "python",
      "pygments_lexer": "ipython3",
      "version": "3.9.16"
    },
    "toc-autonumbering": true,
    "widgets": {
      "application/vnd.jupyter.widget-state+json": {
        "6a5d8b7c770943158b6e2ba5d60a7c4c": {
          "model_module": "nglview-js-widgets",
          "model_name": "NGLModel",
          "model_module_version": "3.0.6",
          "state": {
            "_camera_orientation": [],
            "_camera_str": "orthographic",
            "_dom_classes": [],
            "_gui_theme": null,
            "_ibtn_fullscreen": "IPY_MODEL_50a984c161fc4a5097a0ba363f59676a",
            "_igui": null,
            "_iplayer": "IPY_MODEL_f3f41c284edc414891b6867631c18f5a",
            "_model_module": "nglview-js-widgets",
            "_model_module_version": "3.0.6",
            "_model_name": "NGLModel",
            "_ngl_color_dict": {},
            "_ngl_coordinate_resource": {},
            "_ngl_full_stage_parameters": {},
            "_ngl_msg_archive": [
              {
                "target": "Stage",
                "type": "call_method",
                "methodName": "loadFile",
                "reconstruc_color_scheme": false,
                "args": [
                  {
                    "type": "blob",
                    "data": "\n OpenBabel09202410423D\n\n 33 36  0  0  0  0  0  0  0  0999 V2000\n  -49.5830    1.0200  -17.7310 C   0  0  0  0  0  0  0  0  0  0  0  0\n  -48.7800    0.5160  -18.7500 C   0  0  0  0  0  0  0  0  0  0  0  0\n  -49.2840    0.5160  -20.0530 C   0  0  0  0  0  3  0  0  0  0  0  0\n  -50.5520    1.0790  -20.3590 C   0  0  0  0  0  0  0  0  0  0  0  0\n  -51.3050    1.6590  -19.3310 C   0  0  0  0  0  0  0  0  0  0  0  0\n  -50.8130    1.6140  -18.0340 C   0  0  0  0  0  2  0  0  0  0  0  0\n  -52.4810    2.2520  -19.5350 N   0  0  0  0  0  0  0  0  0  0  0  0\n  -52.9300    2.2730  -20.7940 C   0  0  0  0  0  2  0  0  0  0  0  0\n  -52.3130    1.7480  -21.8550 N   0  0  0  0  0  0  0  0  0  0  0  0\n  -51.1370    1.1320  -21.6410 C   0  0  0  0  0  0  0  0  0  0  0  0\n  -50.4750    0.5260  -22.7340 N   0  0  0  0  0  0  0  0  0  0  0  0\n  -50.1080   -0.3870  -22.4970 H   0  0  0  0  0  0  0  0  0  0  0  0\n  -50.6220    0.7430  -24.1170 C   0  0  0  0  0  0  0  0  0  0  0  0\n  -50.9990   -0.3320  -24.9390 C   0  0  0  0  0  3  0  0  0  0  0  0\n  -51.1370   -0.1660  -26.3200 C   0  0  0  0  0  0  0  0  0  0  0  0\n  -50.8860    1.0740  -26.8970 C   0  0  0  0  0  0  0  0  0  0  0  0\n  -50.4950    2.1470  -26.1080 C   0  0  0  0  0  3  0  0  0  0  0  0\n  -50.3590    1.9780  -24.7260 C   0  0  0  0  0  3  0  0  0  0  0  0\n  -51.0090    1.2550  -28.2200 F   0  0  0  0  0  0  0  0  0  0  0  0\n  -51.6130   -1.5080  -27.2870 Cl  0  0  0  0  0  0  0  0  0  0  0  0\n  -50.1350    1.7200  -15.6190 C   0  0  0  0  0  1  0  0  0  0  0  0\n  -49.1880    0.9980  -16.4190 O   0  0  0  0  0  0  0  0  0  0  0  0\n  -47.5290   -0.0200  -18.6320 O   0  0  0  0  0  0  0  0  0  0  0  0\n  -47.2920   -0.9720  -17.5910 C   0  0  0  0  0  2  0  0  0  0  0  0\n  -47.9590   -2.3160  -17.8780 C   0  0  0  0  0  2  0  0  0  0  0  0\n  -47.4040   -3.0560  -19.0900 C   0  0  0  0  0  2  0  0  0  0  0  0\n  -47.9880   -2.6690  -20.4280 N   0  0  0  0  0  4  0  0  0  0  0  0\n  -46.9720   -2.3120  -21.5140 C   0  0  0  0  0  2  0  0  0  0  0  0\n  -47.7140   -1.7220  -22.7210 C   0  0  0  0  0  2  0  0  0  0  0  0\n  -48.7010   -2.6340  -23.2150 O   0  0  0  0  0  0  0  0  0  0  0  0\n  -49.6860   -2.9580  -22.2270 C   0  0  0  0  0  2  0  0  0  0  0  0\n  -49.0390   -3.6100  -20.9970 C   0  0  0  0  0  2  0  0  0  0  0  0\n  -48.4940   -1.7930  -20.2380 H   0  0  0  0  0  0  0  0  0  0  0  0\n  1 22  1  0  0  0  0\n  2 23  1  0  0  0  0\n  2  1  2  0  0  0  0\n  3  2  1  0  0  0  0\n  4  3  2  0  0  0  0\n  4  5  1  0  0  0  0\n  5  6  1  0  0  0  0\n  6  1  1  0  0  0  0\n  7  5  2  0  0  0  0\n  8  7  1  0  0  0  0\n  9 10  2  0  0  0  0\n  9  8  1  0  0  0  0\n 10  4  1  0  0  0  0\n 11 12  1  0  0  0  0\n 11 10  1  0  0  0  0\n 13 11  1  0  0  0  0\n 14 13  2  0  0  0  0\n 15 14  1  0  0  0  0\n 16 15  2  0  0  0  0\n 16 17  1  0  0  0  0\n 17 18  2  0  0  0  0\n 18 13  1  0  0  0  0\n 19 16  1  0  0  0  0\n 20 15  1  0  0  0  0\n 22 21  1  0  0  0  0\n 23 24  1  0  0  0  0\n 25 24  1  0  0  0  0\n 26 25  1  0  0  0  0\n 27 33  1  0  0  0  0\n 27 26  1  0  0  0  0\n 28 27  1  0  0  0  0\n 29 28  1  0  0  0  0\n 30 29  1  0  0  0  0\n 30 31  1  0  0  0  0\n 31 32  1  0  0  0  0\n 32 27  1  0  0  0  0\nM  END\n>  <minimizedAffinity>\n-8.42509556\n\n$$$$\n",
                    "binary": false
                  }
                ],
                "kwargs": {
                  "defaultRepresentation": false,
                  "ext": "sdf"
                }
              },
              {
                "component_index": 0,
                "target": "compList",
                "type": "call_method",
                "methodName": "removeAllRepresentations",
                "reconstruc_color_scheme": false,
                "args": [],
                "kwargs": {}
              },
              {
                "component_index": 0,
                "target": "compList",
                "type": "call_method",
                "methodName": "addRepresentation",
                "reconstruc_color_scheme": false,
                "args": [
                  "licorice"
                ],
                "kwargs": {}
              },
              {
                "target": "Stage",
                "type": "call_method",
                "methodName": "loadFile",
                "reconstruc_color_scheme": false,
                "args": [
                  {
                    "type": "url",
                    "data": "rcsb://2ito.pdb",
                    "binary": false
                  }
                ],
                "kwargs": {
                  "defaultRepresentation": true
                }
              }
            ],
            "_ngl_original_stage_parameters": {},
            "_ngl_repr_dict": {},
            "_ngl_serialize": false,
            "_ngl_version": "",
            "_ngl_view_id": [],
            "_player_dict": {},
            "_scene_position": {},
            "_scene_rotation": {},
            "_synced_model_ids": [],
            "_synced_repr_model_ids": [],
            "_view_count": null,
            "_view_height": "",
            "_view_module": "nglview-js-widgets",
            "_view_module_version": "3.0.6",
            "_view_name": "NGLView",
            "_view_width": "",
            "background": "white",
            "frame": 0,
            "gui_style": null,
            "layout": "IPY_MODEL_e9b002cd71a849bdafdc48efb207b34c",
            "max_frame": 0,
            "n_components": 0,
            "picked": {}
          }
        },
        "42ccc95c7a034b91bc163ed926871441": {
          "model_module": "@jupyter-widgets/controls",
          "model_name": "PlayModel",
          "model_module_version": "1.5.0",
          "state": {
            "_dom_classes": [],
            "_model_module": "@jupyter-widgets/controls",
            "_model_module_version": "1.5.0",
            "_model_name": "PlayModel",
            "_playing": false,
            "_repeat": false,
            "_view_count": null,
            "_view_module": "@jupyter-widgets/controls",
            "_view_module_version": "1.5.0",
            "_view_name": "PlayView",
            "description": "",
            "description_tooltip": null,
            "disabled": false,
            "interval": 100,
            "layout": "IPY_MODEL_31ab5a1d75934d7da4a9ff9c8c0151fd",
            "max": 0,
            "min": 0,
            "show_repeat": true,
            "step": 1,
            "style": "IPY_MODEL_8d2080b6cbb44100b7d110de8ed353e4",
            "value": 0
          }
        },
        "012106bc05084502890b2abf5eed7b2e": {
          "model_module": "@jupyter-widgets/controls",
          "model_name": "IntSliderModel",
          "model_module_version": "1.5.0",
          "state": {
            "_dom_classes": [],
            "_model_module": "@jupyter-widgets/controls",
            "_model_module_version": "1.5.0",
            "_model_name": "IntSliderModel",
            "_view_count": null,
            "_view_module": "@jupyter-widgets/controls",
            "_view_module_version": "1.5.0",
            "_view_name": "IntSliderView",
            "continuous_update": true,
            "description": "",
            "description_tooltip": null,
            "disabled": false,
            "layout": "IPY_MODEL_07d1a2d6f208424f91d019ffc7f2050a",
            "max": 0,
            "min": 0,
            "orientation": "horizontal",
            "readout": true,
            "readout_format": "d",
            "step": 1,
            "style": "IPY_MODEL_7ca6cfbb2a8a409c8b830e93c5feedb3",
            "value": 0
          }
        },
        "31ab5a1d75934d7da4a9ff9c8c0151fd": {
          "model_module": "@jupyter-widgets/base",
          "model_name": "LayoutModel",
          "model_module_version": "1.2.0",
          "state": {
            "_model_module": "@jupyter-widgets/base",
            "_model_module_version": "1.2.0",
            "_model_name": "LayoutModel",
            "_view_count": null,
            "_view_module": "@jupyter-widgets/base",
            "_view_module_version": "1.2.0",
            "_view_name": "LayoutView",
            "align_content": null,
            "align_items": null,
            "align_self": null,
            "border": null,
            "bottom": null,
            "display": null,
            "flex": null,
            "flex_flow": null,
            "grid_area": null,
            "grid_auto_columns": null,
            "grid_auto_flow": null,
            "grid_auto_rows": null,
            "grid_column": null,
            "grid_gap": null,
            "grid_row": null,
            "grid_template_areas": null,
            "grid_template_columns": null,
            "grid_template_rows": null,
            "height": null,
            "justify_content": null,
            "justify_items": null,
            "left": null,
            "margin": null,
            "max_height": null,
            "max_width": null,
            "min_height": null,
            "min_width": null,
            "object_fit": null,
            "object_position": null,
            "order": null,
            "overflow": null,
            "overflow_x": null,
            "overflow_y": null,
            "padding": null,
            "right": null,
            "top": null,
            "visibility": null,
            "width": null
          }
        },
        "8d2080b6cbb44100b7d110de8ed353e4": {
          "model_module": "@jupyter-widgets/controls",
          "model_name": "DescriptionStyleModel",
          "model_module_version": "1.5.0",
          "state": {
            "_model_module": "@jupyter-widgets/controls",
            "_model_module_version": "1.5.0",
            "_model_name": "DescriptionStyleModel",
            "_view_count": null,
            "_view_module": "@jupyter-widgets/base",
            "_view_module_version": "1.2.0",
            "_view_name": "StyleView",
            "description_width": ""
          }
        },
        "07d1a2d6f208424f91d019ffc7f2050a": {
          "model_module": "@jupyter-widgets/base",
          "model_name": "LayoutModel",
          "model_module_version": "1.2.0",
          "state": {
            "_model_module": "@jupyter-widgets/base",
            "_model_module_version": "1.2.0",
            "_model_name": "LayoutModel",
            "_view_count": null,
            "_view_module": "@jupyter-widgets/base",
            "_view_module_version": "1.2.0",
            "_view_name": "LayoutView",
            "align_content": null,
            "align_items": null,
            "align_self": null,
            "border": null,
            "bottom": null,
            "display": null,
            "flex": null,
            "flex_flow": null,
            "grid_area": null,
            "grid_auto_columns": null,
            "grid_auto_flow": null,
            "grid_auto_rows": null,
            "grid_column": null,
            "grid_gap": null,
            "grid_row": null,
            "grid_template_areas": null,
            "grid_template_columns": null,
            "grid_template_rows": null,
            "height": null,
            "justify_content": null,
            "justify_items": null,
            "left": null,
            "margin": null,
            "max_height": null,
            "max_width": null,
            "min_height": null,
            "min_width": null,
            "object_fit": null,
            "object_position": null,
            "order": null,
            "overflow": null,
            "overflow_x": null,
            "overflow_y": null,
            "padding": null,
            "right": null,
            "top": null,
            "visibility": null,
            "width": null
          }
        },
        "7ca6cfbb2a8a409c8b830e93c5feedb3": {
          "model_module": "@jupyter-widgets/controls",
          "model_name": "SliderStyleModel",
          "model_module_version": "1.5.0",
          "state": {
            "_model_module": "@jupyter-widgets/controls",
            "_model_module_version": "1.5.0",
            "_model_name": "SliderStyleModel",
            "_view_count": null,
            "_view_module": "@jupyter-widgets/base",
            "_view_module_version": "1.2.0",
            "_view_name": "StyleView",
            "description_width": "",
            "handle_color": null
          }
        }
      }
    },
    "colab": {
      "provenance": [],
      "include_colab_link": true
    }
  },
  "nbformat": 4,
  "nbformat_minor": 0
}