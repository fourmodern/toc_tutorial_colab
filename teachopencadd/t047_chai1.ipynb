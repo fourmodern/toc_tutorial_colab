{
  "nbformat": 4,
  "nbformat_minor": 0,
  "metadata": {
    "colab": {
      "provenance": [],
      "machine_shape": "hm",
      "gpuType": "T4",
      "authorship_tag": "ABX9TyOpY/tw1ddKz6VCOwu/SRoJ",
      "include_colab_link": true
    },
    "kernelspec": {
      "name": "python3",
      "display_name": "Python 3"
    },
    "language_info": {
      "name": "python"
    },
    "accelerator": "GPU"
  },
  "cells": [
    {
      "cell_type": "markdown",
      "metadata": {
        "id": "view-in-github",
        "colab_type": "text"
      },
      "source": [
        "<a href=\"https://colab.research.google.com/github/fourmodern/toc_tutorial_colab/blob/main/teachopencadd/t047_chai1.ipynb\" target=\"_parent\"><img src=\"https://colab.research.google.com/assets/colab-badge.svg\" alt=\"Open In Colab\"/></a>"
      ]
    },
    {
      "cell_type": "code",
      "execution_count": 1,
      "metadata": {
        "colab": {
          "base_uri": "https://localhost:8080/"
        },
        "id": "c1Yr6laiDOn6",
        "outputId": "a1dc7847-7a90-4f33-98b7-86094cf6ac57"
      },
      "outputs": [
        {
          "output_type": "stream",
          "name": "stdout",
          "text": [
            "Cloning into 'chai-lab'...\n",
            "remote: Enumerating objects: 1136, done.\u001b[K\n",
            "remote: Counting objects: 100% (843/843), done.\u001b[K\n",
            "remote: Compressing objects: 100% (572/572), done.\u001b[K\n",
            "remote: Total 1136 (delta 590), reused 330 (delta 270), pack-reused 293 (from 1)\u001b[K\n",
            "Receiving objects: 100% (1136/1136), 19.65 MiB | 14.39 MiB/s, done.\n",
            "Resolving deltas: 100% (678/678), done.\n",
            "/content/chai-lab\n",
            "Updated 'torch' version in requirements.in to 'torch~=2.5.1' successfully.\n"
          ]
        }
      ],
      "source": [
        "# Step 1: Clone the Repository and Install Dependencies\n",
        "!git clone https://github.com/chaidiscovery/chai-lab.git\n",
        "%cd chai-lab\n",
        "# Update the torch version in the requirements.in file\n",
        "file_path = \"requirements.in\"\n",
        "\n",
        "try:\n",
        "    with open(file_path, \"r\") as file:\n",
        "        lines = file.readlines()\n",
        "\n",
        "    # Replace torch version\n",
        "    updated_lines = [\n",
        "        line.replace(\"torch~=2.3.1\", \"torch~=2.5.1\") if \"torch~=\" in line else line\n",
        "        for line in lines\n",
        "    ]\n",
        "\n",
        "    # Write updated lines back to the file\n",
        "    with open(file_path, \"w\") as file:\n",
        "        file.writelines(updated_lines)\n",
        "\n",
        "    print(f\"Updated 'torch' version in {file_path} to 'torch~=2.5.1' successfully.\")\n",
        "\n",
        "except FileNotFoundError:\n",
        "    print(f\"The file {file_path} was not found.\")\n",
        "except Exception as e:\n",
        "    print(f\"An error occurred: {e}\")"
      ]
    },
    {
      "cell_type": "code",
      "source": [
        "# CHAI-1 설치\n",
        "%cd chai-lab\n",
        "!pip install -e ."
      ],
      "metadata": {
        "colab": {
          "base_uri": "https://localhost:8080/"
        },
        "id": "9LBPG5NIYeUE",
        "outputId": "447cf7b4-22c7-4677-8efd-2b265864e228"
      },
      "execution_count": 18,
      "outputs": [
        {
          "output_type": "stream",
          "name": "stdout",
          "text": [
            "/content/chai-lab\n",
            "Obtaining file:///content/chai-lab\n",
            "  Installing build dependencies ... \u001b[?25l\u001b[?25hdone\n",
            "  Checking if build backend supports build_editable ... \u001b[?25l\u001b[?25hdone\n",
            "  Getting requirements to build editable ... \u001b[?25l\u001b[?25hdone\n",
            "  Installing backend dependencies ... \u001b[?25l\u001b[?25hdone\n",
            "  Preparing editable metadata (pyproject.toml) ... \u001b[?25l\u001b[?25hdone\n",
            "Requirement already satisfied: antipickle==0.2.0 in /usr/local/lib/python3.10/dist-packages (from chai_lab==0.5.1) (0.2.0)\n",
            "Requirement already satisfied: beartype>=0.18 in /usr/local/lib/python3.10/dist-packages (from chai_lab==0.5.1) (0.19.0)\n",
            "Requirement already satisfied: biopython>=1.83 in /usr/local/lib/python3.10/dist-packages (from chai_lab==0.5.1) (1.84)\n",
            "Requirement already satisfied: einops~=0.8 in /usr/local/lib/python3.10/dist-packages (from chai_lab==0.5.1) (0.8.0)\n",
            "Requirement already satisfied: gemmi~=0.6.3 in /usr/local/lib/python3.10/dist-packages (from chai_lab==0.5.1) (0.6.7)\n",
            "Requirement already satisfied: ipykernel~=6.27 in /usr/local/lib/python3.10/dist-packages (from chai_lab==0.5.1) (6.29.5)\n",
            "Requirement already satisfied: jaxtyping>=0.2.25 in /usr/local/lib/python3.10/dist-packages (from chai_lab==0.5.1) (0.2.36)\n",
            "Requirement already satisfied: matplotlib in /usr/local/lib/python3.10/dist-packages (from chai_lab==0.5.1) (3.8.0)\n",
            "Requirement already satisfied: modelcif>=1.0 in /usr/local/lib/python3.10/dist-packages (from chai_lab==0.5.1) (1.2)\n",
            "Requirement already satisfied: mypy in /usr/local/lib/python3.10/dist-packages (from chai_lab==0.5.1) (1.13.0)\n",
            "Requirement already satisfied: numba>=0.59 in /usr/local/lib/python3.10/dist-packages (from chai_lab==0.5.1) (0.60.0)\n",
            "Requirement already satisfied: numpy~=1.21 in /usr/local/lib/python3.10/dist-packages (from chai_lab==0.5.1) (1.26.4)\n",
            "Requirement already satisfied: pandas-stubs in /usr/local/lib/python3.10/dist-packages (from chai_lab==0.5.1) (2.2.2.240909)\n",
            "Requirement already satisfied: pandas~=2.1 in /usr/local/lib/python3.10/dist-packages (from pandas[aws,gcp,parquet]~=2.1->chai_lab==0.5.1) (2.2.2)\n",
            "Requirement already satisfied: pandera in /usr/local/lib/python3.10/dist-packages (from chai_lab==0.5.1) (0.21.1)\n",
            "Requirement already satisfied: pre-commit in /usr/local/lib/python3.10/dist-packages (from chai_lab==0.5.1) (4.0.1)\n",
            "Requirement already satisfied: pytest in /usr/local/lib/python3.10/dist-packages (from chai_lab==0.5.1) (8.3.4)\n",
            "Requirement already satisfied: rdkit==2023.9.5 in /usr/local/lib/python3.10/dist-packages (from chai_lab==0.5.1) (2023.9.5)\n",
            "Requirement already satisfied: ruff==0.6.3 in /usr/local/lib/python3.10/dist-packages (from chai_lab==0.5.1) (0.6.3)\n",
            "Requirement already satisfied: tmtools>=0.0.3 in /usr/local/lib/python3.10/dist-packages (from chai_lab==0.5.1) (0.2.0)\n",
            "Requirement already satisfied: torch~=2.5.1 in /usr/local/lib/python3.10/dist-packages (from chai_lab==0.5.1) (2.5.1+cu121)\n",
            "Requirement already satisfied: tqdm~=4.66 in /usr/local/lib/python3.10/dist-packages (from chai_lab==0.5.1) (4.66.6)\n",
            "Requirement already satisfied: transformers~=4.44 in /usr/local/lib/python3.10/dist-packages (from chai_lab==0.5.1) (4.46.3)\n",
            "Requirement already satisfied: typer~=0.12 in /usr/local/lib/python3.10/dist-packages (from chai_lab==0.5.1) (0.15.1)\n",
            "Requirement already satisfied: types-pyyaml in /usr/local/lib/python3.10/dist-packages (from chai_lab==0.5.1) (6.0.12.20240917)\n",
            "Requirement already satisfied: types-requests in /usr/local/lib/python3.10/dist-packages (from chai_lab==0.5.1) (2.32.0.20241016)\n",
            "Requirement already satisfied: types-tqdm in /usr/local/lib/python3.10/dist-packages (from chai_lab==0.5.1) (4.67.0.20241119)\n",
            "Requirement already satisfied: typing-extensions in /usr/local/lib/python3.10/dist-packages (from chai_lab==0.5.1) (4.12.2)\n",
            "Requirement already satisfied: msgpack>=1.0.4 in /usr/local/lib/python3.10/dist-packages (from antipickle==0.2.0->chai_lab==0.5.1) (1.1.0)\n",
            "Requirement already satisfied: Pillow in /usr/local/lib/python3.10/dist-packages (from rdkit==2023.9.5->chai_lab==0.5.1) (11.0.0)\n",
            "Requirement already satisfied: comm>=0.1.1 in /usr/local/lib/python3.10/dist-packages (from ipykernel~=6.27->chai_lab==0.5.1) (0.2.2)\n",
            "Requirement already satisfied: debugpy>=1.6.5 in /usr/local/lib/python3.10/dist-packages (from ipykernel~=6.27->chai_lab==0.5.1) (1.8.0)\n",
            "Requirement already satisfied: ipython>=7.23.1 in /usr/local/lib/python3.10/dist-packages (from ipykernel~=6.27->chai_lab==0.5.1) (7.34.0)\n",
            "Requirement already satisfied: jupyter-client>=6.1.12 in /usr/local/lib/python3.10/dist-packages (from ipykernel~=6.27->chai_lab==0.5.1) (6.1.12)\n",
            "Requirement already satisfied: jupyter-core!=5.0.*,>=4.12 in /usr/local/lib/python3.10/dist-packages (from ipykernel~=6.27->chai_lab==0.5.1) (5.7.2)\n",
            "Requirement already satisfied: matplotlib-inline>=0.1 in /usr/local/lib/python3.10/dist-packages (from ipykernel~=6.27->chai_lab==0.5.1) (0.1.7)\n",
            "Requirement already satisfied: nest-asyncio in /usr/local/lib/python3.10/dist-packages (from ipykernel~=6.27->chai_lab==0.5.1) (1.6.0)\n",
            "Requirement already satisfied: packaging in /usr/local/lib/python3.10/dist-packages (from ipykernel~=6.27->chai_lab==0.5.1) (24.2)\n",
            "Requirement already satisfied: psutil in /usr/local/lib/python3.10/dist-packages (from ipykernel~=6.27->chai_lab==0.5.1) (5.9.5)\n",
            "Requirement already satisfied: pyzmq>=24 in /usr/local/lib/python3.10/dist-packages (from ipykernel~=6.27->chai_lab==0.5.1) (24.0.1)\n",
            "Requirement already satisfied: tornado>=6.1 in /usr/local/lib/python3.10/dist-packages (from ipykernel~=6.27->chai_lab==0.5.1) (6.3.3)\n",
            "Requirement already satisfied: traitlets>=5.4.0 in /usr/local/lib/python3.10/dist-packages (from ipykernel~=6.27->chai_lab==0.5.1) (5.7.1)\n",
            "Requirement already satisfied: ihm>=1.7 in /usr/local/lib/python3.10/dist-packages (from modelcif>=1.0->chai_lab==0.5.1) (1.8)\n",
            "Requirement already satisfied: llvmlite<0.44,>=0.43.0dev0 in /usr/local/lib/python3.10/dist-packages (from numba>=0.59->chai_lab==0.5.1) (0.43.0)\n",
            "Requirement already satisfied: python-dateutil>=2.8.2 in /usr/local/lib/python3.10/dist-packages (from pandas~=2.1->pandas[aws,gcp,parquet]~=2.1->chai_lab==0.5.1) (2.8.2)\n",
            "Requirement already satisfied: pytz>=2020.1 in /usr/local/lib/python3.10/dist-packages (from pandas~=2.1->pandas[aws,gcp,parquet]~=2.1->chai_lab==0.5.1) (2024.2)\n",
            "Requirement already satisfied: tzdata>=2022.7 in /usr/local/lib/python3.10/dist-packages (from pandas~=2.1->pandas[aws,gcp,parquet]~=2.1->chai_lab==0.5.1) (2024.2)\n",
            "Requirement already satisfied: pyarrow>=10.0.1 in /usr/local/lib/python3.10/dist-packages (from pandas[aws,gcp,parquet]~=2.1->chai_lab==0.5.1) (17.0.0)\n",
            "Requirement already satisfied: s3fs>=2022.11.0 in /usr/local/lib/python3.10/dist-packages (from pandas[aws,gcp,parquet]~=2.1->chai_lab==0.5.1) (2024.10.0)\n",
            "Requirement already satisfied: gcsfs>=2022.11.0 in /usr/local/lib/python3.10/dist-packages (from pandas[aws,gcp,parquet]~=2.1->chai_lab==0.5.1) (2024.10.0)\n",
            "Requirement already satisfied: pandas-gbq>=0.19.0 in /usr/local/lib/python3.10/dist-packages (from pandas[aws,gcp,parquet]~=2.1->chai_lab==0.5.1) (0.24.0)\n",
            "Requirement already satisfied: filelock in /usr/local/lib/python3.10/dist-packages (from torch~=2.5.1->chai_lab==0.5.1) (3.16.1)\n",
            "Requirement already satisfied: networkx in /usr/local/lib/python3.10/dist-packages (from torch~=2.5.1->chai_lab==0.5.1) (3.4.2)\n",
            "Requirement already satisfied: jinja2 in /usr/local/lib/python3.10/dist-packages (from torch~=2.5.1->chai_lab==0.5.1) (3.1.4)\n",
            "Requirement already satisfied: fsspec in /usr/local/lib/python3.10/dist-packages (from torch~=2.5.1->chai_lab==0.5.1) (2024.10.0)\n",
            "Requirement already satisfied: sympy==1.13.1 in /usr/local/lib/python3.10/dist-packages (from torch~=2.5.1->chai_lab==0.5.1) (1.13.1)\n",
            "Requirement already satisfied: mpmath<1.4,>=1.1.0 in /usr/local/lib/python3.10/dist-packages (from sympy==1.13.1->torch~=2.5.1->chai_lab==0.5.1) (1.3.0)\n",
            "Requirement already satisfied: huggingface-hub<1.0,>=0.23.2 in /usr/local/lib/python3.10/dist-packages (from transformers~=4.44->chai_lab==0.5.1) (0.26.5)\n",
            "Requirement already satisfied: pyyaml>=5.1 in /usr/local/lib/python3.10/dist-packages (from transformers~=4.44->chai_lab==0.5.1) (6.0.2)\n",
            "Requirement already satisfied: regex!=2019.12.17 in /usr/local/lib/python3.10/dist-packages (from transformers~=4.44->chai_lab==0.5.1) (2024.9.11)\n",
            "Requirement already satisfied: requests in /usr/local/lib/python3.10/dist-packages (from transformers~=4.44->chai_lab==0.5.1) (2.32.3)\n",
            "Requirement already satisfied: tokenizers<0.21,>=0.20 in /usr/local/lib/python3.10/dist-packages (from transformers~=4.44->chai_lab==0.5.1) (0.20.3)\n",
            "Requirement already satisfied: safetensors>=0.4.1 in /usr/local/lib/python3.10/dist-packages (from transformers~=4.44->chai_lab==0.5.1) (0.4.5)\n",
            "Requirement already satisfied: click>=8.0.0 in /usr/local/lib/python3.10/dist-packages (from typer~=0.12->chai_lab==0.5.1) (8.1.7)\n",
            "Requirement already satisfied: shellingham>=1.3.0 in /usr/local/lib/python3.10/dist-packages (from typer~=0.12->chai_lab==0.5.1) (1.5.4)\n",
            "Requirement already satisfied: rich>=10.11.0 in /usr/local/lib/python3.10/dist-packages (from typer~=0.12->chai_lab==0.5.1) (13.9.4)\n",
            "Requirement already satisfied: contourpy>=1.0.1 in /usr/local/lib/python3.10/dist-packages (from matplotlib->chai_lab==0.5.1) (1.3.1)\n",
            "Requirement already satisfied: cycler>=0.10 in /usr/local/lib/python3.10/dist-packages (from matplotlib->chai_lab==0.5.1) (0.12.1)\n",
            "Requirement already satisfied: fonttools>=4.22.0 in /usr/local/lib/python3.10/dist-packages (from matplotlib->chai_lab==0.5.1) (4.55.3)\n",
            "Requirement already satisfied: kiwisolver>=1.0.1 in /usr/local/lib/python3.10/dist-packages (from matplotlib->chai_lab==0.5.1) (1.4.7)\n",
            "Requirement already satisfied: pyparsing>=2.3.1 in /usr/local/lib/python3.10/dist-packages (from matplotlib->chai_lab==0.5.1) (3.2.0)\n",
            "Requirement already satisfied: mypy-extensions>=1.0.0 in /usr/local/lib/python3.10/dist-packages (from mypy->chai_lab==0.5.1) (1.0.0)\n",
            "Requirement already satisfied: tomli>=1.1.0 in /usr/local/lib/python3.10/dist-packages (from mypy->chai_lab==0.5.1) (2.2.1)\n",
            "Requirement already satisfied: types-pytz>=2022.1.1 in /usr/local/lib/python3.10/dist-packages (from pandas-stubs->chai_lab==0.5.1) (2024.2.0.20241003)\n",
            "Requirement already satisfied: multimethod in /usr/local/lib/python3.10/dist-packages (from pandera->chai_lab==0.5.1) (1.12)\n",
            "Requirement already satisfied: pydantic in /usr/local/lib/python3.10/dist-packages (from pandera->chai_lab==0.5.1) (2.10.3)\n",
            "Requirement already satisfied: typeguard in /usr/local/lib/python3.10/dist-packages (from pandera->chai_lab==0.5.1) (4.4.1)\n",
            "Requirement already satisfied: typing_inspect>=0.6.0 in /usr/local/lib/python3.10/dist-packages (from pandera->chai_lab==0.5.1) (0.9.0)\n",
            "Requirement already satisfied: wrapt in /usr/local/lib/python3.10/dist-packages (from pandera->chai_lab==0.5.1) (1.17.0)\n",
            "Requirement already satisfied: cfgv>=2.0.0 in /usr/local/lib/python3.10/dist-packages (from pre-commit->chai_lab==0.5.1) (3.4.0)\n",
            "Requirement already satisfied: identify>=1.0.0 in /usr/local/lib/python3.10/dist-packages (from pre-commit->chai_lab==0.5.1) (2.6.3)\n",
            "Requirement already satisfied: nodeenv>=0.11.1 in /usr/local/lib/python3.10/dist-packages (from pre-commit->chai_lab==0.5.1) (1.9.1)\n",
            "Requirement already satisfied: virtualenv>=20.10.0 in /usr/local/lib/python3.10/dist-packages (from pre-commit->chai_lab==0.5.1) (20.28.0)\n",
            "Requirement already satisfied: exceptiongroup>=1.0.0rc8 in /usr/local/lib/python3.10/dist-packages (from pytest->chai_lab==0.5.1) (1.2.2)\n",
            "Requirement already satisfied: iniconfig in /usr/local/lib/python3.10/dist-packages (from pytest->chai_lab==0.5.1) (2.0.0)\n",
            "Requirement already satisfied: pluggy<2,>=1.5 in /usr/local/lib/python3.10/dist-packages (from pytest->chai_lab==0.5.1) (1.5.0)\n",
            "Requirement already satisfied: urllib3>=2 in /usr/local/lib/python3.10/dist-packages (from types-requests->chai_lab==0.5.1) (2.2.3)\n",
            "Requirement already satisfied: aiohttp!=4.0.0a0,!=4.0.0a1 in /usr/local/lib/python3.10/dist-packages (from gcsfs>=2022.11.0->pandas[aws,gcp,parquet]~=2.1->chai_lab==0.5.1) (3.11.10)\n",
            "Requirement already satisfied: decorator>4.1.2 in /usr/local/lib/python3.10/dist-packages (from gcsfs>=2022.11.0->pandas[aws,gcp,parquet]~=2.1->chai_lab==0.5.1) (4.4.2)\n",
            "Requirement already satisfied: google-auth>=1.2 in /usr/local/lib/python3.10/dist-packages (from gcsfs>=2022.11.0->pandas[aws,gcp,parquet]~=2.1->chai_lab==0.5.1) (2.27.0)\n",
            "Requirement already satisfied: google-auth-oauthlib in /usr/local/lib/python3.10/dist-packages (from gcsfs>=2022.11.0->pandas[aws,gcp,parquet]~=2.1->chai_lab==0.5.1) (1.2.1)\n",
            "Requirement already satisfied: google-cloud-storage in /usr/local/lib/python3.10/dist-packages (from gcsfs>=2022.11.0->pandas[aws,gcp,parquet]~=2.1->chai_lab==0.5.1) (2.8.0)\n",
            "Requirement already satisfied: setuptools>=18.5 in /usr/local/lib/python3.10/dist-packages (from ipython>=7.23.1->ipykernel~=6.27->chai_lab==0.5.1) (75.1.0)\n",
            "Requirement already satisfied: jedi>=0.16 in /usr/local/lib/python3.10/dist-packages (from ipython>=7.23.1->ipykernel~=6.27->chai_lab==0.5.1) (0.19.2)\n",
            "Requirement already satisfied: pickleshare in /usr/local/lib/python3.10/dist-packages (from ipython>=7.23.1->ipykernel~=6.27->chai_lab==0.5.1) (0.7.5)\n",
            "Requirement already satisfied: prompt-toolkit!=3.0.0,!=3.0.1,<3.1.0,>=2.0.0 in /usr/local/lib/python3.10/dist-packages (from ipython>=7.23.1->ipykernel~=6.27->chai_lab==0.5.1) (3.0.48)\n",
            "Requirement already satisfied: pygments in /usr/local/lib/python3.10/dist-packages (from ipython>=7.23.1->ipykernel~=6.27->chai_lab==0.5.1) (2.18.0)\n",
            "Requirement already satisfied: backcall in /usr/local/lib/python3.10/dist-packages (from ipython>=7.23.1->ipykernel~=6.27->chai_lab==0.5.1) (0.2.0)\n",
            "Requirement already satisfied: pexpect>4.3 in /usr/local/lib/python3.10/dist-packages (from ipython>=7.23.1->ipykernel~=6.27->chai_lab==0.5.1) (4.9.0)\n",
            "Requirement already satisfied: platformdirs>=2.5 in /usr/local/lib/python3.10/dist-packages (from jupyter-core!=5.0.*,>=4.12->ipykernel~=6.27->chai_lab==0.5.1) (4.3.6)\n",
            "Requirement already satisfied: db-dtypes<2.0.0,>=1.0.4 in /usr/local/lib/python3.10/dist-packages (from pandas-gbq>=0.19.0->pandas[aws,gcp,parquet]~=2.1->chai_lab==0.5.1) (1.3.1)\n",
            "Requirement already satisfied: pydata-google-auth>=1.5.0 in /usr/local/lib/python3.10/dist-packages (from pandas-gbq>=0.19.0->pandas[aws,gcp,parquet]~=2.1->chai_lab==0.5.1) (1.9.0)\n",
            "Requirement already satisfied: google-api-core<3.0.0dev,>=2.10.2 in /usr/local/lib/python3.10/dist-packages (from pandas-gbq>=0.19.0->pandas[aws,gcp,parquet]~=2.1->chai_lab==0.5.1) (2.19.2)\n",
            "Requirement already satisfied: google-cloud-bigquery<4.0.0dev,>=3.4.2 in /usr/local/lib/python3.10/dist-packages (from pandas-gbq>=0.19.0->pandas[aws,gcp,parquet]~=2.1->chai_lab==0.5.1) (3.25.0)\n",
            "Requirement already satisfied: six>=1.5 in /usr/local/lib/python3.10/dist-packages (from python-dateutil>=2.8.2->pandas~=2.1->pandas[aws,gcp,parquet]~=2.1->chai_lab==0.5.1) (1.17.0)\n",
            "Requirement already satisfied: markdown-it-py>=2.2.0 in /usr/local/lib/python3.10/dist-packages (from rich>=10.11.0->typer~=0.12->chai_lab==0.5.1) (3.0.0)\n",
            "Requirement already satisfied: aiobotocore<3.0.0,>=2.5.4 in /usr/local/lib/python3.10/dist-packages (from s3fs>=2022.11.0->pandas[aws,gcp,parquet]~=2.1->chai_lab==0.5.1) (2.15.2)\n",
            "Requirement already satisfied: distlib<1,>=0.3.7 in /usr/local/lib/python3.10/dist-packages (from virtualenv>=20.10.0->pre-commit->chai_lab==0.5.1) (0.3.9)\n",
            "Requirement already satisfied: MarkupSafe>=2.0 in /usr/local/lib/python3.10/dist-packages (from jinja2->torch~=2.5.1->chai_lab==0.5.1) (3.0.2)\n",
            "Requirement already satisfied: annotated-types>=0.6.0 in /usr/local/lib/python3.10/dist-packages (from pydantic->pandera->chai_lab==0.5.1) (0.7.0)\n",
            "Requirement already satisfied: pydantic-core==2.27.1 in /usr/local/lib/python3.10/dist-packages (from pydantic->pandera->chai_lab==0.5.1) (2.27.1)\n",
            "Requirement already satisfied: charset-normalizer<4,>=2 in /usr/local/lib/python3.10/dist-packages (from requests->transformers~=4.44->chai_lab==0.5.1) (3.4.0)\n",
            "Requirement already satisfied: idna<4,>=2.5 in /usr/local/lib/python3.10/dist-packages (from requests->transformers~=4.44->chai_lab==0.5.1) (3.10)\n",
            "Requirement already satisfied: certifi>=2017.4.17 in /usr/local/lib/python3.10/dist-packages (from requests->transformers~=4.44->chai_lab==0.5.1) (2024.8.30)\n",
            "Requirement already satisfied: botocore<1.35.37,>=1.35.16 in /usr/local/lib/python3.10/dist-packages (from aiobotocore<3.0.0,>=2.5.4->s3fs>=2022.11.0->pandas[aws,gcp,parquet]~=2.1->chai_lab==0.5.1) (1.35.36)\n",
            "Requirement already satisfied: aioitertools<1.0.0,>=0.5.1 in /usr/local/lib/python3.10/dist-packages (from aiobotocore<3.0.0,>=2.5.4->s3fs>=2022.11.0->pandas[aws,gcp,parquet]~=2.1->chai_lab==0.5.1) (0.12.0)\n",
            "Requirement already satisfied: aiohappyeyeballs>=2.3.0 in /usr/local/lib/python3.10/dist-packages (from aiohttp!=4.0.0a0,!=4.0.0a1->gcsfs>=2022.11.0->pandas[aws,gcp,parquet]~=2.1->chai_lab==0.5.1) (2.4.4)\n",
            "Requirement already satisfied: aiosignal>=1.1.2 in /usr/local/lib/python3.10/dist-packages (from aiohttp!=4.0.0a0,!=4.0.0a1->gcsfs>=2022.11.0->pandas[aws,gcp,parquet]~=2.1->chai_lab==0.5.1) (1.3.1)\n",
            "Requirement already satisfied: async-timeout<6.0,>=4.0 in /usr/local/lib/python3.10/dist-packages (from aiohttp!=4.0.0a0,!=4.0.0a1->gcsfs>=2022.11.0->pandas[aws,gcp,parquet]~=2.1->chai_lab==0.5.1) (4.0.3)\n",
            "Requirement already satisfied: attrs>=17.3.0 in /usr/local/lib/python3.10/dist-packages (from aiohttp!=4.0.0a0,!=4.0.0a1->gcsfs>=2022.11.0->pandas[aws,gcp,parquet]~=2.1->chai_lab==0.5.1) (24.2.0)\n",
            "Requirement already satisfied: frozenlist>=1.1.1 in /usr/local/lib/python3.10/dist-packages (from aiohttp!=4.0.0a0,!=4.0.0a1->gcsfs>=2022.11.0->pandas[aws,gcp,parquet]~=2.1->chai_lab==0.5.1) (1.5.0)\n",
            "Requirement already satisfied: multidict<7.0,>=4.5 in /usr/local/lib/python3.10/dist-packages (from aiohttp!=4.0.0a0,!=4.0.0a1->gcsfs>=2022.11.0->pandas[aws,gcp,parquet]~=2.1->chai_lab==0.5.1) (6.1.0)\n",
            "Requirement already satisfied: propcache>=0.2.0 in /usr/local/lib/python3.10/dist-packages (from aiohttp!=4.0.0a0,!=4.0.0a1->gcsfs>=2022.11.0->pandas[aws,gcp,parquet]~=2.1->chai_lab==0.5.1) (0.2.1)\n",
            "Requirement already satisfied: yarl<2.0,>=1.17.0 in /usr/local/lib/python3.10/dist-packages (from aiohttp!=4.0.0a0,!=4.0.0a1->gcsfs>=2022.11.0->pandas[aws,gcp,parquet]~=2.1->chai_lab==0.5.1) (1.18.3)\n",
            "Requirement already satisfied: googleapis-common-protos<2.0.dev0,>=1.56.2 in /usr/local/lib/python3.10/dist-packages (from google-api-core<3.0.0dev,>=2.10.2->pandas-gbq>=0.19.0->pandas[aws,gcp,parquet]~=2.1->chai_lab==0.5.1) (1.66.0)\n",
            "Requirement already satisfied: protobuf!=3.20.0,!=3.20.1,!=4.21.0,!=4.21.1,!=4.21.2,!=4.21.3,!=4.21.4,!=4.21.5,<6.0.0.dev0,>=3.19.5 in /usr/local/lib/python3.10/dist-packages (from google-api-core<3.0.0dev,>=2.10.2->pandas-gbq>=0.19.0->pandas[aws,gcp,parquet]~=2.1->chai_lab==0.5.1) (4.25.5)\n",
            "Requirement already satisfied: proto-plus<2.0.0dev,>=1.22.3 in /usr/local/lib/python3.10/dist-packages (from google-api-core<3.0.0dev,>=2.10.2->pandas-gbq>=0.19.0->pandas[aws,gcp,parquet]~=2.1->chai_lab==0.5.1) (1.25.0)\n",
            "Requirement already satisfied: cachetools<6.0,>=2.0.0 in /usr/local/lib/python3.10/dist-packages (from google-auth>=1.2->gcsfs>=2022.11.0->pandas[aws,gcp,parquet]~=2.1->chai_lab==0.5.1) (5.5.0)\n",
            "Requirement already satisfied: pyasn1-modules>=0.2.1 in /usr/local/lib/python3.10/dist-packages (from google-auth>=1.2->gcsfs>=2022.11.0->pandas[aws,gcp,parquet]~=2.1->chai_lab==0.5.1) (0.4.1)\n",
            "Requirement already satisfied: rsa<5,>=3.1.4 in /usr/local/lib/python3.10/dist-packages (from google-auth>=1.2->gcsfs>=2022.11.0->pandas[aws,gcp,parquet]~=2.1->chai_lab==0.5.1) (4.9)\n",
            "Requirement already satisfied: requests-oauthlib>=0.7.0 in /usr/local/lib/python3.10/dist-packages (from google-auth-oauthlib->gcsfs>=2022.11.0->pandas[aws,gcp,parquet]~=2.1->chai_lab==0.5.1) (1.3.1)\n",
            "Requirement already satisfied: google-cloud-core<3.0.0dev,>=1.6.0 in /usr/local/lib/python3.10/dist-packages (from google-cloud-bigquery<4.0.0dev,>=3.4.2->pandas-gbq>=0.19.0->pandas[aws,gcp,parquet]~=2.1->chai_lab==0.5.1) (2.4.1)\n",
            "Requirement already satisfied: google-resumable-media<3.0dev,>=0.6.0 in /usr/local/lib/python3.10/dist-packages (from google-cloud-bigquery<4.0.0dev,>=3.4.2->pandas-gbq>=0.19.0->pandas[aws,gcp,parquet]~=2.1->chai_lab==0.5.1) (2.7.2)\n",
            "Requirement already satisfied: parso<0.9.0,>=0.8.4 in /usr/local/lib/python3.10/dist-packages (from jedi>=0.16->ipython>=7.23.1->ipykernel~=6.27->chai_lab==0.5.1) (0.8.4)\n",
            "Requirement already satisfied: mdurl~=0.1 in /usr/local/lib/python3.10/dist-packages (from markdown-it-py>=2.2.0->rich>=10.11.0->typer~=0.12->chai_lab==0.5.1) (0.1.2)\n",
            "Requirement already satisfied: ptyprocess>=0.5 in /usr/local/lib/python3.10/dist-packages (from pexpect>4.3->ipython>=7.23.1->ipykernel~=6.27->chai_lab==0.5.1) (0.7.0)\n",
            "Requirement already satisfied: wcwidth in /usr/local/lib/python3.10/dist-packages (from prompt-toolkit!=3.0.0,!=3.0.1,<3.1.0,>=2.0.0->ipython>=7.23.1->ipykernel~=6.27->chai_lab==0.5.1) (0.2.13)\n",
            "Requirement already satisfied: jmespath<2.0.0,>=0.7.1 in /usr/local/lib/python3.10/dist-packages (from botocore<1.35.37,>=1.35.16->aiobotocore<3.0.0,>=2.5.4->s3fs>=2022.11.0->pandas[aws,gcp,parquet]~=2.1->chai_lab==0.5.1) (1.0.1)\n",
            "Requirement already satisfied: grpcio<2.0dev,>=1.33.2 in /usr/local/lib/python3.10/dist-packages (from google-api-core[grpc]!=2.0.*,!=2.1.*,!=2.10.*,!=2.2.*,!=2.3.*,!=2.4.*,!=2.5.*,!=2.6.*,!=2.7.*,!=2.8.*,!=2.9.*,<3.0.0dev,>=1.34.1->google-cloud-bigquery<4.0.0dev,>=3.4.2->pandas-gbq>=0.19.0->pandas[aws,gcp,parquet]~=2.1->chai_lab==0.5.1) (1.68.1)\n",
            "Requirement already satisfied: grpcio-status<2.0.dev0,>=1.33.2 in /usr/local/lib/python3.10/dist-packages (from google-api-core[grpc]!=2.0.*,!=2.1.*,!=2.10.*,!=2.2.*,!=2.3.*,!=2.4.*,!=2.5.*,!=2.6.*,!=2.7.*,!=2.8.*,!=2.9.*,<3.0.0dev,>=1.34.1->google-cloud-bigquery<4.0.0dev,>=3.4.2->pandas-gbq>=0.19.0->pandas[aws,gcp,parquet]~=2.1->chai_lab==0.5.1) (1.62.3)\n",
            "Requirement already satisfied: google-crc32c<2.0dev,>=1.0 in /usr/local/lib/python3.10/dist-packages (from google-resumable-media<3.0dev,>=0.6.0->google-cloud-bigquery<4.0.0dev,>=3.4.2->pandas-gbq>=0.19.0->pandas[aws,gcp,parquet]~=2.1->chai_lab==0.5.1) (1.6.0)\n",
            "Requirement already satisfied: pyasn1<0.7.0,>=0.4.6 in /usr/local/lib/python3.10/dist-packages (from pyasn1-modules>=0.2.1->google-auth>=1.2->gcsfs>=2022.11.0->pandas[aws,gcp,parquet]~=2.1->chai_lab==0.5.1) (0.6.1)\n",
            "Requirement already satisfied: oauthlib>=3.0.0 in /usr/local/lib/python3.10/dist-packages (from requests-oauthlib>=0.7.0->google-auth-oauthlib->gcsfs>=2022.11.0->pandas[aws,gcp,parquet]~=2.1->chai_lab==0.5.1) (3.2.2)\n",
            "Building wheels for collected packages: chai_lab\n",
            "  Building editable for chai_lab (pyproject.toml) ... \u001b[?25l\u001b[?25hdone\n",
            "  Created wheel for chai_lab: filename=chai_lab-0.5.1-py3-none-any.whl size=5645 sha256=c5774192b269c3a94055c3f746dedd0f9857f40b2d0a8e0c2b2f0a6cb0293854\n",
            "  Stored in directory: /tmp/pip-ephem-wheel-cache-zvtssqmm/wheels/8b/08/b0/5179087b10191340994e4693b5dfa069ff0cdf5b4ca3bf3352\n",
            "Successfully built chai_lab\n",
            "Installing collected packages: chai_lab\n",
            "  Attempting uninstall: chai_lab\n",
            "    Found existing installation: chai_lab 0.5.1\n",
            "    Uninstalling chai_lab-0.5.1:\n",
            "      Successfully uninstalled chai_lab-0.5.1\n",
            "Successfully installed chai_lab-0.5.1\n"
          ]
        }
      ]
    },
    {
      "cell_type": "code",
      "source": [
        "pip install torch torchvision --upgrade"
      ],
      "metadata": {
        "colab": {
          "base_uri": "https://localhost:8080/"
        },
        "id": "DBu2nfncSJen",
        "outputId": "9bf93ad4-e9c8-4916-93b0-bc463001af51"
      },
      "execution_count": 17,
      "outputs": [
        {
          "output_type": "stream",
          "name": "stdout",
          "text": [
            "Requirement already satisfied: torch in /usr/local/lib/python3.10/dist-packages (2.5.1+cu121)\n",
            "Requirement already satisfied: torchvision in /usr/local/lib/python3.10/dist-packages (0.20.1+cu121)\n",
            "Requirement already satisfied: filelock in /usr/local/lib/python3.10/dist-packages (from torch) (3.16.1)\n",
            "Requirement already satisfied: typing-extensions>=4.8.0 in /usr/local/lib/python3.10/dist-packages (from torch) (4.12.2)\n",
            "Requirement already satisfied: networkx in /usr/local/lib/python3.10/dist-packages (from torch) (3.4.2)\n",
            "Requirement already satisfied: jinja2 in /usr/local/lib/python3.10/dist-packages (from torch) (3.1.4)\n",
            "Requirement already satisfied: fsspec in /usr/local/lib/python3.10/dist-packages (from torch) (2024.10.0)\n",
            "Requirement already satisfied: sympy==1.13.1 in /usr/local/lib/python3.10/dist-packages (from torch) (1.13.1)\n",
            "Requirement already satisfied: mpmath<1.4,>=1.1.0 in /usr/local/lib/python3.10/dist-packages (from sympy==1.13.1->torch) (1.3.0)\n",
            "Requirement already satisfied: numpy in /usr/local/lib/python3.10/dist-packages (from torchvision) (1.26.4)\n",
            "Requirement already satisfied: pillow!=8.3.*,>=5.3.0 in /usr/local/lib/python3.10/dist-packages (from torchvision) (11.0.0)\n",
            "Requirement already satisfied: MarkupSafe>=2.0 in /usr/local/lib/python3.10/dist-packages (from jinja2->torch) (3.0.2)\n"
          ]
        }
      ]
    },
    {
      "cell_type": "code",
      "source": [
        "# Step 2: Download PDB Structure (2ITO)\n",
        "# Using wget to fetch the PDB file for PDB ID: 2ITO\n",
        "%cd /content\n",
        "!wget https://files.rcsb.org/download/2ITO.pdb"
      ],
      "metadata": {
        "colab": {
          "base_uri": "https://localhost:8080/"
        },
        "id": "2LTICpt4VSi0",
        "outputId": "42d01670-0eb2-4ddc-efd3-62a161639dc0"
      },
      "execution_count": 15,
      "outputs": [
        {
          "output_type": "stream",
          "name": "stdout",
          "text": [
            "/content\n",
            "--2024-12-14 01:55:03--  https://files.rcsb.org/download/2ITO.pdb\n",
            "Resolving files.rcsb.org (files.rcsb.org)... 132.249.213.193\n",
            "Connecting to files.rcsb.org (files.rcsb.org)|132.249.213.193|:443... connected.\n",
            "HTTP request sent, awaiting response... 200 OK\n",
            "Length: unspecified [application/octet-stream]\n",
            "Saving to: ‘2ITO.pdb.1’\n",
            "\n",
            "2ITO.pdb.1              [       <=>          ] 244.19K   152KB/s    in 1.6s    \n",
            "\n",
            "2024-12-14 01:55:05 (152 KB/s) - ‘2ITO.pdb.1’ saved [250047]\n",
            "\n"
          ]
        }
      ]
    },
    {
      "cell_type": "code",
      "source": [
        "from Bio.PDB import PDBParser , NeighborSearch\n",
        "from Bio.SeqUtils import seq1\n",
        "from rdkit import Chem\n",
        "from rdkit.Chem import AllChem\n",
        "from pathlib import Path\n",
        "\n",
        "# Step 4: Extract Protein Sequence and Ligand SMILES\n",
        "pdb_file = '2ITO.pdb'\n",
        "parser = PDBParser(QUIET=True)\n",
        "structure = parser.get_structure(\"2ITO\", pdb_file)\n",
        "\n",
        "# Extract the first chain's sequence\n",
        "chain = next(structure.get_chains())\n",
        "sequence = \"\".join([seq1(residue.resname) for residue in chain if residue.id[0] == \" \"])"
      ],
      "metadata": {
        "id": "qSjMlnvREMIC"
      },
      "execution_count": 5,
      "outputs": []
    },
    {
      "cell_type": "code",
      "source": [
        "# Extract residues with resname 'IRE'\n",
        "ire_residues = [res for res in structure.get_residues() if res.resname == \"IRE\"]\n",
        "\n",
        "if not ire_residues:\n",
        "    print(\"No residues with resname 'IRE' found in the PDB file.\")\n",
        "else:\n",
        "    print(f\"Found {len(ire_residues)} residues with resname 'IRE'.\")\n",
        "\n",
        "    # Extract the first 'IRE' residue\n",
        "    ire_residue = ire_residues[0]\n",
        "    atoms = list(ire_residue.get_atoms())\n",
        "\n",
        "    # RDKit molecule construction\n",
        "    mol = Chem.RWMol()\n",
        "    atom_mapping = {}\n",
        "\n",
        "    # Add atoms to the molecule\n",
        "    for atom in atoms:\n",
        "        element = atom.element\n",
        "        # Correct 'CL' to 'Cl' for RDKit compatibility\n",
        "        if element == \"CL\":\n",
        "            element = \"Cl\"\n",
        "        try:\n",
        "            rdkit_atom = Chem.Atom(element)\n",
        "            idx = mol.AddAtom(rdkit_atom)\n",
        "            atom_mapping[atom.serial_number] = idx\n",
        "        except RuntimeError as e:\n",
        "            print(f\"Skipping atom {atom.element} due to error: {e}\")\n",
        "\n",
        "    # Use NeighborSearch to find bonds\n",
        "    ns = NeighborSearch(list(structure.get_atoms()))\n",
        "    for atom in atoms:\n",
        "        start_idx = atom_mapping.get(atom.serial_number)\n",
        "        if start_idx is None:\n",
        "            continue\n",
        "        # Find neighbors within a bond cutoff distance (1.9 Å for covalent bonds)\n",
        "        neighbors = ns.search(atom.coord, 1.9)\n",
        "        for neighbor in neighbors:\n",
        "            # Exclude self-bonds\n",
        "            if atom.serial_number == neighbor.serial_number:\n",
        "                continue\n",
        "            end_idx = atom_mapping.get(neighbor.serial_number)\n",
        "            if end_idx is not None and not mol.GetBondBetweenAtoms(start_idx, end_idx):\n",
        "                mol.AddBond(start_idx, end_idx, Chem.BondType.SINGLE)\n",
        "\n",
        "    # Generate SMILES\n",
        "    try:\n",
        "        smiles = Chem.MolToSmiles(mol)\n",
        "        print(\"IRE residue SMILES:\", smiles)\n",
        "    except Exception as e:\n",
        "        print(f\"Failed to generate SMILES: {e}\")"
      ],
      "metadata": {
        "colab": {
          "base_uri": "https://localhost:8080/"
        },
        "id": "JtL-oGCsLR4c",
        "outputId": "476440af-90b6-49be-e208-06841dafad3f"
      },
      "execution_count": 6,
      "outputs": [
        {
          "output_type": "stream",
          "name": "stdout",
          "text": [
            "Found 1 residues with resname 'IRE'.\n",
            "IRE residue SMILES: COC1CC2NCNC(NC3CCC(F)C(Cl)C3)C2CC1OCCCN1CCOCC1\n"
          ]
        }
      ]
    },
    {
      "cell_type": "code",
      "source": [
        "m1=Chem.MolFromSmiles(smiles)\n",
        "m1"
      ],
      "metadata": {
        "colab": {
          "base_uri": "https://localhost:8080/",
          "height": 167
        },
        "id": "0KoIOUeL3grc",
        "outputId": "cb060044-c9e9-42aa-a5af-94f6ec616f5d"
      },
      "execution_count": 8,
      "outputs": [
        {
          "output_type": "execute_result",
          "data": {
            "text/plain": [
              "<rdkit.Chem.rdchem.Mol at 0x7dc027a8b760>"
            ],
            "image/png": "[encoded data removed]"
          },
          "metadata": {},
          "execution_count": 8
        }
      ]
    },
    {
      "cell_type": "code",
      "source": [
        "fasta_file = Path(\"2ITO_combined.fasta\")\n",
        "with open(fasta_file, \"w\") as f:\n",
        "    f.write(f\">protein|name=example-of-long-protein\\n{sequence}\\n\")\n",
        "    f.write(f\">ligand|name=example-ligand-as-smiles\\n{smiles}\\n\")\n",
        "print(f\"Combined FASTA file saved to {fasta_file}\")"
      ],
      "metadata": {
        "colab": {
          "base_uri": "https://localhost:8080/"
        },
        "id": "ER3rt3McH00B",
        "outputId": "5d7c62b3-3f80-4ecc-d366-5fff020e1761"
      },
      "execution_count": 9,
      "outputs": [
        {
          "output_type": "stream",
          "name": "stdout",
          "text": [
            "Combined FASTA file saved to 2ITO_combined.fasta\n"
          ]
        }
      ]
    },
    {
      "cell_type": "code",
      "source": [
        "!cat 2ITO_combined.fasta"
      ],
      "metadata": {
        "colab": {
          "base_uri": "https://localhost:8080/"
        },
        "id": "JsjJcZd33stl",
        "outputId": "d04f031d-850e-4d94-d77a-9ff85c7404a4"
      },
      "execution_count": 10,
      "outputs": [
        {
          "output_type": "stream",
          "name": "stdout",
          "text": [
            ">protein|name=example-of-long-protein\n",
            "GEAPNQALLRILKETEFKKIKVLSSGAFGTVYKGLWIPEGEKVKIPVAIKELREATSPKANKEILDEAYVMASVDNPHVCRLLGICLTSTVQLITQLMPFGCLLDYVREHKDNIGSQYLLNWCVQIAKGMNYLEDRRLVHRDLAARNVLVKTPQHVKITDFGLAKLLGAEEVPIKWMALESILHRIYTHQSDVWSYGVTVWELMTFGSKPYDGIPASEISSILEKGERLPQPPICTIDVYMIMVKCWMIDADSRPKFRELIIEFSKMARDPQRYLVIQGDERMHLMDEEDMDDVVDADEYLIP\n",
            ">ligand|name=example-ligand-as-smiles\n",
            "COC1CC2NCNC(NC3CCC(F)C(Cl)C3)C2CC1OCCCN1CCOCC1\n"
          ]
        }
      ]
    },
    {
      "cell_type": "code",
      "source": [
        "# Step 6: Run CHAI-1 with Combined FASTA\n",
        "import chai_lab.chai1 as chai1\n",
        "\n",
        "# Step 6: Run CHAI-1 with Combined FASTA\n",
        "from chai_lab.chai1 import run_inference\n",
        "%cd /content\n",
        "# Define CHAI-1 parameters\n",
        "output_dir = Path(\"output\")\n",
        "candidates = run_inference(\n",
        "    fasta_file=fasta_file,\n",
        "    output_dir=output_dir,\n",
        "    num_trunk_recycles=3,  # Trunk recycling steps\n",
        "    num_diffn_timesteps=200,  # Diffusion steps\n",
        "    seed=42,\n",
        "    device=\"cuda:0\",  # Use GPU\n",
        "    use_esm_embeddings=True\n",
        ")\n",
        "\n",
        "print(f\"CHAI-1 output saved to {output_dir}\")"
      ],
      "metadata": {
        "colab": {
          "base_uri": "https://localhost:8080/",
          "height": 750,
          "referenced_widgets": [
            "194582661dd74990a36c65cc9d2e641b",
            "d2c06f9ef1d942f995cb046552f8bc31",
            "e89c81776f874b2bb727a8a4bfcfbdca",
            "618b68d678584e9cb5c0e4111a99c302",
            "dc270a7ad1854dfcbcee801e3c7109e9",
            "104370001b3442c7ae70b3a0363dfe71",
            "32d3305a95574b749003da33387297cc",
            "f758045bf6614266a25a41a554b0a828",
            "23babbd962c54a15af29671007810fc2",
            "287e7c7ac8424c18b2a12c02b7c8f980",
            "caff90ea50ce4bc3aa9cc8a186dea58e",
            "cdc2fc23e6ad4ff18ae85f3010e1ddc4",
            "4280c3187454458c970d12e5a6ef2878",
            "834aa02414bc4216bf8fef3f0961e0c9",
            "fc780a82e3694b37a8aef3e2a392ca87",
            "f9199750b59349bd82618853c2d08a8d",
            "59af38eb32dd4e87868aa6d97bb79d60",
            "55d90a4232e4457d84e200b5ed0efcf2",
            "d653d366f3ec47aab4ed2f49befbee72",
            "3dbf62164d4a45c6a36192ee52aa7519",
            "b814e1c0c3504a15981c04d3a3e02f6a",
            "b76fbc6dcf784f819539ce3b2d8f6527",
            "8e76abee9aeb45f989794dce4871f420",
            "62034a842b5f4d1bb4081c0e208f16ce",
            "468e1573466c4f01a03b126fe0161a39",
            "44ecb24a3e374cd0a7ba0a723ecabbca",
            "50864a4756b549af8e0b4ed70ebbd2f5",
            "2a00b5db6a49401fa73a46a50c0965a8",
            "b1baa0a949364c2ab616e460b2409905",
            "45b6162e8e934ef2881fc5676211344c",
            "7ab299843c174bd08db293c35a937952",
            "f2080bf8813343e980f167ceb9f3e9b8",
            "c7dd13a655754119975cf00890ee7228",
            "15f2ac3325074b9fbb978a7291f32768",
            "f7dd83e0290c4edbade7f7c6459adf13",
            "c91d0e4d95f2489faf0fcf90ec12109c",
            "3be92adcb2cd4ad19c491fed2a3bdf57",
            "b0af9ce45aa348b1b6d196872f98f678",
            "583ac27a5c744f80b8c654175514d911",
            "bc95791296a046eabce0fe751f3ca68a",
            "53f5dce474864ba5a5ecef7e3262ce2b",
            "1c65158a1f8345bbb8faf7bcc143797f",
            "1e9ae40182ca499db5d3b5bcb47e496e",
            "881249ce645b40f6a3da0aaa71d66e77",
            "81bc62a88bef4d4ba77e3e5cee969e39",
            "ec1333d51f60447982a1daff346154a6",
            "c76e4e92288e48e788a74a95c22244d4",
            "395a9574e57f495092821132a27e9601",
            "39687521964e40c385e96b7ec1073591",
            "5378eed7413c44f9b0d1fcc6da48a9c0",
            "119d7211caa94920aca48f93fcffef6c",
            "5798ace8bf1d4b8ab1b7cf979ed7b8c6",
            "e1940119f3054bddabea9dd82c8798b4",
            "74fe21935d9f4edb85c528e1a0c8966f",
            "21ca4afb2b244c01b3be9532a4cf6190",
            "c42ce56b1eaa4ec6a7610996f927984d",
            "c3500d51dc534523a2aedb31b71b4d9f",
            "25dfec11b0f14d649cdc516b340d3282",
            "de205a50f6194329842216514ef22efc",
            "3f169dfed8024b2fad84a2384f3fa770",
            "ad76de4ca5b64bf8a62a4379a03a22ff",
            "cdec2fabee394b078b9926bfe00057e5",
            "40d5e8114ffe43ea8724f5cf4296f6c2",
            "38c5ef078cc94d48bb6891cef6910c58",
            "43e0ba132cec4577b138029d6aecb2c1",
            "7adb7325f2904980b1095715537b22cf",
            "28bac7a35e6a4a9f920e7ccdf7ffa25d",
            "3a272cbb99b24b10a9984d21334c7e96",
            "8706d7304c2748258f96957cca8d5704",
            "70b8b022ebfe436ea64fdc45c9dbbb0f",
            "fb6940f18fe94d028020fabdc755d816",
            "61007d3309c047e7b63645c9625560be",
            "b987cce3090d428f939969b0fe91b11a",
            "76c35824aef54c8499bf2d9e366adf60",
            "8b511cf36aff4a5f9c82305bf67de2b7",
            "4ae3b7c65b8548adb812443fd8502b58",
            "039ce407cc244a5481ac00aadee9b1a8",
            "01514d127f7c4c7e91a90a24b20c0a5b",
            "d8bfdd8db7874f28a6793165e4fb4fff",
            "d2b8e8d10c7041b0999cbf927716c815",
            "f3a68fe92a8d4b6cb1005bd146edb1c0",
            "18935973721846e19cd7f77ca2b9e302",
            "87585a99aaf74853ba8c5ae0940ee215",
            "b9e7fa444da04121b1a1b4094c22bec0",
            "c051bca33c4348c0930fed1f9fe20e02",
            "2532433022404e3284d2a669205fb01e",
            "07c6cbdeee7d4c8e80ad49bcbb88c0b1",
            "b162f6f4057746529db639b319222d6d",
            "9a4f029f133d4a5d86b9b9328aafcdc4",
            "2e956b1ef1194eb4b3255cbc5b249f82",
            "3d56b75ddf03428492bd72deb508c559",
            "4a36321a7da14b6dad4f909bde635d06",
            "31b7f883bc9f49e3b15a865a7f4b5be8",
            "3840f9f79ce94287a593488812649e14",
            "90dda6e25c914cd09660d2fe90d03f3c",
            "9ab57b1e886c460283bd5c6706ed8b3f",
            "1de6c16ef2814622a780d2040e132493",
            "319abbadfc704f72bf2a2cb3ce4ab762",
            "62f13cce35774bd3ad9a79b46935da48",
            "e277d56851fd479aa45662b02ef8cf3b",
            "040dff849fb847f4aaf43ca6a3770b77",
            "96c479ee2d104fd1bc272fc42ace40e9",
            "3c0fc8d3a8d54e6a96905a8e6b54efd1",
            "cdbaaf5bbb534ebda217370c9b2a61d1",
            "db0f48c08ae04d7b82faeede2e92e924",
            "f137d0b724d8453c898dac0105407aa7",
            "c55add5189cc48cda7e2e92b5e3b850f",
            "68da903ca8e34d32be38c05db33e5b2b",
            "17061161b5fc4cf18ddd3880a7a53a7a",
            "35f2d834e2264b788beb60a9fee2b31f"
          ]
        },
        "id": "sZfLH0-tOQFN",
        "outputId": "326912f7-8ead-429a-971d-3ca18c370156"
      },
      "execution_count": 20,
      "outputs": [
        {
          "output_type": "stream",
          "name": "stdout",
          "text": [
            "/content\n",
            "downloading https://chaiassets.com/chai1-inference-depencencies/conformers_v1.apkl\n"
          ]
        },
        {
          "output_type": "stream",
          "name": "stderr",
          "text": [
            "/usr/local/lib/python3.10/dist-packages/huggingface_hub/utils/_auth.py:94: UserWarning: \n",
            "The secret `HF_TOKEN` does not exist in your Colab secrets.\n",
            "To authenticate with the Hugging Face Hub, create a token in your settings tab (https://huggingface.co/settings/tokens), set it as secret in your Google Colab and restart your session.\n",
            "You will be able to reuse this secret in all of your notebooks.\n",
            "Please note that authentication is recommended but still optional to access public models or datasets.\n",
            "  warnings.warn(\n"
          ]
        },
        {
          "output_type": "display_data",
          "data": {
            "text/plain": [
              "tokenizer_config.json:   0%|          | 0.00/95.0 [00:00<?, ?B/s]"
            ],
            "application/vnd.jupyter.widget-view+json": {
              "version_major": 2,
              "version_minor": 0,
              "model_id": "194582661dd74990a36c65cc9d2e641b"
            }
          },
          "metadata": {}
        },
        {
          "output_type": "display_data",
          "data": {
            "text/plain": [
              "vocab.txt:   0%|          | 0.00/93.0 [00:00<?, ?B/s]"
            ],
            "application/vnd.jupyter.widget-view+json": {
              "version_major": 2,
              "version_minor": 0,
              "model_id": "cdc2fc23e6ad4ff18ae85f3010e1ddc4"
            }
          },
          "metadata": {}
        },
        {
          "output_type": "display_data",
          "data": {
            "text/plain": [
              "special_tokens_map.json:   0%|          | 0.00/125 [00:00<?, ?B/s]"
            ],
            "application/vnd.jupyter.widget-view+json": {
              "version_major": 2,
              "version_minor": 0,
              "model_id": "8e76abee9aeb45f989794dce4871f420"
            }
          },
          "metadata": {}
        },
        {
          "output_type": "display_data",
          "data": {
            "text/plain": [
              "config.json:   0%|          | 0.00/779 [00:00<?, ?B/s]"
            ],
            "application/vnd.jupyter.widget-view+json": {
              "version_major": 2,
              "version_minor": 0,
              "model_id": "15f2ac3325074b9fbb978a7291f32768"
            }
          },
          "metadata": {}
        },
        {
          "output_type": "display_data",
          "data": {
            "text/plain": [
              "pytorch_model.bin.index.json:   0%|          | 0.00/55.5k [00:00<?, ?B/s]"
            ],
            "application/vnd.jupyter.widget-view+json": {
              "version_major": 2,
              "version_minor": 0,
              "model_id": "81bc62a88bef4d4ba77e3e5cee969e39"
            }
          },
          "metadata": {}
        },
        {
          "output_type": "display_data",
          "data": {
            "text/plain": [
              "Downloading shards:   0%|          | 0/2 [00:00<?, ?it/s]"
            ],
            "application/vnd.jupyter.widget-view+json": {
              "version_major": 2,
              "version_minor": 0,
              "model_id": "c42ce56b1eaa4ec6a7610996f927984d"
            }
          },
          "metadata": {}
        },
        {
          "output_type": "display_data",
          "data": {
            "text/plain": [
              "pytorch_model-00001-of-00002.bin:   0%|          | 0.00/9.98G [00:00<?, ?B/s]"
            ],
            "application/vnd.jupyter.widget-view+json": {
              "version_major": 2,
              "version_minor": 0,
              "model_id": "28bac7a35e6a4a9f920e7ccdf7ffa25d"
            }
          },
          "metadata": {}
        },
        {
          "output_type": "display_data",
          "data": {
            "text/plain": [
              "model.safetensors.index.json:   0%|          | 0.00/58.0k [00:00<?, ?B/s]"
            ],
            "application/vnd.jupyter.widget-view+json": {
              "version_major": 2,
              "version_minor": 0,
              "model_id": "01514d127f7c4c7e91a90a24b20c0a5b"
            }
          },
          "metadata": {}
        },
        {
          "output_type": "display_data",
          "data": {
            "text/plain": [
              "pytorch_model-00002-of-00002.bin:   0%|          | 0.00/1.39G [00:00<?, ?B/s]"
            ],
            "application/vnd.jupyter.widget-view+json": {
              "version_major": 2,
              "version_minor": 0,
              "model_id": "9a4f029f133d4a5d86b9b9328aafcdc4"
            }
          },
          "metadata": {}
        },
        {
          "output_type": "display_data",
          "data": {
            "text/plain": [
              "Loading checkpoint shards:   0%|          | 0/2 [00:00<?, ?it/s]"
            ],
            "application/vnd.jupyter.widget-view+json": {
              "version_major": 2,
              "version_minor": 0,
              "model_id": "e277d56851fd479aa45662b02ef8cf3b"
            }
          },
          "metadata": {}
        },
        {
          "output_type": "stream",
          "name": "stdout",
          "text": [
            "downloading https://chaiassets.com/chai1-inference-depencencies/models_v2/feature_embedding.pt\n",
            "downloading https://chaiassets.com/chai1-inference-depencencies/models_v2/bond_loss_input_proj.pt\n",
            "downloading https://chaiassets.com/chai1-inference-depencencies/models_v2/token_embedder.pt\n",
            "downloading https://chaiassets.com/chai1-inference-depencencies/models_v2/trunk.pt\n",
            "downloading https://chaiassets.com/chai1-inference-depencencies/models_v2/diffusion_module.pt\n",
            "downloading https://chaiassets.com/chai1-inference-depencencies/models_v2/confidence_head.pt\n"
          ]
        },
        {
          "output_type": "stream",
          "name": "stderr",
          "text": [
            "Trunk recycles: 100%|██████████| 3/3 [01:48<00:00, 36.21s/it]\n",
            "Diffusion steps: 100%|██████████| 199/199 [04:21<00:00,  1.31s/it]\n"
          ]
        },
        {
          "output_type": "stream",
          "name": "stdout",
          "text": [
            "Score=0.8539, writing output to output/pred.model_idx_0.cif\n",
            "Score=0.8546, writing output to output/pred.model_idx_1.cif\n",
            "Score=0.8525, writing output to output/pred.model_idx_2.cif\n",
            "Score=0.8601, writing output to output/pred.model_idx_3.cif\n",
            "Score=0.8579, writing output to output/pred.model_idx_4.cif\n",
            "CHAI-1 output saved to output\n"
          ]
        }
      ]
    },
    {
      "cell_type": "code",
      "source": [
        "!pip install nglview"
      ],
      "metadata": {
        "colab": {
          "base_uri": "https://localhost:8080/",
          "height": 1000
        },
        "id": "5hBUzfMvOQdU",
        "outputId": "3f195dd8-f303-4535-cdf8-6c00a5098b5e"
      },
      "execution_count": 21,
      "outputs": [
        {
          "output_type": "stream",
          "name": "stdout",
          "text": [
            "Collecting nglview\n",
            "  Downloading nglview-3.1.4.tar.gz (21.9 MB)\n",
            "\u001b[2K     \u001b[90m━━━━━━━━━━━━━━━━━━━━━━━━━━━━━━━━━━━━━━━━\u001b[0m \u001b[32m21.9/21.9 MB\u001b[0m \u001b[31m97.9 MB/s\u001b[0m eta \u001b[36m0:00:00\u001b[0m\n",
            "\u001b[?25h  Installing build dependencies ... \u001b[?25l\u001b[?25hdone\n",
            "  Getting requirements to build wheel ... \u001b[?25l\u001b[?25hdone\n",
            "  Installing backend dependencies ... \u001b[?25l\u001b[?25hdone\n",
            "  Preparing metadata (pyproject.toml) ... \u001b[?25l\u001b[?25hdone\n",
            "Collecting ipywidgets>=8 (from nglview)\n",
            "  Downloading ipywidgets-8.1.5-py3-none-any.whl.metadata (2.3 kB)\n",
            "Collecting notebook>=7 (from nglview)\n",
            "  Downloading notebook-7.3.1-py3-none-any.whl.metadata (10 kB)\n",
            "Collecting jupyterlab>=3 (from nglview)\n",
            "  Downloading jupyterlab-4.3.3-py3-none-any.whl.metadata (16 kB)\n",
            "Requirement already satisfied: jupyterlab_widgets in /usr/local/lib/python3.10/dist-packages (from nglview) (3.0.13)\n",
            "Requirement already satisfied: numpy in /usr/local/lib/python3.10/dist-packages (from nglview) (1.26.4)\n",
            "Requirement already satisfied: comm>=0.1.3 in /usr/local/lib/python3.10/dist-packages (from ipywidgets>=8->nglview) (0.2.2)\n",
            "Requirement already satisfied: ipython>=6.1.0 in /usr/local/lib/python3.10/dist-packages (from ipywidgets>=8->nglview) (7.34.0)\n",
            "Requirement already satisfied: traitlets>=4.3.1 in /usr/local/lib/python3.10/dist-packages (from ipywidgets>=8->nglview) (5.7.1)\n",
            "Collecting widgetsnbextension~=4.0.12 (from ipywidgets>=8->nglview)\n",
            "  Downloading widgetsnbextension-4.0.13-py3-none-any.whl.metadata (1.6 kB)\n",
            "Collecting async-lru>=1.0.0 (from jupyterlab>=3->nglview)\n",
            "  Downloading async_lru-2.0.4-py3-none-any.whl.metadata (4.5 kB)\n",
            "Requirement already satisfied: httpx>=0.25.0 in /usr/local/lib/python3.10/dist-packages (from jupyterlab>=3->nglview) (0.28.1)\n",
            "Requirement already satisfied: ipykernel>=6.5.0 in /usr/local/lib/python3.10/dist-packages (from jupyterlab>=3->nglview) (6.29.5)\n",
            "Requirement already satisfied: jinja2>=3.0.3 in /usr/local/lib/python3.10/dist-packages (from jupyterlab>=3->nglview) (3.1.4)\n",
            "Requirement already satisfied: jupyter-core in /usr/local/lib/python3.10/dist-packages (from jupyterlab>=3->nglview) (5.7.2)\n",
            "Collecting jupyter-lsp>=2.0.0 (from jupyterlab>=3->nglview)\n",
            "  Downloading jupyter_lsp-2.2.5-py3-none-any.whl.metadata (1.8 kB)\n",
            "Collecting jupyter-server<3,>=2.4.0 (from jupyterlab>=3->nglview)\n",
            "  Downloading jupyter_server-2.14.2-py3-none-any.whl.metadata (8.4 kB)\n",
            "Collecting jupyterlab-server<3,>=2.27.1 (from jupyterlab>=3->nglview)\n",
            "  Downloading jupyterlab_server-2.27.3-py3-none-any.whl.metadata (5.9 kB)\n",
            "Requirement already satisfied: notebook-shim>=0.2 in /usr/local/lib/python3.10/dist-packages (from jupyterlab>=3->nglview) (0.2.4)\n",
            "Requirement already satisfied: packaging in /usr/local/lib/python3.10/dist-packages (from jupyterlab>=3->nglview) (24.2)\n",
            "Requirement already satisfied: setuptools>=40.8.0 in /usr/local/lib/python3.10/dist-packages (from jupyterlab>=3->nglview) (75.1.0)\n",
            "Requirement already satisfied: tomli>=1.2.2 in /usr/local/lib/python3.10/dist-packages (from jupyterlab>=3->nglview) (2.2.1)\n",
            "Requirement already satisfied: tornado>=6.2.0 in /usr/local/lib/python3.10/dist-packages (from jupyterlab>=3->nglview) (6.3.3)\n",
            "Requirement already satisfied: typing-extensions>=4.0.0 in /usr/local/lib/python3.10/dist-packages (from async-lru>=1.0.0->jupyterlab>=3->nglview) (4.12.2)\n",
            "Requirement already satisfied: anyio in /usr/local/lib/python3.10/dist-packages (from httpx>=0.25.0->jupyterlab>=3->nglview) (3.7.1)\n",
            "Requirement already satisfied: certifi in /usr/local/lib/python3.10/dist-packages (from httpx>=0.25.0->jupyterlab>=3->nglview) (2024.8.30)\n",
            "Requirement already satisfied: httpcore==1.* in /usr/local/lib/python3.10/dist-packages (from httpx>=0.25.0->jupyterlab>=3->nglview) (1.0.7)\n",
            "Requirement already satisfied: idna in /usr/local/lib/python3.10/dist-packages (from httpx>=0.25.0->jupyterlab>=3->nglview) (3.10)\n",
            "Requirement already satisfied: h11<0.15,>=0.13 in /usr/local/lib/python3.10/dist-packages (from httpcore==1.*->httpx>=0.25.0->jupyterlab>=3->nglview) (0.14.0)\n",
            "Requirement already satisfied: debugpy>=1.6.5 in /usr/local/lib/python3.10/dist-packages (from ipykernel>=6.5.0->jupyterlab>=3->nglview) (1.8.0)\n",
            "Requirement already satisfied: jupyter-client>=6.1.12 in /usr/local/lib/python3.10/dist-packages (from ipykernel>=6.5.0->jupyterlab>=3->nglview) (6.1.12)\n",
            "Requirement already satisfied: matplotlib-inline>=0.1 in /usr/local/lib/python3.10/dist-packages (from ipykernel>=6.5.0->jupyterlab>=3->nglview) (0.1.7)\n",
            "Requirement already satisfied: nest-asyncio in /usr/local/lib/python3.10/dist-packages (from ipykernel>=6.5.0->jupyterlab>=3->nglview) (1.6.0)\n",
            "Requirement already satisfied: psutil in /usr/local/lib/python3.10/dist-packages (from ipykernel>=6.5.0->jupyterlab>=3->nglview) (5.9.5)\n",
            "Requirement already satisfied: pyzmq>=24 in /usr/local/lib/python3.10/dist-packages (from ipykernel>=6.5.0->jupyterlab>=3->nglview) (24.0.1)\n",
            "Requirement already satisfied: jedi>=0.16 in /usr/local/lib/python3.10/dist-packages (from ipython>=6.1.0->ipywidgets>=8->nglview) (0.19.2)\n",
            "Requirement already satisfied: decorator in /usr/local/lib/python3.10/dist-packages (from ipython>=6.1.0->ipywidgets>=8->nglview) (4.4.2)\n",
            "Requirement already satisfied: pickleshare in /usr/local/lib/python3.10/dist-packages (from ipython>=6.1.0->ipywidgets>=8->nglview) (0.7.5)\n",
            "Requirement already satisfied: prompt-toolkit!=3.0.0,!=3.0.1,<3.1.0,>=2.0.0 in /usr/local/lib/python3.10/dist-packages (from ipython>=6.1.0->ipywidgets>=8->nglview) (3.0.48)\n",
            "Requirement already satisfied: pygments in /usr/local/lib/python3.10/dist-packages (from ipython>=6.1.0->ipywidgets>=8->nglview) (2.18.0)\n",
            "Requirement already satisfied: backcall in /usr/local/lib/python3.10/dist-packages (from ipython>=6.1.0->ipywidgets>=8->nglview) (0.2.0)\n",
            "Requirement already satisfied: pexpect>4.3 in /usr/local/lib/python3.10/dist-packages (from ipython>=6.1.0->ipywidgets>=8->nglview) (4.9.0)\n",
            "Requirement already satisfied: MarkupSafe>=2.0 in /usr/local/lib/python3.10/dist-packages (from jinja2>=3.0.3->jupyterlab>=3->nglview) (3.0.2)\n",
            "Requirement already satisfied: platformdirs>=2.5 in /usr/local/lib/python3.10/dist-packages (from jupyter-core->jupyterlab>=3->nglview) (4.3.6)\n",
            "Requirement already satisfied: argon2-cffi>=21.1 in /usr/local/lib/python3.10/dist-packages (from jupyter-server<3,>=2.4.0->jupyterlab>=3->nglview) (23.1.0)\n",
            "Collecting jupyter-client>=6.1.12 (from ipykernel>=6.5.0->jupyterlab>=3->nglview)\n",
            "  Downloading jupyter_client-8.6.3-py3-none-any.whl.metadata (8.3 kB)\n",
            "Collecting jupyter-events>=0.9.0 (from jupyter-server<3,>=2.4.0->jupyterlab>=3->nglview)\n",
            "  Downloading jupyter_events-0.10.0-py3-none-any.whl.metadata (5.9 kB)\n",
            "Collecting jupyter-server-terminals>=0.4.4 (from jupyter-server<3,>=2.4.0->jupyterlab>=3->nglview)\n",
            "  Downloading jupyter_server_terminals-0.5.3-py3-none-any.whl.metadata (5.6 kB)\n",
            "Requirement already satisfied: nbconvert>=6.4.4 in /usr/local/lib/python3.10/dist-packages (from jupyter-server<3,>=2.4.0->jupyterlab>=3->nglview) (7.16.4)\n",
            "Requirement already satisfied: nbformat>=5.3.0 in /usr/local/lib/python3.10/dist-packages (from jupyter-server<3,>=2.4.0->jupyterlab>=3->nglview) (5.10.4)\n",
            "Collecting overrides>=5.0 (from jupyter-server<3,>=2.4.0->jupyterlab>=3->nglview)\n",
            "  Downloading overrides-7.7.0-py3-none-any.whl.metadata (5.8 kB)\n",
            "Requirement already satisfied: prometheus-client>=0.9 in /usr/local/lib/python3.10/dist-packages (from jupyter-server<3,>=2.4.0->jupyterlab>=3->nglview) (0.21.1)\n",
            "Requirement already satisfied: send2trash>=1.8.2 in /usr/local/lib/python3.10/dist-packages (from jupyter-server<3,>=2.4.0->jupyterlab>=3->nglview) (1.8.3)\n",
            "Requirement already satisfied: terminado>=0.8.3 in /usr/local/lib/python3.10/dist-packages (from jupyter-server<3,>=2.4.0->jupyterlab>=3->nglview) (0.18.1)\n",
            "Requirement already satisfied: websocket-client>=1.7 in /usr/local/lib/python3.10/dist-packages (from jupyter-server<3,>=2.4.0->jupyterlab>=3->nglview) (1.8.0)\n",
            "Requirement already satisfied: babel>=2.10 in /usr/local/lib/python3.10/dist-packages (from jupyterlab-server<3,>=2.27.1->jupyterlab>=3->nglview) (2.16.0)\n",
            "Collecting json5>=0.9.0 (from jupyterlab-server<3,>=2.27.1->jupyterlab>=3->nglview)\n",
            "  Downloading json5-0.10.0-py3-none-any.whl.metadata (34 kB)\n",
            "Requirement already satisfied: jsonschema>=4.18.0 in /usr/local/lib/python3.10/dist-packages (from jupyterlab-server<3,>=2.27.1->jupyterlab>=3->nglview) (4.23.0)\n",
            "Requirement already satisfied: requests>=2.31 in /usr/local/lib/python3.10/dist-packages (from jupyterlab-server<3,>=2.27.1->jupyterlab>=3->nglview) (2.32.3)\n",
            "Requirement already satisfied: sniffio>=1.1 in /usr/local/lib/python3.10/dist-packages (from anyio->httpx>=0.25.0->jupyterlab>=3->nglview) (1.3.1)\n",
            "Requirement already satisfied: exceptiongroup in /usr/local/lib/python3.10/dist-packages (from anyio->httpx>=0.25.0->jupyterlab>=3->nglview) (1.2.2)\n",
            "Requirement already satisfied: argon2-cffi-bindings in /usr/local/lib/python3.10/dist-packages (from argon2-cffi>=21.1->jupyter-server<3,>=2.4.0->jupyterlab>=3->nglview) (21.2.0)\n",
            "Requirement already satisfied: parso<0.9.0,>=0.8.4 in /usr/local/lib/python3.10/dist-packages (from jedi>=0.16->ipython>=6.1.0->ipywidgets>=8->nglview) (0.8.4)\n",
            "Requirement already satisfied: attrs>=22.2.0 in /usr/local/lib/python3.10/dist-packages (from jsonschema>=4.18.0->jupyterlab-server<3,>=2.27.1->jupyterlab>=3->nglview) (24.2.0)\n",
            "Requirement already satisfied: jsonschema-specifications>=2023.03.6 in /usr/local/lib/python3.10/dist-packages (from jsonschema>=4.18.0->jupyterlab-server<3,>=2.27.1->jupyterlab>=3->nglview) (2024.10.1)\n",
            "Requirement already satisfied: referencing>=0.28.4 in /usr/local/lib/python3.10/dist-packages (from jsonschema>=4.18.0->jupyterlab-server<3,>=2.27.1->jupyterlab>=3->nglview) (0.35.1)\n",
            "Requirement already satisfied: rpds-py>=0.7.1 in /usr/local/lib/python3.10/dist-packages (from jsonschema>=4.18.0->jupyterlab-server<3,>=2.27.1->jupyterlab>=3->nglview) (0.22.3)\n",
            "Requirement already satisfied: python-dateutil>=2.8.2 in /usr/local/lib/python3.10/dist-packages (from jupyter-client>=6.1.12->ipykernel>=6.5.0->jupyterlab>=3->nglview) (2.8.2)\n",
            "Collecting python-json-logger>=2.0.4 (from jupyter-events>=0.9.0->jupyter-server<3,>=2.4.0->jupyterlab>=3->nglview)\n",
            "  Downloading python_json_logger-3.2.0-py3-none-any.whl.metadata (4.4 kB)\n",
            "Requirement already satisfied: pyyaml>=5.3 in /usr/local/lib/python3.10/dist-packages (from jupyter-events>=0.9.0->jupyter-server<3,>=2.4.0->jupyterlab>=3->nglview) (6.0.2)\n",
            "Collecting rfc3339-validator (from jupyter-events>=0.9.0->jupyter-server<3,>=2.4.0->jupyterlab>=3->nglview)\n",
            "  Downloading rfc3339_validator-0.1.4-py2.py3-none-any.whl.metadata (1.5 kB)\n",
            "Collecting rfc3986-validator>=0.1.1 (from jupyter-events>=0.9.0->jupyter-server<3,>=2.4.0->jupyterlab>=3->nglview)\n",
            "  Downloading rfc3986_validator-0.1.1-py2.py3-none-any.whl.metadata (1.7 kB)\n",
            "Requirement already satisfied: beautifulsoup4 in /usr/local/lib/python3.10/dist-packages (from nbconvert>=6.4.4->jupyter-server<3,>=2.4.0->jupyterlab>=3->nglview) (4.12.3)\n",
            "Requirement already satisfied: bleach!=5.0.0 in /usr/local/lib/python3.10/dist-packages (from nbconvert>=6.4.4->jupyter-server<3,>=2.4.0->jupyterlab>=3->nglview) (6.2.0)\n",
            "Requirement already satisfied: defusedxml in /usr/local/lib/python3.10/dist-packages (from nbconvert>=6.4.4->jupyter-server<3,>=2.4.0->jupyterlab>=3->nglview) (0.7.1)\n",
            "Requirement already satisfied: jupyterlab-pygments in /usr/local/lib/python3.10/dist-packages (from nbconvert>=6.4.4->jupyter-server<3,>=2.4.0->jupyterlab>=3->nglview) (0.3.0)\n",
            "Requirement already satisfied: mistune<4,>=2.0.3 in /usr/local/lib/python3.10/dist-packages (from nbconvert>=6.4.4->jupyter-server<3,>=2.4.0->jupyterlab>=3->nglview) (3.0.2)\n",
            "Requirement already satisfied: nbclient>=0.5.0 in /usr/local/lib/python3.10/dist-packages (from nbconvert>=6.4.4->jupyter-server<3,>=2.4.0->jupyterlab>=3->nglview) (0.10.1)\n",
            "Requirement already satisfied: pandocfilters>=1.4.1 in /usr/local/lib/python3.10/dist-packages (from nbconvert>=6.4.4->jupyter-server<3,>=2.4.0->jupyterlab>=3->nglview) (1.5.1)\n",
            "Requirement already satisfied: tinycss2 in /usr/local/lib/python3.10/dist-packages (from nbconvert>=6.4.4->jupyter-server<3,>=2.4.0->jupyterlab>=3->nglview) (1.4.0)\n",
            "Requirement already satisfied: fastjsonschema>=2.15 in /usr/local/lib/python3.10/dist-packages (from nbformat>=5.3.0->jupyter-server<3,>=2.4.0->jupyterlab>=3->nglview) (2.21.1)\n",
            "Requirement already satisfied: ptyprocess>=0.5 in /usr/local/lib/python3.10/dist-packages (from pexpect>4.3->ipython>=6.1.0->ipywidgets>=8->nglview) (0.7.0)\n",
            "Requirement already satisfied: wcwidth in /usr/local/lib/python3.10/dist-packages (from prompt-toolkit!=3.0.0,!=3.0.1,<3.1.0,>=2.0.0->ipython>=6.1.0->ipywidgets>=8->nglview) (0.2.13)\n",
            "Requirement already satisfied: charset-normalizer<4,>=2 in /usr/local/lib/python3.10/dist-packages (from requests>=2.31->jupyterlab-server<3,>=2.27.1->jupyterlab>=3->nglview) (3.4.0)\n",
            "Requirement already satisfied: urllib3<3,>=1.21.1 in /usr/local/lib/python3.10/dist-packages (from requests>=2.31->jupyterlab-server<3,>=2.27.1->jupyterlab>=3->nglview) (2.2.3)\n",
            "Requirement already satisfied: webencodings in /usr/local/lib/python3.10/dist-packages (from bleach!=5.0.0->nbconvert>=6.4.4->jupyter-server<3,>=2.4.0->jupyterlab>=3->nglview) (0.5.1)\n",
            "Collecting fqdn (from jsonschema[format-nongpl]>=4.18.0->jupyter-events>=0.9.0->jupyter-server<3,>=2.4.0->jupyterlab>=3->nglview)\n",
            "  Downloading fqdn-1.5.1-py3-none-any.whl.metadata (1.4 kB)\n",
            "Collecting isoduration (from jsonschema[format-nongpl]>=4.18.0->jupyter-events>=0.9.0->jupyter-server<3,>=2.4.0->jupyterlab>=3->nglview)\n",
            "  Downloading isoduration-20.11.0-py3-none-any.whl.metadata (5.7 kB)\n",
            "Requirement already satisfied: jsonpointer>1.13 in /usr/local/lib/python3.10/dist-packages (from jsonschema[format-nongpl]>=4.18.0->jupyter-events>=0.9.0->jupyter-server<3,>=2.4.0->jupyterlab>=3->nglview) (3.0.0)\n",
            "Collecting uri-template (from jsonschema[format-nongpl]>=4.18.0->jupyter-events>=0.9.0->jupyter-server<3,>=2.4.0->jupyterlab>=3->nglview)\n",
            "  Downloading uri_template-1.3.0-py3-none-any.whl.metadata (8.8 kB)\n",
            "Requirement already satisfied: webcolors>=24.6.0 in /usr/local/lib/python3.10/dist-packages (from jsonschema[format-nongpl]>=4.18.0->jupyter-events>=0.9.0->jupyter-server<3,>=2.4.0->jupyterlab>=3->nglview) (24.11.1)\n",
            "Requirement already satisfied: six>=1.5 in /usr/local/lib/python3.10/dist-packages (from python-dateutil>=2.8.2->jupyter-client>=6.1.12->ipykernel>=6.5.0->jupyterlab>=3->nglview) (1.17.0)\n",
            "Requirement already satisfied: cffi>=1.0.1 in /usr/local/lib/python3.10/dist-packages (from argon2-cffi-bindings->argon2-cffi>=21.1->jupyter-server<3,>=2.4.0->jupyterlab>=3->nglview) (1.17.1)\n",
            "Requirement already satisfied: soupsieve>1.2 in /usr/local/lib/python3.10/dist-packages (from beautifulsoup4->nbconvert>=6.4.4->jupyter-server<3,>=2.4.0->jupyterlab>=3->nglview) (2.6)\n",
            "Requirement already satisfied: pycparser in /usr/local/lib/python3.10/dist-packages (from cffi>=1.0.1->argon2-cffi-bindings->argon2-cffi>=21.1->jupyter-server<3,>=2.4.0->jupyterlab>=3->nglview) (2.22)\n",
            "Collecting arrow>=0.15.0 (from isoduration->jsonschema[format-nongpl]>=4.18.0->jupyter-events>=0.9.0->jupyter-server<3,>=2.4.0->jupyterlab>=3->nglview)\n",
            "  Downloading arrow-1.3.0-py3-none-any.whl.metadata (7.5 kB)\n",
            "Collecting types-python-dateutil>=2.8.10 (from arrow>=0.15.0->isoduration->jsonschema[format-nongpl]>=4.18.0->jupyter-events>=0.9.0->jupyter-server<3,>=2.4.0->jupyterlab>=3->nglview)\n",
            "  Downloading types_python_dateutil-2.9.0.20241206-py3-none-any.whl.metadata (2.1 kB)\n",
            "Downloading ipywidgets-8.1.5-py3-none-any.whl (139 kB)\n",
            "\u001b[2K   \u001b[90m━━━━━━━━━━━━━━━━━━━━━━━━━━━━━━━━━━━━━━━━\u001b[0m \u001b[32m139.8/139.8 kB\u001b[0m \u001b[31m14.7 MB/s\u001b[0m eta \u001b[36m0:00:00\u001b[0m\n",
            "\u001b[?25hDownloading jupyterlab-4.3.3-py3-none-any.whl (11.7 MB)\n",
            "\u001b[2K   \u001b[90m━━━━━━━━━━━━━━━━━━━━━━━━━━━━━━━━━━━━━━━━\u001b[0m \u001b[32m11.7/11.7 MB\u001b[0m \u001b[31m122.8 MB/s\u001b[0m eta \u001b[36m0:00:00\u001b[0m\n",
            "\u001b[?25hDownloading notebook-7.3.1-py3-none-any.whl (13.2 MB)\n",
            "\u001b[2K   \u001b[90m━━━━━━━━━━━━━━━━━━━━━━━━━━━━━━━━━━━━━━━━\u001b[0m \u001b[32m13.2/13.2 MB\u001b[0m \u001b[31m116.8 MB/s\u001b[0m eta \u001b[36m0:00:00\u001b[0m\n",
            "\u001b[?25hDownloading async_lru-2.0.4-py3-none-any.whl (6.1 kB)\n",
            "Downloading jupyter_lsp-2.2.5-py3-none-any.whl (69 kB)\n",
            "\u001b[2K   \u001b[90m━━━━━━━━━━━━━━━━━━━━━━━━━━━━━━━━━━━━━━━━\u001b[0m \u001b[32m69.1/69.1 kB\u001b[0m \u001b[31m6.7 MB/s\u001b[0m eta \u001b[36m0:00:00\u001b[0m\n",
            "\u001b[?25hDownloading jupyter_server-2.14.2-py3-none-any.whl (383 kB)\n",
            "\u001b[2K   \u001b[90m━━━━━━━━━━━━━━━━━━━━━━━━━━━━━━━━━━━━━━━━\u001b[0m \u001b[32m383.6/383.6 kB\u001b[0m \u001b[31m34.6 MB/s\u001b[0m eta \u001b[36m0:00:00\u001b[0m\n",
            "\u001b[?25hDownloading jupyterlab_server-2.27.3-py3-none-any.whl (59 kB)\n",
            "\u001b[2K   \u001b[90m━━━━━━━━━━━━━━━━━━━━━━━━━━━━━━━━━━━━━━━━\u001b[0m \u001b[32m59.7/59.7 kB\u001b[0m \u001b[31m6.3 MB/s\u001b[0m eta \u001b[36m0:00:00\u001b[0m\n",
            "\u001b[?25hDownloading widgetsnbextension-4.0.13-py3-none-any.whl (2.3 MB)\n",
            "\u001b[2K   \u001b[90m━━━━━━━━━━━━━━━━━━━━━━━━━━━━━━━━━━━━━━━━\u001b[0m \u001b[32m2.3/2.3 MB\u001b[0m \u001b[31m90.5 MB/s\u001b[0m eta \u001b[36m0:00:00\u001b[0m\n",
            "\u001b[?25hDownloading json5-0.10.0-py3-none-any.whl (34 kB)\n",
            "Downloading jupyter_client-8.6.3-py3-none-any.whl (106 kB)\n",
            "\u001b[2K   \u001b[90m━━━━━━━━━━━━━━━━━━━━━━━━━━━━━━━━━━━━━━━━\u001b[0m \u001b[32m106.1/106.1 kB\u001b[0m \u001b[31m9.8 MB/s\u001b[0m eta \u001b[36m0:00:00\u001b[0m\n",
            "\u001b[?25hDownloading jupyter_events-0.10.0-py3-none-any.whl (18 kB)\n",
            "Downloading jupyter_server_terminals-0.5.3-py3-none-any.whl (13 kB)\n",
            "Downloading overrides-7.7.0-py3-none-any.whl (17 kB)\n",
            "Downloading python_json_logger-3.2.0-py3-none-any.whl (14 kB)\n",
            "Downloading rfc3986_validator-0.1.1-py2.py3-none-any.whl (4.2 kB)\n",
            "Downloading rfc3339_validator-0.1.4-py2.py3-none-any.whl (3.5 kB)\n",
            "Downloading fqdn-1.5.1-py3-none-any.whl (9.1 kB)\n",
            "Downloading isoduration-20.11.0-py3-none-any.whl (11 kB)\n",
            "Downloading uri_template-1.3.0-py3-none-any.whl (11 kB)\n",
            "Downloading arrow-1.3.0-py3-none-any.whl (66 kB)\n",
            "\u001b[2K   \u001b[90m━━━━━━━━━━━━━━━━━━━━━━━━━━━━━━━━━━━━━━━━\u001b[0m \u001b[32m66.4/66.4 kB\u001b[0m \u001b[31m6.7 MB/s\u001b[0m eta \u001b[36m0:00:00\u001b[0m\n",
            "\u001b[?25hDownloading types_python_dateutil-2.9.0.20241206-py3-none-any.whl (14 kB)\n",
            "Building wheels for collected packages: nglview\n",
            "  Building wheel for nglview (pyproject.toml) ... \u001b[?25l\u001b[?25hdone\n",
            "  Created wheel for nglview: filename=nglview-3.1.4-py3-none-any.whl size=6370774 sha256=fe6085ee90ca7fbf94e9d5c1d59a501affefd3aebb1cd157d48cf7a7aabf05ca\n",
            "  Stored in directory: /root/.cache/pip/wheels/43/07/f1/b981f54580b87e5e662ef47276999fe79cfeff99280edb4625\n",
            "Successfully built nglview\n",
            "Installing collected packages: widgetsnbextension, uri-template, types-python-dateutil, rfc3986-validator, rfc3339-validator, python-json-logger, overrides, json5, fqdn, async-lru, jupyter-server-terminals, jupyter-client, arrow, isoduration, ipywidgets, jupyter-events, jupyter-server, jupyterlab-server, jupyter-lsp, jupyterlab, notebook, nglview\n",
            "  Attempting uninstall: widgetsnbextension\n",
            "    Found existing installation: widgetsnbextension 3.6.10\n",
            "    Uninstalling widgetsnbextension-3.6.10:\n",
            "      Successfully uninstalled widgetsnbextension-3.6.10\n",
            "  Attempting uninstall: jupyter-client\n",
            "    Found existing installation: jupyter-client 6.1.12\n",
            "    Uninstalling jupyter-client-6.1.12:\n",
            "      Successfully uninstalled jupyter-client-6.1.12\n",
            "  Attempting uninstall: ipywidgets\n",
            "    Found existing installation: ipywidgets 7.7.1\n",
            "    Uninstalling ipywidgets-7.7.1:\n",
            "      Successfully uninstalled ipywidgets-7.7.1\n",
            "  Attempting uninstall: jupyter-server\n",
            "    Found existing installation: jupyter-server 1.24.0\n",
            "    Uninstalling jupyter-server-1.24.0:\n",
            "      Successfully uninstalled jupyter-server-1.24.0\n",
            "  Attempting uninstall: notebook\n",
            "    Found existing installation: notebook 6.5.5\n",
            "    Uninstalling notebook-6.5.5:\n",
            "      Successfully uninstalled notebook-6.5.5\n",
            "\u001b[31mERROR: pip's dependency resolver does not currently take into account all the packages that are installed. This behaviour is the source of the following dependency conflicts.\n",
            "google-colab 1.0.0 requires ipykernel==5.5.6, but you have ipykernel 6.29.5 which is incompatible.\n",
            "google-colab 1.0.0 requires notebook==6.5.5, but you have notebook 7.3.1 which is incompatible.\u001b[0m\u001b[31m\n",
            "\u001b[0mSuccessfully installed arrow-1.3.0 async-lru-2.0.4 fqdn-1.5.1 ipywidgets-8.1.5 isoduration-20.11.0 json5-0.10.0 jupyter-client-8.6.3 jupyter-events-0.10.0 jupyter-lsp-2.2.5 jupyter-server-2.14.2 jupyter-server-terminals-0.5.3 jupyterlab-4.3.3 jupyterlab-server-2.27.3 nglview-3.1.4 notebook-7.3.1 overrides-7.7.0 python-json-logger-3.2.0 rfc3339-validator-0.1.4 rfc3986-validator-0.1.1 types-python-dateutil-2.9.0.20241206 uri-template-1.3.0 widgetsnbextension-4.0.13\n"
          ]
        },
        {
          "output_type": "display_data",
          "data": {
            "application/vnd.colab-display-data+json": {
              "pip_warning": {
                "packages": [
                  "ipywidgets"
                ]
              },
              "id": "9028739507344f1b81c9115d4e124fa0"
            }
          },
          "metadata": {}
        }
      ]
    },
    {
      "cell_type": "code",
      "source": [
        "import os\n",
        "from pathlib import Path\n",
        "from Bio.PDB import MMCIFParser, PDBParser, PDBIO, Superimposer, Select\n",
        "from rdkit import Chem\n",
        "from rdkit.Chem import AllChem\n",
        "import nglview as nv"
      ],
      "metadata": {
        "id": "P__QwJz6FmTp",
        "colab": {
          "base_uri": "https://localhost:8080/",
          "height": 17,
          "referenced_widgets": [
            "d126a7a50bce4f51b640e80a053bd248"
          ]
        },
        "outputId": "55f4019d-112e-4d8e-da86-233c2dfb497e"
      },
      "execution_count": 22,
      "outputs": [
        {
          "output_type": "display_data",
          "data": {
            "text/plain": [],
            "application/vnd.jupyter.widget-view+json": {
              "version_major": 2,
              "version_minor": 0,
              "model_id": "d126a7a50bce4f51b640e80a053bd248"
            }
          },
          "metadata": {}
        }
      ]
    },
    {
      "cell_type": "code",
      "source": [
        "# Define paths\n",
        "output_dir = Path(\"output\")\n",
        "original_pdb = \"2ITO.pdb\"\n",
        "predicted_files = sorted(output_dir.glob(\"*.cif\"))\n",
        "\n",
        "# Initialize MMCIFParser\n",
        "cif_parser = MMCIFParser(QUIET=True)\n",
        "\n",
        "# Class for extracting ligands\n",
        "class DynamicLigandSelect(Select):\n",
        "    def __init__(self, target_resname):\n",
        "        self.target_resname = target_resname\n",
        "\n",
        "    def accept_residue(self, residue):\n",
        "        return residue.resname == self.target_resname\n",
        "\n",
        "# Fix element assignment in the structure\n",
        "def fix_elements(structure):\n",
        "    for atom in structure.get_atoms():\n",
        "        if atom.element.strip() == \"\":\n",
        "            # Use the first letter of the atom name as a fallback for element\n",
        "            atom.element = atom.get_name()[0]\n",
        "    return structure\n",
        "\n",
        "# Detect ligands in a structure\n",
        "def detect_ligand_resnames(structure):\n",
        "    ligand_resnames = set()\n",
        "    for residue in structure.get_residues():\n",
        "        if residue.id[0] != \" \":  # Hetero atoms (e.g., ligands)\n",
        "            ligand_resnames.add(residue.resname)\n",
        "    return ligand_resnames\n",
        "\n",
        "# RMSD and visualization\n",
        "rmsd_values = []\n",
        "\n",
        "for idx, pred_file in enumerate(predicted_files):\n",
        "    pred_structure = cif_parser.get_structure(f\"predicted_{idx}\", pred_file)\n",
        "    pred_structure = fix_elements(pred_structure)  # Fix element assignments\n",
        "    ligand_resnames = detect_ligand_resnames(pred_structure)\n",
        "\n",
        "    if not ligand_resnames:\n",
        "        print(f\"No ligands found in {pred_file.name}. Skipping.\")\n",
        "        continue\n",
        "\n",
        "    for resname in ligand_resnames:\n",
        "        predicted_ligand_pdb = f\"predicted_ligand_{idx}_{resname}.pdb\"\n",
        "\n",
        "        # Save ligand from predicted structure\n",
        "        io = PDBIO()\n",
        "        io.set_structure(pred_structure)\n",
        "        io.save(predicted_ligand_pdb, DynamicLigandSelect(resname))\n",
        "\n",
        "        # Load predicted ligand\n",
        "        predicted_ligand = Chem.MolFromPDBFile(predicted_ligand_pdb, removeHs=False)\n",
        "        if not predicted_ligand:\n",
        "            print(f\"Failed to load predicted ligand for {pred_file.name}, resname: {resname}.\")\n",
        "            continue\n",
        "\n",
        "        # Load original ligand\n",
        "        original_ligand = Chem.MolFromPDBFile(\"original_ligand.pdb\", removeHs=False)\n",
        "        if not original_ligand:\n",
        "            raise ValueError(\"Failed to load original ligand.\")\n",
        "\n",
        "        # Calculate RMSD\n",
        "        AllChem.EmbedMolecule(original_ligand)\n",
        "        AllChem.EmbedMolecule(predicted_ligand)\n",
        "        rmsd = AllChem.GetBestRMS(original_ligand, predicted_ligand)\n",
        "        rmsd_values.append((pred_file.name, resname, rmsd))\n",
        "        print(f\"File: {pred_file.name}, Resname: {resname}, RMSD: {rmsd:.3f} Å\")\n",
        "\n",
        "        # Visualization\n",
        "        view = nv.NGLWidget()\n",
        "        view.add_component(original_pdb, default_representation=True)\n",
        "        view.add_representation('cartoon', selection='protein', color='blue', component=0)\n",
        "        view.add_representation('licorice', selection='ligand', color='red', component=0)\n",
        "\n",
        "        view.add_component(str(pred_file), default_representation=True)\n",
        "        view.add_representation('cartoon', selection='protein', color='green', component=1)\n",
        "        view.add_representation('licorice', selection='ligand', color='yellow', component=1)\n",
        "\n",
        "        print(f\"Visualization for {pred_file.name}, Resname: {resname} is ready.\")\n",
        "        view.display()\n",
        "\n",
        "# Summarize RMSD values\n",
        "print(\"\\nSummary of RMSD values:\")\n",
        "for file_name, resname, rmsd in rmsd_values:\n",
        "    print(f\"{file_name} ({resname}): RMSD = {rmsd:.3f} Å\")\n",
        "    print(f\"{file_name} ({resname}): RMSD = {rmsd:.3f} Å\")"
      ],
      "metadata": {
        "colab": {
          "base_uri": "https://localhost:8080/"
        },
        "id": "OVIU4XJIFvwe",
        "outputId": "a5db979b-055e-4963-bb3c-bd7e6d1aca91"
      },
      "execution_count": 23,
      "outputs": [
        {
          "output_type": "stream",
          "name": "stderr",
          "text": [
            "[02:07:36] Cannot determine element for PDB atom #1\n",
            "[02:07:36] Cannot determine element for PDB atom #1\n",
            "[02:07:36] Cannot determine element for PDB atom #1\n"
          ]
        },
        {
          "output_type": "stream",
          "name": "stdout",
          "text": [
            "Failed to load predicted ligand for pred.model_idx_0.cif, resname: LIG2.\n",
            "Failed to load predicted ligand for pred.model_idx_1.cif, resname: LIG2.\n",
            "Failed to load predicted ligand for pred.model_idx_2.cif, resname: LIG2.\n",
            "Failed to load predicted ligand for pred.model_idx_3.cif, resname: LIG2.\n",
            "Failed to load predicted ligand for pred.model_idx_4.cif, resname: LIG2.\n",
            "\n",
            "Summary of RMSD values:\n"
          ]
        },
        {
          "output_type": "stream",
          "name": "stderr",
          "text": [
            "[02:07:36] Cannot determine element for PDB atom #1\n",
            "[02:07:36] Cannot determine element for PDB atom #1\n"
          ]
        }
      ]
    },
    {
      "cell_type": "code",
      "source": [],
      "metadata": {
        "id": "IjsXFi0NcvjO"
      },
      "execution_count": null,
      "outputs": []
    }
  ]
}