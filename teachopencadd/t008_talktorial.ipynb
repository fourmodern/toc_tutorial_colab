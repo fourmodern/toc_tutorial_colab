{
  "cells": [
    {
      "cell_type": "markdown",
      "metadata": {
        "id": "view-in-github",
        "colab_type": "text"
      },
      "source": [
        "<a href=\"https://colab.research.google.com/github/fourmodern/toc_tutorial_colab/blob/main/teachopencadd/t008_talktorial.ipynb\" target=\"_parent\"><img src=\"https://colab.research.google.com/assets/colab-badge.svg\" alt=\"Open In Colab\"/></a>"
      ]
    },
    {
      "cell_type": "markdown",
      "metadata": {
        "id": "psAqcQwXWSss"
      },
      "source": [
        "# T008 · Protein data acquisition: Protein Data Bank (PDB)\n",
        "\n",
        "**Note:** This talktorial is a part of TeachOpenCADD, a platform that aims to teach domain-specific skills and to provide pipeline templates as starting points for research projects.\n",
        "\n",
        "Authors:\n",
        "\n",
        "- Anja Georgi, CADD seminar, 2017, Charité/FU Berlin\n",
        "- Majid Vafadar, CADD seminar, 2018, Charité/FU Berlin\n",
        "- Jaime Rodríguez-Guerra, [Volkamer lab, Charité](https://volkamerlab.org/)\n",
        "- Dominique Sydow, [Volkamer lab, Charité](https://volkamerlab.org/)"
      ]
    },
    {
      "cell_type": "markdown",
      "metadata": {
        "id": "E9p5GqiAWSst"
      },
      "source": [
        "__Talktorial T008__: This talktorial is part of the TeachOpenCADD pipeline described in the first TeachOpenCADD publication ([_J. Cheminform._ (2019), **11**, 1-7](https://jcheminf.biomedcentral.com/articles/10.1186/s13321-019-0351-x)), comprising of talktorials T001-T010."
      ]
    },
    {
      "cell_type": "markdown",
      "metadata": {
        "id": "lx6zOh2TWSst"
      },
      "source": [
        "## Aim of this talktorial\n",
        "\n",
        "In this talktorial, we conduct the groundwork for the next talktorial where we will generate a ligand-based ensemble pharmacophore for EGFR. Therefore, we\n",
        "(i) fetch all PDB IDs for EGFR from the PDB database that fullfil certain criteria (e.g. ligand-bound structures with high resolution),\n",
        "(ii) retrieve protein-ligand structures with the best structural quality,\n",
        "(iii) align all structures, and\n",
        "(iv) extract and save the ligands to be used in the next talktorial."
      ]
    },
    {
      "cell_type": "markdown",
      "metadata": {
        "id": "a40gN3FzWSsu"
      },
      "source": [
        "### Contents in Theory\n",
        "\n",
        "* Protein Data Bank (PDB)\n",
        "* Query the PDB using the Python packages `biotite` and `pypdb`"
      ]
    },
    {
      "cell_type": "markdown",
      "metadata": {
        "id": "XjoaXm8iWSsu"
      },
      "source": [
        "### Contents in Practical\n",
        "\n",
        "* Select a query protein\n",
        "* Get the number of PDB entries for a query protein\n",
        "* Find PDB entries fullfilling certain conditions\n",
        "* Select PDB entries with the highest resolution\n",
        "* Get metadata of ligands from top structures\n",
        "* Draw top ligand molecules\n",
        "* Create protein-ligand ID pairs\n",
        "* Align PDB structures and extract ligands"
      ]
    },
    {
      "cell_type": "markdown",
      "metadata": {
        "id": "fmqTl5vKWSsu"
      },
      "source": [
        "### References\n",
        "\n",
        "* Protein Data Bank\n",
        "([PDB website](http://www.rcsb.org/))\n",
        "* `pypdb` Python package\n",
        "([_Bioinformatics_ (2016), **1**, 159-60](https://academic.oup.com/bioinformatics/article-lookup/doi/10.1093/bioinformatics/btv543); [documentation](http://www.wgilpin.com/pypdb_docs/html/))\n",
        "* `biotite` Python package ([_BMC Bioinformatics_ (2018), **19**](https://bmcbioinformatics.biomedcentral.com/articles/10.1186/s12859-018-2367-z); [documentation](https://www.biotite-python.org/))\n",
        "* Molecular superposition with the Python package `opencadd` ([repository](https://github.com/volkamerlab/opencadd))"
      ]
    },
    {
      "cell_type": "markdown",
      "metadata": {
        "id": "UAfZTyI3WSsu"
      },
      "source": [
        "## Theory"
      ]
    },
    {
      "cell_type": "markdown",
      "metadata": {
        "id": "ISfWbyL4WSsu"
      },
      "source": [
        "### Protein Data Bank (PDB)\n",
        "\n",
        "The RCSB Protein Data Bank (PDB) is a comprehensive structural biology information database and a key resource in areas of structural biology, such as structural genomics and drug design ([PDB website](http://www.rcsb.org/)).\n",
        "\n",
        "Structural data is generated from structural determination methods such as X-ray crystallography (most common method), nuclear magnetic resonance (NMR), and cryo electron microscopy (cryo-EM).\n",
        "For each entry, the database contains (i) the 3D coordinates of the atoms and the bonds connecting these atoms for proteins, ligand, cofactors, water molecules, and ions, as well as (ii) meta information on the structural data such as the PDB ID, the authors, the deposition date, the structural determination method used, and the structural resolution.\n",
        "The structural resolution is a measure of the collected data quality and has the unit Å (Angstrom); the lower the value, the higher the quality of the structure.\n",
        "\n",
        "The PDB website offers a 3D visualization of the protein structures (with ligand interactions if available) and a structure quality metrics, as can be seen for the PDB entry of an example epidermal growth factor receptor (EGFR) with the PDB ID [3UG5](https://www.rcsb.org/structure/3UG5).\n",
        "\n",
        "![protein ligand complex](https://github.com/volkamerlab/teachopencadd/blob/master/teachopencadd/talktorials/T008_query_pdb/images/protein-ligand-complex.png?raw=1)\n",
        "\n",
        "*Figure 1*: The protein structure (in gray) with an interacting ligand (in green) is shown for an example epidermal growth factor receptor (EGFR) with the PDB ID 3UG5."
      ]
    },
    {
      "cell_type": "markdown",
      "metadata": {
        "id": "j2ESOBRUWSsu"
      },
      "source": [
        "### Query the PDB using the Python packages `biotite` and `pypdb`"
      ]
    },
    {
      "cell_type": "markdown",
      "metadata": {
        "id": "38QCJftvWSsu"
      },
      "source": [
        "Each structure in the PDB database is linked to many different fields to hold meta information. Check out the complete list of available fields for [chemicals](https://search.rcsb.org/chemical-search-attributes.html)/[structures](https://search.rcsb.org/structure-search-attributes.html) and supported operators on the RCSB website. The Python package `biotite` provides the convenient module `databases.rcsb` (see [docs](https://www.biotite-python.org/apidoc/biotite.database.rcsb.html)), which allows us to query one (`FieldQuery`, see [docs](https://www.biotite-python.org/apidoc/biotite.database.rcsb.FieldQuery.html#biotite.database.rcsb.FieldQuery)) or more (`CompositeQuery`, see [docs](https://www.biotite-python.org/apidoc/biotite.database.rcsb.CompositeQuery.html#biotite.database.rcsb.CompositeQuery)) of these fields to retrieve a count (`count`) or list (`search`) of PDB IDs that match our criteria.\n",
        "\n",
        "The Python package `pypdb` offers an interface for the PDB to not only query for PDB IDs but also to download associated metadata and structural files ([_Bioinformatics_ (2016), **1**, 159-60](https://academic.oup.com/bioinformatics/article-lookup/doi/10.1093/bioinformatics/btv543), [documentation](http://www.wgilpin.com/pypdb_docs/html/)). Check out the [demo](https://github.com/williamgilpin/pypdb/blob/master/demos/demos.ipynb) notebook introducing the `pypdb` API.\n",
        "\n",
        "We will use both packages in this notebook: `biotite` to quickly filter down the many structures in the PDB given certain criteria and `pypdb` to download metadata and structural files for specific PDB entries of interest."
      ]
    },
    {
      "cell_type": "markdown",
      "metadata": {
        "tags": [],
        "id": "bqonSanGWSsv"
      },
      "source": [
        "## Practical"
      ]
    },
    {
      "cell_type": "code",
      "source": [
        "try:\n",
        "    import google.colab\n",
        "    !pip install condacolab\n",
        "    import condacolab\n",
        "    condacolab.install()\n",
        "except ModuleNotFoundError:\n",
        "    pass"
      ],
      "metadata": {
        "id": "-FcloHwGXLBj",
        "outputId": "8237a601-04f8-40a4-a029-7d1a37ee13c6",
        "colab": {
          "base_uri": "https://localhost:8080/"
        }
      },
      "execution_count": 1,
      "outputs": [
        {
          "output_type": "stream",
          "name": "stdout",
          "text": [
            "Collecting condacolab\n",
            "  Using cached condacolab-0.1.9-py3-none-any.whl.metadata (5.6 kB)\n",
            "Using cached condacolab-0.1.9-py3-none-any.whl (7.2 kB)\n",
            "Installing collected packages: condacolab\n",
            "Successfully installed condacolab-0.1.9\n",
            "✨🍰✨ Everything looks OK!\n"
          ]
        }
      ]
    },
    {
      "cell_type": "code",
      "source": [
        "try:\n",
        "    import condacolab\n",
        "    from google.colab import files\n",
        "    from IPython.display import clear_output\n",
        "    condacolab.check()\n",
        "    !conda install -q -y -c conda-forge openbabel redo pypdb biotite rdkit MDAnalysis\n",
        "    on_colab = True\n",
        "    clear_output()  # clear the excessive installation outputs\n",
        "    print(\"Dependencies successfully installed!\")\n",
        "except ModuleNotFoundError:\n",
        "    on_colab = False"
      ],
      "metadata": {
        "id": "jdoI3jLHXbQU",
        "outputId": "2a52921b-f535-470a-dc9e-fa5fb50e0dae",
        "colab": {
          "base_uri": "https://localhost:8080/"
        }
      },
      "execution_count": 2,
      "outputs": [
        {
          "output_type": "stream",
          "name": "stdout",
          "text": [
            "Dependencies successfully installed!\n"
          ]
        }
      ]
    },
    {
      "cell_type": "code",
      "source": [
        "from google.colab import output\n",
        "output.enable_custom_widget_manager()\n",
        "!jupyter nbextension enable --py widgetsnbextension"
      ],
      "metadata": {
        "id": "EaXVHVLVXbT4"
      },
      "execution_count": null,
      "outputs": []
    },
    {
      "cell_type": "code",
      "source": [
        "!pip install beautifulsoup4\n",
        "!pip install SWIG\n",
        "!pip install nglview==3.0.6\n",
        "!pip install ipywidgets\n",
        "!pip install https://github.com/volkamerlab/opencadd/archive/master.tar.gz\n",
        "!pip uninstall -y biopython\n",
        "!pip install biopython==1.77\n",
        "!pip install requests_cache"
      ],
      "metadata": {
        "id": "y_fWkAihXbXx",
        "outputId": "053d882e-c277-4845-be63-bc7413aae168",
        "colab": {
          "base_uri": "https://localhost:8080/"
        }
      },
      "execution_count": 5,
      "outputs": [
        {
          "output_type": "stream",
          "name": "stdout",
          "text": [
            "Requirement already satisfied: beautifulsoup4 in /usr/local/lib/python3.10/site-packages (4.12.3)\n",
            "Requirement already satisfied: soupsieve>1.2 in /usr/local/lib/python3.10/site-packages (from beautifulsoup4) (2.6)\n",
            "Requirement already satisfied: SWIG in /usr/local/lib/python3.10/site-packages (4.2.1)\n",
            "Requirement already satisfied: nglview==3.0.6 in /usr/local/lib/python3.10/site-packages (3.0.6)\n",
            "Requirement already satisfied: ipywidgets>=7 in /usr/local/lib/python3.10/site-packages (from nglview==3.0.6) (8.1.5)\n",
            "Requirement already satisfied: jupyterlab-widgets in /usr/local/lib/python3.10/site-packages (from nglview==3.0.6) (3.0.13)\n",
            "Requirement already satisfied: numpy in /usr/local/lib/python3.10/site-packages (from nglview==3.0.6) (1.26.4)\n",
            "Requirement already satisfied: comm>=0.1.3 in /usr/local/lib/python3.10/site-packages (from ipywidgets>=7->nglview==3.0.6) (0.2.2)\n",
            "Requirement already satisfied: ipython>=6.1.0 in /usr/local/lib/python3.10/site-packages (from ipywidgets>=7->nglview==3.0.6) (8.27.0)\n",
            "Requirement already satisfied: traitlets>=4.3.1 in /usr/local/lib/python3.10/site-packages (from ipywidgets>=7->nglview==3.0.6) (5.14.3)\n",
            "Requirement already satisfied: widgetsnbextension~=4.0.12 in /usr/local/lib/python3.10/site-packages (from ipywidgets>=7->nglview==3.0.6) (4.0.13)\n",
            "Requirement already satisfied: decorator in /usr/local/lib/python3.10/site-packages (from ipython>=6.1.0->ipywidgets>=7->nglview==3.0.6) (5.1.1)\n",
            "Requirement already satisfied: jedi>=0.16 in /usr/local/lib/python3.10/site-packages (from ipython>=6.1.0->ipywidgets>=7->nglview==3.0.6) (0.19.1)\n",
            "Requirement already satisfied: matplotlib-inline in /usr/local/lib/python3.10/site-packages (from ipython>=6.1.0->ipywidgets>=7->nglview==3.0.6) (0.1.7)\n",
            "Requirement already satisfied: prompt-toolkit<3.1.0,>=3.0.41 in /usr/local/lib/python3.10/site-packages (from ipython>=6.1.0->ipywidgets>=7->nglview==3.0.6) (3.0.47)\n",
            "Requirement already satisfied: pygments>=2.4.0 in /usr/local/lib/python3.10/site-packages (from ipython>=6.1.0->ipywidgets>=7->nglview==3.0.6) (2.18.0)\n",
            "Requirement already satisfied: stack-data in /usr/local/lib/python3.10/site-packages (from ipython>=6.1.0->ipywidgets>=7->nglview==3.0.6) (0.6.3)\n",
            "Requirement already satisfied: exceptiongroup in /usr/local/lib/python3.10/site-packages (from ipython>=6.1.0->ipywidgets>=7->nglview==3.0.6) (1.2.2)\n",
            "Requirement already satisfied: typing-extensions>=4.6 in /usr/local/lib/python3.10/site-packages (from ipython>=6.1.0->ipywidgets>=7->nglview==3.0.6) (4.12.2)\n",
            "Requirement already satisfied: pexpect>4.3 in /usr/local/lib/python3.10/site-packages (from ipython>=6.1.0->ipywidgets>=7->nglview==3.0.6) (4.9.0)\n",
            "Requirement already satisfied: parso<0.9.0,>=0.8.3 in /usr/local/lib/python3.10/site-packages (from jedi>=0.16->ipython>=6.1.0->ipywidgets>=7->nglview==3.0.6) (0.8.4)\n",
            "Requirement already satisfied: ptyprocess>=0.5 in /usr/local/lib/python3.10/site-packages (from pexpect>4.3->ipython>=6.1.0->ipywidgets>=7->nglview==3.0.6) (0.7.0)\n",
            "Requirement already satisfied: wcwidth in /usr/local/lib/python3.10/site-packages (from prompt-toolkit<3.1.0,>=3.0.41->ipython>=6.1.0->ipywidgets>=7->nglview==3.0.6) (0.2.13)\n",
            "Requirement already satisfied: executing>=1.2.0 in /usr/local/lib/python3.10/site-packages (from stack-data->ipython>=6.1.0->ipywidgets>=7->nglview==3.0.6) (2.1.0)\n",
            "Requirement already satisfied: asttokens>=2.1.0 in /usr/local/lib/python3.10/site-packages (from stack-data->ipython>=6.1.0->ipywidgets>=7->nglview==3.0.6) (2.4.1)\n",
            "Requirement already satisfied: pure-eval in /usr/local/lib/python3.10/site-packages (from stack-data->ipython>=6.1.0->ipywidgets>=7->nglview==3.0.6) (0.2.3)\n",
            "Requirement already satisfied: six>=1.12.0 in /usr/local/lib/python3.10/site-packages (from asttokens>=2.1.0->stack-data->ipython>=6.1.0->ipywidgets>=7->nglview==3.0.6) (1.16.0)\n",
            "Requirement already satisfied: ipywidgets in /usr/local/lib/python3.10/site-packages (8.1.5)\n",
            "Requirement already satisfied: comm>=0.1.3 in /usr/local/lib/python3.10/site-packages (from ipywidgets) (0.2.2)\n",
            "Requirement already satisfied: ipython>=6.1.0 in /usr/local/lib/python3.10/site-packages (from ipywidgets) (8.27.0)\n",
            "Requirement already satisfied: traitlets>=4.3.1 in /usr/local/lib/python3.10/site-packages (from ipywidgets) (5.14.3)\n",
            "Requirement already satisfied: widgetsnbextension~=4.0.12 in /usr/local/lib/python3.10/site-packages (from ipywidgets) (4.0.13)\n",
            "Requirement already satisfied: jupyterlab-widgets~=3.0.12 in /usr/local/lib/python3.10/site-packages (from ipywidgets) (3.0.13)\n",
            "Requirement already satisfied: decorator in /usr/local/lib/python3.10/site-packages (from ipython>=6.1.0->ipywidgets) (5.1.1)\n",
            "Requirement already satisfied: jedi>=0.16 in /usr/local/lib/python3.10/site-packages (from ipython>=6.1.0->ipywidgets) (0.19.1)\n",
            "Requirement already satisfied: matplotlib-inline in /usr/local/lib/python3.10/site-packages (from ipython>=6.1.0->ipywidgets) (0.1.7)\n",
            "Requirement already satisfied: prompt-toolkit<3.1.0,>=3.0.41 in /usr/local/lib/python3.10/site-packages (from ipython>=6.1.0->ipywidgets) (3.0.47)\n",
            "Requirement already satisfied: pygments>=2.4.0 in /usr/local/lib/python3.10/site-packages (from ipython>=6.1.0->ipywidgets) (2.18.0)\n",
            "Requirement already satisfied: stack-data in /usr/local/lib/python3.10/site-packages (from ipython>=6.1.0->ipywidgets) (0.6.3)\n",
            "Requirement already satisfied: exceptiongroup in /usr/local/lib/python3.10/site-packages (from ipython>=6.1.0->ipywidgets) (1.2.2)\n",
            "Requirement already satisfied: typing-extensions>=4.6 in /usr/local/lib/python3.10/site-packages (from ipython>=6.1.0->ipywidgets) (4.12.2)\n",
            "Requirement already satisfied: pexpect>4.3 in /usr/local/lib/python3.10/site-packages (from ipython>=6.1.0->ipywidgets) (4.9.0)\n",
            "Requirement already satisfied: parso<0.9.0,>=0.8.3 in /usr/local/lib/python3.10/site-packages (from jedi>=0.16->ipython>=6.1.0->ipywidgets) (0.8.4)\n",
            "Requirement already satisfied: ptyprocess>=0.5 in /usr/local/lib/python3.10/site-packages (from pexpect>4.3->ipython>=6.1.0->ipywidgets) (0.7.0)\n",
            "Requirement already satisfied: wcwidth in /usr/local/lib/python3.10/site-packages (from prompt-toolkit<3.1.0,>=3.0.41->ipython>=6.1.0->ipywidgets) (0.2.13)\n",
            "Requirement already satisfied: executing>=1.2.0 in /usr/local/lib/python3.10/site-packages (from stack-data->ipython>=6.1.0->ipywidgets) (2.1.0)\n",
            "Requirement already satisfied: asttokens>=2.1.0 in /usr/local/lib/python3.10/site-packages (from stack-data->ipython>=6.1.0->ipywidgets) (2.4.1)\n",
            "Requirement already satisfied: pure-eval in /usr/local/lib/python3.10/site-packages (from stack-data->ipython>=6.1.0->ipywidgets) (0.2.3)\n",
            "Requirement already satisfied: six>=1.12.0 in /usr/local/lib/python3.10/site-packages (from asttokens>=2.1.0->stack-data->ipython>=6.1.0->ipywidgets) (1.16.0)\n",
            "Collecting https://github.com/volkamerlab/opencadd/archive/master.tar.gz\n",
            "  Using cached https://github.com/volkamerlab/opencadd/archive/master.tar.gz\n",
            "  Preparing metadata (setup.py) ... \u001b[?25l\u001b[?25hdone\n",
            "Found existing installation: biopython 1.77\n",
            "Uninstalling biopython-1.77:\n",
            "  Successfully uninstalled biopython-1.77\n",
            "Collecting biopython==1.77\n",
            "  Using cached biopython-1.77-cp310-cp310-linux_x86_64.whl\n",
            "Requirement already satisfied: numpy in /usr/local/lib/python3.10/site-packages (from biopython==1.77) (1.26.4)\n",
            "Installing collected packages: biopython\n",
            "Successfully installed biopython-1.77\n",
            "Collecting requests_cache\n",
            "  Downloading requests_cache-1.2.1-py3-none-any.whl.metadata (9.9 kB)\n",
            "Collecting attrs>=21.2 (from requests_cache)\n",
            "  Using cached attrs-24.2.0-py3-none-any.whl.metadata (11 kB)\n",
            "Collecting cattrs>=22.2 (from requests_cache)\n",
            "  Downloading cattrs-24.1.1-py3-none-any.whl.metadata (8.4 kB)\n",
            "Requirement already satisfied: platformdirs>=2.5 in /usr/local/lib/python3.10/site-packages (from requests_cache) (4.1.0)\n",
            "Requirement already satisfied: requests>=2.22 in /usr/local/lib/python3.10/site-packages (from requests_cache) (2.31.0)\n",
            "Collecting url-normalize>=1.4 (from requests_cache)\n",
            "  Downloading url_normalize-1.4.3-py2.py3-none-any.whl.metadata (3.1 kB)\n",
            "Requirement already satisfied: urllib3>=1.25.5 in /usr/local/lib/python3.10/site-packages (from requests_cache) (2.1.0)\n",
            "Requirement already satisfied: exceptiongroup>=1.1.1 in /usr/local/lib/python3.10/site-packages (from cattrs>=22.2->requests_cache) (1.2.2)\n",
            "Requirement already satisfied: typing-extensions!=4.6.3,>=4.1.0 in /usr/local/lib/python3.10/site-packages (from cattrs>=22.2->requests_cache) (4.12.2)\n",
            "Requirement already satisfied: charset-normalizer<4,>=2 in /usr/local/lib/python3.10/site-packages (from requests>=2.22->requests_cache) (3.3.2)\n",
            "Requirement already satisfied: idna<4,>=2.5 in /usr/local/lib/python3.10/site-packages (from requests>=2.22->requests_cache) (3.6)\n",
            "Requirement already satisfied: certifi>=2017.4.17 in /usr/local/lib/python3.10/site-packages (from requests>=2.22->requests_cache) (2024.8.30)\n",
            "Requirement already satisfied: six in /usr/local/lib/python3.10/site-packages (from url-normalize>=1.4->requests_cache) (1.16.0)\n",
            "Downloading requests_cache-1.2.1-py3-none-any.whl (61 kB)\n",
            "\u001b[2K   \u001b[90m━━━━━━━━━━━━━━━━━━━━━━━━━━━━━━━━━━━━━━━━\u001b[0m \u001b[32m61.4/61.4 kB\u001b[0m \u001b[31m913.6 kB/s\u001b[0m eta \u001b[36m0:00:00\u001b[0m\n",
            "\u001b[?25hUsing cached attrs-24.2.0-py3-none-any.whl (63 kB)\n",
            "Downloading cattrs-24.1.1-py3-none-any.whl (66 kB)\n",
            "\u001b[2K   \u001b[90m━━━━━━━━━━━━━━━━━━━━━━━━━━━━━━━━━━━━━━━━\u001b[0m \u001b[32m66.4/66.4 kB\u001b[0m \u001b[31m2.6 MB/s\u001b[0m eta \u001b[36m0:00:00\u001b[0m\n",
            "\u001b[?25hDownloading url_normalize-1.4.3-py2.py3-none-any.whl (6.8 kB)\n",
            "Installing collected packages: url-normalize, attrs, cattrs, requests_cache\n",
            "Successfully installed attrs-24.2.0 cattrs-24.1.1 requests_cache-1.2.1 url-normalize-1.4.3\n"
          ]
        }
      ]
    },
    {
      "cell_type": "code",
      "source": [
        "from google.colab import output\n",
        "output.enable_custom_widget_manager()\n",
        "!jupyter nbextension enable --py widgetsnbextension"
      ],
      "metadata": {
        "id": "rPtSke9pXbb-",
        "outputId": "ae122161-e3c2-47ec-8e33-8c4f53e23561",
        "colab": {
          "base_uri": "https://localhost:8080/"
        }
      },
      "execution_count": 7,
      "outputs": [
        {
          "output_type": "stream",
          "name": "stdout",
          "text": [
            "Enabling notebook extension jupyter-js-widgets/extension...\n",
            "Paths used for configuration of notebook: \n",
            "    \t/root/.jupyter/nbconfig/notebook.json\n",
            "Paths used for configuration of notebook: \n",
            "    \t\n",
            "      - Validating: \u001b[32mOK\u001b[0m\n",
            "Paths used for configuration of notebook: \n",
            "    \t/root/.jupyter/nbconfig/notebook.json\n"
          ]
        }
      ]
    },
    {
      "cell_type": "code",
      "source": [],
      "metadata": {
        "id": "SZx95LmyXbgY"
      },
      "execution_count": null,
      "outputs": []
    },
    {
      "cell_type": "code",
      "execution_count": 8,
      "metadata": {
        "id": "wuc_uhqcWSsv"
      },
      "outputs": [],
      "source": [
        "import collections\n",
        "import logging\n",
        "import pathlib\n",
        "import time\n",
        "import warnings\n",
        "import datetime\n",
        "\n",
        "import pandas as pd\n",
        "import matplotlib.pyplot as plt\n",
        "from bs4 import BeautifulSoup\n",
        "import requests\n",
        "from tqdm.auto import tqdm\n",
        "import redo\n",
        "import requests_cache\n",
        "import nglview\n",
        "import pypdb\n",
        "import biotite.database.rcsb as rcsb\n",
        "from rdkit.Chem import Draw\n",
        "from rdkit.Chem import PandasTools\n",
        "\n",
        "from opencadd.structure.superposition.api import align, METHODS\n",
        "from opencadd.structure.core import Structure\n",
        "\n",
        "# Disable some unneeded warnings\n",
        "logger = logging.getLogger(\"opencadd\")\n",
        "logger.setLevel(logging.ERROR)\n",
        "warnings.filterwarnings(\"ignore\")\n",
        "\n",
        "# Cache requests -- this will speed up repeated queries to PDB\n",
        "requests_cache.install_cache(\"rcsb_pdb\", backend=\"memory\")"
      ]
    },
    {
      "cell_type": "code",
      "execution_count": 9,
      "metadata": {
        "id": "GHyCMbrPWSsw"
      },
      "outputs": [],
      "source": [
        "# Define paths\n",
        "HERE = pathlib.Path(_dh[-1])\n",
        "DATA = HERE / \"data\""
      ]
    },
    {
      "cell_type": "markdown",
      "metadata": {
        "id": "vGqt2FxnWSsw"
      },
      "source": [
        "### Select a query protein\n",
        "\n",
        "We use EGFR as query protein for this talktorial. The UniProt ID of EGFR is `P00533`, which will be used in the following to query the PDB database."
      ]
    },
    {
      "cell_type": "code",
      "execution_count": 10,
      "metadata": {
        "id": "AvqouW9jWSsw"
      },
      "outputs": [],
      "source": [
        "uniprot_id = \"P00533\""
      ]
    },
    {
      "cell_type": "markdown",
      "metadata": {
        "id": "tAyIxO3hWSsw"
      },
      "source": [
        "### Get the number of PDB entries for a query protein"
      ]
    },
    {
      "cell_type": "markdown",
      "metadata": {
        "id": "riexqpWWWSsw"
      },
      "source": [
        "How many structures are available in the PDB for EGFR (at the time this notebook was last run)?"
      ]
    },
    {
      "cell_type": "code",
      "execution_count": 11,
      "metadata": {
        "id": "SrdvN-KSWSsw",
        "outputId": "46a32631-62ce-45cf-9926-06f631a6c59a",
        "colab": {
          "base_uri": "https://localhost:8080/"
        }
      },
      "outputs": [
        {
          "output_type": "stream",
          "name": "stdout",
          "text": [
            "Number of structures on 2024-9-21: 321\n"
          ]
        }
      ],
      "source": [
        "query_by_uniprot_id = rcsb.FieldQuery(\n",
        "    \"rcsb_polymer_entity_container_identifiers.reference_sequence_identifiers.database_accession\",\n",
        "    exact_match=uniprot_id,\n",
        ")\n",
        "today = datetime.datetime.now()\n",
        "print(\n",
        "    f\"Number of structures on {today.year}-{today.month}-{today.day}: {rcsb.count(query_by_uniprot_id)}\"\n",
        ")"
      ]
    },
    {
      "cell_type": "markdown",
      "metadata": {
        "id": "cNQd9GH4WSsw"
      },
      "source": [
        "How many structures were available in every year since the [PDB was established in 1971](https://www.rcsb.org/pages/about-us/history)?"
      ]
    },
    {
      "cell_type": "code",
      "execution_count": 12,
      "metadata": {
        "id": "eJMR6mYzWSsw"
      },
      "outputs": [],
      "source": [
        "# Define lists for years and number of structures available in a given year\n",
        "years = range(1971, datetime.datetime.now().year)\n",
        "n_structures = []\n",
        "\n",
        "for year in years:\n",
        "    # Set latest date for allowed deposition\n",
        "    before_deposition_date = f\"{year}-12-31T23:59:59Z\"\n",
        "    # Set up query for structures deposited latest at given date\n",
        "    query_by_deposition_date = rcsb.FieldQuery(\n",
        "        \"rcsb_accession_info.deposit_date\", less_or_equal=before_deposition_date\n",
        "    )\n",
        "    # Set up combined query\n",
        "    query = rcsb.CompositeQuery(\n",
        "        [query_by_uniprot_id, query_by_deposition_date],\n",
        "        \"and\",\n",
        "    )\n",
        "    # Count matching structures and add to list\n",
        "    n_structures.append(rcsb.count(query))\n",
        "    # wait shortly to not overload the API\n",
        "    time.sleep(0.1)"
      ]
    },
    {
      "cell_type": "markdown",
      "metadata": {
        "id": "aC0qyxI6WSsw"
      },
      "source": [
        "Plot the results!"
      ]
    },
    {
      "cell_type": "code",
      "execution_count": 13,
      "metadata": {
        "id": "1uaO6gSJWSsx",
        "outputId": "c8a0a4d2-99b2-41a4-864d-36b463bac3c6",
        "colab": {
          "base_uri": "https://localhost:8080/",
          "height": 472
        }
      },
      "outputs": [
        {
          "output_type": "display_data",
          "data": {
            "text/plain": [
              "<Figure size 640x480 with 1 Axes>"
            ],
            "image/png": "[encoded data removed]"
          },
          "metadata": {}
        }
      ],
      "source": [
        "plt.plot(years, n_structures)\n",
        "plt.title(\"PDB entries for EGFR\")\n",
        "plt.xlabel(\"Year\")\n",
        "plt.ylabel(\"Number of structures available in a given year\");"
      ]
    },
    {
      "cell_type": "markdown",
      "metadata": {
        "id": "Qs5G-VurWSsx"
      },
      "source": [
        "### Find PDB entries fullfilling certain conditions\n",
        "\n",
        "We will search for PDB IDs describing structures in the PDB that fulfill the following criteria:\n",
        "\n",
        "- **Structures for UniProt ID P00533**: This is our target of interest, EGFR!\n",
        "- **Structures deposited before 2020**: This step is for TeachOpenCADD-internal maintanence purposes. We will only consider structures that were deposited before 2020. That way the results of this notebook will stay the same over time, allowing us to check with our continuous integration (CI) that this notebook does not go out of service.\n",
        "- **Structure resolved by X-ray crystallography**: We could include all methods but let's check out the API on how we can select experimental methods.\n",
        "- **Structure has a resolution less than or equal to 3.0**: The lower the resolution value, the higher is the quality of the structure, i.e. the certainty that the assigned 3D coordinates of the atoms are correct. Atomic orientations can be determined below 3 Å. Thus, this threshold is often used for structures relevant for structure-based drug design.\n",
        "- **Structure has only one chain**: We do this to make our lives easier lateron.\n",
        "- **Structure has a ligand with molecular weight greater than 100.0 Da**: PDB-annotated ligands can be ligands, but also solvents and ions. In order to filter only ligand-bound structures, we keep only structures with annotated ligand of a at least 100.0 Da (many solvents and ions weight less). Note: this is a simple, but not comprehensive exclusion of solvents and ions."
      ]
    },
    {
      "cell_type": "markdown",
      "metadata": {
        "id": "0oMQqf55WSsx"
      },
      "source": [
        "We make use of the `biotite` package again to query for PDB IDs based on the following combined queries:\n",
        "\n",
        "| Field | Operator | Value |\n",
        "|-|-|-|\n",
        "| `rcsb_polymer_entity_container_identifiers.reference_sequence_identifiers.database_accession` | `exact_match` | P00533 |\n",
        "| `rcsb_accession_info.deposit_date` | `less` | 2020-01-01 |\n",
        "| `exptl.method` | `exact_match` | X-RAY DIFFRACTION |\n",
        "| `rcsb_entry_info.resolution_combined` | `less_or_equal` | $3.0$ |\n",
        "| `rcsb_entry_info.deposited_polymer_entity_instance_count` | `equals` | $1$ |\n",
        "| `chem_comp.formula_weight` | `greater` | $100.0$ |"
      ]
    },
    {
      "cell_type": "markdown",
      "metadata": {
        "id": "_0rN1_qvWSsx"
      },
      "source": [
        "We define our criteria."
      ]
    },
    {
      "cell_type": "code",
      "execution_count": 14,
      "metadata": {
        "id": "GCC04mT0WSsx"
      },
      "outputs": [],
      "source": [
        "uniprot_id = \"P00533\"\n",
        "before_deposition_date = \"2020-01-01T00:00:00Z\"\n",
        "experimental_method = \"X-RAY DIFFRACTION\"\n",
        "max_resolution = 3.0\n",
        "n_chains = 1\n",
        "min_ligand_molecular_weight = 100.0"
      ]
    },
    {
      "cell_type": "markdown",
      "metadata": {
        "id": "1quLCGXTWSsx"
      },
      "source": [
        "We set up each query."
      ]
    },
    {
      "cell_type": "code",
      "execution_count": 15,
      "metadata": {
        "id": "T-mRQZAYWSsx"
      },
      "outputs": [],
      "source": [
        "query_by_uniprot_id = rcsb.FieldQuery(\n",
        "    \"rcsb_polymer_entity_container_identifiers.reference_sequence_identifiers.database_accession\",\n",
        "    exact_match=uniprot_id,\n",
        ")\n",
        "query_by_deposition_date = rcsb.FieldQuery(\n",
        "    \"rcsb_accession_info.deposit_date\", less=before_deposition_date\n",
        ")\n",
        "query_by_experimental_method = rcsb.FieldQuery(\"exptl.method\", exact_match=experimental_method)\n",
        "query_by_resolution = rcsb.FieldQuery(\n",
        "    \"rcsb_entry_info.resolution_combined\", less_or_equal=max_resolution\n",
        ")\n",
        "query_by_polymer_count = rcsb.FieldQuery(\n",
        "    \"rcsb_entry_info.deposited_polymer_entity_instance_count\", equals=n_chains\n",
        ")\n",
        "query_by_ligand_mw = rcsb.FieldQuery(\n",
        "    \"chem_comp.formula_weight\", molecular_definition=True, greater=min_ligand_molecular_weight\n",
        ")"
      ]
    },
    {
      "cell_type": "markdown",
      "metadata": {
        "id": "V9sQ6p8JWSsx"
      },
      "source": [
        "We perform each of the queries alone and check the number of matches per condition."
      ]
    },
    {
      "cell_type": "code",
      "execution_count": 16,
      "metadata": {
        "id": "qlBHhRilWSsx",
        "outputId": "0dc1ce11-bdf2-43e4-f5c6-d70a997ea388",
        "colab": {
          "base_uri": "https://localhost:8080/"
        }
      },
      "outputs": [
        {
          "output_type": "stream",
          "name": "stdout",
          "text": [
            "Number of structures with UniProt ID P00533: 321\n",
            "Number of structures deposited before 2020-01-01T00:00:00Z: 166244\n",
            "Number of structures resolved by X-RAY DIFFRACTION: 187999\n",
            "Number of structures with resolution less than or equal to 3.0: 182207\n",
            "Number of structures with only 1 chain: 79777\n",
            "Number of structures with ligand of more than or equal to 100.0 Da: 225157\n"
          ]
        }
      ],
      "source": [
        "print(f\"Number of structures with UniProt ID {uniprot_id}: {rcsb.count(query_by_uniprot_id)}\")\n",
        "time.sleep(0.1)  # wait shortly to not overload the API\n",
        "print(\n",
        "    f\"Number of structures deposited before {before_deposition_date}: {rcsb.count(query_by_deposition_date)}\"\n",
        ")\n",
        "time.sleep(0.1)\n",
        "print(\n",
        "    f\"Number of structures resolved by {experimental_method}: {rcsb.count(query_by_experimental_method)}\"\n",
        ")\n",
        "time.sleep(0.1)\n",
        "print(\n",
        "    f\"Number of structures with resolution less than or equal to {max_resolution}: {rcsb.count(query_by_resolution)}\"\n",
        ")\n",
        "time.sleep(0.1)\n",
        "print(f\"Number of structures with only {n_chains} chain: {rcsb.count(query_by_polymer_count)}\")\n",
        "time.sleep(0.1)\n",
        "print(\n",
        "    f\"Number of structures with ligand of more than or equal to {min_ligand_molecular_weight} Da: {rcsb.count(query_by_ligand_mw)}\"\n",
        ")"
      ]
    },
    {
      "cell_type": "markdown",
      "metadata": {
        "id": "T-D6-6jvWSsx"
      },
      "source": [
        "We combine all queries with the `and` operator to match only PDB IDs that fulfill all the conditions."
      ]
    },
    {
      "cell_type": "code",
      "execution_count": 17,
      "metadata": {
        "id": "EOrgR0yfWSsx",
        "outputId": "6cffea92-0dbb-4619-de66-2ae4e5fed7ff",
        "colab": {
          "base_uri": "https://localhost:8080/"
        }
      },
      "outputs": [
        {
          "output_type": "stream",
          "name": "stdout",
          "text": [
            "Number of matches: 110\n",
            "Selected PDB IDs:\n",
            "1M14 1M17 1XKK 2EB2 2EB3 2GS2 2ITN 2ITP 2ITQ 2ITT 2ITU 2ITV 2ITW 2ITX 2ITZ 2J5F 2RGP 3BEL 3GOP 3POZ 3UG1 3UG2 3VJN 3VJO 3W2O 3W2P 3W2Q 3W2R 3W2S 3W32 3W33 4G5J 4HJO 4I1Z 4I22 4I23 4JQ7 4JQ8 4JR3 4JRV 4LI5 4LQM 4RJ4 4RJ6 4RJ7 4RJ8 4WKQ 4WRG 4ZAU 5C8K 5C8M 5C8N 5CAL 5CAN 5CAO 5CAP 5CAQ 5CAS 5CAU 5CAV 5EDP 5EDQ 5EDR 5EM5 5EM6 5EM7 5EM8 5FED 5FEE 5GMP 5GNK 5GTZ 5HCX 5HCY 5HCZ 5HG5 5HG7 5HG8 5HG9 5HIB 5HIC 5J9Y 5J9Z 5U8L 5UG8 5UG9 5UGA 5UGB 5UGC 5X26 5X27 5X28 5XDK 5XDL 5XGM 5ZTO 5ZWJ 6D8E 6JRJ 6JRK 6JRX 6JWL 6JX0 6JX4 6JXT 6JZ0 6S89 6S8A 6S9C 6S9D\n"
          ]
        }
      ],
      "source": [
        "query = rcsb.CompositeQuery(\n",
        "    [\n",
        "        query_by_uniprot_id,\n",
        "        query_by_deposition_date,\n",
        "        query_by_experimental_method,\n",
        "        query_by_resolution,\n",
        "        query_by_polymer_count,\n",
        "        query_by_ligand_mw,\n",
        "    ],\n",
        "    \"and\",\n",
        ")\n",
        "pdb_ids = rcsb.search(query)\n",
        "print(f\"Number of matches: {len(pdb_ids)}\")\n",
        "print(\"Selected PDB IDs:\")\n",
        "print(*pdb_ids)"
      ]
    },
    {
      "cell_type": "markdown",
      "metadata": {
        "id": "_CFgL1CrWSsy"
      },
      "source": [
        "### Select PDB entries with the hightest resolution"
      ]
    },
    {
      "cell_type": "markdown",
      "metadata": {
        "id": "TT2FYjlRWSsy"
      },
      "source": [
        "So far we have used certain search criteria to find PDB entries of interest.\n",
        "\n",
        "At the moment, we cannot access the structures' resolution directly via `biotite`; with `biotite` we can only check if the resolution fullfils a certain condition. Instead we download the full metadata for our selected PDB IDs. To this end, we use from the `pypdb` package the method `describe_pdb`. Each structure's metadata is returned as a dictionary.\n",
        "\n",
        "Note: we only fetch meta information on PDB structures here, we do not fetch the structures (3D coordinates), yet.\n",
        "\n",
        "> The `redo.retriable` line is a _decorator_. This wraps the function and provides extra functionality. In this case, it will retry failed queries automatically (10 times maximum)."
      ]
    },
    {
      "cell_type": "code",
      "execution_count": 18,
      "metadata": {
        "scrolled": true,
        "id": "4MEISYRaWSsy"
      },
      "outputs": [],
      "source": [
        "@redo.retriable(attempts=10, sleeptime=2)\n",
        "def describe_one_pdb_id(pdb_id):\n",
        "    \"\"\"Fetch meta information from PDB.\"\"\"\n",
        "    described = pypdb.describe_pdb(pdb_id)\n",
        "    if described is None:\n",
        "        print(f\"! Error while fetching {pdb_id}, retrying ...\")\n",
        "        raise ValueError(f\"Could not fetch PDB id {pdb_id}\")\n",
        "    return described"
      ]
    },
    {
      "cell_type": "code",
      "execution_count": 19,
      "metadata": {
        "tags": [],
        "id": "RJMJZCnUWSsy",
        "outputId": "7bc4ad04-e52b-46c2-cc95-83d2fa884b86",
        "colab": {
          "base_uri": "https://localhost:8080/",
          "height": 17,
          "referenced_widgets": [
            "e69fab53d6be45889e1ce9b3377c6fe1",
            "9a616ae7aed048f3b23468cadc925e91",
            "5332e0228a9b46168153df14ecc4f737",
            "fbfd9d24fab04965857981b741bc0066",
            "0cf32ba20de04b50a042f55e201703ec",
            "52bb11b34f0e45e6867f132a4510be1e",
            "fd6c386d396b4dd58de4f223b1b3d65b",
            "032c3d3a3fdf468484502e3ac9f38650",
            "7e1b8309a86a498d81a6ecf486cfa589",
            "313b17c32a9d4149a93958d9aaae19da",
            "294bb722f6c14885ac88d91296ec4e78"
          ]
        }
      },
      "outputs": [
        {
          "output_type": "display_data",
          "data": {
            "text/plain": [
              "  0%|          | 0/110 [00:00<?, ?it/s]"
            ],
            "application/vnd.jupyter.widget-view+json": {
              "version_major": 2,
              "version_minor": 0,
              "model_id": "e69fab53d6be45889e1ce9b3377c6fe1"
            }
          },
          "metadata": {
            "application/vnd.jupyter.widget-view+json": {
              "colab": {
                "custom_widget_manager": {
                  "url": "https://ssl.gstatic.com/colaboratory-static/widgets/colab-cdn-widget-manager/2b70e893a8ba7c0f/manager.min.js"
                }
              }
            }
          }
        }
      ],
      "source": [
        "pdbs_data = [describe_one_pdb_id(pdb_id) for pdb_id in tqdm(pdb_ids)]"
      ]
    },
    {
      "cell_type": "markdown",
      "metadata": {
        "id": "jQ3gg91dWSsy"
      },
      "source": [
        "Let's take a look at the metadata of the first PDB IDs (keys only because the dictionary contains a lot of information, which we do not want to print here). Find more more information about the PDB metadata in the [Beginner's Guide to PDB Structures and the PDBx/mmCIF Format](https://pdb101.rcsb.org/learn/guide-to-understanding-pdb-data/beginner%E2%80%99s-guide-to-pdb-structures-and-the-pdbx-mmcif-format)."
      ]
    },
    {
      "cell_type": "code",
      "execution_count": 20,
      "metadata": {
        "id": "q53WDurmWSsy",
        "outputId": "8e83280d-644d-467c-c54c-d688e83b3da3",
        "colab": {
          "base_uri": "https://localhost:8080/"
        }
      },
      "outputs": [
        {
          "output_type": "stream",
          "name": "stdout",
          "text": [
            "audit_author\n",
            "cell\n",
            "citation\n",
            "diffrn\n",
            "diffrn_detector\n",
            "diffrn_radiation\n",
            "diffrn_source\n",
            "entry\n",
            "exptl\n",
            "exptl_crystal\n",
            "exptl_crystal_grow\n",
            "pdbx_audit_revision_category\n",
            "pdbx_audit_revision_details\n",
            "pdbx_audit_revision_group\n",
            "pdbx_audit_revision_history\n",
            "pdbx_audit_revision_item\n",
            "pdbx_database_related\n",
            "pdbx_database_status\n",
            "pdbx_initial_refinement_model\n",
            "rcsb_accession_info\n",
            "rcsb_entry_container_identifiers\n",
            "rcsb_entry_info\n",
            "rcsb_primary_citation\n",
            "refine\n",
            "refine_analyze\n",
            "refine_hist\n",
            "refine_ls_restr\n",
            "reflns\n",
            "reflns_shell\n",
            "software\n",
            "struct\n",
            "struct_keywords\n",
            "symmetry\n",
            "rcsb_id\n"
          ]
        }
      ],
      "source": [
        "print(\"\\n\".join(pdbs_data[0].keys()))"
      ]
    },
    {
      "cell_type": "markdown",
      "metadata": {
        "id": "ioIGjr0rWSsy"
      },
      "source": [
        "Let's take a closer look at two keys that will be of interest to us: The `\"entry\"` key which contains the PDB ID (`\"id\"`) and the `\"rcsb_entry_info\"` key which contains amongst others the structure's resolution (`\"resolution_combined\"`)."
      ]
    },
    {
      "cell_type": "code",
      "execution_count": 21,
      "metadata": {
        "id": "aZ4TmdggWSsz",
        "outputId": "bc0c96e0-31f5-41c8-9d9d-673a7a2332d3",
        "colab": {
          "base_uri": "https://localhost:8080/"
        }
      },
      "outputs": [
        {
          "output_type": "execute_result",
          "data": {
            "text/plain": [
              "{'id': '1M14'}"
            ]
          },
          "metadata": {},
          "execution_count": 21
        }
      ],
      "source": [
        "pdbs_data[0][\"entry\"]"
      ]
    },
    {
      "cell_type": "code",
      "execution_count": 22,
      "metadata": {
        "id": "IyzAbwrTWSsz",
        "outputId": "b000bcd6-e00c-4f3f-ada3-c73bf137c916",
        "colab": {
          "base_uri": "https://localhost:8080/"
        }
      },
      "outputs": [
        {
          "output_type": "execute_result",
          "data": {
            "text/plain": [
              "{'assembly_count': 1,\n",
              " 'branched_entity_count': 0,\n",
              " 'cis_peptide_count': 0,\n",
              " 'deposited_atom_count': 2469,\n",
              " 'deposited_deuterated_water_count': 0,\n",
              " 'deposited_hydrogen_atom_count': 0,\n",
              " 'deposited_model_count': 1,\n",
              " 'deposited_modeled_polymer_monomer_count': 307,\n",
              " 'deposited_nonpolymer_entity_instance_count': 0,\n",
              " 'deposited_polymer_entity_instance_count': 1,\n",
              " 'deposited_polymer_monomer_count': 333,\n",
              " 'deposited_solvent_atom_count': 17,\n",
              " 'deposited_unmodeled_polymer_monomer_count': 26,\n",
              " 'diffrn_radiation_wavelength_maximum': 1.008,\n",
              " 'diffrn_radiation_wavelength_minimum': 1.008,\n",
              " 'disulfide_bond_count': 0,\n",
              " 'entity_count': 2,\n",
              " 'experimental_method': 'X-ray',\n",
              " 'experimental_method_count': 1,\n",
              " 'inter_mol_covalent_bond_count': 0,\n",
              " 'inter_mol_metalic_bond_count': 0,\n",
              " 'molecular_weight': 37.88,\n",
              " 'na_polymer_entity_types': 'Other',\n",
              " 'nonpolymer_entity_count': 0,\n",
              " 'polymer_composition': 'homomeric protein',\n",
              " 'polymer_entity_count': 1,\n",
              " 'polymer_entity_count_dna': 0,\n",
              " 'polymer_entity_count_rna': 0,\n",
              " 'polymer_entity_count_nucleic_acid': 0,\n",
              " 'polymer_entity_count_nucleic_acid_hybrid': 0,\n",
              " 'polymer_entity_count_protein': 1,\n",
              " 'polymer_entity_taxonomy_count': 1,\n",
              " 'polymer_molecular_weight_maximum': 37.88,\n",
              " 'polymer_molecular_weight_minimum': 37.88,\n",
              " 'polymer_monomer_count_maximum': 333,\n",
              " 'polymer_monomer_count_minimum': 333,\n",
              " 'resolution_combined': [2.6],\n",
              " 'selected_polymer_entity_types': 'Protein (only)',\n",
              " 'software_programs_combined': ['AMORE',\n",
              "  'CCP4',\n",
              "  'HKL-2000',\n",
              "  'TRUNCATE',\n",
              "  'X-PLOR'],\n",
              " 'solvent_entity_count': 1,\n",
              " 'structure_determination_methodology': 'experimental',\n",
              " 'structure_determination_methodology_priority': 10,\n",
              " 'diffrn_resolution_high': {'provenance_source': 'Depositor assigned',\n",
              "  'value': 2.6}}"
            ]
          },
          "metadata": {},
          "execution_count": 22
        }
      ],
      "source": [
        "pdbs_data[0][\"rcsb_entry_info\"]"
      ]
    },
    {
      "cell_type": "markdown",
      "metadata": {
        "id": "kIXLxtZoWSsz"
      },
      "source": [
        "Now we save the resolution per PDB ID as `pandas` DataFrame, sorted by the resolution in ascending order."
      ]
    },
    {
      "cell_type": "code",
      "execution_count": 23,
      "metadata": {
        "id": "I-W2rYeyWSsz",
        "outputId": "fd3cd07c-a220-40fa-b2ea-0bcf219298d3",
        "colab": {
          "base_uri": "https://localhost:8080/",
          "height": 424
        }
      },
      "outputs": [
        {
          "output_type": "execute_result",
          "data": {
            "text/plain": [
              "    pdb_id  resolution\n",
              "0     5UG9       1.330\n",
              "1     5HG8       1.420\n",
              "2     5UG8       1.460\n",
              "3     3POZ       1.500\n",
              "4     5HG5       1.520\n",
              "..     ...         ...\n",
              "105   2ITX       2.980\n",
              "106   5GTZ       2.999\n",
              "107   2J5F       3.000\n",
              "108   4I1Z       3.000\n",
              "109   5C8K       3.000\n",
              "\n",
              "[110 rows x 2 columns]"
            ],
            "text/html": [
              "\n",
              "  <div id=\"df-582954ab-c560-4191-999c-21e9d16d0b03\" class=\"colab-df-container\">\n",
              "    <div>\n",
              "<style scoped>\n",
              "    .dataframe tbody tr th:only-of-type {\n",
              "        vertical-align: middle;\n",
              "    }\n",
              "\n",
              "    .dataframe tbody tr th {\n",
              "        vertical-align: top;\n",
              "    }\n",
              "\n",
              "    .dataframe thead th {\n",
              "        text-align: right;\n",
              "    }\n",
              "</style>\n",
              "<table border=\"1\" class=\"dataframe\">\n",
              "  <thead>\n",
              "    <tr style=\"text-align: right;\">\n",
              "      <th></th>\n",
              "      <th>pdb_id</th>\n",
              "      <th>resolution</th>\n",
              "    </tr>\n",
              "  </thead>\n",
              "  <tbody>\n",
              "    <tr>\n",
              "      <th>0</th>\n",
              "      <td>5UG9</td>\n",
              "      <td>1.330</td>\n",
              "    </tr>\n",
              "    <tr>\n",
              "      <th>1</th>\n",
              "      <td>5HG8</td>\n",
              "      <td>1.420</td>\n",
              "    </tr>\n",
              "    <tr>\n",
              "      <th>2</th>\n",
              "      <td>5UG8</td>\n",
              "      <td>1.460</td>\n",
              "    </tr>\n",
              "    <tr>\n",
              "      <th>3</th>\n",
              "      <td>3POZ</td>\n",
              "      <td>1.500</td>\n",
              "    </tr>\n",
              "    <tr>\n",
              "      <th>4</th>\n",
              "      <td>5HG5</td>\n",
              "      <td>1.520</td>\n",
              "    </tr>\n",
              "    <tr>\n",
              "      <th>...</th>\n",
              "      <td>...</td>\n",
              "      <td>...</td>\n",
              "    </tr>\n",
              "    <tr>\n",
              "      <th>105</th>\n",
              "      <td>2ITX</td>\n",
              "      <td>2.980</td>\n",
              "    </tr>\n",
              "    <tr>\n",
              "      <th>106</th>\n",
              "      <td>5GTZ</td>\n",
              "      <td>2.999</td>\n",
              "    </tr>\n",
              "    <tr>\n",
              "      <th>107</th>\n",
              "      <td>2J5F</td>\n",
              "      <td>3.000</td>\n",
              "    </tr>\n",
              "    <tr>\n",
              "      <th>108</th>\n",
              "      <td>4I1Z</td>\n",
              "      <td>3.000</td>\n",
              "    </tr>\n",
              "    <tr>\n",
              "      <th>109</th>\n",
              "      <td>5C8K</td>\n",
              "      <td>3.000</td>\n",
              "    </tr>\n",
              "  </tbody>\n",
              "</table>\n",
              "<p>110 rows × 2 columns</p>\n",
              "</div>\n",
              "    <div class=\"colab-df-buttons\">\n",
              "\n",
              "  <div class=\"colab-df-container\">\n",
              "    <button class=\"colab-df-convert\" onclick=\"convertToInteractive('df-582954ab-c560-4191-999c-21e9d16d0b03')\"\n",
              "            title=\"Convert this dataframe to an interactive table.\"\n",
              "            style=\"display:none;\">\n",
              "\n",
              "  <svg xmlns=\"http://www.w3.org/2000/svg\" height=\"24px\" viewBox=\"0 -960 960 960\">\n",
              "    <path d=\"M120-120v-720h720v720H120Zm60-500h600v-160H180v160Zm220 220h160v-160H400v160Zm0 220h160v-160H400v160ZM180-400h160v-160H180v160Zm440 0h160v-160H620v160ZM180-180h160v-160H180v160Zm440 0h160v-160H620v160Z\"/>\n",
              "  </svg>\n",
              "    </button>\n",
              "\n",
              "  <style>\n",
              "    .colab-df-container {\n",
              "      display:flex;\n",
              "      gap: 12px;\n",
              "    }\n",
              "\n",
              "    .colab-df-convert {\n",
              "      background-color: #E8F0FE;\n",
              "      border: none;\n",
              "      border-radius: 50%;\n",
              "      cursor: pointer;\n",
              "      display: none;\n",
              "      fill: #1967D2;\n",
              "      height: 32px;\n",
              "      padding: 0 0 0 0;\n",
              "      width: 32px;\n",
              "    }\n",
              "\n",
              "    .colab-df-convert:hover {\n",
              "      background-color: #E2EBFA;\n",
              "      box-shadow: 0px 1px 2px rgba(60, 64, 67, 0.3), 0px 1px 3px 1px rgba(60, 64, 67, 0.15);\n",
              "      fill: #174EA6;\n",
              "    }\n",
              "\n",
              "    .colab-df-buttons div {\n",
              "      margin-bottom: 4px;\n",
              "    }\n",
              "\n",
              "    [theme=dark] .colab-df-convert {\n",
              "      background-color: #3B4455;\n",
              "      fill: #D2E3FC;\n",
              "    }\n",
              "\n",
              "    [theme=dark] .colab-df-convert:hover {\n",
              "      background-color: #434B5C;\n",
              "      box-shadow: 0px 1px 3px 1px rgba(0, 0, 0, 0.15);\n",
              "      filter: drop-shadow(0px 1px 2px rgba(0, 0, 0, 0.3));\n",
              "      fill: #FFFFFF;\n",
              "    }\n",
              "  </style>\n",
              "\n",
              "    <script>\n",
              "      const buttonEl =\n",
              "        document.querySelector('#df-582954ab-c560-4191-999c-21e9d16d0b03 button.colab-df-convert');\n",
              "      buttonEl.style.display =\n",
              "        google.colab.kernel.accessAllowed ? 'block' : 'none';\n",
              "\n",
              "      async function convertToInteractive(key) {\n",
              "        const element = document.querySelector('#df-582954ab-c560-4191-999c-21e9d16d0b03');\n",
              "        const dataTable =\n",
              "          await google.colab.kernel.invokeFunction('convertToInteractive',\n",
              "                                                    [key], {});\n",
              "        if (!dataTable) return;\n",
              "\n",
              "        const docLinkHtml = 'Like what you see? Visit the ' +\n",
              "          '<a target=\"_blank\" href=https://colab.research.google.com/notebooks/data_table.ipynb>data table notebook</a>'\n",
              "          + ' to learn more about interactive tables.';\n",
              "        element.innerHTML = '';\n",
              "        dataTable['output_type'] = 'display_data';\n",
              "        await google.colab.output.renderOutput(dataTable, element);\n",
              "        const docLink = document.createElement('div');\n",
              "        docLink.innerHTML = docLinkHtml;\n",
              "        element.appendChild(docLink);\n",
              "      }\n",
              "    </script>\n",
              "  </div>\n",
              "\n",
              "\n",
              "<div id=\"df-34af1f0f-4fad-4f9d-b180-19e846f7fe1a\">\n",
              "  <button class=\"colab-df-quickchart\" onclick=\"quickchart('df-34af1f0f-4fad-4f9d-b180-19e846f7fe1a')\"\n",
              "            title=\"Suggest charts\"\n",
              "            style=\"display:none;\">\n",
              "\n",
              "<svg xmlns=\"http://www.w3.org/2000/svg\" height=\"24px\"viewBox=\"0 0 24 24\"\n",
              "     width=\"24px\">\n",
              "    <g>\n",
              "        <path d=\"M19 3H5c-1.1 0-2 .9-2 2v14c0 1.1.9 2 2 2h14c1.1 0 2-.9 2-2V5c0-1.1-.9-2-2-2zM9 17H7v-7h2v7zm4 0h-2V7h2v10zm4 0h-2v-4h2v4z\"/>\n",
              "    </g>\n",
              "</svg>\n",
              "  </button>\n",
              "\n",
              "<style>\n",
              "  .colab-df-quickchart {\n",
              "      --bg-color: #E8F0FE;\n",
              "      --fill-color: #1967D2;\n",
              "      --hover-bg-color: #E2EBFA;\n",
              "      --hover-fill-color: #174EA6;\n",
              "      --disabled-fill-color: #AAA;\n",
              "      --disabled-bg-color: #DDD;\n",
              "  }\n",
              "\n",
              "  [theme=dark] .colab-df-quickchart {\n",
              "      --bg-color: #3B4455;\n",
              "      --fill-color: #D2E3FC;\n",
              "      --hover-bg-color: #434B5C;\n",
              "      --hover-fill-color: #FFFFFF;\n",
              "      --disabled-bg-color: #3B4455;\n",
              "      --disabled-fill-color: #666;\n",
              "  }\n",
              "\n",
              "  .colab-df-quickchart {\n",
              "    background-color: var(--bg-color);\n",
              "    border: none;\n",
              "    border-radius: 50%;\n",
              "    cursor: pointer;\n",
              "    display: none;\n",
              "    fill: var(--fill-color);\n",
              "    height: 32px;\n",
              "    padding: 0;\n",
              "    width: 32px;\n",
              "  }\n",
              "\n",
              "  .colab-df-quickchart:hover {\n",
              "    background-color: var(--hover-bg-color);\n",
              "    box-shadow: 0 1px 2px rgba(60, 64, 67, 0.3), 0 1px 3px 1px rgba(60, 64, 67, 0.15);\n",
              "    fill: var(--button-hover-fill-color);\n",
              "  }\n",
              "\n",
              "  .colab-df-quickchart-complete:disabled,\n",
              "  .colab-df-quickchart-complete:disabled:hover {\n",
              "    background-color: var(--disabled-bg-color);\n",
              "    fill: var(--disabled-fill-color);\n",
              "    box-shadow: none;\n",
              "  }\n",
              "\n",
              "  .colab-df-spinner {\n",
              "    border: 2px solid var(--fill-color);\n",
              "    border-color: transparent;\n",
              "    border-bottom-color: var(--fill-color);\n",
              "    animation:\n",
              "      spin 1s steps(1) infinite;\n",
              "  }\n",
              "\n",
              "  @keyframes spin {\n",
              "    0% {\n",
              "      border-color: transparent;\n",
              "      border-bottom-color: var(--fill-color);\n",
              "      border-left-color: var(--fill-color);\n",
              "    }\n",
              "    20% {\n",
              "      border-color: transparent;\n",
              "      border-left-color: var(--fill-color);\n",
              "      border-top-color: var(--fill-color);\n",
              "    }\n",
              "    30% {\n",
              "      border-color: transparent;\n",
              "      border-left-color: var(--fill-color);\n",
              "      border-top-color: var(--fill-color);\n",
              "      border-right-color: var(--fill-color);\n",
              "    }\n",
              "    40% {\n",
              "      border-color: transparent;\n",
              "      border-right-color: var(--fill-color);\n",
              "      border-top-color: var(--fill-color);\n",
              "    }\n",
              "    60% {\n",
              "      border-color: transparent;\n",
              "      border-right-color: var(--fill-color);\n",
              "    }\n",
              "    80% {\n",
              "      border-color: transparent;\n",
              "      border-right-color: var(--fill-color);\n",
              "      border-bottom-color: var(--fill-color);\n",
              "    }\n",
              "    90% {\n",
              "      border-color: transparent;\n",
              "      border-bottom-color: var(--fill-color);\n",
              "    }\n",
              "  }\n",
              "</style>\n",
              "\n",
              "  <script>\n",
              "    async function quickchart(key) {\n",
              "      const quickchartButtonEl =\n",
              "        document.querySelector('#' + key + ' button');\n",
              "      quickchartButtonEl.disabled = true;  // To prevent multiple clicks.\n",
              "      quickchartButtonEl.classList.add('colab-df-spinner');\n",
              "      try {\n",
              "        const charts = await google.colab.kernel.invokeFunction(\n",
              "            'suggestCharts', [key], {});\n",
              "      } catch (error) {\n",
              "        console.error('Error during call to suggestCharts:', error);\n",
              "      }\n",
              "      quickchartButtonEl.classList.remove('colab-df-spinner');\n",
              "      quickchartButtonEl.classList.add('colab-df-quickchart-complete');\n",
              "    }\n",
              "    (() => {\n",
              "      let quickchartButtonEl =\n",
              "        document.querySelector('#df-34af1f0f-4fad-4f9d-b180-19e846f7fe1a button');\n",
              "      quickchartButtonEl.style.display =\n",
              "        google.colab.kernel.accessAllowed ? 'block' : 'none';\n",
              "    })();\n",
              "  </script>\n",
              "</div>\n",
              "\n",
              "  <div id=\"id_dcd73776-16de-4ac9-9b2c-a266e7662a48\">\n",
              "    <style>\n",
              "      .colab-df-generate {\n",
              "        background-color: #E8F0FE;\n",
              "        border: none;\n",
              "        border-radius: 50%;\n",
              "        cursor: pointer;\n",
              "        display: none;\n",
              "        fill: #1967D2;\n",
              "        height: 32px;\n",
              "        padding: 0 0 0 0;\n",
              "        width: 32px;\n",
              "      }\n",
              "\n",
              "      .colab-df-generate:hover {\n",
              "        background-color: #E2EBFA;\n",
              "        box-shadow: 0px 1px 2px rgba(60, 64, 67, 0.3), 0px 1px 3px 1px rgba(60, 64, 67, 0.15);\n",
              "        fill: #174EA6;\n",
              "      }\n",
              "\n",
              "      [theme=dark] .colab-df-generate {\n",
              "        background-color: #3B4455;\n",
              "        fill: #D2E3FC;\n",
              "      }\n",
              "\n",
              "      [theme=dark] .colab-df-generate:hover {\n",
              "        background-color: #434B5C;\n",
              "        box-shadow: 0px 1px 3px 1px rgba(0, 0, 0, 0.15);\n",
              "        filter: drop-shadow(0px 1px 2px rgba(0, 0, 0, 0.3));\n",
              "        fill: #FFFFFF;\n",
              "      }\n",
              "    </style>\n",
              "    <button class=\"colab-df-generate\" onclick=\"generateWithVariable('resolution')\"\n",
              "            title=\"Generate code using this dataframe.\"\n",
              "            style=\"display:none;\">\n",
              "\n",
              "  <svg xmlns=\"http://www.w3.org/2000/svg\" height=\"24px\"viewBox=\"0 0 24 24\"\n",
              "       width=\"24px\">\n",
              "    <path d=\"M7,19H8.4L18.45,9,17,7.55,7,17.6ZM5,21V16.75L18.45,3.32a2,2,0,0,1,2.83,0l1.4,1.43a1.91,1.91,0,0,1,.58,1.4,1.91,1.91,0,0,1-.58,1.4L9.25,21ZM18.45,9,17,7.55Zm-12,3A5.31,5.31,0,0,0,4.9,8.1,5.31,5.31,0,0,0,1,6.5,5.31,5.31,0,0,0,4.9,4.9,5.31,5.31,0,0,0,6.5,1,5.31,5.31,0,0,0,8.1,4.9,5.31,5.31,0,0,0,12,6.5,5.46,5.46,0,0,0,6.5,12Z\"/>\n",
              "  </svg>\n",
              "    </button>\n",
              "    <script>\n",
              "      (() => {\n",
              "      const buttonEl =\n",
              "        document.querySelector('#id_dcd73776-16de-4ac9-9b2c-a266e7662a48 button.colab-df-generate');\n",
              "      buttonEl.style.display =\n",
              "        google.colab.kernel.accessAllowed ? 'block' : 'none';\n",
              "\n",
              "      buttonEl.onclick = () => {\n",
              "        google.colab.notebook.generateWithVariable('resolution');\n",
              "      }\n",
              "      })();\n",
              "    </script>\n",
              "  </div>\n",
              "\n",
              "    </div>\n",
              "  </div>\n"
            ],
            "application/vnd.google.colaboratory.intrinsic+json": {
              "type": "dataframe",
              "variable_name": "resolution",
              "summary": "{\n  \"name\": \"resolution\",\n  \"rows\": 110,\n  \"fields\": [\n    {\n      \"column\": \"pdb_id\",\n      \"properties\": {\n        \"dtype\": \"string\",\n        \"num_unique_values\": 110,\n        \"samples\": [\n          \"5GMP\",\n          \"3W32\",\n          \"5HG5\"\n        ],\n        \"semantic_type\": \"\",\n        \"description\": \"\"\n      }\n    },\n    {\n      \"column\": \"resolution\",\n      \"properties\": {\n        \"dtype\": \"number\",\n        \"std\": 0.4133101210109769,\n        \"min\": 1.33,\n        \"max\": 3.0,\n        \"num_unique_values\": 66,\n        \"samples\": [\n          2.83,\n          2.952,\n          1.33\n        ],\n        \"semantic_type\": \"\",\n        \"description\": \"\"\n      }\n    }\n  ]\n}"
            }
          },
          "metadata": {},
          "execution_count": 23
        }
      ],
      "source": [
        "resolution = pd.DataFrame(\n",
        "    [\n",
        "        [pdb_data[\"entry\"][\"id\"], pdb_data[\"rcsb_entry_info\"][\"resolution_combined\"][0]]\n",
        "        for pdb_data in pdbs_data\n",
        "    ],\n",
        "    columns=[\"pdb_id\", \"resolution\"],\n",
        ").sort_values(by=\"resolution\", ignore_index=True)\n",
        "resolution"
      ]
    },
    {
      "cell_type": "markdown",
      "metadata": {
        "id": "DeTSJlOQWSsz"
      },
      "source": [
        "### Get metadata of ligands from top structures"
      ]
    },
    {
      "cell_type": "code",
      "execution_count": 24,
      "metadata": {
        "id": "XwTEkyzqWSsz"
      },
      "outputs": [],
      "source": [
        "top_num = 6  # Number of top structures"
      ]
    },
    {
      "cell_type": "markdown",
      "metadata": {
        "id": "eKhpS6XnWSsz"
      },
      "source": [
        "In the next talktorial, we will build ligand-based ensemble pharmacophores from the top `top_num` structures with the highest resolution."
      ]
    },
    {
      "cell_type": "code",
      "execution_count": 25,
      "metadata": {
        "id": "SqPhigCFWSsz",
        "outputId": "604a4d1f-634d-4d3a-d933-cd1adb664144",
        "colab": {
          "base_uri": "https://localhost:8080/"
        }
      },
      "outputs": [
        {
          "output_type": "stream",
          "name": "stdout",
          "text": [
            "Selected PDB IDs: ['5UG9', '5HG8', '5UG8', '3POZ', '5HG5', '5UGC']\n"
          ]
        }
      ],
      "source": [
        "selected_pdb_ids = resolution[:top_num][\"pdb_id\"].to_list()\n",
        "print(f\"Selected PDB IDs: {selected_pdb_ids}\")"
      ]
    },
    {
      "cell_type": "markdown",
      "metadata": {
        "id": "pgjLBK3tWSsz"
      },
      "source": [
        "The selected highest resolution PDB entries can contain ligands targeting different binding sites, e.g. allosteric and orthosteric ligands, which would hamper ligand-based pharmacophore generation. Thus, we will focus on the following 4 structures, which contain ligands in the orthosteric binding pocket. The code provided later in the notebook can be used to verify this."
      ]
    },
    {
      "cell_type": "code",
      "execution_count": 32,
      "metadata": {
        "id": "gZdCAlx-WSs0",
        "outputId": "f95744d9-50a2-4f49-abbd-a9904eeabecf",
        "colab": {
          "base_uri": "https://localhost:8080/"
        }
      },
      "outputs": [
        {
          "output_type": "stream",
          "name": "stdout",
          "text": [
            "Selected PDB IDs (frozen set): ['5UG9', '5HG8', '5UG8', '5UGC']\n"
          ]
        }
      ],
      "source": [
        "selected_pdb_ids = [\"5UG9\", \"5HG8\", \"5UG8\", \"5UGC\"]\n",
        "print(f\"Selected PDB IDs (frozen set): {selected_pdb_ids}\")"
      ]
    },
    {
      "cell_type": "markdown",
      "metadata": {
        "id": "VwgvozsWWSs0"
      },
      "source": [
        "We fetch the PDB information about the top `top_num` ligands using `get_ligands`, to be stored as *csv* file (as dictionary per ligand).\n",
        "\n",
        "If a structure contains several ligands, we select the largest ligand. Note: this is a simple, but not comprehensive method to select a ligand in the binding site of a protein. This approach may also select a cofactor bound to the protein. Therefore, please check the automatically selected top ligands visually before further usage."
      ]
    },
    {
      "cell_type": "code",
      "source": [
        "import requests\n",
        "import pandas as pd\n",
        "\n",
        "def get_largest_ligand_info(pdb_ids):\n",
        "    \"\"\"\n",
        "    PDB ID 리스트를 입력받아 각 PDB에서 가장 큰 리간드 정보를 포함하는 데이터프레임을 반환합니다.\n",
        "\n",
        "    Parameters:\n",
        "        pdb_ids (list): 분석할 PDB ID의 리스트\n",
        "\n",
        "    Returns:\n",
        "        pandas.DataFrame: 각 PDB에서 가장 큰 리간드 정보를 포함하는 데이터프레임\n",
        "    \"\"\"\n",
        "    data = []\n",
        "\n",
        "    for pdb_id in pdb_ids:\n",
        "        ligands_data = []\n",
        "        url = f'https://www.ebi.ac.uk/pdbe/api/pdb/entry/ligand_monomers/{pdb_id.lower()}'\n",
        "        response = requests.get(url)\n",
        "        if response.status_code == 200:\n",
        "            json_data = response.json()\n",
        "            ligands = json_data.get(pdb_id.lower(), [])\n",
        "            for ligand in ligands:\n",
        "                chem_comp_id = ligand.get('chem_comp_id', '')\n",
        "                # 화학 컴포넌트 API를 사용하여 상세 정보 가져오기\n",
        "                chem_url = f'https://www.ebi.ac.uk/pdbe/api/pdb/compound/summary/{chem_comp_id.upper()}'\n",
        "                chem_response = requests.get(chem_url)\n",
        "                if chem_response.status_code == 200:\n",
        "                    chem_data = chem_response.json()\n",
        "                    chem_info_list = chem_data.get(chem_comp_id.upper(), [])\n",
        "                    if chem_info_list:\n",
        "                        chem_info = chem_info_list[0]\n",
        "                        try:\n",
        "                            molecular_weight = float(chem_info.get('formula_weight', 0))\n",
        "                        except ValueError:\n",
        "                            molecular_weight = 0\n",
        "                        # smiles 필드에서 첫 번째 SMILES 문자열만 추출\n",
        "                        smiles_data = chem_info.get('smiles', [])\n",
        "                        if isinstance(smiles_data, list) and smiles_data:\n",
        "                            smiles = smiles_data[0].get('name', '')\n",
        "                        else:\n",
        "                            smiles = ''\n",
        "                        # InChIKey도 리스트 형태일 수 있으므로 처리\n",
        "                        inchi_key_data = chem_info.get('inchi_key', [])\n",
        "                        if isinstance(inchi_key_data, list) and inchi_key_data:\n",
        "                            inchi_key = inchi_key_data[0].get('name', '')\n",
        "                        else:\n",
        "                            inchi_key = chem_info.get('inchi_key', '')\n",
        "                        inchi = chem_info.get('inchi', '')\n",
        "                        entry = {\n",
        "                            '@structureId': pdb_id,\n",
        "                            '@chemicalID': chem_comp_id,\n",
        "                            '@type': chem_info.get('type', ''),\n",
        "                            '@molecularWeight': molecular_weight,\n",
        "                            'chemicalName': chem_info.get('name', ''),\n",
        "                            'formula': chem_info.get('formula', ''),\n",
        "                            'InChI': inchi,\n",
        "                            'InChIKey': inchi_key,\n",
        "                            'smiles': smiles\n",
        "                        }\n",
        "                        ligands_data.append(entry)\n",
        "                    else:\n",
        "                        print(f\"{chem_comp_id}의 화학 정보가 비어 있습니다.\")\n",
        "                else:\n",
        "                    print(f\"{chem_comp_id}의 화학 정보를 가져올 수 없습니다.\")\n",
        "            # 각 PDB ID에 대해 가장 큰 분자를 선택\n",
        "            if ligands_data:\n",
        "                largest_ligand = max(ligands_data, key=lambda x: x['@molecularWeight'])\n",
        "                data.append(largest_ligand)\n",
        "        else:\n",
        "            print(f\"{pdb_id}에 대한 데이터를 가져올 수 없습니다.\")\n",
        "\n",
        "    df = pd.DataFrame(data)\n",
        "    return df\n",
        "\n",
        "ligands = get_largest_ligand_info(selected_pdb_ids)\n",
        "ligands"
      ],
      "metadata": {
        "id": "91Q97dQFBsE-",
        "outputId": "13e98cf9-5d34-4b98-a86f-3f795295fbc2",
        "colab": {
          "base_uri": "https://localhost:8080/",
          "height": 403
        }
      },
      "execution_count": 88,
      "outputs": [
        {
          "output_type": "execute_result",
          "data": {
            "text/plain": [
              "  @structureId @chemicalID @type  @molecularWeight  \\\n",
              "0         5UG9         8AM                     0.0   \n",
              "1         5HG8         634                     0.0   \n",
              "2         5UG8         8BP                     0.0   \n",
              "3         5UGC         8BS                     0.0   \n",
              "\n",
              "                                        chemicalName          formula  \\\n",
              "0  N-[(3R,4R)-4-fluoro-1-{6-[(3-methoxy-1-methyl-...  C20 H28 F N9 O2   \n",
              "1  N-[3-({2-[(1-methyl-1H-pyrazol-4-yl)amino]-7H-...    C19 H19 N7 O2   \n",
              "2  N-[(3R,4R)-4-fluoro-1-{6-[(1-methyl-1H-pyrazol...   C19 H26 F N9 O   \n",
              "3  N-[(3R,4R)-4-fluoro-1-{6-[(3-methoxy-1-methyl-...  C18 H24 F N9 O2   \n",
              "\n",
              "                                               InChI  \\\n",
              "0  InChI=1S/C20H28FN9O2/c1-6-15(31)23-13-9-29(7-1...   \n",
              "1  InChI=1S/C19H19N7O2/c1-3-16(27)22-12-5-4-6-14(...   \n",
              "2  InChI=1S/C19H26FN9O/c1-5-15(30)24-14-9-28(8-13...   \n",
              "3  InChI=1S/C18H24FN9O2/c1-5-13(29)21-11-8-28(6-1...   \n",
              "\n",
              "                      InChIKey  \\\n",
              "0  MJLFLAORJNTNDV-CHWSQXEVSA-N   \n",
              "1  YWNHZBNRKJYHTR-UHFFFAOYSA-N   \n",
              "2  CGULPICMFDDQRH-ZIAGYGMSSA-N   \n",
              "3  XWNKXCUQRQRAFF-GHMZBOCLSA-N   \n",
              "\n",
              "                                              smiles  \n",
              "0  CCC(=O)N[C@@H]1CN(C[C@H]1F)c2nc(Nc3cn(C)nc3OC)...  \n",
              "1   CCC(=O)Nc1cccc(Oc2nc(Nc3cnn(C)c3)nc4[nH]ccc24)c1  \n",
              "2  CCC(=O)N[C@@H]1CN(C[C@H]1F)c2nc(Nc3cnn(C)c3)c4...  \n",
              "3  CCC(=O)N[C@@H]1CN(C[C@H]1F)c2nc(Nc3cn(C)nc3OC)...  "
            ],
            "text/html": [
              "\n",
              "  <div id=\"df-94154bb0-2626-40a9-9803-1c813159d232\" class=\"colab-df-container\">\n",
              "    <div>\n",
              "<style scoped>\n",
              "    .dataframe tbody tr th:only-of-type {\n",
              "        vertical-align: middle;\n",
              "    }\n",
              "\n",
              "    .dataframe tbody tr th {\n",
              "        vertical-align: top;\n",
              "    }\n",
              "\n",
              "    .dataframe thead th {\n",
              "        text-align: right;\n",
              "    }\n",
              "</style>\n",
              "<table border=\"1\" class=\"dataframe\">\n",
              "  <thead>\n",
              "    <tr style=\"text-align: right;\">\n",
              "      <th></th>\n",
              "      <th>@structureId</th>\n",
              "      <th>@chemicalID</th>\n",
              "      <th>@type</th>\n",
              "      <th>@molecularWeight</th>\n",
              "      <th>chemicalName</th>\n",
              "      <th>formula</th>\n",
              "      <th>InChI</th>\n",
              "      <th>InChIKey</th>\n",
              "      <th>smiles</th>\n",
              "    </tr>\n",
              "  </thead>\n",
              "  <tbody>\n",
              "    <tr>\n",
              "      <th>0</th>\n",
              "      <td>5UG9</td>\n",
              "      <td>8AM</td>\n",
              "      <td></td>\n",
              "      <td>0.0</td>\n",
              "      <td>N-[(3R,4R)-4-fluoro-1-{6-[(3-methoxy-1-methyl-...</td>\n",
              "      <td>C20 H28 F N9 O2</td>\n",
              "      <td>InChI=1S/C20H28FN9O2/c1-6-15(31)23-13-9-29(7-1...</td>\n",
              "      <td>MJLFLAORJNTNDV-CHWSQXEVSA-N</td>\n",
              "      <td>CCC(=O)N[C@@H]1CN(C[C@H]1F)c2nc(Nc3cn(C)nc3OC)...</td>\n",
              "    </tr>\n",
              "    <tr>\n",
              "      <th>1</th>\n",
              "      <td>5HG8</td>\n",
              "      <td>634</td>\n",
              "      <td></td>\n",
              "      <td>0.0</td>\n",
              "      <td>N-[3-({2-[(1-methyl-1H-pyrazol-4-yl)amino]-7H-...</td>\n",
              "      <td>C19 H19 N7 O2</td>\n",
              "      <td>InChI=1S/C19H19N7O2/c1-3-16(27)22-12-5-4-6-14(...</td>\n",
              "      <td>YWNHZBNRKJYHTR-UHFFFAOYSA-N</td>\n",
              "      <td>CCC(=O)Nc1cccc(Oc2nc(Nc3cnn(C)c3)nc4[nH]ccc24)c1</td>\n",
              "    </tr>\n",
              "    <tr>\n",
              "      <th>2</th>\n",
              "      <td>5UG8</td>\n",
              "      <td>8BP</td>\n",
              "      <td></td>\n",
              "      <td>0.0</td>\n",
              "      <td>N-[(3R,4R)-4-fluoro-1-{6-[(1-methyl-1H-pyrazol...</td>\n",
              "      <td>C19 H26 F N9 O</td>\n",
              "      <td>InChI=1S/C19H26FN9O/c1-5-15(30)24-14-9-28(8-13...</td>\n",
              "      <td>CGULPICMFDDQRH-ZIAGYGMSSA-N</td>\n",
              "      <td>CCC(=O)N[C@@H]1CN(C[C@H]1F)c2nc(Nc3cnn(C)c3)c4...</td>\n",
              "    </tr>\n",
              "    <tr>\n",
              "      <th>3</th>\n",
              "      <td>5UGC</td>\n",
              "      <td>8BS</td>\n",
              "      <td></td>\n",
              "      <td>0.0</td>\n",
              "      <td>N-[(3R,4R)-4-fluoro-1-{6-[(3-methoxy-1-methyl-...</td>\n",
              "      <td>C18 H24 F N9 O2</td>\n",
              "      <td>InChI=1S/C18H24FN9O2/c1-5-13(29)21-11-8-28(6-1...</td>\n",
              "      <td>XWNKXCUQRQRAFF-GHMZBOCLSA-N</td>\n",
              "      <td>CCC(=O)N[C@@H]1CN(C[C@H]1F)c2nc(Nc3cn(C)nc3OC)...</td>\n",
              "    </tr>\n",
              "  </tbody>\n",
              "</table>\n",
              "</div>\n",
              "    <div class=\"colab-df-buttons\">\n",
              "\n",
              "  <div class=\"colab-df-container\">\n",
              "    <button class=\"colab-df-convert\" onclick=\"convertToInteractive('df-94154bb0-2626-40a9-9803-1c813159d232')\"\n",
              "            title=\"Convert this dataframe to an interactive table.\"\n",
              "            style=\"display:none;\">\n",
              "\n",
              "  <svg xmlns=\"http://www.w3.org/2000/svg\" height=\"24px\" viewBox=\"0 -960 960 960\">\n",
              "    <path d=\"M120-120v-720h720v720H120Zm60-500h600v-160H180v160Zm220 220h160v-160H400v160Zm0 220h160v-160H400v160ZM180-400h160v-160H180v160Zm440 0h160v-160H620v160ZM180-180h160v-160H180v160Zm440 0h160v-160H620v160Z\"/>\n",
              "  </svg>\n",
              "    </button>\n",
              "\n",
              "  <style>\n",
              "    .colab-df-container {\n",
              "      display:flex;\n",
              "      gap: 12px;\n",
              "    }\n",
              "\n",
              "    .colab-df-convert {\n",
              "      background-color: #E8F0FE;\n",
              "      border: none;\n",
              "      border-radius: 50%;\n",
              "      cursor: pointer;\n",
              "      display: none;\n",
              "      fill: #1967D2;\n",
              "      height: 32px;\n",
              "      padding: 0 0 0 0;\n",
              "      width: 32px;\n",
              "    }\n",
              "\n",
              "    .colab-df-convert:hover {\n",
              "      background-color: #E2EBFA;\n",
              "      box-shadow: 0px 1px 2px rgba(60, 64, 67, 0.3), 0px 1px 3px 1px rgba(60, 64, 67, 0.15);\n",
              "      fill: #174EA6;\n",
              "    }\n",
              "\n",
              "    .colab-df-buttons div {\n",
              "      margin-bottom: 4px;\n",
              "    }\n",
              "\n",
              "    [theme=dark] .colab-df-convert {\n",
              "      background-color: #3B4455;\n",
              "      fill: #D2E3FC;\n",
              "    }\n",
              "\n",
              "    [theme=dark] .colab-df-convert:hover {\n",
              "      background-color: #434B5C;\n",
              "      box-shadow: 0px 1px 3px 1px rgba(0, 0, 0, 0.15);\n",
              "      filter: drop-shadow(0px 1px 2px rgba(0, 0, 0, 0.3));\n",
              "      fill: #FFFFFF;\n",
              "    }\n",
              "  </style>\n",
              "\n",
              "    <script>\n",
              "      const buttonEl =\n",
              "        document.querySelector('#df-94154bb0-2626-40a9-9803-1c813159d232 button.colab-df-convert');\n",
              "      buttonEl.style.display =\n",
              "        google.colab.kernel.accessAllowed ? 'block' : 'none';\n",
              "\n",
              "      async function convertToInteractive(key) {\n",
              "        const element = document.querySelector('#df-94154bb0-2626-40a9-9803-1c813159d232');\n",
              "        const dataTable =\n",
              "          await google.colab.kernel.invokeFunction('convertToInteractive',\n",
              "                                                    [key], {});\n",
              "        if (!dataTable) return;\n",
              "\n",
              "        const docLinkHtml = 'Like what you see? Visit the ' +\n",
              "          '<a target=\"_blank\" href=https://colab.research.google.com/notebooks/data_table.ipynb>data table notebook</a>'\n",
              "          + ' to learn more about interactive tables.';\n",
              "        element.innerHTML = '';\n",
              "        dataTable['output_type'] = 'display_data';\n",
              "        await google.colab.output.renderOutput(dataTable, element);\n",
              "        const docLink = document.createElement('div');\n",
              "        docLink.innerHTML = docLinkHtml;\n",
              "        element.appendChild(docLink);\n",
              "      }\n",
              "    </script>\n",
              "  </div>\n",
              "\n",
              "\n",
              "<div id=\"df-8675df02-2e91-476c-a890-5978d00d1b72\">\n",
              "  <button class=\"colab-df-quickchart\" onclick=\"quickchart('df-8675df02-2e91-476c-a890-5978d00d1b72')\"\n",
              "            title=\"Suggest charts\"\n",
              "            style=\"display:none;\">\n",
              "\n",
              "<svg xmlns=\"http://www.w3.org/2000/svg\" height=\"24px\"viewBox=\"0 0 24 24\"\n",
              "     width=\"24px\">\n",
              "    <g>\n",
              "        <path d=\"M19 3H5c-1.1 0-2 .9-2 2v14c0 1.1.9 2 2 2h14c1.1 0 2-.9 2-2V5c0-1.1-.9-2-2-2zM9 17H7v-7h2v7zm4 0h-2V7h2v10zm4 0h-2v-4h2v4z\"/>\n",
              "    </g>\n",
              "</svg>\n",
              "  </button>\n",
              "\n",
              "<style>\n",
              "  .colab-df-quickchart {\n",
              "      --bg-color: #E8F0FE;\n",
              "      --fill-color: #1967D2;\n",
              "      --hover-bg-color: #E2EBFA;\n",
              "      --hover-fill-color: #174EA6;\n",
              "      --disabled-fill-color: #AAA;\n",
              "      --disabled-bg-color: #DDD;\n",
              "  }\n",
              "\n",
              "  [theme=dark] .colab-df-quickchart {\n",
              "      --bg-color: #3B4455;\n",
              "      --fill-color: #D2E3FC;\n",
              "      --hover-bg-color: #434B5C;\n",
              "      --hover-fill-color: #FFFFFF;\n",
              "      --disabled-bg-color: #3B4455;\n",
              "      --disabled-fill-color: #666;\n",
              "  }\n",
              "\n",
              "  .colab-df-quickchart {\n",
              "    background-color: var(--bg-color);\n",
              "    border: none;\n",
              "    border-radius: 50%;\n",
              "    cursor: pointer;\n",
              "    display: none;\n",
              "    fill: var(--fill-color);\n",
              "    height: 32px;\n",
              "    padding: 0;\n",
              "    width: 32px;\n",
              "  }\n",
              "\n",
              "  .colab-df-quickchart:hover {\n",
              "    background-color: var(--hover-bg-color);\n",
              "    box-shadow: 0 1px 2px rgba(60, 64, 67, 0.3), 0 1px 3px 1px rgba(60, 64, 67, 0.15);\n",
              "    fill: var(--button-hover-fill-color);\n",
              "  }\n",
              "\n",
              "  .colab-df-quickchart-complete:disabled,\n",
              "  .colab-df-quickchart-complete:disabled:hover {\n",
              "    background-color: var(--disabled-bg-color);\n",
              "    fill: var(--disabled-fill-color);\n",
              "    box-shadow: none;\n",
              "  }\n",
              "\n",
              "  .colab-df-spinner {\n",
              "    border: 2px solid var(--fill-color);\n",
              "    border-color: transparent;\n",
              "    border-bottom-color: var(--fill-color);\n",
              "    animation:\n",
              "      spin 1s steps(1) infinite;\n",
              "  }\n",
              "\n",
              "  @keyframes spin {\n",
              "    0% {\n",
              "      border-color: transparent;\n",
              "      border-bottom-color: var(--fill-color);\n",
              "      border-left-color: var(--fill-color);\n",
              "    }\n",
              "    20% {\n",
              "      border-color: transparent;\n",
              "      border-left-color: var(--fill-color);\n",
              "      border-top-color: var(--fill-color);\n",
              "    }\n",
              "    30% {\n",
              "      border-color: transparent;\n",
              "      border-left-color: var(--fill-color);\n",
              "      border-top-color: var(--fill-color);\n",
              "      border-right-color: var(--fill-color);\n",
              "    }\n",
              "    40% {\n",
              "      border-color: transparent;\n",
              "      border-right-color: var(--fill-color);\n",
              "      border-top-color: var(--fill-color);\n",
              "    }\n",
              "    60% {\n",
              "      border-color: transparent;\n",
              "      border-right-color: var(--fill-color);\n",
              "    }\n",
              "    80% {\n",
              "      border-color: transparent;\n",
              "      border-right-color: var(--fill-color);\n",
              "      border-bottom-color: var(--fill-color);\n",
              "    }\n",
              "    90% {\n",
              "      border-color: transparent;\n",
              "      border-bottom-color: var(--fill-color);\n",
              "    }\n",
              "  }\n",
              "</style>\n",
              "\n",
              "  <script>\n",
              "    async function quickchart(key) {\n",
              "      const quickchartButtonEl =\n",
              "        document.querySelector('#' + key + ' button');\n",
              "      quickchartButtonEl.disabled = true;  // To prevent multiple clicks.\n",
              "      quickchartButtonEl.classList.add('colab-df-spinner');\n",
              "      try {\n",
              "        const charts = await google.colab.kernel.invokeFunction(\n",
              "            'suggestCharts', [key], {});\n",
              "      } catch (error) {\n",
              "        console.error('Error during call to suggestCharts:', error);\n",
              "      }\n",
              "      quickchartButtonEl.classList.remove('colab-df-spinner');\n",
              "      quickchartButtonEl.classList.add('colab-df-quickchart-complete');\n",
              "    }\n",
              "    (() => {\n",
              "      let quickchartButtonEl =\n",
              "        document.querySelector('#df-8675df02-2e91-476c-a890-5978d00d1b72 button');\n",
              "      quickchartButtonEl.style.display =\n",
              "        google.colab.kernel.accessAllowed ? 'block' : 'none';\n",
              "    })();\n",
              "  </script>\n",
              "</div>\n",
              "\n",
              "  <div id=\"id_6238178a-992c-4f2b-b38d-5a21e7896550\">\n",
              "    <style>\n",
              "      .colab-df-generate {\n",
              "        background-color: #E8F0FE;\n",
              "        border: none;\n",
              "        border-radius: 50%;\n",
              "        cursor: pointer;\n",
              "        display: none;\n",
              "        fill: #1967D2;\n",
              "        height: 32px;\n",
              "        padding: 0 0 0 0;\n",
              "        width: 32px;\n",
              "      }\n",
              "\n",
              "      .colab-df-generate:hover {\n",
              "        background-color: #E2EBFA;\n",
              "        box-shadow: 0px 1px 2px rgba(60, 64, 67, 0.3), 0px 1px 3px 1px rgba(60, 64, 67, 0.15);\n",
              "        fill: #174EA6;\n",
              "      }\n",
              "\n",
              "      [theme=dark] .colab-df-generate {\n",
              "        background-color: #3B4455;\n",
              "        fill: #D2E3FC;\n",
              "      }\n",
              "\n",
              "      [theme=dark] .colab-df-generate:hover {\n",
              "        background-color: #434B5C;\n",
              "        box-shadow: 0px 1px 3px 1px rgba(0, 0, 0, 0.15);\n",
              "        filter: drop-shadow(0px 1px 2px rgba(0, 0, 0, 0.3));\n",
              "        fill: #FFFFFF;\n",
              "      }\n",
              "    </style>\n",
              "    <button class=\"colab-df-generate\" onclick=\"generateWithVariable('ligands')\"\n",
              "            title=\"Generate code using this dataframe.\"\n",
              "            style=\"display:none;\">\n",
              "\n",
              "  <svg xmlns=\"http://www.w3.org/2000/svg\" height=\"24px\"viewBox=\"0 0 24 24\"\n",
              "       width=\"24px\">\n",
              "    <path d=\"M7,19H8.4L18.45,9,17,7.55,7,17.6ZM5,21V16.75L18.45,3.32a2,2,0,0,1,2.83,0l1.4,1.43a1.91,1.91,0,0,1,.58,1.4,1.91,1.91,0,0,1-.58,1.4L9.25,21ZM18.45,9,17,7.55Zm-12,3A5.31,5.31,0,0,0,4.9,8.1,5.31,5.31,0,0,0,1,6.5,5.31,5.31,0,0,0,4.9,4.9,5.31,5.31,0,0,0,6.5,1,5.31,5.31,0,0,0,8.1,4.9,5.31,5.31,0,0,0,12,6.5,5.46,5.46,0,0,0,6.5,12Z\"/>\n",
              "  </svg>\n",
              "    </button>\n",
              "    <script>\n",
              "      (() => {\n",
              "      const buttonEl =\n",
              "        document.querySelector('#id_6238178a-992c-4f2b-b38d-5a21e7896550 button.colab-df-generate');\n",
              "      buttonEl.style.display =\n",
              "        google.colab.kernel.accessAllowed ? 'block' : 'none';\n",
              "\n",
              "      buttonEl.onclick = () => {\n",
              "        google.colab.notebook.generateWithVariable('ligands');\n",
              "      }\n",
              "      })();\n",
              "    </script>\n",
              "  </div>\n",
              "\n",
              "    </div>\n",
              "  </div>\n"
            ],
            "application/vnd.google.colaboratory.intrinsic+json": {
              "type": "dataframe",
              "variable_name": "ligands",
              "summary": "{\n  \"name\": \"ligands\",\n  \"rows\": 4,\n  \"fields\": [\n    {\n      \"column\": \"@structureId\",\n      \"properties\": {\n        \"dtype\": \"string\",\n        \"num_unique_values\": 4,\n        \"samples\": [\n          \"5HG8\",\n          \"5UGC\",\n          \"5UG9\"\n        ],\n        \"semantic_type\": \"\",\n        \"description\": \"\"\n      }\n    },\n    {\n      \"column\": \"@chemicalID\",\n      \"properties\": {\n        \"dtype\": \"string\",\n        \"num_unique_values\": 4,\n        \"samples\": [\n          \"634\",\n          \"8BS\",\n          \"8AM\"\n        ],\n        \"semantic_type\": \"\",\n        \"description\": \"\"\n      }\n    },\n    {\n      \"column\": \"@type\",\n      \"properties\": {\n        \"dtype\": \"object\",\n        \"num_unique_values\": 1,\n        \"samples\": [\n          \"\"\n        ],\n        \"semantic_type\": \"\",\n        \"description\": \"\"\n      }\n    },\n    {\n      \"column\": \"@molecularWeight\",\n      \"properties\": {\n        \"dtype\": \"number\",\n        \"std\": 0.0,\n        \"min\": 0.0,\n        \"max\": 0.0,\n        \"num_unique_values\": 1,\n        \"samples\": [\n          0.0\n        ],\n        \"semantic_type\": \"\",\n        \"description\": \"\"\n      }\n    },\n    {\n      \"column\": \"chemicalName\",\n      \"properties\": {\n        \"dtype\": \"string\",\n        \"num_unique_values\": 4,\n        \"samples\": [\n          \"N-[3-({2-[(1-methyl-1H-pyrazol-4-yl)amino]-7H-pyrrolo[2,3-d]pyrimidin-4-yl}oxy)phenyl]propanamide\"\n        ],\n        \"semantic_type\": \"\",\n        \"description\": \"\"\n      }\n    },\n    {\n      \"column\": \"formula\",\n      \"properties\": {\n        \"dtype\": \"string\",\n        \"num_unique_values\": 4,\n        \"samples\": [\n          \"C19 H19 N7 O2\"\n        ],\n        \"semantic_type\": \"\",\n        \"description\": \"\"\n      }\n    },\n    {\n      \"column\": \"InChI\",\n      \"properties\": {\n        \"dtype\": \"string\",\n        \"num_unique_values\": 4,\n        \"samples\": [\n          \"InChI=1S/C19H19N7O2/c1-3-16(27)22-12-5-4-6-14(9-12)28-18-15-7-8-20-17(15)24-19(25-18)23-13-10-21-26(2)11-13/h4-11H,3H2,1-2H3,(H,22,27)(H2,20,23,24,25)\"\n        ],\n        \"semantic_type\": \"\",\n        \"description\": \"\"\n      }\n    },\n    {\n      \"column\": \"InChIKey\",\n      \"properties\": {\n        \"dtype\": \"string\",\n        \"num_unique_values\": 4,\n        \"samples\": [\n          \"YWNHZBNRKJYHTR-UHFFFAOYSA-N\"\n        ],\n        \"semantic_type\": \"\",\n        \"description\": \"\"\n      }\n    },\n    {\n      \"column\": \"smiles\",\n      \"properties\": {\n        \"dtype\": \"string\",\n        \"num_unique_values\": 4,\n        \"samples\": [\n          \"CCC(=O)Nc1cccc(Oc2nc(Nc3cnn(C)c3)nc4[nH]ccc24)c1\"\n        ],\n        \"semantic_type\": \"\",\n        \"description\": \"\"\n      }\n    }\n  ]\n}"
            }
          },
          "metadata": {},
          "execution_count": 88
        }
      ]
    },
    {
      "cell_type": "code",
      "execution_count": 90,
      "metadata": {
        "id": "DmF7HCPRWSs0"
      },
      "outputs": [],
      "source": [
        "ligands.to_csv(\"PDB_top_ligands.csv\", header=True, index=False)"
      ]
    },
    {
      "cell_type": "markdown",
      "metadata": {
        "id": "OM__FSxvWSs0"
      },
      "source": [
        "### Draw top ligand molecules"
      ]
    },
    {
      "cell_type": "code",
      "execution_count": 91,
      "metadata": {
        "id": "ALP_S6fzWSs0",
        "outputId": "3e353d9e-1ebf-498e-a601-2dd08848915e",
        "colab": {
          "base_uri": "https://localhost:8080/",
          "height": 217
        }
      },
      "outputs": [
        {
          "output_type": "execute_result",
          "data": {
            "image/png": "[encoded data removed]",
            "text/plain": [
              "<IPython.core.display.Image object>"
            ]
          },
          "metadata": {},
          "execution_count": 91
        }
      ],
      "source": [
        "PandasTools.AddMoleculeColumnToFrame(ligands, \"smiles\")\n",
        "Draw.MolsToGridImage(\n",
        "    mols=list(ligands.ROMol),\n",
        "    legends=list(ligands[\"@chemicalID\"] + \", \" + ligands[\"@structureId\"]),\n",
        "    molsPerRow=top_num,\n",
        ")"
      ]
    },
    {
      "cell_type": "markdown",
      "metadata": {
        "id": "lNQyUFHcWSs0"
      },
      "source": [
        "### Create protein-ligand ID pairs"
      ]
    },
    {
      "cell_type": "code",
      "execution_count": 92,
      "metadata": {
        "id": "Ekl5pk7MWSs0",
        "outputId": "fd53e531-eacb-449a-f74c-45d8e951c3ea",
        "colab": {
          "base_uri": "https://localhost:8080/"
        }
      },
      "outputs": [
        {
          "output_type": "execute_result",
          "data": {
            "text/plain": [
              "OrderedDict([('5UG9', '8AM'),\n",
              "             ('5HG8', '634'),\n",
              "             ('5UG8', '8BP'),\n",
              "             ('5UGC', '8BS')])"
            ]
          },
          "metadata": {},
          "execution_count": 92
        }
      ],
      "source": [
        "# NBVAL_CHECK_OUTPUT\n",
        "pairs = collections.OrderedDict(zip(ligands[\"@structureId\"], ligands[\"@chemicalID\"]))\n",
        "pairs"
      ]
    },
    {
      "cell_type": "markdown",
      "metadata": {
        "id": "omboi0xiWSs0"
      },
      "source": [
        "### Align PDB structures and extract ligands\n",
        "\n",
        "Since we want to build ligand-based ensemble pharmacophores in the next talktorial, it is necessary to align all structures to each other in 3D.\n",
        "\n",
        "We will use the Python package `opencadd` ([repository](https://github.com/volkamerlab/opencadd)), which includes a 3D superposition subpackage  to guide the structural alignment of the proteins. The approach is based on superposition guided by sequence alignment of provided matched residues. There are other methods in the package, but this simple one will be enough for the task at hand."
      ]
    },
    {
      "cell_type": "markdown",
      "metadata": {
        "id": "V70c57pDWSs1"
      },
      "source": [
        "#### Get the PDB structure files\n",
        "\n",
        "We now fetch the PDB structure files, i.e. 3D coordinates of the protein, ligand (and if available other atomic or molecular entities such as cofactors, water molecules, and ions) from the PDB using `opencadd.structure.superposition`.\n",
        "\n",
        "Available file formats are *pdb* and *cif*, which store the 3D coordinations of atoms of the protein (and ligand, cofactors, water molecules, and ions) as well as information on bonds between atoms. Here, we work with *pdb* files."
      ]
    },
    {
      "cell_type": "code",
      "source": [
        "import requests\n",
        "import MDAnalysis as mda\n",
        "def ensure_correct_extension(pdb_file_path):\n",
        "    \"\"\"\n",
        "    파일이 .pdb 확장자로 저장되었는지 확인하는 함수\n",
        "    :param pdb_file_path: str, PDB 파일 경로\n",
        "    :return: str, 올바른 확장자의 파일 경로\n",
        "    \"\"\"\n",
        "    if not pdb_file_path.endswith(\".pdb\"):\n",
        "        # 확장자가 .pdb가 아니면 수정\n",
        "        new_pdb_file_path = pdb_file_path + \".pdb\"\n",
        "        os.rename(pdb_file_path, new_pdb_file_path)\n",
        "        return new_pdb_file_path\n",
        "    return pdb_file_path\n",
        "\n",
        "def download_pdb(pdb_id, ):\n",
        "    \"\"\"\n",
        "    PDB ID를 이용하여 PDB 파일을 다운로드하는 함수\n",
        "    :param pdb_id: str, PDB ID (예: '1tqn')\n",
        "    :param save_dir: str, 파일을 저장할 디렉터리 경로\n",
        "    :return: str, 다운로드된 PDB 파일 경로\n",
        "    \"\"\"\n",
        "    # PDB 파일 URL 설정 (RCSB PDB 서버 사용)\n",
        "    pdb_url = f\"https://files.rcsb.org/download/{pdb_id}.pdb\"\n",
        "\n",
        "    # PDB 파일 저장 경로\n",
        "    pdb_file_path = f\"{pdb_id}.pdb\"\n",
        "\n",
        "    # PDB 파일 다운로드\n",
        "    response = requests.get(pdb_url)\n",
        "\n",
        "    # 요청이 성공적인 경우 파일로 저장\n",
        "    if response.status_code == 200:\n",
        "        with open(pdb_file_path, 'wb') as file:\n",
        "            file.write(response.content)\n",
        "        print(f\"PDB 파일이 성공적으로 다운로드되었습니다: {pdb_file_path}\")\n",
        "    else:\n",
        "        raise Exception(f\"PDB 파일을 다운로드할 수 없습니다. PDB ID: {pdb_id}\")\n",
        "\n",
        "    return pdb_file_path\n",
        "def get_structure_from_pdb_id(pdb_id):\n",
        "    \"\"\"\n",
        "    PDB ID로부터 구조 객체를 생성하는 함수\n",
        "    :param pdb_id: str, PDB ID (예: '1tqn')\n",
        "    :return: Structure 객체\n",
        "    \"\"\"\n",
        "    # PDB 파일 다운로드\n",
        "    pdb_file_path = download_pdb(pdb_id)\n",
        "    print(pdb_file_path)\n",
        "\n",
        "    # MDAnalysis의 Universe 객체를 사용하여 PDB 파일 로드\n",
        "    universe = mda.Universe(pdb_file_path, format='pdb')\n",
        "\n",
        "    # MDAnalysis Universe 객체를 opencadd Structure 객체로 변환\n",
        "    structure = universe\n",
        "\n",
        "    return structure"
      ],
      "metadata": {
        "id": "O0GAUOXoGpMr"
      },
      "execution_count": 94,
      "outputs": []
    },
    {
      "cell_type": "code",
      "execution_count": 95,
      "metadata": {
        "id": "J0zY8YTwWSs1",
        "outputId": "04321be0-bfd4-4093-80d1-29f0ab57917c",
        "colab": {
          "base_uri": "https://localhost:8080/"
        }
      },
      "outputs": [
        {
          "output_type": "stream",
          "name": "stdout",
          "text": [
            "PDB 파일이 성공적으로 다운로드되었습니다: 5UG9.pdb\n",
            "5UG9.pdb\n",
            "PDB 파일이 성공적으로 다운로드되었습니다: 5HG8.pdb\n",
            "5HG8.pdb\n",
            "PDB 파일이 성공적으로 다운로드되었습니다: 5UG8.pdb\n",
            "5UG8.pdb\n",
            "PDB 파일이 성공적으로 다운로드되었습니다: 5UGC.pdb\n",
            "5UGC.pdb\n"
          ]
        },
        {
          "output_type": "execute_result",
          "data": {
            "text/plain": [
              "[<Universe with 2664 atoms>,\n",
              " <Universe with 2716 atoms>,\n",
              " <Universe with 2632 atoms>,\n",
              " <Universe with 2542 atoms>]"
            ]
          },
          "metadata": {},
          "execution_count": 95
        }
      ],
      "source": [
        "# Download PDB structures\n",
        "structures = [get_structure_from_pdb_id(pdb_id) for pdb_id in pairs]\n",
        "structures"
      ]
    },
    {
      "cell_type": "markdown",
      "metadata": {
        "jp-MarkdownHeadingCollapsed": true,
        "tags": [],
        "id": "npOGyODRWSs1"
      },
      "source": [
        "#### Extract protein and ligand\n",
        "\n",
        "Extract protein and ligand from the structure in order to remove solvent and other artifacts of crystallography."
      ]
    },
    {
      "cell_type": "code",
      "execution_count": 96,
      "metadata": {
        "id": "D615H-ubWSs1",
        "outputId": "c0d65853-d577-498b-ad3b-ba05ffc7b030",
        "colab": {
          "base_uri": "https://localhost:8080/"
        }
      },
      "outputs": [
        {
          "output_type": "execute_result",
          "data": {
            "text/plain": [
              "[<Universe with 2330 atoms>,\n",
              " <Universe with 2491 atoms>,\n",
              " <Universe with 2319 atoms>,\n",
              " <Universe with 2320 atoms>]"
            ]
          },
          "metadata": {},
          "execution_count": 96
        }
      ],
      "source": [
        "complexes = [\n",
        "    Structure.from_atomgroup(structure.select_atoms(f\"protein or resname {ligand}\"))\n",
        "    for structure, ligand in zip(structures, pairs.values())\n",
        "]\n",
        "complexes"
      ]
    },
    {
      "cell_type": "code",
      "execution_count": 98,
      "metadata": {
        "id": "zMFuUh-BWSs1"
      },
      "outputs": [],
      "source": [
        "# Write complex to file\n",
        "for complex_, pdb_id in zip(complexes, pairs.keys()):\n",
        "    complex_.write(f\"{pdb_id}.pdb\")"
      ]
    },
    {
      "cell_type": "markdown",
      "metadata": {
        "id": "uGMHiX0IWSs1"
      },
      "source": [
        "#### Align proteins\n",
        "\n",
        "Align complexes (based on protein atoms)."
      ]
    },
    {
      "cell_type": "code",
      "execution_count": 99,
      "metadata": {
        "id": "kQJLJ_K8WSs1"
      },
      "outputs": [],
      "source": [
        "results = align(complexes, method=METHODS[\"mda\"])"
      ]
    },
    {
      "cell_type": "markdown",
      "metadata": {
        "id": "c2rFgL_cWSs1"
      },
      "source": [
        "`nglview` can be used to visualize molecular data within Jupyter notebooks. With the next cell we will visualize out aligned protein-ligand complexes."
      ]
    },
    {
      "cell_type": "code",
      "execution_count": 100,
      "metadata": {
        "id": "G_zT6z5XWSs1",
        "outputId": "6ffe0bb4-93c9-4786-bd31-ba58e90ed54a",
        "colab": {
          "base_uri": "https://localhost:8080/",
          "height": 317,
          "referenced_widgets": [
            "691fdc23567b4bcdadd06a1d84d9b9fb",
            "7595d7fb6dc746a691bd07908a2084da",
            "63f1ed42ce584890a2d5286fdb312b9b",
            "b05201f08fcb413bb60b09c5c79e75b3",
            "64574e02e3164cada9129eea3e32eada",
            "15154949bcc440ca9cd1fb4de4827455",
            "d2200a7cf42242fba93159c4c0a42ee1",
            "9399600f69364f27bcf335abbdad304f",
            "67b8a803d0fc4fbca4aae1683a625629",
            "915cffbd5e5041229780064fc89d0faa",
            "59c7a78f397f450eb439931fc2c293e0",
            "a2418ad02afe4dcead7b79f735b18988",
            "bd955c4d5d8445a19be2b323a4336b70"
          ]
        }
      },
      "outputs": [
        {
          "output_type": "display_data",
          "data": {
            "text/plain": [
              "NGLWidget()"
            ],
            "application/vnd.jupyter.widget-view+json": {
              "version_major": 2,
              "version_minor": 0,
              "model_id": "63f1ed42ce584890a2d5286fdb312b9b"
            }
          },
          "metadata": {
            "application/vnd.jupyter.widget-view+json": {
              "colab": {
                "custom_widget_manager": {
                  "url": "https://ssl.gstatic.com/colaboratory-static/widgets/colab-cdn-widget-manager/2b70e893a8ba7c0f/manager.min.js"
                }
              }
            }
          }
        }
      ],
      "source": [
        "view = nglview.NGLWidget()\n",
        "for complex_ in complexes:\n",
        "    view.add_component(complex_.atoms)\n",
        "view"
      ]
    },
    {
      "cell_type": "code",
      "execution_count": null,
      "metadata": {
        "id": "iuJ9LdWPWSs1"
      },
      "outputs": [],
      "source": [
        "view.render_image(trim=True, factor=2, transparent=True);"
      ]
    },
    {
      "cell_type": "code",
      "execution_count": null,
      "metadata": {
        "tags": [
          "nbsphinx-thumbnail"
        ],
        "id": "QutPmo_GWSs1",
        "outputId": "0cee4f4c-07d2-4359-ed0c-051fa48a954f"
      },
      "outputs": [
        {
          "data": {
            "image/png": "[encoded data removed]",
            "text/plain": [
              "<IPython.core.display.Image object>"
            ]
          },
          "execution_count": 32,
          "metadata": {},
          "output_type": "execute_result"
        }
      ],
      "source": [
        "view._display_image()"
      ]
    },
    {
      "cell_type": "markdown",
      "metadata": {
        "id": "MK8-hUfPWSs1"
      },
      "source": [
        "#### Extract ligands"
      ]
    },
    {
      "cell_type": "code",
      "execution_count": 101,
      "metadata": {
        "id": "spMzgYIBWSs1",
        "outputId": "1d434926-c95d-452b-88a8-ca2dc3972afb",
        "colab": {
          "base_uri": "https://localhost:8080/"
        }
      },
      "outputs": [
        {
          "output_type": "execute_result",
          "data": {
            "text/plain": [
              "[<Universe with 32 atoms>,\n",
              " <Universe with 28 atoms>,\n",
              " <Universe with 30 atoms>,\n",
              " <Universe with 30 atoms>]"
            ]
          },
          "metadata": {},
          "execution_count": 101
        }
      ],
      "source": [
        "ligands = [\n",
        "    Structure.from_atomgroup(complex_.select_atoms(f\"resname {ligand}\"))\n",
        "    for complex_, ligand in zip(complexes, pairs.values())\n",
        "]\n",
        "ligands"
      ]
    },
    {
      "cell_type": "code",
      "execution_count": 102,
      "metadata": {
        "id": "2MSf7DzRWSs2"
      },
      "outputs": [],
      "source": [
        "for ligand, pdb_id in zip(ligands, pairs.keys()):\n",
        "    ligand.write(f\"{pdb_id}_lig.pdb\")"
      ]
    },
    {
      "cell_type": "markdown",
      "metadata": {
        "id": "AsJz2L9mWSs2"
      },
      "source": [
        "We check the existence of all ligand *pdb* files."
      ]
    },
    {
      "cell_type": "code",
      "execution_count": 103,
      "metadata": {
        "id": "CbmnnQmqWSs2",
        "outputId": "7571cf6b-4ed0-457a-e067-29cc1977b2d5",
        "colab": {
          "base_uri": "https://localhost:8080/"
        }
      },
      "outputs": [
        {
          "output_type": "execute_result",
          "data": {
            "text/plain": [
              "[]"
            ]
          },
          "metadata": {},
          "execution_count": 103
        }
      ],
      "source": [
        "ligand_files = []\n",
        "for file in DATA.glob(\"*_lig.pdb\"):\n",
        "    ligand_files.append(file.name)\n",
        "ligand_files"
      ]
    },
    {
      "cell_type": "markdown",
      "metadata": {
        "id": "faa4hQx3WSs2"
      },
      "source": [
        "We can also use `nglview` to depict the co-crystallized ligands alone. As we can see, the selected complexes contain ligands populating the same binding pocket and can thus be used in the next talktorial for ligand-based pharmacophore generation."
      ]
    },
    {
      "cell_type": "code",
      "execution_count": 104,
      "metadata": {
        "id": "9IyB8XcDWSs2",
        "outputId": "0fe635f2-9e41-4044-c785-9ec1c7e8ccf8",
        "colab": {
          "base_uri": "https://localhost:8080/",
          "height": 317,
          "referenced_widgets": [
            "41e9aaed0a5c4e2da76468fac503bbe4",
            "f445451b2d6246be83e7a1a83157113a",
            "2b44e2609f0645cc86dcc6ef263a5391",
            "6591a0945bf740e3b39983b327732102",
            "baf1e692d49f4e2c967dc202f148a866",
            "89de6de9d4cf4469a6c29f4729019726",
            "61fe88b76e9940e8b6050de735d8dd17",
            "273d9a2f617c42158cf0c432f4a8a5b5",
            "0aaac8cffbbd47988c6ba1a2b4f661e8",
            "8e3fb38b46ff446ba90f915d6e812204",
            "86083192cc5d4f69ab5c38f1559668e9",
            "9b2ae107a6084e3faeb1483ff0663fbf",
            "91cdc2e305a7456aa2591b75ab59e9a1"
          ]
        }
      },
      "outputs": [
        {
          "output_type": "display_data",
          "data": {
            "text/plain": [
              "NGLWidget()"
            ],
            "application/vnd.jupyter.widget-view+json": {
              "version_major": 2,
              "version_minor": 0,
              "model_id": "41e9aaed0a5c4e2da76468fac503bbe4"
            }
          },
          "metadata": {
            "application/vnd.jupyter.widget-view+json": {
              "colab": {
                "custom_widget_manager": {
                  "url": "https://ssl.gstatic.com/colaboratory-static/widgets/colab-cdn-widget-manager/2b70e893a8ba7c0f/manager.min.js"
                }
              }
            }
          }
        }
      ],
      "source": [
        "view = nglview.NGLWidget()\n",
        "for component_id, ligand in enumerate(ligands):\n",
        "    view.add_component(ligand.atoms)\n",
        "    view.remove_ball_and_stick(component=component_id)\n",
        "    view.add_licorice(component=component_id)\n",
        "view"
      ]
    },
    {
      "cell_type": "code",
      "execution_count": null,
      "metadata": {
        "id": "FJs1BAyhWSs2"
      },
      "outputs": [],
      "source": [
        "view.render_image(trim=True, factor=2, transparent=True);"
      ]
    },
    {
      "cell_type": "code",
      "execution_count": null,
      "metadata": {
        "id": "aOscYzy4WSs2",
        "outputId": "342b810b-8b90-49a4-b701-18e98b7de61a"
      },
      "outputs": [
        {
          "data": {
            "image/png": "[encoded data removed]",
            "text/plain": [
              "<IPython.core.display.Image object>"
            ]
          },
          "execution_count": 38,
          "metadata": {},
          "output_type": "execute_result"
        }
      ],
      "source": [
        "view._display_image()"
      ]
    },
    {
      "cell_type": "markdown",
      "metadata": {
        "id": "U1eukGaeWSs2"
      },
      "source": [
        "## Discussion\n",
        "\n",
        "In this talktorial, we learned how to retrieve protein and ligand meta information and structural information from the PDB. We retained only X-ray structures for EGFR and filtered our data by resolution and ligand availability. Ultimately, we aimed for an aligned set of ligands to be used in the next talktorial for the generation of ligand-based ensemble pharmacophores.\n",
        "\n",
        "In order to enrich information about ligands for pharmacophore modeling, it is advisable to not only filter by PDB structure resolution, but also to check for ligand diversity (see **Talktorial T005** on molecule clustering by similarity) and to check for ligand activity (i.e. to include only potent ligands).\n",
        "\n",
        "On a technical note: We saw that the different bits of information deposited in the PDB (structural metadata, coordinates, ligand metadata) cannot be accessed at the moment from a single Python package but taking together `biotite` and `pypdb` - and a bit of web scraping to extract ligand information - we were able to collect all the pieces of information that we needed. Given that the PDB only [recently changed completely to a new API (Nov 2020)](https://www4.rcsb.org/news?year=2020&article=5eb18ccfd62245129947212a&feature=true), related open source Python packages might offer more functionalities in the future after having had the time to catch up."
      ]
    },
    {
      "cell_type": "markdown",
      "metadata": {
        "id": "somGAr4YWSs2"
      },
      "source": [
        "## Quiz\n",
        "\n",
        "1. Summarize the kind of data that the Protein Data Bank contains.\n",
        "2. Explain what the resolution of a structure stands for and how and why we filter for it in this talktorial.\n",
        "3. Explain what an alignment of structures means and discuss the alignment performed in this talktorial."
      ]
    }
  ],
  "metadata": {
    "kernelspec": {
      "display_name": "Python 3 (ipykernel)",
      "language": "python",
      "name": "python3"
    },
    "language_info": {
      "codemirror_mode": {
        "name": "ipython",
        "version": 3
      },
      "file_extension": ".py",
      "mimetype": "text/x-python",
      "name": "python",
      "nbconvert_exporter": "python",
      "pygments_lexer": "ipython3",
      "version": "3.9.16"
    },
    "toc-autonumbering": true,
    "colab": {
      "provenance": [],
      "include_colab_link": true
    }
  },
  "nbformat": 4,
  "nbformat_minor": 0
}