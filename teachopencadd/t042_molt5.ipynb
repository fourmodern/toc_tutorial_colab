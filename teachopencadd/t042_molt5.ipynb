{
  "nbformat": 4,
  "nbformat_minor": 0,
  "metadata": {
    "colab": {
      "provenance": [],
      "gpuType": "T4",
      "authorship_tag": "ABX9TyO8jk8I8D6WKoTLoHMJn/Ke",
      "include_colab_link": true
    },
    "kernelspec": {
      "name": "python3",
      "display_name": "Python 3"
    },
    "language_info": {
      "name": "python"
    },
    "accelerator": "GPU"
  },
  "cells": [
    {
      "cell_type": "markdown",
      "metadata": {
        "id": "view-in-github",
        "colab_type": "text"
      },
      "source": [
        "<a href=\"https://colab.research.google.com/github/fourmodern/toc_tutorial_colab/blob/main/teachopencadd/t042_molt5.ipynb\" target=\"_parent\"><img src=\"https://colab.research.google.com/assets/colab-badge.svg\" alt=\"Open In Colab\"/></a>"
      ]
    },
    {
      "cell_type": "markdown",
      "source": [
        "# **MolT5**"
      ],
      "metadata": {
        "id": "SAs37n04S4kH"
      }
    },
    {
      "cell_type": "markdown",
      "source": [
        "## Introduction to MolT5"
      ],
      "metadata": {
        "id": "CqIbx7q4TGd9"
      }
    },
    {
      "cell_type": "markdown",
      "source": [
        "MolT5는 T5 (Text-To-Text Transfer Transformer) 아키텍처를 기반으로 한 분자 언어 모델로, 다양한 화학정보학(Cheminformatics) 작업을 처리하기 위해 설계되었습니다. 이 모델은 분자 설명을 SMILES(분자 구조를 표현하는 문자열 형식), IUPAC 이름, 분자 특성 등의 다양한 표현으로 변환할 수 있습니다. MolT5는 화학 언어와 구조화된 분자 데이터 간의 복잡한 매핑을 학습하는 능력 덕분에 신약 개발과 화학정보학 분야에서 중요한 도구로 활용될 수 있습니다."
      ],
      "metadata": {
        "id": "3HxuoXDbTYSk"
      }
    },
    {
      "cell_type": "markdown",
      "source": [
        "MolT5에 대한 공식 논문은 \"Self-Supervised Learning on Molecular Data as a Language Model\"라는 제목으로 발표되었습니다. 이 논문은 자기 지도 학습(Self-Supervised Learning)이 분자 데이터에 어떻게 적용될 수 있는지 탐구하며, MolT5를 화학 구조를 이해하기 위한 통합 모델로 소개하고 있습니다. 이 연구는 대규모 데이터셋과 T5 아키텍처를 활용하여, MolT5가 분자 특성, 반응, 구조 등을 텍스트 기반 설명을 통해 효율적으로 처리할 수 있음을 보여줍니다."
      ],
      "metadata": {
        "id": "yUGIaNvaTaPT"
      }
    },
    {
      "cell_type": "markdown",
      "source": [
        "## MolT5 튜토리얼"
      ],
      "metadata": {
        "id": "t2gbk5FPZ2gs"
      }
    },
    {
      "cell_type": "markdown",
      "source": [
        "### 1. Colab 환경 설정"
      ],
      "metadata": {
        "id": "Xy6pfH9vZ6wG"
      }
    },
    {
      "cell_type": "code",
      "source": [
        "# 필요한 라이브러리 설치\n",
        "!pip install -q transformers rdkit"
      ],
      "metadata": {
        "colab": {
          "base_uri": "https://localhost:8080/"
        },
        "id": "ebI8vbaEZdsf",
        "outputId": "4c41e445-fe0e-4015-c1dc-d5f4687e7571"
      },
      "execution_count": 1,
      "outputs": [
        {
          "output_type": "stream",
          "name": "stdout",
          "text": [
            "\u001b[2K   \u001b[90m━━━━━━━━━━━━━━━━━━━━━━━━━━━━━━━━━━━━━━━━\u001b[0m \u001b[32m33.1/33.1 MB\u001b[0m \u001b[31m20.3 MB/s\u001b[0m eta \u001b[36m0:00:00\u001b[0m\n",
            "\u001b[?25h"
          ]
        }
      ]
    },
    {
      "cell_type": "markdown",
      "source": [
        "### 2. 라이브러리 가져오기"
      ],
      "metadata": {
        "id": "kzh-c_zlaS__"
      }
    },
    {
      "cell_type": "code",
      "source": [
        "# 필요한 라이브러리 가져오기\n",
        "from transformers import T5Tokenizer, T5ForConditionalGeneration\n",
        "from rdkit.Chem import Draw\n",
        "from rdkit import Chem\n",
        "import pandas as pd  # 여러 분자 설명을 처리하기 위한 라이브러리\n",
        "from IPython.display import display  # Colab에서 이미지를 표시하기 위한 라이브러리"
      ],
      "metadata": {
        "id": "FgDGD3rgaMe3"
      },
      "execution_count": 2,
      "outputs": []
    },
    {
      "cell_type": "markdown",
      "source": [
        "### 3. MolT5 모델과 토크나이저 로드하기"
      ],
      "metadata": {
        "id": "UXU6EJ8_axi3"
      }
    },
    {
      "cell_type": "code",
      "source": [
        "# MolT5 모델과 토크나이저 로드\n",
        "tokenizer = T5Tokenizer.from_pretrained(\"laituan245/molt5-large-caption2smiles\", model_max_length=512)\n",
        "model = T5ForConditionalGeneration.from_pretrained(\"laituan245/molt5-large-caption2smiles\")"
      ],
      "metadata": {
        "colab": {
          "base_uri": "https://localhost:8080/",
          "height": 394,
          "referenced_widgets": [
            "1c3652c7032341debbc882521c11d794",
            "5e3c074c89af4ba39284c2185121c199",
            "fd494bd7ff3e4ebcbd17d2b5880e5e4e",
            "fcef208b5c1b40a8b293e3869dcd486d",
            "09cab964da0d4ddf80ebf65fa75f0468",
            "2721fa3bc6d84ca381bb342a9ce590a7",
            "37f61de1098d4278a9125f648cd513f1",
            "3e0774d2b06f485a8ff09c999c4ff29e",
            "4124b44d8b274016811c5798f1003951",
            "3af41fb9e5a347e6970b8015d2964fca",
            "4d809066c3824f808fa6f12c6b207b2c",
            "d162d1b2456a43fa9e24ab8520dc5ecd",
            "b67f59c98a3f41068059e432c701c919",
            "fdb244fd0c0e428a918f06cfcc81b965",
            "709ef40ee298461e98ff6e2c988d8d9e",
            "2da9d2439e2e42aeb6e49ec5c1ba4bad",
            "69f493a6e219491b8412e5dd61f1cc4a",
            "f959c44f70ec4389bb775029bfdd2ac2",
            "0937fbb1ce694c3195d9acfdc013fcfb",
            "f0aa56982edb42edb698c42b76be6289",
            "6b11ee2eff054b48ab0daaf55b85c6de",
            "d9a77727ac5e41189f2fea318aba2d44",
            "0223dc5012a54f18961ccf38fa84a2ab",
            "51fff4c3d44f4a7fba0215d5d2117a10",
            "3c5a7ccb656c4deca24b4666eaf4dd8e",
            "5b6a2b86de124f718a7f24ed40de4618",
            "61ce112d0763453dbe591ac77a816cbf",
            "3d56da6a57b64a74ba81e4bbaa72a152",
            "ef09667187a04ee58fbb41d0e4fd67f9",
            "2bf9341b40374dcbb7ca3cf94d4ee091",
            "43da7b6664c848209b30154235c92f64",
            "45bc690d3d4f4f2b807f7d995496a560",
            "2c6a7a7c469845649bca94ca8be336dd",
            "e3aab933867c4bd386a70cc9d9743b7b",
            "327e17b24ac840b6863a350f4846d3f0",
            "63332dd1a7b545c0acae8140fabdd440",
            "bd7cd8b83406450fae0ed66ed97016aa",
            "e5d75c56478946debcfd708ee39bd8a8",
            "294ed7ac86584d3899f1e6ae3f720753",
            "aa662adbeef84eb7832e5504d87b161e",
            "65d32a6638fb420baab7b845bd806e99",
            "44cd0db7ec0d437f85aca1c512863c2f",
            "95cdd1954ed842d6ade4cac896791a99",
            "fedca6c808474e46810da4c8deaacb4d",
            "1316c4d2c5044cbf9ac59b8e53b5182c",
            "5fd22af8a133477685ea37599699d0c6",
            "6b2ba4d3a5264742a79a9d005edda820",
            "c959b6dac3ca4b20b8eb93804516159f",
            "830dea8709354e4f8fa26dca60d319e3",
            "443159d1100945ea89a4f896ceb895d5",
            "95e967849a21488cbcf45c6e840f0d45",
            "4a126c7c47a7460599862db66e6bd542",
            "14e16c3482ea4cedadce62eaed9cf0a9",
            "d49ba76a089a43729aa3d05e7e83f230",
            "006018a9b5a249f59fc804a07f42b450",
            "41c07d2e9618454aa2c0519636f6c159",
            "6a6fe420a0554762a8b5fba4e3410903",
            "a48c32ae2d6840168ef05727a3ac4330",
            "3103b15edddb4e4db74eaf58ab7218e3",
            "f08c000a2f014cbda66c0dbf6999e424",
            "3fe2ee41a6e9451ba5b8f6a9cfe798be",
            "b175de17f3054e21b3d55d5593a92428",
            "9bc19cb72f8b4bd7883853cde2db3a3b",
            "e70e1a4cd17447cf9fa8a04ad61e314e",
            "8cc19eef732543298db0159de310dd79",
            "4029d665748a493ab1ac4abfb2c772e7"
          ]
        },
        "id": "nR8KIeYDab6K",
        "outputId": "6a66a34c-10c6-4db4-95da-94b3e972746d"
      },
      "execution_count": 3,
      "outputs": [
        {
          "output_type": "stream",
          "name": "stderr",
          "text": [
            "/usr/local/lib/python3.10/dist-packages/huggingface_hub/utils/_token.py:89: UserWarning: \n",
            "The secret `HF_TOKEN` does not exist in your Colab secrets.\n",
            "To authenticate with the Hugging Face Hub, create a token in your settings tab (https://huggingface.co/settings/tokens), set it as secret in your Google Colab and restart your session.\n",
            "You will be able to reuse this secret in all of your notebooks.\n",
            "Please note that authentication is recommended but still optional to access public models or datasets.\n",
            "  warnings.warn(\n"
          ]
        },
        {
          "output_type": "display_data",
          "data": {
            "text/plain": [
              "tokenizer_config.json:   0%|          | 0.00/2.13k [00:00<?, ?B/s]"
            ],
            "application/vnd.jupyter.widget-view+json": {
              "version_major": 2,
              "version_minor": 0,
              "model_id": "1c3652c7032341debbc882521c11d794"
            }
          },
          "metadata": {}
        },
        {
          "output_type": "display_data",
          "data": {
            "text/plain": [
              "spiece.model:   0%|          | 0.00/792k [00:00<?, ?B/s]"
            ],
            "application/vnd.jupyter.widget-view+json": {
              "version_major": 2,
              "version_minor": 0,
              "model_id": "d162d1b2456a43fa9e24ab8520dc5ecd"
            }
          },
          "metadata": {}
        },
        {
          "output_type": "display_data",
          "data": {
            "text/plain": [
              "special_tokens_map.json:   0%|          | 0.00/1.79k [00:00<?, ?B/s]"
            ],
            "application/vnd.jupyter.widget-view+json": {
              "version_major": 2,
              "version_minor": 0,
              "model_id": "0223dc5012a54f18961ccf38fa84a2ab"
            }
          },
          "metadata": {}
        },
        {
          "output_type": "display_data",
          "data": {
            "text/plain": [
              "tokenizer.json:   0%|          | 0.00/2.42M [00:00<?, ?B/s]"
            ],
            "application/vnd.jupyter.widget-view+json": {
              "version_major": 2,
              "version_minor": 0,
              "model_id": "e3aab933867c4bd386a70cc9d9743b7b"
            }
          },
          "metadata": {}
        },
        {
          "output_type": "stream",
          "name": "stderr",
          "text": [
            "You are using the default legacy behaviour of the <class 'transformers.models.t5.tokenization_t5.T5Tokenizer'>. This is expected, and simply means that the `legacy` (previous) behavior will be used so nothing changes for you. If you want to use the new behaviour, set `legacy=False`. This should only be set if you understand what it means, and thoroughly read the reason why this was added as explained in https://github.com/huggingface/transformers/pull/24565\n",
            "/usr/local/lib/python3.10/dist-packages/transformers/tokenization_utils_base.py:1601: FutureWarning: `clean_up_tokenization_spaces` was not set. It will be set to `True` by default. This behavior will be depracted in transformers v4.45, and will be then set to `False` by default. For more details check this issue: https://github.com/huggingface/transformers/issues/31884\n",
            "  warnings.warn(\n"
          ]
        },
        {
          "output_type": "display_data",
          "data": {
            "text/plain": [
              "config.json:   0%|          | 0.00/700 [00:00<?, ?B/s]"
            ],
            "application/vnd.jupyter.widget-view+json": {
              "version_major": 2,
              "version_minor": 0,
              "model_id": "1316c4d2c5044cbf9ac59b8e53b5182c"
            }
          },
          "metadata": {}
        },
        {
          "output_type": "display_data",
          "data": {
            "text/plain": [
              "pytorch_model.bin:   0%|          | 0.00/3.13G [00:00<?, ?B/s]"
            ],
            "application/vnd.jupyter.widget-view+json": {
              "version_major": 2,
              "version_minor": 0,
              "model_id": "41c07d2e9618454aa2c0519636f6c159"
            }
          },
          "metadata": {}
        }
      ]
    },
    {
      "cell_type": "markdown",
      "source": [
        "### 4. 하나의 텍스트 설명을 분자로 변환하기"
      ],
      "metadata": {
        "id": "2ZcvkBXVa7US"
      }
    },
    {
      "cell_type": "code",
      "source": [
        "# 분자에 대한 텍스트 설명 입력\n",
        "input_text = 'The molecule is a monomethoxybenzene that is 2-methoxyphenol substituted by a hydroxymethyl group at position 4.'\n",
        "\n",
        "# 설명을 SMILES로 변환\n",
        "inputs = tokenizer.encode(input_text, return_tensors=\"pt\")\n",
        "output_ids = model.generate(inputs, max_length=512)\n",
        "smiles = tokenizer.decode(output_ids[0], skip_special_tokens=True)\n",
        "print(\"생성된 SMILES:\", smiles)\n",
        "\n",
        "# 분자 시각화\n",
        "mol = Chem.MolFromSmiles(smiles)\n",
        "if mol:\n",
        "    display(Draw.MolToImage(mol, size=(300, 300)))\n",
        "else:\n",
        "    print(\"유효한 분자를 생성할 수 없습니다.\")"
      ],
      "metadata": {
        "colab": {
          "base_uri": "https://localhost:8080/",
          "height": 335
        },
        "id": "_9xkDK8ea4eE",
        "outputId": "27edcc21-5400-4382-828e-f32ea06dd125"
      },
      "execution_count": 4,
      "outputs": [
        {
          "output_type": "stream",
          "name": "stdout",
          "text": [
            "생성된 SMILES: COC1=CC=C(C=C1)CO\n"
          ]
        },
        {
          "output_type": "display_data",
          "data": {
            "text/plain": [
              "<PIL.PngImagePlugin.PngImageFile image mode=RGB size=300x300>"
            ],
            "image/png": "[encoded data removed]",
            "image/jpeg": "[encoded data removed]"
          },
          "metadata": {}
        }
      ]
    },
    {
      "cell_type": "markdown",
      "source": [
        "### 5. 여러 개의 분자 설명을 일괄 처리"
      ],
      "metadata": {
        "id": "UTXKccLabIFc"
      }
    },
    {
      "cell_type": "code",
      "source": [
        "# 여러 개의 분자 설명 예시\n",
        "descriptions = [\n",
        "    'A benzene ring substituted with a nitro group at position 1 and a hydroxyl group at position 2.',\n",
        "    'A molecule consisting of a six-membered ring with two hydroxyl groups at positions 1 and 3.',\n",
        "    'An aliphatic compound containing a methyl group at the first carbon and an ethyl group at the second carbon.'\n",
        "]\n",
        "\n",
        "# 여러 설명을 처리하기 위한 DataFrame 생성\n",
        "df = pd.DataFrame(descriptions, columns=['Description'])\n",
        "df['SMILES'] = ''\n",
        "\n",
        "# 각 설명에 대해 SMILES 생성\n",
        "for idx, desc in enumerate(df['Description']):\n",
        "    inputs = tokenizer.encode(desc, return_tensors=\"pt\")\n",
        "    output_ids = model.generate(inputs, max_length=512)\n",
        "    df.at[idx, 'SMILES'] = tokenizer.decode(output_ids[0], skip_special_tokens=True)\n",
        "\n",
        "# DataFrame 표시\n",
        "display(df)\n"
      ],
      "metadata": {
        "colab": {
          "base_uri": "https://localhost:8080/",
          "height": 143
        },
        "id": "8XgDlJP5bFfY",
        "outputId": "b6725384-8d0f-4bcd-edca-de12c37c2c90"
      },
      "execution_count": 5,
      "outputs": [
        {
          "output_type": "display_data",
          "data": {
            "text/plain": [
              "                                         Description  \\\n",
              "0  A benzene ring substituted with a nitro group ...   \n",
              "1  A molecule consisting of a six-membered ring w...   \n",
              "2  An aliphatic compound containing a methyl grou...   \n",
              "\n",
              "                         SMILES  \n",
              "0  C1=CC=C(C(=C1)[N+](=O)[O-])O  \n",
              "1            C1=CC(=C(C=C1O)O)O  \n",
              "2                    CCC(C)(C)C  "
            ],
            "text/html": [
              "\n",
              "  <div id=\"df-c65001fb-e4a6-42e4-9df0-d9fdfb67473d\" class=\"colab-df-container\">\n",
              "    <div>\n",
              "<style scoped>\n",
              "    .dataframe tbody tr th:only-of-type {\n",
              "        vertical-align: middle;\n",
              "    }\n",
              "\n",
              "    .dataframe tbody tr th {\n",
              "        vertical-align: top;\n",
              "    }\n",
              "\n",
              "    .dataframe thead th {\n",
              "        text-align: right;\n",
              "    }\n",
              "</style>\n",
              "<table border=\"1\" class=\"dataframe\">\n",
              "  <thead>\n",
              "    <tr style=\"text-align: right;\">\n",
              "      <th></th>\n",
              "      <th>Description</th>\n",
              "      <th>SMILES</th>\n",
              "    </tr>\n",
              "  </thead>\n",
              "  <tbody>\n",
              "    <tr>\n",
              "      <th>0</th>\n",
              "      <td>A benzene ring substituted with a nitro group ...</td>\n",
              "      <td>C1=CC=C(C(=C1)[N+](=O)[O-])O</td>\n",
              "    </tr>\n",
              "    <tr>\n",
              "      <th>1</th>\n",
              "      <td>A molecule consisting of a six-membered ring w...</td>\n",
              "      <td>C1=CC(=C(C=C1O)O)O</td>\n",
              "    </tr>\n",
              "    <tr>\n",
              "      <th>2</th>\n",
              "      <td>An aliphatic compound containing a methyl grou...</td>\n",
              "      <td>CCC(C)(C)C</td>\n",
              "    </tr>\n",
              "  </tbody>\n",
              "</table>\n",
              "</div>\n",
              "    <div class=\"colab-df-buttons\">\n",
              "\n",
              "  <div class=\"colab-df-container\">\n",
              "    <button class=\"colab-df-convert\" onclick=\"convertToInteractive('df-c65001fb-e4a6-42e4-9df0-d9fdfb67473d')\"\n",
              "            title=\"Convert this dataframe to an interactive table.\"\n",
              "            style=\"display:none;\">\n",
              "\n",
              "  <svg xmlns=\"http://www.w3.org/2000/svg\" height=\"24px\" viewBox=\"0 -960 960 960\">\n",
              "    <path d=\"M120-120v-720h720v720H120Zm60-500h600v-160H180v160Zm220 220h160v-160H400v160Zm0 220h160v-160H400v160ZM180-400h160v-160H180v160Zm440 0h160v-160H620v160ZM180-180h160v-160H180v160Zm440 0h160v-160H620v160Z\"/>\n",
              "  </svg>\n",
              "    </button>\n",
              "\n",
              "  <style>\n",
              "    .colab-df-container {\n",
              "      display:flex;\n",
              "      gap: 12px;\n",
              "    }\n",
              "\n",
              "    .colab-df-convert {\n",
              "      background-color: #E8F0FE;\n",
              "      border: none;\n",
              "      border-radius: 50%;\n",
              "      cursor: pointer;\n",
              "      display: none;\n",
              "      fill: #1967D2;\n",
              "      height: 32px;\n",
              "      padding: 0 0 0 0;\n",
              "      width: 32px;\n",
              "    }\n",
              "\n",
              "    .colab-df-convert:hover {\n",
              "      background-color: #E2EBFA;\n",
              "      box-shadow: 0px 1px 2px rgba(60, 64, 67, 0.3), 0px 1px 3px 1px rgba(60, 64, 67, 0.15);\n",
              "      fill: #174EA6;\n",
              "    }\n",
              "\n",
              "    .colab-df-buttons div {\n",
              "      margin-bottom: 4px;\n",
              "    }\n",
              "\n",
              "    [theme=dark] .colab-df-convert {\n",
              "      background-color: #3B4455;\n",
              "      fill: #D2E3FC;\n",
              "    }\n",
              "\n",
              "    [theme=dark] .colab-df-convert:hover {\n",
              "      background-color: #434B5C;\n",
              "      box-shadow: 0px 1px 3px 1px rgba(0, 0, 0, 0.15);\n",
              "      filter: drop-shadow(0px 1px 2px rgba(0, 0, 0, 0.3));\n",
              "      fill: #FFFFFF;\n",
              "    }\n",
              "  </style>\n",
              "\n",
              "    <script>\n",
              "      const buttonEl =\n",
              "        document.querySelector('#df-c65001fb-e4a6-42e4-9df0-d9fdfb67473d button.colab-df-convert');\n",
              "      buttonEl.style.display =\n",
              "        google.colab.kernel.accessAllowed ? 'block' : 'none';\n",
              "\n",
              "      async function convertToInteractive(key) {\n",
              "        const element = document.querySelector('#df-c65001fb-e4a6-42e4-9df0-d9fdfb67473d');\n",
              "        const dataTable =\n",
              "          await google.colab.kernel.invokeFunction('convertToInteractive',\n",
              "                                                    [key], {});\n",
              "        if (!dataTable) return;\n",
              "\n",
              "        const docLinkHtml = 'Like what you see? Visit the ' +\n",
              "          '<a target=\"_blank\" href=https://colab.research.google.com/notebooks/data_table.ipynb>data table notebook</a>'\n",
              "          + ' to learn more about interactive tables.';\n",
              "        element.innerHTML = '';\n",
              "        dataTable['output_type'] = 'display_data';\n",
              "        await google.colab.output.renderOutput(dataTable, element);\n",
              "        const docLink = document.createElement('div');\n",
              "        docLink.innerHTML = docLinkHtml;\n",
              "        element.appendChild(docLink);\n",
              "      }\n",
              "    </script>\n",
              "  </div>\n",
              "\n",
              "\n",
              "<div id=\"df-8e74ab14-6a9b-444c-ac68-20019bb2d9ed\">\n",
              "  <button class=\"colab-df-quickchart\" onclick=\"quickchart('df-8e74ab14-6a9b-444c-ac68-20019bb2d9ed')\"\n",
              "            title=\"Suggest charts\"\n",
              "            style=\"display:none;\">\n",
              "\n",
              "<svg xmlns=\"http://www.w3.org/2000/svg\" height=\"24px\"viewBox=\"0 0 24 24\"\n",
              "     width=\"24px\">\n",
              "    <g>\n",
              "        <path d=\"M19 3H5c-1.1 0-2 .9-2 2v14c0 1.1.9 2 2 2h14c1.1 0 2-.9 2-2V5c0-1.1-.9-2-2-2zM9 17H7v-7h2v7zm4 0h-2V7h2v10zm4 0h-2v-4h2v4z\"/>\n",
              "    </g>\n",
              "</svg>\n",
              "  </button>\n",
              "\n",
              "<style>\n",
              "  .colab-df-quickchart {\n",
              "      --bg-color: #E8F0FE;\n",
              "      --fill-color: #1967D2;\n",
              "      --hover-bg-color: #E2EBFA;\n",
              "      --hover-fill-color: #174EA6;\n",
              "      --disabled-fill-color: #AAA;\n",
              "      --disabled-bg-color: #DDD;\n",
              "  }\n",
              "\n",
              "  [theme=dark] .colab-df-quickchart {\n",
              "      --bg-color: #3B4455;\n",
              "      --fill-color: #D2E3FC;\n",
              "      --hover-bg-color: #434B5C;\n",
              "      --hover-fill-color: #FFFFFF;\n",
              "      --disabled-bg-color: #3B4455;\n",
              "      --disabled-fill-color: #666;\n",
              "  }\n",
              "\n",
              "  .colab-df-quickchart {\n",
              "    background-color: var(--bg-color);\n",
              "    border: none;\n",
              "    border-radius: 50%;\n",
              "    cursor: pointer;\n",
              "    display: none;\n",
              "    fill: var(--fill-color);\n",
              "    height: 32px;\n",
              "    padding: 0;\n",
              "    width: 32px;\n",
              "  }\n",
              "\n",
              "  .colab-df-quickchart:hover {\n",
              "    background-color: var(--hover-bg-color);\n",
              "    box-shadow: 0 1px 2px rgba(60, 64, 67, 0.3), 0 1px 3px 1px rgba(60, 64, 67, 0.15);\n",
              "    fill: var(--button-hover-fill-color);\n",
              "  }\n",
              "\n",
              "  .colab-df-quickchart-complete:disabled,\n",
              "  .colab-df-quickchart-complete:disabled:hover {\n",
              "    background-color: var(--disabled-bg-color);\n",
              "    fill: var(--disabled-fill-color);\n",
              "    box-shadow: none;\n",
              "  }\n",
              "\n",
              "  .colab-df-spinner {\n",
              "    border: 2px solid var(--fill-color);\n",
              "    border-color: transparent;\n",
              "    border-bottom-color: var(--fill-color);\n",
              "    animation:\n",
              "      spin 1s steps(1) infinite;\n",
              "  }\n",
              "\n",
              "  @keyframes spin {\n",
              "    0% {\n",
              "      border-color: transparent;\n",
              "      border-bottom-color: var(--fill-color);\n",
              "      border-left-color: var(--fill-color);\n",
              "    }\n",
              "    20% {\n",
              "      border-color: transparent;\n",
              "      border-left-color: var(--fill-color);\n",
              "      border-top-color: var(--fill-color);\n",
              "    }\n",
              "    30% {\n",
              "      border-color: transparent;\n",
              "      border-left-color: var(--fill-color);\n",
              "      border-top-color: var(--fill-color);\n",
              "      border-right-color: var(--fill-color);\n",
              "    }\n",
              "    40% {\n",
              "      border-color: transparent;\n",
              "      border-right-color: var(--fill-color);\n",
              "      border-top-color: var(--fill-color);\n",
              "    }\n",
              "    60% {\n",
              "      border-color: transparent;\n",
              "      border-right-color: var(--fill-color);\n",
              "    }\n",
              "    80% {\n",
              "      border-color: transparent;\n",
              "      border-right-color: var(--fill-color);\n",
              "      border-bottom-color: var(--fill-color);\n",
              "    }\n",
              "    90% {\n",
              "      border-color: transparent;\n",
              "      border-bottom-color: var(--fill-color);\n",
              "    }\n",
              "  }\n",
              "</style>\n",
              "\n",
              "  <script>\n",
              "    async function quickchart(key) {\n",
              "      const quickchartButtonEl =\n",
              "        document.querySelector('#' + key + ' button');\n",
              "      quickchartButtonEl.disabled = true;  // To prevent multiple clicks.\n",
              "      quickchartButtonEl.classList.add('colab-df-spinner');\n",
              "      try {\n",
              "        const charts = await google.colab.kernel.invokeFunction(\n",
              "            'suggestCharts', [key], {});\n",
              "      } catch (error) {\n",
              "        console.error('Error during call to suggestCharts:', error);\n",
              "      }\n",
              "      quickchartButtonEl.classList.remove('colab-df-spinner');\n",
              "      quickchartButtonEl.classList.add('colab-df-quickchart-complete');\n",
              "    }\n",
              "    (() => {\n",
              "      let quickchartButtonEl =\n",
              "        document.querySelector('#df-8e74ab14-6a9b-444c-ac68-20019bb2d9ed button');\n",
              "      quickchartButtonEl.style.display =\n",
              "        google.colab.kernel.accessAllowed ? 'block' : 'none';\n",
              "    })();\n",
              "  </script>\n",
              "</div>\n",
              "\n",
              "  <div id=\"id_28e81a1e-109a-46b0-86bb-7bf6cf146630\">\n",
              "    <style>\n",
              "      .colab-df-generate {\n",
              "        background-color: #E8F0FE;\n",
              "        border: none;\n",
              "        border-radius: 50%;\n",
              "        cursor: pointer;\n",
              "        display: none;\n",
              "        fill: #1967D2;\n",
              "        height: 32px;\n",
              "        padding: 0 0 0 0;\n",
              "        width: 32px;\n",
              "      }\n",
              "\n",
              "      .colab-df-generate:hover {\n",
              "        background-color: #E2EBFA;\n",
              "        box-shadow: 0px 1px 2px rgba(60, 64, 67, 0.3), 0px 1px 3px 1px rgba(60, 64, 67, 0.15);\n",
              "        fill: #174EA6;\n",
              "      }\n",
              "\n",
              "      [theme=dark] .colab-df-generate {\n",
              "        background-color: #3B4455;\n",
              "        fill: #D2E3FC;\n",
              "      }\n",
              "\n",
              "      [theme=dark] .colab-df-generate:hover {\n",
              "        background-color: #434B5C;\n",
              "        box-shadow: 0px 1px 3px 1px rgba(0, 0, 0, 0.15);\n",
              "        filter: drop-shadow(0px 1px 2px rgba(0, 0, 0, 0.3));\n",
              "        fill: #FFFFFF;\n",
              "      }\n",
              "    </style>\n",
              "    <button class=\"colab-df-generate\" onclick=\"generateWithVariable('df')\"\n",
              "            title=\"Generate code using this dataframe.\"\n",
              "            style=\"display:none;\">\n",
              "\n",
              "  <svg xmlns=\"http://www.w3.org/2000/svg\" height=\"24px\"viewBox=\"0 0 24 24\"\n",
              "       width=\"24px\">\n",
              "    <path d=\"M7,19H8.4L18.45,9,17,7.55,7,17.6ZM5,21V16.75L18.45,3.32a2,2,0,0,1,2.83,0l1.4,1.43a1.91,1.91,0,0,1,.58,1.4,1.91,1.91,0,0,1-.58,1.4L9.25,21ZM18.45,9,17,7.55Zm-12,3A5.31,5.31,0,0,0,4.9,8.1,5.31,5.31,0,0,0,1,6.5,5.31,5.31,0,0,0,4.9,4.9,5.31,5.31,0,0,0,6.5,1,5.31,5.31,0,0,0,8.1,4.9,5.31,5.31,0,0,0,12,6.5,5.46,5.46,0,0,0,6.5,12Z\"/>\n",
              "  </svg>\n",
              "    </button>\n",
              "    <script>\n",
              "      (() => {\n",
              "      const buttonEl =\n",
              "        document.querySelector('#id_28e81a1e-109a-46b0-86bb-7bf6cf146630 button.colab-df-generate');\n",
              "      buttonEl.style.display =\n",
              "        google.colab.kernel.accessAllowed ? 'block' : 'none';\n",
              "\n",
              "      buttonEl.onclick = () => {\n",
              "        google.colab.notebook.generateWithVariable('df');\n",
              "      }\n",
              "      })();\n",
              "    </script>\n",
              "  </div>\n",
              "\n",
              "    </div>\n",
              "  </div>\n"
            ],
            "application/vnd.google.colaboratory.intrinsic+json": {
              "type": "dataframe",
              "variable_name": "df",
              "summary": "{\n  \"name\": \"df\",\n  \"rows\": 3,\n  \"fields\": [\n    {\n      \"column\": \"Description\",\n      \"properties\": {\n        \"dtype\": \"string\",\n        \"num_unique_values\": 3,\n        \"samples\": [\n          \"A benzene ring substituted with a nitro group at position 1 and a hydroxyl group at position 2.\",\n          \"A molecule consisting of a six-membered ring with two hydroxyl groups at positions 1 and 3.\",\n          \"An aliphatic compound containing a methyl group at the first carbon and an ethyl group at the second carbon.\"\n        ],\n        \"semantic_type\": \"\",\n        \"description\": \"\"\n      }\n    },\n    {\n      \"column\": \"SMILES\",\n      \"properties\": {\n        \"dtype\": \"string\",\n        \"num_unique_values\": 3,\n        \"samples\": [\n          \"C1=CC=C(C(=C1)[N+](=O)[O-])O\",\n          \"C1=CC(=C(C=C1O)O)O\",\n          \"CCC(C)(C)C\"\n        ],\n        \"semantic_type\": \"\",\n        \"description\": \"\"\n      }\n    }\n  ]\n}"
            }
          },
          "metadata": {}
        }
      ]
    },
    {
      "cell_type": "markdown",
      "source": [
        "### 6. 에러처리 및 시각화"
      ],
      "metadata": {
        "id": "C0gZTYxgcVKF"
      }
    },
    {
      "cell_type": "code",
      "source": [
        "# 분자를 시각화하는 함수\n",
        "def visualize_molecule(smiles):\n",
        "    try:\n",
        "        mol = Chem.MolFromSmiles(smiles)\n",
        "        if mol:\n",
        "            display(Draw.MolToImage(mol, size=(300, 300)))\n",
        "        else:\n",
        "            print(f\"유효하지 않은 SMILES: {smiles}\")\n",
        "    except Exception as e:\n",
        "        print(f\"오류: {e}\")\n",
        "\n",
        "# 에러 처리가 포함된 예시\n",
        "input_text = 'A molecule with an invalid description.'\n",
        "inputs = tokenizer.encode(input_text, return_tensors=\"pt\")\n",
        "output_ids = model.generate(inputs, max_length=512)\n",
        "smiles = tokenizer.decode(output_ids[0], skip_special_tokens=True)\n",
        "print(\"생성된 SMILES:\", smiles)\n",
        "\n",
        "# 에러 처리를 포함한 시각화\n",
        "visualize_molecule(smiles)\n"
      ],
      "metadata": {
        "colab": {
          "base_uri": "https://localhost:8080/",
          "height": 372
        },
        "id": "TYs1dhTjcTyG",
        "outputId": "73cc1d46-60a3-4624-a17a-b7d0f4194d20"
      },
      "execution_count": 6,
      "outputs": [
        {
          "output_type": "stream",
          "name": "stdout",
          "text": [
            "생성된 SMILES: [H+].[H+].CC1=CC=C(C=C1)N\n"
          ]
        },
        {
          "output_type": "stream",
          "name": "stderr",
          "text": [
            "[05:12:25] WARNING: not removing hydrogen atom without neighbors\n",
            "[05:12:25] WARNING: not removing hydrogen atom without neighbors\n"
          ]
        },
        {
          "output_type": "display_data",
          "data": {
            "text/plain": [
              "<PIL.PngImagePlugin.PngImageFile image mode=RGB size=300x300>"
            ],
            "image/png": "[encoded data removed]",
            "image/jpeg": "[encoded data removed]"
          },
          "metadata": {}
        }
      ]
    },
    {
      "cell_type": "markdown",
      "source": [
        "### 7. SMILES를 설명으로 변환하기"
      ],
      "metadata": {
        "id": "4HfJwrexcqNy"
      }
    },
    {
      "cell_type": "code",
      "source": [
        "# SMILES를 설명으로 변환하기 위한 모델 로드\n",
        "tokenizer_caption = T5Tokenizer.from_pretrained(\"laituan245/molt5-large-smiles2caption\", model_max_length=512)\n",
        "model_caption = T5ForConditionalGeneration.from_pretrained(\"laituan245/molt5-large-smiles2caption\")\n",
        "\n",
        "# 예시 SMILES 문자열\n",
        "smiles_example = \"CCO\"\n",
        "inputs = tokenizer_caption.encode(smiles_example, return_tensors=\"pt\")\n",
        "output_ids = model_caption.generate(inputs, max_length=512)\n",
        "description = tokenizer_caption.decode(output_ids[0], skip_special_tokens=True)\n",
        "\n",
        "print(\"생성된 설명:\", description)"
      ],
      "metadata": {
        "colab": {
          "base_uri": "https://localhost:8080/",
          "height": 284,
          "referenced_widgets": [
            "2c34f9bdd5cb45938d051a985f8af19d",
            "dfb73a0edb0e44c691c506890bc2274a",
            "18373922ee5a46dd8ebb555886fc2887",
            "0eb08af2720e46fb9f754314c3c3b715",
            "f5a35b9c0ef74eef83a5e389ad7db01b",
            "bce73229c4e54d548051c023e3553c3b",
            "401d4b63fb4c4b2d97f86fa08c170ef5",
            "7677e19cdd9547358546479a07a1644a",
            "bdcc33a2c1ce48148ac2f0c09e032fa5",
            "515997296d8e441d8bd4ebdfb92ebd76",
            "b3b1f23cf3fb482baf388c4879d6119e",
            "de23c7e2d41e48a184f2e3559ed083e7",
            "7a3873057cb54da1bc380c6a69a73b08",
            "b806710ce37a44e8bfb1ab1c910a9dac",
            "022133ea5cee46409e22acd94c06c550",
            "9e50ab433f4041cb8e252d4b76be9b3a",
            "63bed20e3dd14b31b9e291d3abe0e3e8",
            "ad96b069b6594346b5fda05b33729462",
            "cf54f8a8eaf2447d83e61e1d52fae5d9",
            "f3a56b96e50949e4af4592e2365571d9",
            "fe947bf9a659424989f3a9ca2f14e941",
            "7f16c85c351f4f279ae67848561dc5f7",
            "51f56d45ab584327bac87558f61917f6",
            "2498010dd5104ab8a5b03aca174745e7",
            "fdd3d951b82d496fb5c3012f9c29bb46",
            "c39575dbcd324581a257dafc62201f92",
            "1a9f057eb7ac45b5b54a5c88406a6120",
            "2b6eae84cc9d4a0d808971d3bbf3e763",
            "4acb2e21cbd64751a05b62b6358d9c49",
            "7c0179b0f79b4daba9399a7da15ec75b",
            "71e4764198074be989849100f291845b",
            "02ad7a75870241c1912d498ee45694a0",
            "f1d1867f818b4288b52a5a8133010b98",
            "7d6c7d29de6847cd8a1df1f1a157b7be",
            "92b88ac97ff646bcb7484a40dd6fc3fd",
            "79dff39d8d344f378342e0c237faee6f",
            "808f3a334d9440f28ff0548089cfcce3",
            "9a43bdf6f5b34ce894ac344712956c79",
            "52724349711743b2949dcb98a7eda116",
            "c6c2d89bc41547778c832206b6930853",
            "36ec852dd53e4cc5a2d9a107562d82c5",
            "a44bb69e17554a7ba5e4bb297270265e",
            "57a23b01810e4855839a9ca486249b4c",
            "7a7bff4b570843e5aac245d7eb585883",
            "7a06255c43e5490ba17b063ce430e8e5",
            "40f9dd095efb443785a324212d230a3b",
            "ff8a9ecb7df64398aa26799e90e011f6",
            "148c591762e649b981b5d98d7b0b009e",
            "669e1e909f8d4e7287ca2b7045644fd1",
            "44b8ea1db72946a6ba7a6e7a0b36344d",
            "3d18e2dce57f42faae805ba0d7043b14",
            "f4f873da78ae4e32ad53c1b992b4ba30",
            "cc4a32d90bfa47988c57974d9554810f",
            "b18bc4ad5bd94493b0471d2c8ca23707",
            "b679c2f6730843aaa0c66f28b6982ee0",
            "c4cd20dbab6e4a1fbd07156f4ca3627b",
            "231e042df39f495f83ad8f0c38a88e7d",
            "ad2745d515d14d098146d580a30a9220",
            "9b1b4c8ae9584a41833636db4bb22eca",
            "56226dc376cc4b76b72e0dedeb606972",
            "001fd10819ee4f91aeb04ffe0b89180a",
            "47f09ee956834628b8b74f4c2e7bd04c",
            "c0b8df2e3fda464ba2333e03c9d1b55a",
            "aafbfc411a9d42a1a5a64ab315fb4027",
            "80761e2ab8d640878361759496139038",
            "a698323c69064c2287dd47fdff40e3de"
          ]
        },
        "id": "C5Mr_qZvcdrT",
        "outputId": "86c5146a-c6c8-4932-ffd7-2f79b8009934"
      },
      "execution_count": 7,
      "outputs": [
        {
          "output_type": "display_data",
          "data": {
            "text/plain": [
              "tokenizer_config.json:   0%|          | 0.00/2.13k [00:00<?, ?B/s]"
            ],
            "application/vnd.jupyter.widget-view+json": {
              "version_major": 2,
              "version_minor": 0,
              "model_id": "2c34f9bdd5cb45938d051a985f8af19d"
            }
          },
          "metadata": {}
        },
        {
          "output_type": "display_data",
          "data": {
            "text/plain": [
              "spiece.model:   0%|          | 0.00/792k [00:00<?, ?B/s]"
            ],
            "application/vnd.jupyter.widget-view+json": {
              "version_major": 2,
              "version_minor": 0,
              "model_id": "de23c7e2d41e48a184f2e3559ed083e7"
            }
          },
          "metadata": {}
        },
        {
          "output_type": "display_data",
          "data": {
            "text/plain": [
              "special_tokens_map.json:   0%|          | 0.00/1.79k [00:00<?, ?B/s]"
            ],
            "application/vnd.jupyter.widget-view+json": {
              "version_major": 2,
              "version_minor": 0,
              "model_id": "51f56d45ab584327bac87558f61917f6"
            }
          },
          "metadata": {}
        },
        {
          "output_type": "display_data",
          "data": {
            "text/plain": [
              "tokenizer.json:   0%|          | 0.00/2.42M [00:00<?, ?B/s]"
            ],
            "application/vnd.jupyter.widget-view+json": {
              "version_major": 2,
              "version_minor": 0,
              "model_id": "7d6c7d29de6847cd8a1df1f1a157b7be"
            }
          },
          "metadata": {}
        },
        {
          "output_type": "stream",
          "name": "stderr",
          "text": [
            "/usr/local/lib/python3.10/dist-packages/transformers/tokenization_utils_base.py:1601: FutureWarning: `clean_up_tokenization_spaces` was not set. It will be set to `True` by default. This behavior will be depracted in transformers v4.45, and will be then set to `False` by default. For more details check this issue: https://github.com/huggingface/transformers/issues/31884\n",
            "  warnings.warn(\n"
          ]
        },
        {
          "output_type": "display_data",
          "data": {
            "text/plain": [
              "config.json:   0%|          | 0.00/700 [00:00<?, ?B/s]"
            ],
            "application/vnd.jupyter.widget-view+json": {
              "version_major": 2,
              "version_minor": 0,
              "model_id": "7a06255c43e5490ba17b063ce430e8e5"
            }
          },
          "metadata": {}
        },
        {
          "output_type": "display_data",
          "data": {
            "text/plain": [
              "pytorch_model.bin:   0%|          | 0.00/3.13G [00:00<?, ?B/s]"
            ],
            "application/vnd.jupyter.widget-view+json": {
              "version_major": 2,
              "version_minor": 0,
              "model_id": "c4cd20dbab6e4a1fbd07156f4ca3627b"
            }
          },
          "metadata": {}
        },
        {
          "output_type": "stream",
          "name": "stdout",
          "text": [
            "생성된 설명: The molecule is an ether in which the oxygen atom is linked to two ethyl groups. It has a role as an inhalation anaesthetic, a non-polar solvent and a refrigerant. It is a volatile organic compound and an ether.\n"
          ]
        }
      ]
    },
    {
      "cell_type": "markdown",
      "source": [
        "### 8. SMILES 문자열 변형"
      ],
      "metadata": {
        "id": "ohABvz59dJfS"
      }
    },
    {
      "cell_type": "code",
      "source": [
        "# MolT5를 SMILES-to-SMILES 변형 모델로 로드하기\n",
        "tokenizer_smiles2caption = T5Tokenizer.from_pretrained(\"laituan245/molt5-large-smiles2caption\", model_max_length=512)\n",
        "model_smiles2caption = T5ForConditionalGeneration.from_pretrained(\"laituan245/molt5-large-smiles2caption\")\n",
        "\n",
        "# 원본 SMILES 예시\n",
        "original_smiles = \"CC(Cc1ccccc1)O\"  # 페닐에틸알코올\n",
        "# SMILES를 설명으로 변환\n",
        "inputs = tokenizer_smiles2caption.encode(original_smiles, return_tensors=\"pt\")\n",
        "output_ids = model_smiles2caption.generate(inputs, max_length=512)\n",
        "caption = tokenizer_smiles2caption.decode(output_ids[0], skip_special_tokens=True)\n",
        "\n",
        "print(\"SMILES에 대한 설명:\", caption)"
      ],
      "metadata": {
        "colab": {
          "base_uri": "https://localhost:8080/"
        },
        "id": "m3HIHQlEcwQh",
        "outputId": "c2360b79-3d11-430c-b8cc-551af11c8525"
      },
      "execution_count": 14,
      "outputs": [
        {
          "output_type": "stream",
          "name": "stdout",
          "text": [
            "SMILES에 대한 설명: The molecule is an alicyclic compound that is cyclopentene substituted at positions 1 and 3 by hydroxy and methyl groups respectively. It is an enol and an alicyclic compound.\n"
          ]
        }
      ]
    },
    {
      "cell_type": "code",
      "source": [
        "# 변형된 설명 (예: \"hydroxyl group을 chlorine atom으로 대체\"하여 에탄올을 염화에틸로 변형)\n",
        "modification = \"In this molecule, the hydroxyl group is replaced by a carboxylic acid group.\"\n",
        "combined_caption = caption + \" \" + modification\n",
        "\n",
        "print(\"결합된 설명:\", combined_caption)\n",
        "\n",
        "# Caption-to-SMILES 모델 로드\n",
        "tokenizer_caption2smiles = T5Tokenizer.from_pretrained(\"laituan245/molt5-large-caption2smiles\", model_max_length=512)\n",
        "model_caption2smiles = T5ForConditionalGeneration.from_pretrained(\"laituan245/molt5-large-caption2smiles\")\n",
        "\n",
        "# 변형된 설명을 SMILES로 변환\n",
        "inputs = tokenizer_caption2smiles.encode(combined_caption, return_tensors=\"pt\")\n",
        "output_ids = model_caption2smiles.generate(inputs, max_length=512)\n",
        "modified_smiles = tokenizer_caption2smiles.decode(output_ids[0], skip_special_tokens=True)\n",
        "\n",
        "print(\"변형된 SMILES:\", modified_smiles)\n",
        "\n",
        "# RDKit을 사용하여 분자 시각화\n",
        "from rdkit.Chem import Draw\n",
        "from rdkit import Chem\n",
        "\n",
        "original_mol = Chem.MolFromSmiles(original_smiles)\n",
        "modified_mol = Chem.MolFromSmiles(modified_smiles)\n",
        "\n",
        "# 원본 및 변형된 분자를 그리드로 표시\n",
        "if original_mol and modified_mol:\n",
        "    img = Draw.MolsToGridImage([original_mol, modified_mol],\n",
        "                               legends=[\"Original Molecule\", \"Modified Molecule\"],\n",
        "                               molsPerRow=2, subImgSize=(300, 300))\n",
        "    display(img)\n",
        "else:\n",
        "    print(\"원본 또는 변형된 SMILES로부터 유효한 분자를 생성할 수 없습니다.\")"
      ],
      "metadata": {
        "colab": {
          "base_uri": "https://localhost:8080/",
          "height": 354
        },
        "id": "bWe6VhBqda7w",
        "outputId": "8e9789cd-b23a-4583-e3d3-3ea96e8c5f75"
      },
      "execution_count": 16,
      "outputs": [
        {
          "output_type": "stream",
          "name": "stdout",
          "text": [
            "결합된 설명: The molecule is an alicyclic compound that is cyclopentene substituted at positions 1 and 3 by hydroxy and methyl groups respectively. It is an enol and an alicyclic compound. In this molecule, the hydroxyl group is replaced by a carboxylic acid group.\n",
            "변형된 SMILES: CC1CCC(=C1)O\n"
          ]
        },
        {
          "output_type": "display_data",
          "data": {
            "image/png": "[encoded data removed]",
            "text/plain": [
              "<IPython.core.display.Image object>"
            ]
          },
          "metadata": {}
        }
      ]
    },
    {
      "cell_type": "markdown",
      "source": [
        "## 결론 및 추가 탐색"
      ],
      "metadata": {
        "id": "Nn19el14ghpG"
      }
    },
    {
      "cell_type": "markdown",
      "source": [
        "MolT5는 텍스트와 분자 표현 간의 변환에서 뛰어난 다재다능함을 보여줍니다. 이 모델을 활용하면 화학 반응 예측, 분자 특성 추정 등의 다양한 화학정보학 작업에 적용할 수 있습니다."
      ],
      "metadata": {
        "id": "LsIz8EFbgkg8"
      }
    },
    {
      "cell_type": "markdown",
      "source": [
        "### References"
      ],
      "metadata": {
        "id": "8uXRJeSHgpfd"
      }
    },
    {
      "cell_type": "markdown",
      "source": [
        "* MolT5 논문: Wang, W., He, X., & Zhu, S. (2022). \"Self-Supervised Learning on Molecular Data as a Language Model\". arXiv preprint arXiv:2204.11817.\n",
        "* T5 아키텍처: Raffel, C., Shazeer, N., Roberts, A., 등. (2020). \"Exploring the Limits of Transfer Learning with a Unified Text-to-Text Transformer.\" Journal of Machine Learning Research, 21(140), 1-67.\n",
        "* 관련 분자 NLP 모델: Schwaller, P., Laino, T., Gaudin, T., 등. (2019). \"Molecular Transformer: A Model for Uncertainty-Calibrated Chemical Reaction Prediction.\" ACS Central Science, 5(9), 1572-1583.\n",
        "\n"
      ],
      "metadata": {
        "id": "wFrH1J1ogwDK"
      }
    },
    {
      "cell_type": "code",
      "source": [],
      "metadata": {
        "id": "0LYXPOniehSz"
      },
      "execution_count": null,
      "outputs": []
    }
  ]
}