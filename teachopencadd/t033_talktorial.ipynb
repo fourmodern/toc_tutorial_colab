{
  "cells": [
    {
      "cell_type": "markdown",
      "metadata": {
        "id": "view-in-github",
        "colab_type": "text"
      },
      "source": [
        "<a href=\"https://colab.research.google.com/github/fourmodern/toc_tutorial_colab/blob/main/teachopencadd/t033_talktorial.ipynb\" target=\"_parent\"><img src=\"https://colab.research.google.com/assets/colab-badge.svg\" alt=\"Open In Colab\"/></a>"
      ]
    },
    {
      "cell_type": "markdown",
      "metadata": {
        "id": "4IUaerZ4G9Ox"
      },
      "source": [
        "# T033 · Molecular representations\n",
        "\n",
        "**Note:** This talktorial is a part of TeachOpenCADD, a platform that aims to teach domain-specific skills and to provide pipeline templates as starting points for research projects.\n",
        "\n",
        "Authors:\n",
        "\n",
        "- Gerrit Großmann, 2022, [Chair for Modelling and Simulation](https://mosi.uni-saarland.de/people/gerrit/), [NextAID](https://nextaid.cs.uni-saarland.de/) project, Saarland University"
      ]
    },
    {
      "cell_type": "markdown",
      "metadata": {
        "id": "YSkj7U8pHJNi"
      },
      "source": [
        "__Talktorial T033__: This talktorial is part of the TeachOpenCADD pipeline described in the TeachOpenCADD publication, consisting of Talktorials T033 to T038."
      ]
    },
    {
      "cell_type": "markdown",
      "metadata": {
        "id": "g8iOcdFAHqHM"
      },
      "source": [
        "## Aim of this talktorial\n",
        "\n",
        "In this talktorial, we conduct the groundwork for the deep learning talktorials.\n",
        "Specifically, we learn about molecular representations and find that representing a molecule in a computer is not a trivial task. Different representations come with their specific implications and (dis-)advantages."
      ]
    },
    {
      "cell_type": "markdown",
      "metadata": {
        "id": "Ez_APDQiIfHv"
      },
      "source": [
        "### Contents in Theory\n",
        "\n",
        "* What is a molecule?\n",
        "* Molecular representations\n",
        "* Molecular Representations for Humans\n",
        "* Computer-age molecular representations"
      ]
    },
    {
      "cell_type": "markdown",
      "metadata": {
        "id": "rx7K9Ca5JFdl"
      },
      "source": [
        "### Contents in Practical\n",
        "\n",
        "* Conformers\n",
        "* Molecular graphs\n",
        "* Fingerprints"
      ]
    },
    {
      "cell_type": "markdown",
      "metadata": {
        "id": "bn0kogZWJTTu"
      },
      "source": [
        "### References\n",
        "\n",
        "* Databases:\n",
        "  * [UniProt Protein Database](https://www.uniprot.org/)\n",
        "  * [AlphaFold Protein Structure Database](https://alphafold.ebi.ac.uk/)\n",
        "* Papers:\n",
        "  * [Molecular representations in AI-driven drug discovery: a review and practical guide](https://jcheminf.biomedcentral.com/articles/10.1186/s13321-020-00460-5#:~:text=Traditionally%2C%20molecules%20are%20represented%20as,of%20chemical%20structures%20in%20cheminformatics.)\n",
        "  * [A Review of molecular representation in the Age of machine learning](https://wires.onlinelibrary.wiley.com/doi/full/10.1002/wcms.1603)\n",
        "  * [Point-based molecular representation learning from conformers](https://openreview.net/pdf?id=pjePBJjlBby)\n",
        "  * [Learning 3D Representations of Molecular Chirality with Invariance to Bond Rotations](https://openreview.net/pdf?id=hm2tNDdgaFK)\n",
        "* Talktorials:\n",
        "  * **Talktorial T008** - Protein data acquisition: Protein Data Bank (PDB)\n",
        "  * **Talktorial T017** - Advanced NGLview usage\n",
        "  * Deep learning talktorials T033 to T038\n",
        "* [Tutorial on chirality](https://chem.libretexts.org/Bookshelves/Organic_Chemistry/Map%3A_Organic_Chemistry_(Vollhardt_and_Schore)/05._Stereoisomers/5.1%3A_Chiral__Molecules)"
      ]
    },
    {
      "cell_type": "markdown",
      "metadata": {
        "id": "AuEOSWySKoPc"
      },
      "source": [
        "## Theory"
      ]
    },
    {
      "cell_type": "markdown",
      "metadata": {
        "id": "Bv8FpLeZKx0a"
      },
      "source": [
        "### What is a molecule?"
      ]
    },
    {
      "cell_type": "markdown",
      "metadata": {
        "id": "umvwE4klLLtv"
      },
      "source": [
        "A molecule is a **group of atoms** that are connected through chemical bonds.\n",
        "The number of atoms can range from only a few (e.g., in low molecular weight drugs) to several thousand (e.g., in proteins) or even millions (e.g., in DNA molecules).\n",
        "\n",
        "The physical force that is most relevant for the formation of molecules from atoms is the **electrostatic force**, which is the force that governs the behavior of charged particles. When atoms interact, their electrons can be repelled by the electrons of other atoms or attracted by their nucleus, leading to the formation of a **chemical bond** (here, we are mostly concerned with [covalent bonds](https://en.wikipedia.org/wiki/Covalent_bond) where electrons are shared between two atoms).\n",
        "\n",
        "The formation of molecules gives a group of atoms a characteristic structure and behavior. The properties of a molecule emerge in a non-trivial way from (the interplay of) its constituent atoms. Molecules are the building blocks of living cells and play a key role in the function of living organisms.\n",
        "\n",
        "In addition to the subdivision into small molecules and macromolecules, the distinction between organic and inorganic molecules is important. Organic molecules are the ones containing carbon-hydrogen or carbon-carbon bonds.\n",
        "This talktorial focuses on **small** and **organic** molecules."
      ]
    },
    {
      "cell_type": "markdown",
      "metadata": {
        "id": "VkOazgstLg8S"
      },
      "source": [
        "<!---\n",
        "![caffeine](https://upload.wikimedia.org/wikipedia/commons/thumb/c/cc/Caffeine_molecule_ball_from_xtal_%281%29.png/671px-Caffeine_molecule_ball_from_xtal_%281%29.png)\n",
        "--->\n",
        "\n",
        "![Caffeine Molecule](https://github.com/volkamerlab/teachopencadd/blob/master/teachopencadd/talktorials/T033_molecular_representations/images/caffeine_molecule.png?raw=1)\n",
        "\n",
        "*Figure 1*:\n",
        "The image is a ball-and-stick representation of a caffeine molecule.\n",
        "Atoms are shown in gray (carbon), white (hydrogen), red (oxygen), and blue (nitrogen).\n",
        "An edge between two atoms indicates a covalent chemical bond with one (single line) or two (double line) shared atoms (triple bonds are also possible, but not present in caffeine).\n",
        "The dashed 5-membered ring represents an aromatic ring system. Two electrons can move freely around in this ring and are not associated with a specific chemical bond within this ring."
      ]
    },
    {
      "cell_type": "markdown",
      "metadata": {
        "id": "eAZVgW2qL300"
      },
      "source": [
        "### Molecular representations"
      ]
    },
    {
      "cell_type": "markdown",
      "metadata": {
        "id": "WaP317kMMAJ5"
      },
      "source": [
        "From the viewpoint of physics, molecules are **complex three-dimensional objects** that are dynamic rather than static and that exhibit quantum mechanical properties. Depending on the task you want to solve, a simplified view of molecules might be helpful.\n",
        "\n",
        "To apply machine learning to molecules, we need to find a proper **representation**. As it turns out, there are several possibilities, all with their advantages and disadvantages.\n",
        "Choosing a representation of a molecule gives you control over the simplifications you want to make. They provide the recipe to translate a quantum-mechanical object into a mathematical description.\n",
        "But before we discuss computational representations of molecules, we first want to give a recap on pre-computer-age techniques to represent molecules."
      ]
    },
    {
      "cell_type": "markdown",
      "metadata": {
        "id": "OE1IDLYOMVZ-"
      },
      "source": [
        "### Molecular representations for humans"
      ]
    },
    {
      "cell_type": "markdown",
      "metadata": {
        "id": "mGHpaE2bP_Iz"
      },
      "source": [
        "#### Small molecules"
      ]
    },
    {
      "cell_type": "markdown",
      "metadata": {
        "id": "4NTgJjKpO_Fp"
      },
      "source": [
        "Without being able to represent molecules, it is also impossible to discuss them and communicate about them. We start with representations and visualizations that are intuitive **for humans**. Later, we will also look at \"**computer-age**\" encodings, suitable as input for deep-learning systems. However, note that this classification is somewhat arbitrary."
      ]
    },
    {
      "cell_type": "markdown",
      "metadata": {
        "id": "qKR4OB0ePcQ8"
      },
      "source": [
        "**Text-based:**\n",
        "\n",
        "The easiest way to identify a molecule is its **trivial name**. For example, caffeine or aspirin. This is only possible for well-known molecules.\n",
        "\n",
        "Alternatively, the **IUPAC nomenclature of organic chemistry** can be used (there is also one for inorganic chemistry, which we will skip here). The goal is that each possible organic molecule is associated with a name that is easy to understand and that unambiguously identifies the molecule.\n",
        "The clarity and consistency make this naming scheme reasonably easy to understand and use.\n",
        "However, not all molecules can be named using this scheme; for instance, some complex organic molecules, such as those that contain rings with multiple substructures.\n",
        "\n",
        "**Example:** The caffeine molecule has the IUPAC name: *1,3,7-trimethylpurine-2,6-dione*."
      ]
    },
    {
      "cell_type": "markdown",
      "metadata": {
        "id": "aZE73xRLPcV8"
      },
      "source": [
        "**Molecular formula:**\n",
        "\n",
        "The **molecular formula** (sometimes referred to as Hill notation) is the easiest (and most simplified) way of representing a molecule: You simply count the number of atoms of each type. The ordering (from left to right) is arguably a little bit arbitrary: Carbon atoms are listed first, hydrogen atoms next, and all other atoms follow in alphabetical order.\n",
        "However, in the unlikely case that the formula does not contain carbon, all atoms (including hydrogen) are listed alphabetically.\n",
        "\n",
        "**Example:** For caffeine, the molecular formula is *C8H10N4O2*, indicating that there are 8 carbon (C) atoms, 10 hydrogen (H) atoms, 4 nitrogen (N) atoms, and 2 oxygen (O) atoms present.\n",
        "\n",
        "Naturally, this does not uniquely identify a molecule.\n",
        "\n",
        "**Example:** Molecules with the same molecular formula but with different arrangements in space are called [isomers](https://chem.libretexts.org/Courses/University_of_Kentucky/UK%3A_CHE_103_-_Chemistry_for_Allied_Health_(Soult)/Chapters/Chapter_5%3A_Properties_of_Compounds/5.1%3A_Isomers).\n",
        "One examples are [n-butane](https://www.wolframalpha.com/input?i=butane) and [isobutane](https://www.wolframalpha.com/input?i=isobutane). Both have the molecular formula C4H10.\n",
        "The atoms in butane are arranged in a straight chain, while the atoms in isobutane are arranged in a branch structure.\n",
        "To be more precise, here, we are dealing with a *structural* or *constitutional* isomer because the chemical bonds are different.\n",
        "Molecules that have the same chemical bonds (or refer to the same molecular graph) but still differ in their spatial arrangement are called spatial (or stereo-)isomers.\n",
        "\n",
        "![N-butaneAndIsobutane](https://github.com/volkamerlab/teachopencadd/blob/master/teachopencadd/talktorials/T033_molecular_representations/images/butane_and_isobutane.png?raw=1)\n",
        "\n",
        "*Figure 2*:\n",
        "N-butane and isobutane."
      ]
    },
    {
      "cell_type": "markdown",
      "metadata": {
        "id": "85vLHU-BPcYZ"
      },
      "source": [
        "**Visualizations of small molecules:**\n",
        "\n",
        "Visualizations are the easiest way to get a first impression of a molecule.\n",
        "In the first example, we have already seen a visualization of the caffeine molecule. These types of visualizations are referred to as **Ball and Stick** models.\n",
        "The color scheme follows the [CPK coloring](https://en.wikipedia.org/wiki/CPK_coloring).\n",
        "They are easy to understand but difficult to draw.\n",
        "\n",
        "![CPK coloring](https://github.com/volkamerlab/teachopencadd/blob/master/teachopencadd/talktorials/T033_molecular_representations/images/cpk.png?raw=1)\n",
        "\n",
        "*Figure 3*:\n",
        "CPK coloring from Wikipedia.\n",
        "\n"
      ]
    },
    {
      "cell_type": "markdown",
      "metadata": {
        "id": "4HiSdgHCP_I0"
      },
      "source": [
        "2D visualizations are easy to draw and come in many different flavors.\n",
        "For instance, the **Lewis structure** contains no 3D information (excess electrons that form lone pairs are sometimes shown as dots, we skip this part here).\n",
        "\n",
        "Similarly, the **Skeletal formula** (or line-angle formula) removes hydrogen atoms that are next to carbon atoms and draws carbon atoms only implicitly as bends and ends.\n",
        "\n",
        "For comparison, here are the three visualizations of the ethanol molecule (from [WP](https://en.wikipedia.org/wiki/Skeletal_formula)).\n",
        "\n",
        "<!---\n",
        "![SimpleMoleculeBallStick](https://upload.wikimedia.org/wikipedia/commons/thumb/c/ca/Ethanol-CRC-MW-trans-3D-balls.png/120px-Ethanol-CRC-MW-trans-3D-balls.png)\n",
        "![SimpleMoleculeLewis](https://upload.wikimedia.org/wikipedia/commons/thumb/e/e8/Ethanol-structure.svg/150px-Ethanol-structure.svg.png)\n",
        "![SimpleMoleculeLineAngle](https://upload.wikimedia.org/wikipedia/commons/thumb/8/82/Ethanol-2D-skeletal.svg/120px-Ethanol-2D-skeletal.svg.png)\n",
        "--->\n",
        "\n",
        "![Ethanol visualization](https://github.com/volkamerlab/teachopencadd/blob/master/teachopencadd/talktorials/T033_molecular_representations/images/ethanol.png?raw=1)\n",
        "\n",
        "*Figure 4*:\n",
        "Different visualizations of ethanol.\n"
      ]
    },
    {
      "cell_type": "markdown",
      "metadata": {
        "id": "rS_yAdnDP_I0"
      },
      "source": [
        "A special feature of this is the **Natta Projection** which provides basic (but not in every case complete) information about the relative positions of the atoms in 3D. For instance, consider the kinase inhibitor from the [RDKit Cookbook](https://www.rdkit.org/docs/Cookbook.html):\n",
        "\n",
        "![Kinase Inhibitor](https://github.com/volkamerlab/teachopencadd/blob/master/teachopencadd/talktorials/T033_molecular_representations/images/kinase_inhibitor.png?raw=1)\n",
        "\n",
        "*Figure 5*:\n",
        "Natta projection of a kinase inhibitor.\n",
        "\n",
        "Here,\n",
        "\n",
        "*   Solid wedges indicate a bond that points out of the plane;\n",
        "*   Dashed wedges indicate a bond that points into the plane (away from the observer)\n",
        "\n",
        "You can find the corresponding ball-and-stick plot [here](https://molview.org/?q=C1CC2=C3C(=CC=C2)C(=CN3C1)[C@H]4[C@@H](C(=O)NC4=O)C5=CNC6=CC=CC=C65).\n"
      ]
    },
    {
      "cell_type": "markdown",
      "metadata": {
        "id": "VAmWgmYoP_I0"
      },
      "source": [
        "#### Large molecules - proteins"
      ]
    },
    {
      "cell_type": "markdown",
      "metadata": {
        "id": "gjRb3EL_RjrF"
      },
      "source": [
        "**Representing proteins:**\n",
        "\n",
        "Proteins are large molecules that are composed of building blocks called amino acids. There exist 20 different natural amino acids. A protein is made up of one or more chains of amino acids. Each chain can be described as a string of characters. Therefore, we identify each of the amino acids with a [single letter](https://en.wikipedia.org/wiki/Amino_acid#Table_of_standard_amino_acid_abbreviations_and_properties).\n",
        "\n",
        "The [Pro-thyrotropin-releasing hormone](https://www.uniprot.org/uniprotkb/P20396/entry#sequences) protein is one of the smallest proteins present in the\n",
        "human body. It consists of only 242 amino acids:\n",
        "\n",
        "\n",
        "```\n",
        "MPGPWLLLALALTLNLTGVPGGRAQPEAAQQEAVTAAEHPGLDDFLRQVERLLFLRENIQ\n",
        "RLQGDQGEHSASQIFQSDWLSKRQHPGKREEEEEEGVEEEEEEEGGAVGPHKRQHPGRRE\n",
        "DEASWSVDVTQHKRQHPGRRSPWLAYAVPKRQHPGRRLADPKAQRSWEEEEEEEEREEDL\n",
        "MPEKRQHPGKRALGGPCGPQGAYGQAGLLLGLLDDLSRSQGAEEKRQHPGRRAAWVREPL\n",
        "EE\n",
        "```\n",
        "\n",
        "However, the amino acid sequence does not contain 3D information, which is important for the function.\n",
        "You can predict it using tools like Alphafold or simply look it up in the [Alphafold database](https://alphafold.ebi.ac.uk/entry/P20396).  \n"
      ]
    },
    {
      "cell_type": "markdown",
      "metadata": {
        "id": "xCEJkEhsPcdf"
      },
      "source": [
        "**Visualizations of proteins:**\n",
        "\n",
        "We focus here on small molecules but still want to point out that large molecules are typically visualized differently, most commonly by a [Ribbon diagram](https://en.wikipedia.org/wiki/Ribbon_diagram).\n",
        "The idea is to group common motifs and represent them, for instance, with curls (alpha-Helices) and arrows (beta-strands) connected by loops.\n",
        "\n",
        "<!---\n",
        "![TubbyProtein](https://upload.wikimedia.org/wikipedia/commons/f/ff/Tubby-1c8z-pymol.png)\n",
        "--->\n",
        "![TubbyProtein](https://github.com/volkamerlab/teachopencadd/blob/master/teachopencadd/talktorials/T033_molecular_representations/images/ribbon_diagram_tubby.png?raw=1)\n",
        "\n",
        "*Figure 6*:\n",
        "Ribbon diagram of the [tubby protein](https://en.wikipedia.org/wiki/Tubby_protein).\n",
        "\n",
        "**Talktorial T008** explains how to find proteins in the Protein Data Bank and process them."
      ]
    },
    {
      "cell_type": "markdown",
      "metadata": {
        "id": "_ueOdDdjSGK9"
      },
      "source": [
        "### Computer-age molecular representations"
      ]
    },
    {
      "cell_type": "markdown",
      "metadata": {
        "id": "o4SEA-6RSH1I"
      },
      "source": [
        "When we want to communicate or store a molecular description, we better make sure there is little ambiguity left.\n",
        "In machine learning, it is still an open research question when to use which representation. **Text**-based (or **linear**) and **graph**-based representations are becoming both very widely used. Moreover, **fingerprint**-based methods are sometimes a viable alternative, especially for traditional machine learning methods."
      ]
    },
    {
      "cell_type": "markdown",
      "metadata": {
        "id": "N0FsCL83SH3t"
      },
      "source": [
        "**Text-based representations:**\n",
        "\n",
        "Text-based representations use a sequence of characters to specify a molecule. This is possible for practically all (small) molecules relevant in practice. Here, we discuss SMILES, InChI, and SELFIES. For a deeper dive, we refer the reader to the SMILES __Talktorial T034__.\n",
        "\n",
        "**SMILES** (Simplified Molecular Input Line Entry Specification) is the most widely used text-based representation and can be handled by all common frameworks. When we specify a molecule in RDKit, we often use SMILES notation (more on this in the practical part):\n",
        "\n",
        "`mol = Chem.MolFromSmiles(\"CN1C=NC2=C1C(=O)N(C(=O)N2C)C\") `\n",
        "\n",
        "SMILES uses a combination of letters, numbers, and symbols to represent the atoms and bonds in a molecule. The letters identify the elements, the symbols specify the connectivity/branching structure.\n",
        "\n",
        "SMILES can also represent the [chirality](https://en.wikipedia.org/wiki/Chirality_(chemistry)) of a molecule. This is possible by specifying the relative angle of a bond for an atom. We will see an example in the practical part.\n",
        "\n",
        "The main problem with SMILES for molecule representation is that two (or more) different SMILES strings might refer to the same molecule. Researchers try to circumvent this by resorting to a **canonical SMILES** notation. However, the canonicalization depends on the canonicalization algorithms and is therefore not standardized.\n",
        "\n",
        "In the other direction, a single SMILES string typically identifies no more than one molecule. However, when stereochemistry information is not given in the SMILES string, it leaves room for ambiguity (in some cases, it might not even be possible to remove all ambiguity for different molecular configurations).\n",
        "\n"
      ]
    },
    {
      "cell_type": "markdown",
      "metadata": {
        "id": "NPWjRWIWP_I1"
      },
      "source": [
        "**InChI** (International Chemical Identifier) is a more modern and also widely-used alternative to SMILES. The key advantage is that it exhibits less chemical ambiguity and that a standard canonical exists.\n",
        "The downside is that it is difficult for humans to read.\n",
        "\n",
        "\n",
        "\n",
        "**SELFIES** (SELF-referencing embedded string) was introduced in 2020, primarily for machine learning purposes. The advantage is that \"every combination of symbols in the Selfies alphabet maps to a chemically valid graph\" ([Source](https://www.sciencedirect.com/science/article/pii/S2666389922002069)). This is great for generative tasks where you want to generate molecules because it is impossible to generate invalid molecules.\n",
        "\n",
        "\n",
        "\n",
        "To **summarize**, we find that different methods to encode molecules as strings exist. Currently, SMILES is the most widely adopted method and tools support it well, so it will probably be a good starting point.\n",
        "\n",
        "---"
      ]
    },
    {
      "cell_type": "markdown",
      "metadata": {
        "id": "WE_GZsYbSH6L"
      },
      "source": [
        "**Molecular graphs:**\n",
        "\n",
        "Representing molecules as graphs allows for a very intuitive and comprehensive representation of a molecule's structure. In a graph-based representation, atoms are represented as (labeled) nodes, and bonds are represented as (labeled) edges.\n",
        "\n",
        "One possibility to specify a graph is with an adjacency matrix $A$.\n",
        "For undirected graphs (which is the case for molecules), the adjacency matrix is symmetric. An entry $a_{ij}$ indicates the presence ($a_{ij} = 1$) or absence ($a_{ij} = 0$) of an edge.\n",
        "\n",
        "One key property of graphs is that they rely on **node ordering**.\n",
        "The following two matrices identify identical graphs, except for the node ordering. We call these graphs **isomorphic**.\n",
        "\n",
        "\n",
        "The fact that we need to pick a node ordering to represent a molecule as a graph means that many graphs represent the same molecule.\n",
        "This problem can be circumvented by restricting ourselves to so-called **permutation invariant functions**, as we will learn in the next section.\n",
        "\n",
        "![TwoIsomorphicGraphs](https://github.com/volkamerlab/teachopencadd/blob/master/teachopencadd/talktorials/T033_molecular_representations/images/graph1_graph2.png?raw=1)\n",
        "\n",
        "*Figure 7*:\n",
        "Two isomorphic graphs with different node ordering.\n",
        "\n",
        "**Permutation invariance:** Assume you build a machine learning model that takes as input molecular graphs and outputs some prediction. It would be desirable that your model guarantees that isomorphic graphs (like *Graph 1* and *Graph 2*) generate the same output.\n",
        "We call neural networks (or functions in general) that have these guarantees (node-)permutation invariant (or equivariant for node-level outputs).\n",
        "However, there is a trade-off. Functions that are permutation invariant are typically not universal. That is, they are not able to tell all graphs that are non-isomorphic apart. If both were given, permutation invariance and the ability to produce a different output for all non-isomorphic graphs, our neural network would solve the graph isomorphism problem (which is computationally extremely difficult). This is also discussed in the __Talktorial T035__ about graph neural networks.\n",
        "\n",
        "\n",
        "**Representational power:** Another problem is that graphs do not contain 3D information.\n",
        "Specifically, different [isomers](https://en.wikipedia.org/wiki/Isomer) can correspond to the same molecular graph but differ in the relative 3D positions of the atoms. These are called spatial isomers.\n",
        "One can circumvent this (to some degree) by adding 3D information to the node features. This is somewhat ad-hoc and not well-principled.\n",
        "It is also unclear in which cases this is necessary to improve the performance of a predictive model.\n",
        "In the practical part, we will visualize [2-butanol](https://en.wikipedia.org/wiki/2-Butanol) that admits two mirror images (called *enantiomer*) with the same graph but with different geometry.\n",
        "\n",
        "![Butanol_Enantiomer](https://github.com/volkamerlab/teachopencadd/blob/master/teachopencadd/talktorials/T033_molecular_representations/images/butanol_2enantiomer.png?raw=1)\n",
        "\n",
        "*Figure 8*:\n",
        "The two enantiomers of 2-butanol (source: [WP](https://en.wikipedia.org/wiki/2-Butanol)).\n",
        "\n",
        "---\n",
        "\n"
      ]
    },
    {
      "cell_type": "markdown",
      "metadata": {
        "id": "XIZCDE9JYkT8"
      },
      "source": [
        "**Point clouds:**\n",
        "\n",
        "We have already established that molecules are three-dimensional objects. So why not directly use a computational representation that captures the 3D information? The most straightforward way to do this is to annotate the nodes/atoms in a molecular graph with Euclidean 3D coordinates $(x,y,z)$.  \n",
        "\n",
        "The spatial arrangement of atoms is called **molecular configuration**.\n",
        "\n",
        "Instead of equipping a graph with 3D coordinates, one can also disregard the information on chemical bonds as [this paper](https://openreview.net/pdf?id=pjePBJjlBby) claims:\n",
        "\n",
        "> The covalent bonds between atoms do not need to be encoded explicitly because they are attributed by the overlap between the atomic orbitals, and can be inferred from the types and 3D coordinates of respective atoms. In principle, the point-based representation captures the complete structural information about the molecule, and thus serves as the adequate input for molecular representation learning.\n",
        "\n",
        "\n",
        "**SE(3)-invariance:**\n",
        "When equipping the atoms of a molecule with their (absolute) 3D position, we have a similar problem as with the node ordering in the previous section.\n",
        "Instead of \"*Which node ordering do we choose?*\" We now have to ask \"*How do we position the molecule in 3D to measure the atom positions?*\".\n",
        "As in the node-ordering case, it is difficult (if not impossible) to give a principled answer to this question.\n",
        "The solution is again to restrict ourselves to neural networks that are invariant to translations (move the whole molecule in $x$, $y$, or $z$ direction) or rotations of the molecule.\n",
        "Neural networks (or functions in general) that can guarantee that the output is not affected by translations and rotations are called **SE(3)-invariant**.\n",
        "One example of architecture can be found [here](https://proceedings.neurips.cc/paper/2020/file/15231a7ce4ba789d13b722cc5c955834-Paper.pdf).\n",
        "One possibility to design SE(3)-invariant neural networks is to consider only the distance between all pairs of atoms instead of their absolute position. This leads not only to SE(3)-invariance but to a broader class called **E(3)-invariance**. This is because also reflections (mirror images) are guaranteed to produce the same output. For molecules, this might be suboptimal because mirror molecules can exhibit different properties (see chirality).\n",
        "\n",
        "\n",
        "**Determining configurations:**\n",
        "When you want to add 3D coordinates to atoms, you first need to find them somehow. This is not straightforward, and one can even train a machine learning model to predict this.\n",
        "One possibility is to determine the configuration experimentally.\n",
        "For small molecules, [techniques](https://en.wikipedia.org/wiki/Molecular_geometry#Determination) like diffraction methods can be used.\n",
        "For proteins, [other techniques](https://en.wikipedia.org/wiki/Protein_folding#Experimental_techniques_for_studying_protein_folding), like X-ray crystallography, are available.  \n",
        "Alternatively, one can resort to computational methods.\n",
        "For instance, the popular dataset [QM9](https://moleculenet.org/datasets-1) provides 3D coordinates of each atom that were computed using [DFT](https://en.wikipedia.org/wiki/Density_functional_theory) (an approximation to the Schrödinger equation).\n",
        "\n",
        "**Conformers:**\n",
        "However, another problem of the point cloud perspective on molecules is that there is not a single, fixed configuration for a molecule. Instead, molecules are dynamic objects.\n",
        "**Molecular conformers** are different configurations that a molecule can take due to rotations around single bonds (double and triple bonds are non-rotatable). These conformations are a result of the rotational energy barriers that exist between different groups of atoms within a molecule. Conformations can change quickly and easily, e.g., in response to changes in temperature.\n",
        "Note that conformers are a special type of isomers. Not all isomers can be reached by rotating single bonds.\n",
        "\n",
        "\n",
        "![Conformer](https://github.com/volkamerlab/teachopencadd/blob/master/teachopencadd/talktorials/T033_molecular_representations/images/conformer.png?raw=1)\n",
        "\n",
        "*Figure 9*:\n",
        "Some conformers of a simple molecule ([Source paper](https://pubs.acs.org/doi/10.1021/acs.jcim.5b00654) via [Datamol tutorial](https://docs.datamol.io/stable/tutorials/Conformers.html) on top of each other.\n",
        "\n",
        "Each specific conformer is associated with a conformation energy.\n",
        "The likelihood of a specific configuration depends on this energy (low-energy configurations are more likely than high-energy configurations). Specifically, we typically observe local minima.\n",
        "When representing a conformer, one might also store the torsion angles at rotatable bonds instead of the 3D position of each atom (as done [here](https://arxiv.org/pdf/2210.01776.pdf)).\n",
        "\n",
        "![Energy landscape](https://github.com/volkamerlab/teachopencadd/blob/master/teachopencadd/talktorials/T033_molecular_representations/images/energy_landscape.jpeg?raw=1)\n",
        "\n",
        "*Figure 10*:\n",
        "Energy landscape of the molecule 3-Methoxyphenol ([Source](https://chemistry-europe.onlinelibrary.wiley.com/doi/abs/10.1002/cphc.201800148)). The four local minima correspond to four stable conformations.\n",
        "\n",
        "\n",
        "Note that SE(3)-invariant machine learning models are not invariant to bond rotations.\n",
        "Specifically, they can confuse different conformations of the same molecule.\n",
        "For a detailed discussion on this issue, we refer to the paper [Learning 3D Representations of Molecular Chirality with Invariance to Bond Rotations](https://openreview.net/pdf?id=hm2tNDdgaFK).\n",
        "\n",
        "\n",
        "\n",
        "---\n"
      ]
    },
    {
      "cell_type": "markdown",
      "metadata": {
        "id": "XRA2lGEkZODP"
      },
      "source": [
        "**Fingerprints:**\n",
        "\n",
        "Molecular fingerprints are representations based on the molecular graph.\n",
        "Typically, they are binary vectors that are relatively sparse (many 0s, very few 1s).\n",
        "\n",
        "The most commonly used fingerprint is [ECFP4](https://chemicbook.com/2021/03/25/a-beginners-guide-for-understanding-extended-connectivity-fingerprints.html).\n",
        "[MAP4](https://jcheminf.biomedcentral.com/articles/10.1186/s13321-020-00445-4) is a newer alternative.\n",
        "\n",
        "Fingerprints do not uniquely identify a molecule. Different molecules can have the same fingerprint.\n",
        "However, the same molecule has a unique fingerprint (there is no canonicalization problem).\n",
        "It is difficult (if not practically impossible) to recover the molecular graph, given the fingerprint.\n",
        "\n",
        "They can be easily used for classical machine learning tasks because the architecture does not need to be invariant/equivariant to the node-ordering or geometric operations.\n",
        "\n",
        "__Talktorial T004__ explains several molecular fingerprints.\n",
        "\n",
        "---\n",
        "\n",
        "**Learned representations:**\n",
        "\n",
        "Another interesting line of research is the construction of learned molecular representation. Using a machine learning model to learn representations (from other representations)  can be useful in several ways.\n",
        "For instance, the paper [Automatic Chemical Design Using a Data-Driven Continuous Representation of Molecules](https://pubs.acs.org/doi/pdf/10.1021/acscentsci.7b00572) uses a variational auto-encoder to learn a latent and continuous representation based on SMILES.\n",
        "\n",
        "The paper [Learning continuous and data-driven molecular descriptors by translating equivalent chemical representations](https://pubs.rsc.org/en/content/articlelanding/2019/sc/c8sc04175j) builds a latent representation based on the translation from one representation to another (e.g., SMILES into the IUPAC name).\n",
        "\n",
        "One can also use [contrastive learning](https://arxiv.org/pdf/2102.10056.pdf) to optimize the latent space of such learned representations.\n",
        "\n",
        "\n",
        "---\n"
      ]
    },
    {
      "cell_type": "markdown",
      "metadata": {
        "id": "jlngiTUcKpnb"
      },
      "source": [
        "## Practical"
      ]
    },
    {
      "cell_type": "code",
      "source": [
        "!pip install nglview==3.0.6\n",
        "!pip install rdkit\n",
        "!pip install ipywidgets"
      ],
      "metadata": {
        "id": "Is59-9V1QEJH",
        "outputId": "1abe38c2-b187-48a7-9ffd-9c73da8fc080",
        "colab": {
          "base_uri": "https://localhost:8080/"
        }
      },
      "execution_count": 2,
      "outputs": [
        {
          "output_type": "stream",
          "name": "stdout",
          "text": [
            "Collecting nglview==3.0.6\n",
            "  Downloading nglview-3.0.6.tar.gz (6.7 MB)\n",
            "\u001b[2K     \u001b[90m━━━━━━━━━━━━━━━━━━━━━━━━━━━━━━━━━━━━━━━━\u001b[0m \u001b[32m6.7/6.7 MB\u001b[0m \u001b[31m20.2 MB/s\u001b[0m eta \u001b[36m0:00:00\u001b[0m\n",
            "\u001b[?25h  Installing build dependencies ... \u001b[?25l\u001b[?25hdone\n",
            "  Getting requirements to build wheel ... \u001b[?25l\u001b[?25hdone\n",
            "  Preparing metadata (pyproject.toml) ... \u001b[?25l\u001b[?25hdone\n",
            "Requirement already satisfied: ipywidgets>=7 in /usr/local/lib/python3.10/dist-packages (from nglview==3.0.6) (8.1.5)\n",
            "Requirement already satisfied: jupyterlab-widgets in /usr/local/lib/python3.10/dist-packages (from nglview==3.0.6) (3.0.13)\n",
            "Requirement already satisfied: numpy in /usr/local/lib/python3.10/dist-packages (from nglview==3.0.6) (1.26.4)\n",
            "Requirement already satisfied: comm>=0.1.3 in /usr/local/lib/python3.10/dist-packages (from ipywidgets>=7->nglview==3.0.6) (0.2.2)\n",
            "Requirement already satisfied: ipython>=6.1.0 in /usr/local/lib/python3.10/dist-packages (from ipywidgets>=7->nglview==3.0.6) (7.34.0)\n",
            "Requirement already satisfied: traitlets>=4.3.1 in /usr/local/lib/python3.10/dist-packages (from ipywidgets>=7->nglview==3.0.6) (5.7.1)\n",
            "Requirement already satisfied: widgetsnbextension~=4.0.12 in /usr/local/lib/python3.10/dist-packages (from ipywidgets>=7->nglview==3.0.6) (4.0.13)\n",
            "Requirement already satisfied: setuptools>=18.5 in /usr/local/lib/python3.10/dist-packages (from ipython>=6.1.0->ipywidgets>=7->nglview==3.0.6) (71.0.4)\n",
            "Requirement already satisfied: jedi>=0.16 in /usr/local/lib/python3.10/dist-packages (from ipython>=6.1.0->ipywidgets>=7->nglview==3.0.6) (0.19.1)\n",
            "Requirement already satisfied: decorator in /usr/local/lib/python3.10/dist-packages (from ipython>=6.1.0->ipywidgets>=7->nglview==3.0.6) (4.4.2)\n",
            "Requirement already satisfied: pickleshare in /usr/local/lib/python3.10/dist-packages (from ipython>=6.1.0->ipywidgets>=7->nglview==3.0.6) (0.7.5)\n",
            "Requirement already satisfied: prompt-toolkit!=3.0.0,!=3.0.1,<3.1.0,>=2.0.0 in /usr/local/lib/python3.10/dist-packages (from ipython>=6.1.0->ipywidgets>=7->nglview==3.0.6) (3.0.47)\n",
            "Requirement already satisfied: pygments in /usr/local/lib/python3.10/dist-packages (from ipython>=6.1.0->ipywidgets>=7->nglview==3.0.6) (2.18.0)\n",
            "Requirement already satisfied: backcall in /usr/local/lib/python3.10/dist-packages (from ipython>=6.1.0->ipywidgets>=7->nglview==3.0.6) (0.2.0)\n",
            "Requirement already satisfied: matplotlib-inline in /usr/local/lib/python3.10/dist-packages (from ipython>=6.1.0->ipywidgets>=7->nglview==3.0.6) (0.1.7)\n",
            "Requirement already satisfied: pexpect>4.3 in /usr/local/lib/python3.10/dist-packages (from ipython>=6.1.0->ipywidgets>=7->nglview==3.0.6) (4.9.0)\n",
            "Requirement already satisfied: parso<0.9.0,>=0.8.3 in /usr/local/lib/python3.10/dist-packages (from jedi>=0.16->ipython>=6.1.0->ipywidgets>=7->nglview==3.0.6) (0.8.4)\n",
            "Requirement already satisfied: ptyprocess>=0.5 in /usr/local/lib/python3.10/dist-packages (from pexpect>4.3->ipython>=6.1.0->ipywidgets>=7->nglview==3.0.6) (0.7.0)\n",
            "Requirement already satisfied: wcwidth in /usr/local/lib/python3.10/dist-packages (from prompt-toolkit!=3.0.0,!=3.0.1,<3.1.0,>=2.0.0->ipython>=6.1.0->ipywidgets>=7->nglview==3.0.6) (0.2.13)\n",
            "Building wheels for collected packages: nglview\n",
            "  Building wheel for nglview (pyproject.toml) ... \u001b[?25l\u001b[?25hdone\n",
            "  Created wheel for nglview: filename=nglview-3.0.6-py3-none-any.whl size=10096111 sha256=0483ee0b29e0886aecde3662c73fdd9b2896b3b3de6df7cf62af5bfdbd659968\n",
            "  Stored in directory: /root/.cache/pip/wheels/48/56/11/f23486e3ce7371bd7e216b0e1643057a435ecfc413666020a4\n",
            "Successfully built nglview\n",
            "Installing collected packages: nglview\n",
            "  Attempting uninstall: nglview\n",
            "    Found existing installation: nglview 3.1.2\n",
            "    Uninstalling nglview-3.1.2:\n",
            "      Successfully uninstalled nglview-3.1.2\n",
            "Successfully installed nglview-3.0.6\n",
            "Requirement already satisfied: rdkit in /usr/local/lib/python3.10/dist-packages (2024.3.5)\n",
            "Requirement already satisfied: numpy in /usr/local/lib/python3.10/dist-packages (from rdkit) (1.26.4)\n",
            "Requirement already satisfied: Pillow in /usr/local/lib/python3.10/dist-packages (from rdkit) (10.4.0)\n",
            "Requirement already satisfied: ipywidgets in /usr/local/lib/python3.10/dist-packages (8.1.5)\n",
            "Requirement already satisfied: comm>=0.1.3 in /usr/local/lib/python3.10/dist-packages (from ipywidgets) (0.2.2)\n",
            "Requirement already satisfied: ipython>=6.1.0 in /usr/local/lib/python3.10/dist-packages (from ipywidgets) (7.34.0)\n",
            "Requirement already satisfied: traitlets>=4.3.1 in /usr/local/lib/python3.10/dist-packages (from ipywidgets) (5.7.1)\n",
            "Requirement already satisfied: widgetsnbextension~=4.0.12 in /usr/local/lib/python3.10/dist-packages (from ipywidgets) (4.0.13)\n",
            "Requirement already satisfied: jupyterlab-widgets~=3.0.12 in /usr/local/lib/python3.10/dist-packages (from ipywidgets) (3.0.13)\n",
            "Requirement already satisfied: setuptools>=18.5 in /usr/local/lib/python3.10/dist-packages (from ipython>=6.1.0->ipywidgets) (71.0.4)\n",
            "Requirement already satisfied: jedi>=0.16 in /usr/local/lib/python3.10/dist-packages (from ipython>=6.1.0->ipywidgets) (0.19.1)\n",
            "Requirement already satisfied: decorator in /usr/local/lib/python3.10/dist-packages (from ipython>=6.1.0->ipywidgets) (4.4.2)\n",
            "Requirement already satisfied: pickleshare in /usr/local/lib/python3.10/dist-packages (from ipython>=6.1.0->ipywidgets) (0.7.5)\n",
            "Requirement already satisfied: prompt-toolkit!=3.0.0,!=3.0.1,<3.1.0,>=2.0.0 in /usr/local/lib/python3.10/dist-packages (from ipython>=6.1.0->ipywidgets) (3.0.47)\n",
            "Requirement already satisfied: pygments in /usr/local/lib/python3.10/dist-packages (from ipython>=6.1.0->ipywidgets) (2.18.0)\n",
            "Requirement already satisfied: backcall in /usr/local/lib/python3.10/dist-packages (from ipython>=6.1.0->ipywidgets) (0.2.0)\n",
            "Requirement already satisfied: matplotlib-inline in /usr/local/lib/python3.10/dist-packages (from ipython>=6.1.0->ipywidgets) (0.1.7)\n",
            "Requirement already satisfied: pexpect>4.3 in /usr/local/lib/python3.10/dist-packages (from ipython>=6.1.0->ipywidgets) (4.9.0)\n",
            "Requirement already satisfied: parso<0.9.0,>=0.8.3 in /usr/local/lib/python3.10/dist-packages (from jedi>=0.16->ipython>=6.1.0->ipywidgets) (0.8.4)\n",
            "Requirement already satisfied: ptyprocess>=0.5 in /usr/local/lib/python3.10/dist-packages (from pexpect>4.3->ipython>=6.1.0->ipywidgets) (0.7.0)\n",
            "Requirement already satisfied: wcwidth in /usr/local/lib/python3.10/dist-packages (from prompt-toolkit!=3.0.0,!=3.0.1,<3.1.0,>=2.0.0->ipython>=6.1.0->ipywidgets) (0.2.13)\n"
          ]
        }
      ]
    },
    {
      "cell_type": "code",
      "source": [
        "from google.colab import output\n",
        "output.enable_custom_widget_manager()"
      ],
      "metadata": {
        "id": "KgkiHsAvQ0Md"
      },
      "execution_count": 5,
      "outputs": []
    },
    {
      "cell_type": "markdown",
      "metadata": {
        "id": "_2IE6bn3xyNa"
      },
      "source": [
        "In this section, we study how RDKit handles different molecular representations and visualizations.\n",
        "We start with the caffeine molecule from *Figure 1*. We define the molecule based on a SMILES string and find the visualization in a line-angle formula.\n",
        "But first, we import all libraries:"
      ]
    },
    {
      "cell_type": "code",
      "execution_count": 6,
      "metadata": {
        "id": "W8uKK-US_0Tc",
        "tags": []
      },
      "outputs": [],
      "source": [
        "import matplotlib.pyplot as plt\n",
        "import networkx as nx  # for graphs\n",
        "import numpy as np  # for matrices\n",
        "import time\n",
        "\n",
        "import nglview as nv  # for 3D visualizations\n",
        "\n",
        "from rdkit import Chem\n",
        "from rdkit.Chem.Draw import IPythonConsole\n",
        "from rdkit.Chem import Draw\n",
        "from rdkit.Chem import AllChem, rdDistGeom\n",
        "from rdkit.Chem import rdFingerprintGenerator\n",
        "\n",
        "IPythonConsole.ipython_useSVG = True"
      ]
    },
    {
      "cell_type": "code",
      "execution_count": 7,
      "metadata": {
        "colab": {
          "base_uri": "https://localhost:8080/",
          "height": 172
        },
        "id": "EPAeW6hoKo1p",
        "outputId": "08d59948-437f-4018-b300-f1db35f505c5",
        "tags": []
      },
      "outputs": [
        {
          "output_type": "execute_result",
          "data": {
            "text/plain": [
              "<rdkit.Chem.rdchem.Mol at 0x7c5ddfd8a570>"
            ],
            "text/html": [
              "<?xml version='1.0' encoding='iso-8859-1'?>\n",
              "<svg version='1.1' baseProfile='full'\n",
              "              xmlns='http://www.w3.org/2000/svg'\n",
              "                      xmlns:rdkit='http://www.rdkit.org/xml'\n",
              "                      xmlns:xlink='http://www.w3.org/1999/xlink'\n",
              "                  xml:space='preserve'\n",
              "width='450px' height='150px' viewBox='0 0 450 150'>\n",
              "<!-- END OF HEADER -->\n",
              "<rect style='opacity:1.0;fill:#FFFFFF;stroke:none' width='450.0' height='150.0' x='0.0' y='0.0'> </rect>\n",
              "<path class='bond-0 atom-0 atom-1' d='M 306.8,103.5 L 298.4,93.0' style='fill:none;fill-rule:evenodd;stroke:#000000;stroke-width:2.0px;stroke-linecap:butt;stroke-linejoin:miter;stroke-opacity:1' />\n",
              "<path class='bond-0 atom-0 atom-1' d='M 298.4,93.0 L 290.0,82.5' style='fill:none;fill-rule:evenodd;stroke:#0000FF;stroke-width:2.0px;stroke-linecap:butt;stroke-linejoin:miter;stroke-opacity:1' />\n",
              "<path class='bond-1 atom-1 atom-2' d='M 286.8,70.3 L 290.5,56.6' style='fill:none;fill-rule:evenodd;stroke:#0000FF;stroke-width:2.0px;stroke-linecap:butt;stroke-linejoin:miter;stroke-opacity:1' />\n",
              "<path class='bond-1 atom-1 atom-2' d='M 290.5,56.6 L 294.3,42.9' style='fill:none;fill-rule:evenodd;stroke:#000000;stroke-width:2.0px;stroke-linecap:butt;stroke-linejoin:miter;stroke-opacity:1' />\n",
              "<path class='bond-2 atom-2 atom-3' d='M 294.3,42.9 L 282.2,35.0' style='fill:none;fill-rule:evenodd;stroke:#000000;stroke-width:2.0px;stroke-linecap:butt;stroke-linejoin:miter;stroke-opacity:1' />\n",
              "<path class='bond-2 atom-2 atom-3' d='M 282.2,35.0 L 270.1,27.1' style='fill:none;fill-rule:evenodd;stroke:#0000FF;stroke-width:2.0px;stroke-linecap:butt;stroke-linejoin:miter;stroke-opacity:1' />\n",
              "<path class='bond-2 atom-2 atom-3' d='M 288.3,45.2 L 277.8,38.3' style='fill:none;fill-rule:evenodd;stroke:#000000;stroke-width:2.0px;stroke-linecap:butt;stroke-linejoin:miter;stroke-opacity:1' />\n",
              "<path class='bond-2 atom-2 atom-3' d='M 277.8,38.3 L 267.3,31.4' style='fill:none;fill-rule:evenodd;stroke:#0000FF;stroke-width:2.0px;stroke-linecap:butt;stroke-linejoin:miter;stroke-opacity:1' />\n",
              "<path class='bond-3 atom-3 atom-4' d='M 260.4,27.8 L 249.3,36.7' style='fill:none;fill-rule:evenodd;stroke:#0000FF;stroke-width:2.0px;stroke-linecap:butt;stroke-linejoin:miter;stroke-opacity:1' />\n",
              "<path class='bond-3 atom-3 atom-4' d='M 249.3,36.7 L 238.2,45.6' style='fill:none;fill-rule:evenodd;stroke:#000000;stroke-width:2.0px;stroke-linecap:butt;stroke-linejoin:miter;stroke-opacity:1' />\n",
              "<path class='bond-4 atom-4 atom-5' d='M 238.2,45.6 L 250.5,78.0' style='fill:none;fill-rule:evenodd;stroke:#000000;stroke-width:2.0px;stroke-linecap:butt;stroke-linejoin:miter;stroke-opacity:1' />\n",
              "<path class='bond-4 atom-4 atom-5' d='M 244.4,47.3 L 254.0,72.7' style='fill:none;fill-rule:evenodd;stroke:#000000;stroke-width:2.0px;stroke-linecap:butt;stroke-linejoin:miter;stroke-opacity:1' />\n",
              "<path class='bond-5 atom-5 atom-6' d='M 250.5,78.0 L 228.5,104.9' style='fill:none;fill-rule:evenodd;stroke:#000000;stroke-width:2.0px;stroke-linecap:butt;stroke-linejoin:miter;stroke-opacity:1' />\n",
              "<path class='bond-6 atom-6 atom-7' d='M 225.5,104.4 L 230.8,118.3' style='fill:none;fill-rule:evenodd;stroke:#000000;stroke-width:2.0px;stroke-linecap:butt;stroke-linejoin:miter;stroke-opacity:1' />\n",
              "<path class='bond-6 atom-6 atom-7' d='M 230.8,118.3 L 236.0,132.2' style='fill:none;fill-rule:evenodd;stroke:#FF0000;stroke-width:2.0px;stroke-linecap:butt;stroke-linejoin:miter;stroke-opacity:1' />\n",
              "<path class='bond-6 atom-6 atom-7' d='M 230.4,102.6 L 235.6,116.5' style='fill:none;fill-rule:evenodd;stroke:#000000;stroke-width:2.0px;stroke-linecap:butt;stroke-linejoin:miter;stroke-opacity:1' />\n",
              "<path class='bond-6 atom-6 atom-7' d='M 235.6,116.5 L 240.9,130.3' style='fill:none;fill-rule:evenodd;stroke:#FF0000;stroke-width:2.0px;stroke-linecap:butt;stroke-linejoin:miter;stroke-opacity:1' />\n",
              "<path class='bond-7 atom-6 atom-8' d='M 228.5,104.9 L 213.8,102.5' style='fill:none;fill-rule:evenodd;stroke:#000000;stroke-width:2.0px;stroke-linecap:butt;stroke-linejoin:miter;stroke-opacity:1' />\n",
              "<path class='bond-7 atom-6 atom-8' d='M 213.8,102.5 L 199.1,100.1' style='fill:none;fill-rule:evenodd;stroke:#0000FF;stroke-width:2.0px;stroke-linecap:butt;stroke-linejoin:miter;stroke-opacity:1' />\n",
              "<path class='bond-8 atom-8 atom-9' d='M 191.9,93.2 L 186.9,80.0' style='fill:none;fill-rule:evenodd;stroke:#0000FF;stroke-width:2.0px;stroke-linecap:butt;stroke-linejoin:miter;stroke-opacity:1' />\n",
              "<path class='bond-8 atom-8 atom-9' d='M 186.9,80.0 L 181.9,66.8' style='fill:none;fill-rule:evenodd;stroke:#000000;stroke-width:2.0px;stroke-linecap:butt;stroke-linejoin:miter;stroke-opacity:1' />\n",
              "<path class='bond-9 atom-9 atom-10' d='M 183.8,64.5 L 168.8,62.0' style='fill:none;fill-rule:evenodd;stroke:#000000;stroke-width:2.0px;stroke-linecap:butt;stroke-linejoin:miter;stroke-opacity:1' />\n",
              "<path class='bond-9 atom-9 atom-10' d='M 168.8,62.0 L 153.8,59.6' style='fill:none;fill-rule:evenodd;stroke:#FF0000;stroke-width:2.0px;stroke-linecap:butt;stroke-linejoin:miter;stroke-opacity:1' />\n",
              "<path class='bond-9 atom-9 atom-10' d='M 183.0,69.6 L 168.0,67.2' style='fill:none;fill-rule:evenodd;stroke:#000000;stroke-width:2.0px;stroke-linecap:butt;stroke-linejoin:miter;stroke-opacity:1' />\n",
              "<path class='bond-9 atom-9 atom-10' d='M 168.0,67.2 L 152.9,64.7' style='fill:none;fill-rule:evenodd;stroke:#FF0000;stroke-width:2.0px;stroke-linecap:butt;stroke-linejoin:miter;stroke-opacity:1' />\n",
              "<path class='bond-10 atom-9 atom-11' d='M 181.9,66.8 L 190.5,56.4' style='fill:none;fill-rule:evenodd;stroke:#000000;stroke-width:2.0px;stroke-linecap:butt;stroke-linejoin:miter;stroke-opacity:1' />\n",
              "<path class='bond-10 atom-9 atom-11' d='M 190.5,56.4 L 199.0,45.9' style='fill:none;fill-rule:evenodd;stroke:#0000FF;stroke-width:2.0px;stroke-linecap:butt;stroke-linejoin:miter;stroke-opacity:1' />\n",
              "<path class='bond-11 atom-11 atom-12' d='M 201.6,33.9 L 196.6,20.7' style='fill:none;fill-rule:evenodd;stroke:#0000FF;stroke-width:2.0px;stroke-linecap:butt;stroke-linejoin:miter;stroke-opacity:1' />\n",
              "<path class='bond-11 atom-11 atom-12' d='M 196.6,20.7 L 191.6,7.5' style='fill:none;fill-rule:evenodd;stroke:#000000;stroke-width:2.0px;stroke-linecap:butt;stroke-linejoin:miter;stroke-opacity:1' />\n",
              "<path class='bond-12 atom-8 atom-13' d='M 189.3,105.3 L 180.8,115.7' style='fill:none;fill-rule:evenodd;stroke:#0000FF;stroke-width:2.0px;stroke-linecap:butt;stroke-linejoin:miter;stroke-opacity:1' />\n",
              "<path class='bond-12 atom-8 atom-13' d='M 180.8,115.7 L 172.2,126.2' style='fill:none;fill-rule:evenodd;stroke:#000000;stroke-width:2.0px;stroke-linecap:butt;stroke-linejoin:miter;stroke-opacity:1' />\n",
              "<path class='bond-13 atom-5 atom-1' d='M 250.5,78.0 L 265.4,77.3' style='fill:none;fill-rule:evenodd;stroke:#000000;stroke-width:2.0px;stroke-linecap:butt;stroke-linejoin:miter;stroke-opacity:1' />\n",
              "<path class='bond-13 atom-5 atom-1' d='M 265.4,77.3 L 280.3,76.6' style='fill:none;fill-rule:evenodd;stroke:#0000FF;stroke-width:2.0px;stroke-linecap:butt;stroke-linejoin:miter;stroke-opacity:1' />\n",
              "<path class='bond-14 atom-11 atom-4' d='M 208.8,40.8 L 223.5,43.2' style='fill:none;fill-rule:evenodd;stroke:#0000FF;stroke-width:2.0px;stroke-linecap:butt;stroke-linejoin:miter;stroke-opacity:1' />\n",
              "<path class='bond-14 atom-11 atom-4' d='M 223.5,43.2 L 238.2,45.6' style='fill:none;fill-rule:evenodd;stroke:#000000;stroke-width:2.0px;stroke-linecap:butt;stroke-linejoin:miter;stroke-opacity:1' />\n",
              "<path d='M 294.1,43.6 L 294.3,42.9 L 293.7,42.5' style='fill:none;stroke:#000000;stroke-width:2.0px;stroke-linecap:butt;stroke-linejoin:miter;stroke-opacity:1;' />\n",
              "<path d='M 229.6,103.6 L 228.5,104.9 L 227.7,104.8' style='fill:none;stroke:#000000;stroke-width:2.0px;stroke-linecap:butt;stroke-linejoin:miter;stroke-opacity:1;' />\n",
              "<path d='M 182.2,67.5 L 181.9,66.8 L 182.4,66.3' style='fill:none;stroke:#000000;stroke-width:2.0px;stroke-linecap:butt;stroke-linejoin:miter;stroke-opacity:1;' />\n",
              "<path class='atom-1' d='M 283.0 71.5\n",
              "L 286.2 76.7\n",
              "Q 286.5 77.2, 287.0 78.1\n",
              "Q 287.5 79.1, 287.5 79.1\n",
              "L 287.5 71.5\n",
              "L 288.9 71.5\n",
              "L 288.9 81.3\n",
              "L 287.5 81.3\n",
              "L 284.0 75.6\n",
              "Q 283.6 75.0, 283.2 74.2\n",
              "Q 282.8 73.4, 282.7 73.2\n",
              "L 282.7 81.3\n",
              "L 281.4 81.3\n",
              "L 281.4 71.5\n",
              "L 283.0 71.5\n",
              "' fill='#0000FF'/>\n",
              "<path class='atom-3' d='M 263.1 18.9\n",
              "L 266.3 24.2\n",
              "Q 266.6 24.7, 267.1 25.6\n",
              "Q 267.7 26.5, 267.7 26.6\n",
              "L 267.7 18.9\n",
              "L 269.0 18.9\n",
              "L 269.0 28.8\n",
              "L 267.6 28.8\n",
              "L 264.2 23.1\n",
              "Q 263.8 22.4, 263.4 21.7\n",
              "Q 262.9 20.9, 262.8 20.7\n",
              "L 262.8 28.8\n",
              "L 261.5 28.8\n",
              "L 261.5 18.9\n",
              "L 263.1 18.9\n",
              "' fill='#0000FF'/>\n",
              "<path class='atom-7' d='M 236.2 137.4\n",
              "Q 236.2 135.0, 237.4 133.7\n",
              "Q 238.6 132.4, 240.7 132.4\n",
              "Q 242.9 132.4, 244.1 133.7\n",
              "Q 245.3 135.0, 245.3 137.4\n",
              "Q 245.3 139.8, 244.1 141.2\n",
              "Q 242.9 142.5, 240.7 142.5\n",
              "Q 238.6 142.5, 237.4 141.2\n",
              "Q 236.2 139.8, 236.2 137.4\n",
              "M 240.7 141.4\n",
              "Q 242.2 141.4, 243.1 140.4\n",
              "Q 243.9 139.4, 243.9 137.4\n",
              "Q 243.9 135.5, 243.1 134.5\n",
              "Q 242.2 133.5, 240.7 133.5\n",
              "Q 239.2 133.5, 238.4 134.5\n",
              "Q 237.6 135.5, 237.6 137.4\n",
              "Q 237.6 139.4, 238.4 140.4\n",
              "Q 239.2 141.4, 240.7 141.4\n",
              "' fill='#FF0000'/>\n",
              "<path class='atom-8' d='M 192.0 94.4\n",
              "L 195.3 99.6\n",
              "Q 195.6 100.1, 196.1 101.0\n",
              "Q 196.6 102.0, 196.6 102.0\n",
              "L 196.6 94.4\n",
              "L 197.9 94.4\n",
              "L 197.9 104.2\n",
              "L 196.6 104.2\n",
              "L 193.1 98.5\n",
              "Q 192.7 97.9, 192.3 97.1\n",
              "Q 191.9 96.3, 191.8 96.1\n",
              "L 191.8 104.2\n",
              "L 190.5 104.2\n",
              "L 190.5 94.4\n",
              "L 192.0 94.4\n",
              "' fill='#0000FF'/>\n",
              "<path class='atom-10' d='M 143.2 61.3\n",
              "Q 143.2 58.9, 144.3 57.6\n",
              "Q 145.5 56.3, 147.7 56.3\n",
              "Q 149.9 56.3, 151.0 57.6\n",
              "Q 152.2 58.9, 152.2 61.3\n",
              "Q 152.2 63.6, 151.0 65.0\n",
              "Q 149.8 66.4, 147.7 66.4\n",
              "Q 145.5 66.4, 144.3 65.0\n",
              "Q 143.2 63.7, 143.2 61.3\n",
              "M 147.7 65.2\n",
              "Q 149.2 65.2, 150.0 64.2\n",
              "Q 150.8 63.2, 150.8 61.3\n",
              "Q 150.8 59.3, 150.0 58.4\n",
              "Q 149.2 57.4, 147.7 57.4\n",
              "Q 146.2 57.4, 145.4 58.3\n",
              "Q 144.6 59.3, 144.6 61.3\n",
              "Q 144.6 63.2, 145.4 64.2\n",
              "Q 146.2 65.2, 147.7 65.2\n",
              "' fill='#FF0000'/>\n",
              "<path class='atom-11' d='M 201.7 35.1\n",
              "L 205.0 40.3\n",
              "Q 205.3 40.8, 205.8 41.7\n",
              "Q 206.3 42.6, 206.3 42.7\n",
              "L 206.3 35.1\n",
              "L 207.6 35.1\n",
              "L 207.6 44.9\n",
              "L 206.3 44.9\n",
              "L 202.8 39.2\n",
              "Q 202.4 38.5, 202.0 37.8\n",
              "Q 201.6 37.0, 201.5 36.8\n",
              "L 201.5 44.9\n",
              "L 200.2 44.9\n",
              "L 200.2 35.1\n",
              "L 201.7 35.1\n",
              "' fill='#0000FF'/>\n",
              "</svg>\n"
            ],
            "image/svg+xml": "<?xml version='1.0' encoding='iso-8859-1'?>\n<svg version='1.1' baseProfile='full'\n              xmlns='http://www.w3.org/2000/svg'\n                      xmlns:rdkit='http://www.rdkit.org/xml'\n                      xmlns:xlink='http://www.w3.org/1999/xlink'\n                  xml:space='preserve'\nwidth='450px' height='150px' viewBox='0 0 450 150'>\n<!-- END OF HEADER -->\n<rect style='opacity:1.0;fill:#FFFFFF;stroke:none' width='450.0' height='150.0' x='0.0' y='0.0'> </rect>\n<path class='bond-0 atom-0 atom-1' d='M 306.8,103.5 L 298.4,93.0' style='fill:none;fill-rule:evenodd;stroke:#000000;stroke-width:2.0px;stroke-linecap:butt;stroke-linejoin:miter;stroke-opacity:1' />\n<path class='bond-0 atom-0 atom-1' d='M 298.4,93.0 L 290.0,82.5' style='fill:none;fill-rule:evenodd;stroke:#0000FF;stroke-width:2.0px;stroke-linecap:butt;stroke-linejoin:miter;stroke-opacity:1' />\n<path class='bond-1 atom-1 atom-2' d='M 286.8,70.3 L 290.5,56.6' style='fill:none;fill-rule:evenodd;stroke:#0000FF;stroke-width:2.0px;stroke-linecap:butt;stroke-linejoin:miter;stroke-opacity:1' />\n<path class='bond-1 atom-1 atom-2' d='M 290.5,56.6 L 294.3,42.9' style='fill:none;fill-rule:evenodd;stroke:#000000;stroke-width:2.0px;stroke-linecap:butt;stroke-linejoin:miter;stroke-opacity:1' />\n<path class='bond-2 atom-2 atom-3' d='M 294.3,42.9 L 282.2,35.0' style='fill:none;fill-rule:evenodd;stroke:#000000;stroke-width:2.0px;stroke-linecap:butt;stroke-linejoin:miter;stroke-opacity:1' />\n<path class='bond-2 atom-2 atom-3' d='M 282.2,35.0 L 270.1,27.1' style='fill:none;fill-rule:evenodd;stroke:#0000FF;stroke-width:2.0px;stroke-linecap:butt;stroke-linejoin:miter;stroke-opacity:1' />\n<path class='bond-2 atom-2 atom-3' d='M 288.3,45.2 L 277.8,38.3' style='fill:none;fill-rule:evenodd;stroke:#000000;stroke-width:2.0px;stroke-linecap:butt;stroke-linejoin:miter;stroke-opacity:1' />\n<path class='bond-2 atom-2 atom-3' d='M 277.8,38.3 L 267.3,31.4' style='fill:none;fill-rule:evenodd;stroke:#0000FF;stroke-width:2.0px;stroke-linecap:butt;stroke-linejoin:miter;stroke-opacity:1' />\n<path class='bond-3 atom-3 atom-4' d='M 260.4,27.8 L 249.3,36.7' style='fill:none;fill-rule:evenodd;stroke:#0000FF;stroke-width:2.0px;stroke-linecap:butt;stroke-linejoin:miter;stroke-opacity:1' />\n<path class='bond-3 atom-3 atom-4' d='M 249.3,36.7 L 238.2,45.6' style='fill:none;fill-rule:evenodd;stroke:#000000;stroke-width:2.0px;stroke-linecap:butt;stroke-linejoin:miter;stroke-opacity:1' />\n<path class='bond-4 atom-4 atom-5' d='M 238.2,45.6 L 250.5,78.0' style='fill:none;fill-rule:evenodd;stroke:#000000;stroke-width:2.0px;stroke-linecap:butt;stroke-linejoin:miter;stroke-opacity:1' />\n<path class='bond-4 atom-4 atom-5' d='M 244.4,47.3 L 254.0,72.7' style='fill:none;fill-rule:evenodd;stroke:#000000;stroke-width:2.0px;stroke-linecap:butt;stroke-linejoin:miter;stroke-opacity:1' />\n<path class='bond-5 atom-5 atom-6' d='M 250.5,78.0 L 228.5,104.9' style='fill:none;fill-rule:evenodd;stroke:#000000;stroke-width:2.0px;stroke-linecap:butt;stroke-linejoin:miter;stroke-opacity:1' />\n<path class='bond-6 atom-6 atom-7' d='M 225.5,104.4 L 230.8,118.3' style='fill:none;fill-rule:evenodd;stroke:#000000;stroke-width:2.0px;stroke-linecap:butt;stroke-linejoin:miter;stroke-opacity:1' />\n<path class='bond-6 atom-6 atom-7' d='M 230.8,118.3 L 236.0,132.2' style='fill:none;fill-rule:evenodd;stroke:#FF0000;stroke-width:2.0px;stroke-linecap:butt;stroke-linejoin:miter;stroke-opacity:1' />\n<path class='bond-6 atom-6 atom-7' d='M 230.4,102.6 L 235.6,116.5' style='fill:none;fill-rule:evenodd;stroke:#000000;stroke-width:2.0px;stroke-linecap:butt;stroke-linejoin:miter;stroke-opacity:1' />\n<path class='bond-6 atom-6 atom-7' d='M 235.6,116.5 L 240.9,130.3' style='fill:none;fill-rule:evenodd;stroke:#FF0000;stroke-width:2.0px;stroke-linecap:butt;stroke-linejoin:miter;stroke-opacity:1' />\n<path class='bond-7 atom-6 atom-8' d='M 228.5,104.9 L 213.8,102.5' style='fill:none;fill-rule:evenodd;stroke:#000000;stroke-width:2.0px;stroke-linecap:butt;stroke-linejoin:miter;stroke-opacity:1' />\n<path class='bond-7 atom-6 atom-8' d='M 213.8,102.5 L 199.1,100.1' style='fill:none;fill-rule:evenodd;stroke:#0000FF;stroke-width:2.0px;stroke-linecap:butt;stroke-linejoin:miter;stroke-opacity:1' />\n<path class='bond-8 atom-8 atom-9' d='M 191.9,93.2 L 186.9,80.0' style='fill:none;fill-rule:evenodd;stroke:#0000FF;stroke-width:2.0px;stroke-linecap:butt;stroke-linejoin:miter;stroke-opacity:1' />\n<path class='bond-8 atom-8 atom-9' d='M 186.9,80.0 L 181.9,66.8' style='fill:none;fill-rule:evenodd;stroke:#000000;stroke-width:2.0px;stroke-linecap:butt;stroke-linejoin:miter;stroke-opacity:1' />\n<path class='bond-9 atom-9 atom-10' d='M 183.8,64.5 L 168.8,62.0' style='fill:none;fill-rule:evenodd;stroke:#000000;stroke-width:2.0px;stroke-linecap:butt;stroke-linejoin:miter;stroke-opacity:1' />\n<path class='bond-9 atom-9 atom-10' d='M 168.8,62.0 L 153.8,59.6' style='fill:none;fill-rule:evenodd;stroke:#FF0000;stroke-width:2.0px;stroke-linecap:butt;stroke-linejoin:miter;stroke-opacity:1' />\n<path class='bond-9 atom-9 atom-10' d='M 183.0,69.6 L 168.0,67.2' style='fill:none;fill-rule:evenodd;stroke:#000000;stroke-width:2.0px;stroke-linecap:butt;stroke-linejoin:miter;stroke-opacity:1' />\n<path class='bond-9 atom-9 atom-10' d='M 168.0,67.2 L 152.9,64.7' style='fill:none;fill-rule:evenodd;stroke:#FF0000;stroke-width:2.0px;stroke-linecap:butt;stroke-linejoin:miter;stroke-opacity:1' />\n<path class='bond-10 atom-9 atom-11' d='M 181.9,66.8 L 190.5,56.4' style='fill:none;fill-rule:evenodd;stroke:#000000;stroke-width:2.0px;stroke-linecap:butt;stroke-linejoin:miter;stroke-opacity:1' />\n<path class='bond-10 atom-9 atom-11' d='M 190.5,56.4 L 199.0,45.9' style='fill:none;fill-rule:evenodd;stroke:#0000FF;stroke-width:2.0px;stroke-linecap:butt;stroke-linejoin:miter;stroke-opacity:1' />\n<path class='bond-11 atom-11 atom-12' d='M 201.6,33.9 L 196.6,20.7' style='fill:none;fill-rule:evenodd;stroke:#0000FF;stroke-width:2.0px;stroke-linecap:butt;stroke-linejoin:miter;stroke-opacity:1' />\n<path class='bond-11 atom-11 atom-12' d='M 196.6,20.7 L 191.6,7.5' style='fill:none;fill-rule:evenodd;stroke:#000000;stroke-width:2.0px;stroke-linecap:butt;stroke-linejoin:miter;stroke-opacity:1' />\n<path class='bond-12 atom-8 atom-13' d='M 189.3,105.3 L 180.8,115.7' style='fill:none;fill-rule:evenodd;stroke:#0000FF;stroke-width:2.0px;stroke-linecap:butt;stroke-linejoin:miter;stroke-opacity:1' />\n<path class='bond-12 atom-8 atom-13' d='M 180.8,115.7 L 172.2,126.2' style='fill:none;fill-rule:evenodd;stroke:#000000;stroke-width:2.0px;stroke-linecap:butt;stroke-linejoin:miter;stroke-opacity:1' />\n<path class='bond-13 atom-5 atom-1' d='M 250.5,78.0 L 265.4,77.3' style='fill:none;fill-rule:evenodd;stroke:#000000;stroke-width:2.0px;stroke-linecap:butt;stroke-linejoin:miter;stroke-opacity:1' />\n<path class='bond-13 atom-5 atom-1' d='M 265.4,77.3 L 280.3,76.6' style='fill:none;fill-rule:evenodd;stroke:#0000FF;stroke-width:2.0px;stroke-linecap:butt;stroke-linejoin:miter;stroke-opacity:1' />\n<path class='bond-14 atom-11 atom-4' d='M 208.8,40.8 L 223.5,43.2' style='fill:none;fill-rule:evenodd;stroke:#0000FF;stroke-width:2.0px;stroke-linecap:butt;stroke-linejoin:miter;stroke-opacity:1' />\n<path class='bond-14 atom-11 atom-4' d='M 223.5,43.2 L 238.2,45.6' style='fill:none;fill-rule:evenodd;stroke:#000000;stroke-width:2.0px;stroke-linecap:butt;stroke-linejoin:miter;stroke-opacity:1' />\n<path d='M 294.1,43.6 L 294.3,42.9 L 293.7,42.5' style='fill:none;stroke:#000000;stroke-width:2.0px;stroke-linecap:butt;stroke-linejoin:miter;stroke-opacity:1;' />\n<path d='M 229.6,103.6 L 228.5,104.9 L 227.7,104.8' style='fill:none;stroke:#000000;stroke-width:2.0px;stroke-linecap:butt;stroke-linejoin:miter;stroke-opacity:1;' />\n<path d='M 182.2,67.5 L 181.9,66.8 L 182.4,66.3' style='fill:none;stroke:#000000;stroke-width:2.0px;stroke-linecap:butt;stroke-linejoin:miter;stroke-opacity:1;' />\n<path class='atom-1' d='M 283.0 71.5\nL 286.2 76.7\nQ 286.5 77.2, 287.0 78.1\nQ 287.5 79.1, 287.5 79.1\nL 287.5 71.5\nL 288.9 71.5\nL 288.9 81.3\nL 287.5 81.3\nL 284.0 75.6\nQ 283.6 75.0, 283.2 74.2\nQ 282.8 73.4, 282.7 73.2\nL 282.7 81.3\nL 281.4 81.3\nL 281.4 71.5\nL 283.0 71.5\n' fill='#0000FF'/>\n<path class='atom-3' d='M 263.1 18.9\nL 266.3 24.2\nQ 266.6 24.7, 267.1 25.6\nQ 267.7 26.5, 267.7 26.6\nL 267.7 18.9\nL 269.0 18.9\nL 269.0 28.8\nL 267.6 28.8\nL 264.2 23.1\nQ 263.8 22.4, 263.4 21.7\nQ 262.9 20.9, 262.8 20.7\nL 262.8 28.8\nL 261.5 28.8\nL 261.5 18.9\nL 263.1 18.9\n' fill='#0000FF'/>\n<path class='atom-7' d='M 236.2 137.4\nQ 236.2 135.0, 237.4 133.7\nQ 238.6 132.4, 240.7 132.4\nQ 242.9 132.4, 244.1 133.7\nQ 245.3 135.0, 245.3 137.4\nQ 245.3 139.8, 244.1 141.2\nQ 242.9 142.5, 240.7 142.5\nQ 238.6 142.5, 237.4 141.2\nQ 236.2 139.8, 236.2 137.4\nM 240.7 141.4\nQ 242.2 141.4, 243.1 140.4\nQ 243.9 139.4, 243.9 137.4\nQ 243.9 135.5, 243.1 134.5\nQ 242.2 133.5, 240.7 133.5\nQ 239.2 133.5, 238.4 134.5\nQ 237.6 135.5, 237.6 137.4\nQ 237.6 139.4, 238.4 140.4\nQ 239.2 141.4, 240.7 141.4\n' fill='#FF0000'/>\n<path class='atom-8' d='M 192.0 94.4\nL 195.3 99.6\nQ 195.6 100.1, 196.1 101.0\nQ 196.6 102.0, 196.6 102.0\nL 196.6 94.4\nL 197.9 94.4\nL 197.9 104.2\nL 196.6 104.2\nL 193.1 98.5\nQ 192.7 97.9, 192.3 97.1\nQ 191.9 96.3, 191.8 96.1\nL 191.8 104.2\nL 190.5 104.2\nL 190.5 94.4\nL 192.0 94.4\n' fill='#0000FF'/>\n<path class='atom-10' d='M 143.2 61.3\nQ 143.2 58.9, 144.3 57.6\nQ 145.5 56.3, 147.7 56.3\nQ 149.9 56.3, 151.0 57.6\nQ 152.2 58.9, 152.2 61.3\nQ 152.2 63.6, 151.0 65.0\nQ 149.8 66.4, 147.7 66.4\nQ 145.5 66.4, 144.3 65.0\nQ 143.2 63.7, 143.2 61.3\nM 147.7 65.2\nQ 149.2 65.2, 150.0 64.2\nQ 150.8 63.2, 150.8 61.3\nQ 150.8 59.3, 150.0 58.4\nQ 149.2 57.4, 147.7 57.4\nQ 146.2 57.4, 145.4 58.3\nQ 144.6 59.3, 144.6 61.3\nQ 144.6 63.2, 145.4 64.2\nQ 146.2 65.2, 147.7 65.2\n' fill='#FF0000'/>\n<path class='atom-11' d='M 201.7 35.1\nL 205.0 40.3\nQ 205.3 40.8, 205.8 41.7\nQ 206.3 42.6, 206.3 42.7\nL 206.3 35.1\nL 207.6 35.1\nL 207.6 44.9\nL 206.3 44.9\nL 202.8 39.2\nQ 202.4 38.5, 202.0 37.8\nQ 201.6 37.0, 201.5 36.8\nL 201.5 44.9\nL 200.2 44.9\nL 200.2 35.1\nL 201.7 35.1\n' fill='#0000FF'/>\n</svg>\n",
            "image/png": "[encoded data removed]"
          },
          "metadata": {},
          "execution_count": 7
        }
      ],
      "source": [
        "# Here we define a caffeine molecule using Smiles.\n",
        "mol_caffeine = Chem.MolFromSmiles(\"CN1C=NC2=C1C(=O)N(C(=O)N2C)C\")\n",
        "mol_caffeine"
      ]
    },
    {
      "cell_type": "markdown",
      "metadata": {
        "id": "EQHD5bdF5a68"
      },
      "source": [
        "Let us now take consider chirality.\n",
        "For instance, consider [2-Butanol](https://en.wikipedia.org/wiki/2-Butanol).\n",
        "The molecule has two configurations that are mirror images of each other (also called **enantiomer**). For more information and a 3D visualization, we refer to [this tutorial](https://chem.libretexts.org/Bookshelves/Organic_Chemistry/Map%3A_Organic_Chemistry_(Vollhardt_and_Schore)/05._Stereoisomers/5.1%3A_Chiral__Molecules)."
      ]
    },
    {
      "cell_type": "code",
      "execution_count": 8,
      "metadata": {
        "colab": {
          "base_uri": "https://localhost:8080/",
          "height": 222
        },
        "id": "rvqZNsOJ5fot",
        "outputId": "59dccff8-e903-41b4-d34f-6cea716d8b80",
        "tags": []
      },
      "outputs": [
        {
          "output_type": "execute_result",
          "data": {
            "text/plain": [
              "<IPython.core.display.SVG object>"
            ],
            "image/svg+xml": "<svg xmlns=\"http://www.w3.org/2000/svg\" xmlns:rdkit=\"http://www.rdkit.org/xml\" xmlns:xlink=\"http://www.w3.org/1999/xlink\" version=\"1.1\" baseProfile=\"full\" xml:space=\"preserve\" width=\"600px\" height=\"200px\" viewBox=\"0 0 600 200\">\n<!-- END OF HEADER -->\n<rect style=\"opacity:1.0;fill:#FFFFFF;stroke:none\" width=\"600.0\" height=\"200.0\" x=\"0.0\" y=\"0.0\"> </rect>\n<path class=\"bond-0 atom-0 atom-1\" d=\"M 11.3,77.9 L 70.4,43.7\" style=\"fill:none;fill-rule:evenodd;stroke:#000000;stroke-width:2.0px;stroke-linecap:butt;stroke-linejoin:miter;stroke-opacity:1\"/>\n<path class=\"bond-1 atom-1 atom-2\" d=\"M 70.4,43.7 L 129.6,77.9\" style=\"fill:none;fill-rule:evenodd;stroke:#000000;stroke-width:2.0px;stroke-linecap:butt;stroke-linejoin:miter;stroke-opacity:1\"/>\n<path class=\"bond-2 atom-2 atom-3\" d=\"M 129.6,77.9 L 188.7,43.7\" style=\"fill:none;fill-rule:evenodd;stroke:#000000;stroke-width:2.0px;stroke-linecap:butt;stroke-linejoin:miter;stroke-opacity:1\"/>\n<path class=\"bond-3 atom-2 atom-4\" d=\"M 129.6,77.9 L 129.6,106.0\" style=\"fill:none;fill-rule:evenodd;stroke:#000000;stroke-width:2.0px;stroke-linecap:butt;stroke-linejoin:miter;stroke-opacity:1\"/>\n<path class=\"bond-3 atom-2 atom-4\" d=\"M 129.6,106.0 L 129.6,134.1\" style=\"fill:none;fill-rule:evenodd;stroke:#FF0000;stroke-width:2.0px;stroke-linecap:butt;stroke-linejoin:miter;stroke-opacity:1\"/>\n<path d=\"M 67.5,45.4 L 70.4,43.7 L 73.4,45.4\" style=\"fill:none;stroke:#000000;stroke-width:2.0px;stroke-linecap:butt;stroke-linejoin:miter;stroke-opacity:1;\"/>\n<path class=\"atom-4\" d=\"M 120.7 146.2 Q 120.7 141.6, 123.0 139.0 Q 125.3 136.4, 129.6 136.4 Q 133.9 136.4, 136.2 139.0 Q 138.5 141.6, 138.5 146.2 Q 138.5 150.9, 136.1 153.6 Q 133.8 156.3, 129.6 156.3 Q 125.3 156.3, 123.0 153.6 Q 120.7 151.0, 120.7 146.2 M 129.6 154.1 Q 132.5 154.1, 134.1 152.1 Q 135.7 150.1, 135.7 146.2 Q 135.7 142.4, 134.1 140.5 Q 132.5 138.6, 129.6 138.6 Q 126.6 138.6, 125.0 140.5 Q 123.4 142.4, 123.4 146.2 Q 123.4 150.1, 125.0 152.1 Q 126.6 154.1, 129.6 154.1 \" fill=\"#FF0000\"/>\n<path class=\"atom-4\" d=\"M 141.5 136.6 L 144.1 136.6 L 144.1 144.8 L 154.0 144.8 L 154.0 136.6 L 156.6 136.6 L 156.6 156.0 L 154.0 156.0 L 154.0 147.0 L 144.1 147.0 L 144.1 156.0 L 141.5 156.0 L 141.5 136.6 \" fill=\"#FF0000\"/>\n<path class=\"bond-0 atom-0 atom-1\" d=\"M 210.0,80.1 L 269.1,46.0\" style=\"fill:none;fill-rule:evenodd;stroke:#000000;stroke-width:2.0px;stroke-linecap:butt;stroke-linejoin:miter;stroke-opacity:1\"/>\n<path class=\"bond-1 atom-1 atom-2\" d=\"M 269.1,46.0 L 328.3,80.1\" style=\"fill:none;fill-rule:evenodd;stroke:#000000;stroke-width:2.0px;stroke-linecap:butt;stroke-linejoin:miter;stroke-opacity:1\"/>\n<path class=\"bond-2 atom-2 atom-3\" d=\"M 331.1,78.2 L 331.4,78.6\" style=\"fill:none;fill-rule:evenodd;stroke:#000000;stroke-width:1.0px;stroke-linecap:butt;stroke-linejoin:miter;stroke-opacity:1\"/>\n<path class=\"bond-2 atom-2 atom-3\" d=\"M 334.0,76.2 L 334.5,77.1\" style=\"fill:none;fill-rule:evenodd;stroke:#000000;stroke-width:1.0px;stroke-linecap:butt;stroke-linejoin:miter;stroke-opacity:1\"/>\n<path class=\"bond-2 atom-2 atom-3\" d=\"M 336.8,74.3 L 337.5,75.6\" style=\"fill:none;fill-rule:evenodd;stroke:#000000;stroke-width:1.0px;stroke-linecap:butt;stroke-linejoin:miter;stroke-opacity:1\"/>\n<path class=\"bond-2 atom-2 atom-3\" d=\"M 339.6,72.4 L 340.6,74.2\" style=\"fill:none;fill-rule:evenodd;stroke:#000000;stroke-width:1.0px;stroke-linecap:butt;stroke-linejoin:miter;stroke-opacity:1\"/>\n<path class=\"bond-2 atom-2 atom-3\" d=\"M 342.4,70.5 L 343.7,72.7\" style=\"fill:none;fill-rule:evenodd;stroke:#000000;stroke-width:1.0px;stroke-linecap:butt;stroke-linejoin:miter;stroke-opacity:1\"/>\n<path class=\"bond-2 atom-2 atom-3\" d=\"M 345.3,68.5 L 346.8,71.2\" style=\"fill:none;fill-rule:evenodd;stroke:#000000;stroke-width:1.0px;stroke-linecap:butt;stroke-linejoin:miter;stroke-opacity:1\"/>\n<path class=\"bond-2 atom-2 atom-3\" d=\"M 348.1,66.6 L 349.9,69.7\" style=\"fill:none;fill-rule:evenodd;stroke:#000000;stroke-width:1.0px;stroke-linecap:butt;stroke-linejoin:miter;stroke-opacity:1\"/>\n<path class=\"bond-2 atom-2 atom-3\" d=\"M 350.9,64.7 L 353.0,68.2\" style=\"fill:none;fill-rule:evenodd;stroke:#000000;stroke-width:1.0px;stroke-linecap:butt;stroke-linejoin:miter;stroke-opacity:1\"/>\n<path class=\"bond-2 atom-2 atom-3\" d=\"M 353.8,62.7 L 356.1,66.7\" style=\"fill:none;fill-rule:evenodd;stroke:#000000;stroke-width:1.0px;stroke-linecap:butt;stroke-linejoin:miter;stroke-opacity:1\"/>\n<path class=\"bond-2 atom-2 atom-3\" d=\"M 356.6,60.8 L 359.1,65.2\" style=\"fill:none;fill-rule:evenodd;stroke:#000000;stroke-width:1.0px;stroke-linecap:butt;stroke-linejoin:miter;stroke-opacity:1\"/>\n<path class=\"bond-2 atom-2 atom-3\" d=\"M 359.4,58.9 L 362.2,63.8\" style=\"fill:none;fill-rule:evenodd;stroke:#000000;stroke-width:1.0px;stroke-linecap:butt;stroke-linejoin:miter;stroke-opacity:1\"/>\n<path class=\"bond-2 atom-2 atom-3\" d=\"M 362.2,57.0 L 365.3,62.3\" style=\"fill:none;fill-rule:evenodd;stroke:#000000;stroke-width:1.0px;stroke-linecap:butt;stroke-linejoin:miter;stroke-opacity:1\"/>\n<path class=\"bond-2 atom-2 atom-3\" d=\"M 365.1,55.0 L 368.4,60.8\" style=\"fill:none;fill-rule:evenodd;stroke:#000000;stroke-width:1.0px;stroke-linecap:butt;stroke-linejoin:miter;stroke-opacity:1\"/>\n<path class=\"bond-2 atom-2 atom-3\" d=\"M 367.9,53.1 L 371.5,59.3\" style=\"fill:none;fill-rule:evenodd;stroke:#000000;stroke-width:1.0px;stroke-linecap:butt;stroke-linejoin:miter;stroke-opacity:1\"/>\n<path class=\"bond-2 atom-2 atom-3\" d=\"M 370.7,51.2 L 374.6,57.8\" style=\"fill:none;fill-rule:evenodd;stroke:#000000;stroke-width:1.0px;stroke-linecap:butt;stroke-linejoin:miter;stroke-opacity:1\"/>\n<path class=\"bond-2 atom-2 atom-3\" d=\"M 373.6,49.2 L 377.7,56.3\" style=\"fill:none;fill-rule:evenodd;stroke:#000000;stroke-width:1.0px;stroke-linecap:butt;stroke-linejoin:miter;stroke-opacity:1\"/>\n<path class=\"bond-2 atom-2 atom-3\" d=\"M 376.4,47.3 L 380.7,54.8\" style=\"fill:none;fill-rule:evenodd;stroke:#000000;stroke-width:1.0px;stroke-linecap:butt;stroke-linejoin:miter;stroke-opacity:1\"/>\n<path class=\"bond-2 atom-2 atom-3\" d=\"M 379.2,45.4 L 383.8,53.4\" style=\"fill:none;fill-rule:evenodd;stroke:#000000;stroke-width:1.0px;stroke-linecap:butt;stroke-linejoin:miter;stroke-opacity:1\"/>\n<path class=\"bond-2 atom-2 atom-3\" d=\"M 382.0,43.4 L 386.9,51.9\" style=\"fill:none;fill-rule:evenodd;stroke:#000000;stroke-width:1.0px;stroke-linecap:butt;stroke-linejoin:miter;stroke-opacity:1\"/>\n<path class=\"bond-2 atom-2 atom-3\" d=\"M 384.9,41.5 L 390.0,50.4\" style=\"fill:none;fill-rule:evenodd;stroke:#000000;stroke-width:1.0px;stroke-linecap:butt;stroke-linejoin:miter;stroke-opacity:1\"/>\n<path class=\"bond-3 atom-2 atom-4\" d=\"M 328.3,80.1 L 328.3,108.2\" style=\"fill:none;fill-rule:evenodd;stroke:#000000;stroke-width:2.0px;stroke-linecap:butt;stroke-linejoin:miter;stroke-opacity:1\"/>\n<path class=\"bond-3 atom-2 atom-4\" d=\"M 328.3,108.2 L 328.3,136.4\" style=\"fill:none;fill-rule:evenodd;stroke:#FF0000;stroke-width:2.0px;stroke-linecap:butt;stroke-linejoin:miter;stroke-opacity:1\"/>\n<path d=\"M 266.2,47.7 L 269.1,46.0 L 272.1,47.7\" style=\"fill:none;stroke:#000000;stroke-width:2.0px;stroke-linecap:butt;stroke-linejoin:miter;stroke-opacity:1;\"/>\n<path d=\"M 325.3,78.4 L 328.3,80.1 L 328.3,81.5\" style=\"fill:none;stroke:#000000;stroke-width:2.0px;stroke-linecap:butt;stroke-linejoin:miter;stroke-opacity:1;\"/>\n<path class=\"atom-4\" d=\"M 319.4 148.5 Q 319.4 143.8, 321.7 141.2 Q 324.0 138.6, 328.3 138.6 Q 332.6 138.6, 334.9 141.2 Q 337.2 143.8, 337.2 148.5 Q 337.2 153.2, 334.8 155.8 Q 332.5 158.5, 328.3 158.5 Q 324.0 158.5, 321.7 155.8 Q 319.4 153.2, 319.4 148.5 M 328.3 156.3 Q 331.2 156.3, 332.8 154.3 Q 334.4 152.3, 334.4 148.5 Q 334.4 144.7, 332.8 142.7 Q 331.2 140.8, 328.3 140.8 Q 325.3 140.8, 323.7 142.7 Q 322.1 144.6, 322.1 148.5 Q 322.1 152.4, 323.7 154.3 Q 325.3 156.3, 328.3 156.3 \" fill=\"#FF0000\"/>\n<path class=\"atom-4\" d=\"M 340.2 138.8 L 342.8 138.8 L 342.8 147.1 L 352.7 147.1 L 352.7 138.8 L 355.3 138.8 L 355.3 158.2 L 352.7 158.2 L 352.7 149.2 L 342.8 149.2 L 342.8 158.2 L 340.2 158.2 L 340.2 138.8 \" fill=\"#FF0000\"/>\n<path class=\"bond-0 atom-0 atom-1\" d=\"M 410.0,80.1 L 469.1,46.0\" style=\"fill:none;fill-rule:evenodd;stroke:#000000;stroke-width:2.0px;stroke-linecap:butt;stroke-linejoin:miter;stroke-opacity:1\"/>\n<path class=\"bond-1 atom-1 atom-2\" d=\"M 469.1,46.0 L 528.3,80.1\" style=\"fill:none;fill-rule:evenodd;stroke:#000000;stroke-width:2.0px;stroke-linecap:butt;stroke-linejoin:miter;stroke-opacity:1\"/>\n<path class=\"bond-2 atom-2 atom-3\" d=\"M 528.3,80.1 L 584.9,41.5 L 590.0,50.4 Z\" style=\"fill:#000000;fill-rule:evenodd;fill-opacity:1;stroke:#000000;stroke-width:0.5px;stroke-linecap:butt;stroke-linejoin:miter;stroke-opacity:1;\"/>\n<path class=\"bond-3 atom-2 atom-4\" d=\"M 528.3,80.1 L 528.3,108.2\" style=\"fill:none;fill-rule:evenodd;stroke:#000000;stroke-width:2.0px;stroke-linecap:butt;stroke-linejoin:miter;stroke-opacity:1\"/>\n<path class=\"bond-3 atom-2 atom-4\" d=\"M 528.3,108.2 L 528.3,136.4\" style=\"fill:none;fill-rule:evenodd;stroke:#FF0000;stroke-width:2.0px;stroke-linecap:butt;stroke-linejoin:miter;stroke-opacity:1\"/>\n<path d=\"M 466.2,47.7 L 469.1,46.0 L 472.1,47.7\" style=\"fill:none;stroke:#000000;stroke-width:2.0px;stroke-linecap:butt;stroke-linejoin:miter;stroke-opacity:1;\"/>\n<path d=\"M 525.3,78.4 L 528.3,80.1 L 528.3,81.5\" style=\"fill:none;stroke:#000000;stroke-width:2.0px;stroke-linecap:butt;stroke-linejoin:miter;stroke-opacity:1;\"/>\n<path class=\"atom-4\" d=\"M 519.4 148.5 Q 519.4 143.8, 521.7 141.2 Q 524.0 138.6, 528.3 138.6 Q 532.6 138.6, 534.9 141.2 Q 537.2 143.8, 537.2 148.5 Q 537.2 153.2, 534.8 155.8 Q 532.5 158.5, 528.3 158.5 Q 524.0 158.5, 521.7 155.8 Q 519.4 153.2, 519.4 148.5 M 528.3 156.3 Q 531.2 156.3, 532.8 154.3 Q 534.4 152.3, 534.4 148.5 Q 534.4 144.7, 532.8 142.7 Q 531.2 140.8, 528.3 140.8 Q 525.3 140.8, 523.7 142.7 Q 522.1 144.6, 522.1 148.5 Q 522.1 152.4, 523.7 154.3 Q 525.3 156.3, 528.3 156.3 \" fill=\"#FF0000\"/>\n<path class=\"atom-4\" d=\"M 540.2 138.8 L 542.8 138.8 L 542.8 147.1 L 552.7 147.1 L 552.7 138.8 L 555.3 138.8 L 555.3 158.2 L 552.7 158.2 L 552.7 149.2 L 542.8 149.2 L 542.8 158.2 L 540.2 158.2 L 540.2 138.8 \" fill=\"#FF0000\"/>\n</svg>"
          },
          "metadata": {},
          "execution_count": 8
        }
      ],
      "source": [
        "mol1 = Chem.MolFromSmiles(\"CC[CH](C)O\")  # without chiral information\n",
        "mol2 = Chem.MolFromSmiles(\"CC[C@H](C)O\")  # enantiomer 1\n",
        "mol3 = Chem.MolFromSmiles(\"CC[C@@H](C)O\")  # enantiomer 2\n",
        "\n",
        "Draw.MolsToGridImage([mol1, mol2, mol3], molsPerRow=3, subImgSize=(200, 200))"
      ]
    },
    {
      "cell_type": "markdown",
      "metadata": {
        "id": "AWII15ft83YJ"
      },
      "source": [
        "NGLViewer allows us to see a ball-and-stick visualization (example taken from [this](http://nglviewer.org/nglview/release/v0.6.1/api.html) tutorial, we also refer the reader to __Talktorial T009__)."
      ]
    },
    {
      "cell_type": "code",
      "execution_count": 9,
      "metadata": {
        "colab": {
          "base_uri": "https://localhost:8080/",
          "height": 317,
          "referenced_widgets": [
            "0a0fb890ee72412aa75607bc9c0c9411",
            "dcb4fb7b0ffa408e8c5b87550746a578",
            "05f795bd67f4467fa7be57dd418376d1",
            "e985f02aab6c49108de8470dc101f7a3",
            "b19b9c645e5643e99e80717cbd094535",
            "d04fea045a744d2cae1b695734a69bf4",
            "527b905543a84572bef963f1f5e50609",
            "ce6a030542f944deb14fb88ad3bae11c",
            "57e4686df67c471caf0ccc516a20d5a3",
            "fb15432fee52424cb42231cf39cbff69",
            "17b8c8d9ae1a43c8bfb4d6c988aaead8",
            "18cf9a611b6e480a9902eaf7db03af2a",
            "8cd15d81aadc475da4eca04c1758fefb"
          ]
        },
        "id": "gahUyxum8nmK",
        "outputId": "40044f3b-d5b9-41cc-b99f-f902e7fb55b2",
        "tags": []
      },
      "outputs": [
        {
          "output_type": "display_data",
          "data": {
            "text/plain": [
              "NGLWidget()"
            ],
            "application/vnd.jupyter.widget-view+json": {
              "version_major": 2,
              "version_minor": 0,
              "model_id": "0a0fb890ee72412aa75607bc9c0c9411"
            }
          },
          "metadata": {
            "application/vnd.jupyter.widget-view+json": {
              "colab": {
                "custom_widget_manager": {
                  "url": "https://ssl.gstatic.com/colaboratory-static/widgets/colab-cdn-widget-manager/2b70e893a8ba7c0f/manager.min.js"
                }
              }
            }
          }
        }
      ],
      "source": [
        "m = Chem.AddHs(\n",
        "    Chem.MolFromSmiles(\"CC[C@@H](C)O\")\n",
        ")  # replace with 'CC[C@H](C)O' for other enantiomer\n",
        "AllChem.EmbedMultipleConfs(m, useExpTorsionAnglePrefs=True, useBasicKnowledge=True)\n",
        "view = nv.show_rdkit(m)\n",
        "view"
      ]
    },
    {
      "cell_type": "markdown",
      "metadata": {
        "id": "XLWrpfBs-ech"
      },
      "source": [
        "### Conformers"
      ]
    },
    {
      "cell_type": "markdown",
      "metadata": {
        "id": "eXnMQ0tjP_I5"
      },
      "source": [
        "We can generate a set of n conformers using rdkit's improved conformer generator [ETKDGv3](https://pubs.acs.org/doi/10.1021/acs.jcim.0c00025).\n",
        "\n",
        "We use aspirin as example molecule."
      ]
    },
    {
      "cell_type": "code",
      "execution_count": 10,
      "metadata": {
        "tags": [],
        "id": "0VxRSh-gP_I5"
      },
      "outputs": [],
      "source": [
        "# generate molecule from Smiles\n",
        "aspirin = Chem.MolFromSmiles(\"CC(=O)OC1=CC=CC=C1C(=O)O\")"
      ]
    },
    {
      "cell_type": "markdown",
      "metadata": {
        "id": "7m_ku-V8P_I5"
      },
      "source": [
        "Generate 200 conformers"
      ]
    },
    {
      "cell_type": "code",
      "execution_count": 11,
      "metadata": {
        "tags": [],
        "id": "EwYv7_pTP_I5",
        "outputId": "8f4af80f-3429-4127-cb35-30c5d97eb5eb",
        "colab": {
          "base_uri": "https://localhost:8080/"
        }
      },
      "outputs": [
        {
          "output_type": "execute_result",
          "data": {
            "text/plain": [
              "200"
            ]
          },
          "metadata": {},
          "execution_count": 11
        }
      ],
      "source": [
        "# add hydrogens\n",
        "aspirin_h = Chem.AddHs(aspirin)\n",
        "# generate conformers\n",
        "ps = rdDistGeom.ETKDGv3()\n",
        "ps.randomSeed = 0xD06F00D\n",
        "ps.numThreads = 10\n",
        "conf_ids = rdDistGeom.EmbedMultipleConfs(aspirin_h, 200, ps)\n",
        "len(conf_ids)"
      ]
    },
    {
      "cell_type": "code",
      "execution_count": 12,
      "metadata": {
        "tags": [],
        "id": "BP4-bpQcP_I6"
      },
      "outputs": [],
      "source": [
        "# remove hydrogens again\n",
        "aspirin_3d = Chem.RemoveHs(aspirin_h)"
      ]
    },
    {
      "cell_type": "code",
      "execution_count": 13,
      "metadata": {
        "tags": [],
        "id": "cH-9n60vP_I6",
        "outputId": "39cc875f-9678-49da-c23d-27af07c22e4f",
        "colab": {
          "base_uri": "https://localhost:8080/"
        }
      },
      "outputs": [
        {
          "output_type": "execute_result",
          "data": {
            "text/plain": [
              "array([[ 3.28475831,  1.07141368,  0.11846153],\n",
              "       [ 1.97436628,  0.61360991,  0.65032664],\n",
              "       [ 1.16114784, -0.04211155, -0.05708268],\n",
              "       [ 0.79881269,  0.26410037,  1.29828389],\n",
              "       [-0.16578384, -0.46016304,  0.60855838],\n",
              "       [-0.20884469, -1.85203494,  0.58156835],\n",
              "       [-1.18631983, -2.52757686, -0.11751138],\n",
              "       [-2.1617378 , -1.84357217, -0.81891257],\n",
              "       [-2.14540755, -0.45194969, -0.81109135],\n",
              "       [-1.15345351,  0.19265294, -0.10154564],\n",
              "       [-1.23550785,  1.64899362, -0.16442025],\n",
              "       [-2.10745855,  2.32615276, -0.79162998],\n",
              "       [-0.40361391,  2.58928266,  0.42957548]])"
            ]
          },
          "metadata": {},
          "execution_count": 13
        }
      ],
      "source": [
        "# print the x,y,z coordinates of the 4 atoms of the first conformer.\n",
        "aspirin_3d.GetConformer(0).GetPositions()"
      ]
    },
    {
      "cell_type": "code",
      "execution_count": 14,
      "metadata": {
        "tags": [],
        "id": "xLAgBnWVP_I6"
      },
      "outputs": [],
      "source": [
        "def show_conformers(molecule, ids):\n",
        "    \"\"\"Generate a view of the ligand conformations.\n",
        "\n",
        "    Parameters\n",
        "    -----------\n",
        "    molecule: rdkit.Chem.rdchem.Mol\n",
        "\n",
        "    Returns\n",
        "    ----------\n",
        "    nglview.widget.NGLWidget\n",
        "    \"\"\"\n",
        "\n",
        "    view = nv.NGLWidget()\n",
        "    print(type(molecule))\n",
        "    for i in range(0, ids):\n",
        "        mb = Chem.MolToMolBlock(molecule, confId=i)\n",
        "        component = view.add_component(mb, ext=\"sdf\")\n",
        "        time.sleep(0.1)\n",
        "        component.clear()\n",
        "        component.add_ball_and_stick(multipleBond=True)\n",
        "    return view"
      ]
    },
    {
      "cell_type": "code",
      "execution_count": 15,
      "metadata": {
        "tags": [],
        "id": "oxFi5Hr6P_I6",
        "outputId": "9e347746-a3a8-408a-9f70-1116c6cb5e53",
        "colab": {
          "base_uri": "https://localhost:8080/"
        }
      },
      "outputs": [
        {
          "output_type": "execute_result",
          "data": {
            "text/plain": [
              "array([[ 3.28475831,  1.07141368,  0.11846153],\n",
              "       [ 1.97436628,  0.61360991,  0.65032664],\n",
              "       [ 1.16114784, -0.04211155, -0.05708268],\n",
              "       [ 0.79881269,  0.26410037,  1.29828389],\n",
              "       [-0.16578384, -0.46016304,  0.60855838],\n",
              "       [-0.20884469, -1.85203494,  0.58156835],\n",
              "       [-1.18631983, -2.52757686, -0.11751138],\n",
              "       [-2.1617378 , -1.84357217, -0.81891257],\n",
              "       [-2.14540755, -0.45194969, -0.81109135],\n",
              "       [-1.15345351,  0.19265294, -0.10154564],\n",
              "       [-1.23550785,  1.64899362, -0.16442025],\n",
              "       [-2.10745855,  2.32615276, -0.79162998],\n",
              "       [-0.40361391,  2.58928266,  0.42957548]])"
            ]
          },
          "metadata": {},
          "execution_count": 15
        }
      ],
      "source": [
        "# print the x,y,z coordinates of the 4 atoms of the first conformer.\n",
        "aspirin_3d.GetConformer(0).GetPositions()"
      ]
    },
    {
      "cell_type": "code",
      "execution_count": 16,
      "metadata": {
        "tags": [],
        "id": "9rV9XohTP_I6"
      },
      "outputs": [],
      "source": [
        "def show_conformers(molecule, ids):\n",
        "    \"\"\"Generate a view of the ligand conformations.\n",
        "\n",
        "    Parameters\n",
        "    -----------\n",
        "    molecule: rdkit.Chem.rdchem.Mol\n",
        "\n",
        "    Returns\n",
        "    ----------\n",
        "    nglview.widget.NGLWidget\n",
        "    \"\"\"\n",
        "\n",
        "    view = nv.NGLWidget()\n",
        "    print(type(molecule))\n",
        "    for i in range(0, ids):\n",
        "        mb = Chem.MolToMolBlock(molecule, confId=i)\n",
        "        component = view.add_component(mb, ext=\"sdf\")\n",
        "        time.sleep(0.1)\n",
        "        component.clear()\n",
        "        component.add_ball_and_stick(multipleBond=True)\n",
        "    return view"
      ]
    },
    {
      "cell_type": "code",
      "execution_count": 17,
      "metadata": {
        "tags": [],
        "id": "08znSOqOP_I6",
        "outputId": "d7a0be09-f7aa-4716-94b7-f683a00d93fc",
        "colab": {
          "base_uri": "https://localhost:8080/",
          "height": 335,
          "referenced_widgets": [
            "188117b6e2124e4b9e6fd4e651062457",
            "e71e41a8dc7f46508271e330ae557fde",
            "b81744a898f7480d990a8ce597bc55e0",
            "061e48c24d2b417fac71cf4b95e20458",
            "6f92095bc8af4a979aa6b222c89404be",
            "9908fbc3c0c840de8f748548ba080fbe",
            "5f743e6c51654f0a9424aab718c06c1b",
            "150863294eae4f7e91ab6377744aaa9d",
            "db1f52afd07a4e0da5c565795b614f0d",
            "7384a78cec6140db995cede9a90a5fd3",
            "cf0436650fd64f9a9449c50d5cd0879e",
            "353dd40802a64691b36e05bf447413fe",
            "b897211714984e29803907802e5874f9"
          ]
        }
      },
      "outputs": [
        {
          "output_type": "stream",
          "name": "stdout",
          "text": [
            "<class 'rdkit.Chem.rdchem.Mol'>\n"
          ]
        },
        {
          "output_type": "display_data",
          "data": {
            "text/plain": [
              "NGLWidget()"
            ],
            "application/vnd.jupyter.widget-view+json": {
              "version_major": 2,
              "version_minor": 0,
              "model_id": "b81744a898f7480d990a8ce597bc55e0"
            }
          },
          "metadata": {
            "application/vnd.jupyter.widget-view+json": {
              "colab": {
                "custom_widget_manager": {
                  "url": "https://ssl.gstatic.com/colaboratory-static/widgets/colab-cdn-widget-manager/2b70e893a8ba7c0f/manager.min.js"
                }
              }
            }
          }
        }
      ],
      "source": [
        "view = show_conformers(aspirin_3d, 5)\n",
        "view"
      ]
    },
    {
      "cell_type": "markdown",
      "metadata": {
        "id": "4kNJflAp-gDa"
      },
      "source": [
        "### Molecular graphs"
      ]
    },
    {
      "cell_type": "markdown",
      "metadata": {
        "id": "w3925FIM0bVb"
      },
      "source": [
        "A common tool to work with graphs is called **networkX**. We use it to create two isomorphic graphs."
      ]
    },
    {
      "cell_type": "code",
      "execution_count": 18,
      "metadata": {
        "colab": {
          "base_uri": "https://localhost:8080/"
        },
        "id": "nt1GMi8mAC3a",
        "outputId": "522531d1-3d60-4754-8d99-65de47b08130",
        "tags": []
      },
      "outputs": [
        {
          "output_type": "stream",
          "name": "stdout",
          "text": [
            "Matrix 1:\n",
            " [[0 0 0 1]\n",
            " [0 0 0 1]\n",
            " [0 0 0 1]\n",
            " [1 1 1 0]]\n",
            "\n",
            "Matrix 2:\n",
            " [[0 1 1 1]\n",
            " [1 0 0 0]\n",
            " [1 0 0 0]\n",
            " [1 0 0 0]]\n"
          ]
        }
      ],
      "source": [
        "# create two adjacency matrices\n",
        "adj_matrix_1 = np.array([[0, 0, 0, 1], [0, 0, 0, 1], [0, 0, 0, 1], [1, 1, 1, 0]])\n",
        "adj_matrix_2 = np.array([[0, 1, 1, 1], [1, 0, 0, 0], [1, 0, 0, 0], [1, 0, 0, 0]])\n",
        "print(\"Matrix 1:\\n\", adj_matrix_1)\n",
        "print(\"\\nMatrix 2:\\n\", adj_matrix_2)\n",
        "\n",
        "# convert adjacency matrices to graphs\n",
        "graph_1 = nx.from_numpy_array(adj_matrix_1)\n",
        "graph_2 = nx.from_numpy_array(adj_matrix_2)"
      ]
    },
    {
      "cell_type": "code",
      "execution_count": 19,
      "metadata": {
        "id": "eCvKsMPsP_I7",
        "outputId": "523baf79-7371-4cae-9106-193472ab3ddf",
        "colab": {
          "base_uri": "https://localhost:8080/",
          "height": 482
        }
      },
      "outputs": [
        {
          "output_type": "stream",
          "name": "stdout",
          "text": [
            "\n",
            "And the corresponding graphs:\n",
            "\n"
          ]
        },
        {
          "output_type": "display_data",
          "data": {
            "text/plain": [
              "<Figure size 640x480 with 2 Axes>"
            ],
            "image/png": "[encoded data removed]"
          },
          "metadata": {}
        }
      ],
      "source": [
        "# draw\n",
        "print(\"\\nAnd the corresponding graphs:\\n\")\n",
        "plt.subplot(1, 2, 1)\n",
        "plt.title(\"Graph 1\")\n",
        "nx.draw_networkx(graph_1, with_labels=True)\n",
        "plt.subplot(1, 2, 2)\n",
        "plt.title(\"Graph 2\")\n",
        "nx.draw_networkx(graph_2, with_labels=True)"
      ]
    },
    {
      "cell_type": "markdown",
      "metadata": {
        "id": "KGUYLk4nP_I7"
      },
      "source": [
        "\n",
        "**Practical considerations:**\n",
        "\n",
        "Building a molecular graph requires the labeling of nodes and edges.\n",
        "Common frameworks support this.\n",
        "For machine learning, [PyTorch Geometric](https://pytorch-geometric.readthedocs.io/en/latest/) is the most popular framework for building permutation-invariant neural networks.\n",
        "We provide a demonstration in **Talktorials T035/T036**.\n",
        "\n",
        "Converting a SMILES string or RDKit object to a PyTorch Geometric graph is not complicated, but somewhat technical. One possible implementation is explained [here](https://www.blopig.com/blog/2022/02/how-to-turn-a-smiles-string-into-a-molecular-graph-for-pytorch-geometric/).\n",
        "Similarly, one can create a networkX graph as explained [here](https://gist.github.com/fangkuoyu/dc785218e5d4d94c752e80f1aaba4fad).\n",
        "\n",
        "\n",
        "As you see, molecular graph representations are not standardized and leave a lot of **design choices** to the user.\n",
        "These include:\n",
        "\n",
        "- What are the node features? Only the atom type, or also information on chirality? One can also include the information if the atom is part of a ring.\n",
        "- For the edge features: Do you only include the bond type (single, double, triple) or also the bond length? Do you use one-hot encodings or scalars?\n",
        "- Do you want to include hydrogen atoms that are bound to carbon atoms, or leave them out?\n",
        "- Do you want to add a master node (a dummy atom connected to all other atoms)? It might help some ML algorithms.\n",
        "- Do you want to explicitly indicate some substructures in the molecular graph?\n"
      ]
    },
    {
      "cell_type": "markdown",
      "metadata": {
        "id": "IYD_ShME-0vb"
      },
      "source": [
        "### Fingerprints\n",
        "\n",
        "Generate circular fingerprint (`ecfp`) and print information."
      ]
    },
    {
      "cell_type": "code",
      "execution_count": 20,
      "metadata": {
        "id": "0YCSAxVDP_I8",
        "outputId": "c543a7a5-5974-4665-ad37-79dc551ce2c1",
        "colab": {
          "base_uri": "https://localhost:8080/",
          "height": 72
        }
      },
      "outputs": [
        {
          "output_type": "execute_result",
          "data": {
            "text/plain": [
              "'Common arguments : countSimulation=0 fpSize=2048 bitsPerFeature=1 includeChirality=0 --- MorganArguments onlyNonzeroInvariants=0 radius=3 --- MorganEnvironmentGenerator --- MorganInvariantGenerator includeRingMembership=1 --- MorganInvariantGenerator useBondTypes=1 useChirality=0'"
            ],
            "application/vnd.google.colaboratory.intrinsic+json": {
              "type": "string"
            }
          },
          "metadata": {},
          "execution_count": 20
        }
      ],
      "source": [
        "fpg = rdFingerprintGenerator.GetMorganGenerator()\n",
        "fpg.GetInfoString()"
      ]
    },
    {
      "cell_type": "code",
      "execution_count": 21,
      "metadata": {
        "id": "7C_jeTOEP_I8"
      },
      "outputs": [],
      "source": [
        "fp = fpg.GetFingerprintAsNumPy(mol_caffeine)"
      ]
    },
    {
      "cell_type": "code",
      "execution_count": 22,
      "metadata": {
        "id": "_h443LFp-2Cn"
      },
      "outputs": [],
      "source": [
        "def visualize_fingerprint_info(fp):\n",
        "    print(\"Number of elements: \", fp.size)\n",
        "    print(\"Types of entries: \", set(list(fp)))\n",
        "    print(\"Number of Ones: \", np.count_nonzero(fp))\n",
        "    plt.vlines(\n",
        "        [i for i in range(fp.size) if fp[i] > 0.5], ymin=0, ymax=300\n",
        "    )  # 300 gives a nice aspect ratio\n",
        "    plt.vlines(fp.size, ymin=0, ymax=0.0)  # dummy to calibrate scale\n",
        "    plt.gca().set_aspect(\"equal\")"
      ]
    },
    {
      "cell_type": "code",
      "execution_count": 23,
      "metadata": {
        "id": "Sfwo131dP_I8",
        "outputId": "59094956-b4bd-41ca-8de1-9285670a0439",
        "colab": {
          "base_uri": "https://localhost:8080/",
          "height": 188
        }
      },
      "outputs": [
        {
          "output_type": "stream",
          "name": "stdout",
          "text": [
            "Number of elements:  2048\n",
            "Types of entries:  {0, 1}\n",
            "Number of Ones:  34\n"
          ]
        },
        {
          "output_type": "display_data",
          "data": {
            "text/plain": [
              "<Figure size 640x480 with 1 Axes>"
            ],
            "image/png": "[encoded data removed]"
          },
          "metadata": {}
        }
      ],
      "source": [
        "visualize_fingerprint_info(fp)"
      ]
    },
    {
      "cell_type": "markdown",
      "metadata": {
        "id": "YesSa_8TP_I8"
      },
      "source": [
        "Try another fingerprint: Rdkit fingerprint"
      ]
    },
    {
      "cell_type": "code",
      "execution_count": 24,
      "metadata": {
        "id": "CSo5NBZUP_I9"
      },
      "outputs": [],
      "source": [
        "fpg2 = rdFingerprintGenerator.GetRDKitFPGenerator()\n",
        "fp2 = fpg2.GetFingerprintAsNumPy(mol_caffeine)"
      ]
    },
    {
      "cell_type": "code",
      "execution_count": 25,
      "metadata": {
        "colab": {
          "base_uri": "https://localhost:8080/",
          "height": 187
        },
        "id": "vLNJZKv31L4k",
        "outputId": "fe6bd620-8876-462e-df69-eef6ac79ba95"
      },
      "outputs": [
        {
          "output_type": "stream",
          "name": "stdout",
          "text": [
            "Number of elements:  2048\n",
            "Types of entries:  {0, 1}\n",
            "Number of Ones:  759\n"
          ]
        },
        {
          "output_type": "display_data",
          "data": {
            "text/plain": [
              "<Figure size 640x480 with 1 Axes>"
            ],
            "image/png": "[encoded data removed]"
          },
          "metadata": {}
        }
      ],
      "source": [
        "# The \"rdkit\" fingerprint is less sparse than ECFP\n",
        "visualize_fingerprint_info(fp2)"
      ]
    },
    {
      "cell_type": "markdown",
      "metadata": {
        "id": "--KTcOiT337k"
      },
      "source": [
        "## Discussion\n",
        "\n"
      ]
    },
    {
      "cell_type": "markdown",
      "metadata": {
        "id": "Gx8Zi7Xk356I"
      },
      "source": [
        "We have discussed different methods for molecular representations:\n",
        "\n",
        "*   A molecule is a bag/multiset of atoms (molecular formula). This representation cannot differentiate isomers.\n",
        "*   A molecule is a labeled graph (molecular graphs) or a derived representation (SMILES, fingerprints). This representation can differentiate structural isomers and in some cases some (but not all) spatial isomers.\n",
        "*   A molecule is a graph, equipped with 3D coordinates (point clouds). This *configuration* can be predicted or determined experimentally.\n",
        "*   A molecule is a manipulable 3D object, e.g., with rotational bonds. Isomers that can be reached by rotating single bonds are called conformers.\n",
        "\n",
        "We have also learned that intermolecular forces are only explicitly represented when they lead to chemical bonds (and sometimes not even then). Other forces might be represented implicitly in the 3D configuration.\n",
        "\n",
        "We have not discussed methods that only consider the surface area of a molecule."
      ]
    },
    {
      "cell_type": "markdown",
      "metadata": {
        "id": "SUDIAFAD37yM"
      },
      "source": [
        "## Quiz"
      ]
    },
    {
      "cell_type": "markdown",
      "metadata": {
        "id": "8JJ0a_2yP_I9"
      },
      "source": [
        "* Can the same molecule correspond to different molecular graphs?\n",
        "* True or false: When you mirror/rotate a molecule, its properties remain the same.\n",
        "* Can an ML model predict different properties, depending on which SMILES canonicalization you use as input?\n",
        "* Can an ML model predict different properties, depending on which node ordering you use as input?\n",
        "* True or false: Only forces between atoms that lead to chemical bonds are relevant to a molecule's properties.\n",
        "\n",
        "<!--\n",
        "1. Yes, due to the node ordering.\n",
        "2. For rotation: true. For reflection: generally false (if the molecule is chiral)\n",
        "3. Yes. Text-based ML models are not invariant to different SMILES canonicalizations.\n",
        "4. If you use a graph neural network (an ML model that is invariant to node-orderings), no.\n",
        "5. False (hydrogen bonding, van der Waals force)\n",
        "-->\n"
      ]
    }
  ],
  "metadata": {
    "colab": {
      "provenance": [],
      "toc_visible": true,
      "include_colab_link": true
    },
    "kernelspec": {
      "display_name": "Python 3 (ipykernel)",
      "language": "python",
      "name": "python3"
    },
    "language_info": {
      "codemirror_mode": {
        "name": "ipython",
        "version": 3
      },
      "file_extension": ".py",
      "mimetype": "text/x-python",
      "name": "python",
      "nbconvert_exporter": "python",
      "pygments_lexer": "ipython3",
      "version": "3.9.15"
    },
    "toc-autonumbering": true,
    "vscode": {
      "interpreter": {
        "hash": "8a9b266ef77d2c7845c34a2fd631702a12f40ca31c61a4ac43e85fda7905a5a1"
      }
    },
    "widgets": {
      "application/vnd.jupyter.widget-state+json": {
        "0a0fb890ee72412aa75607bc9c0c9411": {
          "model_module": "nglview-js-widgets",
          "model_name": "NGLModel",
          "model_module_version": "3.0.6",
          "state": {
            "_camera_orientation": [
              22.5586285921775,
              0,
              0,
              0,
              0,
              22.5586285921775,
              0,
              0,
              0,
              0,
              22.5586285921775,
              0,
              -0.11349999904632568,
              -0.24800002574920654,
              0.0274999737739563,
              1
            ],
            "_camera_str": "orthographic",
            "_dom_classes": [],
            "_gui_theme": null,
            "_ibtn_fullscreen": "IPY_MODEL_05f795bd67f4467fa7be57dd418376d1",
            "_igui": null,
            "_iplayer": "IPY_MODEL_e985f02aab6c49108de8470dc101f7a3",
            "_model_module": "nglview-js-widgets",
            "_model_module_version": "3.0.6",
            "_model_name": "NGLModel",
            "_ngl_color_dict": {},
            "_ngl_coordinate_resource": {},
            "_ngl_full_stage_parameters": {
              "impostor": true,
              "quality": "medium",
              "workerDefault": true,
              "sampleLevel": 0,
              "backgroundColor": "white",
              "rotateSpeed": 2,
              "zoomSpeed": 1.2,
              "panSpeed": 1,
              "clipNear": 0,
              "clipFar": 100,
              "clipDist": 10,
              "clipMode": "scene",
              "clipScale": "relative",
              "fogNear": 50,
              "fogFar": 100,
              "cameraFov": 40,
              "cameraEyeSep": 0.3,
              "cameraType": "perspective",
              "lightColor": 14540253,
              "lightIntensity": 1,
              "ambientColor": 14540253,
              "ambientIntensity": 0.2,
              "hoverTimeout": 0,
              "tooltip": true,
              "mousePreset": "default"
            },
            "_ngl_msg_archive": [
              {
                "target": "Stage",
                "type": "call_method",
                "methodName": "loadFile",
                "reconstruc_color_scheme": false,
                "args": [
                  {
                    "type": "blob",
                    "data": "MODEL        1\nHETATM    1  C1  UNL     1       1.529  -0.058   0.513  1.00  0.00           C  \nHETATM    2  C2  UNL     1       0.696  -0.197  -0.730  1.00  0.00           C  \nHETATM    3  C3  UNL     1      -0.735   0.267  -0.469  1.00  0.00           C  \nHETATM    4  C4  UNL     1      -1.343  -0.576   0.629  1.00  0.00           C  \nHETATM    5  O1  UNL     1      -0.814   1.606  -0.185  1.00  0.00           O  \nHETATM    6  H1  UNL     1       1.737  -1.059   0.985  1.00  0.00           H  \nHETATM    7  H2  UNL     1       1.050   0.609   1.262  1.00  0.00           H  \nHETATM    8  H3  UNL     1       2.509   0.394   0.262  1.00  0.00           H  \nHETATM    9  H4  UNL     1       0.620  -1.233  -1.111  1.00  0.00           H  \nHETATM   10  H5  UNL     1       1.085   0.459  -1.558  1.00  0.00           H  \nHETATM   11  H6  UNL     1      -1.307   0.004  -1.402  1.00  0.00           H  \nHETATM   12  H7  UNL     1      -1.568  -1.596   0.309  1.00  0.00           H  \nHETATM   13  H8  UNL     1      -2.282  -0.079   0.986  1.00  0.00           H  \nHETATM   14  H9  UNL     1      -0.662  -0.632   1.503  1.00  0.00           H  \nHETATM   15  H10 UNL     1      -0.515   2.092  -0.996  1.00  0.00           H  \nCONECT    1    2    6    7    8\nCONECT    2    3    9   10\nCONECT    3    4    5   11\nCONECT    4   12   13   14\nCONECT    5   15\nENDMDL\nMODEL        2\nHETATM    1  C1  UNL     1       1.963   0.152   0.002  1.00  0.00           C  \nHETATM    2  C2  UNL     1       0.646  -0.552  -0.182  1.00  0.00           C  \nHETATM    3  C3  UNL     1      -0.541   0.359   0.015  1.00  0.00           C  \nHETATM    4  C4  UNL     1      -1.799  -0.434  -0.189  1.00  0.00           C  \nHETATM    5  O1  UNL     1      -0.542   0.930   1.273  1.00  0.00           O  \nHETATM    6  H1  UNL     1       2.294   0.638  -0.954  1.00  0.00           H  \nHETATM    7  H2  UNL     1       1.961   0.936   0.770  1.00  0.00           H  \nHETATM    8  H3  UNL     1       2.740  -0.642   0.199  1.00  0.00           H  \nHETATM    9  H4  UNL     1       0.646  -0.932  -1.225  1.00  0.00           H  \nHETATM   10  H5  UNL     1       0.599  -1.404   0.529  1.00  0.00           H  \nHETATM   11  H6  UNL     1      -0.496   1.163  -0.755  1.00  0.00           H  \nHETATM   12  H7  UNL     1      -2.698   0.113   0.190  1.00  0.00           H  \nHETATM   13  H8  UNL     1      -1.914  -0.683  -1.257  1.00  0.00           H  \nHETATM   14  H9  UNL     1      -1.773  -1.402   0.350  1.00  0.00           H  \nHETATM   15  H10 UNL     1      -1.085   1.759   1.232  1.00  0.00           H  \nCONECT    1    2    6    7    8\nCONECT    2    3    9   10\nCONECT    3    4    5   11\nCONECT    4   12   13   14\nCONECT    5   15\nENDMDL\nMODEL        3\nHETATM    1  C1  UNL     1       1.957  -0.230  -0.129  1.00  0.00           C  \nHETATM    2  C2  UNL     1       0.700   0.367  -0.723  1.00  0.00           C  \nHETATM    3  C3  UNL     1      -0.491  -0.088   0.123  1.00  0.00           C  \nHETATM    4  C4  UNL     1      -1.749   0.493  -0.449  1.00  0.00           C  \nHETATM    5  O1  UNL     1      -0.566  -1.477   0.055  1.00  0.00           O  \nHETATM    6  H1  UNL     1       1.756  -0.690   0.865  1.00  0.00           H  \nHETATM    7  H2  UNL     1       2.688   0.600   0.085  1.00  0.00           H  \nHETATM    8  H3  UNL     1       2.404  -0.994  -0.784  1.00  0.00           H  \nHETATM    9  H4  UNL     1       0.530   0.024  -1.764  1.00  0.00           H  \nHETATM   10  H5  UNL     1       0.759   1.475  -0.692  1.00  0.00           H  \nHETATM   11  H6  UNL     1      -0.354   0.240   1.174  1.00  0.00           H  \nHETATM   12  H7  UNL     1      -2.578  -0.244  -0.562  1.00  0.00           H  \nHETATM   13  H8  UNL     1      -2.108   1.306   0.240  1.00  0.00           H  \nHETATM   14  H9  UNL     1      -1.607   0.972  -1.427  1.00  0.00           H  \nHETATM   15  H10 UNL     1      -1.342  -1.755  -0.492  1.00  0.00           H  \nCONECT    1    2    6    7    8\nCONECT    2    3    9   10\nCONECT    3    4    5   11\nCONECT    4   12   13   14\nCONECT    5   15\nENDMDL\nMODEL        4\nHETATM    1  C1  UNL     1       1.615  -0.441   0.360  1.00  0.00           C  \nHETATM    2  C2  UNL     1       0.765   0.247  -0.655  1.00  0.00           C  \nHETATM    3  C3  UNL     1      -0.648   0.485  -0.213  1.00  0.00           C  \nHETATM    4  C4  UNL     1      -1.411  -0.742   0.122  1.00  0.00           C  \nHETATM    5  O1  UNL     1      -0.709   1.394   0.826  1.00  0.00           O  \nHETATM    6  H1  UNL     1       2.416   0.197   0.788  1.00  0.00           H  \nHETATM    7  H2  UNL     1       1.039  -0.839   1.230  1.00  0.00           H  \nHETATM    8  H3  UNL     1       2.163  -1.297  -0.130  1.00  0.00           H  \nHETATM    9  H4  UNL     1       0.790  -0.291  -1.624  1.00  0.00           H  \nHETATM   10  H5  UNL     1       1.196   1.282  -0.801  1.00  0.00           H  \nHETATM   11  H6  UNL     1      -1.164   0.933  -1.111  1.00  0.00           H  \nHETATM   12  H7  UNL     1      -0.927  -1.394   0.880  1.00  0.00           H  \nHETATM   13  H8  UNL     1      -1.648  -1.391  -0.737  1.00  0.00           H  \nHETATM   14  H9  UNL     1      -2.385  -0.411   0.557  1.00  0.00           H  \nHETATM   15  H10 UNL     1      -1.092   2.266   0.508  1.00  0.00           H  \nCONECT    1    2    6    7    8\nCONECT    2    3    9   10\nCONECT    3    4    5   11\nCONECT    4   12   13   14\nCONECT    5   15\nENDMDL\nMODEL        5\nHETATM    1  C1  UNL     1       1.913   0.172   0.204  1.00  0.00           C  \nHETATM    2  C2  UNL     1       0.502   0.712  -0.025  1.00  0.00           C  \nHETATM    3  C3  UNL     1      -0.493  -0.363   0.366  1.00  0.00           C  \nHETATM    4  C4  UNL     1      -1.885   0.165   0.142  1.00  0.00           C  \nHETATM    5  O1  UNL     1      -0.327  -1.461  -0.498  1.00  0.00           O  \nHETATM    6  H1  UNL     1       2.061  -0.651  -0.503  1.00  0.00           H  \nHETATM    7  H2  UNL     1       2.604   1.009  -0.007  1.00  0.00           H  \nHETATM    8  H3  UNL     1       2.005  -0.216   1.223  1.00  0.00           H  \nHETATM    9  H4  UNL     1       0.378   0.918  -1.104  1.00  0.00           H  \nHETATM   10  H5  UNL     1       0.331   1.625   0.562  1.00  0.00           H  \nHETATM   11  H6  UNL     1      -0.400  -0.679   1.406  1.00  0.00           H  \nHETATM   12  H7  UNL     1      -2.069   1.059   0.784  1.00  0.00           H  \nHETATM   13  H8  UNL     1      -2.074   0.489  -0.894  1.00  0.00           H  \nHETATM   14  H9  UNL     1      -2.651  -0.586   0.421  1.00  0.00           H  \nHETATM   15  H10 UNL     1       0.104  -2.194  -0.032  1.00  0.00           H  \nCONECT    1    2    6    7    8\nCONECT    2    3    9   10\nCONECT    3    4    5   11\nCONECT    4   12   13   14\nCONECT    5   15\nENDMDL\nMODEL        6\nHETATM    1  C1  UNL     1       1.477  -0.690   0.388  1.00  0.00           C  \nHETATM    2  C2  UNL     1       0.742   0.076  -0.674  1.00  0.00           C  \nHETATM    3  C3  UNL     1      -0.599   0.589  -0.224  1.00  0.00           C  \nHETATM    4  C4  UNL     1      -1.552  -0.482   0.202  1.00  0.00           C  \nHETATM    5  O1  UNL     1      -0.394   1.509   0.817  1.00  0.00           O  \nHETATM    6  H1  UNL     1       0.962  -1.627   0.653  1.00  0.00           H  \nHETATM    7  H2  UNL     1       2.462  -0.959  -0.047  1.00  0.00           H  \nHETATM    8  H3  UNL     1       1.712  -0.063   1.275  1.00  0.00           H  \nHETATM    9  H4  UNL     1       0.633  -0.590  -1.556  1.00  0.00           H  \nHETATM   10  H5  UNL     1       1.356   0.963  -0.930  1.00  0.00           H  \nHETATM   11  H6  UNL     1      -1.042   1.129  -1.086  1.00  0.00           H  \nHETATM   12  H7  UNL     1      -2.180  -0.815  -0.659  1.00  0.00           H  \nHETATM   13  H8  UNL     1      -2.231  -0.097   0.968  1.00  0.00           H  \nHETATM   14  H9  UNL     1      -1.063  -1.380   0.622  1.00  0.00           H  \nHETATM   15  H10 UNL     1      -0.284   2.436   0.445  1.00  0.00           H  \nCONECT    1    2    6    7    8\nCONECT    2    3    9   10\nCONECT    3    4    5   11\nCONECT    4   12   13   14\nCONECT    5   15\nENDMDL\nMODEL        7\nHETATM    1  C1  UNL     1      -1.953   0.078  -0.240  1.00  0.00           C  \nHETATM    2  C2  UNL     1      -0.574   0.750  -0.210  1.00  0.00           C  \nHETATM    3  C3  UNL     1       0.417  -0.393  -0.075  1.00  0.00           C  \nHETATM    4  C4  UNL     1       1.845   0.100  -0.030  1.00  0.00           C  \nHETATM    5  O1  UNL     1       0.090  -1.031   1.140  1.00  0.00           O  \nHETATM    6  H1  UNL     1      -2.762   0.822  -0.133  1.00  0.00           H  \nHETATM    7  H2  UNL     1      -2.008  -0.413  -1.232  1.00  0.00           H  \nHETATM    8  H3  UNL     1      -1.942  -0.724   0.504  1.00  0.00           H  \nHETATM    9  H4  UNL     1      -0.544   1.330   0.729  1.00  0.00           H  \nHETATM   10  H5  UNL     1      -0.398   1.327  -1.121  1.00  0.00           H  \nHETATM   11  H6  UNL     1       0.323  -1.139  -0.887  1.00  0.00           H  \nHETATM   12  H7  UNL     1       1.939   1.060  -0.567  1.00  0.00           H  \nHETATM   13  H8  UNL     1       2.159   0.234   1.017  1.00  0.00           H  \nHETATM   14  H9  UNL     1       2.505  -0.655  -0.496  1.00  0.00           H  \nHETATM   15  H10 UNL     1       0.902  -1.344   1.602  1.00  0.00           H  \nCONECT    1    2    6    7    8\nCONECT    2    3    9   10\nCONECT    3    4    5   11\nCONECT    4   12   13   14\nCONECT    5   15\nENDMDL\nMODEL        8\nHETATM    1  C1  UNL     1       1.945  -0.095   0.091  1.00  0.00           C  \nHETATM    2  C2  UNL     1       0.554  -0.648   0.278  1.00  0.00           C  \nHETATM    3  C3  UNL     1      -0.420   0.429  -0.114  1.00  0.00           C  \nHETATM    4  C4  UNL     1      -1.820  -0.148   0.081  1.00  0.00           C  \nHETATM    5  O1  UNL     1      -0.286   1.497   0.774  1.00  0.00           O  \nHETATM    6  H1  UNL     1       2.391  -0.547  -0.839  1.00  0.00           H  \nHETATM    7  H2  UNL     1       1.964   1.005  -0.021  1.00  0.00           H  \nHETATM    8  H3  UNL     1       2.542  -0.366   0.976  1.00  0.00           H  \nHETATM    9  H4  UNL     1       0.351  -0.943   1.325  1.00  0.00           H  \nHETATM   10  H5  UNL     1       0.386  -1.516  -0.376  1.00  0.00           H  \nHETATM   11  H6  UNL     1      -0.260   0.746  -1.142  1.00  0.00           H  \nHETATM   12  H7  UNL     1      -2.604   0.620  -0.069  1.00  0.00           H  \nHETATM   13  H8  UNL     1      -1.925  -0.992  -0.627  1.00  0.00           H  \nHETATM   14  H9  UNL     1      -1.860  -0.533   1.110  1.00  0.00           H  \nHETATM   15  H10 UNL     1      -0.959   1.493   1.506  1.00  0.00           H  \nCONECT    1    2    6    7    8\nCONECT    2    3    9   10\nCONECT    3    4    5   11\nCONECT    4   12   13   14\nCONECT    5   15\nENDMDL\nMODEL        9\nHETATM    1  C1  UNL     1       1.459  -0.799  -0.018  1.00  0.00           C  \nHETATM    2  C2  UNL     1       0.755   0.304   0.743  1.00  0.00           C  \nHETATM    3  C3  UNL     1      -0.542   0.646   0.034  1.00  0.00           C  \nHETATM    4  C4  UNL     1      -1.467  -0.537  -0.052  1.00  0.00           C  \nHETATM    5  O1  UNL     1      -1.181   1.624   0.815  1.00  0.00           O  \nHETATM    6  H1  UNL     1       2.459  -0.987   0.423  1.00  0.00           H  \nHETATM    7  H2  UNL     1       0.903  -1.749   0.012  1.00  0.00           H  \nHETATM    8  H3  UNL     1       1.676  -0.470  -1.068  1.00  0.00           H  \nHETATM    9  H4  UNL     1       1.413   1.184   0.759  1.00  0.00           H  \nHETATM   10  H5  UNL     1       0.527  -0.048   1.748  1.00  0.00           H  \nHETATM   11  H6  UNL     1      -0.263   1.026  -0.956  1.00  0.00           H  \nHETATM   12  H7  UNL     1      -1.581  -0.834  -1.133  1.00  0.00           H  \nHETATM   13  H8  UNL     1      -1.094  -1.425   0.466  1.00  0.00           H  \nHETATM   14  H9  UNL     1      -2.506  -0.302   0.289  1.00  0.00           H  \nHETATM   15  H10 UNL     1      -0.558   2.366   0.969  1.00  0.00           H  \nCONECT    1    2    6    7    8\nCONECT    2    3    9   10\nCONECT    3    4    5   11\nCONECT    4   12   13   14\nCONECT    5   15\nENDMDL\nMODEL       10\nHETATM    1  C1  UNL     1       1.370  -0.905  -0.597  1.00  0.00           C  \nHETATM    2  C2  UNL     1       0.933   0.268   0.223  1.00  0.00           C  \nHETATM    3  C3  UNL     1      -0.507   0.650  -0.042  1.00  0.00           C  \nHETATM    4  C4  UNL     1      -1.460  -0.461   0.268  1.00  0.00           C  \nHETATM    5  O1  UNL     1      -0.840   1.746   0.739  1.00  0.00           O  \nHETATM    6  H1  UNL     1       2.373  -0.763  -1.044  1.00  0.00           H  \nHETATM    7  H2  UNL     1       0.658  -1.057  -1.418  1.00  0.00           H  \nHETATM    8  H3  UNL     1       1.402  -1.852  -0.007  1.00  0.00           H  \nHETATM    9  H4  UNL     1       1.572   1.140  -0.014  1.00  0.00           H  \nHETATM   10  H5  UNL     1       1.081   0.068   1.303  1.00  0.00           H  \nHETATM   11  H6  UNL     1      -0.573   0.881  -1.121  1.00  0.00           H  \nHETATM   12  H7  UNL     1      -2.181  -0.622  -0.578  1.00  0.00           H  \nHETATM   13  H8  UNL     1      -2.078  -0.232   1.161  1.00  0.00           H  \nHETATM   14  H9  UNL     1      -0.876  -1.402   0.358  1.00  0.00           H  \nHETATM   15  H10 UNL     1      -0.874   2.541   0.159  1.00  0.00           H  \nCONECT    1    2    6    7    8\nCONECT    2    3    9   10\nCONECT    3    4    5   11\nCONECT    4   12   13   14\nCONECT    5   15\nENDMDL\nEND\n",
                    "binary": false
                  }
                ],
                "kwargs": {
                  "defaultRepresentation": true,
                  "ext": "pdb"
                }
              }
            ],
            "_ngl_original_stage_parameters": {
              "impostor": true,
              "quality": "medium",
              "workerDefault": true,
              "sampleLevel": 0,
              "backgroundColor": "white",
              "rotateSpeed": 2,
              "zoomSpeed": 1.2,
              "panSpeed": 1,
              "clipNear": 0,
              "clipFar": 100,
              "clipDist": 10,
              "clipMode": "scene",
              "clipScale": "relative",
              "fogNear": 50,
              "fogFar": 100,
              "cameraFov": 40,
              "cameraEyeSep": 0.3,
              "cameraType": "perspective",
              "lightColor": 14540253,
              "lightIntensity": 1,
              "ambientColor": 14540253,
              "ambientIntensity": 0.2,
              "hoverTimeout": 0,
              "tooltip": true,
              "mousePreset": "default"
            },
            "_ngl_repr_dict": {
              "0": {
                "0": {
                  "type": "ball+stick",
                  "params": {
                    "lazy": false,
                    "visible": true,
                    "quality": "high",
                    "sphereDetail": 2,
                    "radialSegments": 20,
                    "openEnded": true,
                    "disableImpostor": false,
                    "aspectRatio": 1.5,
                    "lineOnly": false,
                    "cylinderOnly": false,
                    "multipleBond": "off",
                    "bondScale": 0.3,
                    "bondSpacing": 0.75,
                    "linewidth": 2,
                    "radiusType": "size",
                    "radiusData": {},
                    "radiusSize": 0.15,
                    "radiusScale": 2,
                    "assembly": "default",
                    "defaultAssembly": "",
                    "clipNear": 0,
                    "clipRadius": 0,
                    "clipCenter": {
                      "x": 0,
                      "y": 0,
                      "z": 0
                    },
                    "flatShaded": false,
                    "opacity": 1,
                    "depthWrite": true,
                    "side": "double",
                    "wireframe": false,
                    "colorScheme": "element",
                    "colorScale": "",
                    "colorReverse": false,
                    "colorValue": 9474192,
                    "colorMode": "hcl",
                    "roughness": 0.4,
                    "metalness": 0,
                    "diffuse": 16777215,
                    "diffuseInterior": false,
                    "useInteriorColor": true,
                    "interiorColor": 2236962,
                    "interiorDarkening": 0,
                    "matrix": {
                      "elements": [
                        1,
                        0,
                        0,
                        0,
                        0,
                        1,
                        0,
                        0,
                        0,
                        0,
                        1,
                        0,
                        0,
                        0,
                        0,
                        1
                      ]
                    },
                    "disablePicking": false,
                    "sele": ""
                  }
                }
              },
              "1": {
                "0": {
                  "type": "ball+stick",
                  "params": {
                    "lazy": false,
                    "visible": true,
                    "quality": "high",
                    "sphereDetail": 2,
                    "radialSegments": 20,
                    "openEnded": true,
                    "disableImpostor": false,
                    "aspectRatio": 1.5,
                    "lineOnly": false,
                    "cylinderOnly": false,
                    "multipleBond": "off",
                    "bondScale": 0.3,
                    "bondSpacing": 0.75,
                    "linewidth": 2,
                    "radiusType": "size",
                    "radiusData": {},
                    "radiusSize": 0.15,
                    "radiusScale": 2,
                    "assembly": "default",
                    "defaultAssembly": "",
                    "clipNear": 0,
                    "clipRadius": 0,
                    "clipCenter": {
                      "x": 0,
                      "y": 0,
                      "z": 0
                    },
                    "flatShaded": false,
                    "opacity": 1,
                    "depthWrite": true,
                    "side": "double",
                    "wireframe": false,
                    "colorScheme": "element",
                    "colorScale": "",
                    "colorReverse": false,
                    "colorValue": 9474192,
                    "colorMode": "hcl",
                    "roughness": 0.4,
                    "metalness": 0,
                    "diffuse": 16777215,
                    "diffuseInterior": false,
                    "useInteriorColor": true,
                    "interiorColor": 2236962,
                    "interiorDarkening": 0,
                    "matrix": {
                      "elements": [
                        1,
                        0,
                        0,
                        0,
                        0,
                        1,
                        0,
                        0,
                        0,
                        0,
                        1,
                        0,
                        0,
                        0,
                        0,
                        1
                      ]
                    },
                    "disablePicking": false,
                    "sele": ""
                  }
                }
              }
            },
            "_ngl_serialize": false,
            "_ngl_version": "2.0.0-dev.39",
            "_ngl_view_id": [
              "740F5B2C-D150-4C92-959C-EBBAB8D05819"
            ],
            "_player_dict": {},
            "_scene_position": {},
            "_scene_rotation": {},
            "_synced_model_ids": [],
            "_synced_repr_model_ids": [],
            "_view_count": null,
            "_view_height": "",
            "_view_module": "nglview-js-widgets",
            "_view_module_version": "3.0.6",
            "_view_name": "NGLView",
            "_view_width": "",
            "background": "white",
            "frame": 0,
            "gui_style": null,
            "layout": "IPY_MODEL_dcb4fb7b0ffa408e8c5b87550746a578",
            "max_frame": 0,
            "n_components": 2,
            "picked": {},
            "tabbable": null,
            "tooltip": null
          }
        },
        "dcb4fb7b0ffa408e8c5b87550746a578": {
          "model_module": "@jupyter-widgets/base",
          "model_name": "LayoutModel",
          "model_module_version": "2.0.0",
          "state": {
            "_model_module": "@jupyter-widgets/base",
            "_model_module_version": "2.0.0",
            "_model_name": "LayoutModel",
            "_view_count": null,
            "_view_module": "@jupyter-widgets/base",
            "_view_module_version": "2.0.0",
            "_view_name": "LayoutView",
            "align_content": null,
            "align_items": null,
            "align_self": null,
            "border_bottom": null,
            "border_left": null,
            "border_right": null,
            "border_top": null,
            "bottom": null,
            "display": null,
            "flex": null,
            "flex_flow": null,
            "grid_area": null,
            "grid_auto_columns": null,
            "grid_auto_flow": null,
            "grid_auto_rows": null,
            "grid_column": null,
            "grid_gap": null,
            "grid_row": null,
            "grid_template_areas": null,
            "grid_template_columns": null,
            "grid_template_rows": null,
            "height": null,
            "justify_content": null,
            "justify_items": null,
            "left": null,
            "margin": null,
            "max_height": null,
            "max_width": null,
            "min_height": null,
            "min_width": null,
            "object_fit": null,
            "object_position": null,
            "order": null,
            "overflow": null,
            "padding": null,
            "right": null,
            "top": null,
            "visibility": null,
            "width": null
          }
        },
        "05f795bd67f4467fa7be57dd418376d1": {
          "model_module": "@jupyter-widgets/controls",
          "model_name": "ButtonModel",
          "model_module_version": "2.0.0",
          "state": {
            "_dom_classes": [],
            "_model_module": "@jupyter-widgets/controls",
            "_model_module_version": "2.0.0",
            "_model_name": "ButtonModel",
            "_view_count": null,
            "_view_module": "@jupyter-widgets/controls",
            "_view_module_version": "2.0.0",
            "_view_name": "ButtonView",
            "button_style": "",
            "description": "",
            "disabled": false,
            "icon": "compress",
            "layout": "IPY_MODEL_17b8c8d9ae1a43c8bfb4d6c988aaead8",
            "style": "IPY_MODEL_18cf9a611b6e480a9902eaf7db03af2a",
            "tabbable": null,
            "tooltip": null
          }
        },
        "e985f02aab6c49108de8470dc101f7a3": {
          "model_module": "@jupyter-widgets/controls",
          "model_name": "HBoxModel",
          "model_module_version": "2.0.0",
          "state": {
            "_dom_classes": [],
            "_model_module": "@jupyter-widgets/controls",
            "_model_module_version": "2.0.0",
            "_model_name": "HBoxModel",
            "_view_count": null,
            "_view_module": "@jupyter-widgets/controls",
            "_view_module_version": "2.0.0",
            "_view_name": "HBoxView",
            "box_style": "",
            "children": [
              "IPY_MODEL_57e4686df67c471caf0ccc516a20d5a3",
              "IPY_MODEL_fb15432fee52424cb42231cf39cbff69"
            ],
            "layout": "IPY_MODEL_8cd15d81aadc475da4eca04c1758fefb",
            "tabbable": null,
            "tooltip": null
          }
        },
        "b19b9c645e5643e99e80717cbd094535": {
          "model_module": "@jupyter-widgets/base",
          "model_name": "LayoutModel",
          "model_module_version": "2.0.0",
          "state": {
            "_model_module": "@jupyter-widgets/base",
            "_model_module_version": "2.0.0",
            "_model_name": "LayoutModel",
            "_view_count": null,
            "_view_module": "@jupyter-widgets/base",
            "_view_module_version": "2.0.0",
            "_view_name": "LayoutView",
            "align_content": null,
            "align_items": null,
            "align_self": null,
            "border_bottom": null,
            "border_left": null,
            "border_right": null,
            "border_top": null,
            "bottom": null,
            "display": null,
            "flex": null,
            "flex_flow": null,
            "grid_area": null,
            "grid_auto_columns": null,
            "grid_auto_flow": null,
            "grid_auto_rows": null,
            "grid_column": null,
            "grid_gap": null,
            "grid_row": null,
            "grid_template_areas": null,
            "grid_template_columns": null,
            "grid_template_rows": null,
            "height": null,
            "justify_content": null,
            "justify_items": null,
            "left": null,
            "margin": null,
            "max_height": null,
            "max_width": null,
            "min_height": null,
            "min_width": null,
            "object_fit": null,
            "object_position": null,
            "order": null,
            "overflow": null,
            "padding": null,
            "right": null,
            "top": null,
            "visibility": null,
            "width": null
          }
        },
        "d04fea045a744d2cae1b695734a69bf4": {
          "model_module": "@jupyter-widgets/controls",
          "model_name": "DescriptionStyleModel",
          "model_module_version": "2.0.0",
          "state": {
            "_model_module": "@jupyter-widgets/controls",
            "_model_module_version": "2.0.0",
            "_model_name": "DescriptionStyleModel",
            "_view_count": null,
            "_view_module": "@jupyter-widgets/base",
            "_view_module_version": "2.0.0",
            "_view_name": "StyleView",
            "description_width": ""
          }
        },
        "527b905543a84572bef963f1f5e50609": {
          "model_module": "@jupyter-widgets/base",
          "model_name": "LayoutModel",
          "model_module_version": "2.0.0",
          "state": {
            "_model_module": "@jupyter-widgets/base",
            "_model_module_version": "2.0.0",
            "_model_name": "LayoutModel",
            "_view_count": null,
            "_view_module": "@jupyter-widgets/base",
            "_view_module_version": "2.0.0",
            "_view_name": "LayoutView",
            "align_content": null,
            "align_items": null,
            "align_self": null,
            "border_bottom": null,
            "border_left": null,
            "border_right": null,
            "border_top": null,
            "bottom": null,
            "display": null,
            "flex": null,
            "flex_flow": null,
            "grid_area": null,
            "grid_auto_columns": null,
            "grid_auto_flow": null,
            "grid_auto_rows": null,
            "grid_column": null,
            "grid_gap": null,
            "grid_row": null,
            "grid_template_areas": null,
            "grid_template_columns": null,
            "grid_template_rows": null,
            "height": null,
            "justify_content": null,
            "justify_items": null,
            "left": null,
            "margin": null,
            "max_height": null,
            "max_width": null,
            "min_height": null,
            "min_width": null,
            "object_fit": null,
            "object_position": null,
            "order": null,
            "overflow": null,
            "padding": null,
            "right": null,
            "top": null,
            "visibility": null,
            "width": null
          }
        },
        "ce6a030542f944deb14fb88ad3bae11c": {
          "model_module": "@jupyter-widgets/controls",
          "model_name": "SliderStyleModel",
          "model_module_version": "2.0.0",
          "state": {
            "_model_module": "@jupyter-widgets/controls",
            "_model_module_version": "2.0.0",
            "_model_name": "SliderStyleModel",
            "_view_count": null,
            "_view_module": "@jupyter-widgets/base",
            "_view_module_version": "2.0.0",
            "_view_name": "StyleView",
            "description_width": "",
            "handle_color": null
          }
        },
        "57e4686df67c471caf0ccc516a20d5a3": {
          "model_module": "@jupyter-widgets/controls",
          "model_name": "PlayModel",
          "model_module_version": "2.0.0",
          "state": {
            "_dom_classes": [],
            "_model_module": "@jupyter-widgets/controls",
            "_model_module_version": "2.0.0",
            "_model_name": "PlayModel",
            "_view_count": null,
            "_view_module": "@jupyter-widgets/controls",
            "_view_module_version": "2.0.0",
            "_view_name": "PlayView",
            "description": "",
            "description_allow_html": false,
            "disabled": false,
            "interval": 100,
            "layout": "IPY_MODEL_b19b9c645e5643e99e80717cbd094535",
            "max": 0,
            "min": 0,
            "playing": false,
            "repeat": false,
            "show_repeat": true,
            "step": 1,
            "style": "IPY_MODEL_d04fea045a744d2cae1b695734a69bf4",
            "tabbable": null,
            "tooltip": null,
            "value": 0
          }
        },
        "fb15432fee52424cb42231cf39cbff69": {
          "model_module": "@jupyter-widgets/controls",
          "model_name": "IntSliderModel",
          "model_module_version": "2.0.0",
          "state": {
            "_dom_classes": [],
            "_model_module": "@jupyter-widgets/controls",
            "_model_module_version": "2.0.0",
            "_model_name": "IntSliderModel",
            "_view_count": null,
            "_view_module": "@jupyter-widgets/controls",
            "_view_module_version": "2.0.0",
            "_view_name": "IntSliderView",
            "behavior": "drag-tap",
            "continuous_update": true,
            "description": "",
            "description_allow_html": false,
            "disabled": false,
            "layout": "IPY_MODEL_527b905543a84572bef963f1f5e50609",
            "max": 0,
            "min": 0,
            "orientation": "horizontal",
            "readout": true,
            "readout_format": "d",
            "step": 1,
            "style": "IPY_MODEL_ce6a030542f944deb14fb88ad3bae11c",
            "tabbable": null,
            "tooltip": null,
            "value": 0
          }
        },
        "17b8c8d9ae1a43c8bfb4d6c988aaead8": {
          "model_module": "@jupyter-widgets/base",
          "model_name": "LayoutModel",
          "model_module_version": "2.0.0",
          "state": {
            "_model_module": "@jupyter-widgets/base",
            "_model_module_version": "2.0.0",
            "_model_name": "LayoutModel",
            "_view_count": null,
            "_view_module": "@jupyter-widgets/base",
            "_view_module_version": "2.0.0",
            "_view_name": "LayoutView",
            "align_content": null,
            "align_items": null,
            "align_self": null,
            "border_bottom": null,
            "border_left": null,
            "border_right": null,
            "border_top": null,
            "bottom": null,
            "display": null,
            "flex": null,
            "flex_flow": null,
            "grid_area": null,
            "grid_auto_columns": null,
            "grid_auto_flow": null,
            "grid_auto_rows": null,
            "grid_column": null,
            "grid_gap": null,
            "grid_row": null,
            "grid_template_areas": null,
            "grid_template_columns": null,
            "grid_template_rows": null,
            "height": null,
            "justify_content": null,
            "justify_items": null,
            "left": null,
            "margin": null,
            "max_height": null,
            "max_width": null,
            "min_height": null,
            "min_width": null,
            "object_fit": null,
            "object_position": null,
            "order": null,
            "overflow": null,
            "padding": null,
            "right": null,
            "top": null,
            "visibility": null,
            "width": "34px"
          }
        },
        "18cf9a611b6e480a9902eaf7db03af2a": {
          "model_module": "@jupyter-widgets/controls",
          "model_name": "ButtonStyleModel",
          "model_module_version": "2.0.0",
          "state": {
            "_model_module": "@jupyter-widgets/controls",
            "_model_module_version": "2.0.0",
            "_model_name": "ButtonStyleModel",
            "_view_count": null,
            "_view_module": "@jupyter-widgets/base",
            "_view_module_version": "2.0.0",
            "_view_name": "StyleView",
            "button_color": null,
            "font_family": null,
            "font_size": null,
            "font_style": null,
            "font_variant": null,
            "font_weight": null,
            "text_color": null,
            "text_decoration": null
          }
        },
        "8cd15d81aadc475da4eca04c1758fefb": {
          "model_module": "@jupyter-widgets/base",
          "model_name": "LayoutModel",
          "model_module_version": "2.0.0",
          "state": {
            "_model_module": "@jupyter-widgets/base",
            "_model_module_version": "2.0.0",
            "_model_name": "LayoutModel",
            "_view_count": null,
            "_view_module": "@jupyter-widgets/base",
            "_view_module_version": "2.0.0",
            "_view_name": "LayoutView",
            "align_content": null,
            "align_items": null,
            "align_self": null,
            "border_bottom": null,
            "border_left": null,
            "border_right": null,
            "border_top": null,
            "bottom": null,
            "display": null,
            "flex": null,
            "flex_flow": null,
            "grid_area": null,
            "grid_auto_columns": null,
            "grid_auto_flow": null,
            "grid_auto_rows": null,
            "grid_column": null,
            "grid_gap": null,
            "grid_row": null,
            "grid_template_areas": null,
            "grid_template_columns": null,
            "grid_template_rows": null,
            "height": null,
            "justify_content": null,
            "justify_items": null,
            "left": null,
            "margin": null,
            "max_height": null,
            "max_width": null,
            "min_height": null,
            "min_width": null,
            "object_fit": null,
            "object_position": null,
            "order": null,
            "overflow": null,
            "padding": null,
            "right": null,
            "top": null,
            "visibility": null,
            "width": null
          }
        },
        "188117b6e2124e4b9e6fd4e651062457": {
          "model_module": "@jupyter-widgets/controls",
          "model_name": "PlayModel",
          "model_module_version": "2.0.0",
          "state": {
            "_dom_classes": [],
            "_model_module": "@jupyter-widgets/controls",
            "_model_module_version": "2.0.0",
            "_model_name": "PlayModel",
            "_view_count": null,
            "_view_module": "@jupyter-widgets/controls",
            "_view_module_version": "2.0.0",
            "_view_name": "PlayView",
            "description": "",
            "description_allow_html": false,
            "disabled": false,
            "interval": 100,
            "layout": "IPY_MODEL_061e48c24d2b417fac71cf4b95e20458",
            "max": 0,
            "min": 0,
            "playing": false,
            "repeat": false,
            "show_repeat": true,
            "step": 1,
            "style": "IPY_MODEL_6f92095bc8af4a979aa6b222c89404be",
            "tabbable": null,
            "tooltip": null,
            "value": 0
          }
        },
        "e71e41a8dc7f46508271e330ae557fde": {
          "model_module": "@jupyter-widgets/controls",
          "model_name": "IntSliderModel",
          "model_module_version": "2.0.0",
          "state": {
            "_dom_classes": [],
            "_model_module": "@jupyter-widgets/controls",
            "_model_module_version": "2.0.0",
            "_model_name": "IntSliderModel",
            "_view_count": null,
            "_view_module": "@jupyter-widgets/controls",
            "_view_module_version": "2.0.0",
            "_view_name": "IntSliderView",
            "behavior": "drag-tap",
            "continuous_update": true,
            "description": "",
            "description_allow_html": false,
            "disabled": false,
            "layout": "IPY_MODEL_9908fbc3c0c840de8f748548ba080fbe",
            "max": 0,
            "min": 0,
            "orientation": "horizontal",
            "readout": true,
            "readout_format": "d",
            "step": 1,
            "style": "IPY_MODEL_5f743e6c51654f0a9424aab718c06c1b",
            "tabbable": null,
            "tooltip": null,
            "value": 0
          }
        },
        "b81744a898f7480d990a8ce597bc55e0": {
          "model_module": "nglview-js-widgets",
          "model_name": "NGLModel",
          "model_module_version": "3.0.6",
          "state": {
            "_camera_orientation": [
              21.697313378333973,
              0,
              0,
              0,
              0,
              21.697313378333973,
              0,
              0,
              0,
              0,
              21.697313378333973,
              0,
              -0.39225006103515625,
              -0.39329993724823,
              -0.00820004940032959,
              1
            ],
            "_camera_str": "orthographic",
            "_dom_classes": [],
            "_gui_theme": null,
            "_ibtn_fullscreen": "IPY_MODEL_db1f52afd07a4e0da5c565795b614f0d",
            "_igui": null,
            "_iplayer": "IPY_MODEL_7384a78cec6140db995cede9a90a5fd3",
            "_model_module": "nglview-js-widgets",
            "_model_module_version": "3.0.6",
            "_model_name": "NGLModel",
            "_ngl_color_dict": {},
            "_ngl_coordinate_resource": {},
            "_ngl_full_stage_parameters": {
              "impostor": true,
              "quality": "medium",
              "workerDefault": true,
              "sampleLevel": 0,
              "backgroundColor": "white",
              "rotateSpeed": 2,
              "zoomSpeed": 1.2,
              "panSpeed": 1,
              "clipNear": 0,
              "clipFar": 100,
              "clipDist": 10,
              "clipMode": "scene",
              "clipScale": "relative",
              "fogNear": 50,
              "fogFar": 100,
              "cameraFov": 40,
              "cameraEyeSep": 0.3,
              "cameraType": "perspective",
              "lightColor": 14540253,
              "lightIntensity": 1,
              "ambientColor": 14540253,
              "ambientIntensity": 0.2,
              "hoverTimeout": 0,
              "tooltip": true,
              "mousePreset": "default"
            },
            "_ngl_msg_archive": [
              {
                "target": "Stage",
                "type": "call_method",
                "methodName": "loadFile",
                "reconstruc_color_scheme": false,
                "args": [
                  {
                    "type": "blob",
                    "data": "\n     RDKit          3D\n\n 13 13  0  0  0  0  0  0  0  0999 V2000\n    3.2848    1.0714    0.1185 C   0  0  0  0  0  0  0  0  0  0  0  0\n    1.9744    0.6136    0.6503 C   0  0  0  0  0  0  0  0  0  0  0  0\n    1.1611   -0.0421   -0.0571 O   0  0  0  0  0  0  0  0  0  0  0  0\n    0.7988    0.2641    1.2983 O   0  0  0  0  0  0  0  0  0  0  0  0\n   -0.1658   -0.4602    0.6086 C   0  0  0  0  0  0  0  0  0  0  0  0\n   -0.2088   -1.8520    0.5816 C   0  0  0  0  0  0  0  0  0  0  0  0\n   -1.1863   -2.5276   -0.1175 C   0  0  0  0  0  0  0  0  0  0  0  0\n   -2.1617   -1.8436   -0.8189 C   0  0  0  0  0  0  0  0  0  0  0  0\n   -2.1454   -0.4519   -0.8111 C   0  0  0  0  0  0  0  0  0  0  0  0\n   -1.1535    0.1927   -0.1015 C   0  0  0  0  0  0  0  0  0  0  0  0\n   -1.2355    1.6490   -0.1644 C   0  0  0  0  0  0  0  0  0  0  0  0\n   -2.1075    2.3262   -0.7916 O   0  0  0  0  0  0  0  0  0  0  0  0\n   -0.4036    2.5893    0.4296 O   0  0  0  0  0  0  0  0  0  0  0  0\n  1  2  1  0\n  2  3  2  0\n  2  4  1  0\n  4  5  1  0\n  5  6  2  0\n  6  7  1  0\n  7  8  2  0\n  8  9  1  0\n  9 10  2  0\n 10 11  1  0\n 11 12  2  0\n 11 13  1  0\n 10  5  1  0\nM  END\n",
                    "binary": false
                  }
                ],
                "kwargs": {
                  "ext": "sdf",
                  "defaultRepresentation": true
                }
              },
              {
                "component_index": 0,
                "target": "compList",
                "type": "call_method",
                "methodName": "removeAllRepresentations",
                "reconstruc_color_scheme": false,
                "args": [],
                "kwargs": {}
              },
              {
                "component_index": 0,
                "target": "compList",
                "type": "call_method",
                "methodName": "addRepresentation",
                "reconstruc_color_scheme": false,
                "args": [
                  "ball+stick"
                ],
                "kwargs": {
                  "sele": "all",
                  "multipleBond": true
                }
              },
              {
                "target": "Stage",
                "type": "call_method",
                "methodName": "loadFile",
                "reconstruc_color_scheme": false,
                "args": [
                  {
                    "type": "blob",
                    "data": "\n     RDKit          3D\n\n 13 13  0  0  0  0  0  0  0  0999 V2000\n    3.2820    0.6332    0.6766 C   0  0  0  0  0  0  0  0  0  0  0  0\n    1.9130    0.0999    0.6603 C   0  0  0  0  0  0  0  0  0  0  0  0\n    1.4900   -0.3130    1.7797 O   0  0  0  0  0  0  0  0  0  0  0  0\n    1.2068    0.0880   -0.5405 O   0  0  0  0  0  0  0  0  0  0  0  0\n   -0.0973   -0.4270   -0.5242 C   0  0  0  0  0  0  0  0  0  0  0  0\n   -0.3421   -1.7651   -0.7531 C   0  0  0  0  0  0  0  0  0  0  0  0\n   -1.6175   -2.2997   -0.7428 C   0  0  0  0  0  0  0  0  0  0  0  0\n   -2.6666   -1.4426   -0.4921 C   0  0  0  0  0  0  0  0  0  0  0  0\n   -2.4830   -0.0875   -0.2548 C   0  0  0  0  0  0  0  0  0  0  0  0\n   -1.1862    0.3820   -0.2790 C   0  0  0  0  0  0  0  0  0  0  0  0\n   -1.0022    1.8009   -0.0298 C   0  0  0  0  0  0  0  0  0  0  0  0\n   -1.9682    2.6042    0.2037 O   0  0  0  0  0  0  0  0  0  0  0  0\n    0.2177    2.4548   -0.0130 O   0  0  0  0  0  0  0  0  0  0  0  0\n  1  2  1  0\n  2  3  2  0\n  2  4  1  0\n  4  5  1  0\n  5  6  2  0\n  6  7  1  0\n  7  8  2  0\n  8  9  1  0\n  9 10  2  0\n 10 11  1  0\n 11 12  2  0\n 11 13  1  0\n 10  5  1  0\nM  END\n",
                    "binary": false
                  }
                ],
                "kwargs": {
                  "ext": "sdf",
                  "defaultRepresentation": true
                }
              },
              {
                "component_index": 1,
                "target": "compList",
                "type": "call_method",
                "methodName": "removeAllRepresentations",
                "reconstruc_color_scheme": false,
                "args": [],
                "kwargs": {}
              },
              {
                "component_index": 1,
                "target": "compList",
                "type": "call_method",
                "methodName": "addRepresentation",
                "reconstruc_color_scheme": false,
                "args": [
                  "ball+stick"
                ],
                "kwargs": {
                  "sele": "all",
                  "multipleBond": true
                }
              },
              {
                "target": "Stage",
                "type": "call_method",
                "methodName": "loadFile",
                "reconstruc_color_scheme": false,
                "args": [
                  {
                    "type": "blob",
                    "data": "\n     RDKit          3D\n\n 13 13  0  0  0  0  0  0  0  0999 V2000\n    3.4288    0.7913   -0.3259 C   0  0  0  0  0  0  0  0  0  0  0  0\n    2.0493    0.3926   -0.6401 C   0  0  0  0  0  0  0  0  0  0  0  0\n    1.5097   -0.1509    0.3828 O   0  0  0  0  0  0  0  0  0  0  0  0\n    0.8754    0.1995   -1.3397 O   0  0  0  0  0  0  0  0  0  0  0  0\n   -0.1852   -0.4108   -0.6832 C   0  0  0  0  0  0  0  0  0  0  0  0\n   -0.3408   -1.8019   -0.7066 C   0  0  0  0  0  0  0  0  0  0  0  0\n   -1.4083   -2.4172   -0.0460 C   0  0  0  0  0  0  0  0  0  0  0  0\n   -2.3448   -1.6538    0.6536 C   0  0  0  0  0  0  0  0  0  0  0  0\n   -2.2046   -0.2816    0.6857 C   0  0  0  0  0  0  0  0  0  0  0  0\n   -1.1435    0.2884    0.0251 C   0  0  0  0  0  0  0  0  0  0  0  0\n   -1.0098    1.7388    0.0687 C   0  0  0  0  0  0  0  0  0  0  0  0\n   -0.0766    2.3614   -0.5012 O   0  0  0  0  0  0  0  0  0  0  0  0\n   -1.8420    2.6122    0.7083 O   0  0  0  0  0  0  0  0  0  0  0  0\n  1  2  1  0\n  2  3  2  0\n  2  4  1  0\n  4  5  1  0\n  5  6  2  0\n  6  7  1  0\n  7  8  2  0\n  8  9  1  0\n  9 10  2  0\n 10 11  1  0\n 11 12  2  0\n 11 13  1  0\n 10  5  1  0\nM  END\n",
                    "binary": false
                  }
                ],
                "kwargs": {
                  "ext": "sdf",
                  "defaultRepresentation": true
                }
              },
              {
                "component_index": 2,
                "target": "compList",
                "type": "call_method",
                "methodName": "removeAllRepresentations",
                "reconstruc_color_scheme": false,
                "args": [],
                "kwargs": {}
              },
              {
                "component_index": 2,
                "target": "compList",
                "type": "call_method",
                "methodName": "addRepresentation",
                "reconstruc_color_scheme": false,
                "args": [
                  "ball+stick"
                ],
                "kwargs": {
                  "sele": "all",
                  "multipleBond": true
                }
              },
              {
                "target": "Stage",
                "type": "call_method",
                "methodName": "loadFile",
                "reconstruc_color_scheme": false,
                "args": [
                  {
                    "type": "blob",
                    "data": "\n     RDKit          3D\n\n 13 13  0  0  0  0  0  0  0  0999 V2000\n    3.4511    0.8282   -0.0931 C   0  0  0  0  0  0  0  0  0  0  0  0\n    2.0915    0.4674   -0.5888 C   0  0  0  0  0  0  0  0  0  0  0  0\n    1.7528    0.7033   -1.7633 O   0  0  0  0  0  0  0  0  0  0  0  0\n    1.2960   -0.1259    0.3550 O   0  0  0  0  0  0  0  0  0  0  0  0\n   -0.0090   -0.5504    0.1316 C   0  0  0  0  0  0  0  0  0  0  0  0\n   -0.1671   -1.8567   -0.3139 C   0  0  0  0  0  0  0  0  0  0  0  0\n   -1.4478   -2.3574   -0.5612 C   0  0  0  0  0  0  0  0  0  0  0  0\n   -2.5465   -1.5497   -0.3606 C   0  0  0  0  0  0  0  0  0  0  0  0\n   -2.3524   -0.2614    0.0812 C   0  0  0  0  0  0  0  0  0  0  0  0\n   -1.1045    0.2642    0.3347 C   0  0  0  0  0  0  0  0  0  0  0  0\n   -0.9124    1.6175    0.7980 C   0  0  0  0  0  0  0  0  0  0  0  0\n    0.2539    2.0343    1.0101 O   0  0  0  0  0  0  0  0  0  0  0  0\n   -2.0432    2.4132    0.9926 O   0  0  0  0  0  0  0  0  0  0  0  0\n  1  2  1  0\n  2  3  2  0\n  2  4  1  0\n  4  5  1  0\n  5  6  2  0\n  6  7  1  0\n  7  8  2  0\n  8  9  1  0\n  9 10  2  0\n 10 11  1  0\n 11 12  2  0\n 11 13  1  0\n 10  5  1  0\nM  END\n",
                    "binary": false
                  }
                ],
                "kwargs": {
                  "ext": "sdf",
                  "defaultRepresentation": true
                }
              },
              {
                "component_index": 3,
                "target": "compList",
                "type": "call_method",
                "methodName": "removeAllRepresentations",
                "reconstruc_color_scheme": false,
                "args": [],
                "kwargs": {}
              },
              {
                "component_index": 3,
                "target": "compList",
                "type": "call_method",
                "methodName": "addRepresentation",
                "reconstruc_color_scheme": false,
                "args": [
                  "ball+stick"
                ],
                "kwargs": {
                  "sele": "all",
                  "multipleBond": true
                }
              },
              {
                "target": "Stage",
                "type": "call_method",
                "methodName": "loadFile",
                "reconstruc_color_scheme": false,
                "args": [
                  {
                    "type": "blob",
                    "data": "\n     RDKit          3D\n\n 13 13  0  0  0  0  0  0  0  0999 V2000\n    3.2563   -0.8866   -0.9828 C   0  0  0  0  0  0  0  0  0  0  0  0\n    1.8882   -0.4068   -1.2545 C   0  0  0  0  0  0  0  0  0  0  0  0\n    1.1105   -0.6552   -0.2851 O   0  0  0  0  0  0  0  0  0  0  0  0\n    0.5861    0.0463   -1.5055 O   0  0  0  0  0  0  0  0  0  0  0  0\n   -0.4539   -0.1021   -0.6015 C   0  0  0  0  0  0  0  0  0  0  0  0\n   -1.1298   -1.3042   -0.6197 C   0  0  0  0  0  0  0  0  0  0  0  0\n   -2.1813   -1.5526    0.2388 C   0  0  0  0  0  0  0  0  0  0  0  0\n   -2.6220   -0.6279    1.1615 C   0  0  0  0  0  0  0  0  0  0  0  0\n   -1.9476    0.5729    1.1805 C   0  0  0  0  0  0  0  0  0  0  0  0\n   -0.9014    0.8144    0.3233 C   0  0  0  0  0  0  0  0  0  0  0  0\n   -0.1831    2.0750    0.3212 C   0  0  0  0  0  0  0  0  0  0  0  0\n    0.7747    2.4046   -0.4128 O   0  0  0  0  0  0  0  0  0  0  0  0\n   -0.1096    3.3142    0.9206 O   0  0  0  0  0  0  0  0  0  0  0  0\n  1  2  1  0\n  2  3  2  0\n  2  4  1  0\n  4  5  1  0\n  5  6  2  0\n  6  7  1  0\n  7  8  2  0\n  8  9  1  0\n  9 10  2  0\n 10 11  1  0\n 11 12  2  0\n 11 13  1  0\n 10  5  1  0\nM  END\n",
                    "binary": false
                  }
                ],
                "kwargs": {
                  "ext": "sdf",
                  "defaultRepresentation": true
                }
              },
              {
                "component_index": 4,
                "target": "compList",
                "type": "call_method",
                "methodName": "removeAllRepresentations",
                "reconstruc_color_scheme": false,
                "args": [],
                "kwargs": {}
              },
              {
                "component_index": 4,
                "target": "compList",
                "type": "call_method",
                "methodName": "addRepresentation",
                "reconstruc_color_scheme": false,
                "args": [
                  "ball+stick"
                ],
                "kwargs": {
                  "sele": "all",
                  "multipleBond": true
                }
              }
            ],
            "_ngl_original_stage_parameters": {
              "impostor": true,
              "quality": "medium",
              "workerDefault": true,
              "sampleLevel": 0,
              "backgroundColor": "white",
              "rotateSpeed": 2,
              "zoomSpeed": 1.2,
              "panSpeed": 1,
              "clipNear": 0,
              "clipFar": 100,
              "clipDist": 10,
              "clipMode": "scene",
              "clipScale": "relative",
              "fogNear": 50,
              "fogFar": 100,
              "cameraFov": 40,
              "cameraEyeSep": 0.3,
              "cameraType": "perspective",
              "lightColor": 14540253,
              "lightIntensity": 1,
              "ambientColor": 14540253,
              "ambientIntensity": 0.2,
              "hoverTimeout": 0,
              "tooltip": true,
              "mousePreset": "default"
            },
            "_ngl_repr_dict": {
              "0": {
                "0": {
                  "type": "ball+stick",
                  "params": {
                    "lazy": false,
                    "visible": true,
                    "quality": "medium",
                    "sphereDetail": 1,
                    "radialSegments": 10,
                    "openEnded": true,
                    "disableImpostor": false,
                    "aspectRatio": 2,
                    "lineOnly": false,
                    "cylinderOnly": false,
                    "multipleBond": true,
                    "bondScale": 0.4,
                    "bondSpacing": 1,
                    "linewidth": 2,
                    "radiusType": "size",
                    "radiusData": {},
                    "radiusSize": 0.15,
                    "radiusScale": 1,
                    "assembly": "default",
                    "defaultAssembly": "",
                    "clipNear": 0,
                    "clipRadius": 0,
                    "clipCenter": {
                      "x": 0,
                      "y": 0,
                      "z": 0
                    },
                    "flatShaded": false,
                    "opacity": 1,
                    "depthWrite": true,
                    "side": "double",
                    "wireframe": false,
                    "colorScheme": "element",
                    "colorScale": "",
                    "colorReverse": false,
                    "colorValue": 9474192,
                    "colorMode": "hcl",
                    "roughness": 0.4,
                    "metalness": 0,
                    "diffuse": 16777215,
                    "diffuseInterior": false,
                    "useInteriorColor": true,
                    "interiorColor": 2236962,
                    "interiorDarkening": 0,
                    "matrix": {
                      "elements": [
                        1,
                        0,
                        0,
                        0,
                        0,
                        1,
                        0,
                        0,
                        0,
                        0,
                        1,
                        0,
                        0,
                        0,
                        0,
                        1
                      ]
                    },
                    "disablePicking": false,
                    "sele": "all"
                  }
                },
                "1": {
                  "type": "ball+stick",
                  "params": {
                    "lazy": false,
                    "visible": true,
                    "quality": "medium",
                    "sphereDetail": 1,
                    "radialSegments": 10,
                    "openEnded": true,
                    "disableImpostor": false,
                    "aspectRatio": 2,
                    "lineOnly": false,
                    "cylinderOnly": false,
                    "multipleBond": true,
                    "bondScale": 0.4,
                    "bondSpacing": 1,
                    "linewidth": 2,
                    "radiusType": "size",
                    "radiusData": {},
                    "radiusSize": 0.15,
                    "radiusScale": 1,
                    "assembly": "default",
                    "defaultAssembly": "",
                    "clipNear": 0,
                    "clipRadius": 0,
                    "clipCenter": {
                      "x": 0,
                      "y": 0,
                      "z": 0
                    },
                    "flatShaded": false,
                    "opacity": 1,
                    "depthWrite": true,
                    "side": "double",
                    "wireframe": false,
                    "colorScheme": "element",
                    "colorScale": "",
                    "colorReverse": false,
                    "colorValue": 9474192,
                    "colorMode": "hcl",
                    "roughness": 0.4,
                    "metalness": 0,
                    "diffuse": 16777215,
                    "diffuseInterior": false,
                    "useInteriorColor": true,
                    "interiorColor": 2236962,
                    "interiorDarkening": 0,
                    "matrix": {
                      "elements": [
                        1,
                        0,
                        0,
                        0,
                        0,
                        1,
                        0,
                        0,
                        0,
                        0,
                        1,
                        0,
                        0,
                        0,
                        0,
                        1
                      ]
                    },
                    "disablePicking": false,
                    "sele": "all"
                  }
                }
              },
              "1": {
                "0": {
                  "type": "ball+stick",
                  "params": {
                    "lazy": false,
                    "visible": true,
                    "quality": "medium",
                    "sphereDetail": 1,
                    "radialSegments": 10,
                    "openEnded": true,
                    "disableImpostor": false,
                    "aspectRatio": 2,
                    "lineOnly": false,
                    "cylinderOnly": false,
                    "multipleBond": true,
                    "bondScale": 0.4,
                    "bondSpacing": 1,
                    "linewidth": 2,
                    "radiusType": "size",
                    "radiusData": {},
                    "radiusSize": 0.15,
                    "radiusScale": 1,
                    "assembly": "default",
                    "defaultAssembly": "",
                    "clipNear": 0,
                    "clipRadius": 0,
                    "clipCenter": {
                      "x": 0,
                      "y": 0,
                      "z": 0
                    },
                    "flatShaded": false,
                    "opacity": 1,
                    "depthWrite": true,
                    "side": "double",
                    "wireframe": false,
                    "colorScheme": "element",
                    "colorScale": "",
                    "colorReverse": false,
                    "colorValue": 9474192,
                    "colorMode": "hcl",
                    "roughness": 0.4,
                    "metalness": 0,
                    "diffuse": 16777215,
                    "diffuseInterior": false,
                    "useInteriorColor": true,
                    "interiorColor": 2236962,
                    "interiorDarkening": 0,
                    "matrix": {
                      "elements": [
                        1,
                        0,
                        0,
                        0,
                        0,
                        1,
                        0,
                        0,
                        0,
                        0,
                        1,
                        0,
                        0,
                        0,
                        0,
                        1
                      ]
                    },
                    "disablePicking": false,
                    "sele": "all"
                  }
                },
                "1": {
                  "type": "ball+stick",
                  "params": {
                    "lazy": false,
                    "visible": true,
                    "quality": "medium",
                    "sphereDetail": 1,
                    "radialSegments": 10,
                    "openEnded": true,
                    "disableImpostor": false,
                    "aspectRatio": 2,
                    "lineOnly": false,
                    "cylinderOnly": false,
                    "multipleBond": true,
                    "bondScale": 0.4,
                    "bondSpacing": 1,
                    "linewidth": 2,
                    "radiusType": "size",
                    "radiusData": {},
                    "radiusSize": 0.15,
                    "radiusScale": 1,
                    "assembly": "default",
                    "defaultAssembly": "",
                    "clipNear": 0,
                    "clipRadius": 0,
                    "clipCenter": {
                      "x": 0,
                      "y": 0,
                      "z": 0
                    },
                    "flatShaded": false,
                    "opacity": 1,
                    "depthWrite": true,
                    "side": "double",
                    "wireframe": false,
                    "colorScheme": "element",
                    "colorScale": "",
                    "colorReverse": false,
                    "colorValue": 9474192,
                    "colorMode": "hcl",
                    "roughness": 0.4,
                    "metalness": 0,
                    "diffuse": 16777215,
                    "diffuseInterior": false,
                    "useInteriorColor": true,
                    "interiorColor": 2236962,
                    "interiorDarkening": 0,
                    "matrix": {
                      "elements": [
                        1,
                        0,
                        0,
                        0,
                        0,
                        1,
                        0,
                        0,
                        0,
                        0,
                        1,
                        0,
                        0,
                        0,
                        0,
                        1
                      ]
                    },
                    "disablePicking": false,
                    "sele": "all"
                  }
                }
              },
              "2": {
                "0": {
                  "type": "ball+stick",
                  "params": {
                    "lazy": false,
                    "visible": true,
                    "quality": "medium",
                    "sphereDetail": 1,
                    "radialSegments": 10,
                    "openEnded": true,
                    "disableImpostor": false,
                    "aspectRatio": 2,
                    "lineOnly": false,
                    "cylinderOnly": false,
                    "multipleBond": true,
                    "bondScale": 0.4,
                    "bondSpacing": 1,
                    "linewidth": 2,
                    "radiusType": "size",
                    "radiusData": {},
                    "radiusSize": 0.15,
                    "radiusScale": 1,
                    "assembly": "default",
                    "defaultAssembly": "",
                    "clipNear": 0,
                    "clipRadius": 0,
                    "clipCenter": {
                      "x": 0,
                      "y": 0,
                      "z": 0
                    },
                    "flatShaded": false,
                    "opacity": 1,
                    "depthWrite": true,
                    "side": "double",
                    "wireframe": false,
                    "colorScheme": "element",
                    "colorScale": "",
                    "colorReverse": false,
                    "colorValue": 9474192,
                    "colorMode": "hcl",
                    "roughness": 0.4,
                    "metalness": 0,
                    "diffuse": 16777215,
                    "diffuseInterior": false,
                    "useInteriorColor": true,
                    "interiorColor": 2236962,
                    "interiorDarkening": 0,
                    "matrix": {
                      "elements": [
                        1,
                        0,
                        0,
                        0,
                        0,
                        1,
                        0,
                        0,
                        0,
                        0,
                        1,
                        0,
                        0,
                        0,
                        0,
                        1
                      ]
                    },
                    "disablePicking": false,
                    "sele": "all"
                  }
                },
                "1": {
                  "type": "ball+stick",
                  "params": {
                    "lazy": false,
                    "visible": true,
                    "quality": "medium",
                    "sphereDetail": 1,
                    "radialSegments": 10,
                    "openEnded": true,
                    "disableImpostor": false,
                    "aspectRatio": 2,
                    "lineOnly": false,
                    "cylinderOnly": false,
                    "multipleBond": true,
                    "bondScale": 0.4,
                    "bondSpacing": 1,
                    "linewidth": 2,
                    "radiusType": "size",
                    "radiusData": {},
                    "radiusSize": 0.15,
                    "radiusScale": 1,
                    "assembly": "default",
                    "defaultAssembly": "",
                    "clipNear": 0,
                    "clipRadius": 0,
                    "clipCenter": {
                      "x": 0,
                      "y": 0,
                      "z": 0
                    },
                    "flatShaded": false,
                    "opacity": 1,
                    "depthWrite": true,
                    "side": "double",
                    "wireframe": false,
                    "colorScheme": "element",
                    "colorScale": "",
                    "colorReverse": false,
                    "colorValue": 9474192,
                    "colorMode": "hcl",
                    "roughness": 0.4,
                    "metalness": 0,
                    "diffuse": 16777215,
                    "diffuseInterior": false,
                    "useInteriorColor": true,
                    "interiorColor": 2236962,
                    "interiorDarkening": 0,
                    "matrix": {
                      "elements": [
                        1,
                        0,
                        0,
                        0,
                        0,
                        1,
                        0,
                        0,
                        0,
                        0,
                        1,
                        0,
                        0,
                        0,
                        0,
                        1
                      ]
                    },
                    "disablePicking": false,
                    "sele": "all"
                  }
                }
              },
              "3": {
                "0": {
                  "type": "ball+stick",
                  "params": {
                    "lazy": false,
                    "visible": true,
                    "quality": "medium",
                    "sphereDetail": 1,
                    "radialSegments": 10,
                    "openEnded": true,
                    "disableImpostor": false,
                    "aspectRatio": 2,
                    "lineOnly": false,
                    "cylinderOnly": false,
                    "multipleBond": true,
                    "bondScale": 0.4,
                    "bondSpacing": 1,
                    "linewidth": 2,
                    "radiusType": "size",
                    "radiusData": {},
                    "radiusSize": 0.15,
                    "radiusScale": 1,
                    "assembly": "default",
                    "defaultAssembly": "",
                    "clipNear": 0,
                    "clipRadius": 0,
                    "clipCenter": {
                      "x": 0,
                      "y": 0,
                      "z": 0
                    },
                    "flatShaded": false,
                    "opacity": 1,
                    "depthWrite": true,
                    "side": "double",
                    "wireframe": false,
                    "colorScheme": "element",
                    "colorScale": "",
                    "colorReverse": false,
                    "colorValue": 9474192,
                    "colorMode": "hcl",
                    "roughness": 0.4,
                    "metalness": 0,
                    "diffuse": 16777215,
                    "diffuseInterior": false,
                    "useInteriorColor": true,
                    "interiorColor": 2236962,
                    "interiorDarkening": 0,
                    "matrix": {
                      "elements": [
                        1,
                        0,
                        0,
                        0,
                        0,
                        1,
                        0,
                        0,
                        0,
                        0,
                        1,
                        0,
                        0,
                        0,
                        0,
                        1
                      ]
                    },
                    "disablePicking": false,
                    "sele": "all"
                  }
                },
                "1": {
                  "type": "ball+stick",
                  "params": {
                    "lazy": false,
                    "visible": true,
                    "quality": "medium",
                    "sphereDetail": 1,
                    "radialSegments": 10,
                    "openEnded": true,
                    "disableImpostor": false,
                    "aspectRatio": 2,
                    "lineOnly": false,
                    "cylinderOnly": false,
                    "multipleBond": true,
                    "bondScale": 0.4,
                    "bondSpacing": 1,
                    "linewidth": 2,
                    "radiusType": "size",
                    "radiusData": {},
                    "radiusSize": 0.15,
                    "radiusScale": 1,
                    "assembly": "default",
                    "defaultAssembly": "",
                    "clipNear": 0,
                    "clipRadius": 0,
                    "clipCenter": {
                      "x": 0,
                      "y": 0,
                      "z": 0
                    },
                    "flatShaded": false,
                    "opacity": 1,
                    "depthWrite": true,
                    "side": "double",
                    "wireframe": false,
                    "colorScheme": "element",
                    "colorScale": "",
                    "colorReverse": false,
                    "colorValue": 9474192,
                    "colorMode": "hcl",
                    "roughness": 0.4,
                    "metalness": 0,
                    "diffuse": 16777215,
                    "diffuseInterior": false,
                    "useInteriorColor": true,
                    "interiorColor": 2236962,
                    "interiorDarkening": 0,
                    "matrix": {
                      "elements": [
                        1,
                        0,
                        0,
                        0,
                        0,
                        1,
                        0,
                        0,
                        0,
                        0,
                        1,
                        0,
                        0,
                        0,
                        0,
                        1
                      ]
                    },
                    "disablePicking": false,
                    "sele": "all"
                  }
                }
              },
              "4": {
                "0": {
                  "type": "ball+stick",
                  "params": {
                    "lazy": false,
                    "visible": true,
                    "quality": "medium",
                    "sphereDetail": 1,
                    "radialSegments": 10,
                    "openEnded": true,
                    "disableImpostor": false,
                    "aspectRatio": 2,
                    "lineOnly": false,
                    "cylinderOnly": false,
                    "multipleBond": true,
                    "bondScale": 0.4,
                    "bondSpacing": 1,
                    "linewidth": 2,
                    "radiusType": "size",
                    "radiusData": {},
                    "radiusSize": 0.15,
                    "radiusScale": 1,
                    "assembly": "default",
                    "defaultAssembly": "",
                    "clipNear": 0,
                    "clipRadius": 0,
                    "clipCenter": {
                      "x": 0,
                      "y": 0,
                      "z": 0
                    },
                    "flatShaded": false,
                    "opacity": 1,
                    "depthWrite": true,
                    "side": "double",
                    "wireframe": false,
                    "colorScheme": "element",
                    "colorScale": "",
                    "colorReverse": false,
                    "colorValue": 9474192,
                    "colorMode": "hcl",
                    "roughness": 0.4,
                    "metalness": 0,
                    "diffuse": 16777215,
                    "diffuseInterior": false,
                    "useInteriorColor": true,
                    "interiorColor": 2236962,
                    "interiorDarkening": 0,
                    "matrix": {
                      "elements": [
                        1,
                        0,
                        0,
                        0,
                        0,
                        1,
                        0,
                        0,
                        0,
                        0,
                        1,
                        0,
                        0,
                        0,
                        0,
                        1
                      ]
                    },
                    "disablePicking": false,
                    "sele": "all"
                  }
                },
                "1": {
                  "type": "ball+stick",
                  "params": {
                    "lazy": false,
                    "visible": true,
                    "quality": "medium",
                    "sphereDetail": 1,
                    "radialSegments": 10,
                    "openEnded": true,
                    "disableImpostor": false,
                    "aspectRatio": 2,
                    "lineOnly": false,
                    "cylinderOnly": false,
                    "multipleBond": true,
                    "bondScale": 0.4,
                    "bondSpacing": 1,
                    "linewidth": 2,
                    "radiusType": "size",
                    "radiusData": {},
                    "radiusSize": 0.15,
                    "radiusScale": 1,
                    "assembly": "default",
                    "defaultAssembly": "",
                    "clipNear": 0,
                    "clipRadius": 0,
                    "clipCenter": {
                      "x": 0,
                      "y": 0,
                      "z": 0
                    },
                    "flatShaded": false,
                    "opacity": 1,
                    "depthWrite": true,
                    "side": "double",
                    "wireframe": false,
                    "colorScheme": "element",
                    "colorScale": "",
                    "colorReverse": false,
                    "colorValue": 9474192,
                    "colorMode": "hcl",
                    "roughness": 0.4,
                    "metalness": 0,
                    "diffuse": 16777215,
                    "diffuseInterior": false,
                    "useInteriorColor": true,
                    "interiorColor": 2236962,
                    "interiorDarkening": 0,
                    "matrix": {
                      "elements": [
                        1,
                        0,
                        0,
                        0,
                        0,
                        1,
                        0,
                        0,
                        0,
                        0,
                        1,
                        0,
                        0,
                        0,
                        0,
                        1
                      ]
                    },
                    "disablePicking": false,
                    "sele": "all"
                  }
                }
              },
              "5": {
                "0": {
                  "type": "ball+stick",
                  "params": {
                    "lazy": false,
                    "visible": true,
                    "quality": "high",
                    "sphereDetail": 2,
                    "radialSegments": 20,
                    "openEnded": true,
                    "disableImpostor": false,
                    "aspectRatio": 1.5,
                    "lineOnly": false,
                    "cylinderOnly": false,
                    "multipleBond": "off",
                    "bondScale": 0.3,
                    "bondSpacing": 0.75,
                    "linewidth": 2,
                    "radiusType": "size",
                    "radiusData": {},
                    "radiusSize": 0.15,
                    "radiusScale": 2,
                    "assembly": "default",
                    "defaultAssembly": "",
                    "clipNear": 0,
                    "clipRadius": 0,
                    "clipCenter": {
                      "x": 0,
                      "y": 0,
                      "z": 0
                    },
                    "flatShaded": false,
                    "opacity": 1,
                    "depthWrite": true,
                    "side": "double",
                    "wireframe": false,
                    "colorScheme": "element",
                    "colorScale": "",
                    "colorReverse": false,
                    "colorValue": 9474192,
                    "colorMode": "hcl",
                    "roughness": 0.4,
                    "metalness": 0,
                    "diffuse": 16777215,
                    "diffuseInterior": false,
                    "useInteriorColor": true,
                    "interiorColor": 2236962,
                    "interiorDarkening": 0,
                    "matrix": {
                      "elements": [
                        1,
                        0,
                        0,
                        0,
                        0,
                        1,
                        0,
                        0,
                        0,
                        0,
                        1,
                        0,
                        0,
                        0,
                        0,
                        1
                      ]
                    },
                    "disablePicking": false,
                    "sele": ""
                  }
                }
              },
              "6": {
                "0": {
                  "type": "ball+stick",
                  "params": {
                    "lazy": false,
                    "visible": true,
                    "quality": "high",
                    "sphereDetail": 2,
                    "radialSegments": 20,
                    "openEnded": true,
                    "disableImpostor": false,
                    "aspectRatio": 1.5,
                    "lineOnly": false,
                    "cylinderOnly": false,
                    "multipleBond": "off",
                    "bondScale": 0.3,
                    "bondSpacing": 0.75,
                    "linewidth": 2,
                    "radiusType": "size",
                    "radiusData": {},
                    "radiusSize": 0.15,
                    "radiusScale": 2,
                    "assembly": "default",
                    "defaultAssembly": "",
                    "clipNear": 0,
                    "clipRadius": 0,
                    "clipCenter": {
                      "x": 0,
                      "y": 0,
                      "z": 0
                    },
                    "flatShaded": false,
                    "opacity": 1,
                    "depthWrite": true,
                    "side": "double",
                    "wireframe": false,
                    "colorScheme": "element",
                    "colorScale": "",
                    "colorReverse": false,
                    "colorValue": 9474192,
                    "colorMode": "hcl",
                    "roughness": 0.4,
                    "metalness": 0,
                    "diffuse": 16777215,
                    "diffuseInterior": false,
                    "useInteriorColor": true,
                    "interiorColor": 2236962,
                    "interiorDarkening": 0,
                    "matrix": {
                      "elements": [
                        1,
                        0,
                        0,
                        0,
                        0,
                        1,
                        0,
                        0,
                        0,
                        0,
                        1,
                        0,
                        0,
                        0,
                        0,
                        1
                      ]
                    },
                    "disablePicking": false,
                    "sele": ""
                  }
                }
              },
              "7": {
                "0": {
                  "type": "ball+stick",
                  "params": {
                    "lazy": false,
                    "visible": true,
                    "quality": "high",
                    "sphereDetail": 2,
                    "radialSegments": 20,
                    "openEnded": true,
                    "disableImpostor": false,
                    "aspectRatio": 1.5,
                    "lineOnly": false,
                    "cylinderOnly": false,
                    "multipleBond": "off",
                    "bondScale": 0.3,
                    "bondSpacing": 0.75,
                    "linewidth": 2,
                    "radiusType": "size",
                    "radiusData": {},
                    "radiusSize": 0.15,
                    "radiusScale": 2,
                    "assembly": "default",
                    "defaultAssembly": "",
                    "clipNear": 0,
                    "clipRadius": 0,
                    "clipCenter": {
                      "x": 0,
                      "y": 0,
                      "z": 0
                    },
                    "flatShaded": false,
                    "opacity": 1,
                    "depthWrite": true,
                    "side": "double",
                    "wireframe": false,
                    "colorScheme": "element",
                    "colorScale": "",
                    "colorReverse": false,
                    "colorValue": 9474192,
                    "colorMode": "hcl",
                    "roughness": 0.4,
                    "metalness": 0,
                    "diffuse": 16777215,
                    "diffuseInterior": false,
                    "useInteriorColor": true,
                    "interiorColor": 2236962,
                    "interiorDarkening": 0,
                    "matrix": {
                      "elements": [
                        1,
                        0,
                        0,
                        0,
                        0,
                        1,
                        0,
                        0,
                        0,
                        0,
                        1,
                        0,
                        0,
                        0,
                        0,
                        1
                      ]
                    },
                    "disablePicking": false,
                    "sele": ""
                  }
                }
              },
              "8": {
                "0": {
                  "type": "ball+stick",
                  "params": {
                    "lazy": false,
                    "visible": true,
                    "quality": "high",
                    "sphereDetail": 2,
                    "radialSegments": 20,
                    "openEnded": true,
                    "disableImpostor": false,
                    "aspectRatio": 1.5,
                    "lineOnly": false,
                    "cylinderOnly": false,
                    "multipleBond": "off",
                    "bondScale": 0.3,
                    "bondSpacing": 0.75,
                    "linewidth": 2,
                    "radiusType": "size",
                    "radiusData": {},
                    "radiusSize": 0.15,
                    "radiusScale": 2,
                    "assembly": "default",
                    "defaultAssembly": "",
                    "clipNear": 0,
                    "clipRadius": 0,
                    "clipCenter": {
                      "x": 0,
                      "y": 0,
                      "z": 0
                    },
                    "flatShaded": false,
                    "opacity": 1,
                    "depthWrite": true,
                    "side": "double",
                    "wireframe": false,
                    "colorScheme": "element",
                    "colorScale": "",
                    "colorReverse": false,
                    "colorValue": 9474192,
                    "colorMode": "hcl",
                    "roughness": 0.4,
                    "metalness": 0,
                    "diffuse": 16777215,
                    "diffuseInterior": false,
                    "useInteriorColor": true,
                    "interiorColor": 2236962,
                    "interiorDarkening": 0,
                    "matrix": {
                      "elements": [
                        1,
                        0,
                        0,
                        0,
                        0,
                        1,
                        0,
                        0,
                        0,
                        0,
                        1,
                        0,
                        0,
                        0,
                        0,
                        1
                      ]
                    },
                    "disablePicking": false,
                    "sele": ""
                  }
                }
              },
              "9": {
                "0": {
                  "type": "ball+stick",
                  "params": {
                    "lazy": false,
                    "visible": true,
                    "quality": "high",
                    "sphereDetail": 2,
                    "radialSegments": 20,
                    "openEnded": true,
                    "disableImpostor": false,
                    "aspectRatio": 1.5,
                    "lineOnly": false,
                    "cylinderOnly": false,
                    "multipleBond": "off",
                    "bondScale": 0.3,
                    "bondSpacing": 0.75,
                    "linewidth": 2,
                    "radiusType": "size",
                    "radiusData": {},
                    "radiusSize": 0.15,
                    "radiusScale": 2,
                    "assembly": "default",
                    "defaultAssembly": "",
                    "clipNear": 0,
                    "clipRadius": 0,
                    "clipCenter": {
                      "x": 0,
                      "y": 0,
                      "z": 0
                    },
                    "flatShaded": false,
                    "opacity": 1,
                    "depthWrite": true,
                    "side": "double",
                    "wireframe": false,
                    "colorScheme": "element",
                    "colorScale": "",
                    "colorReverse": false,
                    "colorValue": 9474192,
                    "colorMode": "hcl",
                    "roughness": 0.4,
                    "metalness": 0,
                    "diffuse": 16777215,
                    "diffuseInterior": false,
                    "useInteriorColor": true,
                    "interiorColor": 2236962,
                    "interiorDarkening": 0,
                    "matrix": {
                      "elements": [
                        1,
                        0,
                        0,
                        0,
                        0,
                        1,
                        0,
                        0,
                        0,
                        0,
                        1,
                        0,
                        0,
                        0,
                        0,
                        1
                      ]
                    },
                    "disablePicking": false,
                    "sele": ""
                  }
                }
              }
            },
            "_ngl_serialize": false,
            "_ngl_version": "2.0.0-dev.39",
            "_ngl_view_id": [
              "BA022AEA-A10E-47A7-ACB6-E51A53656539"
            ],
            "_player_dict": {},
            "_scene_position": {},
            "_scene_rotation": {},
            "_synced_model_ids": [],
            "_synced_repr_model_ids": [],
            "_view_count": null,
            "_view_height": "",
            "_view_module": "nglview-js-widgets",
            "_view_module_version": "3.0.6",
            "_view_name": "NGLView",
            "_view_width": "",
            "background": "white",
            "frame": 0,
            "gui_style": null,
            "layout": "IPY_MODEL_150863294eae4f7e91ab6377744aaa9d",
            "max_frame": 0,
            "n_components": 10,
            "picked": {},
            "tabbable": null,
            "tooltip": null
          }
        },
        "061e48c24d2b417fac71cf4b95e20458": {
          "model_module": "@jupyter-widgets/base",
          "model_name": "LayoutModel",
          "model_module_version": "2.0.0",
          "state": {
            "_model_module": "@jupyter-widgets/base",
            "_model_module_version": "2.0.0",
            "_model_name": "LayoutModel",
            "_view_count": null,
            "_view_module": "@jupyter-widgets/base",
            "_view_module_version": "2.0.0",
            "_view_name": "LayoutView",
            "align_content": null,
            "align_items": null,
            "align_self": null,
            "border_bottom": null,
            "border_left": null,
            "border_right": null,
            "border_top": null,
            "bottom": null,
            "display": null,
            "flex": null,
            "flex_flow": null,
            "grid_area": null,
            "grid_auto_columns": null,
            "grid_auto_flow": null,
            "grid_auto_rows": null,
            "grid_column": null,
            "grid_gap": null,
            "grid_row": null,
            "grid_template_areas": null,
            "grid_template_columns": null,
            "grid_template_rows": null,
            "height": null,
            "justify_content": null,
            "justify_items": null,
            "left": null,
            "margin": null,
            "max_height": null,
            "max_width": null,
            "min_height": null,
            "min_width": null,
            "object_fit": null,
            "object_position": null,
            "order": null,
            "overflow": null,
            "padding": null,
            "right": null,
            "top": null,
            "visibility": null,
            "width": null
          }
        },
        "6f92095bc8af4a979aa6b222c89404be": {
          "model_module": "@jupyter-widgets/controls",
          "model_name": "DescriptionStyleModel",
          "model_module_version": "2.0.0",
          "state": {
            "_model_module": "@jupyter-widgets/controls",
            "_model_module_version": "2.0.0",
            "_model_name": "DescriptionStyleModel",
            "_view_count": null,
            "_view_module": "@jupyter-widgets/base",
            "_view_module_version": "2.0.0",
            "_view_name": "StyleView",
            "description_width": ""
          }
        },
        "9908fbc3c0c840de8f748548ba080fbe": {
          "model_module": "@jupyter-widgets/base",
          "model_name": "LayoutModel",
          "model_module_version": "2.0.0",
          "state": {
            "_model_module": "@jupyter-widgets/base",
            "_model_module_version": "2.0.0",
            "_model_name": "LayoutModel",
            "_view_count": null,
            "_view_module": "@jupyter-widgets/base",
            "_view_module_version": "2.0.0",
            "_view_name": "LayoutView",
            "align_content": null,
            "align_items": null,
            "align_self": null,
            "border_bottom": null,
            "border_left": null,
            "border_right": null,
            "border_top": null,
            "bottom": null,
            "display": null,
            "flex": null,
            "flex_flow": null,
            "grid_area": null,
            "grid_auto_columns": null,
            "grid_auto_flow": null,
            "grid_auto_rows": null,
            "grid_column": null,
            "grid_gap": null,
            "grid_row": null,
            "grid_template_areas": null,
            "grid_template_columns": null,
            "grid_template_rows": null,
            "height": null,
            "justify_content": null,
            "justify_items": null,
            "left": null,
            "margin": null,
            "max_height": null,
            "max_width": null,
            "min_height": null,
            "min_width": null,
            "object_fit": null,
            "object_position": null,
            "order": null,
            "overflow": null,
            "padding": null,
            "right": null,
            "top": null,
            "visibility": null,
            "width": null
          }
        },
        "5f743e6c51654f0a9424aab718c06c1b": {
          "model_module": "@jupyter-widgets/controls",
          "model_name": "SliderStyleModel",
          "model_module_version": "2.0.0",
          "state": {
            "_model_module": "@jupyter-widgets/controls",
            "_model_module_version": "2.0.0",
            "_model_name": "SliderStyleModel",
            "_view_count": null,
            "_view_module": "@jupyter-widgets/base",
            "_view_module_version": "2.0.0",
            "_view_name": "StyleView",
            "description_width": "",
            "handle_color": null
          }
        },
        "150863294eae4f7e91ab6377744aaa9d": {
          "model_module": "@jupyter-widgets/base",
          "model_name": "LayoutModel",
          "model_module_version": "2.0.0",
          "state": {
            "_model_module": "@jupyter-widgets/base",
            "_model_module_version": "2.0.0",
            "_model_name": "LayoutModel",
            "_view_count": null,
            "_view_module": "@jupyter-widgets/base",
            "_view_module_version": "2.0.0",
            "_view_name": "LayoutView",
            "align_content": null,
            "align_items": null,
            "align_self": null,
            "border_bottom": null,
            "border_left": null,
            "border_right": null,
            "border_top": null,
            "bottom": null,
            "display": null,
            "flex": null,
            "flex_flow": null,
            "grid_area": null,
            "grid_auto_columns": null,
            "grid_auto_flow": null,
            "grid_auto_rows": null,
            "grid_column": null,
            "grid_gap": null,
            "grid_row": null,
            "grid_template_areas": null,
            "grid_template_columns": null,
            "grid_template_rows": null,
            "height": null,
            "justify_content": null,
            "justify_items": null,
            "left": null,
            "margin": null,
            "max_height": null,
            "max_width": null,
            "min_height": null,
            "min_width": null,
            "object_fit": null,
            "object_position": null,
            "order": null,
            "overflow": null,
            "padding": null,
            "right": null,
            "top": null,
            "visibility": null,
            "width": null
          }
        },
        "db1f52afd07a4e0da5c565795b614f0d": {
          "model_module": "@jupyter-widgets/controls",
          "model_name": "ButtonModel",
          "model_module_version": "2.0.0",
          "state": {
            "_dom_classes": [],
            "_model_module": "@jupyter-widgets/controls",
            "_model_module_version": "2.0.0",
            "_model_name": "ButtonModel",
            "_view_count": null,
            "_view_module": "@jupyter-widgets/controls",
            "_view_module_version": "2.0.0",
            "_view_name": "ButtonView",
            "button_style": "",
            "description": "",
            "disabled": false,
            "icon": "compress",
            "layout": "IPY_MODEL_cf0436650fd64f9a9449c50d5cd0879e",
            "style": "IPY_MODEL_353dd40802a64691b36e05bf447413fe",
            "tabbable": null,
            "tooltip": null
          }
        },
        "7384a78cec6140db995cede9a90a5fd3": {
          "model_module": "@jupyter-widgets/controls",
          "model_name": "HBoxModel",
          "model_module_version": "2.0.0",
          "state": {
            "_dom_classes": [],
            "_model_module": "@jupyter-widgets/controls",
            "_model_module_version": "2.0.0",
            "_model_name": "HBoxModel",
            "_view_count": null,
            "_view_module": "@jupyter-widgets/controls",
            "_view_module_version": "2.0.0",
            "_view_name": "HBoxView",
            "box_style": "",
            "children": [
              "IPY_MODEL_188117b6e2124e4b9e6fd4e651062457",
              "IPY_MODEL_e71e41a8dc7f46508271e330ae557fde"
            ],
            "layout": "IPY_MODEL_b897211714984e29803907802e5874f9",
            "tabbable": null,
            "tooltip": null
          }
        },
        "cf0436650fd64f9a9449c50d5cd0879e": {
          "model_module": "@jupyter-widgets/base",
          "model_name": "LayoutModel",
          "model_module_version": "2.0.0",
          "state": {
            "_model_module": "@jupyter-widgets/base",
            "_model_module_version": "2.0.0",
            "_model_name": "LayoutModel",
            "_view_count": null,
            "_view_module": "@jupyter-widgets/base",
            "_view_module_version": "2.0.0",
            "_view_name": "LayoutView",
            "align_content": null,
            "align_items": null,
            "align_self": null,
            "border_bottom": null,
            "border_left": null,
            "border_right": null,
            "border_top": null,
            "bottom": null,
            "display": null,
            "flex": null,
            "flex_flow": null,
            "grid_area": null,
            "grid_auto_columns": null,
            "grid_auto_flow": null,
            "grid_auto_rows": null,
            "grid_column": null,
            "grid_gap": null,
            "grid_row": null,
            "grid_template_areas": null,
            "grid_template_columns": null,
            "grid_template_rows": null,
            "height": null,
            "justify_content": null,
            "justify_items": null,
            "left": null,
            "margin": null,
            "max_height": null,
            "max_width": null,
            "min_height": null,
            "min_width": null,
            "object_fit": null,
            "object_position": null,
            "order": null,
            "overflow": null,
            "padding": null,
            "right": null,
            "top": null,
            "visibility": null,
            "width": "34px"
          }
        },
        "353dd40802a64691b36e05bf447413fe": {
          "model_module": "@jupyter-widgets/controls",
          "model_name": "ButtonStyleModel",
          "model_module_version": "2.0.0",
          "state": {
            "_model_module": "@jupyter-widgets/controls",
            "_model_module_version": "2.0.0",
            "_model_name": "ButtonStyleModel",
            "_view_count": null,
            "_view_module": "@jupyter-widgets/base",
            "_view_module_version": "2.0.0",
            "_view_name": "StyleView",
            "button_color": null,
            "font_family": null,
            "font_size": null,
            "font_style": null,
            "font_variant": null,
            "font_weight": null,
            "text_color": null,
            "text_decoration": null
          }
        },
        "b897211714984e29803907802e5874f9": {
          "model_module": "@jupyter-widgets/base",
          "model_name": "LayoutModel",
          "model_module_version": "2.0.0",
          "state": {
            "_model_module": "@jupyter-widgets/base",
            "_model_module_version": "2.0.0",
            "_model_name": "LayoutModel",
            "_view_count": null,
            "_view_module": "@jupyter-widgets/base",
            "_view_module_version": "2.0.0",
            "_view_name": "LayoutView",
            "align_content": null,
            "align_items": null,
            "align_self": null,
            "border_bottom": null,
            "border_left": null,
            "border_right": null,
            "border_top": null,
            "bottom": null,
            "display": null,
            "flex": null,
            "flex_flow": null,
            "grid_area": null,
            "grid_auto_columns": null,
            "grid_auto_flow": null,
            "grid_auto_rows": null,
            "grid_column": null,
            "grid_gap": null,
            "grid_row": null,
            "grid_template_areas": null,
            "grid_template_columns": null,
            "grid_template_rows": null,
            "height": null,
            "justify_content": null,
            "justify_items": null,
            "left": null,
            "margin": null,
            "max_height": null,
            "max_width": null,
            "min_height": null,
            "min_width": null,
            "object_fit": null,
            "object_position": null,
            "order": null,
            "overflow": null,
            "padding": null,
            "right": null,
            "top": null,
            "visibility": null,
            "width": null
          }
        }
      }
    }
  },
  "nbformat": 4,
  "nbformat_minor": 0
}