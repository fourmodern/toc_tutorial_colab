{
  "nbformat": 4,
  "nbformat_minor": 0,
  "metadata": {
    "colab": {
      "provenance": [],
      "gpuType": "T4",
      "authorship_tag": "ABX9TyM2Rc4I7A9NKETAmuXPHTRn",
      "include_colab_link": true
    },
    "kernelspec": {
      "name": "python3",
      "display_name": "Python 3"
    },
    "language_info": {
      "name": "python"
    },
    "accelerator": "GPU"
  },
  "cells": [
    {
      "cell_type": "markdown",
      "metadata": {
        "id": "view-in-github",
        "colab_type": "text"
      },
      "source": [
        "<a href=\"https://colab.research.google.com/github/fourmodern/toc_tutorial_colab/blob/main/teachopencadd/t060_vae.ipynb\" target=\"_parent\"><img src=\"https://colab.research.google.com/assets/colab-badge.svg\" alt=\"Open In Colab\"/></a>"
      ]
    },
    {
      "cell_type": "code",
      "execution_count": 1,
      "metadata": {
        "colab": {
          "base_uri": "https://localhost:8080/"
        },
        "id": "9tfqDTSV902j",
        "outputId": "b342437b-6d37-4ee4-8e56-e42b2ab2ac8b"
      },
      "outputs": [
        {
          "output_type": "stream",
          "name": "stdout",
          "text": [
            "Collecting rdkit-pypi\n",
            "  Downloading rdkit_pypi-2022.9.5-cp310-cp310-manylinux_2_17_x86_64.manylinux2014_x86_64.whl.metadata (3.9 kB)\n",
            "Requirement already satisfied: numpy in /usr/local/lib/python3.10/dist-packages (from rdkit-pypi) (1.26.4)\n",
            "Requirement already satisfied: Pillow in /usr/local/lib/python3.10/dist-packages (from rdkit-pypi) (10.4.0)\n",
            "Downloading rdkit_pypi-2022.9.5-cp310-cp310-manylinux_2_17_x86_64.manylinux2014_x86_64.whl (29.4 MB)\n",
            "\u001b[2K   \u001b[90m━━━━━━━━━━━━━━━━━━━━━━━━━━━━━━━━━━━━━━━━\u001b[0m \u001b[32m29.4/29.4 MB\u001b[0m \u001b[31m30.7 MB/s\u001b[0m eta \u001b[36m0:00:00\u001b[0m\n",
            "\u001b[?25hInstalling collected packages: rdkit-pypi\n",
            "Successfully installed rdkit-pypi-2022.9.5\n"
          ]
        }
      ],
      "source": [
        "!pip install rdkit-pypi"
      ]
    },
    {
      "cell_type": "code",
      "source": [
        "import pandas as pd\n",
        "import numpy as np\n",
        "import torch\n",
        "import torch.nn as nn\n",
        "import torch.optim as optim\n",
        "from torch.utils.data import Dataset, DataLoader\n",
        "from rdkit import Chem\n",
        "from rdkit.Chem import BondType\n",
        "from sklearn.model_selection import train_test_split"
      ],
      "metadata": {
        "id": "3orKgAE197KH"
      },
      "execution_count": 2,
      "outputs": []
    },
    {
      "cell_type": "code",
      "source": [
        "# 하이퍼파라미터 설정\n",
        "MAX_MOLSIZE = 120  # 최대 원자 수\n",
        "ATOM_DIM = 11  # 원자 종류 수\n",
        "BOND_DIM = 5  # 결합 종류 수 (단일, 이중, 삼중, 방향족, 없음)\n",
        "LATENT_DIM = 435  # 잠재 공간 크기\n",
        "BATCH_SIZE = 100\n",
        "EPOCHS = 10\n",
        "LEARNING_RATE = 5e-4\n",
        "\n",
        "# SMILES 문자 집합 정의\n",
        "SMILE_CHARSET = [\"C\", \"B\", \"F\", \"I\", \"H\", \"O\", \"N\", \"S\", \"P\", \"Cl\", \"Br\"]\n",
        "SMILE_TO_INDEX = {char: idx for idx, char in enumerate(SMILE_CHARSET)}\n",
        "INDEX_TO_SMILE = {idx: char for idx, char in enumerate(SMILE_CHARSET)}\n",
        "\n",
        "# 결합 종류 매핑\n",
        "BOND_MAPPING = {\n",
        "    \"SINGLE\": 0,\n",
        "    \"DOUBLE\": 1,\n",
        "    \"TRIPLE\": 2,\n",
        "    \"AROMATIC\": 3,\n",
        "    0: BondType.SINGLE,\n",
        "    1: BondType.DOUBLE,\n",
        "    2: BondType.TRIPLE,\n",
        "    3: BondType.AROMATIC,\n",
        "}"
      ],
      "metadata": {
        "id": "LMJd0v4l991b"
      },
      "execution_count": 3,
      "outputs": []
    },
    {
      "cell_type": "code",
      "source": [
        "# SMILES를 그래프로 변환하는 함수\n",
        "def smiles_to_graph(smiles):\n",
        "    molecule = Chem.MolFromSmiles(smiles)\n",
        "    adjacency = np.zeros((BOND_DIM, MAX_MOLSIZE, MAX_MOLSIZE), dtype=np.float32)\n",
        "    features = np.zeros((MAX_MOLSIZE, ATOM_DIM), dtype=np.float32)\n",
        "\n",
        "    for atom in molecule.GetAtoms():\n",
        "        i = atom.GetIdx()\n",
        "        atom_type = SMILE_TO_INDEX.get(atom.GetSymbol(), ATOM_DIM - 1)\n",
        "        features[i, atom_type] = 1.0\n",
        "\n",
        "        for neighbor in atom.GetNeighbors():\n",
        "            j = neighbor.GetIdx()\n",
        "            bond = molecule.GetBondBetweenAtoms(i, j)\n",
        "            bond_type_idx = BOND_MAPPING[bond.GetBondType().name]\n",
        "            adjacency[bond_type_idx, i, j] = 1\n",
        "            adjacency[bond_type_idx, j, i] = 1\n",
        "\n",
        "    # 결합이 없는 부분에 대해 마지막 채널을 1로 설정\n",
        "    adjacency[-1, np.sum(adjacency, axis=0) == 0] = 1\n",
        "    # 원자가 없는 부분에 대해 마지막 열을 1로 설정\n",
        "    features[np.sum(features, axis=1) == 0, -1] = 1\n",
        "\n",
        "    return adjacency, features"
      ],
      "metadata": {
        "id": "qtml2OV8-EEh"
      },
      "execution_count": 4,
      "outputs": []
    },
    {
      "cell_type": "code",
      "source": [
        "# 데이터셋 클래스 정의\n",
        "class MoleculeDataset(Dataset):\n",
        "    def __init__(self, smiles_list):\n",
        "        self.smiles_list = smiles_list\n",
        "\n",
        "    def __len__(self):\n",
        "        return len(self.smiles_list)\n",
        "\n",
        "    def __getitem__(self, idx):\n",
        "        smiles = self.smiles_list[idx]\n",
        "        adjacency, features = smiles_to_graph(smiles)\n",
        "        return torch.tensor(adjacency), torch.tensor(features)"
      ],
      "metadata": {
        "id": "FDe07WVw-Ito"
      },
      "execution_count": 5,
      "outputs": []
    },
    {
      "cell_type": "code",
      "source": [
        "# VAE 모델 정의\n",
        "class VAE(nn.Module):\n",
        "    def __init__(self):\n",
        "        super(VAE, self).__init__()\n",
        "        self.encoder = nn.Sequential(\n",
        "            nn.Linear(ATOM_DIM * MAX_MOLSIZE + BOND_DIM * MAX_MOLSIZE * MAX_MOLSIZE, 1024),\n",
        "            nn.ReLU(),\n",
        "            nn.Linear(1024, 512),\n",
        "            nn.ReLU(),\n",
        "            nn.Linear(512, LATENT_DIM * 2),  # mean과 logvar를 위한 2배 크기\n",
        "        )\n",
        "        self.decoder = nn.Sequential(\n",
        "            nn.Linear(LATENT_DIM, 512),\n",
        "            nn.ReLU(),\n",
        "            nn.Linear(512, 1024),\n",
        "            nn.ReLU(),\n",
        "            nn.Linear(1024, ATOM_DIM * MAX_MOLSIZE + BOND_DIM * MAX_MOLSIZE * MAX_MOLSIZE),\n",
        "            nn.Sigmoid(),\n",
        "        )\n",
        "\n",
        "    def encode(self, x):\n",
        "        h = self.encoder(x)\n",
        "        mean, logvar = torch.chunk(h, 2, dim=-1)\n",
        "        return mean, logvar\n",
        "\n",
        "    def reparameterize(self, mean, logvar):\n",
        "        std = torch.exp(0.5 * logvar)\n",
        "        eps = torch.randn_like(std)\n",
        "        return mean + eps * std\n",
        "\n",
        "    def decode(self, z):\n",
        "        return self.decoder(z)\n",
        "\n",
        "    def forward(self, x):\n",
        "        mean, logvar = self.encode(x)\n",
        "        z = self.reparameterize(mean, logvar)\n",
        "        recon_x = self.decode(z)\n",
        "        return recon_x, mean, logvar"
      ],
      "metadata": {
        "id": "tvCKwb74-M7U"
      },
      "execution_count": 6,
      "outputs": []
    },
    {
      "cell_type": "code",
      "source": [
        "# 손실 함수 정의\n",
        "def loss_function(recon_x, x, mean, logvar):\n",
        "    BCE = nn.BCELoss(reduction='sum')(recon_x, x)\n",
        "    KLD = -0.5 * torch.sum(1 + logvar - mean.pow(2) - logvar.exp())\n",
        "    return BCE + KLD"
      ],
      "metadata": {
        "id": "zN-eLXun-SvS"
      },
      "execution_count": 7,
      "outputs": []
    },
    {
      "cell_type": "code",
      "source": [
        "# 데이터 로드 및 전처리\n",
        "import os\n",
        "import requests\n",
        "\n",
        "# 데이터 다운로드\n",
        "url = \"https://raw.githubusercontent.com/aspuru-guzik-group/chemical_vae/master/models/zinc_properties/250k_rndm_zinc_drugs_clean_3.csv\"\n",
        "filename = \"250k_rndm_zinc_drugs_clean_3.csv\"\n",
        "\n",
        "if not os.path.exists(filename):\n",
        "    response = requests.get(url)\n",
        "    with open(filename, 'wb') as file:\n",
        "        file.write(response.content)\n",
        "\n",
        "# 데이터 로드\n",
        "df = pd.read_csv(filename)\n",
        "smiles_list = df['smiles'].values\n",
        "train_smiles, test_smiles = train_test_split(smiles_list, test_size=0.1, random_state=42)\n",
        "\n",
        "train_dataset = MoleculeDataset(train_smiles)\n",
        "test_dataset = MoleculeDataset(test_smiles)\n",
        "train_loader = DataLoader(train_dataset, batch_size=BATCH_SIZE, shuffle=True)\n",
        "test_loader = DataLoader(test_dataset, batch_size=BATCH_SIZE, shuffle=False)"
      ],
      "metadata": {
        "id": "hxPO65WF-XCN"
      },
      "execution_count": 8,
      "outputs": []
    },
    {
      "cell_type": "code",
      "source": [
        "# 모델, 옵티마이저 및 장치 설정\n",
        "device = torch.device('cuda' if torch.cuda.is_available() else 'cpu')\n",
        "model = VAE().to(device)\n",
        "optimizer = optim.Adam(model.parameters(), lr=LEARNING_RATE)"
      ],
      "metadata": {
        "id": "Dz6vLuUh-oDU"
      },
      "execution_count": 9,
      "outputs": []
    },
    {
      "cell_type": "code",
      "source": [
        "# 모델 학습\n",
        "model.train()\n",
        "for epoch in range(EPOCHS):\n",
        "    total_loss = 0\n",
        "    for adjacency, features in train_loader:\n",
        "        adjacency = adjacency.to(device)\n",
        "        features = features.to(device)\n",
        "        optimizer.zero_grad()\n",
        "        x = torch.cat([features.view(features.size(0), -1), adjacency.view(adjacency.size(0), -1)], dim=1)\n",
        "        recon_x, mean, logvar = model(x)\n",
        "        loss = loss_function(recon_x, x, mean, logvar)\n",
        "        loss.backward()\n",
        "        total_loss += loss.item()\n",
        "        optimizer.step()\n",
        "    print(f'Epoch {epoch + 1}, Loss: {total_loss / len(train_loader)}')"
      ],
      "metadata": {
        "colab": {
          "base_uri": "https://localhost:8080/"
        },
        "id": "6L5kLTYi-zu_",
        "outputId": "fc3c0d2d-3ed2-4c04-d1ac-e47af25ea6ee"
      },
      "execution_count": null,
      "outputs": [
        {
          "output_type": "stream",
          "name": "stdout",
          "text": [
            "Epoch 1, Loss: 35950.35744448464\n",
            "Epoch 2, Loss: 25028.74730630061\n",
            "Epoch 3, Loss: 23371.717327984126\n",
            "Epoch 4, Loss: 21603.0854497079\n",
            "Epoch 5, Loss: 20250.13860855714\n",
            "Epoch 6, Loss: 18777.277863119503\n",
            "Epoch 7, Loss: 17344.578938131766\n",
            "Epoch 8, Loss: 16499.90376636373\n",
            "Epoch 9, Loss: 15569.668880961988\n"
          ]
        }
      ]
    },
    {
      "cell_type": "code",
      "source": [
        "# 모델 평가\n",
        "model.eval()\n",
        "with torch.no_grad():\n",
        "    total_loss = 0\n",
        "    for adjacency, features in test_loader:\n",
        "        adjacency = adjacency.to(device)\n",
        "        features = features.to(device)\n",
        "        x = torch.cat([features.view(features.size(0), -1), adjacency.view(adjacency.size(0), -1)], dim=1)\n",
        "        recon_x, mean, logvar = model(x)\n",
        "        loss = loss_function(recon_x, x, mean, logvar)\n",
        "        total_loss += loss.item()\n",
        "    print(f'Test Loss: {total_loss / len(test_loader)}')"
      ],
      "metadata": {
        "id": "DdcGWfbz-52q"
      },
      "execution_count": null,
      "outputs": []
    },
    {
      "cell_type": "code",
      "source": [
        "# 새로운 분자 생성\n",
        "def generate_molecule():\n",
        "    model.eval()\n",
        "    with torch.no_grad():\n",
        "        z = torch.randn(1, LATENT_DIM).to(device)\n",
        "        generated = model.decode(z)\n",
        "        generated = generated.cpu().numpy()\n",
        "        features = generated[:, :ATOM_DIM * MAX_MOLSIZE].reshape(-1, MAX_MOLSIZE, ATOM_DIM)\n",
        "        adjacency = generated[:, ATOM_DIM * MAX_MOLSIZE:].reshape(-1, BOND_DIM, MAX_MOLSIZE, MAX_MOLSIZE)\n",
        "        return adjacency, features"
      ],
      "metadata": {
        "id": "q4O-s1lF_AtL"
      },
      "execution_count": null,
      "outputs": []
    },
    {
      "cell_type": "code",
      "source": [
        "\n",
        "# 생성된 분자를 SMILES로 변환하는 함수\n",
        "def graph_to_smiles(adjacency, features):\n",
        "    molecule = Chem.RWMol()\n",
        "    atom_indices = []\n",
        "    for i in range(MAX_MOLSIZE):\n",
        "        atom_feature = features[0, i]\n",
        "        if atom_feature[-1] == 1:  # '없음' 원자\n",
        "            continue\n",
        "        atom_type_idx = np.argmax(atom_feature)\n",
        "        atom_type = INDEX_TO_SMILE.get(atom_type_idx, 'C')\n",
        "        atom = Chem.Atom(atom_type)\n",
        "        idx = molecule.AddAtom(atom)\n",
        "        atom_indices.append(idx)\n",
        "\n",
        "    for i, idx_i in enumerate(atom_indices):\n",
        "        for j, idx_j in enumerate(atom_indices):\n",
        "            if i >= j:\n",
        "                continue\n",
        "            bond_type_idx = np.argmax(adjacency[0, :, i, j])\n",
        "            if bond_type_idx == BOND_DIM - 1:  # '없음' 결합\n",
        "                continue\n",
        "            bond_type = BOND_MAPPING.get(bond_type_idx, BondType.SINGLE)\n",
        "            molecule.AddBond(idx_i, idx_j, bond_type)\n",
        "\n",
        "    smiles = Chem.MolToSmiles(molecule)\n",
        "    return smiles"
      ],
      "metadata": {
        "id": "-kMhNFdH_NQH"
      },
      "execution_count": null,
      "outputs": []
    },
    {
      "cell_type": "code",
      "source": [
        "# 새로운 분자 생성 및 SMILES 출력\n",
        "adjacency, features = generate_molecule()\n",
        "smiles = graph_to_smiles(adjacency, features)\n",
        "print(f'Generated SMILES: {smiles}')"
      ],
      "metadata": {
        "id": "WWciT6sQ_Ycl"
      },
      "execution_count": null,
      "outputs": []
    }
  ]
}